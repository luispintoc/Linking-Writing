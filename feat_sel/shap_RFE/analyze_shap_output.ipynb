{
 "cells": [
  {
   "cell_type": "code",
   "execution_count": 1,
   "metadata": {},
   "outputs": [],
   "source": [
    "import pandas as pd"
   ]
  },
  {
   "cell_type": "code",
   "execution_count": 12,
   "metadata": {},
   "outputs": [],
   "source": [
    "df = pd.read_csv('./output/rfe_error_4_fold.csv')"
   ]
  },
  {
   "cell_type": "code",
   "execution_count": 13,
   "metadata": {},
   "outputs": [
    {
     "data": {
      "text/plain": [
       "\"['activity_count_paste', 'action_time_mean', 'word_count_max', 'text_change_count_tiny_text_changes', 'cursor_position_mean', 'distance_of_moved_selection_mean', 'distance_of_moved_selection_max', 'size_of_moved_selection_mean', 'size_of_moved_selection_max', 'up_time_fraction_of_time_spent_writing', 'action_time_mean_Input', 'action_time_mean_Move From', 'action_time_mean_Paste', 'action_time_mean_Remove/Cut', 'action_time_mean_Replace', 'action_time_max_Input', 'action_time_max_Move From', 'action_time_max_Nonproduction', 'action_time_max_Paste', 'action_time_max_Remove/Cut', 'action_time_max_Replace', 'action_time_sum_Input', 'action_time_sum_Move From', 'action_time_sum_Nonproduction', 'action_time_sum_Paste', 'action_time_sum_Remove/Cut', 'action_time_sum_Replace', 'action_time_count_Input', 'action_time_count_Move From', 'action_time_count_Nonproduction', 'action_time_count_Paste', 'action_time_count_Remove/Cut', 'action_time_count_Replace', 'Peak Frequency', 'Mean Frequency', 'Median Frequency', 'Bandwidth', 'Frequency Skewness', 'Frequency Kurtosis', 'Total Energy', 'Spectral Entropy', 'Spectral Flatness', 'Spectral Roll-off', 'Mean Amplitude', 'Std Amplitude', 'Skew Amplitude', 'Kurtosis Amplitude']\""
      ]
     },
     "execution_count": 13,
     "metadata": {},
     "output_type": "execute_result"
    }
   ],
   "source": [
    "df.loc[df['rmse_tst'].argmin()]['feats']"
   ]
  }
 ],
 "metadata": {
  "kernelspec": {
   "display_name": "Python 3",
   "language": "python",
   "name": "python3"
  },
  "language_info": {
   "codemirror_mode": {
    "name": "ipython",
    "version": 3
   },
   "file_extension": ".py",
   "mimetype": "text/x-python",
   "name": "python",
   "nbconvert_exporter": "python",
   "pygments_lexer": "ipython3",
   "version": "3.8.10"
  }
 },
 "nbformat": 4,
 "nbformat_minor": 2
}
