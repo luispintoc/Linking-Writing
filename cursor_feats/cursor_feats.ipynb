{
 "cells": [
  {
   "cell_type": "code",
   "execution_count": 18,
   "metadata": {},
   "outputs": [],
   "source": [
    "import numpy as np\n",
    "import pandas as pd\n",
    "import matplotlib.pyplot as plt\n",
    "import plotly.express as px\n",
    "from scipy.fft import fft\n",
    "from skimage import feature\n",
    "import scipy"
   ]
  },
  {
   "cell_type": "code",
   "execution_count": 2,
   "metadata": {},
   "outputs": [],
   "source": [
    "df = pd.read_csv('../data/train_cursor.csv')\n",
    "df['pos'] = df['cursor_position']% 30\n",
    "df['line'] = (df['cursor_position']/30).astype(int)"
   ]
  },
  {
   "cell_type": "code",
   "execution_count": 4,
   "metadata": {},
   "outputs": [],
   "source": [
    "# Optimize the function to calculate top N frequencies and their magnitudes for each 'id' using groupby and apply\n",
    "def calculate_fft(group):\n",
    "    # Perform Fourier Transform on 'pos'\n",
    "    fft_values = fft(group['pos'])[1:]\n",
    "    \n",
    "    # Generate frequencies corresponding to the Fourier Transform values\n",
    "    frequencies = np.fft.fftfreq(len(fft_values), 1)[1:]\n",
    "    \n",
    "    # Take absolute value to get magnitude\n",
    "    fft_magnitude = np.abs(fft_values)\n",
    "    \n",
    "    # Identify indices where the frequencies are positive\n",
    "    positive_indices = np.where(frequencies > 0)[0]\n",
    "    \n",
    "    # Filter out only positive frequencies and skip the zero frequency\n",
    "    positive_frequencies = frequencies[positive_indices]\n",
    "    positive_magnitudes = fft_magnitude[positive_indices]\n",
    "    \n",
    "    # Extract top N positive frequencies and their magnitudes\n",
    "    # top_positive_frequencies = positive_frequencies[np.argsort(positive_magnitudes)[-N:]]\n",
    "    # top_positive_magnitudes = np.sort(positive_magnitudes)[-N:]\n",
    "    \n",
    "    return pd.Series({\n",
    "        'frequencies': list(positive_frequencies),\n",
    "        'magnitudes': list(positive_magnitudes)\n",
    "    })"
   ]
  },
  {
   "cell_type": "code",
   "execution_count": 5,
   "metadata": {},
   "outputs": [],
   "source": [
    "# Use groupby and apply to optimize the calculation\n",
    "df = df.groupby('id').apply(calculate_fft).reset_index()"
   ]
  },
  {
   "cell_type": "code",
   "execution_count": 23,
   "metadata": {},
   "outputs": [
    {
     "data": {
      "text/plain": [
       "(172.74423048857105,\n",
       " 285.02210083300764,\n",
       " 113710.67697961768,\n",
       " 3.710151726911117,\n",
       " 21.459524329234476)"
      ]
     },
     "execution_count": 23,
     "metadata": {},
     "output_type": "execute_result"
    }
   ],
   "source": [
    "image = np.array(df.loc[30]['top_magnitudes'])\n",
    "\n",
    "contrast_manual = np.mean(np.abs(np.diff(image)))\n",
    "\n",
    "# 5. Image Moments\n",
    "# We'll use numpy and scipy.stats to calculate statistical moments\n",
    "mean_moment_manual = np.mean(image)\n",
    "variance_moment_manual = np.var(image)\n",
    "skewness_moment_manual = scipy.stats.skew(image)\n",
    "kurtosis_moment_manual = scipy.stats.kurtosis(image)\n",
    "\n",
    "contrast_manual, mean_moment_manual, variance_moment_manual, skewness_moment_manual, kurtosis_moment_manual"
   ]
  },
  {
   "cell_type": "code",
   "execution_count": 15,
   "metadata": {},
   "outputs": [
    {
     "data": {
      "text/plain": [
       "[<matplotlib.lines.Line2D at 0x246628796a0>]"
      ]
     },
     "execution_count": 15,
     "metadata": {},
     "output_type": "execute_result"
    },
    {
     "data": {
      "image/png": "[encoded data removed]",
      "text/plain": [
       "<Figure size 432x288 with 1 Axes>"
      ]
     },
     "metadata": {
      "needs_background": "light"
     },
     "output_type": "display_data"
    }
   ],
   "source": [
    "idx = 110\n",
    "plt.plot(df.loc[idx]['top_frequencies'], df.loc[idx]['top_magnitudes'])"
   ]
  },
  {
   "cell_type": "code",
   "execution_count": 8,
   "metadata": {},
   "outputs": [
    {
     "data": {
      "text/plain": [
       "(array([1.000e+00, 2.000e+00, 0.000e+00, 0.000e+00, 1.000e+00, 1.000e+00,\n",
       "        2.400e+01, 2.190e+02, 7.170e+02, 1.506e+03]),\n",
       " array([0.49765258, 0.49788344, 0.4981143 , 0.49834516, 0.49857602,\n",
       "        0.49880687, 0.49903773, 0.49926859, 0.49949945, 0.49973031,\n",
       "        0.49996117]),\n",
       " <BarContainer object of 10 artists>)"
      ]
     },
     "execution_count": 8,
     "metadata": {},
     "output_type": "execute_result"
    },
    {
     "data": {
      "image/png": "[encoded data removed]",
      "text/plain": [
       "<Figure size 432x288 with 1 Axes>"
      ]
     },
     "metadata": {
      "needs_background": "light"
     },
     "output_type": "display_data"
    }
   ],
   "source": [
    "plt.hist(df['top_frequencies'].apply(lambda x: np.max(x)))"
   ]
  }
 ],
 "metadata": {
  "kernelspec": {
   "display_name": "Python 3.8.10 64-bit",
   "language": "python",
   "name": "python3"
  },
  "language_info": {
   "codemirror_mode": {
    "name": "ipython",
    "version": 3
   },
   "file_extension": ".py",
   "mimetype": "text/x-python",
   "name": "python",
   "nbconvert_exporter": "python",
   "pygments_lexer": "ipython3",
   "version": "3.8.10"
  },
  "orig_nbformat": 4,
  "vscode": {
   "interpreter": {
    "hash": "6797dce90c9623e66be2bdcbf629f333b8fc32860e3710262eafd0ccdf0f7b85"
   }
  }
 },
 "nbformat": 4,
 "nbformat_minor": 2
}
