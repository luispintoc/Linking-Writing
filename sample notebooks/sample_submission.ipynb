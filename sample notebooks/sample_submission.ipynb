{
 "cells": [
  {
   "cell_type": "code",
   "execution_count": 1,
   "metadata": {},
   "outputs": [],
   "source": [
    "import pandas as pd\n",
    "import numpy as np\n",
    "from sklearn.linear_model import Lasso\n",
    "from sklearn.model_selection import train_test_split\n",
    "from sklearn.preprocessing import StandardScaler"
   ]
  },
  {
   "cell_type": "code",
   "execution_count": 2,
   "metadata": {},
   "outputs": [],
   "source": [
    "# Flag to run locally\n",
    "run_local = True\n",
    "\n",
    "if run_local:\n",
    "    df = pd.read_csv('../data/train_logs.csv')\n",
    "    scores = pd.read_csv('../data/train_scores.csv')\n",
    "    df_test = pd.read_csv('../data/test_logs.csv')\n",
    "else:\n",
    "    df = pd.read_csv('/kaggle/input/linking-writing-processes-to-writing-quality/train_logs.csv')\n",
    "    scores = pd.read_csv('/kaggle/input/linking-writing-processes-to-writing-quality/train_scores.csv')\n",
    "    df_test = pd.read_csv('/kaggle/input/linking-writing-processes-to-writing-quality/test_logs.csv')\n",
    "\n",
    "df = df.merge(scores, on='id')"
   ]
  },
  {
   "cell_type": "code",
   "execution_count": 3,
   "metadata": {},
   "outputs": [
    {
     "data": {
      "text/html": [
       "<div>\n",
       "<style scoped>\n",
       "    .dataframe tbody tr th:only-of-type {\n",
       "        vertical-align: middle;\n",
       "    }\n",
       "\n",
       "    .dataframe tbody tr th {\n",
       "        vertical-align: top;\n",
       "    }\n",
       "\n",
       "    .dataframe thead th {\n",
       "        text-align: right;\n",
       "    }\n",
       "</style>\n",
       "<table border=\"1\" class=\"dataframe\">\n",
       "  <thead>\n",
       "    <tr style=\"text-align: right;\">\n",
       "      <th></th>\n",
       "      <th>id</th>\n",
       "      <th>event_id</th>\n",
       "      <th>down_time</th>\n",
       "      <th>up_time</th>\n",
       "      <th>action_time</th>\n",
       "      <th>activity</th>\n",
       "      <th>down_event</th>\n",
       "      <th>up_event</th>\n",
       "      <th>text_change</th>\n",
       "      <th>cursor_position</th>\n",
       "      <th>word_count</th>\n",
       "      <th>score</th>\n",
       "    </tr>\n",
       "  </thead>\n",
       "  <tbody>\n",
       "    <tr>\n",
       "      <th>0</th>\n",
       "      <td>001519c8</td>\n",
       "      <td>1</td>\n",
       "      <td>4526</td>\n",
       "      <td>4557</td>\n",
       "      <td>31</td>\n",
       "      <td>Nonproduction</td>\n",
       "      <td>Leftclick</td>\n",
       "      <td>Leftclick</td>\n",
       "      <td>NoChange</td>\n",
       "      <td>0</td>\n",
       "      <td>0</td>\n",
       "      <td>3.5</td>\n",
       "    </tr>\n",
       "    <tr>\n",
       "      <th>1</th>\n",
       "      <td>001519c8</td>\n",
       "      <td>2</td>\n",
       "      <td>4558</td>\n",
       "      <td>4962</td>\n",
       "      <td>404</td>\n",
       "      <td>Nonproduction</td>\n",
       "      <td>Leftclick</td>\n",
       "      <td>Leftclick</td>\n",
       "      <td>NoChange</td>\n",
       "      <td>0</td>\n",
       "      <td>0</td>\n",
       "      <td>3.5</td>\n",
       "    </tr>\n",
       "  </tbody>\n",
       "</table>\n",
       "</div>"
      ],
      "text/plain": [
       "         id  event_id  down_time  up_time  action_time       activity  \\\n",
       "0  001519c8         1       4526     4557           31  Nonproduction   \n",
       "1  001519c8         2       4558     4962          404  Nonproduction   \n",
       "\n",
       "  down_event   up_event text_change  cursor_position  word_count  score  \n",
       "0  Leftclick  Leftclick    NoChange                0           0    3.5  \n",
       "1  Leftclick  Leftclick    NoChange                0           0    3.5  "
      ]
     },
     "execution_count": 3,
     "metadata": {},
     "output_type": "execute_result"
    }
   ],
   "source": [
    "df.head(2)"
   ]
  },
  {
   "cell_type": "code",
   "execution_count": 14,
   "metadata": {},
   "outputs": [],
   "source": [
    "def raw_aggregation_functions(df):\n",
    "\n",
    "    typing_features = df.groupby('id').agg({\n",
    "    'activity': 'count',                # Total number of activities\n",
    "    'action_time': ['sum', 'mean'],     # Total and average action time\n",
    "    'word_count': 'max',                # Maximum word count\n",
    "    'text_change': 'nunique',           # Number of unique text changes\n",
    "    'cursor_position': 'mean'           # Average cursor position\n",
    "    })\n",
    "\n",
    "    # Flatten the multi-level column index\n",
    "    typing_features.columns = ['_'.join(col).strip() for col in typing_features.columns.values]\n",
    "\n",
    "    return typing_features"
   ]
  },
  {
   "cell_type": "code",
   "execution_count": 5,
   "metadata": {},
   "outputs": [],
   "source": [
    "def preprocessing(df, df_test, scale_needed=True):\n",
    "    \"\"\"\n",
    "    Preprocesses the input dataframes for training and testing.\n",
    "    \"\"\"\n",
    "\n",
    "    X_train = pd.DataFrame({'id': df['id'].unique()})\n",
    "    y_train = df.groupby('id')['score'].first().reset_index(drop=True)\n",
    "    X_test = pd.DataFrame({'id': df_test['id'].unique()})\n",
    "\n",
    "    # Feature engineering\n",
    "    agg_train_list = []\n",
    "    agg_test_list = []\n",
    "\n",
    "    # Aggregate and collect features without merging\n",
    "    for func in [raw_aggregation_functions]:\n",
    "        agg_train = func(df)\n",
    "        agg_test = func(df_test)\n",
    "\n",
    "        # Check if the index name is 'id'\n",
    "        if agg_train.index.name != 'id' or agg_test.index.name != 'id':\n",
    "            raise ValueError(\"The index must be 'id' for aggregation functions.\")\n",
    "        \n",
    "        agg_train_list.append(agg_train)\n",
    "        agg_test_list.append(agg_test)\n",
    "\n",
    "    # Concatenate all aggregated features horizontally, aligned by index\n",
    "    agg_train = pd.concat(agg_train_list, axis=1)\n",
    "    agg_test = pd.concat(agg_test_list, axis=1)\n",
    "\n",
    "    # Reset index before merge\n",
    "    agg_train.reset_index(inplace=True)\n",
    "    agg_test.reset_index(inplace=True)\n",
    "\n",
    "    # Perform a single merge operation\n",
    "    X_train = X_train.merge(agg_train, on='id', how='left')\n",
    "    X_test = X_test.merge(agg_test, on='id', how='left')\n",
    "\n",
    "    # Remove 'id' column before scaling\n",
    "    X_train_ids = X_train['id']\n",
    "    X_train = X_train.drop(columns=['id'])\n",
    "    X_test_ids = X_test['id']\n",
    "    X_test = X_test.drop(columns=['id'])\n",
    "\n",
    "    # Standardize features\n",
    "    if scale_needed:\n",
    "        scaler = StandardScaler()\n",
    "        X_train = scaler.fit_transform(X_train)\n",
    "        X_test = scaler.transform(X_test)\n",
    "    \n",
    "    return X_train, X_train_ids, y_train, X_test, X_test_ids"
   ]
  },
  {
   "cell_type": "code",
   "execution_count": 6,
   "metadata": {},
   "outputs": [],
   "source": [
    "def train(X_train, y_train):\n",
    "    \"\"\"\n",
    "    Trains a regression model.\n",
    "    \"\"\"\n",
    "\n",
    "    X_train, X_val, y_train, y_val = train_test_split(X_train, y_train, test_size=0.2, random_state=42)\n",
    "\n",
    "    model = Lasso(alpha=0.1)\n",
    "    model.fit(X_train, y_train)\n",
    "\n",
    "    return model"
   ]
  },
  {
   "cell_type": "code",
   "execution_count": 7,
   "metadata": {},
   "outputs": [],
   "source": [
    "# Prediction\n",
    "def predict(model, X_test):\n",
    "    \"\"\"\n",
    "    Makes predictions using the trained model.\n",
    "    \"\"\"\n",
    "\n",
    "    preds = model.predict(X_test)\n",
    "    \n",
    "    return preds"
   ]
  },
  {
   "cell_type": "code",
   "execution_count": 8,
   "metadata": {},
   "outputs": [],
   "source": [
    "def submit(X_test_ids, preds):\n",
    "    try:\n",
    "        # Check if X_test_ids and preds have the same length\n",
    "        if len(X_test_ids) != len(preds):\n",
    "            raise ValueError(\"The lengths of X_test_ids and preds must match.\")\n",
    "        \n",
    "        # Create a submission file\n",
    "        submission = pd.DataFrame({'id': X_test_ids, 'score': preds})\n",
    "        submission.to_csv('./submission.csv', index=False)\n",
    "        print('Submitted')\n",
    "\n",
    "    except ValueError as e:\n",
    "        print(f\"Error: {e}\")"
   ]
  },
  {
   "cell_type": "code",
   "execution_count": 9,
   "metadata": {},
   "outputs": [
    {
     "name": "stdout",
     "output_type": "stream",
     "text": [
      "Submitted\n"
     ]
    }
   ],
   "source": [
    "X_train, X_train_ids, y_train, X_test, X_test_ids = preprocessing(df, df_test, scale_needed=True)\n",
    "model = train(X_train, y_train)\n",
    "preds = predict(model, X_test)\n",
    "submit(X_test_ids, preds)"
   ]
  }
 ],
 "metadata": {
  "kernelspec": {
   "display_name": "Python 3",
   "language": "python",
   "name": "python3"
  },
  "language_info": {
   "codemirror_mode": {
    "name": "ipython",
    "version": 3
   },
   "file_extension": ".py",
   "mimetype": "text/x-python",
   "name": "python",
   "nbconvert_exporter": "python",
   "pygments_lexer": "ipython3",
   "version": "3.8.10"
  }
 },
 "nbformat": 4,
 "nbformat_minor": 2
}
