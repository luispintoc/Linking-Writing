{
 "cells": [
  {
   "cell_type": "markdown",
   "metadata": {},
   "source": [
    "#### Using info from yuji96/reproduce-essay.ipynb"
   ]
  },
  {
   "cell_type": "code",
   "execution_count": 1,
   "metadata": {},
   "outputs": [],
   "source": [
    "import textwrap\n",
    "import re\n",
    "import pandas as pd"
   ]
  },
  {
   "cell_type": "code",
   "execution_count": 2,
   "metadata": {},
   "outputs": [],
   "source": [
    "df = pd.read_csv(\"../data/train_logs.csv\")"
   ]
  },
  {
   "cell_type": "code",
   "execution_count": 3,
   "metadata": {},
   "outputs": [],
   "source": [
    "def print_essay(s, width=100):\n",
    "    print(\n",
    "        \"\\n\".join(\n",
    "            textwrap.wrap(\n",
    "                s, width=width, break_long_words=False, replace_whitespace=False\n",
    "            )\n",
    "        )\n",
    "    )"
   ]
  },
  {
   "cell_type": "code",
   "execution_count": 4,
   "metadata": {},
   "outputs": [
    {
     "ename": "SyntaxError",
     "evalue": "invalid syntax (1527211236.py, line 8)",
     "output_type": "error",
     "traceback": [
      "\u001b[1;36m  Input \u001b[1;32mIn [4]\u001b[1;36m\u001b[0m\n\u001b[1;33m    match row[\"activity\"]:\u001b[0m\n\u001b[1;37m          ^\u001b[0m\n\u001b[1;31mSyntaxError\u001b[0m\u001b[1;31m:\u001b[0m invalid syntax\n"
     ]
    }
   ],
   "source": [
    "def extract_essay(df):\n",
    "    essay=''\n",
    "    pos=0\n",
    "\n",
    "    print(df)\n",
    "\n",
    "    for _, row in df.iterrows():\n",
    "        match row[\"activity\"]:\n",
    "            case \"Nonproduction\":\n",
    "                pass\n",
    "            case \"Input\" | \"Paste\":\n",
    "                # qqqq|q - ZZZ -> qqqqZZZ|q\n",
    "                essay = essay[:pos] + row[\"text_change\"] + essay[pos:]\n",
    "            case \"Remove/Cut\":\n",
    "                # qqqqZZZ|q - ZZZ -> qqqq|q\n",
    "                essay = essay[: pos - len(row[\"text_change\"])] + essay[pos:]\n",
    "            case \"Replace\":\n",
    "                # qqZZZ|qqq -> ZZZ-YYY -> qqYYY|qqq\n",
    "                # The replacement position seems to always be just before the cursor.\n",
    "                before, after = row[\"text_change\"].split(\" => \")\n",
    "                essay = essay[: pos - len(before)] + after + essay[pos:]\n",
    "            case _:\n",
    "                # Move\n",
    "                if row[\"activity\"].startswith(\"Move\"):\n",
    "                    # qq|ZZZ|q -> qq|AAA|q -> q|ZZZ|q|AAA|q -> q|ZZZ|qq\n",
    "                    a, b, c, d = map(\n",
    "                        int,\n",
    "                        re.match(\n",
    "                            r\"Move From \\[(\\d+), (\\d+)\\] To \\[(\\d+), (\\d+)\\]\",\n",
    "                            row[\"activity\"],\n",
    "                        ).groups(),\n",
    "                    )\n",
    "                    moving = essay[a:b]\n",
    "                    essay = essay[:a] + \"A\" * (b - a) + essay[b:]\n",
    "                    essay = essay[:c] + moving + essay[c:]\n",
    "                    essay = essay.replace(\"A\", \"\")\n",
    "                # Error\n",
    "                else:\n",
    "                    raise\n",
    "\n",
    "    return essay\n"
   ]
  },
  {
   "cell_type": "code",
   "execution_count": null,
   "metadata": {},
   "outputs": [
    {
     "ename": "MemoryError",
     "evalue": "",
     "output_type": "error",
     "traceback": [
      "\u001b[1;31m---------------------------------------------------------------------------\u001b[0m",
      "\u001b[1;31mMemoryError\u001b[0m                               Traceback (most recent call last)",
      "\u001b[1;32mc:\\Users\\lselm\\OneDrive\\Documents\\Repos\\Kaggle\\Linking-Writing\\feature_eng\\3_essay_reconstruction.ipynb Cell 6\u001b[0m line \u001b[0;36m1\n\u001b[1;32m----> <a href='vscode-notebook-cell:/c%3A/Users/lselm/OneDrive/Documents/Repos/Kaggle/Linking-Writing/feature_eng/3_essay_reconstruction.ipynb#X21sZmlsZQ%3D%3D?line=0'>1</a>\u001b[0m test \u001b[39m=\u001b[39m df\u001b[39m.\u001b[39;49mgroupby(\u001b[39m'\u001b[39;49m\u001b[39mid\u001b[39;49m\u001b[39m'\u001b[39;49m)\u001b[39m.\u001b[39;49mapply(extract_essay)\n",
      "File \u001b[1;32mc:\\Users\\lselm\\OneDrive\\Documents\\Repos\\Kaggle\\Linking-Writing\\venv\\lib\\site-packages\\pandas\\core\\groupby\\groupby.py:1766\u001b[0m, in \u001b[0;36mGroupBy.apply\u001b[1;34m(self, func, *args, **kwargs)\u001b[0m\n\u001b[0;32m   1764\u001b[0m \u001b[39mwith\u001b[39;00m option_context(\u001b[39m\"\u001b[39m\u001b[39mmode.chained_assignment\u001b[39m\u001b[39m\"\u001b[39m, \u001b[39mNone\u001b[39;00m):\n\u001b[0;32m   1765\u001b[0m     \u001b[39mtry\u001b[39;00m:\n\u001b[1;32m-> 1766\u001b[0m         result \u001b[39m=\u001b[39m \u001b[39mself\u001b[39;49m\u001b[39m.\u001b[39;49m_python_apply_general(f, \u001b[39mself\u001b[39;49m\u001b[39m.\u001b[39;49m_selected_obj)\n\u001b[0;32m   1767\u001b[0m     \u001b[39mexcept\u001b[39;00m \u001b[39mTypeError\u001b[39;00m:\n\u001b[0;32m   1768\u001b[0m         \u001b[39m# gh-20949\u001b[39;00m\n\u001b[0;32m   1769\u001b[0m         \u001b[39m# try again, with .apply acting as a filtering\u001b[39;00m\n\u001b[1;32m   (...)\u001b[0m\n\u001b[0;32m   1773\u001b[0m         \u001b[39m# fails on *some* columns, e.g. a numeric operation\u001b[39;00m\n\u001b[0;32m   1774\u001b[0m         \u001b[39m# on a string grouper column\u001b[39;00m\n\u001b[0;32m   1776\u001b[0m         \u001b[39mreturn\u001b[39;00m \u001b[39mself\u001b[39m\u001b[39m.\u001b[39m_python_apply_general(f, \u001b[39mself\u001b[39m\u001b[39m.\u001b[39m_obj_with_exclusions)\n",
      "File \u001b[1;32mc:\\Users\\lselm\\OneDrive\\Documents\\Repos\\Kaggle\\Linking-Writing\\venv\\lib\\site-packages\\pandas\\core\\groupby\\groupby.py:1815\u001b[0m, in \u001b[0;36mGroupBy._python_apply_general\u001b[1;34m(self, f, data, not_indexed_same, is_transform, is_agg)\u001b[0m\n\u001b[0;32m   1780\u001b[0m \u001b[39m@final\u001b[39m\n\u001b[0;32m   1781\u001b[0m \u001b[39mdef\u001b[39;00m \u001b[39m_python_apply_general\u001b[39m(\n\u001b[0;32m   1782\u001b[0m     \u001b[39mself\u001b[39m,\n\u001b[1;32m   (...)\u001b[0m\n\u001b[0;32m   1787\u001b[0m     is_agg: \u001b[39mbool\u001b[39m \u001b[39m=\u001b[39m \u001b[39mFalse\u001b[39;00m,\n\u001b[0;32m   1788\u001b[0m ) \u001b[39m-\u001b[39m\u001b[39m>\u001b[39m NDFrameT:\n\u001b[0;32m   1789\u001b[0m \u001b[39m    \u001b[39m\u001b[39m\"\"\"\u001b[39;00m\n\u001b[0;32m   1790\u001b[0m \u001b[39m    Apply function f in python space\u001b[39;00m\n\u001b[0;32m   1791\u001b[0m \n\u001b[1;32m   (...)\u001b[0m\n\u001b[0;32m   1813\u001b[0m \u001b[39m        data after applying f\u001b[39;00m\n\u001b[0;32m   1814\u001b[0m \u001b[39m    \"\"\"\u001b[39;00m\n\u001b[1;32m-> 1815\u001b[0m     values, mutated \u001b[39m=\u001b[39m \u001b[39mself\u001b[39;49m\u001b[39m.\u001b[39;49mgrouper\u001b[39m.\u001b[39;49mapply_groupwise(f, data, \u001b[39mself\u001b[39;49m\u001b[39m.\u001b[39;49maxis)\n\u001b[0;32m   1816\u001b[0m     \u001b[39mif\u001b[39;00m not_indexed_same \u001b[39mis\u001b[39;00m \u001b[39mNone\u001b[39;00m:\n\u001b[0;32m   1817\u001b[0m         not_indexed_same \u001b[39m=\u001b[39m mutated\n",
      "File \u001b[1;32mc:\\Users\\lselm\\OneDrive\\Documents\\Repos\\Kaggle\\Linking-Writing\\venv\\lib\\site-packages\\pandas\\core\\groupby\\ops.py:905\u001b[0m, in \u001b[0;36mBaseGrouper.apply_groupwise\u001b[1;34m(self, f, data, axis)\u001b[0m\n\u001b[0;32m    903\u001b[0m \u001b[39m# group might be modified\u001b[39;00m\n\u001b[0;32m    904\u001b[0m group_axes \u001b[39m=\u001b[39m group\u001b[39m.\u001b[39maxes\n\u001b[1;32m--> 905\u001b[0m res \u001b[39m=\u001b[39m f(group)\n\u001b[0;32m    906\u001b[0m \u001b[39mif\u001b[39;00m \u001b[39mnot\u001b[39;00m mutated \u001b[39mand\u001b[39;00m \u001b[39mnot\u001b[39;00m _is_indexed_like(res, group_axes, axis):\n\u001b[0;32m    907\u001b[0m     mutated \u001b[39m=\u001b[39m \u001b[39mTrue\u001b[39;00m\n",
      "\u001b[1;32mc:\\Users\\lselm\\OneDrive\\Documents\\Repos\\Kaggle\\Linking-Writing\\feature_eng\\3_essay_reconstruction.ipynb Cell 6\u001b[0m line \u001b[0;36m1\n\u001b[0;32m     <a href='vscode-notebook-cell:/c%3A/Users/lselm/OneDrive/Documents/Repos/Kaggle/Linking-Writing/feature_eng/3_essay_reconstruction.ipynb#X21sZmlsZQ%3D%3D?line=9'>10</a>\u001b[0m     essay \u001b[39m=\u001b[39m essay[:pos] \u001b[39m+\u001b[39m row[\u001b[39m\"\u001b[39m\u001b[39mtext_change\u001b[39m\u001b[39m\"\u001b[39m] \u001b[39m+\u001b[39m essay[pos:]\n\u001b[0;32m     <a href='vscode-notebook-cell:/c%3A/Users/lselm/OneDrive/Documents/Repos/Kaggle/Linking-Writing/feature_eng/3_essay_reconstruction.ipynb#X21sZmlsZQ%3D%3D?line=10'>11</a>\u001b[0m \u001b[39mcase\u001b[39;00m \u001b[39m\"\u001b[39m\u001b[39mRemove/Cut\u001b[39m\u001b[39m\"\u001b[39m:\n\u001b[0;32m     <a href='vscode-notebook-cell:/c%3A/Users/lselm/OneDrive/Documents/Repos/Kaggle/Linking-Writing/feature_eng/3_essay_reconstruction.ipynb#X21sZmlsZQ%3D%3D?line=11'>12</a>\u001b[0m     \u001b[39m# qqqqZZZ|q - ZZZ -> qqqq|q\u001b[39;00m\n\u001b[1;32m---> <a href='vscode-notebook-cell:/c%3A/Users/lselm/OneDrive/Documents/Repos/Kaggle/Linking-Writing/feature_eng/3_essay_reconstruction.ipynb#X21sZmlsZQ%3D%3D?line=12'>13</a>\u001b[0m     essay \u001b[39m=\u001b[39m essay[: pos \u001b[39m-\u001b[39;49m \u001b[39mlen\u001b[39;49m(row[\u001b[39m\"\u001b[39;49m\u001b[39mtext_change\u001b[39;49m\u001b[39m\"\u001b[39;49m])] \u001b[39m+\u001b[39;49m essay[pos:]\n\u001b[0;32m     <a href='vscode-notebook-cell:/c%3A/Users/lselm/OneDrive/Documents/Repos/Kaggle/Linking-Writing/feature_eng/3_essay_reconstruction.ipynb#X21sZmlsZQ%3D%3D?line=13'>14</a>\u001b[0m \u001b[39mcase\u001b[39;00m \u001b[39m\"\u001b[39m\u001b[39mReplace\u001b[39m\u001b[39m\"\u001b[39m:\n\u001b[0;32m     <a href='vscode-notebook-cell:/c%3A/Users/lselm/OneDrive/Documents/Repos/Kaggle/Linking-Writing/feature_eng/3_essay_reconstruction.ipynb#X21sZmlsZQ%3D%3D?line=14'>15</a>\u001b[0m     \u001b[39m# qqZZZ|qqq -> ZZZ-YYY -> qqYYY|qqq\u001b[39;00m\n\u001b[0;32m     <a href='vscode-notebook-cell:/c%3A/Users/lselm/OneDrive/Documents/Repos/Kaggle/Linking-Writing/feature_eng/3_essay_reconstruction.ipynb#X21sZmlsZQ%3D%3D?line=15'>16</a>\u001b[0m     \u001b[39m# The replacement position seems to always be just before the cursor.\u001b[39;00m\n\u001b[0;32m     <a href='vscode-notebook-cell:/c%3A/Users/lselm/OneDrive/Documents/Repos/Kaggle/Linking-Writing/feature_eng/3_essay_reconstruction.ipynb#X21sZmlsZQ%3D%3D?line=16'>17</a>\u001b[0m     before, after \u001b[39m=\u001b[39m row[\u001b[39m\"\u001b[39m\u001b[39mtext_change\u001b[39m\u001b[39m\"\u001b[39m]\u001b[39m.\u001b[39msplit(\u001b[39m\"\u001b[39m\u001b[39m => \u001b[39m\u001b[39m\"\u001b[39m)\n",
      "\u001b[1;31mMemoryError\u001b[0m: "
     ]
    }
   ],
   "source": [
    "test = df.groupby('id').apply(extract_essay)"
   ]
  },
  {
   "cell_type": "markdown",
   "metadata": {},
   "source": []
  }
 ],
 "metadata": {
  "kernelspec": {
   "display_name": "venv",
   "language": "python",
   "name": "python3"
  },
  "language_info": {
   "codemirror_mode": {
    "name": "ipython",
    "version": 3
   },
   "file_extension": ".py",
   "mimetype": "text/x-python",
   "name": "python",
   "nbconvert_exporter": "python",
   "pygments_lexer": "ipython3",
   "version": "3.8.10"
  }
 },
 "nbformat": 4,
 "nbformat_minor": 2
}
