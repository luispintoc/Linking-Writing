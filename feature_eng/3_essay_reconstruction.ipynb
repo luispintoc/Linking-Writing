{
 "cells": [
  {
   "cell_type": "markdown",
   "metadata": {},
   "source": [
    "#### Using info from yuji96/reproduce-essay.ipynb"
   ]
  },
  {
   "cell_type": "code",
   "execution_count": 3,
   "metadata": {},
   "outputs": [],
   "source": [
    "import textwrap\n",
    "import re\n",
    "import pandas as pd\n"
   ]
  },
  {
   "cell_type": "code",
   "execution_count": 4,
   "metadata": {},
   "outputs": [],
   "source": [
    "df = pd.read_csv(\"../data/train_logs.csv\")"
   ]
  },
  {
   "cell_type": "code",
   "execution_count": 5,
   "metadata": {},
   "outputs": [],
   "source": [
    "def print_essay(s, width=100):\n",
    "    print(\n",
    "        \"\\n\".join(\n",
    "            textwrap.wrap(\n",
    "                s, width=width, break_long_words=False, replace_whitespace=False\n",
    "            )\n",
    "        )\n",
    "    )"
   ]
  },
  {
   "cell_type": "code",
   "execution_count": 2,
   "metadata": {},
   "outputs": [],
   "source": [
    "def extract_text(data):\n",
    "    text = ''\n",
    "    last_cur = 0\n",
    "    for i, row in data.iterrows():\n",
    "        match row.activity:\n",
    "            case 'Input':\n",
    "                text = text[:row.cursor_position-1] + row.text_change[:1] + text[row.cursor_position-1:]\n",
    "            case 'Remove/Cut':\n",
    "                text = text[:row.cursor_position] + text[row.cursor_position + len(row.text_change):]\n",
    "            case 'Replace':\n",
    "                t1, t2 = row.text_change.split(' => ')\n",
    "                text = text[:row.cursor_position] + text[row.cursor_position+len(t1):]\n",
    "            case 'Paste':\n",
    "                text = text[:last_cursor] + row.text_change + text[last_cursor:]\n",
    "        last_cursor = row.cursor_position\n",
    "\n",
    "    return text"
   ]
  },
  {
   "cell_type": "markdown",
   "metadata": {},
   "source": [
    "#### Optimize this bullshat"
   ]
  },
  {
   "cell_type": "code",
   "execution_count": 5,
   "metadata": {},
   "outputs": [],
   "source": [
    "# test = df.groupby('id').apply(extract_essay) # Run time is too long, OOM error"
   ]
  },
  {
   "cell_type": "markdown",
   "metadata": {},
   "source": [
    "### Get some essay examples"
   ]
  },
  {
   "cell_type": "code",
   "execution_count": 6,
   "metadata": {},
   "outputs": [
    {
     "name": "stdout",
     "output_type": "stream",
     "text": [
      "2471\n"
     ]
    }
   ],
   "source": [
    "ids = df['id'].unique()\n",
    "print(len(ids))"
   ]
  },
  {
   "cell_type": "markdown",
   "metadata": {},
   "source": [
    "Select the ids with the shortest essays (to avoid OOM)."
   ]
  },
  {
   "cell_type": "code",
   "execution_count": 7,
   "metadata": {},
   "outputs": [],
   "source": [
    "counts = df.groupby('id').count()\n",
    "selected_id = counts.sort_values(by='activity', ascending=True).index[0]\n",
    "\n",
    "# Get entries with selected ids\n",
    "selected_df = df.loc[df['id'] == selected_id]"
   ]
  },
  {
   "cell_type": "code",
   "execution_count": 8,
   "metadata": {},
   "outputs": [
    {
     "data": {
      "text/html": [
       "<div>\n",
       "<style scoped>\n",
       "    .dataframe tbody tr th:only-of-type {\n",
       "        vertical-align: middle;\n",
       "    }\n",
       "\n",
       "    .dataframe tbody tr th {\n",
       "        vertical-align: top;\n",
       "    }\n",
       "\n",
       "    .dataframe thead th {\n",
       "        text-align: right;\n",
       "    }\n",
       "</style>\n",
       "<table border=\"1\" class=\"dataframe\">\n",
       "  <thead>\n",
       "    <tr style=\"text-align: right;\">\n",
       "      <th></th>\n",
       "      <th>id</th>\n",
       "      <th>event_id</th>\n",
       "      <th>down_time</th>\n",
       "      <th>up_time</th>\n",
       "      <th>action_time</th>\n",
       "      <th>activity</th>\n",
       "      <th>down_event</th>\n",
       "      <th>up_event</th>\n",
       "      <th>text_change</th>\n",
       "      <th>cursor_position</th>\n",
       "      <th>word_count</th>\n",
       "    </tr>\n",
       "  </thead>\n",
       "  <tbody>\n",
       "    <tr>\n",
       "      <th>2870031</th>\n",
       "      <td>5a3f0d07</td>\n",
       "      <td>1</td>\n",
       "      <td>1208</td>\n",
       "      <td>1276</td>\n",
       "      <td>68</td>\n",
       "      <td>Nonproduction</td>\n",
       "      <td>Leftclick</td>\n",
       "      <td>Leftclick</td>\n",
       "      <td>NoChange</td>\n",
       "      <td>0</td>\n",
       "      <td>0</td>\n",
       "    </tr>\n",
       "    <tr>\n",
       "      <th>2870032</th>\n",
       "      <td>5a3f0d07</td>\n",
       "      <td>2</td>\n",
       "      <td>11791</td>\n",
       "      <td>11893</td>\n",
       "      <td>102</td>\n",
       "      <td>Nonproduction</td>\n",
       "      <td>CapsLock</td>\n",
       "      <td>CapsLock</td>\n",
       "      <td>NoChange</td>\n",
       "      <td>0</td>\n",
       "      <td>0</td>\n",
       "    </tr>\n",
       "    <tr>\n",
       "      <th>2870033</th>\n",
       "      <td>5a3f0d07</td>\n",
       "      <td>3</td>\n",
       "      <td>11899</td>\n",
       "      <td>11963</td>\n",
       "      <td>64</td>\n",
       "      <td>Input</td>\n",
       "      <td>q</td>\n",
       "      <td>q</td>\n",
       "      <td>q</td>\n",
       "      <td>1</td>\n",
       "      <td>1</td>\n",
       "    </tr>\n",
       "    <tr>\n",
       "      <th>2870034</th>\n",
       "      <td>5a3f0d07</td>\n",
       "      <td>4</td>\n",
       "      <td>11971</td>\n",
       "      <td>12052</td>\n",
       "      <td>81</td>\n",
       "      <td>Nonproduction</td>\n",
       "      <td>CapsLock</td>\n",
       "      <td>CapsLock</td>\n",
       "      <td>NoChange</td>\n",
       "      <td>1</td>\n",
       "      <td>1</td>\n",
       "    </tr>\n",
       "    <tr>\n",
       "      <th>2870035</th>\n",
       "      <td>5a3f0d07</td>\n",
       "      <td>5</td>\n",
       "      <td>12083</td>\n",
       "      <td>12132</td>\n",
       "      <td>49</td>\n",
       "      <td>Input</td>\n",
       "      <td>q</td>\n",
       "      <td>q</td>\n",
       "      <td>q</td>\n",
       "      <td>2</td>\n",
       "      <td>1</td>\n",
       "    </tr>\n",
       "    <tr>\n",
       "      <th>...</th>\n",
       "      <td>...</td>\n",
       "      <td>...</td>\n",
       "      <td>...</td>\n",
       "      <td>...</td>\n",
       "      <td>...</td>\n",
       "      <td>...</td>\n",
       "      <td>...</td>\n",
       "      <td>...</td>\n",
       "      <td>...</td>\n",
       "      <td>...</td>\n",
       "      <td>...</td>\n",
       "    </tr>\n",
       "    <tr>\n",
       "      <th>2870288</th>\n",
       "      <td>5a3f0d07</td>\n",
       "      <td>258</td>\n",
       "      <td>111669</td>\n",
       "      <td>111781</td>\n",
       "      <td>112</td>\n",
       "      <td>Input</td>\n",
       "      <td>q</td>\n",
       "      <td>q</td>\n",
       "      <td>q</td>\n",
       "      <td>205</td>\n",
       "      <td>35</td>\n",
       "    </tr>\n",
       "    <tr>\n",
       "      <th>2870289</th>\n",
       "      <td>5a3f0d07</td>\n",
       "      <td>259</td>\n",
       "      <td>111773</td>\n",
       "      <td>111845</td>\n",
       "      <td>72</td>\n",
       "      <td>Input</td>\n",
       "      <td>q</td>\n",
       "      <td>q</td>\n",
       "      <td>q</td>\n",
       "      <td>206</td>\n",
       "      <td>35</td>\n",
       "    </tr>\n",
       "    <tr>\n",
       "      <th>2870290</th>\n",
       "      <td>5a3f0d07</td>\n",
       "      <td>260</td>\n",
       "      <td>112685</td>\n",
       "      <td>112741</td>\n",
       "      <td>56</td>\n",
       "      <td>Input</td>\n",
       "      <td>.</td>\n",
       "      <td>.</td>\n",
       "      <td>.</td>\n",
       "      <td>207</td>\n",
       "      <td>35</td>\n",
       "    </tr>\n",
       "    <tr>\n",
       "      <th>2870291</th>\n",
       "      <td>5a3f0d07</td>\n",
       "      <td>261</td>\n",
       "      <td>1603885</td>\n",
       "      <td>1604003</td>\n",
       "      <td>118</td>\n",
       "      <td>Nonproduction</td>\n",
       "      <td>Leftclick</td>\n",
       "      <td>Leftclick</td>\n",
       "      <td>NoChange</td>\n",
       "      <td>207</td>\n",
       "      <td>35</td>\n",
       "    </tr>\n",
       "    <tr>\n",
       "      <th>2870292</th>\n",
       "      <td>5a3f0d07</td>\n",
       "      <td>262</td>\n",
       "      <td>1607164</td>\n",
       "      <td>1607315</td>\n",
       "      <td>151</td>\n",
       "      <td>Nonproduction</td>\n",
       "      <td>Leftclick</td>\n",
       "      <td>Leftclick</td>\n",
       "      <td>NoChange</td>\n",
       "      <td>203</td>\n",
       "      <td>35</td>\n",
       "    </tr>\n",
       "  </tbody>\n",
       "</table>\n",
       "<p>262 rows × 11 columns</p>\n",
       "</div>"
      ],
      "text/plain": [
       "               id  event_id  down_time  up_time  action_time       activity  \\\n",
       "2870031  5a3f0d07         1       1208     1276           68  Nonproduction   \n",
       "2870032  5a3f0d07         2      11791    11893          102  Nonproduction   \n",
       "2870033  5a3f0d07         3      11899    11963           64          Input   \n",
       "2870034  5a3f0d07         4      11971    12052           81  Nonproduction   \n",
       "2870035  5a3f0d07         5      12083    12132           49          Input   \n",
       "...           ...       ...        ...      ...          ...            ...   \n",
       "2870288  5a3f0d07       258     111669   111781          112          Input   \n",
       "2870289  5a3f0d07       259     111773   111845           72          Input   \n",
       "2870290  5a3f0d07       260     112685   112741           56          Input   \n",
       "2870291  5a3f0d07       261    1603885  1604003          118  Nonproduction   \n",
       "2870292  5a3f0d07       262    1607164  1607315          151  Nonproduction   \n",
       "\n",
       "        down_event   up_event text_change  cursor_position  word_count  \n",
       "2870031  Leftclick  Leftclick    NoChange                0           0  \n",
       "2870032   CapsLock   CapsLock    NoChange                0           0  \n",
       "2870033          q          q           q                1           1  \n",
       "2870034   CapsLock   CapsLock    NoChange                1           1  \n",
       "2870035          q          q           q                2           1  \n",
       "...            ...        ...         ...              ...         ...  \n",
       "2870288          q          q           q              205          35  \n",
       "2870289          q          q           q              206          35  \n",
       "2870290          .          .           .              207          35  \n",
       "2870291  Leftclick  Leftclick    NoChange              207          35  \n",
       "2870292  Leftclick  Leftclick    NoChange              203          35  \n",
       "\n",
       "[262 rows x 11 columns]"
      ]
     },
     "execution_count": 8,
     "metadata": {},
     "output_type": "execute_result"
    }
   ],
   "source": [
    "selected_df"
   ]
  },
  {
   "cell_type": "markdown",
   "metadata": {},
   "source": [
    "### Reconstruct"
   ]
  },
  {
   "cell_type": "code",
   "execution_count": 9,
   "metadata": {},
   "outputs": [],
   "source": [
    "essay = extract_text(selected_df)"
   ]
  },
  {
   "cell_type": "code",
   "execution_count": 10,
   "metadata": {},
   "outputs": [
    {
     "data": {
      "text/plain": [
       "'qqqqqq qqqqqq qq qqq qqqqqqqq qqq qqq qqqqqqq qq qqqqqqqqq qqqqqqqqqq qqq qqqqqq qq qqqqq qqqq qqq qqqqq qqqqqqqqqq qqq qqqqqqqqq. qqqqqqq qqqqq qq qqqqqq qqq qq qqqqqqq qqqq qqq qqqq qqqqq qq qqqqqqq qqqqq.'"
      ]
     },
     "execution_count": 10,
     "metadata": {},
     "output_type": "execute_result"
    }
   ],
   "source": [
    "essay"
   ]
  },
  {
   "cell_type": "markdown",
   "metadata": {},
   "source": []
  }
 ],
 "metadata": {
  "kernelspec": {
   "display_name": "venv",
   "language": "python",
   "name": "python3"
  },
  "language_info": {
   "codemirror_mode": {
    "name": "ipython",
    "version": 3
   },
   "file_extension": ".py",
   "mimetype": "text/x-python",
   "name": "python",
   "nbconvert_exporter": "python",
   "pygments_lexer": "ipython3",
   "version": "3.10.2"
  }
 },
 "nbformat": 4,
 "nbformat_minor": 2
}
