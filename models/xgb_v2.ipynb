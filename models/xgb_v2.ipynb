{
 "cells": [
  {
   "cell_type": "code",
   "execution_count": 1,
   "metadata": {},
   "outputs": [],
   "source": [
    "import gc\n",
    "import os\n",
    "import itertools\n",
    "import pickle\n",
    "import re\n",
    "import time\n",
    "from random import choice, choices\n",
    "from functools import reduce\n",
    "from tqdm import tqdm\n",
    "from itertools import cycle\n",
    "import numpy as np\n",
    "import pandas as pd\n",
    "import seaborn as sns\n",
    "import matplotlib.pyplot as plt\n",
    "from collections import Counter\n",
    "from functools import reduce\n",
    "from itertools import cycle\n",
    "from scipy import stats\n",
    "from scipy.stats import skew, kurtosis\n",
    "from sklearn import metrics, model_selection, preprocessing, linear_model, ensemble, decomposition, tree\n",
    "import lightgbm as lgb\n",
    "import optuna\n",
    "from sklearn.metrics import mean_squared_error\n",
    "from sklearn.model_selection import train_test_split\n",
    "import xgboost as xgb\n",
    "\n",
    "\n",
    "import sys\n",
    "sys.path.append('../')\n",
    "from utils import *"
   ]
  },
  {
   "cell_type": "code",
   "execution_count": 2,
   "metadata": {},
   "outputs": [],
   "source": [
    "is_kaggle = False\n",
    "\n",
    "if is_kaggle:\n",
    "    base_dir = '/kaggle/input'\n",
    "    data_dir = f'{base_dir}/linking-writing-processes-to-writing-quality'\n",
    "    output_dir = '/kaggle/working'\n",
    "else:\n",
    "    base_dir = '../'\n",
    "    data_dir = f'{base_dir}/data'\n",
    "    models_dir = f'{base_dir}/models'"
   ]
  },
  {
   "cell_type": "code",
   "execution_count": 3,
   "metadata": {},
   "outputs": [],
   "source": [
    "train_feats = pd.read_csv('../feature_eng/example_features2.csv')"
   ]
  },
  {
   "cell_type": "code",
   "execution_count": 4,
   "metadata": {},
   "outputs": [],
   "source": [
    "train_feats.replace([np.inf, -np.inf], np.nan, inplace=True)\n",
    "cols = train_feats.columns\n",
    "\n",
    "# counter = 0\n",
    "# new_columns = {}\n",
    "# for col in cols:\n",
    "#     if col != 'id' and col != 'score':\n",
    "#         new_columns[col] = counter\n",
    "#         counter += 1\n",
    "\n",
    "# train_feats.rename(columns=new_columns, inplace=True)"
   ]
  },
  {
   "cell_type": "code",
   "execution_count": 5,
   "metadata": {},
   "outputs": [],
   "source": [
    "target_col = ['score']\n",
    "drop_cols = ['id']\n",
    "train_cols = [col for col in train_feats.columns if col not in target_col + drop_cols]"
   ]
  },
  {
   "cell_type": "code",
   "execution_count": 6,
   "metadata": {},
   "outputs": [],
   "source": [
    "train_feats.fillna(-999, inplace=True)\n",
    "train_feats.replace([np.inf, -np.inf], -999, inplace=True)"
   ]
  },
  {
   "cell_type": "code",
   "execution_count": 19,
   "metadata": {},
   "outputs": [],
   "source": [
    "def objective(trial,data=train_feats[train_cols],target=train_feats[target_col]):\n",
    "    \n",
    "    train_x, test_x, train_y, test_y = train_test_split(data, target, test_size=0.15, random_state=42)\n",
    "\n",
    "    params = {\n",
    "        'lambda': trial.suggest_float('lambda', 1e-3, 10.0, log=True),\n",
    "        'alpha': trial.suggest_float('alpha', 1e-3, 10.0, log=True),\n",
    "        'colsample_bytree': trial.suggest_categorical('colsample_bytree', [0.4,0.6,0.8,0.9]),\n",
    "        'colsample_bynode': trial.suggest_categorical('colsample_bynode', [0.4,0.6,0.8,0.9]),\n",
    "        'colsample_bylevel': trial.suggest_categorical('colsample_bylevel', [0.4,0.6,0.8,0.9]),\n",
    "        'subsample': trial.suggest_categorical('subsample', [0.4,0.5,0.6,0.7,0.8,0.9]),\n",
    "        'eta': trial.suggest_float('learning_rate', 1e-6, 1e-2, log=True),\n",
    "        'n_estimators': trial.suggest_categorical('n_estimators', [1000, 1500, 1800, 2000, 2250, 2500]),\n",
    "        'max_depth': trial.suggest_int('max_depth', 2, 5, step=1),\n",
    "    }\n",
    "\n",
    "    all_params = {\n",
    "        'tree_method':'gpu_hist',\n",
    "        'objective': 'reg:squarederror',\n",
    "        'eval_metric': ['rmse'],\n",
    "        'seed': 42,\n",
    "        'nthread': -1,\n",
    "        'early_stopping_rounds': 50,\n",
    "        **params\n",
    "    }\n",
    "\n",
    "\n",
    "    model = xgb.XGBRegressor(**all_params)\n",
    "    \n",
    "    model.fit(train_x,train_y,eval_set=[(test_x,test_y)], verbose=False)\n",
    "    \n",
    "    preds = model.predict(test_x)\n",
    "    \n",
    "    rmse = mean_squared_error(test_y, preds,squared=False)\n",
    "    \n",
    "    return rmse"
   ]
  },
  {
   "cell_type": "code",
   "execution_count": 20,
   "metadata": {},
   "outputs": [
    {
     "name": "stderr",
     "output_type": "stream",
     "text": [
      "[I 2023-12-19 21:16:29,981] A new study created in memory with name: no-name-0467de33-c355-4951-ac77-652e5eaf3fc6\n",
      "[I 2023-12-19 21:16:35,105] Trial 0 finished with value: 2.114214636227694 and parameters: {'lambda': 0.37940041306211425, 'alpha': 0.009294556774749298, 'colsample_bytree': 0.4, 'colsample_bynode': 0.9, 'colsample_bylevel': 0.8, 'subsample': 0.7, 'learning_rate': 0.0003326738341416802, 'n_estimators': 1500, 'max_depth': 2}. Best is trial 0 with value: 2.114214636227694.\n",
      "[I 2023-12-19 21:16:40,644] Trial 1 finished with value: 0.6364131365731766 and parameters: {'lambda': 0.038546066841937315, 'alpha': 0.00877622251675818, 'colsample_bytree': 0.4, 'colsample_bynode': 0.6, 'colsample_bylevel': 0.4, 'subsample': 0.5, 'learning_rate': 0.0017614472859975615, 'n_estimators': 1500, 'max_depth': 3}. Best is trial 1 with value: 0.6364131365731766.\n",
      "[I 2023-12-19 21:16:48,888] Trial 2 finished with value: 3.3481506343907186 and parameters: {'lambda': 2.7634998100208636, 'alpha': 0.0474800900145947, 'colsample_bytree': 0.4, 'colsample_bynode': 0.4, 'colsample_bylevel': 0.9, 'subsample': 0.5, 'learning_rate': 1.083920835532869e-06, 'n_estimators': 2500, 'max_depth': 3}. Best is trial 1 with value: 0.6364131365731766.\n",
      "[I 2023-12-19 21:17:01,391] Trial 3 finished with value: 1.810201248856391 and parameters: {'lambda': 0.9057888199943541, 'alpha': 1.3125602709475883, 'colsample_bytree': 0.9, 'colsample_bynode': 0.9, 'colsample_bylevel': 0.4, 'subsample': 0.5, 'learning_rate': 0.00033843734845737843, 'n_estimators': 2000, 'max_depth': 5}. Best is trial 1 with value: 0.6364131365731766.\n",
      "[I 2023-12-19 21:17:08,940] Trial 4 finished with value: 0.9952169183881897 and parameters: {'lambda': 2.9528569979008523, 'alpha': 0.12835074621486436, 'colsample_bytree': 0.6, 'colsample_bynode': 0.9, 'colsample_bylevel': 0.6, 'subsample': 0.5, 'learning_rate': 0.0008145894966854401, 'n_estimators': 1800, 'max_depth': 4}. Best is trial 1 with value: 0.6364131365731766.\n",
      "[I 2023-12-19 21:17:12,355] Trial 5 finished with value: 3.325505117712965 and parameters: {'lambda': 3.042373541609674, 'alpha': 0.07400906530051268, 'colsample_bytree': 0.9, 'colsample_bynode': 0.4, 'colsample_bylevel': 0.4, 'subsample': 0.4, 'learning_rate': 6.645581867609841e-06, 'n_estimators': 1500, 'max_depth': 2}. Best is trial 1 with value: 0.6364131365731766.\n",
      "[I 2023-12-19 21:17:21,501] Trial 6 finished with value: 2.4842241106238716 and parameters: {'lambda': 0.041689212961394925, 'alpha': 0.05829588029921063, 'colsample_bytree': 0.8, 'colsample_bynode': 0.4, 'colsample_bylevel': 0.6, 'subsample': 0.4, 'learning_rate': 0.00014125031413166867, 'n_estimators': 2250, 'max_depth': 4}. Best is trial 1 with value: 0.6364131365731766.\n",
      "[I 2023-12-19 21:17:31,250] Trial 7 finished with value: 0.5666074528523065 and parameters: {'lambda': 6.454265505370251, 'alpha': 0.218814025028084, 'colsample_bytree': 0.4, 'colsample_bynode': 0.8, 'colsample_bylevel': 0.9, 'subsample': 0.4, 'learning_rate': 0.0035302290987151153, 'n_estimators': 1500, 'max_depth': 5}. Best is trial 7 with value: 0.5666074528523065.\n",
      "[I 2023-12-19 21:17:44,250] Trial 8 finished with value: 3.078026730180678 and parameters: {'lambda': 0.002558252839228035, 'alpha': 1.1721596749177992, 'colsample_bytree': 0.6, 'colsample_bynode': 0.4, 'colsample_bylevel': 0.9, 'subsample': 0.4, 'learning_rate': 4.0642374331292697e-05, 'n_estimators': 2250, 'max_depth': 5}. Best is trial 7 with value: 0.5666074528523065.\n",
      "[I 2023-12-19 21:17:47,347] Trial 9 finished with value: 0.5583544806576967 and parameters: {'lambda': 6.245463504048911, 'alpha': 0.005571208121931686, 'colsample_bytree': 0.4, 'colsample_bynode': 0.9, 'colsample_bylevel': 0.9, 'subsample': 0.9, 'learning_rate': 0.00963440335864763, 'n_estimators': 2000, 'max_depth': 3}. Best is trial 9 with value: 0.5583544806576967.\n",
      "[I 2023-12-19 21:17:50,771] Trial 10 finished with value: 0.5613126606429694 and parameters: {'lambda': 0.30800787504744254, 'alpha': 0.0010570810961767786, 'colsample_bytree': 0.8, 'colsample_bynode': 0.8, 'colsample_bylevel': 0.8, 'subsample': 0.9, 'learning_rate': 0.006448697711894224, 'n_estimators': 2000, 'max_depth': 3}. Best is trial 9 with value: 0.5583544806576967.\n",
      "[I 2023-12-19 21:17:53,749] Trial 11 finished with value: 0.557655538337024 and parameters: {'lambda': 9.938274111158591, 'alpha': 0.0022182198562034003, 'colsample_bytree': 0.8, 'colsample_bynode': 0.8, 'colsample_bylevel': 0.8, 'subsample': 0.9, 'learning_rate': 0.009002653067869489, 'n_estimators': 2000, 'max_depth': 3}. Best is trial 11 with value: 0.557655538337024.\n",
      "[I 2023-12-19 21:17:56,805] Trial 12 finished with value: 0.5568352845908073 and parameters: {'lambda': 9.694037216337106, 'alpha': 0.0013261200398653446, 'colsample_bytree': 0.8, 'colsample_bynode': 0.8, 'colsample_bylevel': 0.8, 'subsample': 0.9, 'learning_rate': 0.00815110495002701, 'n_estimators': 2000, 'max_depth': 3}. Best is trial 12 with value: 0.5568352845908073.\n",
      "[I 2023-12-19 21:18:01,342] Trial 13 finished with value: 0.7554344897075914 and parameters: {'lambda': 8.785792082375401, 'alpha': 0.0010671310344819473, 'colsample_bytree': 0.8, 'colsample_bynode': 0.8, 'colsample_bylevel': 0.8, 'subsample': 0.8, 'learning_rate': 0.002017224639261539, 'n_estimators': 1000, 'max_depth': 4}. Best is trial 12 with value: 0.5568352845908073.\n",
      "[I 2023-12-19 21:18:03,886] Trial 14 finished with value: 0.5576507271420638 and parameters: {'lambda': 9.758856984105103, 'alpha': 0.0028851798848089027, 'colsample_bytree': 0.8, 'colsample_bynode': 0.8, 'colsample_bylevel': 0.8, 'subsample': 0.6, 'learning_rate': 0.009022234446800574, 'n_estimators': 2000, 'max_depth': 2}. Best is trial 12 with value: 0.5568352845908073.\n",
      "[I 2023-12-19 21:18:09,178] Trial 15 finished with value: 0.5913641536263333 and parameters: {'lambda': 1.1549710644830977, 'alpha': 0.004319513367321786, 'colsample_bytree': 0.8, 'colsample_bynode': 0.8, 'colsample_bylevel': 0.8, 'subsample': 0.6, 'learning_rate': 0.0017639648721479637, 'n_estimators': 2000, 'max_depth': 2}. Best is trial 12 with value: 0.5568352845908073.\n",
      "[I 2023-12-19 21:18:12,033] Trial 16 finished with value: 0.5843950670399956 and parameters: {'lambda': 1.6917104562853116, 'alpha': 0.016019374129040233, 'colsample_bytree': 0.8, 'colsample_bynode': 0.6, 'colsample_bylevel': 0.8, 'subsample': 0.6, 'learning_rate': 0.0038527238599623376, 'n_estimators': 1000, 'max_depth': 2}. Best is trial 12 with value: 0.5568352845908073.\n",
      "[I 2023-12-19 21:18:17,299] Trial 17 finished with value: 1.3530617319061997 and parameters: {'lambda': 0.5231108191462849, 'alpha': 0.002954219015169506, 'colsample_bytree': 0.8, 'colsample_bynode': 0.8, 'colsample_bylevel': 0.8, 'subsample': 0.6, 'learning_rate': 0.0005720472547175063, 'n_estimators': 1800, 'max_depth': 2}. Best is trial 12 with value: 0.5568352845908073.\n",
      "[I 2023-12-19 21:18:24,642] Trial 18 finished with value: 0.6383961396623697 and parameters: {'lambda': 0.1427850004022427, 'alpha': 0.019188792994073514, 'colsample_bytree': 0.8, 'colsample_bynode': 0.8, 'colsample_bylevel': 0.8, 'subsample': 0.8, 'learning_rate': 0.0010851383024630596, 'n_estimators': 2500, 'max_depth': 2}. Best is trial 12 with value: 0.5568352845908073.\n",
      "[I 2023-12-19 21:18:31,143] Trial 19 finished with value: 0.5567716499114005 and parameters: {'lambda': 3.2541297830013, 'alpha': 0.0021568977824565844, 'colsample_bytree': 0.9, 'colsample_bynode': 0.8, 'colsample_bylevel': 0.6, 'subsample': 0.7, 'learning_rate': 0.0037427060245360183, 'n_estimators': 2000, 'max_depth': 3}. Best is trial 19 with value: 0.5567716499114005.\n",
      "[I 2023-12-19 21:18:39,580] Trial 20 finished with value: 0.5613133269051417 and parameters: {'lambda': 1.6048701794350526, 'alpha': 0.0014578193566081837, 'colsample_bytree': 0.9, 'colsample_bynode': 0.6, 'colsample_bylevel': 0.6, 'subsample': 0.7, 'learning_rate': 0.0027803213103358335, 'n_estimators': 2000, 'max_depth': 4}. Best is trial 19 with value: 0.5567716499114005.\n",
      "[I 2023-12-19 21:18:44,577] Trial 21 finished with value: 0.555404829195043 and parameters: {'lambda': 9.359074303073559, 'alpha': 0.002935128179074197, 'colsample_bytree': 0.9, 'colsample_bynode': 0.8, 'colsample_bylevel': 0.6, 'subsample': 0.7, 'learning_rate': 0.005167117133951643, 'n_estimators': 2000, 'max_depth': 3}. Best is trial 21 with value: 0.555404829195043.\n",
      "[I 2023-12-19 21:18:50,741] Trial 22 finished with value: 0.5578767138266287 and parameters: {'lambda': 4.8797971070277875, 'alpha': 0.0027686443051506, 'colsample_bytree': 0.9, 'colsample_bynode': 0.8, 'colsample_bylevel': 0.6, 'subsample': 0.7, 'learning_rate': 0.003998589265213817, 'n_estimators': 2000, 'max_depth': 3}. Best is trial 21 with value: 0.555404829195043.\n",
      "[I 2023-12-19 21:18:55,489] Trial 23 finished with value: 0.5582974394583196 and parameters: {'lambda': 3.151294129579851, 'alpha': 0.0011950987253632848, 'colsample_bytree': 0.9, 'colsample_bynode': 0.8, 'colsample_bylevel': 0.6, 'subsample': 0.7, 'learning_rate': 0.004458342680853884, 'n_estimators': 2000, 'max_depth': 3}. Best is trial 21 with value: 0.555404829195043.\n",
      "[I 2023-12-19 21:19:01,855] Trial 24 finished with value: 0.6373046180296779 and parameters: {'lambda': 3.7746509152369114, 'alpha': 0.005571593177292701, 'colsample_bytree': 0.9, 'colsample_bynode': 0.8, 'colsample_bylevel': 0.6, 'subsample': 0.7, 'learning_rate': 0.0012938423523759172, 'n_estimators': 2000, 'max_depth': 3}. Best is trial 21 with value: 0.555404829195043.\n",
      "[I 2023-12-19 21:19:07,956] Trial 25 finished with value: 0.5607119081924365 and parameters: {'lambda': 1.7183648168503798, 'alpha': 0.002162600130558936, 'colsample_bytree': 0.9, 'colsample_bynode': 0.8, 'colsample_bylevel': 0.6, 'subsample': 0.9, 'learning_rate': 0.0044016691997433395, 'n_estimators': 2000, 'max_depth': 4}. Best is trial 21 with value: 0.555404829195043.\n",
      "[I 2023-12-19 21:19:15,510] Trial 26 finished with value: 0.5607774810682858 and parameters: {'lambda': 9.433715877291352, 'alpha': 0.024909329305164173, 'colsample_bytree': 0.9, 'colsample_bynode': 0.8, 'colsample_bylevel': 0.6, 'subsample': 0.7, 'learning_rate': 0.0022321510016947276, 'n_estimators': 2500, 'max_depth': 3}. Best is trial 21 with value: 0.555404829195043.\n",
      "[I 2023-12-19 21:19:20,538] Trial 27 finished with value: 0.5592932328231179 and parameters: {'lambda': 4.674065344736409, 'alpha': 0.00867585010321832, 'colsample_bytree': 0.6, 'colsample_bynode': 0.8, 'colsample_bylevel': 0.6, 'subsample': 0.7, 'learning_rate': 0.005787355636008841, 'n_estimators': 1800, 'max_depth': 4}. Best is trial 21 with value: 0.555404829195043.\n",
      "[I 2023-12-19 21:19:23,687] Trial 28 finished with value: 1.60274606669957 and parameters: {'lambda': 0.9800344031367064, 'alpha': 0.0017394137218595253, 'colsample_bytree': 0.9, 'colsample_bynode': 0.6, 'colsample_bylevel': 0.6, 'subsample': 0.9, 'learning_rate': 0.0008132909930491658, 'n_estimators': 1000, 'max_depth': 3}. Best is trial 21 with value: 0.555404829195043.\n",
      "[I 2023-12-19 21:19:30,879] Trial 29 finished with value: 1.4031936688971076 and parameters: {'lambda': 0.5860199998386334, 'alpha': 0.011292403330701787, 'colsample_bytree': 0.9, 'colsample_bynode': 0.9, 'colsample_bylevel': 0.4, 'subsample': 0.7, 'learning_rate': 0.0004328936950378393, 'n_estimators': 2250, 'max_depth': 3}. Best is trial 21 with value: 0.555404829195043.\n",
      "[I 2023-12-19 21:19:39,165] Trial 30 finished with value: 2.423308510117145 and parameters: {'lambda': 5.064940006256712, 'alpha': 0.004427055095828768, 'colsample_bytree': 0.6, 'colsample_bynode': 0.8, 'colsample_bylevel': 0.6, 'subsample': 0.7, 'learning_rate': 0.00017581737417395675, 'n_estimators': 2000, 'max_depth': 4}. Best is trial 21 with value: 0.555404829195043.\n",
      "[I 2023-12-19 21:19:41,391] Trial 31 finished with value: 0.558810873291379 and parameters: {'lambda': 9.508233340539288, 'alpha': 0.0031681824161833953, 'colsample_bytree': 0.8, 'colsample_bynode': 0.8, 'colsample_bylevel': 0.8, 'subsample': 0.6, 'learning_rate': 0.009885099870663426, 'n_estimators': 2000, 'max_depth': 2}. Best is trial 21 with value: 0.555404829195043.\n",
      "[I 2023-12-19 21:19:44,585] Trial 32 finished with value: 0.5642147999220789 and parameters: {'lambda': 2.2964457118440147, 'alpha': 0.007083525070399003, 'colsample_bytree': 0.8, 'colsample_bynode': 0.8, 'colsample_bylevel': 0.8, 'subsample': 0.6, 'learning_rate': 0.0059315953886588365, 'n_estimators': 2000, 'max_depth': 2}. Best is trial 21 with value: 0.555404829195043.\n",
      "[I 2023-12-19 21:19:51,050] Trial 33 finished with value: 0.5691882739874553 and parameters: {'lambda': 4.794774243004729, 'alpha': 0.0018715261333578817, 'colsample_bytree': 0.4, 'colsample_bynode': 0.8, 'colsample_bylevel': 0.8, 'subsample': 0.6, 'learning_rate': 0.0020747251993732236, 'n_estimators': 2000, 'max_depth': 3}. Best is trial 21 with value: 0.555404829195043.\n",
      "[I 2023-12-19 21:19:54,161] Trial 34 finished with value: 0.5562728598786976 and parameters: {'lambda': 9.987266385359694, 'alpha': 0.0036277772212255127, 'colsample_bytree': 0.9, 'colsample_bynode': 0.8, 'colsample_bylevel': 0.4, 'subsample': 0.9, 'learning_rate': 0.009922868290438966, 'n_estimators': 2000, 'max_depth': 2}. Best is trial 21 with value: 0.555404829195043.\n",
      "[I 2023-12-19 21:19:59,287] Trial 35 finished with value: 0.5636938145669423 and parameters: {'lambda': 2.2519550545480014, 'alpha': 0.010867963972828718, 'colsample_bytree': 0.9, 'colsample_bynode': 0.6, 'colsample_bylevel': 0.4, 'subsample': 0.9, 'learning_rate': 0.003087855012327051, 'n_estimators': 1500, 'max_depth': 3}. Best is trial 21 with value: 0.555404829195043.\n",
      "[I 2023-12-19 21:20:05,996] Trial 36 finished with value: 0.6607238029660206 and parameters: {'lambda': 3.311877210103798, 'alpha': 0.004709269204354018, 'colsample_bytree': 0.9, 'colsample_bynode': 0.4, 'colsample_bylevel': 0.4, 'subsample': 0.9, 'learning_rate': 0.0012279733780425392, 'n_estimators': 2000, 'max_depth': 3}. Best is trial 21 with value: 0.555404829195043.\n",
      "[I 2023-12-19 21:20:10,377] Trial 37 finished with value: 0.5596589223934991 and parameters: {'lambda': 5.957787734601502, 'alpha': 0.00178455711725192, 'colsample_bytree': 0.9, 'colsample_bynode': 0.9, 'colsample_bylevel': 0.4, 'subsample': 0.5, 'learning_rate': 0.005582783436974823, 'n_estimators': 1800, 'max_depth': 2}. Best is trial 21 with value: 0.555404829195043.\n",
      "[I 2023-12-19 21:20:18,522] Trial 38 finished with value: 0.5582377810711391 and parameters: {'lambda': 2.843641803944482, 'alpha': 0.027899525262778283, 'colsample_bytree': 0.9, 'colsample_bynode': 0.8, 'colsample_bylevel': 0.4, 'subsample': 0.9, 'learning_rate': 0.002706943077209749, 'n_estimators': 2500, 'max_depth': 3}. Best is trial 21 with value: 0.555404829195043.\n",
      "[I 2023-12-19 21:20:24,711] Trial 39 finished with value: 0.6376298407527811 and parameters: {'lambda': 1.2518545030611914, 'alpha': 0.006717155313102068, 'colsample_bytree': 0.9, 'colsample_bynode': 0.4, 'colsample_bylevel': 0.4, 'subsample': 0.8, 'learning_rate': 0.0016985070821941678, 'n_estimators': 1500, 'max_depth': 4}. Best is trial 21 with value: 0.555404829195043.\n",
      "[I 2023-12-19 21:20:28,005] Trial 40 finished with value: 0.559619978181416 and parameters: {'lambda': 6.15955509744958, 'alpha': 0.003877686298632956, 'colsample_bytree': 0.4, 'colsample_bynode': 0.8, 'colsample_bylevel': 0.9, 'subsample': 0.5, 'learning_rate': 0.005936539526208919, 'n_estimators': 2250, 'max_depth': 2}. Best is trial 21 with value: 0.555404829195043.\n",
      "[I 2023-12-19 21:20:31,908] Trial 41 finished with value: 0.5562556499846469 and parameters: {'lambda': 9.625974247792854, 'alpha': 0.0010032118024418388, 'colsample_bytree': 0.8, 'colsample_bynode': 0.8, 'colsample_bylevel': 0.8, 'subsample': 0.9, 'learning_rate': 0.00876647770508448, 'n_estimators': 2000, 'max_depth': 2}. Best is trial 21 with value: 0.555404829195043.\n",
      "[I 2023-12-19 21:20:35,186] Trial 42 finished with value: 0.5582045429974372 and parameters: {'lambda': 3.7609438194240976, 'alpha': 0.0010185483087947157, 'colsample_bytree': 0.6, 'colsample_bynode': 0.8, 'colsample_bylevel': 0.6, 'subsample': 0.9, 'learning_rate': 0.009546852567707823, 'n_estimators': 2000, 'max_depth': 2}. Best is trial 21 with value: 0.555404829195043.\n",
      "[I 2023-12-19 21:20:41,067] Trial 43 finished with value: 0.5602532108722671 and parameters: {'lambda': 7.064715899799498, 'alpha': 0.0015960762134919683, 'colsample_bytree': 0.9, 'colsample_bynode': 0.8, 'colsample_bylevel': 0.9, 'subsample': 0.9, 'learning_rate': 0.0033794449220251703, 'n_estimators': 2000, 'max_depth': 2}. Best is trial 21 with value: 0.555404829195043.\n",
      "[I 2023-12-19 21:20:45,380] Trial 44 finished with value: 0.5561301142342794 and parameters: {'lambda': 7.024883560966975, 'alpha': 0.002313209309550642, 'colsample_bytree': 0.8, 'colsample_bynode': 0.9, 'colsample_bylevel': 0.4, 'subsample': 0.9, 'learning_rate': 0.006609198739344626, 'n_estimators': 2000, 'max_depth': 3}. Best is trial 21 with value: 0.555404829195043.\n",
      "[I 2023-12-19 21:20:50,428] Trial 45 finished with value: 0.5595957996654457 and parameters: {'lambda': 6.113318687526179, 'alpha': 0.0032612478063559366, 'colsample_bytree': 0.4, 'colsample_bynode': 0.9, 'colsample_bylevel': 0.4, 'subsample': 0.4, 'learning_rate': 0.005969647272759431, 'n_estimators': 2000, 'max_depth': 2}. Best is trial 21 with value: 0.555404829195043.\n",
      "[I 2023-12-19 21:20:56,926] Trial 46 finished with value: 0.5592976489841597 and parameters: {'lambda': 2.3430139825314824, 'alpha': 0.0020709819460694974, 'colsample_bytree': 0.8, 'colsample_bynode': 0.9, 'colsample_bylevel': 0.4, 'subsample': 0.9, 'learning_rate': 0.0028542562447572803, 'n_estimators': 2000, 'max_depth': 3}. Best is trial 21 with value: 0.555404829195043.\n",
      "[I 2023-12-19 21:21:03,354] Trial 47 finished with value: 0.5610130967776995 and parameters: {'lambda': 4.090970444923376, 'alpha': 0.00562805338899578, 'colsample_bytree': 0.9, 'colsample_bynode': 0.9, 'colsample_bylevel': 0.4, 'subsample': 0.9, 'learning_rate': 0.006855193924832362, 'n_estimators': 2000, 'max_depth': 5}. Best is trial 21 with value: 0.555404829195043.\n",
      "[I 2023-12-19 21:21:06,290] Trial 48 finished with value: 0.5770715620531739 and parameters: {'lambda': 6.57777296988079, 'alpha': 0.008961477546530913, 'colsample_bytree': 0.8, 'colsample_bynode': 0.9, 'colsample_bylevel': 0.4, 'subsample': 0.7, 'learning_rate': 0.00367997740759648, 'n_estimators': 1000, 'max_depth': 3}. Best is trial 21 with value: 0.555404829195043.\n",
      "[I 2023-12-19 21:21:09,849] Trial 49 finished with value: 0.5568754176486206 and parameters: {'lambda': 7.029302838325149, 'alpha': 0.002469945732499981, 'colsample_bytree': 0.6, 'colsample_bynode': 0.9, 'colsample_bylevel': 0.4, 'subsample': 0.9, 'learning_rate': 0.007315066758110401, 'n_estimators': 1500, 'max_depth': 2}. Best is trial 21 with value: 0.555404829195043.\n",
      "[I 2023-12-19 21:21:15,987] Trial 50 finished with value: 0.5951691032214698 and parameters: {'lambda': 2.4181661063475017, 'alpha': 0.0012762319057169603, 'colsample_bytree': 0.8, 'colsample_bynode': 0.4, 'colsample_bylevel': 0.6, 'subsample': 0.4, 'learning_rate': 0.0015870576933666705, 'n_estimators': 2250, 'max_depth': 2}. Best is trial 21 with value: 0.555404829195043.\n",
      "[I 2023-12-19 21:21:19,705] Trial 51 finished with value: 0.5560434829990745 and parameters: {'lambda': 9.536711013472901, 'alpha': 0.001017235288374729, 'colsample_bytree': 0.8, 'colsample_bynode': 0.8, 'colsample_bylevel': 0.8, 'subsample': 0.9, 'learning_rate': 0.009071396372045872, 'n_estimators': 2000, 'max_depth': 3}. Best is trial 21 with value: 0.555404829195043.\n",
      "[I 2023-12-19 21:21:22,720] Trial 52 finished with value: 0.5561760962936075 and parameters: {'lambda': 9.4828724770746, 'alpha': 0.001486829149156691, 'colsample_bytree': 0.8, 'colsample_bynode': 0.8, 'colsample_bylevel': 0.8, 'subsample': 0.9, 'learning_rate': 0.009830954654861094, 'n_estimators': 2000, 'max_depth': 3}. Best is trial 21 with value: 0.555404829195043.\n",
      "[I 2023-12-19 21:21:25,686] Trial 53 finished with value: 0.555668531591449 and parameters: {'lambda': 9.32766818316019, 'alpha': 0.0011014636989352523, 'colsample_bytree': 0.8, 'colsample_bynode': 0.8, 'colsample_bylevel': 0.8, 'subsample': 0.9, 'learning_rate': 0.0096586512960375, 'n_estimators': 2000, 'max_depth': 3}. Best is trial 21 with value: 0.555404829195043.\n",
      "[I 2023-12-19 21:21:30,503] Trial 54 finished with value: 0.5566448285062815 and parameters: {'lambda': 7.360019749571745, 'alpha': 0.001043938968120648, 'colsample_bytree': 0.8, 'colsample_bynode': 0.8, 'colsample_bylevel': 0.8, 'subsample': 0.9, 'learning_rate': 0.005337943810901902, 'n_estimators': 2000, 'max_depth': 3}. Best is trial 21 with value: 0.555404829195043.\n",
      "[I 2023-12-19 21:21:33,509] Trial 55 finished with value: 0.5576277309076413 and parameters: {'lambda': 4.21494994969287, 'alpha': 0.0015083775308657183, 'colsample_bytree': 0.8, 'colsample_bynode': 0.8, 'colsample_bylevel': 0.8, 'subsample': 0.9, 'learning_rate': 0.007333356167736696, 'n_estimators': 2000, 'max_depth': 3}. Best is trial 21 with value: 0.555404829195043.\n",
      "[I 2023-12-19 21:21:38,786] Trial 56 finished with value: 0.5569667890614447 and parameters: {'lambda': 7.35804497159966, 'alpha': 0.0014203203941799073, 'colsample_bytree': 0.8, 'colsample_bynode': 0.6, 'colsample_bylevel': 0.8, 'subsample': 0.9, 'learning_rate': 0.00474592150800073, 'n_estimators': 2000, 'max_depth': 3}. Best is trial 21 with value: 0.555404829195043.\n",
      "[I 2023-12-19 21:21:41,820] Trial 57 finished with value: 0.5572843969206775 and parameters: {'lambda': 4.496534119149503, 'alpha': 0.00264888163116673, 'colsample_bytree': 0.8, 'colsample_bynode': 0.8, 'colsample_bylevel': 0.8, 'subsample': 0.9, 'learning_rate': 0.00731328705439288, 'n_estimators': 2500, 'max_depth': 3}. Best is trial 21 with value: 0.555404829195043.\n",
      "[I 2023-12-19 21:21:50,682] Trial 58 finished with value: 0.5634859399061395 and parameters: {'lambda': 9.897719191119661, 'alpha': 0.0011142075049642875, 'colsample_bytree': 0.8, 'colsample_bynode': 0.8, 'colsample_bylevel': 0.8, 'subsample': 0.8, 'learning_rate': 0.0022342386098676142, 'n_estimators': 2000, 'max_depth': 4}. Best is trial 21 with value: 0.555404829195043.\n",
      "[I 2023-12-19 21:21:56,063] Trial 59 finished with value: 0.5572204913835999 and parameters: {'lambda': 5.7482900021727374, 'alpha': 0.0025275512686539128, 'colsample_bytree': 0.8, 'colsample_bynode': 0.9, 'colsample_bylevel': 0.8, 'subsample': 0.9, 'learning_rate': 0.004417633680620421, 'n_estimators': 2000, 'max_depth': 3}. Best is trial 21 with value: 0.555404829195043.\n",
      "[I 2023-12-19 21:21:59,170] Trial 60 finished with value: 0.5570577672229305 and parameters: {'lambda': 1.6573945079170338, 'alpha': 0.0015991154034460627, 'colsample_bytree': 0.8, 'colsample_bynode': 0.8, 'colsample_bylevel': 0.8, 'subsample': 0.5, 'learning_rate': 0.009850165890742836, 'n_estimators': 1800, 'max_depth': 3}. Best is trial 21 with value: 0.555404829195043.\n",
      "[I 2023-12-19 21:22:02,102] Trial 61 finished with value: 0.5563455274244499 and parameters: {'lambda': 9.701884770226194, 'alpha': 0.0035574921016556685, 'colsample_bytree': 0.8, 'colsample_bynode': 0.8, 'colsample_bylevel': 0.8, 'subsample': 0.9, 'learning_rate': 0.009944895285491572, 'n_estimators': 2000, 'max_depth': 3}. Best is trial 21 with value: 0.555404829195043.\n",
      "[I 2023-12-19 21:22:05,680] Trial 62 finished with value: 0.557458141351173 and parameters: {'lambda': 8.066343356043308, 'alpha': 0.0036587696945199043, 'colsample_bytree': 0.8, 'colsample_bynode': 0.8, 'colsample_bylevel': 0.8, 'subsample': 0.9, 'learning_rate': 0.0071127148964730625, 'n_estimators': 2000, 'max_depth': 2}. Best is trial 21 with value: 0.555404829195043.\n",
      "[I 2023-12-19 21:22:11,980] Trial 63 finished with value: 0.5568084444964736 and parameters: {'lambda': 4.968772721081266, 'alpha': 0.0020260425262474337, 'colsample_bytree': 0.8, 'colsample_bynode': 0.8, 'colsample_bylevel': 0.9, 'subsample': 0.9, 'learning_rate': 0.0040667671806426855, 'n_estimators': 2000, 'max_depth': 3}. Best is trial 21 with value: 0.555404829195043.\n",
      "[I 2023-12-19 21:22:14,983] Trial 64 finished with value: 0.5568527353332499 and parameters: {'lambda': 3.399019066509824, 'alpha': 0.001287263696434657, 'colsample_bytree': 0.8, 'colsample_bynode': 0.8, 'colsample_bylevel': 0.8, 'subsample': 0.9, 'learning_rate': 0.007555370750347291, 'n_estimators': 2000, 'max_depth': 3}. Best is trial 21 with value: 0.555404829195043.\n",
      "[I 2023-12-19 21:22:19,494] Trial 65 finished with value: 0.5608655313321982 and parameters: {'lambda': 7.817908109427438, 'alpha': 0.0010068917963165275, 'colsample_bytree': 0.8, 'colsample_bynode': 0.8, 'colsample_bylevel': 0.8, 'subsample': 0.9, 'learning_rate': 0.004876318963856178, 'n_estimators': 1000, 'max_depth': 4}. Best is trial 21 with value: 0.555404829195043.\n",
      "[I 2023-12-19 21:22:25,637] Trial 66 finished with value: 0.5610995655818823 and parameters: {'lambda': 5.434703044539875, 'alpha': 0.002666224620888163, 'colsample_bytree': 0.8, 'colsample_bynode': 0.4, 'colsample_bylevel': 0.8, 'subsample': 0.9, 'learning_rate': 0.002658189277137968, 'n_estimators': 2000, 'max_depth': 3}. Best is trial 21 with value: 0.555404829195043.\n",
      "[I 2023-12-19 21:22:29,634] Trial 67 finished with value: 0.5556084369469368 and parameters: {'lambda': 9.667427318424721, 'alpha': 0.004753941644697413, 'colsample_bytree': 0.4, 'colsample_bynode': 0.8, 'colsample_bylevel': 0.4, 'subsample': 0.9, 'learning_rate': 0.008126565839924828, 'n_estimators': 2000, 'max_depth': 2}. Best is trial 21 with value: 0.555404829195043.\n",
      "[I 2023-12-19 21:22:36,044] Trial 68 finished with value: 0.5604423751452794 and parameters: {'lambda': 2.9703931493955507, 'alpha': 0.0019328642229577322, 'colsample_bytree': 0.4, 'colsample_bynode': 0.8, 'colsample_bylevel': 0.8, 'subsample': 0.4, 'learning_rate': 0.0032279056546733477, 'n_estimators': 2000, 'max_depth': 3}. Best is trial 21 with value: 0.555404829195043.\n",
      "[I 2023-12-19 21:22:43,740] Trial 69 finished with value: 0.5584086685312718 and parameters: {'lambda': 3.8361890628700492, 'alpha': 0.001462514252073944, 'colsample_bytree': 0.4, 'colsample_bynode': 0.6, 'colsample_bylevel': 0.9, 'subsample': 0.8, 'learning_rate': 0.0055297776940820016, 'n_estimators': 2000, 'max_depth': 5}. Best is trial 21 with value: 0.555404829195043.\n",
      "[I 2023-12-19 21:22:47,236] Trial 70 finished with value: 0.5568081057620606 and parameters: {'lambda': 7.541899907757529, 'alpha': 0.00465614952320852, 'colsample_bytree': 0.4, 'colsample_bynode': 0.8, 'colsample_bylevel': 0.8, 'subsample': 0.9, 'learning_rate': 0.008062807158071093, 'n_estimators': 2250, 'max_depth': 2}. Best is trial 21 with value: 0.555404829195043.\n",
      "[I 2023-12-19 21:22:51,201] Trial 71 finished with value: 0.5564111393555446 and parameters: {'lambda': 5.298067392165186, 'alpha': 0.00317687223195486, 'colsample_bytree': 0.4, 'colsample_bynode': 0.8, 'colsample_bylevel': 0.4, 'subsample': 0.9, 'learning_rate': 0.008188187966334866, 'n_estimators': 2000, 'max_depth': 2}. Best is trial 21 with value: 0.555404829195043.\n",
      "[I 2023-12-19 21:22:57,063] Trial 72 finished with value: 0.5562352090864097 and parameters: {'lambda': 9.555862394210223, 'alpha': 0.002205419703091309, 'colsample_bytree': 0.8, 'colsample_bynode': 0.8, 'colsample_bylevel': 0.4, 'subsample': 0.9, 'learning_rate': 0.005382622956031299, 'n_estimators': 2000, 'max_depth': 2}. Best is trial 21 with value: 0.555404829195043.\n",
      "[I 2023-12-19 21:23:02,926] Trial 73 finished with value: 0.5581379898135269 and parameters: {'lambda': 7.75831334980693, 'alpha': 0.0021183564089149276, 'colsample_bytree': 0.8, 'colsample_bynode': 0.8, 'colsample_bylevel': 0.4, 'subsample': 0.9, 'learning_rate': 0.00429051058369835, 'n_estimators': 2000, 'max_depth': 2}. Best is trial 21 with value: 0.555404829195043.\n",
      "[I 2023-12-19 21:23:08,833] Trial 74 finished with value: 0.5568125835754323 and parameters: {'lambda': 9.545659583173803, 'alpha': 0.001496896065806292, 'colsample_bytree': 0.8, 'colsample_bynode': 0.8, 'colsample_bylevel': 0.4, 'subsample': 0.9, 'learning_rate': 0.005209752351515307, 'n_estimators': 2000, 'max_depth': 2}. Best is trial 21 with value: 0.555404829195043.\n",
      "[I 2023-12-19 21:23:13,785] Trial 75 finished with value: 0.5550565571203268 and parameters: {'lambda': 5.834718547596952, 'alpha': 0.002352833328301686, 'colsample_bytree': 0.8, 'colsample_bynode': 0.8, 'colsample_bylevel': 0.4, 'subsample': 0.9, 'learning_rate': 0.00645601357453453, 'n_estimators': 2000, 'max_depth': 3}. Best is trial 75 with value: 0.5550565571203268.\n",
      "[I 2023-12-19 21:23:21,762] Trial 76 finished with value: 0.5589930565635775 and parameters: {'lambda': 4.937953979754261, 'alpha': 0.004990676465090294, 'colsample_bytree': 0.8, 'colsample_bynode': 0.8, 'colsample_bylevel': 0.4, 'subsample': 0.7, 'learning_rate': 0.0023707124665774135, 'n_estimators': 2500, 'max_depth': 3}. Best is trial 75 with value: 0.5550565571203268.\n",
      "[I 2023-12-19 21:23:27,466] Trial 77 finished with value: 0.5575951491506275 and parameters: {'lambda': 5.851645884372046, 'alpha': 0.0024416926573655913, 'colsample_bytree': 0.8, 'colsample_bynode': 0.8, 'colsample_bylevel': 0.4, 'subsample': 0.9, 'learning_rate': 0.0036718435474745585, 'n_estimators': 1800, 'max_depth': 3}. Best is trial 75 with value: 0.5550565571203268.\n",
      "[I 2023-12-19 21:23:31,845] Trial 78 finished with value: 0.5572879713331648 and parameters: {'lambda': 3.908299404615429, 'alpha': 0.0019165457316282714, 'colsample_bytree': 0.6, 'colsample_bynode': 0.9, 'colsample_bylevel': 0.4, 'subsample': 0.5, 'learning_rate': 0.006359836976692326, 'n_estimators': 1500, 'max_depth': 3}. Best is trial 75 with value: 0.5550565571203268.\n",
      "[I 2023-12-19 21:23:38,331] Trial 79 finished with value: 0.5596454261553255 and parameters: {'lambda': 3.0028483902258336, 'alpha': 0.006500599701498185, 'colsample_bytree': 0.4, 'colsample_bynode': 0.8, 'colsample_bylevel': 0.4, 'subsample': 0.9, 'learning_rate': 0.003264739264659416, 'n_estimators': 2000, 'max_depth': 3}. Best is trial 75 with value: 0.5550565571203268.\n",
      "[I 2023-12-19 21:23:44,252] Trial 80 finished with value: 0.5552473244239284 and parameters: {'lambda': 6.673379448503215, 'alpha': 0.00384607631345107, 'colsample_bytree': 0.8, 'colsample_bynode': 0.8, 'colsample_bylevel': 0.4, 'subsample': 0.7, 'learning_rate': 0.00487453764142092, 'n_estimators': 2000, 'max_depth': 4}. Best is trial 75 with value: 0.5550565571203268.\n",
      "[I 2023-12-19 21:23:48,612] Trial 81 finished with value: 0.5610613773417126 and parameters: {'lambda': 6.973792005263465, 'alpha': 0.004183387160354728, 'colsample_bytree': 0.8, 'colsample_bynode': 0.8, 'colsample_bylevel': 0.4, 'subsample': 0.7, 'learning_rate': 0.006241553487373213, 'n_estimators': 2000, 'max_depth': 4}. Best is trial 75 with value: 0.5550565571203268.\n",
      "[I 2023-12-19 21:23:54,831] Trial 82 finished with value: 0.5598487854707825 and parameters: {'lambda': 5.955029456987657, 'alpha': 0.002943439622366846, 'colsample_bytree': 0.8, 'colsample_bynode': 0.8, 'colsample_bylevel': 0.4, 'subsample': 0.7, 'learning_rate': 0.004553129275848084, 'n_estimators': 2000, 'max_depth': 4}. Best is trial 75 with value: 0.5550565571203268.\n",
      "[I 2023-12-19 21:23:58,808] Trial 83 finished with value: 0.5594644446878788 and parameters: {'lambda': 9.998912235436038, 'alpha': 0.0012667459163067673, 'colsample_bytree': 0.8, 'colsample_bynode': 0.8, 'colsample_bylevel': 0.4, 'subsample': 0.7, 'learning_rate': 0.007549102055417033, 'n_estimators': 2000, 'max_depth': 4}. Best is trial 75 with value: 0.5550565571203268.\n",
      "[I 2023-12-19 21:24:04,718] Trial 84 finished with value: 0.5607441424554788 and parameters: {'lambda': 4.581913862699007, 'alpha': 0.0017151713000931178, 'colsample_bytree': 0.8, 'colsample_bynode': 0.8, 'colsample_bylevel': 0.4, 'subsample': 0.7, 'learning_rate': 0.002636689837636399, 'n_estimators': 2000, 'max_depth': 3}. Best is trial 75 with value: 0.5550565571203268.\n",
      "[I 2023-12-19 21:24:10,302] Trial 85 finished with value: 0.5593953970720232 and parameters: {'lambda': 7.812530297293312, 'alpha': 0.0023445922399259918, 'colsample_bytree': 0.8, 'colsample_bynode': 0.4, 'colsample_bylevel': 0.6, 'subsample': 0.9, 'learning_rate': 0.00521163096805127, 'n_estimators': 2000, 'max_depth': 4}. Best is trial 75 with value: 0.5550565571203268.\n",
      "[I 2023-12-19 21:24:16,296] Trial 86 finished with value: 0.5791060517142315 and parameters: {'lambda': 3.787045112398784, 'alpha': 0.004019727282039372, 'colsample_bytree': 0.8, 'colsample_bynode': 0.8, 'colsample_bylevel': 0.4, 'subsample': 0.6, 'learning_rate': 0.0017888260142512925, 'n_estimators': 2000, 'max_depth': 3}. Best is trial 75 with value: 0.5550565571203268.\n",
      "[I 2023-12-19 21:24:19,164] Trial 87 finished with value: 0.5581741066374898 and parameters: {'lambda': 6.233881763093575, 'alpha': 0.0060984421257813904, 'colsample_bytree': 0.8, 'colsample_bynode': 0.6, 'colsample_bylevel': 0.4, 'subsample': 0.7, 'learning_rate': 0.009860636521920001, 'n_estimators': 1000, 'max_depth': 3}. Best is trial 75 with value: 0.5550565571203268.\n",
      "[I 2023-12-19 21:24:25,830] Trial 88 finished with value: 0.5591506908036319 and parameters: {'lambda': 2.5877773999384615, 'alpha': 0.007776510521728894, 'colsample_bytree': 0.4, 'colsample_bynode': 0.8, 'colsample_bylevel': 0.4, 'subsample': 0.9, 'learning_rate': 0.0034788692809528776, 'n_estimators': 2000, 'max_depth': 3}. Best is trial 75 with value: 0.5550565571203268.\n",
      "[I 2023-12-19 21:24:29,929] Trial 89 finished with value: 0.5610776701325093 and parameters: {'lambda': 1.9340785139003231, 'alpha': 0.0030253835823632726, 'colsample_bytree': 0.8, 'colsample_bynode': 0.9, 'colsample_bylevel': 0.6, 'subsample': 0.9, 'learning_rate': 0.0065965190773023515, 'n_estimators': 2000, 'max_depth': 4}. Best is trial 75 with value: 0.5550565571203268.\n",
      "[I 2023-12-19 21:24:35,790] Trial 90 finished with value: 0.559055890281763 and parameters: {'lambda': 8.278362447435667, 'alpha': 0.005010101993718099, 'colsample_bytree': 0.6, 'colsample_bynode': 0.8, 'colsample_bylevel': 0.4, 'subsample': 0.4, 'learning_rate': 0.004011996416199306, 'n_estimators': 2000, 'max_depth': 3}. Best is trial 75 with value: 0.5550565571203268.\n",
      "[I 2023-12-19 21:24:39,539] Trial 91 finished with value: 0.5580803717893592 and parameters: {'lambda': 8.65579099982624, 'alpha': 0.001323375430498289, 'colsample_bytree': 0.8, 'colsample_bynode': 0.8, 'colsample_bylevel': 0.8, 'subsample': 0.9, 'learning_rate': 0.0072279324146467235, 'n_estimators': 2000, 'max_depth': 2}. Best is trial 75 with value: 0.5550565571203268.\n",
      "[I 2023-12-19 21:24:42,573] Trial 92 finished with value: 0.5584770680815757 and parameters: {'lambda': 6.744615877049886, 'alpha': 0.0010140151774430972, 'colsample_bytree': 0.8, 'colsample_bynode': 0.8, 'colsample_bylevel': 0.8, 'subsample': 0.9, 'learning_rate': 0.00883667184341433, 'n_estimators': 2000, 'max_depth': 2}. Best is trial 75 with value: 0.5550565571203268.\n",
      "[I 2023-12-19 21:24:48,303] Trial 93 finished with value: 0.5567946227158838 and parameters: {'lambda': 4.8169364616225385, 'alpha': 0.0017345114423894827, 'colsample_bytree': 0.8, 'colsample_bynode': 0.8, 'colsample_bylevel': 0.8, 'subsample': 0.9, 'learning_rate': 0.005771298555936588, 'n_estimators': 2000, 'max_depth': 2}. Best is trial 75 with value: 0.5550565571203268.\n",
      "[I 2023-12-19 21:24:52,756] Trial 94 finished with value: 0.5561217528405805 and parameters: {'lambda': 8.288908900475102, 'alpha': 0.0022800409038287437, 'colsample_bytree': 0.8, 'colsample_bynode': 0.8, 'colsample_bylevel': 0.4, 'subsample': 0.9, 'learning_rate': 0.008123186609710823, 'n_estimators': 2000, 'max_depth': 2}. Best is trial 75 with value: 0.5550565571203268.\n",
      "[I 2023-12-19 21:24:58,739] Trial 95 finished with value: 0.5562135210385154 and parameters: {'lambda': 8.310615326840317, 'alpha': 0.0023304150048293706, 'colsample_bytree': 0.8, 'colsample_bynode': 0.8, 'colsample_bylevel': 0.4, 'subsample': 0.8, 'learning_rate': 0.004652331222314842, 'n_estimators': 2250, 'max_depth': 3}. Best is trial 75 with value: 0.5550565571203268.\n",
      "[I 2023-12-19 21:25:02,770] Trial 96 finished with value: 0.5541493392370642 and parameters: {'lambda': 6.29525858048249, 'alpha': 0.0034859671182548204, 'colsample_bytree': 0.8, 'colsample_bynode': 0.8, 'colsample_bylevel': 0.4, 'subsample': 0.8, 'learning_rate': 0.008083203116849208, 'n_estimators': 2250, 'max_depth': 3}. Best is trial 96 with value: 0.5541493392370642.\n",
      "[I 2023-12-19 21:25:05,796] Trial 97 finished with value: 0.5569025738811582 and parameters: {'lambda': 3.3313573230532363, 'alpha': 0.003393034297283685, 'colsample_bytree': 0.8, 'colsample_bynode': 0.9, 'colsample_bylevel': 0.4, 'subsample': 0.8, 'learning_rate': 0.007932618498292915, 'n_estimators': 2250, 'max_depth': 3}. Best is trial 96 with value: 0.5541493392370642.\n",
      "[I 2023-12-19 21:25:10,456] Trial 98 finished with value: 0.5555535883052137 and parameters: {'lambda': 5.678880595828125, 'alpha': 0.0041617293079030246, 'colsample_bytree': 0.8, 'colsample_bynode': 0.8, 'colsample_bylevel': 0.4, 'subsample': 0.8, 'learning_rate': 0.006609506386552078, 'n_estimators': 2250, 'max_depth': 3}. Best is trial 96 with value: 0.5541493392370642.\n",
      "[I 2023-12-19 21:25:17,548] Trial 99 finished with value: 0.5575908886295059 and parameters: {'lambda': 5.849207340173682, 'alpha': 0.01077796570365069, 'colsample_bytree': 0.8, 'colsample_bynode': 0.8, 'colsample_bylevel': 0.4, 'subsample': 0.8, 'learning_rate': 0.0029123313847166923, 'n_estimators': 2250, 'max_depth': 3}. Best is trial 96 with value: 0.5541493392370642.\n"
     ]
    },
    {
     "name": "stdout",
     "output_type": "stream",
     "text": [
      "Number of finished trials: 100\n",
      "Best trial: {'lambda': 6.29525858048249, 'alpha': 0.0034859671182548204, 'colsample_bytree': 0.8, 'colsample_bynode': 0.8, 'colsample_bylevel': 0.4, 'subsample': 0.8, 'learning_rate': 0.008083203116849208, 'n_estimators': 2250, 'max_depth': 3}\n"
     ]
    }
   ],
   "source": [
    "study = optuna.create_study(direction='minimize')\n",
    "study.optimize(objective, n_trials=100)\n",
    "print('Number of finished trials:', len(study.trials))\n",
    "print('Best trial:', study.best_trial.params)"
   ]
  },
  {
   "cell_type": "code",
   "execution_count": 21,
   "metadata": {},
   "outputs": [
    {
     "data": {
      "text/html": [
       "<div>\n",
       "<style scoped>\n",
       "    .dataframe tbody tr th:only-of-type {\n",
       "        vertical-align: middle;\n",
       "    }\n",
       "\n",
       "    .dataframe tbody tr th {\n",
       "        vertical-align: top;\n",
       "    }\n",
       "\n",
       "    .dataframe thead th {\n",
       "        text-align: right;\n",
       "    }\n",
       "</style>\n",
       "<table border=\"1\" class=\"dataframe\">\n",
       "  <thead>\n",
       "    <tr style=\"text-align: right;\">\n",
       "      <th></th>\n",
       "      <th>number</th>\n",
       "      <th>value</th>\n",
       "      <th>datetime_start</th>\n",
       "      <th>datetime_complete</th>\n",
       "      <th>duration</th>\n",
       "      <th>params_alpha</th>\n",
       "      <th>params_colsample_bylevel</th>\n",
       "      <th>params_colsample_bynode</th>\n",
       "      <th>params_colsample_bytree</th>\n",
       "      <th>params_lambda</th>\n",
       "      <th>params_learning_rate</th>\n",
       "      <th>params_max_depth</th>\n",
       "      <th>params_n_estimators</th>\n",
       "      <th>params_subsample</th>\n",
       "      <th>state</th>\n",
       "    </tr>\n",
       "  </thead>\n",
       "  <tbody>\n",
       "    <tr>\n",
       "      <th>96</th>\n",
       "      <td>96</td>\n",
       "      <td>0.554149</td>\n",
       "      <td>2023-12-19 21:24:58.740064</td>\n",
       "      <td>2023-12-19 21:25:02.770850</td>\n",
       "      <td>0 days 00:00:04.030786</td>\n",
       "      <td>0.003486</td>\n",
       "      <td>0.4</td>\n",
       "      <td>0.8</td>\n",
       "      <td>0.8</td>\n",
       "      <td>6.295259</td>\n",
       "      <td>0.008083</td>\n",
       "      <td>3</td>\n",
       "      <td>2250</td>\n",
       "      <td>0.8</td>\n",
       "      <td>COMPLETE</td>\n",
       "    </tr>\n",
       "    <tr>\n",
       "      <th>75</th>\n",
       "      <td>75</td>\n",
       "      <td>0.555057</td>\n",
       "      <td>2023-12-19 21:23:08.835501</td>\n",
       "      <td>2023-12-19 21:23:13.784572</td>\n",
       "      <td>0 days 00:00:04.949071</td>\n",
       "      <td>0.002353</td>\n",
       "      <td>0.4</td>\n",
       "      <td>0.8</td>\n",
       "      <td>0.8</td>\n",
       "      <td>5.834719</td>\n",
       "      <td>0.006456</td>\n",
       "      <td>3</td>\n",
       "      <td>2000</td>\n",
       "      <td>0.9</td>\n",
       "      <td>COMPLETE</td>\n",
       "    </tr>\n",
       "    <tr>\n",
       "      <th>80</th>\n",
       "      <td>80</td>\n",
       "      <td>0.555247</td>\n",
       "      <td>2023-12-19 21:23:38.332306</td>\n",
       "      <td>2023-12-19 21:23:44.252623</td>\n",
       "      <td>0 days 00:00:05.920317</td>\n",
       "      <td>0.003846</td>\n",
       "      <td>0.4</td>\n",
       "      <td>0.8</td>\n",
       "      <td>0.8</td>\n",
       "      <td>6.673379</td>\n",
       "      <td>0.004875</td>\n",
       "      <td>4</td>\n",
       "      <td>2000</td>\n",
       "      <td>0.7</td>\n",
       "      <td>COMPLETE</td>\n",
       "    </tr>\n",
       "    <tr>\n",
       "      <th>21</th>\n",
       "      <td>21</td>\n",
       "      <td>0.555405</td>\n",
       "      <td>2023-12-19 21:18:39.581746</td>\n",
       "      <td>2023-12-19 21:18:44.577648</td>\n",
       "      <td>0 days 00:00:04.995902</td>\n",
       "      <td>0.002935</td>\n",
       "      <td>0.6</td>\n",
       "      <td>0.8</td>\n",
       "      <td>0.9</td>\n",
       "      <td>9.359074</td>\n",
       "      <td>0.005167</td>\n",
       "      <td>3</td>\n",
       "      <td>2000</td>\n",
       "      <td>0.7</td>\n",
       "      <td>COMPLETE</td>\n",
       "    </tr>\n",
       "    <tr>\n",
       "      <th>98</th>\n",
       "      <td>98</td>\n",
       "      <td>0.555554</td>\n",
       "      <td>2023-12-19 21:25:05.797801</td>\n",
       "      <td>2023-12-19 21:25:10.456751</td>\n",
       "      <td>0 days 00:00:04.658950</td>\n",
       "      <td>0.004162</td>\n",
       "      <td>0.4</td>\n",
       "      <td>0.8</td>\n",
       "      <td>0.8</td>\n",
       "      <td>5.678881</td>\n",
       "      <td>0.006610</td>\n",
       "      <td>3</td>\n",
       "      <td>2250</td>\n",
       "      <td>0.8</td>\n",
       "      <td>COMPLETE</td>\n",
       "    </tr>\n",
       "  </tbody>\n",
       "</table>\n",
       "</div>"
      ],
      "text/plain": [
       "    number     value             datetime_start          datetime_complete  \\\n",
       "96      96  0.554149 2023-12-19 21:24:58.740064 2023-12-19 21:25:02.770850   \n",
       "75      75  0.555057 2023-12-19 21:23:08.835501 2023-12-19 21:23:13.784572   \n",
       "80      80  0.555247 2023-12-19 21:23:38.332306 2023-12-19 21:23:44.252623   \n",
       "21      21  0.555405 2023-12-19 21:18:39.581746 2023-12-19 21:18:44.577648   \n",
       "98      98  0.555554 2023-12-19 21:25:05.797801 2023-12-19 21:25:10.456751   \n",
       "\n",
       "                 duration  params_alpha  params_colsample_bylevel  \\\n",
       "96 0 days 00:00:04.030786      0.003486                       0.4   \n",
       "75 0 days 00:00:04.949071      0.002353                       0.4   \n",
       "80 0 days 00:00:05.920317      0.003846                       0.4   \n",
       "21 0 days 00:00:04.995902      0.002935                       0.6   \n",
       "98 0 days 00:00:04.658950      0.004162                       0.4   \n",
       "\n",
       "    params_colsample_bynode  params_colsample_bytree  params_lambda  \\\n",
       "96                      0.8                      0.8       6.295259   \n",
       "75                      0.8                      0.8       5.834719   \n",
       "80                      0.8                      0.8       6.673379   \n",
       "21                      0.8                      0.9       9.359074   \n",
       "98                      0.8                      0.8       5.678881   \n",
       "\n",
       "    params_learning_rate  params_max_depth  params_n_estimators  \\\n",
       "96              0.008083                 3                 2250   \n",
       "75              0.006456                 3                 2000   \n",
       "80              0.004875                 4                 2000   \n",
       "21              0.005167                 3                 2000   \n",
       "98              0.006610                 3                 2250   \n",
       "\n",
       "    params_subsample     state  \n",
       "96               0.8  COMPLETE  \n",
       "75               0.9  COMPLETE  \n",
       "80               0.7  COMPLETE  \n",
       "21               0.7  COMPLETE  \n",
       "98               0.8  COMPLETE  "
      ]
     },
     "execution_count": 21,
     "metadata": {},
     "output_type": "execute_result"
    }
   ],
   "source": [
    "study.trials_dataframe().sort_values(by='value', ascending=True).head()"
   ]
  },
  {
   "cell_type": "markdown",
   "metadata": {},
   "source": [
    "## Use best params"
   ]
  },
  {
   "cell_type": "code",
   "execution_count": 22,
   "metadata": {},
   "outputs": [
    {
     "name": "stdout",
     "output_type": "stream",
     "text": [
      "{'lambda': 6.29525858048249, 'alpha': 0.0034859671182548204, 'colsample_bytree': 0.8, 'colsample_bynode': 0.8, 'colsample_bylevel': 0.4, 'subsample': 0.8, 'learning_rate': 0.008083203116849208, 'n_estimators': 2250, 'max_depth': 3}\n"
     ]
    }
   ],
   "source": [
    "best_trial = study.best_trial.params\n",
    "print(best_trial)"
   ]
  },
  {
   "cell_type": "code",
   "execution_count": 23,
   "metadata": {},
   "outputs": [],
   "source": [
    "OOF_PREDS = np.zeros((len(train_feats), 2))\n",
    "# TEST_PREDS = np.zeros((len(test_feats), 2))"
   ]
  },
  {
   "cell_type": "code",
   "execution_count": 24,
   "metadata": {},
   "outputs": [],
   "source": [
    "models_dict = {}\n",
    "scores = []\n",
    "preds_dict = {}\n",
    "count = 0\n",
    "for _ in train_feats['id'].unique():\n",
    "    preds_dict[count] = []\n",
    "    count+=1\n",
    "\n",
    "# test_predict_list = []\n",
    "\n",
    "for i in range(3): \n",
    "    kf = model_selection.KFold(n_splits=20, random_state=42 + i, shuffle=True)\n",
    "    oof_valid_preds = np.zeros(train_feats.shape[0])\n",
    "    # X_test = test_feats[train_cols]\n",
    "    for fold, (train_idx, valid_idx) in enumerate(kf.split(train_feats)):\n",
    "        \n",
    "        X_train, y_train = train_feats.iloc[train_idx][train_cols], train_feats.iloc[train_idx][target_col]\n",
    "        X_valid, y_valid = train_feats.iloc[valid_idx][train_cols], train_feats.iloc[valid_idx][target_col]\n",
    "\n",
    "        best_params = {\n",
    "            'tree_method':'hist',\n",
    "            'objective': 'reg:squarederror',\n",
    "            'eval_metric': ['rmse'],\n",
    "            'seed': 42,\n",
    "            'nthread': -1,\n",
    "            'early_stopping_rounds': 50,\n",
    "            **best_trial\n",
    "        }\n",
    "        \n",
    "        model = xgb.XGBRegressor(**best_params)\n",
    "        \n",
    "        model.fit(X_train,y_train, eval_set=[(X_valid,y_valid)], verbose=False)\n",
    "\n",
    "        valid_predict = model.predict(X_valid)\n",
    "\n",
    "        for count, idx in enumerate(valid_idx):\n",
    "            preds_dict[idx].append(valid_predict[count])\n",
    "\n",
    "        oof_valid_preds[valid_idx] = valid_predict\n",
    "        # OOF_PREDS[valid_idx, 0] += valid_predict / 5\n",
    "        OOF_PREDS[valid_idx, 0] = valid_predict \n",
    "\n",
    "\n",
    "        # test_predict = model.predict(X_test)\n",
    "        # TEST_PREDS[:, 0] += test_predict / 5 / 10\n",
    "        # test_predict_list.append(test_predict)\n",
    "        score = metrics.mean_squared_error(y_valid, valid_predict, squared=False)\n",
    "        models_dict[f'{fold}_{i}'] = model\n",
    "\n",
    "    oof_score = metrics.mean_squared_error(train_feats[target_col], oof_valid_preds, squared=False)\n",
    "    scores.append(oof_score)"
   ]
  },
  {
   "cell_type": "code",
   "execution_count": 25,
   "metadata": {},
   "outputs": [],
   "source": [
    "means = []\n",
    "stds = []\n",
    "\n",
    "for idx in preds_dict:\n",
    "    means.append(np.mean(preds_dict[idx]))\n",
    "    stds.append(np.std(preds_dict[idx]))"
   ]
  },
  {
   "cell_type": "code",
   "execution_count": 26,
   "metadata": {},
   "outputs": [
    {
     "name": "stdout",
     "output_type": "stream",
     "text": [
      "OOF metric XGB = 0.60452\n"
     ]
    }
   ],
   "source": [
    "print('OOF metric XGB = {:.5f}'.format(metrics.mean_squared_error(train_feats[target_col], \n",
    "                                                                   means,\n",
    "                                                                   squared=False)))"
   ]
  },
  {
   "cell_type": "code",
   "execution_count": 27,
   "metadata": {},
   "outputs": [],
   "source": [
    "def add_identity(axes, *line_args, **line_kwargs):\n",
    "    identity, = axes.plot([], [], *line_args, **line_kwargs)\n",
    "    def callback(axes):\n",
    "        low_x, high_x = axes.get_xlim()\n",
    "        low_y, high_y = axes.get_ylim()\n",
    "        low = max(low_x, low_y)\n",
    "        high = min(high_x, high_y)\n",
    "        identity.set_data([low, high], [low, high])\n",
    "    callback(axes)\n",
    "    axes.callbacks.connect('xlim_changed', callback)\n",
    "    axes.callbacks.connect('ylim_changed', callback)\n",
    "    return axes"
   ]
  },
  {
   "cell_type": "code",
   "execution_count": 28,
   "metadata": {},
   "outputs": [],
   "source": [
    "import math\n",
    "def round_to_half(numbers, round_up=False):\n",
    "    if round_up:\n",
    "        return [round(num * 2) / 2 for num in numbers]\n",
    "    else:\n",
    "        return [math.floor(num * 2) / 2 for num in numbers]"
   ]
  },
  {
   "cell_type": "code",
   "execution_count": 29,
   "metadata": {},
   "outputs": [
    {
     "data": {
      "image/png": "[encoded data removed]",
      "text/plain": [
       "<Figure size 600x600 with 1 Axes>"
      ]
     },
     "metadata": {},
     "output_type": "display_data"
    }
   ],
   "source": [
    "f, ax = plt.subplots(figsize=(6, 6))\n",
    "ax.scatter(means, train_feats['score'])\n",
    "add_identity(ax, color='r', ls='--')\n",
    "# ax.scatter(stds, train_scores_df['score']-means)\n",
    "plt.ylabel('True Values')\n",
    "plt.xlabel('Predictions')\n",
    "\n",
    "plt.show()"
   ]
  },
  {
   "cell_type": "code",
   "execution_count": 30,
   "metadata": {},
   "outputs": [
    {
     "data": {
      "text/plain": [
       "(array([569., 930., 548., 266.,  90.,  37.,  20.,   7.,   3.,   1.]),\n",
       " array([0.00029866, 0.01709666, 0.03389466, 0.05069266, 0.06749067,\n",
       "        0.08428867, 0.10108667, 0.11788467, 0.13468267, 0.15148067,\n",
       "        0.16827868]),\n",
       " <BarContainer object of 10 artists>)"
      ]
     },
     "execution_count": 30,
     "metadata": {},
     "output_type": "execute_result"
    },
    {
     "data": {
      "image/png": "[encoded data removed]",
      "text/plain": [
       "<Figure size 640x480 with 1 Axes>"
      ]
     },
     "metadata": {},
     "output_type": "display_data"
    }
   ],
   "source": [
    "plt.hist(stds)"
   ]
  }
 ],
 "metadata": {
  "kernelspec": {
   "display_name": "Python 3",
   "language": "python",
   "name": "python3"
  },
  "language_info": {
   "codemirror_mode": {
    "name": "ipython",
    "version": 3
   },
   "file_extension": ".py",
   "mimetype": "text/x-python",
   "name": "python",
   "nbconvert_exporter": "python",
   "pygments_lexer": "ipython3",
   "version": "3.10.5"
  }
 },
 "nbformat": 4,
 "nbformat_minor": 2
}
