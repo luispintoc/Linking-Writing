{
 "cells": [
  {
   "cell_type": "code",
   "execution_count": 1,
   "metadata": {},
   "outputs": [],
   "source": [
    "import gc\n",
    "import os\n",
    "import itertools\n",
    "import pickle\n",
    "import re\n",
    "import time\n",
    "from random import choice, choices\n",
    "from functools import reduce\n",
    "from tqdm import tqdm\n",
    "from itertools import cycle\n",
    "import numpy as np\n",
    "import pandas as pd\n",
    "import seaborn as sns\n",
    "import matplotlib.pyplot as plt\n",
    "from collections import Counter\n",
    "from functools import reduce\n",
    "from itertools import cycle\n",
    "from scipy import stats\n",
    "from scipy.stats import skew, kurtosis\n",
    "from sklearn import metrics, model_selection, preprocessing, linear_model, ensemble, decomposition, tree\n",
    "import lightgbm as lgb\n",
    "import optuna\n",
    "from sklearn.metrics import mean_squared_error\n",
    "from sklearn.model_selection import train_test_split\n",
    "import xgboost as xgb\n",
    "\n",
    "\n",
    "import sys\n",
    "sys.path.append('../')\n",
    "from utils import *"
   ]
  },
  {
   "cell_type": "code",
   "execution_count": 2,
   "metadata": {},
   "outputs": [],
   "source": [
    "is_kaggle = False\n",
    "\n",
    "if is_kaggle:\n",
    "    base_dir = '/kaggle/input'\n",
    "    data_dir = f'{base_dir}/linking-writing-processes-to-writing-quality'\n",
    "    output_dir = '/kaggle/working'\n",
    "else:\n",
    "    base_dir = '../'\n",
    "    data_dir = f'{base_dir}/data'\n",
    "    models_dir = f'{base_dir}/models'"
   ]
  },
  {
   "cell_type": "code",
   "execution_count": 3,
   "metadata": {},
   "outputs": [],
   "source": [
    "train_feats = pd.read_csv('../feature_eng/example_features2.csv')"
   ]
  },
  {
   "cell_type": "code",
   "execution_count": 4,
   "metadata": {},
   "outputs": [],
   "source": [
    "train_feats.replace([np.inf, -np.inf], np.nan, inplace=True)\n",
    "cols = train_feats.columns\n",
    "\n",
    "# counter = 0\n",
    "# new_columns = {}\n",
    "# for col in cols:\n",
    "#     if col != 'id' and col != 'score':\n",
    "#         new_columns[col] = counter\n",
    "#         counter += 1\n",
    "\n",
    "# train_feats.rename(columns=new_columns, inplace=True)"
   ]
  },
  {
   "cell_type": "code",
   "execution_count": 5,
   "metadata": {},
   "outputs": [],
   "source": [
    "target_col = ['score']\n",
    "drop_cols = ['id']\n",
    "train_cols = [col for col in train_feats.columns if col not in target_col + drop_cols]"
   ]
  },
  {
   "cell_type": "code",
   "execution_count": 6,
   "metadata": {},
   "outputs": [],
   "source": [
    "train_feats.fillna(-999, inplace=True)\n",
    "train_feats.replace([np.inf, -np.inf], -999, inplace=True)"
   ]
  },
  {
   "cell_type": "code",
<<<<<<< HEAD
   "execution_count": 19,
=======
   "execution_count": 7,
>>>>>>> 6d657ea7fd8afd0ae5180f5f245fc45f9a137de9
   "metadata": {},
   "outputs": [],
   "source": [
    "def objective(trial,data=train_feats[train_cols],target=train_feats[target_col]):\n",
    "    \n",
    "    train_x, test_x, train_y, test_y = train_test_split(data, target, test_size=0.15, random_state=42)\n",
    "\n",
    "    params = {\n",
    "        'lambda': trial.suggest_float('lambda', 1e-3, 10.0, log=True),\n",
    "        'alpha': trial.suggest_float('alpha', 1e-3, 10.0, log=True),\n",
    "        'colsample_bytree': trial.suggest_categorical('colsample_bytree', [0.4,0.6,0.8,0.9]),\n",
    "        'colsample_bynode': trial.suggest_categorical('colsample_bynode', [0.4,0.6,0.8,0.9]),\n",
    "        'colsample_bylevel': trial.suggest_categorical('colsample_bylevel', [0.4,0.6,0.8,0.9]),\n",
    "        'subsample': trial.suggest_categorical('subsample', [0.4,0.5,0.6,0.7,0.8,0.9]),\n",
<<<<<<< HEAD
    "        'eta': trial.suggest_float('learning_rate', 1e-6, 1e-2, log=True),\n",
    "        'n_estimators': trial.suggest_categorical('n_estimators', [1000, 1500, 1800, 2000, 2250, 2500]),\n",
    "        'max_depth': trial.suggest_int('max_depth', 2, 5, step=1),\n",
=======
    "        'eta': trial.suggest_float('learning_rate', 1e-6, 5e-2, log=True),\n",
    "        'n_estimators': trial.suggest_categorical('n_estimators', [1000, 1500, 2000, 2500, 3000]),\n",
    "        'max_depth': trial.suggest_int('max_depth', 3, 9, step=1),\n",
>>>>>>> 6d657ea7fd8afd0ae5180f5f245fc45f9a137de9
    "    }\n",
    "\n",
    "    all_params = {\n",
    "        'tree_method':'gpu_hist',\n",
    "        'objective': 'reg:squarederror',\n",
    "        'eval_metric': ['rmse'],\n",
    "        'seed': 42,\n",
    "        'nthread': -1,\n",
    "        'early_stopping_rounds': 50,\n",
    "        **params\n",
    "    }\n",
    "\n",
    "\n",
    "    model = xgb.XGBRegressor(**all_params)\n",
    "    \n",
    "    model.fit(train_x,train_y,eval_set=[(test_x,test_y)], verbose=False)\n",
    "    \n",
    "    preds = model.predict(test_x)\n",
    "    \n",
    "    rmse = mean_squared_error(test_y, preds,squared=False)\n",
    "    \n",
    "    return rmse"
   ]
  },
  {
   "cell_type": "code",
<<<<<<< HEAD
   "execution_count": 20,
=======
   "execution_count": 8,
>>>>>>> 6d657ea7fd8afd0ae5180f5f245fc45f9a137de9
   "metadata": {},
   "outputs": [
    {
     "name": "stderr",
     "output_type": "stream",
     "text": [
<<<<<<< HEAD
      "[I 2023-12-19 21:16:29,981] A new study created in memory with name: no-name-0467de33-c355-4951-ac77-652e5eaf3fc6\n",
      "[I 2023-12-19 21:16:35,105] Trial 0 finished with value: 2.114214636227694 and parameters: {'lambda': 0.37940041306211425, 'alpha': 0.009294556774749298, 'colsample_bytree': 0.4, 'colsample_bynode': 0.9, 'colsample_bylevel': 0.8, 'subsample': 0.7, 'learning_rate': 0.0003326738341416802, 'n_estimators': 1500, 'max_depth': 2}. Best is trial 0 with value: 2.114214636227694.\n",
      "[I 2023-12-19 21:16:40,644] Trial 1 finished with value: 0.6364131365731766 and parameters: {'lambda': 0.038546066841937315, 'alpha': 0.00877622251675818, 'colsample_bytree': 0.4, 'colsample_bynode': 0.6, 'colsample_bylevel': 0.4, 'subsample': 0.5, 'learning_rate': 0.0017614472859975615, 'n_estimators': 1500, 'max_depth': 3}. Best is trial 1 with value: 0.6364131365731766.\n",
      "[I 2023-12-19 21:16:48,888] Trial 2 finished with value: 3.3481506343907186 and parameters: {'lambda': 2.7634998100208636, 'alpha': 0.0474800900145947, 'colsample_bytree': 0.4, 'colsample_bynode': 0.4, 'colsample_bylevel': 0.9, 'subsample': 0.5, 'learning_rate': 1.083920835532869e-06, 'n_estimators': 2500, 'max_depth': 3}. Best is trial 1 with value: 0.6364131365731766.\n",
      "[I 2023-12-19 21:17:01,391] Trial 3 finished with value: 1.810201248856391 and parameters: {'lambda': 0.9057888199943541, 'alpha': 1.3125602709475883, 'colsample_bytree': 0.9, 'colsample_bynode': 0.9, 'colsample_bylevel': 0.4, 'subsample': 0.5, 'learning_rate': 0.00033843734845737843, 'n_estimators': 2000, 'max_depth': 5}. Best is trial 1 with value: 0.6364131365731766.\n",
      "[I 2023-12-19 21:17:08,940] Trial 4 finished with value: 0.9952169183881897 and parameters: {'lambda': 2.9528569979008523, 'alpha': 0.12835074621486436, 'colsample_bytree': 0.6, 'colsample_bynode': 0.9, 'colsample_bylevel': 0.6, 'subsample': 0.5, 'learning_rate': 0.0008145894966854401, 'n_estimators': 1800, 'max_depth': 4}. Best is trial 1 with value: 0.6364131365731766.\n",
      "[I 2023-12-19 21:17:12,355] Trial 5 finished with value: 3.325505117712965 and parameters: {'lambda': 3.042373541609674, 'alpha': 0.07400906530051268, 'colsample_bytree': 0.9, 'colsample_bynode': 0.4, 'colsample_bylevel': 0.4, 'subsample': 0.4, 'learning_rate': 6.645581867609841e-06, 'n_estimators': 1500, 'max_depth': 2}. Best is trial 1 with value: 0.6364131365731766.\n",
      "[I 2023-12-19 21:17:21,501] Trial 6 finished with value: 2.4842241106238716 and parameters: {'lambda': 0.041689212961394925, 'alpha': 0.05829588029921063, 'colsample_bytree': 0.8, 'colsample_bynode': 0.4, 'colsample_bylevel': 0.6, 'subsample': 0.4, 'learning_rate': 0.00014125031413166867, 'n_estimators': 2250, 'max_depth': 4}. Best is trial 1 with value: 0.6364131365731766.\n",
      "[I 2023-12-19 21:17:31,250] Trial 7 finished with value: 0.5666074528523065 and parameters: {'lambda': 6.454265505370251, 'alpha': 0.218814025028084, 'colsample_bytree': 0.4, 'colsample_bynode': 0.8, 'colsample_bylevel': 0.9, 'subsample': 0.4, 'learning_rate': 0.0035302290987151153, 'n_estimators': 1500, 'max_depth': 5}. Best is trial 7 with value: 0.5666074528523065.\n",
      "[I 2023-12-19 21:17:44,250] Trial 8 finished with value: 3.078026730180678 and parameters: {'lambda': 0.002558252839228035, 'alpha': 1.1721596749177992, 'colsample_bytree': 0.6, 'colsample_bynode': 0.4, 'colsample_bylevel': 0.9, 'subsample': 0.4, 'learning_rate': 4.0642374331292697e-05, 'n_estimators': 2250, 'max_depth': 5}. Best is trial 7 with value: 0.5666074528523065.\n",
      "[I 2023-12-19 21:17:47,347] Trial 9 finished with value: 0.5583544806576967 and parameters: {'lambda': 6.245463504048911, 'alpha': 0.005571208121931686, 'colsample_bytree': 0.4, 'colsample_bynode': 0.9, 'colsample_bylevel': 0.9, 'subsample': 0.9, 'learning_rate': 0.00963440335864763, 'n_estimators': 2000, 'max_depth': 3}. Best is trial 9 with value: 0.5583544806576967.\n",
      "[I 2023-12-19 21:17:50,771] Trial 10 finished with value: 0.5613126606429694 and parameters: {'lambda': 0.30800787504744254, 'alpha': 0.0010570810961767786, 'colsample_bytree': 0.8, 'colsample_bynode': 0.8, 'colsample_bylevel': 0.8, 'subsample': 0.9, 'learning_rate': 0.006448697711894224, 'n_estimators': 2000, 'max_depth': 3}. Best is trial 9 with value: 0.5583544806576967.\n",
      "[I 2023-12-19 21:17:53,749] Trial 11 finished with value: 0.557655538337024 and parameters: {'lambda': 9.938274111158591, 'alpha': 0.0022182198562034003, 'colsample_bytree': 0.8, 'colsample_bynode': 0.8, 'colsample_bylevel': 0.8, 'subsample': 0.9, 'learning_rate': 0.009002653067869489, 'n_estimators': 2000, 'max_depth': 3}. Best is trial 11 with value: 0.557655538337024.\n",
      "[I 2023-12-19 21:17:56,805] Trial 12 finished with value: 0.5568352845908073 and parameters: {'lambda': 9.694037216337106, 'alpha': 0.0013261200398653446, 'colsample_bytree': 0.8, 'colsample_bynode': 0.8, 'colsample_bylevel': 0.8, 'subsample': 0.9, 'learning_rate': 0.00815110495002701, 'n_estimators': 2000, 'max_depth': 3}. Best is trial 12 with value: 0.5568352845908073.\n",
      "[I 2023-12-19 21:18:01,342] Trial 13 finished with value: 0.7554344897075914 and parameters: {'lambda': 8.785792082375401, 'alpha': 0.0010671310344819473, 'colsample_bytree': 0.8, 'colsample_bynode': 0.8, 'colsample_bylevel': 0.8, 'subsample': 0.8, 'learning_rate': 0.002017224639261539, 'n_estimators': 1000, 'max_depth': 4}. Best is trial 12 with value: 0.5568352845908073.\n",
      "[I 2023-12-19 21:18:03,886] Trial 14 finished with value: 0.5576507271420638 and parameters: {'lambda': 9.758856984105103, 'alpha': 0.0028851798848089027, 'colsample_bytree': 0.8, 'colsample_bynode': 0.8, 'colsample_bylevel': 0.8, 'subsample': 0.6, 'learning_rate': 0.009022234446800574, 'n_estimators': 2000, 'max_depth': 2}. Best is trial 12 with value: 0.5568352845908073.\n",
      "[I 2023-12-19 21:18:09,178] Trial 15 finished with value: 0.5913641536263333 and parameters: {'lambda': 1.1549710644830977, 'alpha': 0.004319513367321786, 'colsample_bytree': 0.8, 'colsample_bynode': 0.8, 'colsample_bylevel': 0.8, 'subsample': 0.6, 'learning_rate': 0.0017639648721479637, 'n_estimators': 2000, 'max_depth': 2}. Best is trial 12 with value: 0.5568352845908073.\n",
      "[I 2023-12-19 21:18:12,033] Trial 16 finished with value: 0.5843950670399956 and parameters: {'lambda': 1.6917104562853116, 'alpha': 0.016019374129040233, 'colsample_bytree': 0.8, 'colsample_bynode': 0.6, 'colsample_bylevel': 0.8, 'subsample': 0.6, 'learning_rate': 0.0038527238599623376, 'n_estimators': 1000, 'max_depth': 2}. Best is trial 12 with value: 0.5568352845908073.\n",
      "[I 2023-12-19 21:18:17,299] Trial 17 finished with value: 1.3530617319061997 and parameters: {'lambda': 0.5231108191462849, 'alpha': 0.002954219015169506, 'colsample_bytree': 0.8, 'colsample_bynode': 0.8, 'colsample_bylevel': 0.8, 'subsample': 0.6, 'learning_rate': 0.0005720472547175063, 'n_estimators': 1800, 'max_depth': 2}. Best is trial 12 with value: 0.5568352845908073.\n",
      "[I 2023-12-19 21:18:24,642] Trial 18 finished with value: 0.6383961396623697 and parameters: {'lambda': 0.1427850004022427, 'alpha': 0.019188792994073514, 'colsample_bytree': 0.8, 'colsample_bynode': 0.8, 'colsample_bylevel': 0.8, 'subsample': 0.8, 'learning_rate': 0.0010851383024630596, 'n_estimators': 2500, 'max_depth': 2}. Best is trial 12 with value: 0.5568352845908073.\n",
      "[I 2023-12-19 21:18:31,143] Trial 19 finished with value: 0.5567716499114005 and parameters: {'lambda': 3.2541297830013, 'alpha': 0.0021568977824565844, 'colsample_bytree': 0.9, 'colsample_bynode': 0.8, 'colsample_bylevel': 0.6, 'subsample': 0.7, 'learning_rate': 0.0037427060245360183, 'n_estimators': 2000, 'max_depth': 3}. Best is trial 19 with value: 0.5567716499114005.\n",
      "[I 2023-12-19 21:18:39,580] Trial 20 finished with value: 0.5613133269051417 and parameters: {'lambda': 1.6048701794350526, 'alpha': 0.0014578193566081837, 'colsample_bytree': 0.9, 'colsample_bynode': 0.6, 'colsample_bylevel': 0.6, 'subsample': 0.7, 'learning_rate': 0.0027803213103358335, 'n_estimators': 2000, 'max_depth': 4}. Best is trial 19 with value: 0.5567716499114005.\n",
      "[I 2023-12-19 21:18:44,577] Trial 21 finished with value: 0.555404829195043 and parameters: {'lambda': 9.359074303073559, 'alpha': 0.002935128179074197, 'colsample_bytree': 0.9, 'colsample_bynode': 0.8, 'colsample_bylevel': 0.6, 'subsample': 0.7, 'learning_rate': 0.005167117133951643, 'n_estimators': 2000, 'max_depth': 3}. Best is trial 21 with value: 0.555404829195043.\n",
      "[I 2023-12-19 21:18:50,741] Trial 22 finished with value: 0.5578767138266287 and parameters: {'lambda': 4.8797971070277875, 'alpha': 0.0027686443051506, 'colsample_bytree': 0.9, 'colsample_bynode': 0.8, 'colsample_bylevel': 0.6, 'subsample': 0.7, 'learning_rate': 0.003998589265213817, 'n_estimators': 2000, 'max_depth': 3}. Best is trial 21 with value: 0.555404829195043.\n",
      "[I 2023-12-19 21:18:55,489] Trial 23 finished with value: 0.5582974394583196 and parameters: {'lambda': 3.151294129579851, 'alpha': 0.0011950987253632848, 'colsample_bytree': 0.9, 'colsample_bynode': 0.8, 'colsample_bylevel': 0.6, 'subsample': 0.7, 'learning_rate': 0.004458342680853884, 'n_estimators': 2000, 'max_depth': 3}. Best is trial 21 with value: 0.555404829195043.\n",
      "[I 2023-12-19 21:19:01,855] Trial 24 finished with value: 0.6373046180296779 and parameters: {'lambda': 3.7746509152369114, 'alpha': 0.005571593177292701, 'colsample_bytree': 0.9, 'colsample_bynode': 0.8, 'colsample_bylevel': 0.6, 'subsample': 0.7, 'learning_rate': 0.0012938423523759172, 'n_estimators': 2000, 'max_depth': 3}. Best is trial 21 with value: 0.555404829195043.\n",
      "[I 2023-12-19 21:19:07,956] Trial 25 finished with value: 0.5607119081924365 and parameters: {'lambda': 1.7183648168503798, 'alpha': 0.002162600130558936, 'colsample_bytree': 0.9, 'colsample_bynode': 0.8, 'colsample_bylevel': 0.6, 'subsample': 0.9, 'learning_rate': 0.0044016691997433395, 'n_estimators': 2000, 'max_depth': 4}. Best is trial 21 with value: 0.555404829195043.\n",
      "[I 2023-12-19 21:19:15,510] Trial 26 finished with value: 0.5607774810682858 and parameters: {'lambda': 9.433715877291352, 'alpha': 0.024909329305164173, 'colsample_bytree': 0.9, 'colsample_bynode': 0.8, 'colsample_bylevel': 0.6, 'subsample': 0.7, 'learning_rate': 0.0022321510016947276, 'n_estimators': 2500, 'max_depth': 3}. Best is trial 21 with value: 0.555404829195043.\n",
      "[I 2023-12-19 21:19:20,538] Trial 27 finished with value: 0.5592932328231179 and parameters: {'lambda': 4.674065344736409, 'alpha': 0.00867585010321832, 'colsample_bytree': 0.6, 'colsample_bynode': 0.8, 'colsample_bylevel': 0.6, 'subsample': 0.7, 'learning_rate': 0.005787355636008841, 'n_estimators': 1800, 'max_depth': 4}. Best is trial 21 with value: 0.555404829195043.\n",
      "[I 2023-12-19 21:19:23,687] Trial 28 finished with value: 1.60274606669957 and parameters: {'lambda': 0.9800344031367064, 'alpha': 0.0017394137218595253, 'colsample_bytree': 0.9, 'colsample_bynode': 0.6, 'colsample_bylevel': 0.6, 'subsample': 0.9, 'learning_rate': 0.0008132909930491658, 'n_estimators': 1000, 'max_depth': 3}. Best is trial 21 with value: 0.555404829195043.\n",
      "[I 2023-12-19 21:19:30,879] Trial 29 finished with value: 1.4031936688971076 and parameters: {'lambda': 0.5860199998386334, 'alpha': 0.011292403330701787, 'colsample_bytree': 0.9, 'colsample_bynode': 0.9, 'colsample_bylevel': 0.4, 'subsample': 0.7, 'learning_rate': 0.0004328936950378393, 'n_estimators': 2250, 'max_depth': 3}. Best is trial 21 with value: 0.555404829195043.\n",
      "[I 2023-12-19 21:19:39,165] Trial 30 finished with value: 2.423308510117145 and parameters: {'lambda': 5.064940006256712, 'alpha': 0.004427055095828768, 'colsample_bytree': 0.6, 'colsample_bynode': 0.8, 'colsample_bylevel': 0.6, 'subsample': 0.7, 'learning_rate': 0.00017581737417395675, 'n_estimators': 2000, 'max_depth': 4}. Best is trial 21 with value: 0.555404829195043.\n",
      "[I 2023-12-19 21:19:41,391] Trial 31 finished with value: 0.558810873291379 and parameters: {'lambda': 9.508233340539288, 'alpha': 0.0031681824161833953, 'colsample_bytree': 0.8, 'colsample_bynode': 0.8, 'colsample_bylevel': 0.8, 'subsample': 0.6, 'learning_rate': 0.009885099870663426, 'n_estimators': 2000, 'max_depth': 2}. Best is trial 21 with value: 0.555404829195043.\n",
      "[I 2023-12-19 21:19:44,585] Trial 32 finished with value: 0.5642147999220789 and parameters: {'lambda': 2.2964457118440147, 'alpha': 0.007083525070399003, 'colsample_bytree': 0.8, 'colsample_bynode': 0.8, 'colsample_bylevel': 0.8, 'subsample': 0.6, 'learning_rate': 0.0059315953886588365, 'n_estimators': 2000, 'max_depth': 2}. Best is trial 21 with value: 0.555404829195043.\n",
      "[I 2023-12-19 21:19:51,050] Trial 33 finished with value: 0.5691882739874553 and parameters: {'lambda': 4.794774243004729, 'alpha': 0.0018715261333578817, 'colsample_bytree': 0.4, 'colsample_bynode': 0.8, 'colsample_bylevel': 0.8, 'subsample': 0.6, 'learning_rate': 0.0020747251993732236, 'n_estimators': 2000, 'max_depth': 3}. Best is trial 21 with value: 0.555404829195043.\n",
      "[I 2023-12-19 21:19:54,161] Trial 34 finished with value: 0.5562728598786976 and parameters: {'lambda': 9.987266385359694, 'alpha': 0.0036277772212255127, 'colsample_bytree': 0.9, 'colsample_bynode': 0.8, 'colsample_bylevel': 0.4, 'subsample': 0.9, 'learning_rate': 0.009922868290438966, 'n_estimators': 2000, 'max_depth': 2}. Best is trial 21 with value: 0.555404829195043.\n",
      "[I 2023-12-19 21:19:59,287] Trial 35 finished with value: 0.5636938145669423 and parameters: {'lambda': 2.2519550545480014, 'alpha': 0.010867963972828718, 'colsample_bytree': 0.9, 'colsample_bynode': 0.6, 'colsample_bylevel': 0.4, 'subsample': 0.9, 'learning_rate': 0.003087855012327051, 'n_estimators': 1500, 'max_depth': 3}. Best is trial 21 with value: 0.555404829195043.\n",
      "[I 2023-12-19 21:20:05,996] Trial 36 finished with value: 0.6607238029660206 and parameters: {'lambda': 3.311877210103798, 'alpha': 0.004709269204354018, 'colsample_bytree': 0.9, 'colsample_bynode': 0.4, 'colsample_bylevel': 0.4, 'subsample': 0.9, 'learning_rate': 0.0012279733780425392, 'n_estimators': 2000, 'max_depth': 3}. Best is trial 21 with value: 0.555404829195043.\n",
      "[I 2023-12-19 21:20:10,377] Trial 37 finished with value: 0.5596589223934991 and parameters: {'lambda': 5.957787734601502, 'alpha': 0.00178455711725192, 'colsample_bytree': 0.9, 'colsample_bynode': 0.9, 'colsample_bylevel': 0.4, 'subsample': 0.5, 'learning_rate': 0.005582783436974823, 'n_estimators': 1800, 'max_depth': 2}. Best is trial 21 with value: 0.555404829195043.\n",
      "[I 2023-12-19 21:20:18,522] Trial 38 finished with value: 0.5582377810711391 and parameters: {'lambda': 2.843641803944482, 'alpha': 0.027899525262778283, 'colsample_bytree': 0.9, 'colsample_bynode': 0.8, 'colsample_bylevel': 0.4, 'subsample': 0.9, 'learning_rate': 0.002706943077209749, 'n_estimators': 2500, 'max_depth': 3}. Best is trial 21 with value: 0.555404829195043.\n",
      "[I 2023-12-19 21:20:24,711] Trial 39 finished with value: 0.6376298407527811 and parameters: {'lambda': 1.2518545030611914, 'alpha': 0.006717155313102068, 'colsample_bytree': 0.9, 'colsample_bynode': 0.4, 'colsample_bylevel': 0.4, 'subsample': 0.8, 'learning_rate': 0.0016985070821941678, 'n_estimators': 1500, 'max_depth': 4}. Best is trial 21 with value: 0.555404829195043.\n",
      "[I 2023-12-19 21:20:28,005] Trial 40 finished with value: 0.559619978181416 and parameters: {'lambda': 6.15955509744958, 'alpha': 0.003877686298632956, 'colsample_bytree': 0.4, 'colsample_bynode': 0.8, 'colsample_bylevel': 0.9, 'subsample': 0.5, 'learning_rate': 0.005936539526208919, 'n_estimators': 2250, 'max_depth': 2}. Best is trial 21 with value: 0.555404829195043.\n",
      "[I 2023-12-19 21:20:31,908] Trial 41 finished with value: 0.5562556499846469 and parameters: {'lambda': 9.625974247792854, 'alpha': 0.0010032118024418388, 'colsample_bytree': 0.8, 'colsample_bynode': 0.8, 'colsample_bylevel': 0.8, 'subsample': 0.9, 'learning_rate': 0.00876647770508448, 'n_estimators': 2000, 'max_depth': 2}. Best is trial 21 with value: 0.555404829195043.\n",
      "[I 2023-12-19 21:20:35,186] Trial 42 finished with value: 0.5582045429974372 and parameters: {'lambda': 3.7609438194240976, 'alpha': 0.0010185483087947157, 'colsample_bytree': 0.6, 'colsample_bynode': 0.8, 'colsample_bylevel': 0.6, 'subsample': 0.9, 'learning_rate': 0.009546852567707823, 'n_estimators': 2000, 'max_depth': 2}. Best is trial 21 with value: 0.555404829195043.\n",
      "[I 2023-12-19 21:20:41,067] Trial 43 finished with value: 0.5602532108722671 and parameters: {'lambda': 7.064715899799498, 'alpha': 0.0015960762134919683, 'colsample_bytree': 0.9, 'colsample_bynode': 0.8, 'colsample_bylevel': 0.9, 'subsample': 0.9, 'learning_rate': 0.0033794449220251703, 'n_estimators': 2000, 'max_depth': 2}. Best is trial 21 with value: 0.555404829195043.\n",
      "[I 2023-12-19 21:20:45,380] Trial 44 finished with value: 0.5561301142342794 and parameters: {'lambda': 7.024883560966975, 'alpha': 0.002313209309550642, 'colsample_bytree': 0.8, 'colsample_bynode': 0.9, 'colsample_bylevel': 0.4, 'subsample': 0.9, 'learning_rate': 0.006609198739344626, 'n_estimators': 2000, 'max_depth': 3}. Best is trial 21 with value: 0.555404829195043.\n",
      "[I 2023-12-19 21:20:50,428] Trial 45 finished with value: 0.5595957996654457 and parameters: {'lambda': 6.113318687526179, 'alpha': 0.0032612478063559366, 'colsample_bytree': 0.4, 'colsample_bynode': 0.9, 'colsample_bylevel': 0.4, 'subsample': 0.4, 'learning_rate': 0.005969647272759431, 'n_estimators': 2000, 'max_depth': 2}. Best is trial 21 with value: 0.555404829195043.\n",
      "[I 2023-12-19 21:20:56,926] Trial 46 finished with value: 0.5592976489841597 and parameters: {'lambda': 2.3430139825314824, 'alpha': 0.0020709819460694974, 'colsample_bytree': 0.8, 'colsample_bynode': 0.9, 'colsample_bylevel': 0.4, 'subsample': 0.9, 'learning_rate': 0.0028542562447572803, 'n_estimators': 2000, 'max_depth': 3}. Best is trial 21 with value: 0.555404829195043.\n",
      "[I 2023-12-19 21:21:03,354] Trial 47 finished with value: 0.5610130967776995 and parameters: {'lambda': 4.090970444923376, 'alpha': 0.00562805338899578, 'colsample_bytree': 0.9, 'colsample_bynode': 0.9, 'colsample_bylevel': 0.4, 'subsample': 0.9, 'learning_rate': 0.006855193924832362, 'n_estimators': 2000, 'max_depth': 5}. Best is trial 21 with value: 0.555404829195043.\n",
      "[I 2023-12-19 21:21:06,290] Trial 48 finished with value: 0.5770715620531739 and parameters: {'lambda': 6.57777296988079, 'alpha': 0.008961477546530913, 'colsample_bytree': 0.8, 'colsample_bynode': 0.9, 'colsample_bylevel': 0.4, 'subsample': 0.7, 'learning_rate': 0.00367997740759648, 'n_estimators': 1000, 'max_depth': 3}. Best is trial 21 with value: 0.555404829195043.\n",
      "[I 2023-12-19 21:21:09,849] Trial 49 finished with value: 0.5568754176486206 and parameters: {'lambda': 7.029302838325149, 'alpha': 0.002469945732499981, 'colsample_bytree': 0.6, 'colsample_bynode': 0.9, 'colsample_bylevel': 0.4, 'subsample': 0.9, 'learning_rate': 0.007315066758110401, 'n_estimators': 1500, 'max_depth': 2}. Best is trial 21 with value: 0.555404829195043.\n",
      "[I 2023-12-19 21:21:15,987] Trial 50 finished with value: 0.5951691032214698 and parameters: {'lambda': 2.4181661063475017, 'alpha': 0.0012762319057169603, 'colsample_bytree': 0.8, 'colsample_bynode': 0.4, 'colsample_bylevel': 0.6, 'subsample': 0.4, 'learning_rate': 0.0015870576933666705, 'n_estimators': 2250, 'max_depth': 2}. Best is trial 21 with value: 0.555404829195043.\n",
      "[I 2023-12-19 21:21:19,705] Trial 51 finished with value: 0.5560434829990745 and parameters: {'lambda': 9.536711013472901, 'alpha': 0.001017235288374729, 'colsample_bytree': 0.8, 'colsample_bynode': 0.8, 'colsample_bylevel': 0.8, 'subsample': 0.9, 'learning_rate': 0.009071396372045872, 'n_estimators': 2000, 'max_depth': 3}. Best is trial 21 with value: 0.555404829195043.\n",
      "[I 2023-12-19 21:21:22,720] Trial 52 finished with value: 0.5561760962936075 and parameters: {'lambda': 9.4828724770746, 'alpha': 0.001486829149156691, 'colsample_bytree': 0.8, 'colsample_bynode': 0.8, 'colsample_bylevel': 0.8, 'subsample': 0.9, 'learning_rate': 0.009830954654861094, 'n_estimators': 2000, 'max_depth': 3}. Best is trial 21 with value: 0.555404829195043.\n",
      "[I 2023-12-19 21:21:25,686] Trial 53 finished with value: 0.555668531591449 and parameters: {'lambda': 9.32766818316019, 'alpha': 0.0011014636989352523, 'colsample_bytree': 0.8, 'colsample_bynode': 0.8, 'colsample_bylevel': 0.8, 'subsample': 0.9, 'learning_rate': 0.0096586512960375, 'n_estimators': 2000, 'max_depth': 3}. Best is trial 21 with value: 0.555404829195043.\n",
      "[I 2023-12-19 21:21:30,503] Trial 54 finished with value: 0.5566448285062815 and parameters: {'lambda': 7.360019749571745, 'alpha': 0.001043938968120648, 'colsample_bytree': 0.8, 'colsample_bynode': 0.8, 'colsample_bylevel': 0.8, 'subsample': 0.9, 'learning_rate': 0.005337943810901902, 'n_estimators': 2000, 'max_depth': 3}. Best is trial 21 with value: 0.555404829195043.\n",
      "[I 2023-12-19 21:21:33,509] Trial 55 finished with value: 0.5576277309076413 and parameters: {'lambda': 4.21494994969287, 'alpha': 0.0015083775308657183, 'colsample_bytree': 0.8, 'colsample_bynode': 0.8, 'colsample_bylevel': 0.8, 'subsample': 0.9, 'learning_rate': 0.007333356167736696, 'n_estimators': 2000, 'max_depth': 3}. Best is trial 21 with value: 0.555404829195043.\n",
      "[I 2023-12-19 21:21:38,786] Trial 56 finished with value: 0.5569667890614447 and parameters: {'lambda': 7.35804497159966, 'alpha': 0.0014203203941799073, 'colsample_bytree': 0.8, 'colsample_bynode': 0.6, 'colsample_bylevel': 0.8, 'subsample': 0.9, 'learning_rate': 0.00474592150800073, 'n_estimators': 2000, 'max_depth': 3}. Best is trial 21 with value: 0.555404829195043.\n",
      "[I 2023-12-19 21:21:41,820] Trial 57 finished with value: 0.5572843969206775 and parameters: {'lambda': 4.496534119149503, 'alpha': 0.00264888163116673, 'colsample_bytree': 0.8, 'colsample_bynode': 0.8, 'colsample_bylevel': 0.8, 'subsample': 0.9, 'learning_rate': 0.00731328705439288, 'n_estimators': 2500, 'max_depth': 3}. Best is trial 21 with value: 0.555404829195043.\n",
      "[I 2023-12-19 21:21:50,682] Trial 58 finished with value: 0.5634859399061395 and parameters: {'lambda': 9.897719191119661, 'alpha': 0.0011142075049642875, 'colsample_bytree': 0.8, 'colsample_bynode': 0.8, 'colsample_bylevel': 0.8, 'subsample': 0.8, 'learning_rate': 0.0022342386098676142, 'n_estimators': 2000, 'max_depth': 4}. Best is trial 21 with value: 0.555404829195043.\n",
      "[I 2023-12-19 21:21:56,063] Trial 59 finished with value: 0.5572204913835999 and parameters: {'lambda': 5.7482900021727374, 'alpha': 0.0025275512686539128, 'colsample_bytree': 0.8, 'colsample_bynode': 0.9, 'colsample_bylevel': 0.8, 'subsample': 0.9, 'learning_rate': 0.004417633680620421, 'n_estimators': 2000, 'max_depth': 3}. Best is trial 21 with value: 0.555404829195043.\n",
      "[I 2023-12-19 21:21:59,170] Trial 60 finished with value: 0.5570577672229305 and parameters: {'lambda': 1.6573945079170338, 'alpha': 0.0015991154034460627, 'colsample_bytree': 0.8, 'colsample_bynode': 0.8, 'colsample_bylevel': 0.8, 'subsample': 0.5, 'learning_rate': 0.009850165890742836, 'n_estimators': 1800, 'max_depth': 3}. Best is trial 21 with value: 0.555404829195043.\n",
      "[I 2023-12-19 21:22:02,102] Trial 61 finished with value: 0.5563455274244499 and parameters: {'lambda': 9.701884770226194, 'alpha': 0.0035574921016556685, 'colsample_bytree': 0.8, 'colsample_bynode': 0.8, 'colsample_bylevel': 0.8, 'subsample': 0.9, 'learning_rate': 0.009944895285491572, 'n_estimators': 2000, 'max_depth': 3}. Best is trial 21 with value: 0.555404829195043.\n",
      "[I 2023-12-19 21:22:05,680] Trial 62 finished with value: 0.557458141351173 and parameters: {'lambda': 8.066343356043308, 'alpha': 0.0036587696945199043, 'colsample_bytree': 0.8, 'colsample_bynode': 0.8, 'colsample_bylevel': 0.8, 'subsample': 0.9, 'learning_rate': 0.0071127148964730625, 'n_estimators': 2000, 'max_depth': 2}. Best is trial 21 with value: 0.555404829195043.\n",
      "[I 2023-12-19 21:22:11,980] Trial 63 finished with value: 0.5568084444964736 and parameters: {'lambda': 4.968772721081266, 'alpha': 0.0020260425262474337, 'colsample_bytree': 0.8, 'colsample_bynode': 0.8, 'colsample_bylevel': 0.9, 'subsample': 0.9, 'learning_rate': 0.0040667671806426855, 'n_estimators': 2000, 'max_depth': 3}. Best is trial 21 with value: 0.555404829195043.\n",
      "[I 2023-12-19 21:22:14,983] Trial 64 finished with value: 0.5568527353332499 and parameters: {'lambda': 3.399019066509824, 'alpha': 0.001287263696434657, 'colsample_bytree': 0.8, 'colsample_bynode': 0.8, 'colsample_bylevel': 0.8, 'subsample': 0.9, 'learning_rate': 0.007555370750347291, 'n_estimators': 2000, 'max_depth': 3}. Best is trial 21 with value: 0.555404829195043.\n",
      "[I 2023-12-19 21:22:19,494] Trial 65 finished with value: 0.5608655313321982 and parameters: {'lambda': 7.817908109427438, 'alpha': 0.0010068917963165275, 'colsample_bytree': 0.8, 'colsample_bynode': 0.8, 'colsample_bylevel': 0.8, 'subsample': 0.9, 'learning_rate': 0.004876318963856178, 'n_estimators': 1000, 'max_depth': 4}. Best is trial 21 with value: 0.555404829195043.\n",
      "[I 2023-12-19 21:22:25,637] Trial 66 finished with value: 0.5610995655818823 and parameters: {'lambda': 5.434703044539875, 'alpha': 0.002666224620888163, 'colsample_bytree': 0.8, 'colsample_bynode': 0.4, 'colsample_bylevel': 0.8, 'subsample': 0.9, 'learning_rate': 0.002658189277137968, 'n_estimators': 2000, 'max_depth': 3}. Best is trial 21 with value: 0.555404829195043.\n",
      "[I 2023-12-19 21:22:29,634] Trial 67 finished with value: 0.5556084369469368 and parameters: {'lambda': 9.667427318424721, 'alpha': 0.004753941644697413, 'colsample_bytree': 0.4, 'colsample_bynode': 0.8, 'colsample_bylevel': 0.4, 'subsample': 0.9, 'learning_rate': 0.008126565839924828, 'n_estimators': 2000, 'max_depth': 2}. Best is trial 21 with value: 0.555404829195043.\n",
      "[I 2023-12-19 21:22:36,044] Trial 68 finished with value: 0.5604423751452794 and parameters: {'lambda': 2.9703931493955507, 'alpha': 0.0019328642229577322, 'colsample_bytree': 0.4, 'colsample_bynode': 0.8, 'colsample_bylevel': 0.8, 'subsample': 0.4, 'learning_rate': 0.0032279056546733477, 'n_estimators': 2000, 'max_depth': 3}. Best is trial 21 with value: 0.555404829195043.\n",
      "[I 2023-12-19 21:22:43,740] Trial 69 finished with value: 0.5584086685312718 and parameters: {'lambda': 3.8361890628700492, 'alpha': 0.001462514252073944, 'colsample_bytree': 0.4, 'colsample_bynode': 0.6, 'colsample_bylevel': 0.9, 'subsample': 0.8, 'learning_rate': 0.0055297776940820016, 'n_estimators': 2000, 'max_depth': 5}. Best is trial 21 with value: 0.555404829195043.\n",
      "[I 2023-12-19 21:22:47,236] Trial 70 finished with value: 0.5568081057620606 and parameters: {'lambda': 7.541899907757529, 'alpha': 0.00465614952320852, 'colsample_bytree': 0.4, 'colsample_bynode': 0.8, 'colsample_bylevel': 0.8, 'subsample': 0.9, 'learning_rate': 0.008062807158071093, 'n_estimators': 2250, 'max_depth': 2}. Best is trial 21 with value: 0.555404829195043.\n",
      "[I 2023-12-19 21:22:51,201] Trial 71 finished with value: 0.5564111393555446 and parameters: {'lambda': 5.298067392165186, 'alpha': 0.00317687223195486, 'colsample_bytree': 0.4, 'colsample_bynode': 0.8, 'colsample_bylevel': 0.4, 'subsample': 0.9, 'learning_rate': 0.008188187966334866, 'n_estimators': 2000, 'max_depth': 2}. Best is trial 21 with value: 0.555404829195043.\n",
      "[I 2023-12-19 21:22:57,063] Trial 72 finished with value: 0.5562352090864097 and parameters: {'lambda': 9.555862394210223, 'alpha': 0.002205419703091309, 'colsample_bytree': 0.8, 'colsample_bynode': 0.8, 'colsample_bylevel': 0.4, 'subsample': 0.9, 'learning_rate': 0.005382622956031299, 'n_estimators': 2000, 'max_depth': 2}. Best is trial 21 with value: 0.555404829195043.\n",
      "[I 2023-12-19 21:23:02,926] Trial 73 finished with value: 0.5581379898135269 and parameters: {'lambda': 7.75831334980693, 'alpha': 0.0021183564089149276, 'colsample_bytree': 0.8, 'colsample_bynode': 0.8, 'colsample_bylevel': 0.4, 'subsample': 0.9, 'learning_rate': 0.00429051058369835, 'n_estimators': 2000, 'max_depth': 2}. Best is trial 21 with value: 0.555404829195043.\n",
      "[I 2023-12-19 21:23:08,833] Trial 74 finished with value: 0.5568125835754323 and parameters: {'lambda': 9.545659583173803, 'alpha': 0.001496896065806292, 'colsample_bytree': 0.8, 'colsample_bynode': 0.8, 'colsample_bylevel': 0.4, 'subsample': 0.9, 'learning_rate': 0.005209752351515307, 'n_estimators': 2000, 'max_depth': 2}. Best is trial 21 with value: 0.555404829195043.\n",
      "[I 2023-12-19 21:23:13,785] Trial 75 finished with value: 0.5550565571203268 and parameters: {'lambda': 5.834718547596952, 'alpha': 0.002352833328301686, 'colsample_bytree': 0.8, 'colsample_bynode': 0.8, 'colsample_bylevel': 0.4, 'subsample': 0.9, 'learning_rate': 0.00645601357453453, 'n_estimators': 2000, 'max_depth': 3}. Best is trial 75 with value: 0.5550565571203268.\n",
      "[I 2023-12-19 21:23:21,762] Trial 76 finished with value: 0.5589930565635775 and parameters: {'lambda': 4.937953979754261, 'alpha': 0.004990676465090294, 'colsample_bytree': 0.8, 'colsample_bynode': 0.8, 'colsample_bylevel': 0.4, 'subsample': 0.7, 'learning_rate': 0.0023707124665774135, 'n_estimators': 2500, 'max_depth': 3}. Best is trial 75 with value: 0.5550565571203268.\n",
      "[I 2023-12-19 21:23:27,466] Trial 77 finished with value: 0.5575951491506275 and parameters: {'lambda': 5.851645884372046, 'alpha': 0.0024416926573655913, 'colsample_bytree': 0.8, 'colsample_bynode': 0.8, 'colsample_bylevel': 0.4, 'subsample': 0.9, 'learning_rate': 0.0036718435474745585, 'n_estimators': 1800, 'max_depth': 3}. Best is trial 75 with value: 0.5550565571203268.\n",
      "[I 2023-12-19 21:23:31,845] Trial 78 finished with value: 0.5572879713331648 and parameters: {'lambda': 3.908299404615429, 'alpha': 0.0019165457316282714, 'colsample_bytree': 0.6, 'colsample_bynode': 0.9, 'colsample_bylevel': 0.4, 'subsample': 0.5, 'learning_rate': 0.006359836976692326, 'n_estimators': 1500, 'max_depth': 3}. Best is trial 75 with value: 0.5550565571203268.\n",
      "[I 2023-12-19 21:23:38,331] Trial 79 finished with value: 0.5596454261553255 and parameters: {'lambda': 3.0028483902258336, 'alpha': 0.006500599701498185, 'colsample_bytree': 0.4, 'colsample_bynode': 0.8, 'colsample_bylevel': 0.4, 'subsample': 0.9, 'learning_rate': 0.003264739264659416, 'n_estimators': 2000, 'max_depth': 3}. Best is trial 75 with value: 0.5550565571203268.\n",
      "[I 2023-12-19 21:23:44,252] Trial 80 finished with value: 0.5552473244239284 and parameters: {'lambda': 6.673379448503215, 'alpha': 0.00384607631345107, 'colsample_bytree': 0.8, 'colsample_bynode': 0.8, 'colsample_bylevel': 0.4, 'subsample': 0.7, 'learning_rate': 0.00487453764142092, 'n_estimators': 2000, 'max_depth': 4}. Best is trial 75 with value: 0.5550565571203268.\n",
      "[I 2023-12-19 21:23:48,612] Trial 81 finished with value: 0.5610613773417126 and parameters: {'lambda': 6.973792005263465, 'alpha': 0.004183387160354728, 'colsample_bytree': 0.8, 'colsample_bynode': 0.8, 'colsample_bylevel': 0.4, 'subsample': 0.7, 'learning_rate': 0.006241553487373213, 'n_estimators': 2000, 'max_depth': 4}. Best is trial 75 with value: 0.5550565571203268.\n",
      "[I 2023-12-19 21:23:54,831] Trial 82 finished with value: 0.5598487854707825 and parameters: {'lambda': 5.955029456987657, 'alpha': 0.002943439622366846, 'colsample_bytree': 0.8, 'colsample_bynode': 0.8, 'colsample_bylevel': 0.4, 'subsample': 0.7, 'learning_rate': 0.004553129275848084, 'n_estimators': 2000, 'max_depth': 4}. Best is trial 75 with value: 0.5550565571203268.\n",
      "[I 2023-12-19 21:23:58,808] Trial 83 finished with value: 0.5594644446878788 and parameters: {'lambda': 9.998912235436038, 'alpha': 0.0012667459163067673, 'colsample_bytree': 0.8, 'colsample_bynode': 0.8, 'colsample_bylevel': 0.4, 'subsample': 0.7, 'learning_rate': 0.007549102055417033, 'n_estimators': 2000, 'max_depth': 4}. Best is trial 75 with value: 0.5550565571203268.\n",
      "[I 2023-12-19 21:24:04,718] Trial 84 finished with value: 0.5607441424554788 and parameters: {'lambda': 4.581913862699007, 'alpha': 0.0017151713000931178, 'colsample_bytree': 0.8, 'colsample_bynode': 0.8, 'colsample_bylevel': 0.4, 'subsample': 0.7, 'learning_rate': 0.002636689837636399, 'n_estimators': 2000, 'max_depth': 3}. Best is trial 75 with value: 0.5550565571203268.\n",
      "[I 2023-12-19 21:24:10,302] Trial 85 finished with value: 0.5593953970720232 and parameters: {'lambda': 7.812530297293312, 'alpha': 0.0023445922399259918, 'colsample_bytree': 0.8, 'colsample_bynode': 0.4, 'colsample_bylevel': 0.6, 'subsample': 0.9, 'learning_rate': 0.00521163096805127, 'n_estimators': 2000, 'max_depth': 4}. Best is trial 75 with value: 0.5550565571203268.\n",
      "[I 2023-12-19 21:24:16,296] Trial 86 finished with value: 0.5791060517142315 and parameters: {'lambda': 3.787045112398784, 'alpha': 0.004019727282039372, 'colsample_bytree': 0.8, 'colsample_bynode': 0.8, 'colsample_bylevel': 0.4, 'subsample': 0.6, 'learning_rate': 0.0017888260142512925, 'n_estimators': 2000, 'max_depth': 3}. Best is trial 75 with value: 0.5550565571203268.\n",
      "[I 2023-12-19 21:24:19,164] Trial 87 finished with value: 0.5581741066374898 and parameters: {'lambda': 6.233881763093575, 'alpha': 0.0060984421257813904, 'colsample_bytree': 0.8, 'colsample_bynode': 0.6, 'colsample_bylevel': 0.4, 'subsample': 0.7, 'learning_rate': 0.009860636521920001, 'n_estimators': 1000, 'max_depth': 3}. Best is trial 75 with value: 0.5550565571203268.\n",
      "[I 2023-12-19 21:24:25,830] Trial 88 finished with value: 0.5591506908036319 and parameters: {'lambda': 2.5877773999384615, 'alpha': 0.007776510521728894, 'colsample_bytree': 0.4, 'colsample_bynode': 0.8, 'colsample_bylevel': 0.4, 'subsample': 0.9, 'learning_rate': 0.0034788692809528776, 'n_estimators': 2000, 'max_depth': 3}. Best is trial 75 with value: 0.5550565571203268.\n",
      "[I 2023-12-19 21:24:29,929] Trial 89 finished with value: 0.5610776701325093 and parameters: {'lambda': 1.9340785139003231, 'alpha': 0.0030253835823632726, 'colsample_bytree': 0.8, 'colsample_bynode': 0.9, 'colsample_bylevel': 0.6, 'subsample': 0.9, 'learning_rate': 0.0065965190773023515, 'n_estimators': 2000, 'max_depth': 4}. Best is trial 75 with value: 0.5550565571203268.\n",
      "[I 2023-12-19 21:24:35,790] Trial 90 finished with value: 0.559055890281763 and parameters: {'lambda': 8.278362447435667, 'alpha': 0.005010101993718099, 'colsample_bytree': 0.6, 'colsample_bynode': 0.8, 'colsample_bylevel': 0.4, 'subsample': 0.4, 'learning_rate': 0.004011996416199306, 'n_estimators': 2000, 'max_depth': 3}. Best is trial 75 with value: 0.5550565571203268.\n",
      "[I 2023-12-19 21:24:39,539] Trial 91 finished with value: 0.5580803717893592 and parameters: {'lambda': 8.65579099982624, 'alpha': 0.001323375430498289, 'colsample_bytree': 0.8, 'colsample_bynode': 0.8, 'colsample_bylevel': 0.8, 'subsample': 0.9, 'learning_rate': 0.0072279324146467235, 'n_estimators': 2000, 'max_depth': 2}. Best is trial 75 with value: 0.5550565571203268.\n",
      "[I 2023-12-19 21:24:42,573] Trial 92 finished with value: 0.5584770680815757 and parameters: {'lambda': 6.744615877049886, 'alpha': 0.0010140151774430972, 'colsample_bytree': 0.8, 'colsample_bynode': 0.8, 'colsample_bylevel': 0.8, 'subsample': 0.9, 'learning_rate': 0.00883667184341433, 'n_estimators': 2000, 'max_depth': 2}. Best is trial 75 with value: 0.5550565571203268.\n",
      "[I 2023-12-19 21:24:48,303] Trial 93 finished with value: 0.5567946227158838 and parameters: {'lambda': 4.8169364616225385, 'alpha': 0.0017345114423894827, 'colsample_bytree': 0.8, 'colsample_bynode': 0.8, 'colsample_bylevel': 0.8, 'subsample': 0.9, 'learning_rate': 0.005771298555936588, 'n_estimators': 2000, 'max_depth': 2}. Best is trial 75 with value: 0.5550565571203268.\n",
      "[I 2023-12-19 21:24:52,756] Trial 94 finished with value: 0.5561217528405805 and parameters: {'lambda': 8.288908900475102, 'alpha': 0.0022800409038287437, 'colsample_bytree': 0.8, 'colsample_bynode': 0.8, 'colsample_bylevel': 0.4, 'subsample': 0.9, 'learning_rate': 0.008123186609710823, 'n_estimators': 2000, 'max_depth': 2}. Best is trial 75 with value: 0.5550565571203268.\n",
      "[I 2023-12-19 21:24:58,739] Trial 95 finished with value: 0.5562135210385154 and parameters: {'lambda': 8.310615326840317, 'alpha': 0.0023304150048293706, 'colsample_bytree': 0.8, 'colsample_bynode': 0.8, 'colsample_bylevel': 0.4, 'subsample': 0.8, 'learning_rate': 0.004652331222314842, 'n_estimators': 2250, 'max_depth': 3}. Best is trial 75 with value: 0.5550565571203268.\n",
      "[I 2023-12-19 21:25:02,770] Trial 96 finished with value: 0.5541493392370642 and parameters: {'lambda': 6.29525858048249, 'alpha': 0.0034859671182548204, 'colsample_bytree': 0.8, 'colsample_bynode': 0.8, 'colsample_bylevel': 0.4, 'subsample': 0.8, 'learning_rate': 0.008083203116849208, 'n_estimators': 2250, 'max_depth': 3}. Best is trial 96 with value: 0.5541493392370642.\n",
      "[I 2023-12-19 21:25:05,796] Trial 97 finished with value: 0.5569025738811582 and parameters: {'lambda': 3.3313573230532363, 'alpha': 0.003393034297283685, 'colsample_bytree': 0.8, 'colsample_bynode': 0.9, 'colsample_bylevel': 0.4, 'subsample': 0.8, 'learning_rate': 0.007932618498292915, 'n_estimators': 2250, 'max_depth': 3}. Best is trial 96 with value: 0.5541493392370642.\n",
      "[I 2023-12-19 21:25:10,456] Trial 98 finished with value: 0.5555535883052137 and parameters: {'lambda': 5.678880595828125, 'alpha': 0.0041617293079030246, 'colsample_bytree': 0.8, 'colsample_bynode': 0.8, 'colsample_bylevel': 0.4, 'subsample': 0.8, 'learning_rate': 0.006609506386552078, 'n_estimators': 2250, 'max_depth': 3}. Best is trial 96 with value: 0.5541493392370642.\n",
      "[I 2023-12-19 21:25:17,548] Trial 99 finished with value: 0.5575908886295059 and parameters: {'lambda': 5.849207340173682, 'alpha': 0.01077796570365069, 'colsample_bytree': 0.8, 'colsample_bynode': 0.8, 'colsample_bylevel': 0.4, 'subsample': 0.8, 'learning_rate': 0.0029123313847166923, 'n_estimators': 2250, 'max_depth': 3}. Best is trial 96 with value: 0.5541493392370642.\n"
=======
      "[I 2023-12-19 20:32:09,843] A new study created in memory with name: no-name-ba02b174-e270-47e8-8f79-163a5ed6af94\n",
      "[I 2023-12-19 20:33:26,506] Trial 0 finished with value: 0.5986480748750553 and parameters: {'lambda': 1.3322956621698023, 'alpha': 0.015336992871320688, 'colsample_bytree': 0.9, 'colsample_bynode': 0.4, 'colsample_bylevel': 0.6, 'subsample': 0.5, 'learning_rate': 0.0013155414546634433, 'n_estimators': 2500, 'max_depth': 9}. Best is trial 0 with value: 0.5986480748750553.\n",
      "[I 2023-12-19 20:33:33,769] Trial 1 finished with value: 3.1780930260294458 and parameters: {'lambda': 7.1964986949734575, 'alpha': 0.1970761558019192, 'colsample_bytree': 0.6, 'colsample_bynode': 0.9, 'colsample_bylevel': 0.6, 'subsample': 0.5, 'learning_rate': 5.909159948048424e-05, 'n_estimators': 1000, 'max_depth': 8}. Best is trial 0 with value: 0.5986480748750553.\n",
      "[I 2023-12-19 20:33:45,562] Trial 2 finished with value: 3.329410796543471 and parameters: {'lambda': 3.842435592077945, 'alpha': 8.54511642825014, 'colsample_bytree': 0.9, 'colsample_bynode': 0.8, 'colsample_bylevel': 0.8, 'subsample': 0.6, 'learning_rate': 5.84422808874358e-06, 'n_estimators': 1500, 'max_depth': 8}. Best is trial 0 with value: 0.5986480748750553.\n",
      "[I 2023-12-19 20:33:56,325] Trial 3 finished with value: 1.7463328389813462 and parameters: {'lambda': 0.016339808167815734, 'alpha': 0.7942694130851687, 'colsample_bytree': 0.6, 'colsample_bynode': 0.8, 'colsample_bylevel': 0.6, 'subsample': 0.6, 'learning_rate': 0.0002836081793573572, 'n_estimators': 2500, 'max_depth': 4}. Best is trial 0 with value: 0.5986480748750553.\n",
      "[I 2023-12-19 20:34:03,124] Trial 4 finished with value: 0.5676608867216137 and parameters: {'lambda': 0.18796452563150046, 'alpha': 0.6485536354940515, 'colsample_bytree': 0.9, 'colsample_bynode': 0.9, 'colsample_bylevel': 0.6, 'subsample': 0.5, 'learning_rate': 0.00778254372885414, 'n_estimators': 1000, 'max_depth': 5}. Best is trial 4 with value: 0.5676608867216137.\n",
      "[I 2023-12-19 20:34:22,312] Trial 5 finished with value: 0.5737820259188006 and parameters: {'lambda': 7.441304266850844, 'alpha': 1.025383777954428, 'colsample_bytree': 0.6, 'colsample_bynode': 0.4, 'colsample_bylevel': 0.8, 'subsample': 0.4, 'learning_rate': 0.003397681837876944, 'n_estimators': 1500, 'max_depth': 7}. Best is trial 4 with value: 0.5676608867216137.\n",
      "[I 2023-12-19 20:35:14,324] Trial 6 finished with value: 1.1886533919548798 and parameters: {'lambda': 0.0498001293157262, 'alpha': 0.5107007558955239, 'colsample_bytree': 0.4, 'colsample_bynode': 0.4, 'colsample_bylevel': 0.9, 'subsample': 0.5, 'learning_rate': 0.000479323016753444, 'n_estimators': 2500, 'max_depth': 9}. Best is trial 4 with value: 0.5676608867216137.\n",
      "[I 2023-12-19 20:35:49,111] Trial 7 finished with value: 3.0094672638235522 and parameters: {'lambda': 0.014796070058036438, 'alpha': 0.03364613656532112, 'colsample_bytree': 0.8, 'colsample_bynode': 0.9, 'colsample_bylevel': 0.8, 'subsample': 0.8, 'learning_rate': 4.5459881677931896e-05, 'n_estimators': 2500, 'max_depth': 6}. Best is trial 4 with value: 0.5676608867216137.\n",
      "[I 2023-12-19 20:35:58,922] Trial 8 finished with value: 1.580662349781446 and parameters: {'lambda': 0.09707262869213028, 'alpha': 0.0024114713337109414, 'colsample_bytree': 0.4, 'colsample_bynode': 0.6, 'colsample_bylevel': 0.9, 'subsample': 0.8, 'learning_rate': 0.0005464045262860436, 'n_estimators': 1500, 'max_depth': 5}. Best is trial 4 with value: 0.5676608867216137.\n",
      "[I 2023-12-19 20:36:06,515] Trial 9 finished with value: 0.5613384677476708 and parameters: {'lambda': 6.628162664353376, 'alpha': 0.1571311655485805, 'colsample_bytree': 0.9, 'colsample_bynode': 0.4, 'colsample_bylevel': 0.9, 'subsample': 0.4, 'learning_rate': 0.004022111936709608, 'n_estimators': 2500, 'max_depth': 4}. Best is trial 9 with value: 0.5613384677476708.\n",
      "[I 2023-12-19 20:36:07,593] Trial 10 finished with value: 0.5530661690906659 and parameters: {'lambda': 0.001148371652453307, 'alpha': 0.06049637871898976, 'colsample_bytree': 0.8, 'colsample_bynode': 0.6, 'colsample_bylevel': 0.4, 'subsample': 0.4, 'learning_rate': 0.0271746885313327, 'n_estimators': 2000, 'max_depth': 3}. Best is trial 10 with value: 0.5530661690906659.\n",
      "[I 2023-12-19 20:36:08,837] Trial 11 finished with value: 0.5587331442392584 and parameters: {'lambda': 0.0011412518981330495, 'alpha': 0.04752130512987991, 'colsample_bytree': 0.8, 'colsample_bynode': 0.6, 'colsample_bylevel': 0.4, 'subsample': 0.4, 'learning_rate': 0.02412239839574766, 'n_estimators': 2000, 'max_depth': 3}. Best is trial 10 with value: 0.5530661690906659.\n",
      "[I 2023-12-19 20:36:09,815] Trial 12 finished with value: 0.5591748060274292 and parameters: {'lambda': 0.0010631117135191115, 'alpha': 0.023750970449052507, 'colsample_bytree': 0.8, 'colsample_bynode': 0.6, 'colsample_bylevel': 0.4, 'subsample': 0.7, 'learning_rate': 0.04623931229632966, 'n_estimators': 2000, 'max_depth': 3}. Best is trial 10 with value: 0.5530661690906659.\n",
      "[I 2023-12-19 20:36:10,784] Trial 13 finished with value: 0.5584036141924813 and parameters: {'lambda': 0.0012025657617538697, 'alpha': 0.004702384318872645, 'colsample_bytree': 0.8, 'colsample_bynode': 0.6, 'colsample_bylevel': 0.4, 'subsample': 0.9, 'learning_rate': 0.035957760490544506, 'n_estimators': 2000, 'max_depth': 3}. Best is trial 10 with value: 0.5530661690906659.\n",
      "[I 2023-12-19 20:36:11,819] Trial 14 finished with value: 0.5557362325815762 and parameters: {'lambda': 0.0031429271771475633, 'alpha': 0.0012830478573223458, 'colsample_bytree': 0.8, 'colsample_bynode': 0.6, 'colsample_bylevel': 0.4, 'subsample': 0.9, 'learning_rate': 0.04465748730961311, 'n_estimators': 2000, 'max_depth': 3}. Best is trial 10 with value: 0.5530661690906659.\n",
      "[I 2023-12-19 20:36:14,849] Trial 15 finished with value: 0.5597494501880299 and parameters: {'lambda': 0.005244513722037048, 'alpha': 0.0018414403931172351, 'colsample_bytree': 0.8, 'colsample_bynode': 0.6, 'colsample_bylevel': 0.4, 'subsample': 0.9, 'learning_rate': 0.01077102324342435, 'n_estimators': 3000, 'max_depth': 4}. Best is trial 10 with value: 0.5530661690906659.\n",
      "[I 2023-12-19 20:36:18,797] Trial 16 finished with value: 0.5651378576741183 and parameters: {'lambda': 0.003386425223222794, 'alpha': 0.0010052843704756046, 'colsample_bytree': 0.8, 'colsample_bynode': 0.6, 'colsample_bylevel': 0.4, 'subsample': 0.9, 'learning_rate': 0.011393757557350339, 'n_estimators': 2000, 'max_depth': 5}. Best is trial 10 with value: 0.5530661690906659.\n",
      "[I 2023-12-19 20:36:19,427] Trial 17 finished with value: 0.5643026878578717 and parameters: {'lambda': 0.003543132464236051, 'alpha': 0.007834084875279965, 'colsample_bytree': 0.8, 'colsample_bynode': 0.6, 'colsample_bylevel': 0.4, 'subsample': 0.7, 'learning_rate': 0.046110767297308876, 'n_estimators': 2000, 'max_depth': 3}. Best is trial 10 with value: 0.5530661690906659.\n",
      "[I 2023-12-19 20:36:44,133] Trial 18 finished with value: 0.5642169953281685 and parameters: {'lambda': 0.008753200220597427, 'alpha': 0.009411504975036528, 'colsample_bytree': 0.8, 'colsample_bynode': 0.6, 'colsample_bylevel': 0.4, 'subsample': 0.4, 'learning_rate': 0.0019492709668395092, 'n_estimators': 3000, 'max_depth': 6}. Best is trial 10 with value: 0.5530661690906659.\n",
      "[I 2023-12-19 20:36:46,926] Trial 19 finished with value: 0.5539511903640993 and parameters: {'lambda': 0.002560944904439854, 'alpha': 0.0034778236311801213, 'colsample_bytree': 0.4, 'colsample_bynode': 0.8, 'colsample_bylevel': 0.4, 'subsample': 0.9, 'learning_rate': 0.013415418600288056, 'n_estimators': 2000, 'max_depth': 4}. Best is trial 10 with value: 0.5530661690906659.\n",
      "[I 2023-12-19 20:36:49,651] Trial 20 finished with value: 0.5600515399931821 and parameters: {'lambda': 0.023980396864073723, 'alpha': 0.004723254914633384, 'colsample_bytree': 0.4, 'colsample_bynode': 0.8, 'colsample_bylevel': 0.4, 'subsample': 0.4, 'learning_rate': 0.011756854034335542, 'n_estimators': 2000, 'max_depth': 4}. Best is trial 10 with value: 0.5530661690906659.\n",
      "[I 2023-12-19 20:36:52,471] Trial 21 finished with value: 0.5589096335907734 and parameters: {'lambda': 0.00363948588380763, 'alpha': 0.001169231449364188, 'colsample_bytree': 0.4, 'colsample_bynode': 0.8, 'colsample_bylevel': 0.4, 'subsample': 0.9, 'learning_rate': 0.013288489055134071, 'n_estimators': 2000, 'max_depth': 3}. Best is trial 10 with value: 0.5530661690906659.\n",
      "[I 2023-12-19 20:36:58,152] Trial 22 finished with value: 0.5593793206877437 and parameters: {'lambda': 0.001850234003920262, 'alpha': 0.003299464890963101, 'colsample_bytree': 0.4, 'colsample_bynode': 0.8, 'colsample_bylevel': 0.4, 'subsample': 0.9, 'learning_rate': 0.0049778489545406705, 'n_estimators': 2000, 'max_depth': 4}. Best is trial 10 with value: 0.5530661690906659.\n",
      "[I 2023-12-19 20:36:59,419] Trial 23 finished with value: 0.5600504430356116 and parameters: {'lambda': 0.0023889629351719903, 'alpha': 0.011726116435040967, 'colsample_bytree': 0.4, 'colsample_bynode': 0.8, 'colsample_bylevel': 0.4, 'subsample': 0.9, 'learning_rate': 0.02470867904234134, 'n_estimators': 2000, 'max_depth': 3}. Best is trial 10 with value: 0.5530661690906659.\n",
      "[I 2023-12-19 20:37:02,461] Trial 24 finished with value: 0.5668745276513644 and parameters: {'lambda': 0.0059268592716330585, 'alpha': 0.002932490566226732, 'colsample_bytree': 0.8, 'colsample_bynode': 0.6, 'colsample_bylevel': 0.4, 'subsample': 0.9, 'learning_rate': 0.020537047838425256, 'n_estimators': 2000, 'max_depth': 5}. Best is trial 10 with value: 0.5530661690906659.\n",
      "[I 2023-12-19 20:37:14,658] Trial 25 finished with value: 0.5610853212621467 and parameters: {'lambda': 0.0020581526532738384, 'alpha': 0.05914126473871197, 'colsample_bytree': 0.8, 'colsample_bynode': 0.6, 'colsample_bylevel': 0.4, 'subsample': 0.9, 'learning_rate': 0.001794906586695908, 'n_estimators': 3000, 'max_depth': 4}. Best is trial 10 with value: 0.5530661690906659.\n",
      "[I 2023-12-19 20:37:15,479] Trial 26 finished with value: 0.5614860640100425 and parameters: {'lambda': 0.007843202963487282, 'alpha': 0.006645574583056463, 'colsample_bytree': 0.4, 'colsample_bynode': 0.8, 'colsample_bylevel': 0.4, 'subsample': 0.6, 'learning_rate': 0.04474984240673815, 'n_estimators': 1000, 'max_depth': 3}. Best is trial 10 with value: 0.5530661690906659.\n",
      "[I 2023-12-19 20:37:20,467] Trial 27 finished with value: 0.5591474043046117 and parameters: {'lambda': 0.0020077909180931885, 'alpha': 0.0017314799398613528, 'colsample_bytree': 0.6, 'colsample_bynode': 0.9, 'colsample_bylevel': 0.8, 'subsample': 0.8, 'learning_rate': 0.005579883133171286, 'n_estimators': 2000, 'max_depth': 4}. Best is trial 10 with value: 0.5530661690906659.\n",
      "[I 2023-12-19 20:37:24,010] Trial 28 finished with value: 0.5611836306785554 and parameters: {'lambda': 0.0010203101802223906, 'alpha': 0.01326710974868087, 'colsample_bytree': 0.8, 'colsample_bynode': 0.6, 'colsample_bylevel': 0.9, 'subsample': 0.7, 'learning_rate': 0.016048019624253826, 'n_estimators': 2000, 'max_depth': 5}. Best is trial 10 with value: 0.5530661690906659.\n",
      "[I 2023-12-19 20:37:30,002] Trial 29 finished with value: 0.682372720464297 and parameters: {'lambda': 0.005688529127462524, 'alpha': 0.021746686863135814, 'colsample_bytree': 0.9, 'colsample_bynode': 0.4, 'colsample_bylevel': 0.6, 'subsample': 0.4, 'learning_rate': 0.0011377346145916, 'n_estimators': 2000, 'max_depth': 3}. Best is trial 10 with value: 0.5530661690906659.\n",
      "[I 2023-12-19 20:38:01,954] Trial 30 finished with value: 0.5639369143971947 and parameters: {'lambda': 0.010049931120707813, 'alpha': 0.015686793166276684, 'colsample_bytree': 0.4, 'colsample_bynode': 0.8, 'colsample_bylevel': 0.4, 'subsample': 0.9, 'learning_rate': 0.0032797177058870855, 'n_estimators': 2000, 'max_depth': 7}. Best is trial 10 with value: 0.5530661690906659.\n",
      "[I 2023-12-19 20:38:02,824] Trial 31 finished with value: 0.5632186013847168 and parameters: {'lambda': 0.0018507486872138882, 'alpha': 0.004617055100730491, 'colsample_bytree': 0.8, 'colsample_bynode': 0.6, 'colsample_bylevel': 0.4, 'subsample': 0.9, 'learning_rate': 0.028542348024319267, 'n_estimators': 2000, 'max_depth': 3}. Best is trial 10 with value: 0.5530661690906659.\n",
      "[I 2023-12-19 20:38:06,102] Trial 32 finished with value: 0.5604324767171948 and parameters: {'lambda': 0.0010994724812440344, 'alpha': 0.004667462532427786, 'colsample_bytree': 0.8, 'colsample_bynode': 0.6, 'colsample_bylevel': 0.4, 'subsample': 0.9, 'learning_rate': 0.007675515664592212, 'n_estimators': 2000, 'max_depth': 3}. Best is trial 10 with value: 0.5530661690906659.\n",
      "[I 2023-12-19 20:38:08,002] Trial 33 finished with value: 0.55836470121628 and parameters: {'lambda': 0.003431847549499284, 'alpha': 0.0020395472683516426, 'colsample_bytree': 0.8, 'colsample_bynode': 0.6, 'colsample_bylevel': 0.4, 'subsample': 0.9, 'learning_rate': 0.026126243620701897, 'n_estimators': 1000, 'max_depth': 4}. Best is trial 10 with value: 0.5530661690906659.\n",
      "[I 2023-12-19 20:38:09,718] Trial 34 finished with value: 0.5612018301578572 and parameters: {'lambda': 0.003813030199603276, 'alpha': 0.0016525199242387282, 'colsample_bytree': 0.8, 'colsample_bynode': 0.6, 'colsample_bylevel': 0.6, 'subsample': 0.6, 'learning_rate': 0.019206808827305053, 'n_estimators': 1000, 'max_depth': 4}. Best is trial 10 with value: 0.5530661690906659.\n",
      "[I 2023-12-19 20:38:12,921] Trial 35 finished with value: 0.5622919747725976 and parameters: {'lambda': 0.003515882235685555, 'alpha': 0.0010455243632945138, 'colsample_bytree': 0.6, 'colsample_bynode': 0.9, 'colsample_bylevel': 0.4, 'subsample': 0.5, 'learning_rate': 0.008566743159481345, 'n_estimators': 1000, 'max_depth': 4}. Best is trial 10 with value: 0.5530661690906659.\n",
      "[I 2023-12-19 20:38:15,152] Trial 36 finished with value: 0.5692682540005197 and parameters: {'lambda': 0.02238155453706296, 'alpha': 0.002631141928194714, 'colsample_bytree': 0.9, 'colsample_bynode': 0.8, 'colsample_bylevel': 0.8, 'subsample': 0.9, 'learning_rate': 0.047764923352823396, 'n_estimators': 1000, 'max_depth': 6}. Best is trial 10 with value: 0.5530661690906659.\n",
      "[I 2023-12-19 20:38:18,021] Trial 37 finished with value: 0.5661039343166815 and parameters: {'lambda': 0.010460636773223194, 'alpha': 0.008401120009314077, 'colsample_bytree': 0.8, 'colsample_bynode': 0.6, 'colsample_bylevel': 0.6, 'subsample': 0.4, 'learning_rate': 0.01808068855499333, 'n_estimators': 1500, 'max_depth': 5}. Best is trial 10 with value: 0.5530661690906659.\n",
      "[I 2023-12-19 20:38:56,146] Trial 38 finished with value: 0.5634020328150663 and parameters: {'lambda': 0.0022919815261778094, 'alpha': 0.0017592680319224892, 'colsample_bytree': 0.6, 'colsample_bynode': 0.4, 'colsample_bylevel': 0.4, 'subsample': 0.5, 'learning_rate': 0.006604596344525073, 'n_estimators': 1000, 'max_depth': 9}. Best is trial 10 with value: 0.5530661690906659.\n",
      "[I 2023-12-19 20:38:57,406] Trial 39 finished with value: 0.5648860729729035 and parameters: {'lambda': 0.40560226522476395, 'alpha': 0.06840515433748334, 'colsample_bytree': 0.8, 'colsample_bynode': 0.9, 'colsample_bylevel': 0.9, 'subsample': 0.6, 'learning_rate': 0.029462603010648163, 'n_estimators': 1000, 'max_depth': 4}. Best is trial 10 with value: 0.5530661690906659.\n",
      "[I 2023-12-19 20:39:19,624] Trial 40 finished with value: 0.5655537146102226 and parameters: {'lambda': 0.01861950807645075, 'alpha': 0.12481427610879164, 'colsample_bytree': 0.9, 'colsample_bynode': 0.6, 'colsample_bylevel': 0.8, 'subsample': 0.8, 'learning_rate': 0.002852670247930087, 'n_estimators': 2500, 'max_depth': 6}. Best is trial 10 with value: 0.5530661690906659.\n",
      "[I 2023-12-19 20:39:20,753] Trial 41 finished with value: 0.5618680083827797 and parameters: {'lambda': 0.0013845026812942518, 'alpha': 0.0038536640805549426, 'colsample_bytree': 0.8, 'colsample_bynode': 0.6, 'colsample_bylevel': 0.4, 'subsample': 0.9, 'learning_rate': 0.030879002519819135, 'n_estimators': 1500, 'max_depth': 3}. Best is trial 10 with value: 0.5530661690906659.\n",
      "[I 2023-12-19 20:39:22,406] Trial 42 finished with value: 0.5580294448795151 and parameters: {'lambda': 0.0014888578279054375, 'alpha': 0.006396265030611479, 'colsample_bytree': 0.8, 'colsample_bynode': 0.6, 'colsample_bylevel': 0.4, 'subsample': 0.9, 'learning_rate': 0.01664172140726634, 'n_estimators': 2000, 'max_depth': 3}. Best is trial 10 with value: 0.5530661690906659.\n",
      "[I 2023-12-19 20:39:24,956] Trial 43 finished with value: 0.5580619900857641 and parameters: {'lambda': 0.0026128955732211477, 'alpha': 0.0063287378792302226, 'colsample_bytree': 0.8, 'colsample_bynode': 0.6, 'colsample_bylevel': 0.4, 'subsample': 0.9, 'learning_rate': 0.015450569488032065, 'n_estimators': 2000, 'max_depth': 4}. Best is trial 10 with value: 0.5530661690906659.\n",
      "[I 2023-12-19 20:39:29,346] Trial 44 finished with value: 0.5593514171303294 and parameters: {'lambda': 0.0017158281191213274, 'alpha': 0.033165667376745464, 'colsample_bytree': 0.8, 'colsample_bynode': 0.6, 'colsample_bylevel': 0.4, 'subsample': 0.9, 'learning_rate': 0.007680735562098959, 'n_estimators': 2000, 'max_depth': 3}. Best is trial 10 with value: 0.5530661690906659.\n",
      "[I 2023-12-19 20:39:31,079] Trial 45 finished with value: 0.5574908097152373 and parameters: {'lambda': 0.002575957055905041, 'alpha': 0.006221710019326008, 'colsample_bytree': 0.8, 'colsample_bynode': 0.6, 'colsample_bylevel': 0.4, 'subsample': 0.9, 'learning_rate': 0.016673386394943736, 'n_estimators': 2000, 'max_depth': 3}. Best is trial 10 with value: 0.5530661690906659.\n",
      "[I 2023-12-19 20:39:35,870] Trial 46 finished with value: 0.5692517236257857 and parameters: {'lambda': 0.006218232749713123, 'alpha': 0.0030122285969090418, 'colsample_bytree': 0.4, 'colsample_bynode': 0.4, 'colsample_bylevel': 0.4, 'subsample': 0.4, 'learning_rate': 0.004639899961598682, 'n_estimators': 2000, 'max_depth': 3}. Best is trial 10 with value: 0.5530661690906659.\n",
      "[I 2023-12-19 20:39:37,778] Trial 47 finished with value: 0.5575889327333862 and parameters: {'lambda': 0.0014759103094133445, 'alpha': 0.01659559541011681, 'colsample_bytree': 0.8, 'colsample_bynode': 0.6, 'colsample_bylevel': 0.9, 'subsample': 0.7, 'learning_rate': 0.011964435413587084, 'n_estimators': 2500, 'max_depth': 3}. Best is trial 10 with value: 0.5530661690906659.\n",
      "[I 2023-12-19 20:39:40,486] Trial 48 finished with value: 0.559984593451716 and parameters: {'lambda': 0.01320745466886138, 'alpha': 0.01703169572797443, 'colsample_bytree': 0.6, 'colsample_bynode': 0.8, 'colsample_bylevel': 0.9, 'subsample': 0.7, 'learning_rate': 0.009344897736108063, 'n_estimators': 2500, 'max_depth': 3}. Best is trial 10 with value: 0.5530661690906659.\n",
      "[I 2023-12-19 20:39:48,660] Trial 49 finished with value: 2.378634921552222 and parameters: {'lambda': 0.0044972870763651035, 'alpha': 0.03050149676663008, 'colsample_bytree': 0.8, 'colsample_bynode': 0.6, 'colsample_bylevel': 0.9, 'subsample': 0.7, 'learning_rate': 0.00014621915980826734, 'n_estimators': 2500, 'max_depth': 3}. Best is trial 10 with value: 0.5530661690906659.\n",
      "[I 2023-12-19 20:39:51,480] Trial 50 finished with value: 0.558465914370766 and parameters: {'lambda': 0.0010174628998106058, 'alpha': 0.009497050455222778, 'colsample_bytree': 0.4, 'colsample_bynode': 0.9, 'colsample_bylevel': 0.9, 'subsample': 0.7, 'learning_rate': 0.010940675104940973, 'n_estimators': 2500, 'max_depth': 3}. Best is trial 10 with value: 0.5530661690906659.\n",
      "[I 2023-12-19 20:39:53,452] Trial 51 finished with value: 0.5582066089804584 and parameters: {'lambda': 0.001540208771874943, 'alpha': 0.006093853675052823, 'colsample_bytree': 0.8, 'colsample_bynode': 0.6, 'colsample_bylevel': 0.9, 'subsample': 0.7, 'learning_rate': 0.01678032267871502, 'n_estimators': 2500, 'max_depth': 3}. Best is trial 10 with value: 0.5530661690906659.\n",
      "[I 2023-12-19 20:39:59,995] Trial 52 finished with value: 0.5660433828669011 and parameters: {'lambda': 0.0029885187273877077, 'alpha': 0.021921903224598135, 'colsample_bytree': 0.8, 'colsample_bynode': 0.6, 'colsample_bylevel': 0.4, 'subsample': 0.9, 'learning_rate': 0.03364737210944736, 'n_estimators': 3000, 'max_depth': 8}. Best is trial 10 with value: 0.5530661690906659.\n",
      "[I 2023-12-19 20:40:01,831] Trial 53 finished with value: 0.5620311075310185 and parameters: {'lambda': 0.001583416458291124, 'alpha': 0.011481040597011678, 'colsample_bytree': 0.8, 'colsample_bynode': 0.6, 'colsample_bylevel': 0.6, 'subsample': 0.5, 'learning_rate': 0.01920088628816576, 'n_estimators': 2000, 'max_depth': 4}. Best is trial 10 with value: 0.5530661690906659.\n",
      "[I 2023-12-19 20:40:04,410] Trial 54 finished with value: 0.5606550719107645 and parameters: {'lambda': 0.002323432068035253, 'alpha': 0.0035523955366243932, 'colsample_bytree': 0.8, 'colsample_bynode': 0.6, 'colsample_bylevel': 0.9, 'subsample': 0.4, 'learning_rate': 0.011577188256451132, 'n_estimators': 2000, 'max_depth': 3}. Best is trial 10 with value: 0.5530661690906659.\n",
      "[I 2023-12-19 20:40:05,049] Trial 55 finished with value: 0.5590870776835681 and parameters: {'lambda': 0.0014247856041385723, 'alpha': 0.005397962592787223, 'colsample_bytree': 0.8, 'colsample_bynode': 0.6, 'colsample_bylevel': 0.4, 'subsample': 0.8, 'learning_rate': 0.04854779492197207, 'n_estimators': 2000, 'max_depth': 3}. Best is trial 10 with value: 0.5530661690906659.\n",
      "[I 2023-12-19 20:40:10,900] Trial 56 finished with value: 0.5592278619430924 and parameters: {'lambda': 0.004822222848390764, 'alpha': 0.008852367853278267, 'colsample_bytree': 0.8, 'colsample_bynode': 0.6, 'colsample_bylevel': 0.4, 'subsample': 0.9, 'learning_rate': 0.004802854070523625, 'n_estimators': 1500, 'max_depth': 4}. Best is trial 10 with value: 0.5530661690906659.\n",
      "[I 2023-12-19 20:40:12,091] Trial 57 finished with value: 0.5606463102603115 and parameters: {'lambda': 0.00720166470325594, 'alpha': 0.043122861101967905, 'colsample_bytree': 0.9, 'colsample_bynode': 0.8, 'colsample_bylevel': 0.8, 'subsample': 0.9, 'learning_rate': 0.025554721783230518, 'n_estimators': 2000, 'max_depth': 3}. Best is trial 10 with value: 0.5530661690906659.\n",
      "[I 2023-12-19 20:40:14,833] Trial 58 finished with value: 0.5583987069437798 and parameters: {'lambda': 0.0026900820656119927, 'alpha': 0.002375600602946718, 'colsample_bytree': 0.4, 'colsample_bynode': 0.6, 'colsample_bylevel': 0.4, 'subsample': 0.7, 'learning_rate': 0.01343143096411103, 'n_estimators': 2000, 'max_depth': 4}. Best is trial 10 with value: 0.5530661690906659.\n",
      "[I 2023-12-19 20:40:15,914] Trial 59 finished with value: 0.5590895800442999 and parameters: {'lambda': 0.0014052648097912204, 'alpha': 0.001271879403523878, 'colsample_bytree': 0.8, 'colsample_bynode': 0.4, 'colsample_bylevel': 0.4, 'subsample': 0.4, 'learning_rate': 0.037701518974357945, 'n_estimators': 2500, 'max_depth': 3}. Best is trial 10 with value: 0.5530661690906659.\n",
      "[I 2023-12-19 20:40:21,532] Trial 60 finished with value: 0.5608669210688242 and parameters: {'lambda': 0.0044928793382483035, 'alpha': 0.016620394748440924, 'colsample_bytree': 0.8, 'colsample_bynode': 0.6, 'colsample_bylevel': 0.9, 'subsample': 0.9, 'learning_rate': 0.0068493378745169255, 'n_estimators': 3000, 'max_depth': 5}. Best is trial 10 with value: 0.5530661690906659.\n",
      "[I 2023-12-19 20:40:23,975] Trial 61 finished with value: 0.5588812662034279 and parameters: {'lambda': 0.0027302375741056397, 'alpha': 0.006790201895903882, 'colsample_bytree': 0.8, 'colsample_bynode': 0.6, 'colsample_bylevel': 0.4, 'subsample': 0.9, 'learning_rate': 0.01478441713945491, 'n_estimators': 2000, 'max_depth': 4}. Best is trial 10 with value: 0.5530661690906659.\n",
      "[I 2023-12-19 20:40:25,586] Trial 62 finished with value: 0.5595893850051068 and parameters: {'lambda': 0.0027232873824503245, 'alpha': 0.007178811163693702, 'colsample_bytree': 0.8, 'colsample_bynode': 0.6, 'colsample_bylevel': 0.4, 'subsample': 0.9, 'learning_rate': 0.01975225606779368, 'n_estimators': 2000, 'max_depth': 4}. Best is trial 10 with value: 0.5530661690906659.\n",
      "[I 2023-12-19 20:40:27,432] Trial 63 finished with value: 0.5584674628420029 and parameters: {'lambda': 0.00209428035803274, 'alpha': 0.0034437373851108994, 'colsample_bytree': 0.8, 'colsample_bynode': 0.6, 'colsample_bylevel': 0.4, 'subsample': 0.9, 'learning_rate': 0.012700874380499622, 'n_estimators': 2000, 'max_depth': 3}. Best is trial 10 with value: 0.5530661690906659.\n",
      "[I 2023-12-19 20:40:32,075] Trial 64 finished with value: 0.5734554508342179 and parameters: {'lambda': 0.0013237742325139382, 'alpha': 0.010763694484501006, 'colsample_bytree': 0.8, 'colsample_bynode': 0.6, 'colsample_bylevel': 0.4, 'subsample': 0.9, 'learning_rate': 0.035311978292024815, 'n_estimators': 2000, 'max_depth': 7}. Best is trial 10 with value: 0.5530661690906659.\n",
      "[I 2023-12-19 20:40:33,923] Trial 65 finished with value: 0.5609585295088053 and parameters: {'lambda': 0.004701067477322199, 'alpha': 0.005335920718882512, 'colsample_bytree': 0.4, 'colsample_bynode': 0.8, 'colsample_bylevel': 0.4, 'subsample': 0.9, 'learning_rate': 0.0230515270629787, 'n_estimators': 2000, 'max_depth': 4}. Best is trial 10 with value: 0.5530661690906659.\n",
      "[I 2023-12-19 20:40:38,612] Trial 66 finished with value: 0.5581999770757875 and parameters: {'lambda': 0.0017687528081553054, 'alpha': 0.0023064252726721565, 'colsample_bytree': 0.8, 'colsample_bynode': 0.6, 'colsample_bylevel': 0.4, 'subsample': 0.6, 'learning_rate': 0.00962851116183041, 'n_estimators': 2000, 'max_depth': 5}. Best is trial 10 with value: 0.5530661690906659.\n",
      "[I 2023-12-19 20:40:44,555] Trial 67 finished with value: 0.560090370840691 and parameters: {'lambda': 0.0010240715201623536, 'alpha': 0.013463467502663359, 'colsample_bytree': 0.8, 'colsample_bynode': 0.6, 'colsample_bylevel': 0.4, 'subsample': 0.9, 'learning_rate': 0.003295661860616259, 'n_estimators': 2000, 'max_depth': 3}. Best is trial 10 with value: 0.5530661690906659.\n",
      "[I 2023-12-19 20:40:46,263] Trial 68 finished with value: 0.5635237358462033 and parameters: {'lambda': 0.003165059969574966, 'alpha': 0.004198214251243487, 'colsample_bytree': 0.8, 'colsample_bynode': 0.8, 'colsample_bylevel': 0.4, 'subsample': 0.4, 'learning_rate': 0.014497642661561894, 'n_estimators': 2000, 'max_depth': 3}. Best is trial 10 with value: 0.5530661690906659.\n",
      "[I 2023-12-19 20:40:51,351] Trial 69 finished with value: 0.5585941622904179 and parameters: {'lambda': 0.0026044426678521002, 'alpha': 0.0013418966386965943, 'colsample_bytree': 0.6, 'colsample_bynode': 0.6, 'colsample_bylevel': 0.6, 'subsample': 0.7, 'learning_rate': 0.005406186885500104, 'n_estimators': 2000, 'max_depth': 4}. Best is trial 10 with value: 0.5530661690906659.\n",
      "[I 2023-12-19 20:40:52,637] Trial 70 finished with value: 0.5581793449909122 and parameters: {'lambda': 0.007145411289204589, 'alpha': 0.006362911232540137, 'colsample_bytree': 0.4, 'colsample_bynode': 0.9, 'colsample_bylevel': 0.4, 'subsample': 0.9, 'learning_rate': 0.02263876050207429, 'n_estimators': 2500, 'max_depth': 3}. Best is trial 10 with value: 0.5530661690906659.\n",
      "[I 2023-12-19 20:40:53,909] Trial 71 finished with value: 0.5569790614421078 and parameters: {'lambda': 0.00187346273844, 'alpha': 0.006125614907617684, 'colsample_bytree': 0.4, 'colsample_bynode': 0.9, 'colsample_bylevel': 0.4, 'subsample': 0.9, 'learning_rate': 0.026931881010744885, 'n_estimators': 2500, 'max_depth': 3}. Best is trial 10 with value: 0.5530661690906659.\n",
      "[I 2023-12-19 20:40:55,476] Trial 72 finished with value: 0.5559516090462879 and parameters: {'lambda': 0.0020320243577100798, 'alpha': 0.0030386568734620065, 'colsample_bytree': 0.4, 'colsample_bynode': 0.9, 'colsample_bylevel': 0.4, 'subsample': 0.9, 'learning_rate': 0.034398442030632706, 'n_estimators': 2500, 'max_depth': 3}. Best is trial 10 with value: 0.5530661690906659.\n",
      "[I 2023-12-19 20:40:56,851] Trial 73 finished with value: 0.556381905362919 and parameters: {'lambda': 0.002041605834468268, 'alpha': 0.0029449523737682167, 'colsample_bytree': 0.4, 'colsample_bynode': 0.9, 'colsample_bylevel': 0.4, 'subsample': 0.9, 'learning_rate': 0.03794272738680273, 'n_estimators': 2500, 'max_depth': 3}. Best is trial 10 with value: 0.5530661690906659.\n",
      "[I 2023-12-19 20:40:57,702] Trial 74 finished with value: 0.561377353696205 and parameters: {'lambda': 0.002127029045434236, 'alpha': 0.002731658354546133, 'colsample_bytree': 0.4, 'colsample_bynode': 0.9, 'colsample_bylevel': 0.4, 'subsample': 0.9, 'learning_rate': 0.04961007138914155, 'n_estimators': 2500, 'max_depth': 3}. Best is trial 10 with value: 0.5530661690906659.\n",
      "[I 2023-12-19 20:40:58,770] Trial 75 finished with value: 0.5601948386933898 and parameters: {'lambda': 0.00410574261327645, 'alpha': 0.0020033554637968586, 'colsample_bytree': 0.4, 'colsample_bynode': 0.9, 'colsample_bylevel': 0.8, 'subsample': 0.8, 'learning_rate': 0.03428536667325627, 'n_estimators': 2500, 'max_depth': 3}. Best is trial 10 with value: 0.5530661690906659.\n",
      "[I 2023-12-19 20:41:00,165] Trial 76 finished with value: 0.5569775359348891 and parameters: {'lambda': 0.0012278454469145685, 'alpha': 0.004081455857069549, 'colsample_bytree': 0.4, 'colsample_bynode': 0.9, 'colsample_bylevel': 0.4, 'subsample': 0.5, 'learning_rate': 0.02739341261845307, 'n_estimators': 2500, 'max_depth': 3}. Best is trial 10 with value: 0.5530661690906659.\n",
      "[I 2023-12-19 20:41:01,295] Trial 77 finished with value: 0.5657824491525214 and parameters: {'lambda': 0.0018921807874205199, 'alpha': 0.0014725804046243009, 'colsample_bytree': 0.4, 'colsample_bynode': 0.9, 'colsample_bylevel': 0.4, 'subsample': 0.5, 'learning_rate': 0.03671728009396169, 'n_estimators': 2500, 'max_depth': 3}. Best is trial 10 with value: 0.5530661690906659.\n",
      "[I 2023-12-19 20:41:08,191] Trial 78 finished with value: 0.5769793948191219 and parameters: {'lambda': 0.0012472598418287665, 'alpha': 0.0010081811680025538, 'colsample_bytree': 0.4, 'colsample_bynode': 0.9, 'colsample_bylevel': 0.4, 'subsample': 0.5, 'learning_rate': 0.025496310649856378, 'n_estimators': 2500, 'max_depth': 8}. Best is trial 10 with value: 0.5530661690906659.\n",
      "[I 2023-12-19 20:41:08,785] Trial 79 finished with value: 0.564805588874912 and parameters: {'lambda': 0.0034064484978748298, 'alpha': 0.003973484521474917, 'colsample_bytree': 0.4, 'colsample_bynode': 0.9, 'colsample_bylevel': 0.4, 'subsample': 0.5, 'learning_rate': 0.04995588358557489, 'n_estimators': 2500, 'max_depth': 3}. Best is trial 10 with value: 0.5530661690906659.\n",
      "[I 2023-12-19 20:41:09,699] Trial 80 finished with value: 0.5583862291599442 and parameters: {'lambda': 0.005394134265706584, 'alpha': 0.003043656576173907, 'colsample_bytree': 0.4, 'colsample_bynode': 0.9, 'colsample_bylevel': 0.4, 'subsample': 0.9, 'learning_rate': 0.028835512050142603, 'n_estimators': 2500, 'max_depth': 3}. Best is trial 10 with value: 0.5530661690906659.\n",
      "[I 2023-12-19 20:41:11,796] Trial 81 finished with value: 0.5553066622634923 and parameters: {'lambda': 0.001007062384387267, 'alpha': 0.0019548584753522917, 'colsample_bytree': 0.4, 'colsample_bynode': 0.9, 'colsample_bylevel': 0.4, 'subsample': 0.5, 'learning_rate': 0.021191934895853807, 'n_estimators': 2500, 'max_depth': 3}. Best is trial 10 with value: 0.5530661690906659.\n",
      "[I 2023-12-19 20:41:13,420] Trial 82 finished with value: 0.5593465535229243 and parameters: {'lambda': 0.00114613351918959, 'alpha': 0.0016413961726008776, 'colsample_bytree': 0.4, 'colsample_bynode': 0.9, 'colsample_bylevel': 0.4, 'subsample': 0.5, 'learning_rate': 0.02059338225782926, 'n_estimators': 2500, 'max_depth': 3}. Best is trial 10 with value: 0.5530661690906659.\n",
      "[I 2023-12-19 20:41:14,407] Trial 83 finished with value: 0.563864625457117 and parameters: {'lambda': 0.0019045554386309213, 'alpha': 0.0022646066638355787, 'colsample_bytree': 0.4, 'colsample_bynode': 0.9, 'colsample_bylevel': 0.4, 'subsample': 0.5, 'learning_rate': 0.03936560847536245, 'n_estimators': 2500, 'max_depth': 3}. Best is trial 10 with value: 0.5530661690906659.\n",
      "[I 2023-12-19 20:41:15,580] Trial 84 finished with value: 0.5618146925021565 and parameters: {'lambda': 0.0010147803797588124, 'alpha': 0.0018397616400270692, 'colsample_bytree': 0.4, 'colsample_bynode': 0.9, 'colsample_bylevel': 0.4, 'subsample': 0.5, 'learning_rate': 0.026489343284037875, 'n_estimators': 2500, 'max_depth': 3}. Best is trial 10 with value: 0.5530661690906659.\n",
      "[I 2023-12-19 20:41:16,884] Trial 85 finished with value: 0.5615431781899701 and parameters: {'lambda': 0.0021988579414615097, 'alpha': 0.004187556014118914, 'colsample_bytree': 0.4, 'colsample_bynode': 0.9, 'colsample_bylevel': 0.4, 'subsample': 0.5, 'learning_rate': 0.03623380821943148, 'n_estimators': 2500, 'max_depth': 4}. Best is trial 10 with value: 0.5530661690906659.\n",
      "[I 2023-12-19 20:41:19,604] Trial 86 finished with value: 0.5612080747830018 and parameters: {'lambda': 0.001642179415970692, 'alpha': 0.002965691349928681, 'colsample_bytree': 0.4, 'colsample_bynode': 0.9, 'colsample_bylevel': 0.4, 'subsample': 0.9, 'learning_rate': 0.009187818498654477, 'n_estimators': 2500, 'max_depth': 3}. Best is trial 10 with value: 0.5530661690906659.\n",
      "[I 2023-12-19 20:41:21,359] Trial 87 finished with value: 0.5562537993792254 and parameters: {'lambda': 0.003711154920021787, 'alpha': 0.001327721623782183, 'colsample_bytree': 0.4, 'colsample_bynode': 0.9, 'colsample_bylevel': 0.4, 'subsample': 0.4, 'learning_rate': 0.018415644754007268, 'n_estimators': 1500, 'max_depth': 3}. Best is trial 10 with value: 0.5530661690906659.\n",
      "[I 2023-12-19 20:41:22,861] Trial 88 finished with value: 0.556482999267525 and parameters: {'lambda': 0.0037447131763788614, 'alpha': 0.001557671804900832, 'colsample_bytree': 0.4, 'colsample_bynode': 0.9, 'colsample_bylevel': 0.4, 'subsample': 0.4, 'learning_rate': 0.029317153212457814, 'n_estimators': 1500, 'max_depth': 3}. Best is trial 10 with value: 0.5530661690906659.\n",
      "[I 2023-12-19 20:41:24,236] Trial 89 finished with value: 0.5588722020999776 and parameters: {'lambda': 0.0039004265889403655, 'alpha': 0.0012313532752415948, 'colsample_bytree': 0.4, 'colsample_bynode': 0.9, 'colsample_bylevel': 0.4, 'subsample': 0.4, 'learning_rate': 0.021163691264088198, 'n_estimators': 1500, 'max_depth': 3}. Best is trial 10 with value: 0.5530661690906659.\n",
      "[I 2023-12-19 20:41:25,154] Trial 90 finished with value: 0.5706553215836159 and parameters: {'lambda': 0.0034527499913620265, 'alpha': 0.001452593711233892, 'colsample_bytree': 0.4, 'colsample_bynode': 0.9, 'colsample_bylevel': 0.6, 'subsample': 0.4, 'learning_rate': 0.0403841921744916, 'n_estimators': 1500, 'max_depth': 4}. Best is trial 10 with value: 0.5530661690906659.\n",
      "[I 2023-12-19 20:41:26,371] Trial 91 finished with value: 0.5581636143586115 and parameters: {'lambda': 0.001210356484790317, 'alpha': 0.0021161631497200735, 'colsample_bytree': 0.4, 'colsample_bynode': 0.9, 'colsample_bylevel': 0.4, 'subsample': 0.4, 'learning_rate': 0.028529691143854594, 'n_estimators': 1500, 'max_depth': 3}. Best is trial 10 with value: 0.5530661690906659.\n",
      "[I 2023-12-19 20:41:27,405] Trial 92 finished with value: 0.5593606742259954 and parameters: {'lambda': 0.0017228792833681673, 'alpha': 0.002539464686042887, 'colsample_bytree': 0.4, 'colsample_bynode': 0.9, 'colsample_bylevel': 0.4, 'subsample': 0.4, 'learning_rate': 0.029866993787851345, 'n_estimators': 1500, 'max_depth': 3}. Best is trial 10 with value: 0.5530661690906659.\n",
      "[I 2023-12-19 20:41:28,936] Trial 93 finished with value: 0.5578239916089043 and parameters: {'lambda': 0.0013157134544800415, 'alpha': 0.0017587717507416023, 'colsample_bytree': 0.4, 'colsample_bynode': 0.9, 'colsample_bylevel': 0.4, 'subsample': 0.4, 'learning_rate': 0.0171265092566648, 'n_estimators': 1500, 'max_depth': 3}. Best is trial 10 with value: 0.5530661690906659.\n",
      "[I 2023-12-19 20:41:30,502] Trial 94 finished with value: 0.5571072007327413 and parameters: {'lambda': 0.002985305657280048, 'alpha': 0.0010782093639162536, 'colsample_bytree': 0.4, 'colsample_bynode': 0.9, 'colsample_bylevel': 0.4, 'subsample': 0.4, 'learning_rate': 0.021918107051624548, 'n_estimators': 1500, 'max_depth': 3}. Best is trial 10 with value: 0.5530661690906659.\n",
      "[I 2023-12-19 20:41:32,736] Trial 95 finished with value: 0.5570669567189724 and parameters: {'lambda': 0.002081528550375635, 'alpha': 0.0014650827620742816, 'colsample_bytree': 0.4, 'colsample_bynode': 0.9, 'colsample_bylevel': 0.4, 'subsample': 0.6, 'learning_rate': 0.012963109956564276, 'n_estimators': 1500, 'max_depth': 3}. Best is trial 10 with value: 0.5530661690906659.\n",
      "[I 2023-12-19 20:41:33,824] Trial 96 finished with value: 0.5573574365115528 and parameters: {'lambda': 0.0015895705823976195, 'alpha': 0.0033062770431305263, 'colsample_bytree': 0.4, 'colsample_bynode': 0.9, 'colsample_bylevel': 0.4, 'subsample': 0.4, 'learning_rate': 0.039005574760400404, 'n_estimators': 2500, 'max_depth': 3}. Best is trial 10 with value: 0.5530661690906659.\n",
      "[I 2023-12-19 20:41:35,430] Trial 97 finished with value: 0.5579096842760187 and parameters: {'lambda': 0.005990304783744907, 'alpha': 0.002004740910967584, 'colsample_bytree': 0.4, 'colsample_bynode': 0.9, 'colsample_bylevel': 0.8, 'subsample': 0.5, 'learning_rate': 0.02989632776371742, 'n_estimators': 3000, 'max_depth': 4}. Best is trial 10 with value: 0.5530661690906659.\n",
      "[I 2023-12-19 20:41:38,349] Trial 98 finished with value: 0.5573650724562328 and parameters: {'lambda': 0.003918052990992462, 'alpha': 0.004800434149424206, 'colsample_bytree': 0.9, 'colsample_bynode': 0.9, 'colsample_bylevel': 0.4, 'subsample': 0.4, 'learning_rate': 0.009883515763671054, 'n_estimators': 2500, 'max_depth': 3}. Best is trial 10 with value: 0.5530661690906659.\n",
      "[I 2023-12-19 20:41:40,278] Trial 99 finished with value: 0.5647094361106697 and parameters: {'lambda': 0.0023606418027203075, 'alpha': 0.0012207695221370842, 'colsample_bytree': 0.4, 'colsample_bynode': 0.4, 'colsample_bylevel': 0.4, 'subsample': 0.4, 'learning_rate': 0.017011534132006085, 'n_estimators': 1500, 'max_depth': 3}. Best is trial 10 with value: 0.5530661690906659.\n"
>>>>>>> 6d657ea7fd8afd0ae5180f5f245fc45f9a137de9
     ]
    },
    {
     "name": "stdout",
     "output_type": "stream",
     "text": [
      "Number of finished trials: 100\n",
<<<<<<< HEAD
      "Best trial: {'lambda': 6.29525858048249, 'alpha': 0.0034859671182548204, 'colsample_bytree': 0.8, 'colsample_bynode': 0.8, 'colsample_bylevel': 0.4, 'subsample': 0.8, 'learning_rate': 0.008083203116849208, 'n_estimators': 2250, 'max_depth': 3}\n"
=======
      "Best trial: {'lambda': 0.001148371652453307, 'alpha': 0.06049637871898976, 'colsample_bytree': 0.8, 'colsample_bynode': 0.6, 'colsample_bylevel': 0.4, 'subsample': 0.4, 'learning_rate': 0.0271746885313327, 'n_estimators': 2000, 'max_depth': 3}\n"
>>>>>>> 6d657ea7fd8afd0ae5180f5f245fc45f9a137de9
     ]
    }
   ],
   "source": [
    "study = optuna.create_study(direction='minimize')\n",
    "study.optimize(objective, n_trials=100)\n",
    "print('Number of finished trials:', len(study.trials))\n",
    "print('Best trial:', study.best_trial.params)"
   ]
  },
  {
   "cell_type": "code",
<<<<<<< HEAD
   "execution_count": 21,
=======
   "execution_count": 9,
>>>>>>> 6d657ea7fd8afd0ae5180f5f245fc45f9a137de9
   "metadata": {},
   "outputs": [
    {
     "data": {
      "text/html": [
       "<div>\n",
       "<style scoped>\n",
       "    .dataframe tbody tr th:only-of-type {\n",
       "        vertical-align: middle;\n",
       "    }\n",
       "\n",
       "    .dataframe tbody tr th {\n",
       "        vertical-align: top;\n",
       "    }\n",
       "\n",
       "    .dataframe thead th {\n",
       "        text-align: right;\n",
       "    }\n",
       "</style>\n",
       "<table border=\"1\" class=\"dataframe\">\n",
       "  <thead>\n",
       "    <tr style=\"text-align: right;\">\n",
       "      <th></th>\n",
       "      <th>number</th>\n",
       "      <th>value</th>\n",
       "      <th>datetime_start</th>\n",
       "      <th>datetime_complete</th>\n",
       "      <th>duration</th>\n",
       "      <th>params_alpha</th>\n",
       "      <th>params_colsample_bylevel</th>\n",
       "      <th>params_colsample_bynode</th>\n",
       "      <th>params_colsample_bytree</th>\n",
       "      <th>params_lambda</th>\n",
       "      <th>params_learning_rate</th>\n",
       "      <th>params_max_depth</th>\n",
       "      <th>params_n_estimators</th>\n",
       "      <th>params_subsample</th>\n",
       "      <th>state</th>\n",
       "    </tr>\n",
       "  </thead>\n",
       "  <tbody>\n",
       "    <tr>\n",
<<<<<<< HEAD
       "      <th>96</th>\n",
       "      <td>96</td>\n",
       "      <td>0.554149</td>\n",
       "      <td>2023-12-19 21:24:58.740064</td>\n",
       "      <td>2023-12-19 21:25:02.770850</td>\n",
       "      <td>0 days 00:00:04.030786</td>\n",
       "      <td>0.003486</td>\n",
       "      <td>0.4</td>\n",
       "      <td>0.8</td>\n",
       "      <td>0.8</td>\n",
       "      <td>6.295259</td>\n",
       "      <td>0.008083</td>\n",
       "      <td>3</td>\n",
       "      <td>2250</td>\n",
       "      <td>0.8</td>\n",
       "      <td>COMPLETE</td>\n",
       "    </tr>\n",
       "    <tr>\n",
       "      <th>75</th>\n",
       "      <td>75</td>\n",
       "      <td>0.555057</td>\n",
       "      <td>2023-12-19 21:23:08.835501</td>\n",
       "      <td>2023-12-19 21:23:13.784572</td>\n",
       "      <td>0 days 00:00:04.949071</td>\n",
       "      <td>0.002353</td>\n",
       "      <td>0.4</td>\n",
       "      <td>0.8</td>\n",
       "      <td>0.8</td>\n",
       "      <td>5.834719</td>\n",
       "      <td>0.006456</td>\n",
       "      <td>3</td>\n",
       "      <td>2000</td>\n",
       "      <td>0.9</td>\n",
       "      <td>COMPLETE</td>\n",
       "    </tr>\n",
       "    <tr>\n",
       "      <th>80</th>\n",
       "      <td>80</td>\n",
       "      <td>0.555247</td>\n",
       "      <td>2023-12-19 21:23:38.332306</td>\n",
       "      <td>2023-12-19 21:23:44.252623</td>\n",
       "      <td>0 days 00:00:05.920317</td>\n",
       "      <td>0.003846</td>\n",
       "      <td>0.4</td>\n",
       "      <td>0.8</td>\n",
       "      <td>0.8</td>\n",
       "      <td>6.673379</td>\n",
       "      <td>0.004875</td>\n",
       "      <td>4</td>\n",
       "      <td>2000</td>\n",
       "      <td>0.7</td>\n",
       "      <td>COMPLETE</td>\n",
       "    </tr>\n",
       "    <tr>\n",
       "      <th>21</th>\n",
       "      <td>21</td>\n",
       "      <td>0.555405</td>\n",
       "      <td>2023-12-19 21:18:39.581746</td>\n",
       "      <td>2023-12-19 21:18:44.577648</td>\n",
       "      <td>0 days 00:00:04.995902</td>\n",
       "      <td>0.002935</td>\n",
       "      <td>0.6</td>\n",
       "      <td>0.8</td>\n",
       "      <td>0.9</td>\n",
       "      <td>9.359074</td>\n",
       "      <td>0.005167</td>\n",
       "      <td>3</td>\n",
       "      <td>2000</td>\n",
       "      <td>0.7</td>\n",
       "      <td>COMPLETE</td>\n",
       "    </tr>\n",
       "    <tr>\n",
       "      <th>98</th>\n",
       "      <td>98</td>\n",
       "      <td>0.555554</td>\n",
       "      <td>2023-12-19 21:25:05.797801</td>\n",
       "      <td>2023-12-19 21:25:10.456751</td>\n",
       "      <td>0 days 00:00:04.658950</td>\n",
       "      <td>0.004162</td>\n",
       "      <td>0.4</td>\n",
       "      <td>0.8</td>\n",
       "      <td>0.8</td>\n",
       "      <td>5.678881</td>\n",
       "      <td>0.006610</td>\n",
       "      <td>3</td>\n",
       "      <td>2250</td>\n",
       "      <td>0.8</td>\n",
=======
       "      <th>10</th>\n",
       "      <td>10</td>\n",
       "      <td>0.553066</td>\n",
       "      <td>2023-12-19 20:36:06.515719</td>\n",
       "      <td>2023-12-19 20:36:07.593584</td>\n",
       "      <td>0 days 00:00:01.077865</td>\n",
       "      <td>0.060496</td>\n",
       "      <td>0.4</td>\n",
       "      <td>0.6</td>\n",
       "      <td>0.8</td>\n",
       "      <td>0.001148</td>\n",
       "      <td>0.027175</td>\n",
       "      <td>3</td>\n",
       "      <td>2000</td>\n",
       "      <td>0.4</td>\n",
       "      <td>COMPLETE</td>\n",
       "    </tr>\n",
       "    <tr>\n",
       "      <th>19</th>\n",
       "      <td>19</td>\n",
       "      <td>0.553951</td>\n",
       "      <td>2023-12-19 20:36:44.134402</td>\n",
       "      <td>2023-12-19 20:36:46.926064</td>\n",
       "      <td>0 days 00:00:02.791662</td>\n",
       "      <td>0.003478</td>\n",
       "      <td>0.4</td>\n",
       "      <td>0.8</td>\n",
       "      <td>0.4</td>\n",
       "      <td>0.002561</td>\n",
       "      <td>0.013415</td>\n",
       "      <td>4</td>\n",
       "      <td>2000</td>\n",
       "      <td>0.9</td>\n",
       "      <td>COMPLETE</td>\n",
       "    </tr>\n",
       "    <tr>\n",
       "      <th>81</th>\n",
       "      <td>81</td>\n",
       "      <td>0.555307</td>\n",
       "      <td>2023-12-19 20:41:09.700766</td>\n",
       "      <td>2023-12-19 20:41:11.796846</td>\n",
       "      <td>0 days 00:00:02.096080</td>\n",
       "      <td>0.001955</td>\n",
       "      <td>0.4</td>\n",
       "      <td>0.9</td>\n",
       "      <td>0.4</td>\n",
       "      <td>0.001007</td>\n",
       "      <td>0.021192</td>\n",
       "      <td>3</td>\n",
       "      <td>2500</td>\n",
       "      <td>0.5</td>\n",
       "      <td>COMPLETE</td>\n",
       "    </tr>\n",
       "    <tr>\n",
       "      <th>14</th>\n",
       "      <td>14</td>\n",
       "      <td>0.555736</td>\n",
       "      <td>2023-12-19 20:36:10.784846</td>\n",
       "      <td>2023-12-19 20:36:11.819192</td>\n",
       "      <td>0 days 00:00:01.034346</td>\n",
       "      <td>0.001283</td>\n",
       "      <td>0.4</td>\n",
       "      <td>0.6</td>\n",
       "      <td>0.8</td>\n",
       "      <td>0.003143</td>\n",
       "      <td>0.044657</td>\n",
       "      <td>3</td>\n",
       "      <td>2000</td>\n",
       "      <td>0.9</td>\n",
       "      <td>COMPLETE</td>\n",
       "    </tr>\n",
       "    <tr>\n",
       "      <th>72</th>\n",
       "      <td>72</td>\n",
       "      <td>0.555952</td>\n",
       "      <td>2023-12-19 20:40:53.910190</td>\n",
       "      <td>2023-12-19 20:40:55.475452</td>\n",
       "      <td>0 days 00:00:01.565262</td>\n",
       "      <td>0.003039</td>\n",
       "      <td>0.4</td>\n",
       "      <td>0.9</td>\n",
       "      <td>0.4</td>\n",
       "      <td>0.002032</td>\n",
       "      <td>0.034398</td>\n",
       "      <td>3</td>\n",
       "      <td>2500</td>\n",
       "      <td>0.9</td>\n",
>>>>>>> 6d657ea7fd8afd0ae5180f5f245fc45f9a137de9
       "      <td>COMPLETE</td>\n",
       "    </tr>\n",
       "  </tbody>\n",
       "</table>\n",
       "</div>"
      ],
      "text/plain": [
       "    number     value             datetime_start          datetime_complete  \\\n",
<<<<<<< HEAD
       "96      96  0.554149 2023-12-19 21:24:58.740064 2023-12-19 21:25:02.770850   \n",
       "75      75  0.555057 2023-12-19 21:23:08.835501 2023-12-19 21:23:13.784572   \n",
       "80      80  0.555247 2023-12-19 21:23:38.332306 2023-12-19 21:23:44.252623   \n",
       "21      21  0.555405 2023-12-19 21:18:39.581746 2023-12-19 21:18:44.577648   \n",
       "98      98  0.555554 2023-12-19 21:25:05.797801 2023-12-19 21:25:10.456751   \n",
       "\n",
       "                 duration  params_alpha  params_colsample_bylevel  \\\n",
       "96 0 days 00:00:04.030786      0.003486                       0.4   \n",
       "75 0 days 00:00:04.949071      0.002353                       0.4   \n",
       "80 0 days 00:00:05.920317      0.003846                       0.4   \n",
       "21 0 days 00:00:04.995902      0.002935                       0.6   \n",
       "98 0 days 00:00:04.658950      0.004162                       0.4   \n",
       "\n",
       "    params_colsample_bynode  params_colsample_bytree  params_lambda  \\\n",
       "96                      0.8                      0.8       6.295259   \n",
       "75                      0.8                      0.8       5.834719   \n",
       "80                      0.8                      0.8       6.673379   \n",
       "21                      0.8                      0.9       9.359074   \n",
       "98                      0.8                      0.8       5.678881   \n",
       "\n",
       "    params_learning_rate  params_max_depth  params_n_estimators  \\\n",
       "96              0.008083                 3                 2250   \n",
       "75              0.006456                 3                 2000   \n",
       "80              0.004875                 4                 2000   \n",
       "21              0.005167                 3                 2000   \n",
       "98              0.006610                 3                 2250   \n",
       "\n",
       "    params_subsample     state  \n",
       "96               0.8  COMPLETE  \n",
       "75               0.9  COMPLETE  \n",
       "80               0.7  COMPLETE  \n",
       "21               0.7  COMPLETE  \n",
       "98               0.8  COMPLETE  "
      ]
     },
     "execution_count": 21,
=======
       "10      10  0.553066 2023-12-19 20:36:06.515719 2023-12-19 20:36:07.593584   \n",
       "19      19  0.553951 2023-12-19 20:36:44.134402 2023-12-19 20:36:46.926064   \n",
       "81      81  0.555307 2023-12-19 20:41:09.700766 2023-12-19 20:41:11.796846   \n",
       "14      14  0.555736 2023-12-19 20:36:10.784846 2023-12-19 20:36:11.819192   \n",
       "72      72  0.555952 2023-12-19 20:40:53.910190 2023-12-19 20:40:55.475452   \n",
       "\n",
       "                 duration  params_alpha  params_colsample_bylevel  \\\n",
       "10 0 days 00:00:01.077865      0.060496                       0.4   \n",
       "19 0 days 00:00:02.791662      0.003478                       0.4   \n",
       "81 0 days 00:00:02.096080      0.001955                       0.4   \n",
       "14 0 days 00:00:01.034346      0.001283                       0.4   \n",
       "72 0 days 00:00:01.565262      0.003039                       0.4   \n",
       "\n",
       "    params_colsample_bynode  params_colsample_bytree  params_lambda  \\\n",
       "10                      0.6                      0.8       0.001148   \n",
       "19                      0.8                      0.4       0.002561   \n",
       "81                      0.9                      0.4       0.001007   \n",
       "14                      0.6                      0.8       0.003143   \n",
       "72                      0.9                      0.4       0.002032   \n",
       "\n",
       "    params_learning_rate  params_max_depth  params_n_estimators  \\\n",
       "10              0.027175                 3                 2000   \n",
       "19              0.013415                 4                 2000   \n",
       "81              0.021192                 3                 2500   \n",
       "14              0.044657                 3                 2000   \n",
       "72              0.034398                 3                 2500   \n",
       "\n",
       "    params_subsample     state  \n",
       "10               0.4  COMPLETE  \n",
       "19               0.9  COMPLETE  \n",
       "81               0.5  COMPLETE  \n",
       "14               0.9  COMPLETE  \n",
       "72               0.9  COMPLETE  "
      ]
     },
     "execution_count": 9,
>>>>>>> 6d657ea7fd8afd0ae5180f5f245fc45f9a137de9
     "metadata": {},
     "output_type": "execute_result"
    }
   ],
   "source": [
    "study.trials_dataframe().sort_values(by='value', ascending=True).head()"
   ]
  },
  {
   "cell_type": "markdown",
   "metadata": {},
   "source": [
    "## Use best params"
   ]
  },
  {
   "cell_type": "code",
<<<<<<< HEAD
   "execution_count": 22,
=======
   "execution_count": 10,
>>>>>>> 6d657ea7fd8afd0ae5180f5f245fc45f9a137de9
   "metadata": {},
   "outputs": [
    {
     "name": "stdout",
     "output_type": "stream",
     "text": [
<<<<<<< HEAD
      "{'lambda': 6.29525858048249, 'alpha': 0.0034859671182548204, 'colsample_bytree': 0.8, 'colsample_bynode': 0.8, 'colsample_bylevel': 0.4, 'subsample': 0.8, 'learning_rate': 0.008083203116849208, 'n_estimators': 2250, 'max_depth': 3}\n"
=======
      "{'lambda': 0.001148371652453307, 'alpha': 0.06049637871898976, 'colsample_bytree': 0.8, 'colsample_bynode': 0.6, 'colsample_bylevel': 0.4, 'subsample': 0.4, 'learning_rate': 0.0271746885313327, 'n_estimators': 2000, 'max_depth': 3}\n"
>>>>>>> 6d657ea7fd8afd0ae5180f5f245fc45f9a137de9
     ]
    }
   ],
   "source": [
    "best_trial = study.best_trial.params\n",
    "print(best_trial)"
   ]
  },
  {
   "cell_type": "code",
<<<<<<< HEAD
   "execution_count": 23,
=======
   "execution_count": 11,
>>>>>>> 6d657ea7fd8afd0ae5180f5f245fc45f9a137de9
   "metadata": {},
   "outputs": [],
   "source": [
    "OOF_PREDS = np.zeros((len(train_feats), 2))\n",
    "# TEST_PREDS = np.zeros((len(test_feats), 2))"
   ]
  },
  {
   "cell_type": "code",
<<<<<<< HEAD
   "execution_count": 24,
=======
   "execution_count": 12,
>>>>>>> 6d657ea7fd8afd0ae5180f5f245fc45f9a137de9
   "metadata": {},
   "outputs": [],
   "source": [
    "models_dict = {}\n",
    "scores = []\n",
    "preds_dict = {}\n",
    "count = 0\n",
    "for _ in train_feats['id'].unique():\n",
    "    preds_dict[count] = []\n",
    "    count+=1\n",
    "\n",
    "# test_predict_list = []\n",
    "\n",
    "for i in range(3): \n",
    "    kf = model_selection.KFold(n_splits=20, random_state=42 + i, shuffle=True)\n",
    "    oof_valid_preds = np.zeros(train_feats.shape[0])\n",
    "    # X_test = test_feats[train_cols]\n",
    "    for fold, (train_idx, valid_idx) in enumerate(kf.split(train_feats)):\n",
    "        \n",
    "        X_train, y_train = train_feats.iloc[train_idx][train_cols], train_feats.iloc[train_idx][target_col]\n",
    "        X_valid, y_valid = train_feats.iloc[valid_idx][train_cols], train_feats.iloc[valid_idx][target_col]\n",
    "\n",
    "        best_params = {\n",
    "            'tree_method':'hist',\n",
    "            'objective': 'reg:squarederror',\n",
    "            'eval_metric': ['rmse'],\n",
    "            'seed': 42,\n",
    "            'nthread': -1,\n",
    "            'early_stopping_rounds': 50,\n",
    "            **best_trial\n",
    "        }\n",
    "        \n",
    "        model = xgb.XGBRegressor(**best_params)\n",
    "        \n",
    "        model.fit(X_train,y_train, eval_set=[(X_valid,y_valid)], verbose=False)\n",
    "\n",
    "        valid_predict = model.predict(X_valid)\n",
    "\n",
    "        for count, idx in enumerate(valid_idx):\n",
    "            preds_dict[idx].append(valid_predict[count])\n",
    "\n",
    "        oof_valid_preds[valid_idx] = valid_predict\n",
    "        # OOF_PREDS[valid_idx, 0] += valid_predict / 5\n",
    "        OOF_PREDS[valid_idx, 0] = valid_predict \n",
    "\n",
    "\n",
    "        # test_predict = model.predict(X_test)\n",
    "        # TEST_PREDS[:, 0] += test_predict / 5 / 10\n",
    "        # test_predict_list.append(test_predict)\n",
    "        score = metrics.mean_squared_error(y_valid, valid_predict, squared=False)\n",
    "        models_dict[f'{fold}_{i}'] = model\n",
    "\n",
    "    oof_score = metrics.mean_squared_error(train_feats[target_col], oof_valid_preds, squared=False)\n",
    "    scores.append(oof_score)"
   ]
  },
  {
   "cell_type": "code",
<<<<<<< HEAD
   "execution_count": 25,
=======
   "execution_count": 13,
>>>>>>> 6d657ea7fd8afd0ae5180f5f245fc45f9a137de9
   "metadata": {},
   "outputs": [],
   "source": [
    "means = []\n",
    "stds = []\n",
    "\n",
    "for idx in preds_dict:\n",
    "    means.append(np.mean(preds_dict[idx]))\n",
    "    stds.append(np.std(preds_dict[idx]))"
   ]
  },
  {
   "cell_type": "code",
<<<<<<< HEAD
   "execution_count": 26,
=======
   "execution_count": 14,
>>>>>>> 6d657ea7fd8afd0ae5180f5f245fc45f9a137de9
   "metadata": {},
   "outputs": [
    {
     "name": "stdout",
     "output_type": "stream",
     "text": [
<<<<<<< HEAD
      "OOF metric XGB = 0.60452\n"
=======
      "OOF metric XGB = 0.60136\n"
>>>>>>> 6d657ea7fd8afd0ae5180f5f245fc45f9a137de9
     ]
    }
   ],
   "source": [
    "print('OOF metric XGB = {:.5f}'.format(metrics.mean_squared_error(train_feats[target_col], \n",
    "                                                                   means,\n",
    "                                                                   squared=False)))"
   ]
  },
  {
   "cell_type": "code",
<<<<<<< HEAD
   "execution_count": 27,
=======
   "execution_count": 15,
>>>>>>> 6d657ea7fd8afd0ae5180f5f245fc45f9a137de9
   "metadata": {},
   "outputs": [],
   "source": [
    "def add_identity(axes, *line_args, **line_kwargs):\n",
    "    identity, = axes.plot([], [], *line_args, **line_kwargs)\n",
    "    def callback(axes):\n",
    "        low_x, high_x = axes.get_xlim()\n",
    "        low_y, high_y = axes.get_ylim()\n",
    "        low = max(low_x, low_y)\n",
    "        high = min(high_x, high_y)\n",
    "        identity.set_data([low, high], [low, high])\n",
    "    callback(axes)\n",
    "    axes.callbacks.connect('xlim_changed', callback)\n",
    "    axes.callbacks.connect('ylim_changed', callback)\n",
    "    return axes"
   ]
  },
  {
   "cell_type": "code",
<<<<<<< HEAD
   "execution_count": 28,
=======
   "execution_count": 16,
>>>>>>> 6d657ea7fd8afd0ae5180f5f245fc45f9a137de9
   "metadata": {},
   "outputs": [],
   "source": [
    "import math\n",
    "def round_to_half(numbers, round_up=False):\n",
    "    if round_up:\n",
    "        return [round(num * 2) / 2 for num in numbers]\n",
    "    else:\n",
    "        return [math.floor(num * 2) / 2 for num in numbers]"
   ]
  },
  {
   "cell_type": "code",
<<<<<<< HEAD
   "execution_count": 29,
=======
   "execution_count": 17,
>>>>>>> 6d657ea7fd8afd0ae5180f5f245fc45f9a137de9
   "metadata": {},
   "outputs": [
    {
     "data": {
<<<<<<< HEAD
      "image/png": "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",
=======
      "image/png": "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",
>>>>>>> 6d657ea7fd8afd0ae5180f5f245fc45f9a137de9
      "text/plain": [
       "<Figure size 600x600 with 1 Axes>"
      ]
     },
     "metadata": {},
     "output_type": "display_data"
    }
   ],
   "source": [
    "f, ax = plt.subplots(figsize=(6, 6))\n",
    "ax.scatter(means, train_feats['score'])\n",
    "add_identity(ax, color='r', ls='--')\n",
    "# ax.scatter(stds, train_scores_df['score']-means)\n",
    "plt.ylabel('True Values')\n",
    "plt.xlabel('Predictions')\n",
    "\n",
    "plt.show()"
   ]
  },
  {
   "cell_type": "code",
<<<<<<< HEAD
   "execution_count": 30,
=======
   "execution_count": 18,
>>>>>>> 6d657ea7fd8afd0ae5180f5f245fc45f9a137de9
   "metadata": {},
   "outputs": [
    {
     "data": {
      "text/plain": [
<<<<<<< HEAD
       "(array([569., 930., 548., 266.,  90.,  37.,  20.,   7.,   3.,   1.]),\n",
       " array([0.00029866, 0.01709666, 0.03389466, 0.05069266, 0.06749067,\n",
       "        0.08428867, 0.10108667, 0.11788467, 0.13468267, 0.15148067,\n",
       "        0.16827868]),\n",
       " <BarContainer object of 10 artists>)"
      ]
     },
     "execution_count": 30,
=======
       "(array([609., 943., 544., 235.,  98.,  27.,  10.,   4.,   0.,   1.]),\n",
       " array([2.74390128e-04, 2.84997225e-02, 5.67250550e-02, 8.49503875e-02,\n",
       "        1.13175720e-01, 1.41401052e-01, 1.69626385e-01, 1.97851717e-01,\n",
       "        2.26077050e-01, 2.54302382e-01, 2.82527715e-01]),\n",
       " <BarContainer object of 10 artists>)"
      ]
     },
     "execution_count": 18,
>>>>>>> 6d657ea7fd8afd0ae5180f5f245fc45f9a137de9
     "metadata": {},
     "output_type": "execute_result"
    },
    {
     "data": {
<<<<<<< HEAD
      "image/png": "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",
=======
      "image/png": "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",
>>>>>>> 6d657ea7fd8afd0ae5180f5f245fc45f9a137de9
      "text/plain": [
       "<Figure size 640x480 with 1 Axes>"
      ]
     },
     "metadata": {},
     "output_type": "display_data"
    }
   ],
   "source": [
    "plt.hist(stds)"
   ]
  }
 ],
 "metadata": {
  "kernelspec": {
   "display_name": "Python 3",
   "language": "python",
   "name": "python3"
  },
  "language_info": {
   "codemirror_mode": {
    "name": "ipython",
    "version": 3
   },
   "file_extension": ".py",
   "mimetype": "text/x-python",
   "name": "python",
   "nbconvert_exporter": "python",
   "pygments_lexer": "ipython3",
   "version": "3.10.5"
  }
 },
 "nbformat": 4,
 "nbformat_minor": 2
}
