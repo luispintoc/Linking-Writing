{
 "cells": [
  {
   "cell_type": "code",
   "execution_count": 1,
   "metadata": {},
   "outputs": [],
   "source": [
    "import gc\n",
    "import os\n",
    "import itertools\n",
    "import pickle\n",
    "import re\n",
    "import time\n",
    "from random import choice, choices\n",
    "from functools import reduce\n",
    "from tqdm import tqdm\n",
    "from itertools import cycle\n",
    "import numpy as np\n",
    "import pandas as pd\n",
    "import seaborn as sns\n",
    "import matplotlib.pyplot as plt\n",
    "from collections import Counter\n",
    "from functools import reduce\n",
    "from itertools import cycle\n",
    "from scipy import stats\n",
    "from scipy.stats import skew, kurtosis\n",
    "from sklearn import metrics, model_selection, preprocessing, linear_model, ensemble, decomposition, tree\n",
    "import lightgbm as lgb\n",
    "import optuna\n",
    "from sklearn.metrics import mean_squared_error\n",
    "from sklearn.model_selection import train_test_split\n",
    "import xgboost as xgb\n",
    "\n",
    "\n",
    "import sys\n",
    "sys.path.append('../')\n",
    "from utils import *"
   ]
  },
  {
   "cell_type": "code",
   "execution_count": 2,
   "metadata": {},
   "outputs": [],
   "source": [
    "is_kaggle = False\n",
    "\n",
    "if is_kaggle:\n",
    "    base_dir = '/kaggle/input'\n",
    "    data_dir = f'{base_dir}/linking-writing-processes-to-writing-quality'\n",
    "    output_dir = '/kaggle/working'\n",
    "else:\n",
    "    base_dir = '../'\n",
    "    data_dir = f'{base_dir}/data'\n",
    "    models_dir = f'{base_dir}/models'"
   ]
  },
  {
   "cell_type": "code",
   "execution_count": 3,
   "metadata": {},
   "outputs": [],
   "source": [
    "train_feats = pd.read_csv('../feature_eng/example_features2.csv')"
   ]
  },
  {
   "cell_type": "code",
   "execution_count": 4,
   "metadata": {},
   "outputs": [],
   "source": [
    "train_feats.replace([np.inf, -np.inf], np.nan, inplace=True)\n",
    "cols = train_feats.columns\n",
    "\n",
    "# counter = 0\n",
    "# new_columns = {}\n",
    "# for col in cols:\n",
    "#     if col != 'id' and col != 'score':\n",
    "#         new_columns[col] = counter\n",
    "#         counter += 1\n",
    "\n",
    "# train_feats.rename(columns=new_columns, inplace=True)"
   ]
  },
  {
   "cell_type": "code",
   "execution_count": 5,
   "metadata": {},
   "outputs": [],
   "source": [
    "target_col = ['score']\n",
    "drop_cols = ['id']\n",
    "train_cols = [col for col in train_feats.columns if col not in target_col + drop_cols]"
   ]
  },
  {
   "cell_type": "code",
   "execution_count": 6,
   "metadata": {},
   "outputs": [],
   "source": [
    "train_feats.fillna(-999, inplace=True)\n",
    "train_feats.replace([np.inf, -np.inf], -999, inplace=True)"
   ]
  },
  {
   "cell_type": "code",
   "execution_count": 7,
   "metadata": {},
   "outputs": [],
   "source": [
    "def objective(trial,data=train_feats[train_cols],target=train_feats[target_col]):\n",
    "    \n",
    "    train_x, test_x, train_y, test_y = train_test_split(data, target, test_size=0.15, random_state=42)\n",
    "\n",
    "    params = {\n",
    "        'lambda': trial.suggest_float('lambda', 1e-3, 10.0, log=True),\n",
    "        'alpha': trial.suggest_float('alpha', 1e-3, 10.0, log=True),\n",
    "        'colsample_bytree': trial.suggest_categorical('colsample_bytree', [0.4,0.6,0.8,0.9]),\n",
    "        'colsample_bynode': trial.suggest_categorical('colsample_bynode', [0.4,0.6,0.8,0.9]),\n",
    "        'colsample_bylevel': trial.suggest_categorical('colsample_bylevel', [0.4,0.6,0.8,0.9]),\n",
    "        'subsample': trial.suggest_categorical('subsample', [0.4,0.5,0.6,0.7,0.8,0.9]),\n",
    "        'eta': trial.suggest_float('learning_rate', 1e-6, 5e-2, log=True),\n",
    "        'n_estimators': trial.suggest_categorical('n_estimators', [1000, 1500, 2000, 2500, 3000]),\n",
    "        'max_depth': trial.suggest_int('max_depth', 3, 9, step=1),\n",
    "    }\n",
    "\n",
    "    all_params = {\n",
    "        'tree_method':'gpu_hist',\n",
    "        'objective': 'reg:squarederror',\n",
    "        'eval_metric': ['rmse'],\n",
    "        'seed': 42,\n",
    "        'nthread': -1,\n",
    "        'early_stopping_rounds': 50,\n",
    "        **params\n",
    "    }\n",
    "\n",
    "\n",
    "    model = xgb.XGBRegressor(**all_params)\n",
    "    \n",
    "    model.fit(train_x,train_y,eval_set=[(test_x,test_y)], verbose=False)\n",
    "    \n",
    "    preds = model.predict(test_x)\n",
    "    \n",
    "    rmse = mean_squared_error(test_y, preds,squared=False)\n",
    "    \n",
    "    return rmse"
   ]
  },
  {
   "cell_type": "code",
   "execution_count": 8,
   "metadata": {},
   "outputs": [
    {
     "name": "stderr",
     "output_type": "stream",
     "text": [
      "[I 2023-12-19 20:32:09,843] A new study created in memory with name: no-name-ba02b174-e270-47e8-8f79-163a5ed6af94\n",
      "[I 2023-12-19 20:33:26,506] Trial 0 finished with value: 0.5986480748750553 and parameters: {'lambda': 1.3322956621698023, 'alpha': 0.015336992871320688, 'colsample_bytree': 0.9, 'colsample_bynode': 0.4, 'colsample_bylevel': 0.6, 'subsample': 0.5, 'learning_rate': 0.0013155414546634433, 'n_estimators': 2500, 'max_depth': 9}. Best is trial 0 with value: 0.5986480748750553.\n",
      "[I 2023-12-19 20:33:33,769] Trial 1 finished with value: 3.1780930260294458 and parameters: {'lambda': 7.1964986949734575, 'alpha': 0.1970761558019192, 'colsample_bytree': 0.6, 'colsample_bynode': 0.9, 'colsample_bylevel': 0.6, 'subsample': 0.5, 'learning_rate': 5.909159948048424e-05, 'n_estimators': 1000, 'max_depth': 8}. Best is trial 0 with value: 0.5986480748750553.\n",
      "[I 2023-12-19 20:33:45,562] Trial 2 finished with value: 3.329410796543471 and parameters: {'lambda': 3.842435592077945, 'alpha': 8.54511642825014, 'colsample_bytree': 0.9, 'colsample_bynode': 0.8, 'colsample_bylevel': 0.8, 'subsample': 0.6, 'learning_rate': 5.84422808874358e-06, 'n_estimators': 1500, 'max_depth': 8}. Best is trial 0 with value: 0.5986480748750553.\n",
      "[I 2023-12-19 20:33:56,325] Trial 3 finished with value: 1.7463328389813462 and parameters: {'lambda': 0.016339808167815734, 'alpha': 0.7942694130851687, 'colsample_bytree': 0.6, 'colsample_bynode': 0.8, 'colsample_bylevel': 0.6, 'subsample': 0.6, 'learning_rate': 0.0002836081793573572, 'n_estimators': 2500, 'max_depth': 4}. Best is trial 0 with value: 0.5986480748750553.\n",
      "[I 2023-12-19 20:34:03,124] Trial 4 finished with value: 0.5676608867216137 and parameters: {'lambda': 0.18796452563150046, 'alpha': 0.6485536354940515, 'colsample_bytree': 0.9, 'colsample_bynode': 0.9, 'colsample_bylevel': 0.6, 'subsample': 0.5, 'learning_rate': 0.00778254372885414, 'n_estimators': 1000, 'max_depth': 5}. Best is trial 4 with value: 0.5676608867216137.\n",
      "[I 2023-12-19 20:34:22,312] Trial 5 finished with value: 0.5737820259188006 and parameters: {'lambda': 7.441304266850844, 'alpha': 1.025383777954428, 'colsample_bytree': 0.6, 'colsample_bynode': 0.4, 'colsample_bylevel': 0.8, 'subsample': 0.4, 'learning_rate': 0.003397681837876944, 'n_estimators': 1500, 'max_depth': 7}. Best is trial 4 with value: 0.5676608867216137.\n",
      "[I 2023-12-19 20:35:14,324] Trial 6 finished with value: 1.1886533919548798 and parameters: {'lambda': 0.0498001293157262, 'alpha': 0.5107007558955239, 'colsample_bytree': 0.4, 'colsample_bynode': 0.4, 'colsample_bylevel': 0.9, 'subsample': 0.5, 'learning_rate': 0.000479323016753444, 'n_estimators': 2500, 'max_depth': 9}. Best is trial 4 with value: 0.5676608867216137.\n",
      "[I 2023-12-19 20:35:49,111] Trial 7 finished with value: 3.0094672638235522 and parameters: {'lambda': 0.014796070058036438, 'alpha': 0.03364613656532112, 'colsample_bytree': 0.8, 'colsample_bynode': 0.9, 'colsample_bylevel': 0.8, 'subsample': 0.8, 'learning_rate': 4.5459881677931896e-05, 'n_estimators': 2500, 'max_depth': 6}. Best is trial 4 with value: 0.5676608867216137.\n",
      "[I 2023-12-19 20:35:58,922] Trial 8 finished with value: 1.580662349781446 and parameters: {'lambda': 0.09707262869213028, 'alpha': 0.0024114713337109414, 'colsample_bytree': 0.4, 'colsample_bynode': 0.6, 'colsample_bylevel': 0.9, 'subsample': 0.8, 'learning_rate': 0.0005464045262860436, 'n_estimators': 1500, 'max_depth': 5}. Best is trial 4 with value: 0.5676608867216137.\n",
      "[I 2023-12-19 20:36:06,515] Trial 9 finished with value: 0.5613384677476708 and parameters: {'lambda': 6.628162664353376, 'alpha': 0.1571311655485805, 'colsample_bytree': 0.9, 'colsample_bynode': 0.4, 'colsample_bylevel': 0.9, 'subsample': 0.4, 'learning_rate': 0.004022111936709608, 'n_estimators': 2500, 'max_depth': 4}. Best is trial 9 with value: 0.5613384677476708.\n",
      "[I 2023-12-19 20:36:07,593] Trial 10 finished with value: 0.5530661690906659 and parameters: {'lambda': 0.001148371652453307, 'alpha': 0.06049637871898976, 'colsample_bytree': 0.8, 'colsample_bynode': 0.6, 'colsample_bylevel': 0.4, 'subsample': 0.4, 'learning_rate': 0.0271746885313327, 'n_estimators': 2000, 'max_depth': 3}. Best is trial 10 with value: 0.5530661690906659.\n",
      "[I 2023-12-19 20:36:08,837] Trial 11 finished with value: 0.5587331442392584 and parameters: {'lambda': 0.0011412518981330495, 'alpha': 0.04752130512987991, 'colsample_bytree': 0.8, 'colsample_bynode': 0.6, 'colsample_bylevel': 0.4, 'subsample': 0.4, 'learning_rate': 0.02412239839574766, 'n_estimators': 2000, 'max_depth': 3}. Best is trial 10 with value: 0.5530661690906659.\n",
      "[I 2023-12-19 20:36:09,815] Trial 12 finished with value: 0.5591748060274292 and parameters: {'lambda': 0.0010631117135191115, 'alpha': 0.023750970449052507, 'colsample_bytree': 0.8, 'colsample_bynode': 0.6, 'colsample_bylevel': 0.4, 'subsample': 0.7, 'learning_rate': 0.04623931229632966, 'n_estimators': 2000, 'max_depth': 3}. Best is trial 10 with value: 0.5530661690906659.\n",
      "[I 2023-12-19 20:36:10,784] Trial 13 finished with value: 0.5584036141924813 and parameters: {'lambda': 0.0012025657617538697, 'alpha': 0.004702384318872645, 'colsample_bytree': 0.8, 'colsample_bynode': 0.6, 'colsample_bylevel': 0.4, 'subsample': 0.9, 'learning_rate': 0.035957760490544506, 'n_estimators': 2000, 'max_depth': 3}. Best is trial 10 with value: 0.5530661690906659.\n",
      "[I 2023-12-19 20:36:11,819] Trial 14 finished with value: 0.5557362325815762 and parameters: {'lambda': 0.0031429271771475633, 'alpha': 0.0012830478573223458, 'colsample_bytree': 0.8, 'colsample_bynode': 0.6, 'colsample_bylevel': 0.4, 'subsample': 0.9, 'learning_rate': 0.04465748730961311, 'n_estimators': 2000, 'max_depth': 3}. Best is trial 10 with value: 0.5530661690906659.\n",
      "[I 2023-12-19 20:36:14,849] Trial 15 finished with value: 0.5597494501880299 and parameters: {'lambda': 0.005244513722037048, 'alpha': 0.0018414403931172351, 'colsample_bytree': 0.8, 'colsample_bynode': 0.6, 'colsample_bylevel': 0.4, 'subsample': 0.9, 'learning_rate': 0.01077102324342435, 'n_estimators': 3000, 'max_depth': 4}. Best is trial 10 with value: 0.5530661690906659.\n",
      "[I 2023-12-19 20:36:18,797] Trial 16 finished with value: 0.5651378576741183 and parameters: {'lambda': 0.003386425223222794, 'alpha': 0.0010052843704756046, 'colsample_bytree': 0.8, 'colsample_bynode': 0.6, 'colsample_bylevel': 0.4, 'subsample': 0.9, 'learning_rate': 0.011393757557350339, 'n_estimators': 2000, 'max_depth': 5}. Best is trial 10 with value: 0.5530661690906659.\n",
      "[I 2023-12-19 20:36:19,427] Trial 17 finished with value: 0.5643026878578717 and parameters: {'lambda': 0.003543132464236051, 'alpha': 0.007834084875279965, 'colsample_bytree': 0.8, 'colsample_bynode': 0.6, 'colsample_bylevel': 0.4, 'subsample': 0.7, 'learning_rate': 0.046110767297308876, 'n_estimators': 2000, 'max_depth': 3}. Best is trial 10 with value: 0.5530661690906659.\n",
      "[I 2023-12-19 20:36:44,133] Trial 18 finished with value: 0.5642169953281685 and parameters: {'lambda': 0.008753200220597427, 'alpha': 0.009411504975036528, 'colsample_bytree': 0.8, 'colsample_bynode': 0.6, 'colsample_bylevel': 0.4, 'subsample': 0.4, 'learning_rate': 0.0019492709668395092, 'n_estimators': 3000, 'max_depth': 6}. Best is trial 10 with value: 0.5530661690906659.\n",
      "[I 2023-12-19 20:36:46,926] Trial 19 finished with value: 0.5539511903640993 and parameters: {'lambda': 0.002560944904439854, 'alpha': 0.0034778236311801213, 'colsample_bytree': 0.4, 'colsample_bynode': 0.8, 'colsample_bylevel': 0.4, 'subsample': 0.9, 'learning_rate': 0.013415418600288056, 'n_estimators': 2000, 'max_depth': 4}. Best is trial 10 with value: 0.5530661690906659.\n",
      "[I 2023-12-19 20:36:49,651] Trial 20 finished with value: 0.5600515399931821 and parameters: {'lambda': 0.023980396864073723, 'alpha': 0.004723254914633384, 'colsample_bytree': 0.4, 'colsample_bynode': 0.8, 'colsample_bylevel': 0.4, 'subsample': 0.4, 'learning_rate': 0.011756854034335542, 'n_estimators': 2000, 'max_depth': 4}. Best is trial 10 with value: 0.5530661690906659.\n",
      "[I 2023-12-19 20:36:52,471] Trial 21 finished with value: 0.5589096335907734 and parameters: {'lambda': 0.00363948588380763, 'alpha': 0.001169231449364188, 'colsample_bytree': 0.4, 'colsample_bynode': 0.8, 'colsample_bylevel': 0.4, 'subsample': 0.9, 'learning_rate': 0.013288489055134071, 'n_estimators': 2000, 'max_depth': 3}. Best is trial 10 with value: 0.5530661690906659.\n",
      "[I 2023-12-19 20:36:58,152] Trial 22 finished with value: 0.5593793206877437 and parameters: {'lambda': 0.001850234003920262, 'alpha': 0.003299464890963101, 'colsample_bytree': 0.4, 'colsample_bynode': 0.8, 'colsample_bylevel': 0.4, 'subsample': 0.9, 'learning_rate': 0.0049778489545406705, 'n_estimators': 2000, 'max_depth': 4}. Best is trial 10 with value: 0.5530661690906659.\n",
      "[I 2023-12-19 20:36:59,419] Trial 23 finished with value: 0.5600504430356116 and parameters: {'lambda': 0.0023889629351719903, 'alpha': 0.011726116435040967, 'colsample_bytree': 0.4, 'colsample_bynode': 0.8, 'colsample_bylevel': 0.4, 'subsample': 0.9, 'learning_rate': 0.02470867904234134, 'n_estimators': 2000, 'max_depth': 3}. Best is trial 10 with value: 0.5530661690906659.\n",
      "[I 2023-12-19 20:37:02,461] Trial 24 finished with value: 0.5668745276513644 and parameters: {'lambda': 0.0059268592716330585, 'alpha': 0.002932490566226732, 'colsample_bytree': 0.8, 'colsample_bynode': 0.6, 'colsample_bylevel': 0.4, 'subsample': 0.9, 'learning_rate': 0.020537047838425256, 'n_estimators': 2000, 'max_depth': 5}. Best is trial 10 with value: 0.5530661690906659.\n",
      "[I 2023-12-19 20:37:14,658] Trial 25 finished with value: 0.5610853212621467 and parameters: {'lambda': 0.0020581526532738384, 'alpha': 0.05914126473871197, 'colsample_bytree': 0.8, 'colsample_bynode': 0.6, 'colsample_bylevel': 0.4, 'subsample': 0.9, 'learning_rate': 0.001794906586695908, 'n_estimators': 3000, 'max_depth': 4}. Best is trial 10 with value: 0.5530661690906659.\n",
      "[I 2023-12-19 20:37:15,479] Trial 26 finished with value: 0.5614860640100425 and parameters: {'lambda': 0.007843202963487282, 'alpha': 0.006645574583056463, 'colsample_bytree': 0.4, 'colsample_bynode': 0.8, 'colsample_bylevel': 0.4, 'subsample': 0.6, 'learning_rate': 0.04474984240673815, 'n_estimators': 1000, 'max_depth': 3}. Best is trial 10 with value: 0.5530661690906659.\n",
      "[I 2023-12-19 20:37:20,467] Trial 27 finished with value: 0.5591474043046117 and parameters: {'lambda': 0.0020077909180931885, 'alpha': 0.0017314799398613528, 'colsample_bytree': 0.6, 'colsample_bynode': 0.9, 'colsample_bylevel': 0.8, 'subsample': 0.8, 'learning_rate': 0.005579883133171286, 'n_estimators': 2000, 'max_depth': 4}. Best is trial 10 with value: 0.5530661690906659.\n",
      "[I 2023-12-19 20:37:24,010] Trial 28 finished with value: 0.5611836306785554 and parameters: {'lambda': 0.0010203101802223906, 'alpha': 0.01326710974868087, 'colsample_bytree': 0.8, 'colsample_bynode': 0.6, 'colsample_bylevel': 0.9, 'subsample': 0.7, 'learning_rate': 0.016048019624253826, 'n_estimators': 2000, 'max_depth': 5}. Best is trial 10 with value: 0.5530661690906659.\n",
      "[I 2023-12-19 20:37:30,002] Trial 29 finished with value: 0.682372720464297 and parameters: {'lambda': 0.005688529127462524, 'alpha': 0.021746686863135814, 'colsample_bytree': 0.9, 'colsample_bynode': 0.4, 'colsample_bylevel': 0.6, 'subsample': 0.4, 'learning_rate': 0.0011377346145916, 'n_estimators': 2000, 'max_depth': 3}. Best is trial 10 with value: 0.5530661690906659.\n",
      "[I 2023-12-19 20:38:01,954] Trial 30 finished with value: 0.5639369143971947 and parameters: {'lambda': 0.010049931120707813, 'alpha': 0.015686793166276684, 'colsample_bytree': 0.4, 'colsample_bynode': 0.8, 'colsample_bylevel': 0.4, 'subsample': 0.9, 'learning_rate': 0.0032797177058870855, 'n_estimators': 2000, 'max_depth': 7}. Best is trial 10 with value: 0.5530661690906659.\n",
      "[I 2023-12-19 20:38:02,824] Trial 31 finished with value: 0.5632186013847168 and parameters: {'lambda': 0.0018507486872138882, 'alpha': 0.004617055100730491, 'colsample_bytree': 0.8, 'colsample_bynode': 0.6, 'colsample_bylevel': 0.4, 'subsample': 0.9, 'learning_rate': 0.028542348024319267, 'n_estimators': 2000, 'max_depth': 3}. Best is trial 10 with value: 0.5530661690906659.\n",
      "[I 2023-12-19 20:38:06,102] Trial 32 finished with value: 0.5604324767171948 and parameters: {'lambda': 0.0010994724812440344, 'alpha': 0.004667462532427786, 'colsample_bytree': 0.8, 'colsample_bynode': 0.6, 'colsample_bylevel': 0.4, 'subsample': 0.9, 'learning_rate': 0.007675515664592212, 'n_estimators': 2000, 'max_depth': 3}. Best is trial 10 with value: 0.5530661690906659.\n",
      "[I 2023-12-19 20:38:08,002] Trial 33 finished with value: 0.55836470121628 and parameters: {'lambda': 0.003431847549499284, 'alpha': 0.0020395472683516426, 'colsample_bytree': 0.8, 'colsample_bynode': 0.6, 'colsample_bylevel': 0.4, 'subsample': 0.9, 'learning_rate': 0.026126243620701897, 'n_estimators': 1000, 'max_depth': 4}. Best is trial 10 with value: 0.5530661690906659.\n",
      "[I 2023-12-19 20:38:09,718] Trial 34 finished with value: 0.5612018301578572 and parameters: {'lambda': 0.003813030199603276, 'alpha': 0.0016525199242387282, 'colsample_bytree': 0.8, 'colsample_bynode': 0.6, 'colsample_bylevel': 0.6, 'subsample': 0.6, 'learning_rate': 0.019206808827305053, 'n_estimators': 1000, 'max_depth': 4}. Best is trial 10 with value: 0.5530661690906659.\n",
      "[I 2023-12-19 20:38:12,921] Trial 35 finished with value: 0.5622919747725976 and parameters: {'lambda': 0.003515882235685555, 'alpha': 0.0010455243632945138, 'colsample_bytree': 0.6, 'colsample_bynode': 0.9, 'colsample_bylevel': 0.4, 'subsample': 0.5, 'learning_rate': 0.008566743159481345, 'n_estimators': 1000, 'max_depth': 4}. Best is trial 10 with value: 0.5530661690906659.\n",
      "[I 2023-12-19 20:38:15,152] Trial 36 finished with value: 0.5692682540005197 and parameters: {'lambda': 0.02238155453706296, 'alpha': 0.002631141928194714, 'colsample_bytree': 0.9, 'colsample_bynode': 0.8, 'colsample_bylevel': 0.8, 'subsample': 0.9, 'learning_rate': 0.047764923352823396, 'n_estimators': 1000, 'max_depth': 6}. Best is trial 10 with value: 0.5530661690906659.\n",
      "[I 2023-12-19 20:38:18,021] Trial 37 finished with value: 0.5661039343166815 and parameters: {'lambda': 0.010460636773223194, 'alpha': 0.008401120009314077, 'colsample_bytree': 0.8, 'colsample_bynode': 0.6, 'colsample_bylevel': 0.6, 'subsample': 0.4, 'learning_rate': 0.01808068855499333, 'n_estimators': 1500, 'max_depth': 5}. Best is trial 10 with value: 0.5530661690906659.\n",
      "[I 2023-12-19 20:38:56,146] Trial 38 finished with value: 0.5634020328150663 and parameters: {'lambda': 0.0022919815261778094, 'alpha': 0.0017592680319224892, 'colsample_bytree': 0.6, 'colsample_bynode': 0.4, 'colsample_bylevel': 0.4, 'subsample': 0.5, 'learning_rate': 0.006604596344525073, 'n_estimators': 1000, 'max_depth': 9}. Best is trial 10 with value: 0.5530661690906659.\n",
      "[I 2023-12-19 20:38:57,406] Trial 39 finished with value: 0.5648860729729035 and parameters: {'lambda': 0.40560226522476395, 'alpha': 0.06840515433748334, 'colsample_bytree': 0.8, 'colsample_bynode': 0.9, 'colsample_bylevel': 0.9, 'subsample': 0.6, 'learning_rate': 0.029462603010648163, 'n_estimators': 1000, 'max_depth': 4}. Best is trial 10 with value: 0.5530661690906659.\n",
      "[I 2023-12-19 20:39:19,624] Trial 40 finished with value: 0.5655537146102226 and parameters: {'lambda': 0.01861950807645075, 'alpha': 0.12481427610879164, 'colsample_bytree': 0.9, 'colsample_bynode': 0.6, 'colsample_bylevel': 0.8, 'subsample': 0.8, 'learning_rate': 0.002852670247930087, 'n_estimators': 2500, 'max_depth': 6}. Best is trial 10 with value: 0.5530661690906659.\n",
      "[I 2023-12-19 20:39:20,753] Trial 41 finished with value: 0.5618680083827797 and parameters: {'lambda': 0.0013845026812942518, 'alpha': 0.0038536640805549426, 'colsample_bytree': 0.8, 'colsample_bynode': 0.6, 'colsample_bylevel': 0.4, 'subsample': 0.9, 'learning_rate': 0.030879002519819135, 'n_estimators': 1500, 'max_depth': 3}. Best is trial 10 with value: 0.5530661690906659.\n",
      "[I 2023-12-19 20:39:22,406] Trial 42 finished with value: 0.5580294448795151 and parameters: {'lambda': 0.0014888578279054375, 'alpha': 0.006396265030611479, 'colsample_bytree': 0.8, 'colsample_bynode': 0.6, 'colsample_bylevel': 0.4, 'subsample': 0.9, 'learning_rate': 0.01664172140726634, 'n_estimators': 2000, 'max_depth': 3}. Best is trial 10 with value: 0.5530661690906659.\n",
      "[I 2023-12-19 20:39:24,956] Trial 43 finished with value: 0.5580619900857641 and parameters: {'lambda': 0.0026128955732211477, 'alpha': 0.0063287378792302226, 'colsample_bytree': 0.8, 'colsample_bynode': 0.6, 'colsample_bylevel': 0.4, 'subsample': 0.9, 'learning_rate': 0.015450569488032065, 'n_estimators': 2000, 'max_depth': 4}. Best is trial 10 with value: 0.5530661690906659.\n",
      "[I 2023-12-19 20:39:29,346] Trial 44 finished with value: 0.5593514171303294 and parameters: {'lambda': 0.0017158281191213274, 'alpha': 0.033165667376745464, 'colsample_bytree': 0.8, 'colsample_bynode': 0.6, 'colsample_bylevel': 0.4, 'subsample': 0.9, 'learning_rate': 0.007680735562098959, 'n_estimators': 2000, 'max_depth': 3}. Best is trial 10 with value: 0.5530661690906659.\n",
      "[I 2023-12-19 20:39:31,079] Trial 45 finished with value: 0.5574908097152373 and parameters: {'lambda': 0.002575957055905041, 'alpha': 0.006221710019326008, 'colsample_bytree': 0.8, 'colsample_bynode': 0.6, 'colsample_bylevel': 0.4, 'subsample': 0.9, 'learning_rate': 0.016673386394943736, 'n_estimators': 2000, 'max_depth': 3}. Best is trial 10 with value: 0.5530661690906659.\n",
      "[I 2023-12-19 20:39:35,870] Trial 46 finished with value: 0.5692517236257857 and parameters: {'lambda': 0.006218232749713123, 'alpha': 0.0030122285969090418, 'colsample_bytree': 0.4, 'colsample_bynode': 0.4, 'colsample_bylevel': 0.4, 'subsample': 0.4, 'learning_rate': 0.004639899961598682, 'n_estimators': 2000, 'max_depth': 3}. Best is trial 10 with value: 0.5530661690906659.\n",
      "[I 2023-12-19 20:39:37,778] Trial 47 finished with value: 0.5575889327333862 and parameters: {'lambda': 0.0014759103094133445, 'alpha': 0.01659559541011681, 'colsample_bytree': 0.8, 'colsample_bynode': 0.6, 'colsample_bylevel': 0.9, 'subsample': 0.7, 'learning_rate': 0.011964435413587084, 'n_estimators': 2500, 'max_depth': 3}. Best is trial 10 with value: 0.5530661690906659.\n",
      "[I 2023-12-19 20:39:40,486] Trial 48 finished with value: 0.559984593451716 and parameters: {'lambda': 0.01320745466886138, 'alpha': 0.01703169572797443, 'colsample_bytree': 0.6, 'colsample_bynode': 0.8, 'colsample_bylevel': 0.9, 'subsample': 0.7, 'learning_rate': 0.009344897736108063, 'n_estimators': 2500, 'max_depth': 3}. Best is trial 10 with value: 0.5530661690906659.\n",
      "[I 2023-12-19 20:39:48,660] Trial 49 finished with value: 2.378634921552222 and parameters: {'lambda': 0.0044972870763651035, 'alpha': 0.03050149676663008, 'colsample_bytree': 0.8, 'colsample_bynode': 0.6, 'colsample_bylevel': 0.9, 'subsample': 0.7, 'learning_rate': 0.00014621915980826734, 'n_estimators': 2500, 'max_depth': 3}. Best is trial 10 with value: 0.5530661690906659.\n",
      "[I 2023-12-19 20:39:51,480] Trial 50 finished with value: 0.558465914370766 and parameters: {'lambda': 0.0010174628998106058, 'alpha': 0.009497050455222778, 'colsample_bytree': 0.4, 'colsample_bynode': 0.9, 'colsample_bylevel': 0.9, 'subsample': 0.7, 'learning_rate': 0.010940675104940973, 'n_estimators': 2500, 'max_depth': 3}. Best is trial 10 with value: 0.5530661690906659.\n",
      "[I 2023-12-19 20:39:53,452] Trial 51 finished with value: 0.5582066089804584 and parameters: {'lambda': 0.001540208771874943, 'alpha': 0.006093853675052823, 'colsample_bytree': 0.8, 'colsample_bynode': 0.6, 'colsample_bylevel': 0.9, 'subsample': 0.7, 'learning_rate': 0.01678032267871502, 'n_estimators': 2500, 'max_depth': 3}. Best is trial 10 with value: 0.5530661690906659.\n",
      "[I 2023-12-19 20:39:59,995] Trial 52 finished with value: 0.5660433828669011 and parameters: {'lambda': 0.0029885187273877077, 'alpha': 0.021921903224598135, 'colsample_bytree': 0.8, 'colsample_bynode': 0.6, 'colsample_bylevel': 0.4, 'subsample': 0.9, 'learning_rate': 0.03364737210944736, 'n_estimators': 3000, 'max_depth': 8}. Best is trial 10 with value: 0.5530661690906659.\n",
      "[I 2023-12-19 20:40:01,831] Trial 53 finished with value: 0.5620311075310185 and parameters: {'lambda': 0.001583416458291124, 'alpha': 0.011481040597011678, 'colsample_bytree': 0.8, 'colsample_bynode': 0.6, 'colsample_bylevel': 0.6, 'subsample': 0.5, 'learning_rate': 0.01920088628816576, 'n_estimators': 2000, 'max_depth': 4}. Best is trial 10 with value: 0.5530661690906659.\n",
      "[I 2023-12-19 20:40:04,410] Trial 54 finished with value: 0.5606550719107645 and parameters: {'lambda': 0.002323432068035253, 'alpha': 0.0035523955366243932, 'colsample_bytree': 0.8, 'colsample_bynode': 0.6, 'colsample_bylevel': 0.9, 'subsample': 0.4, 'learning_rate': 0.011577188256451132, 'n_estimators': 2000, 'max_depth': 3}. Best is trial 10 with value: 0.5530661690906659.\n",
      "[I 2023-12-19 20:40:05,049] Trial 55 finished with value: 0.5590870776835681 and parameters: {'lambda': 0.0014247856041385723, 'alpha': 0.005397962592787223, 'colsample_bytree': 0.8, 'colsample_bynode': 0.6, 'colsample_bylevel': 0.4, 'subsample': 0.8, 'learning_rate': 0.04854779492197207, 'n_estimators': 2000, 'max_depth': 3}. Best is trial 10 with value: 0.5530661690906659.\n",
      "[I 2023-12-19 20:40:10,900] Trial 56 finished with value: 0.5592278619430924 and parameters: {'lambda': 0.004822222848390764, 'alpha': 0.008852367853278267, 'colsample_bytree': 0.8, 'colsample_bynode': 0.6, 'colsample_bylevel': 0.4, 'subsample': 0.9, 'learning_rate': 0.004802854070523625, 'n_estimators': 1500, 'max_depth': 4}. Best is trial 10 with value: 0.5530661690906659.\n",
      "[I 2023-12-19 20:40:12,091] Trial 57 finished with value: 0.5606463102603115 and parameters: {'lambda': 0.00720166470325594, 'alpha': 0.043122861101967905, 'colsample_bytree': 0.9, 'colsample_bynode': 0.8, 'colsample_bylevel': 0.8, 'subsample': 0.9, 'learning_rate': 0.025554721783230518, 'n_estimators': 2000, 'max_depth': 3}. Best is trial 10 with value: 0.5530661690906659.\n",
      "[I 2023-12-19 20:40:14,833] Trial 58 finished with value: 0.5583987069437798 and parameters: {'lambda': 0.0026900820656119927, 'alpha': 0.002375600602946718, 'colsample_bytree': 0.4, 'colsample_bynode': 0.6, 'colsample_bylevel': 0.4, 'subsample': 0.7, 'learning_rate': 0.01343143096411103, 'n_estimators': 2000, 'max_depth': 4}. Best is trial 10 with value: 0.5530661690906659.\n",
      "[I 2023-12-19 20:40:15,914] Trial 59 finished with value: 0.5590895800442999 and parameters: {'lambda': 0.0014052648097912204, 'alpha': 0.001271879403523878, 'colsample_bytree': 0.8, 'colsample_bynode': 0.4, 'colsample_bylevel': 0.4, 'subsample': 0.4, 'learning_rate': 0.037701518974357945, 'n_estimators': 2500, 'max_depth': 3}. Best is trial 10 with value: 0.5530661690906659.\n",
      "[I 2023-12-19 20:40:21,532] Trial 60 finished with value: 0.5608669210688242 and parameters: {'lambda': 0.0044928793382483035, 'alpha': 0.016620394748440924, 'colsample_bytree': 0.8, 'colsample_bynode': 0.6, 'colsample_bylevel': 0.9, 'subsample': 0.9, 'learning_rate': 0.0068493378745169255, 'n_estimators': 3000, 'max_depth': 5}. Best is trial 10 with value: 0.5530661690906659.\n",
      "[I 2023-12-19 20:40:23,975] Trial 61 finished with value: 0.5588812662034279 and parameters: {'lambda': 0.0027302375741056397, 'alpha': 0.006790201895903882, 'colsample_bytree': 0.8, 'colsample_bynode': 0.6, 'colsample_bylevel': 0.4, 'subsample': 0.9, 'learning_rate': 0.01478441713945491, 'n_estimators': 2000, 'max_depth': 4}. Best is trial 10 with value: 0.5530661690906659.\n",
      "[I 2023-12-19 20:40:25,586] Trial 62 finished with value: 0.5595893850051068 and parameters: {'lambda': 0.0027232873824503245, 'alpha': 0.007178811163693702, 'colsample_bytree': 0.8, 'colsample_bynode': 0.6, 'colsample_bylevel': 0.4, 'subsample': 0.9, 'learning_rate': 0.01975225606779368, 'n_estimators': 2000, 'max_depth': 4}. Best is trial 10 with value: 0.5530661690906659.\n",
      "[I 2023-12-19 20:40:27,432] Trial 63 finished with value: 0.5584674628420029 and parameters: {'lambda': 0.00209428035803274, 'alpha': 0.0034437373851108994, 'colsample_bytree': 0.8, 'colsample_bynode': 0.6, 'colsample_bylevel': 0.4, 'subsample': 0.9, 'learning_rate': 0.012700874380499622, 'n_estimators': 2000, 'max_depth': 3}. Best is trial 10 with value: 0.5530661690906659.\n",
      "[I 2023-12-19 20:40:32,075] Trial 64 finished with value: 0.5734554508342179 and parameters: {'lambda': 0.0013237742325139382, 'alpha': 0.010763694484501006, 'colsample_bytree': 0.8, 'colsample_bynode': 0.6, 'colsample_bylevel': 0.4, 'subsample': 0.9, 'learning_rate': 0.035311978292024815, 'n_estimators': 2000, 'max_depth': 7}. Best is trial 10 with value: 0.5530661690906659.\n",
      "[I 2023-12-19 20:40:33,923] Trial 65 finished with value: 0.5609585295088053 and parameters: {'lambda': 0.004701067477322199, 'alpha': 0.005335920718882512, 'colsample_bytree': 0.4, 'colsample_bynode': 0.8, 'colsample_bylevel': 0.4, 'subsample': 0.9, 'learning_rate': 0.0230515270629787, 'n_estimators': 2000, 'max_depth': 4}. Best is trial 10 with value: 0.5530661690906659.\n",
      "[I 2023-12-19 20:40:38,612] Trial 66 finished with value: 0.5581999770757875 and parameters: {'lambda': 0.0017687528081553054, 'alpha': 0.0023064252726721565, 'colsample_bytree': 0.8, 'colsample_bynode': 0.6, 'colsample_bylevel': 0.4, 'subsample': 0.6, 'learning_rate': 0.00962851116183041, 'n_estimators': 2000, 'max_depth': 5}. Best is trial 10 with value: 0.5530661690906659.\n",
      "[I 2023-12-19 20:40:44,555] Trial 67 finished with value: 0.560090370840691 and parameters: {'lambda': 0.0010240715201623536, 'alpha': 0.013463467502663359, 'colsample_bytree': 0.8, 'colsample_bynode': 0.6, 'colsample_bylevel': 0.4, 'subsample': 0.9, 'learning_rate': 0.003295661860616259, 'n_estimators': 2000, 'max_depth': 3}. Best is trial 10 with value: 0.5530661690906659.\n",
      "[I 2023-12-19 20:40:46,263] Trial 68 finished with value: 0.5635237358462033 and parameters: {'lambda': 0.003165059969574966, 'alpha': 0.004198214251243487, 'colsample_bytree': 0.8, 'colsample_bynode': 0.8, 'colsample_bylevel': 0.4, 'subsample': 0.4, 'learning_rate': 0.014497642661561894, 'n_estimators': 2000, 'max_depth': 3}. Best is trial 10 with value: 0.5530661690906659.\n",
      "[I 2023-12-19 20:40:51,351] Trial 69 finished with value: 0.5585941622904179 and parameters: {'lambda': 0.0026044426678521002, 'alpha': 0.0013418966386965943, 'colsample_bytree': 0.6, 'colsample_bynode': 0.6, 'colsample_bylevel': 0.6, 'subsample': 0.7, 'learning_rate': 0.005406186885500104, 'n_estimators': 2000, 'max_depth': 4}. Best is trial 10 with value: 0.5530661690906659.\n",
      "[I 2023-12-19 20:40:52,637] Trial 70 finished with value: 0.5581793449909122 and parameters: {'lambda': 0.007145411289204589, 'alpha': 0.006362911232540137, 'colsample_bytree': 0.4, 'colsample_bynode': 0.9, 'colsample_bylevel': 0.4, 'subsample': 0.9, 'learning_rate': 0.02263876050207429, 'n_estimators': 2500, 'max_depth': 3}. Best is trial 10 with value: 0.5530661690906659.\n",
      "[I 2023-12-19 20:40:53,909] Trial 71 finished with value: 0.5569790614421078 and parameters: {'lambda': 0.00187346273844, 'alpha': 0.006125614907617684, 'colsample_bytree': 0.4, 'colsample_bynode': 0.9, 'colsample_bylevel': 0.4, 'subsample': 0.9, 'learning_rate': 0.026931881010744885, 'n_estimators': 2500, 'max_depth': 3}. Best is trial 10 with value: 0.5530661690906659.\n",
      "[I 2023-12-19 20:40:55,476] Trial 72 finished with value: 0.5559516090462879 and parameters: {'lambda': 0.0020320243577100798, 'alpha': 0.0030386568734620065, 'colsample_bytree': 0.4, 'colsample_bynode': 0.9, 'colsample_bylevel': 0.4, 'subsample': 0.9, 'learning_rate': 0.034398442030632706, 'n_estimators': 2500, 'max_depth': 3}. Best is trial 10 with value: 0.5530661690906659.\n",
      "[I 2023-12-19 20:40:56,851] Trial 73 finished with value: 0.556381905362919 and parameters: {'lambda': 0.002041605834468268, 'alpha': 0.0029449523737682167, 'colsample_bytree': 0.4, 'colsample_bynode': 0.9, 'colsample_bylevel': 0.4, 'subsample': 0.9, 'learning_rate': 0.03794272738680273, 'n_estimators': 2500, 'max_depth': 3}. Best is trial 10 with value: 0.5530661690906659.\n",
      "[I 2023-12-19 20:40:57,702] Trial 74 finished with value: 0.561377353696205 and parameters: {'lambda': 0.002127029045434236, 'alpha': 0.002731658354546133, 'colsample_bytree': 0.4, 'colsample_bynode': 0.9, 'colsample_bylevel': 0.4, 'subsample': 0.9, 'learning_rate': 0.04961007138914155, 'n_estimators': 2500, 'max_depth': 3}. Best is trial 10 with value: 0.5530661690906659.\n",
      "[I 2023-12-19 20:40:58,770] Trial 75 finished with value: 0.5601948386933898 and parameters: {'lambda': 0.00410574261327645, 'alpha': 0.0020033554637968586, 'colsample_bytree': 0.4, 'colsample_bynode': 0.9, 'colsample_bylevel': 0.8, 'subsample': 0.8, 'learning_rate': 0.03428536667325627, 'n_estimators': 2500, 'max_depth': 3}. Best is trial 10 with value: 0.5530661690906659.\n",
      "[I 2023-12-19 20:41:00,165] Trial 76 finished with value: 0.5569775359348891 and parameters: {'lambda': 0.0012278454469145685, 'alpha': 0.004081455857069549, 'colsample_bytree': 0.4, 'colsample_bynode': 0.9, 'colsample_bylevel': 0.4, 'subsample': 0.5, 'learning_rate': 0.02739341261845307, 'n_estimators': 2500, 'max_depth': 3}. Best is trial 10 with value: 0.5530661690906659.\n",
      "[I 2023-12-19 20:41:01,295] Trial 77 finished with value: 0.5657824491525214 and parameters: {'lambda': 0.0018921807874205199, 'alpha': 0.0014725804046243009, 'colsample_bytree': 0.4, 'colsample_bynode': 0.9, 'colsample_bylevel': 0.4, 'subsample': 0.5, 'learning_rate': 0.03671728009396169, 'n_estimators': 2500, 'max_depth': 3}. Best is trial 10 with value: 0.5530661690906659.\n",
      "[I 2023-12-19 20:41:08,191] Trial 78 finished with value: 0.5769793948191219 and parameters: {'lambda': 0.0012472598418287665, 'alpha': 0.0010081811680025538, 'colsample_bytree': 0.4, 'colsample_bynode': 0.9, 'colsample_bylevel': 0.4, 'subsample': 0.5, 'learning_rate': 0.025496310649856378, 'n_estimators': 2500, 'max_depth': 8}. Best is trial 10 with value: 0.5530661690906659.\n",
      "[I 2023-12-19 20:41:08,785] Trial 79 finished with value: 0.564805588874912 and parameters: {'lambda': 0.0034064484978748298, 'alpha': 0.003973484521474917, 'colsample_bytree': 0.4, 'colsample_bynode': 0.9, 'colsample_bylevel': 0.4, 'subsample': 0.5, 'learning_rate': 0.04995588358557489, 'n_estimators': 2500, 'max_depth': 3}. Best is trial 10 with value: 0.5530661690906659.\n",
      "[I 2023-12-19 20:41:09,699] Trial 80 finished with value: 0.5583862291599442 and parameters: {'lambda': 0.005394134265706584, 'alpha': 0.003043656576173907, 'colsample_bytree': 0.4, 'colsample_bynode': 0.9, 'colsample_bylevel': 0.4, 'subsample': 0.9, 'learning_rate': 0.028835512050142603, 'n_estimators': 2500, 'max_depth': 3}. Best is trial 10 with value: 0.5530661690906659.\n",
      "[I 2023-12-19 20:41:11,796] Trial 81 finished with value: 0.5553066622634923 and parameters: {'lambda': 0.001007062384387267, 'alpha': 0.0019548584753522917, 'colsample_bytree': 0.4, 'colsample_bynode': 0.9, 'colsample_bylevel': 0.4, 'subsample': 0.5, 'learning_rate': 0.021191934895853807, 'n_estimators': 2500, 'max_depth': 3}. Best is trial 10 with value: 0.5530661690906659.\n",
      "[I 2023-12-19 20:41:13,420] Trial 82 finished with value: 0.5593465535229243 and parameters: {'lambda': 0.00114613351918959, 'alpha': 0.0016413961726008776, 'colsample_bytree': 0.4, 'colsample_bynode': 0.9, 'colsample_bylevel': 0.4, 'subsample': 0.5, 'learning_rate': 0.02059338225782926, 'n_estimators': 2500, 'max_depth': 3}. Best is trial 10 with value: 0.5530661690906659.\n",
      "[I 2023-12-19 20:41:14,407] Trial 83 finished with value: 0.563864625457117 and parameters: {'lambda': 0.0019045554386309213, 'alpha': 0.0022646066638355787, 'colsample_bytree': 0.4, 'colsample_bynode': 0.9, 'colsample_bylevel': 0.4, 'subsample': 0.5, 'learning_rate': 0.03936560847536245, 'n_estimators': 2500, 'max_depth': 3}. Best is trial 10 with value: 0.5530661690906659.\n",
      "[I 2023-12-19 20:41:15,580] Trial 84 finished with value: 0.5618146925021565 and parameters: {'lambda': 0.0010147803797588124, 'alpha': 0.0018397616400270692, 'colsample_bytree': 0.4, 'colsample_bynode': 0.9, 'colsample_bylevel': 0.4, 'subsample': 0.5, 'learning_rate': 0.026489343284037875, 'n_estimators': 2500, 'max_depth': 3}. Best is trial 10 with value: 0.5530661690906659.\n",
      "[I 2023-12-19 20:41:16,884] Trial 85 finished with value: 0.5615431781899701 and parameters: {'lambda': 0.0021988579414615097, 'alpha': 0.004187556014118914, 'colsample_bytree': 0.4, 'colsample_bynode': 0.9, 'colsample_bylevel': 0.4, 'subsample': 0.5, 'learning_rate': 0.03623380821943148, 'n_estimators': 2500, 'max_depth': 4}. Best is trial 10 with value: 0.5530661690906659.\n",
      "[I 2023-12-19 20:41:19,604] Trial 86 finished with value: 0.5612080747830018 and parameters: {'lambda': 0.001642179415970692, 'alpha': 0.002965691349928681, 'colsample_bytree': 0.4, 'colsample_bynode': 0.9, 'colsample_bylevel': 0.4, 'subsample': 0.9, 'learning_rate': 0.009187818498654477, 'n_estimators': 2500, 'max_depth': 3}. Best is trial 10 with value: 0.5530661690906659.\n",
      "[I 2023-12-19 20:41:21,359] Trial 87 finished with value: 0.5562537993792254 and parameters: {'lambda': 0.003711154920021787, 'alpha': 0.001327721623782183, 'colsample_bytree': 0.4, 'colsample_bynode': 0.9, 'colsample_bylevel': 0.4, 'subsample': 0.4, 'learning_rate': 0.018415644754007268, 'n_estimators': 1500, 'max_depth': 3}. Best is trial 10 with value: 0.5530661690906659.\n",
      "[I 2023-12-19 20:41:22,861] Trial 88 finished with value: 0.556482999267525 and parameters: {'lambda': 0.0037447131763788614, 'alpha': 0.001557671804900832, 'colsample_bytree': 0.4, 'colsample_bynode': 0.9, 'colsample_bylevel': 0.4, 'subsample': 0.4, 'learning_rate': 0.029317153212457814, 'n_estimators': 1500, 'max_depth': 3}. Best is trial 10 with value: 0.5530661690906659.\n",
      "[I 2023-12-19 20:41:24,236] Trial 89 finished with value: 0.5588722020999776 and parameters: {'lambda': 0.0039004265889403655, 'alpha': 0.0012313532752415948, 'colsample_bytree': 0.4, 'colsample_bynode': 0.9, 'colsample_bylevel': 0.4, 'subsample': 0.4, 'learning_rate': 0.021163691264088198, 'n_estimators': 1500, 'max_depth': 3}. Best is trial 10 with value: 0.5530661690906659.\n",
      "[I 2023-12-19 20:41:25,154] Trial 90 finished with value: 0.5706553215836159 and parameters: {'lambda': 0.0034527499913620265, 'alpha': 0.001452593711233892, 'colsample_bytree': 0.4, 'colsample_bynode': 0.9, 'colsample_bylevel': 0.6, 'subsample': 0.4, 'learning_rate': 0.0403841921744916, 'n_estimators': 1500, 'max_depth': 4}. Best is trial 10 with value: 0.5530661690906659.\n",
      "[I 2023-12-19 20:41:26,371] Trial 91 finished with value: 0.5581636143586115 and parameters: {'lambda': 0.001210356484790317, 'alpha': 0.0021161631497200735, 'colsample_bytree': 0.4, 'colsample_bynode': 0.9, 'colsample_bylevel': 0.4, 'subsample': 0.4, 'learning_rate': 0.028529691143854594, 'n_estimators': 1500, 'max_depth': 3}. Best is trial 10 with value: 0.5530661690906659.\n",
      "[I 2023-12-19 20:41:27,405] Trial 92 finished with value: 0.5593606742259954 and parameters: {'lambda': 0.0017228792833681673, 'alpha': 0.002539464686042887, 'colsample_bytree': 0.4, 'colsample_bynode': 0.9, 'colsample_bylevel': 0.4, 'subsample': 0.4, 'learning_rate': 0.029866993787851345, 'n_estimators': 1500, 'max_depth': 3}. Best is trial 10 with value: 0.5530661690906659.\n",
      "[I 2023-12-19 20:41:28,936] Trial 93 finished with value: 0.5578239916089043 and parameters: {'lambda': 0.0013157134544800415, 'alpha': 0.0017587717507416023, 'colsample_bytree': 0.4, 'colsample_bynode': 0.9, 'colsample_bylevel': 0.4, 'subsample': 0.4, 'learning_rate': 0.0171265092566648, 'n_estimators': 1500, 'max_depth': 3}. Best is trial 10 with value: 0.5530661690906659.\n",
      "[I 2023-12-19 20:41:30,502] Trial 94 finished with value: 0.5571072007327413 and parameters: {'lambda': 0.002985305657280048, 'alpha': 0.0010782093639162536, 'colsample_bytree': 0.4, 'colsample_bynode': 0.9, 'colsample_bylevel': 0.4, 'subsample': 0.4, 'learning_rate': 0.021918107051624548, 'n_estimators': 1500, 'max_depth': 3}. Best is trial 10 with value: 0.5530661690906659.\n",
      "[I 2023-12-19 20:41:32,736] Trial 95 finished with value: 0.5570669567189724 and parameters: {'lambda': 0.002081528550375635, 'alpha': 0.0014650827620742816, 'colsample_bytree': 0.4, 'colsample_bynode': 0.9, 'colsample_bylevel': 0.4, 'subsample': 0.6, 'learning_rate': 0.012963109956564276, 'n_estimators': 1500, 'max_depth': 3}. Best is trial 10 with value: 0.5530661690906659.\n",
      "[I 2023-12-19 20:41:33,824] Trial 96 finished with value: 0.5573574365115528 and parameters: {'lambda': 0.0015895705823976195, 'alpha': 0.0033062770431305263, 'colsample_bytree': 0.4, 'colsample_bynode': 0.9, 'colsample_bylevel': 0.4, 'subsample': 0.4, 'learning_rate': 0.039005574760400404, 'n_estimators': 2500, 'max_depth': 3}. Best is trial 10 with value: 0.5530661690906659.\n",
      "[I 2023-12-19 20:41:35,430] Trial 97 finished with value: 0.5579096842760187 and parameters: {'lambda': 0.005990304783744907, 'alpha': 0.002004740910967584, 'colsample_bytree': 0.4, 'colsample_bynode': 0.9, 'colsample_bylevel': 0.8, 'subsample': 0.5, 'learning_rate': 0.02989632776371742, 'n_estimators': 3000, 'max_depth': 4}. Best is trial 10 with value: 0.5530661690906659.\n",
      "[I 2023-12-19 20:41:38,349] Trial 98 finished with value: 0.5573650724562328 and parameters: {'lambda': 0.003918052990992462, 'alpha': 0.004800434149424206, 'colsample_bytree': 0.9, 'colsample_bynode': 0.9, 'colsample_bylevel': 0.4, 'subsample': 0.4, 'learning_rate': 0.009883515763671054, 'n_estimators': 2500, 'max_depth': 3}. Best is trial 10 with value: 0.5530661690906659.\n",
      "[I 2023-12-19 20:41:40,278] Trial 99 finished with value: 0.5647094361106697 and parameters: {'lambda': 0.0023606418027203075, 'alpha': 0.0012207695221370842, 'colsample_bytree': 0.4, 'colsample_bynode': 0.4, 'colsample_bylevel': 0.4, 'subsample': 0.4, 'learning_rate': 0.017011534132006085, 'n_estimators': 1500, 'max_depth': 3}. Best is trial 10 with value: 0.5530661690906659.\n"
     ]
    },
    {
     "name": "stdout",
     "output_type": "stream",
     "text": [
      "Number of finished trials: 100\n",
      "Best trial: {'lambda': 0.001148371652453307, 'alpha': 0.06049637871898976, 'colsample_bytree': 0.8, 'colsample_bynode': 0.6, 'colsample_bylevel': 0.4, 'subsample': 0.4, 'learning_rate': 0.0271746885313327, 'n_estimators': 2000, 'max_depth': 3}\n"
     ]
    }
   ],
   "source": [
    "study = optuna.create_study(direction='minimize')\n",
    "study.optimize(objective, n_trials=100)\n",
    "print('Number of finished trials:', len(study.trials))\n",
    "print('Best trial:', study.best_trial.params)"
   ]
  },
  {
   "cell_type": "code",
   "execution_count": 9,
   "metadata": {},
   "outputs": [
    {
     "data": {
      "text/html": [
       "<div>\n",
       "<style scoped>\n",
       "    .dataframe tbody tr th:only-of-type {\n",
       "        vertical-align: middle;\n",
       "    }\n",
       "\n",
       "    .dataframe tbody tr th {\n",
       "        vertical-align: top;\n",
       "    }\n",
       "\n",
       "    .dataframe thead th {\n",
       "        text-align: right;\n",
       "    }\n",
       "</style>\n",
       "<table border=\"1\" class=\"dataframe\">\n",
       "  <thead>\n",
       "    <tr style=\"text-align: right;\">\n",
       "      <th></th>\n",
       "      <th>number</th>\n",
       "      <th>value</th>\n",
       "      <th>datetime_start</th>\n",
       "      <th>datetime_complete</th>\n",
       "      <th>duration</th>\n",
       "      <th>params_alpha</th>\n",
       "      <th>params_colsample_bylevel</th>\n",
       "      <th>params_colsample_bynode</th>\n",
       "      <th>params_colsample_bytree</th>\n",
       "      <th>params_lambda</th>\n",
       "      <th>params_learning_rate</th>\n",
       "      <th>params_max_depth</th>\n",
       "      <th>params_n_estimators</th>\n",
       "      <th>params_subsample</th>\n",
       "      <th>state</th>\n",
       "    </tr>\n",
       "  </thead>\n",
       "  <tbody>\n",
       "    <tr>\n",
       "      <th>10</th>\n",
       "      <td>10</td>\n",
       "      <td>0.553066</td>\n",
       "      <td>2023-12-19 20:36:06.515719</td>\n",
       "      <td>2023-12-19 20:36:07.593584</td>\n",
       "      <td>0 days 00:00:01.077865</td>\n",
       "      <td>0.060496</td>\n",
       "      <td>0.4</td>\n",
       "      <td>0.6</td>\n",
       "      <td>0.8</td>\n",
       "      <td>0.001148</td>\n",
       "      <td>0.027175</td>\n",
       "      <td>3</td>\n",
       "      <td>2000</td>\n",
       "      <td>0.4</td>\n",
       "      <td>COMPLETE</td>\n",
       "    </tr>\n",
       "    <tr>\n",
       "      <th>19</th>\n",
       "      <td>19</td>\n",
       "      <td>0.553951</td>\n",
       "      <td>2023-12-19 20:36:44.134402</td>\n",
       "      <td>2023-12-19 20:36:46.926064</td>\n",
       "      <td>0 days 00:00:02.791662</td>\n",
       "      <td>0.003478</td>\n",
       "      <td>0.4</td>\n",
       "      <td>0.8</td>\n",
       "      <td>0.4</td>\n",
       "      <td>0.002561</td>\n",
       "      <td>0.013415</td>\n",
       "      <td>4</td>\n",
       "      <td>2000</td>\n",
       "      <td>0.9</td>\n",
       "      <td>COMPLETE</td>\n",
       "    </tr>\n",
       "    <tr>\n",
       "      <th>81</th>\n",
       "      <td>81</td>\n",
       "      <td>0.555307</td>\n",
       "      <td>2023-12-19 20:41:09.700766</td>\n",
       "      <td>2023-12-19 20:41:11.796846</td>\n",
       "      <td>0 days 00:00:02.096080</td>\n",
       "      <td>0.001955</td>\n",
       "      <td>0.4</td>\n",
       "      <td>0.9</td>\n",
       "      <td>0.4</td>\n",
       "      <td>0.001007</td>\n",
       "      <td>0.021192</td>\n",
       "      <td>3</td>\n",
       "      <td>2500</td>\n",
       "      <td>0.5</td>\n",
       "      <td>COMPLETE</td>\n",
       "    </tr>\n",
       "    <tr>\n",
       "      <th>14</th>\n",
       "      <td>14</td>\n",
       "      <td>0.555736</td>\n",
       "      <td>2023-12-19 20:36:10.784846</td>\n",
       "      <td>2023-12-19 20:36:11.819192</td>\n",
       "      <td>0 days 00:00:01.034346</td>\n",
       "      <td>0.001283</td>\n",
       "      <td>0.4</td>\n",
       "      <td>0.6</td>\n",
       "      <td>0.8</td>\n",
       "      <td>0.003143</td>\n",
       "      <td>0.044657</td>\n",
       "      <td>3</td>\n",
       "      <td>2000</td>\n",
       "      <td>0.9</td>\n",
       "      <td>COMPLETE</td>\n",
       "    </tr>\n",
       "    <tr>\n",
       "      <th>72</th>\n",
       "      <td>72</td>\n",
       "      <td>0.555952</td>\n",
       "      <td>2023-12-19 20:40:53.910190</td>\n",
       "      <td>2023-12-19 20:40:55.475452</td>\n",
       "      <td>0 days 00:00:01.565262</td>\n",
       "      <td>0.003039</td>\n",
       "      <td>0.4</td>\n",
       "      <td>0.9</td>\n",
       "      <td>0.4</td>\n",
       "      <td>0.002032</td>\n",
       "      <td>0.034398</td>\n",
       "      <td>3</td>\n",
       "      <td>2500</td>\n",
       "      <td>0.9</td>\n",
       "      <td>COMPLETE</td>\n",
       "    </tr>\n",
       "  </tbody>\n",
       "</table>\n",
       "</div>"
      ],
      "text/plain": [
       "    number     value             datetime_start          datetime_complete  \\\n",
       "10      10  0.553066 2023-12-19 20:36:06.515719 2023-12-19 20:36:07.593584   \n",
       "19      19  0.553951 2023-12-19 20:36:44.134402 2023-12-19 20:36:46.926064   \n",
       "81      81  0.555307 2023-12-19 20:41:09.700766 2023-12-19 20:41:11.796846   \n",
       "14      14  0.555736 2023-12-19 20:36:10.784846 2023-12-19 20:36:11.819192   \n",
       "72      72  0.555952 2023-12-19 20:40:53.910190 2023-12-19 20:40:55.475452   \n",
       "\n",
       "                 duration  params_alpha  params_colsample_bylevel  \\\n",
       "10 0 days 00:00:01.077865      0.060496                       0.4   \n",
       "19 0 days 00:00:02.791662      0.003478                       0.4   \n",
       "81 0 days 00:00:02.096080      0.001955                       0.4   \n",
       "14 0 days 00:00:01.034346      0.001283                       0.4   \n",
       "72 0 days 00:00:01.565262      0.003039                       0.4   \n",
       "\n",
       "    params_colsample_bynode  params_colsample_bytree  params_lambda  \\\n",
       "10                      0.6                      0.8       0.001148   \n",
       "19                      0.8                      0.4       0.002561   \n",
       "81                      0.9                      0.4       0.001007   \n",
       "14                      0.6                      0.8       0.003143   \n",
       "72                      0.9                      0.4       0.002032   \n",
       "\n",
       "    params_learning_rate  params_max_depth  params_n_estimators  \\\n",
       "10              0.027175                 3                 2000   \n",
       "19              0.013415                 4                 2000   \n",
       "81              0.021192                 3                 2500   \n",
       "14              0.044657                 3                 2000   \n",
       "72              0.034398                 3                 2500   \n",
       "\n",
       "    params_subsample     state  \n",
       "10               0.4  COMPLETE  \n",
       "19               0.9  COMPLETE  \n",
       "81               0.5  COMPLETE  \n",
       "14               0.9  COMPLETE  \n",
       "72               0.9  COMPLETE  "
      ]
     },
     "execution_count": 9,
     "metadata": {},
     "output_type": "execute_result"
    }
   ],
   "source": [
    "study.trials_dataframe().sort_values(by='value', ascending=True).head()"
   ]
  },
  {
   "cell_type": "markdown",
   "metadata": {},
   "source": [
    "## Use best params"
   ]
  },
  {
   "cell_type": "code",
   "execution_count": 10,
   "metadata": {},
   "outputs": [
    {
     "name": "stdout",
     "output_type": "stream",
     "text": [
      "{'lambda': 0.001148371652453307, 'alpha': 0.06049637871898976, 'colsample_bytree': 0.8, 'colsample_bynode': 0.6, 'colsample_bylevel': 0.4, 'subsample': 0.4, 'learning_rate': 0.0271746885313327, 'n_estimators': 2000, 'max_depth': 3}\n"
     ]
    }
   ],
   "source": [
    "best_trial = study.best_trial.params\n",
    "print(best_trial)"
   ]
  },
  {
   "cell_type": "code",
   "execution_count": 11,
   "metadata": {},
   "outputs": [],
   "source": [
    "OOF_PREDS = np.zeros((len(train_feats), 2))\n",
    "# TEST_PREDS = np.zeros((len(test_feats), 2))"
   ]
  },
  {
   "cell_type": "code",
   "execution_count": 12,
   "metadata": {},
   "outputs": [],
   "source": [
    "models_dict = {}\n",
    "scores = []\n",
    "preds_dict = {}\n",
    "count = 0\n",
    "for _ in train_feats['id'].unique():\n",
    "    preds_dict[count] = []\n",
    "    count+=1\n",
    "\n",
    "# test_predict_list = []\n",
    "\n",
    "for i in range(3): \n",
    "    kf = model_selection.KFold(n_splits=20, random_state=42 + i, shuffle=True)\n",
    "    oof_valid_preds = np.zeros(train_feats.shape[0])\n",
    "    # X_test = test_feats[train_cols]\n",
    "    for fold, (train_idx, valid_idx) in enumerate(kf.split(train_feats)):\n",
    "        \n",
    "        X_train, y_train = train_feats.iloc[train_idx][train_cols], train_feats.iloc[train_idx][target_col]\n",
    "        X_valid, y_valid = train_feats.iloc[valid_idx][train_cols], train_feats.iloc[valid_idx][target_col]\n",
    "\n",
    "        best_params = {\n",
    "            'tree_method':'hist',\n",
    "            'objective': 'reg:squarederror',\n",
    "            'eval_metric': ['rmse'],\n",
    "            'seed': 42,\n",
    "            'nthread': -1,\n",
    "            'early_stopping_rounds': 50,\n",
    "            **best_trial\n",
    "        }\n",
    "        \n",
    "        model = xgb.XGBRegressor(**best_params)\n",
    "        \n",
    "        model.fit(X_train,y_train, eval_set=[(X_valid,y_valid)], verbose=False)\n",
    "\n",
    "        valid_predict = model.predict(X_valid)\n",
    "\n",
    "        for count, idx in enumerate(valid_idx):\n",
    "            preds_dict[idx].append(valid_predict[count])\n",
    "\n",
    "        oof_valid_preds[valid_idx] = valid_predict\n",
    "        # OOF_PREDS[valid_idx, 0] += valid_predict / 5\n",
    "        OOF_PREDS[valid_idx, 0] = valid_predict \n",
    "\n",
    "\n",
    "        # test_predict = model.predict(X_test)\n",
    "        # TEST_PREDS[:, 0] += test_predict / 5 / 10\n",
    "        # test_predict_list.append(test_predict)\n",
    "        score = metrics.mean_squared_error(y_valid, valid_predict, squared=False)\n",
    "        models_dict[f'{fold}_{i}'] = model\n",
    "\n",
    "    oof_score = metrics.mean_squared_error(train_feats[target_col], oof_valid_preds, squared=False)\n",
    "    scores.append(oof_score)"
   ]
  },
  {
   "cell_type": "code",
   "execution_count": 13,
   "metadata": {},
   "outputs": [],
   "source": [
    "means = []\n",
    "stds = []\n",
    "\n",
    "for idx in preds_dict:\n",
    "    means.append(np.mean(preds_dict[idx]))\n",
    "    stds.append(np.std(preds_dict[idx]))"
   ]
  },
  {
   "cell_type": "code",
   "execution_count": 14,
   "metadata": {},
   "outputs": [
    {
     "name": "stdout",
     "output_type": "stream",
     "text": [
      "OOF metric XGB = 0.60136\n"
     ]
    }
   ],
   "source": [
    "print('OOF metric XGB = {:.5f}'.format(metrics.mean_squared_error(train_feats[target_col], \n",
    "                                                                   means,\n",
    "                                                                   squared=False)))"
   ]
  },
  {
   "cell_type": "code",
   "execution_count": 15,
   "metadata": {},
   "outputs": [],
   "source": [
    "def add_identity(axes, *line_args, **line_kwargs):\n",
    "    identity, = axes.plot([], [], *line_args, **line_kwargs)\n",
    "    def callback(axes):\n",
    "        low_x, high_x = axes.get_xlim()\n",
    "        low_y, high_y = axes.get_ylim()\n",
    "        low = max(low_x, low_y)\n",
    "        high = min(high_x, high_y)\n",
    "        identity.set_data([low, high], [low, high])\n",
    "    callback(axes)\n",
    "    axes.callbacks.connect('xlim_changed', callback)\n",
    "    axes.callbacks.connect('ylim_changed', callback)\n",
    "    return axes"
   ]
  },
  {
   "cell_type": "code",
   "execution_count": 16,
   "metadata": {},
   "outputs": [],
   "source": [
    "import math\n",
    "def round_to_half(numbers, round_up=False):\n",
    "    if round_up:\n",
    "        return [round(num * 2) / 2 for num in numbers]\n",
    "    else:\n",
    "        return [math.floor(num * 2) / 2 for num in numbers]"
   ]
  },
  {
   "cell_type": "code",
   "execution_count": 17,
   "metadata": {},
   "outputs": [
    {
     "data": {
      "image/png": "[encoded data removed]",
      "text/plain": [
       "<Figure size 600x600 with 1 Axes>"
      ]
     },
     "metadata": {},
     "output_type": "display_data"
    }
   ],
   "source": [
    "f, ax = plt.subplots(figsize=(6, 6))\n",
    "ax.scatter(means, train_feats['score'])\n",
    "add_identity(ax, color='r', ls='--')\n",
    "# ax.scatter(stds, train_scores_df['score']-means)\n",
    "plt.ylabel('True Values')\n",
    "plt.xlabel('Predictions')\n",
    "\n",
    "plt.show()"
   ]
  },
  {
   "cell_type": "code",
   "execution_count": 18,
   "metadata": {},
   "outputs": [
    {
     "data": {
      "text/plain": [
       "(array([609., 943., 544., 235.,  98.,  27.,  10.,   4.,   0.,   1.]),\n",
       " array([2.74390128e-04, 2.84997225e-02, 5.67250550e-02, 8.49503875e-02,\n",
       "        1.13175720e-01, 1.41401052e-01, 1.69626385e-01, 1.97851717e-01,\n",
       "        2.26077050e-01, 2.54302382e-01, 2.82527715e-01]),\n",
       " <BarContainer object of 10 artists>)"
      ]
     },
     "execution_count": 18,
     "metadata": {},
     "output_type": "execute_result"
    },
    {
     "data": {
      "image/png": "[encoded data removed]",
      "text/plain": [
       "<Figure size 640x480 with 1 Axes>"
      ]
     },
     "metadata": {},
     "output_type": "display_data"
    }
   ],
   "source": [
    "plt.hist(stds)"
   ]
  }
 ],
 "metadata": {
  "kernelspec": {
   "display_name": "Python 3",
   "language": "python",
   "name": "python3"
  },
  "language_info": {
   "codemirror_mode": {
    "name": "ipython",
    "version": 3
   },
   "file_extension": ".py",
   "mimetype": "text/x-python",
   "name": "python",
   "nbconvert_exporter": "python",
   "pygments_lexer": "ipython3",
   "version": "3.10.5"
  }
 },
 "nbformat": 4,
 "nbformat_minor": 2
}
