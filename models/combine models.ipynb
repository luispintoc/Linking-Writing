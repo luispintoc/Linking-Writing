{
 "cells": [
  {
   "cell_type": "code",
   "execution_count": 1,
   "metadata": {},
   "outputs": [],
   "source": [
    "import gc\n",
    "import os\n",
    "import itertools\n",
    "import pickle\n",
    "import re\n",
    "import time\n",
    "from random import choice, choices\n",
    "from functools import reduce\n",
    "from tqdm import tqdm\n",
    "from itertools import cycle\n",
    "import numpy as np\n",
    "import pandas as pd\n",
    "import seaborn as sns\n",
    "import matplotlib.pyplot as plt\n",
    "from collections import Counter\n",
    "from functools import reduce\n",
    "from itertools import cycle\n",
    "from scipy import stats\n",
    "from scipy.stats import skew, kurtosis\n",
    "from sklearn import metrics, model_selection, preprocessing, linear_model, ensemble, decomposition, tree\n",
    "import lightgbm as lgb\n",
    "import optuna\n",
    "from sklearn.metrics import mean_squared_error\n",
    "from sklearn.model_selection import train_test_split\n",
    "import xgboost as xgb\n",
    "\n",
    "\n",
    "import sys\n",
    "sys.path.append('../')\n",
    "from utils import *"
   ]
  },
  {
   "cell_type": "code",
   "execution_count": 2,
   "metadata": {},
   "outputs": [],
   "source": [
    "is_kaggle = False\n",
    "\n",
    "if is_kaggle:\n",
    "    base_dir = '/kaggle/input'\n",
    "    data_dir = f'{base_dir}/linking-writing-processes-to-writing-quality'\n",
    "    output_dir = '/kaggle/working'\n",
    "else:\n",
    "    base_dir = '../'\n",
    "    data_dir = f'{base_dir}/data'\n",
    "    models_dir = f'{base_dir}/models'"
   ]
  },
  {
   "cell_type": "code",
   "execution_count": 3,
   "metadata": {},
   "outputs": [],
   "source": [
    "train_logs_df = pd.read_csv(f'{data_dir}/train_logs.csv')\n",
    "train_scores_df = pd.read_csv(f'{data_dir}/train_scores.csv')\n",
    "\n",
    "test_logs_df = pd.read_csv(f'{data_dir}/test_logs.csv')"
   ]
  },
  {
   "cell_type": "code",
   "execution_count": 4,
   "metadata": {},
   "outputs": [
    {
     "name": "stderr",
     "output_type": "stream",
     "text": [
      "100%|██████████| 2471/2471 [00:06<00:00, 389.36it/s]\n"
     ]
    }
   ],
   "source": [
    "essayConstructor = EssayConstructor()\n",
    "train_essays = essayConstructor.getEssays(train_logs_df)"
   ]
  },
  {
   "cell_type": "code",
   "execution_count": 5,
   "metadata": {},
   "outputs": [
    {
     "data": {
      "text/html": [
       "<div>\n",
       "<style scoped>\n",
       "    .dataframe tbody tr th:only-of-type {\n",
       "        vertical-align: middle;\n",
       "    }\n",
       "\n",
       "    .dataframe tbody tr th {\n",
       "        vertical-align: top;\n",
       "    }\n",
       "\n",
       "    .dataframe thead th {\n",
       "        text-align: right;\n",
       "    }\n",
       "</style>\n",
       "<table border=\"1\" class=\"dataframe\">\n",
       "  <thead>\n",
       "    <tr style=\"text-align: right;\">\n",
       "      <th></th>\n",
       "      <th>essay</th>\n",
       "    </tr>\n",
       "  </thead>\n",
       "  <tbody>\n",
       "    <tr>\n",
       "      <th>001519c8</th>\n",
       "      <td>qqqqqqqqq qq qqqqq qq qqqq qqqq.  qqqqqq qqq q...</td>\n",
       "    </tr>\n",
       "    <tr>\n",
       "      <th>0022f953</th>\n",
       "      <td>qqqq qq qqqqqqqqqqq ? qq qq qqq qqq qqq, qqqqq...</td>\n",
       "    </tr>\n",
       "    <tr>\n",
       "      <th>0042269b</th>\n",
       "      <td>qqqqqqqqqqq qq qqqqq qqqqqqqqq qq qqqqqqqqqqq ...</td>\n",
       "    </tr>\n",
       "    <tr>\n",
       "      <th>0059420b</th>\n",
       "      <td>qq qqqqqqq qqqqqq qqqqqqqqqqqqq qqqq q qqqq qq...</td>\n",
       "    </tr>\n",
       "    <tr>\n",
       "      <th>0075873a</th>\n",
       "      <td>qqqqqqqqqqq qq qqq qqqqq qq qqqqqqqqqq, qqq qq...</td>\n",
       "    </tr>\n",
       "  </tbody>\n",
       "</table>\n",
       "</div>"
      ],
      "text/plain": [
       "                                                      essay\n",
       "001519c8  qqqqqqqqq qq qqqqq qq qqqq qqqq.  qqqqqq qqq q...\n",
       "0022f953  qqqq qq qqqqqqqqqqq ? qq qq qqq qqq qqq, qqqqq...\n",
       "0042269b  qqqqqqqqqqq qq qqqqq qqqqqqqqq qq qqqqqqqqqqq ...\n",
       "0059420b  qq qqqqqqq qqqqqq qqqqqqqqqqqqq qqqq q qqqq qq...\n",
       "0075873a  qqqqqqqqqqq qq qqq qqqqq qq qqqqqqqqqq, qqq qq..."
      ]
     },
     "execution_count": 5,
     "metadata": {},
     "output_type": "execute_result"
    }
   ],
   "source": [
    "train_essays.index = train_essays[\"id\"]\n",
    "train_essays.index.name = None\n",
    "train_essays.drop(columns=[\"id\"], inplace=True)\n",
    "train_essays.head()"
   ]
  },
  {
   "cell_type": "code",
   "execution_count": 6,
   "metadata": {},
   "outputs": [],
   "source": [
    "# Sentence features for train dataset\n",
    "train_sent_df = split_essays_into_sentences(train_essays)\n",
    "train_sent_agg_df = compute_sentence_aggregations(train_sent_df)"
   ]
  },
  {
   "cell_type": "code",
   "execution_count": 7,
   "metadata": {},
   "outputs": [],
   "source": [
    "# Paragraph features for train dataset\n",
    "train_paragraph_df = split_essays_into_paragraphs(train_essays)\n",
    "train_paragraph_agg_df = compute_paragraph_aggregations(train_paragraph_df)"
   ]
  },
  {
   "cell_type": "code",
   "execution_count": 8,
   "metadata": {},
   "outputs": [
    {
     "name": "stderr",
     "output_type": "stream",
     "text": [
      "100%|██████████| 3/3 [00:00<00:00, 3302.60it/s]\n"
     ]
    }
   ],
   "source": [
    "test_essays = essayConstructor.getEssays(test_logs_df)\n",
    "test_sent_agg_df = compute_sentence_aggregations(split_essays_into_sentences(test_essays))\n",
    "test_paragraph_agg_df = compute_paragraph_aggregations(split_essays_into_paragraphs(test_essays))"
   ]
  },
  {
   "cell_type": "code",
   "execution_count": 9,
   "metadata": {},
   "outputs": [
    {
     "name": "stdout",
     "output_type": "stream",
     "text": [
      "Engineering time data\n",
      "Engineering cursor position data\n",
      "Engineering word count data\n",
      "Engineering statistical summaries for features\n"
     ]
    },
    {
     "name": "stderr",
     "output_type": "stream",
     "text": [
      "100%|██████████| 33/33 [01:45<00:00,  3.18s/it, column=word_count_change100, method=kurt]         \n"
     ]
    },
    {
     "name": "stdout",
     "output_type": "stream",
     "text": [
      "Engineering activity counts data\n"
     ]
    },
    {
     "name": "stderr",
     "output_type": "stream",
     "text": [
      "100%|██████████| 2471/2471 [00:00<00:00, 12447.78it/s]\n",
      "c:\\Users\\luis.pinto1\\AppData\\Local\\Programs\\Python\\Python310\\lib\\site-packages\\pandas\\core\\arraylike.py:402: RuntimeWarning: divide by zero encountered in log\n",
      "  result = getattr(ufunc, method)(*inputs, **kwargs)\n"
     ]
    },
    {
     "name": "stdout",
     "output_type": "stream",
     "text": [
      "Engineering event counts data\n"
     ]
    },
    {
     "name": "stderr",
     "output_type": "stream",
     "text": [
      "100%|██████████| 2471/2471 [00:00<00:00, 11879.91it/s]\n",
      "c:\\Users\\luis.pinto1\\AppData\\Local\\Programs\\Python\\Python310\\lib\\site-packages\\pandas\\core\\arraylike.py:402: RuntimeWarning: divide by zero encountered in log\n",
      "  result = getattr(ufunc, method)(*inputs, **kwargs)\n",
      "100%|██████████| 2471/2471 [00:00<00:00, 11183.58it/s]\n",
      "c:\\Users\\luis.pinto1\\AppData\\Local\\Programs\\Python\\Python310\\lib\\site-packages\\pandas\\core\\arraylike.py:402: RuntimeWarning: divide by zero encountered in log\n",
      "  result = getattr(ufunc, method)(*inputs, **kwargs)\n"
     ]
    },
    {
     "name": "stdout",
     "output_type": "stream",
     "text": [
      "Engineering text change counts data\n"
     ]
    },
    {
     "name": "stderr",
     "output_type": "stream",
     "text": [
      "100%|██████████| 2471/2471 [00:00<00:00, 11182.20it/s]\n",
      "c:\\Users\\luis.pinto1\\AppData\\Local\\Programs\\Python\\Python310\\lib\\site-packages\\pandas\\core\\arraylike.py:402: RuntimeWarning: divide by zero encountered in log\n",
      "  result = getattr(ufunc, method)(*inputs, **kwargs)\n"
     ]
    },
    {
     "name": "stdout",
     "output_type": "stream",
     "text": [
      "Engineering punctuation counts data\n"
     ]
    },
    {
     "name": "stderr",
     "output_type": "stream",
     "text": [
      "100%|██████████| 2471/2471 [00:00<00:00, 11628.23it/s]\n"
     ]
    },
    {
     "name": "stdout",
     "output_type": "stream",
     "text": [
      "Engineering input words data\n"
     ]
    },
    {
     "name": "stderr",
     "output_type": "stream",
     "text": [
      "c:\\Users\\luis.pinto1\\Documents\\GitHub\\Linking-Writing\\models\\..\\utils.py:365: PerformanceWarning: DataFrame is highly fragmented.  This is usually the result of calling `frame.insert` many times, which has poor performance.  Consider joining all columns at once using pd.concat(axis=1) instead. To get a de-fragmented frame, use `newframe = frame.copy()`\n",
      "  feats['word_time_ratio'] = feats['word_count_max'] / feats['up_time_max']\n",
      "c:\\Users\\luis.pinto1\\Documents\\GitHub\\Linking-Writing\\models\\..\\utils.py:366: PerformanceWarning: DataFrame is highly fragmented.  This is usually the result of calling `frame.insert` many times, which has poor performance.  Consider joining all columns at once using pd.concat(axis=1) instead. To get a de-fragmented frame, use `newframe = frame.copy()`\n",
      "  feats['word_event_ratio'] = feats['word_count_max'] / feats['event_id_max']\n",
      "c:\\Users\\luis.pinto1\\Documents\\GitHub\\Linking-Writing\\models\\..\\utils.py:367: PerformanceWarning: DataFrame is highly fragmented.  This is usually the result of calling `frame.insert` many times, which has poor performance.  Consider joining all columns at once using pd.concat(axis=1) instead. To get a de-fragmented frame, use `newframe = frame.copy()`\n",
      "  feats['event_time_ratio'] = feats['event_id_max']  / feats['up_time_max']\n",
      "c:\\Users\\luis.pinto1\\Documents\\GitHub\\Linking-Writing\\models\\..\\utils.py:368: PerformanceWarning: DataFrame is highly fragmented.  This is usually the result of calling `frame.insert` many times, which has poor performance.  Consider joining all columns at once using pd.concat(axis=1) instead. To get a de-fragmented frame, use `newframe = frame.copy()`\n",
      "  feats['idle_time_ratio'] = feats['action_time_gap1_sum'] / feats['up_time_max']\n"
     ]
    },
    {
     "name": "stdout",
     "output_type": "stream",
     "text": [
      "Engineering ratios data\n",
      "Engineering time data\n",
      "Engineering cursor position data\n",
      "Engineering word count data\n",
      "Engineering statistical summaries for features\n"
     ]
    },
    {
     "name": "stderr",
     "output_type": "stream",
     "text": [
      "100%|██████████| 33/33 [00:01<00:00, 26.13it/s, column=word_count_change100, method=kurt]         \n"
     ]
    },
    {
     "name": "stdout",
     "output_type": "stream",
     "text": [
      "Engineering activity counts data\n"
     ]
    },
    {
     "name": "stderr",
     "output_type": "stream",
     "text": [
      "100%|██████████| 3/3 [00:00<00:00, 2971.87it/s]\n",
      "c:\\Users\\luis.pinto1\\AppData\\Local\\Programs\\Python\\Python310\\lib\\site-packages\\pandas\\core\\arraylike.py:402: RuntimeWarning: divide by zero encountered in log\n",
      "  result = getattr(ufunc, method)(*inputs, **kwargs)\n"
     ]
    },
    {
     "name": "stdout",
     "output_type": "stream",
     "text": [
      "Engineering event counts data\n"
     ]
    },
    {
     "name": "stderr",
     "output_type": "stream",
     "text": [
      "100%|██████████| 3/3 [00:00<?, ?it/s]\n",
      "c:\\Users\\luis.pinto1\\AppData\\Local\\Programs\\Python\\Python310\\lib\\site-packages\\pandas\\core\\arraylike.py:402: RuntimeWarning: divide by zero encountered in log\n",
      "  result = getattr(ufunc, method)(*inputs, **kwargs)\n",
      "100%|██████████| 3/3 [00:00<?, ?it/s]\n",
      "c:\\Users\\luis.pinto1\\AppData\\Local\\Programs\\Python\\Python310\\lib\\site-packages\\pandas\\core\\arraylike.py:402: RuntimeWarning: divide by zero encountered in log\n",
      "  result = getattr(ufunc, method)(*inputs, **kwargs)\n"
     ]
    },
    {
     "name": "stdout",
     "output_type": "stream",
     "text": [
      "Engineering text change counts data\n"
     ]
    },
    {
     "name": "stderr",
     "output_type": "stream",
     "text": [
      "100%|██████████| 3/3 [00:00<?, ?it/s]\n",
      "c:\\Users\\luis.pinto1\\AppData\\Local\\Programs\\Python\\Python310\\lib\\site-packages\\pandas\\core\\arraylike.py:402: RuntimeWarning: divide by zero encountered in log\n",
      "  result = getattr(ufunc, method)(*inputs, **kwargs)\n"
     ]
    },
    {
     "name": "stdout",
     "output_type": "stream",
     "text": [
      "Engineering punctuation counts data\n"
     ]
    },
    {
     "name": "stderr",
     "output_type": "stream",
     "text": [
      "100%|██████████| 3/3 [00:00<00:00, 2964.87it/s]"
     ]
    },
    {
     "name": "stdout",
     "output_type": "stream",
     "text": [
      "Engineering input words data\n",
      "Engineering ratios data\n"
     ]
    },
    {
     "name": "stderr",
     "output_type": "stream",
     "text": [
      "\n",
      "c:\\Users\\luis.pinto1\\Documents\\GitHub\\Linking-Writing\\models\\..\\utils.py:365: PerformanceWarning: DataFrame is highly fragmented.  This is usually the result of calling `frame.insert` many times, which has poor performance.  Consider joining all columns at once using pd.concat(axis=1) instead. To get a de-fragmented frame, use `newframe = frame.copy()`\n",
      "  feats['word_time_ratio'] = feats['word_count_max'] / feats['up_time_max']\n",
      "c:\\Users\\luis.pinto1\\Documents\\GitHub\\Linking-Writing\\models\\..\\utils.py:366: PerformanceWarning: DataFrame is highly fragmented.  This is usually the result of calling `frame.insert` many times, which has poor performance.  Consider joining all columns at once using pd.concat(axis=1) instead. To get a de-fragmented frame, use `newframe = frame.copy()`\n",
      "  feats['word_event_ratio'] = feats['word_count_max'] / feats['event_id_max']\n",
      "c:\\Users\\luis.pinto1\\Documents\\GitHub\\Linking-Writing\\models\\..\\utils.py:367: PerformanceWarning: DataFrame is highly fragmented.  This is usually the result of calling `frame.insert` many times, which has poor performance.  Consider joining all columns at once using pd.concat(axis=1) instead. To get a de-fragmented frame, use `newframe = frame.copy()`\n",
      "  feats['event_time_ratio'] = feats['event_id_max']  / feats['up_time_max']\n",
      "c:\\Users\\luis.pinto1\\Documents\\GitHub\\Linking-Writing\\models\\..\\utils.py:368: PerformanceWarning: DataFrame is highly fragmented.  This is usually the result of calling `frame.insert` many times, which has poor performance.  Consider joining all columns at once using pd.concat(axis=1) instead. To get a de-fragmented frame, use `newframe = frame.copy()`\n",
      "  feats['idle_time_ratio'] = feats['action_time_gap1_sum'] / feats['up_time_max']\n"
     ]
    }
   ],
   "source": [
    "preprocessor = Preprocessor(seed=42)\n",
    "train_feats = preprocessor.make_feats(train_logs_df)\n",
    "test_feats = preprocessor.make_feats(test_logs_df)\n",
    "nan_cols = train_feats.columns[train_feats.isna().any()].tolist()\n",
    "train_feats = train_feats.drop(columns=nan_cols)\n",
    "test_feats = test_feats.drop(columns=nan_cols)"
   ]
  },
  {
   "cell_type": "code",
   "execution_count": 10,
   "metadata": {},
   "outputs": [],
   "source": [
    "train_agg_fe_df = train_logs_df.groupby(\"id\")[['down_time', 'up_time', 'action_time', 'cursor_position', 'word_count']].agg(\n",
    "    ['mean', 'std', 'min', 'max', 'last', 'first', 'sem', 'median', 'sum'])\n",
    "train_agg_fe_df.columns = ['_'.join(x) for x in train_agg_fe_df.columns]\n",
    "train_agg_fe_df = train_agg_fe_df.add_prefix(\"tmp_\")\n",
    "train_agg_fe_df.reset_index(inplace=True)\n",
    "\n",
    "test_agg_fe_df = test_logs_df.groupby(\"id\")[['down_time', 'up_time', 'action_time', 'cursor_position', 'word_count']].agg(\n",
    "    ['mean', 'std', 'min', 'max', 'last', 'first', 'sem', 'median', 'sum'])\n",
    "test_agg_fe_df.columns = ['_'.join(x) for x in test_agg_fe_df.columns]\n",
    "test_agg_fe_df = test_agg_fe_df.add_prefix(\"tmp_\")\n",
    "test_agg_fe_df.reset_index(inplace=True)\n",
    "\n",
    "train_feats = train_feats.merge(train_agg_fe_df, on='id', how='left')\n",
    "test_feats = test_feats.merge(test_agg_fe_df, on='id', how='left')"
   ]
  },
  {
   "cell_type": "code",
   "execution_count": 11,
   "metadata": {},
   "outputs": [],
   "source": [
    "# Idea is based on features introduced in Section 3 of this research paper: https://files.eric.ed.gov/fulltext/ED592674.pdf\n",
    "\n",
    "data = []\n",
    "\n",
    "for logs in [train_logs_df, test_logs_df]:\n",
    "    logs['up_time_lagged'] = logs.groupby('id')['up_time'].shift(1).fillna(logs['down_time'])\n",
    "    logs['time_diff'] = abs(logs['down_time'] - logs['up_time_lagged']) / 1000\n",
    "\n",
    "    group = logs.groupby('id')['time_diff']\n",
    "    largest_lantency = group.max()\n",
    "    smallest_lantency = group.min()\n",
    "    median_lantency = group.median()\n",
    "    initial_pause = logs.groupby('id')['down_time'].first() / 1000\n",
    "    pauses_half_sec = group.apply(lambda x: ((x > 0.5) & (x < 1)).sum())\n",
    "    pauses_1_sec = group.apply(lambda x: ((x > 1) & (x < 1.5)).sum())\n",
    "    pauses_1_half_sec = group.apply(lambda x: ((x > 1.5) & (x < 2)).sum())\n",
    "    pauses_2_sec = group.apply(lambda x: ((x > 2) & (x < 3)).sum())\n",
    "    pauses_3_sec = group.apply(lambda x: (x > 3).sum())\n",
    "\n",
    "    data.append(pd.DataFrame({\n",
    "        'id': logs['id'].unique(),\n",
    "        'largest_lantency': largest_lantency,\n",
    "        'smallest_lantency': smallest_lantency,\n",
    "        'median_lantency': median_lantency,\n",
    "        'initial_pause': initial_pause,\n",
    "        'pauses_half_sec': pauses_half_sec,\n",
    "        'pauses_1_sec': pauses_1_sec,\n",
    "        'pauses_1_half_sec': pauses_1_half_sec,\n",
    "        'pauses_2_sec': pauses_2_sec,\n",
    "        'pauses_3_sec': pauses_3_sec,\n",
    "    }).reset_index(drop=True))\n",
    "\n",
    "train_eD592674, test_eD592674 = data\n",
    "\n",
    "train_feats = train_feats.merge(train_eD592674, on='id', how='left')\n",
    "test_feats = test_feats.merge(test_eD592674, on='id', how='left')\n",
    "train_feats = train_feats.merge(train_scores_df, on='id', how='left')"
   ]
  },
  {
   "cell_type": "code",
   "execution_count": 12,
   "metadata": {},
   "outputs": [],
   "source": [
    "# Adding the additional features to the original feature set\n",
    "\n",
    "train_feats = train_feats.merge(train_sent_agg_df, on='id', how='left')\n",
    "train_feats = train_feats.merge(train_paragraph_agg_df, on='id', how='left')\n",
    "# test_feats = test_feats.merge(test_sent_agg_df, on='id', how='left')\n",
    "# test_feats = test_feats.merge(test_paragraph_agg_df, on='id', how='left')"
   ]
  },
  {
   "cell_type": "markdown",
   "metadata": {},
   "source": [
    "## Copy from keyboard notebook"
   ]
  },
  {
   "cell_type": "code",
   "execution_count": 13,
   "metadata": {},
   "outputs": [],
   "source": [
    "def get_keyboard_mouse_feats(train_logs_df):\n",
    "\n",
    "    # Creates two shift variables which lag the original variable by 1 and 2 periods respectively.\n",
    "    event_df = train_logs_df[['id', 'event_id', 'down_event']].copy(deep=True)\n",
    "\n",
    "    event_df['down_event_shift_1'] = event_df['down_event'].shift(periods=1)\n",
    "    event_df['down_event_shift_2'] = event_df['down_event'].shift(periods=2)\n",
    "\n",
    "    event_df = event_df[['id', 'event_id', 'down_event_shift_2', 'down_event_shift_1', 'down_event']]\n",
    "\n",
    "    ctrl_left_df = ((event_df['down_event_shift_1'] == 'Control') & (event_df['down_event'] == 'ArrowLeft')).groupby(event_df['id']).sum().reset_index(name='count')\n",
    "    ctrl_right_df = ((event_df['down_event_shift_1'] == 'Control') & (event_df['down_event'] == 'ArrowRight')).groupby(event_df['id']).sum().reset_index(name='count')\n",
    "    ctrl_shift_left_df = ((event_df['down_event_shift_2'] == 'Control') & (event_df['down_event_shift_1'] == 'Shift') & (event_df['down_event'] == 'ArrowLeft')).groupby(event_df['id']).sum().reset_index(name='count')\n",
    "    ctrl_shift_right_df = ((event_df['down_event_shift_2'] == 'Control') & (event_df['down_event_shift_1'] == 'Shift') & (event_df['down_event'] == 'ArrowRight')).groupby(event_df['id']).sum().reset_index(name='count')\n",
    "    ctrl_bksp_df = ((event_df['down_event_shift_1'] == 'Control') & (event_df['down_event'] == 'Backspace')).groupby(event_df['id']).sum().reset_index(name='count')\n",
    "    ctrl_c_df = ((event_df['down_event_shift_1'] == 'Control') & (event_df['down_event'].str.lower() == 'c')).groupby(event_df['id']).sum().reset_index(name='count')\n",
    "    ctrl_v_df = ((event_df['down_event_shift_1'] == 'Control') & (event_df['down_event'].str.lower() == 'v')).groupby(event_df['id']).sum().reset_index(name='count')\n",
    "    ctrl_x_df = ((event_df['down_event_shift_1'] == 'Control') & (event_df['down_event'].str.lower() == 'x')).groupby(event_df['id']).sum().reset_index(name='count')\n",
    "\n",
    "    # Creating a DataFrame that contains all counts at an id level.\n",
    "\n",
    "    kb_shortcut_df = pd.DataFrame(event_df['id'].unique(), columns=['id'])\n",
    "\n",
    "    kb_shortcut_df['ctrl_left_cnt'] = ctrl_left_df['count']\n",
    "    kb_shortcut_df['ctrl_right_cnt'] = ctrl_right_df['count']\n",
    "    kb_shortcut_df['ctrl_shift_left_cnt'] = ctrl_shift_left_df['count']\n",
    "    kb_shortcut_df['ctrl_shift_right_cnt'] = ctrl_shift_right_df['count']\n",
    "    kb_shortcut_df['ctrl_bksp_cnt'] = ctrl_bksp_df['count']\n",
    "    kb_shortcut_df['ctrl_c_cnt'] = ctrl_c_df['count']\n",
    "    kb_shortcut_df['ctrl_v_cnt'] = ctrl_v_df['count']\n",
    "    kb_shortcut_df['ctrl_x_cnt'] = ctrl_x_df['count']\n",
    "\n",
    "    mouse_event_df = pd.DataFrame(train_logs_df['id'].unique(), columns=['id'])\n",
    "\n",
    "    # Calculating the proportion of mouse click events\n",
    "    mouse_event_df['mouse_event_cnt'] = train_logs_df.groupby(train_logs_df['id'])['down_event'].apply(lambda x: (x.isin(['Leftclick', 'Rightclick', 'Middleclick', 'Unknownclick']).sum())).reset_index()['down_event']\n",
    "\n",
    "    mouse_event_df['all_event_cnt'] = train_logs_df.groupby(train_logs_df['id'])['event_id'].max().reset_index()['event_id']\n",
    "\n",
    "    mouse_event_df['mouse_event_perc'] = (mouse_event_df['mouse_event_cnt']/mouse_event_df['all_event_cnt'])*100.0\n",
    "\n",
    "    # Combining both sets of features into one DataFrame\n",
    "    kb_features = ['ctrl_left_cnt', 'ctrl_right_cnt', 'ctrl_shift_left_cnt', 'ctrl_shift_right_cnt', 'ctrl_bksp_cnt', \n",
    "                'ctrl_c_cnt', 'ctrl_v_cnt', 'ctrl_x_cnt']\n",
    "\n",
    "    ms_features = ['mouse_event_perc']\n",
    "\n",
    "    ms_kb_df = pd.DataFrame(train_logs_df['id'].unique(), columns=['id'])\n",
    "\n",
    "    for col in kb_features:\n",
    "        ms_kb_df[col] = kb_shortcut_df[col]\n",
    "\n",
    "    for col in ms_features:\n",
    "        ms_kb_df[col] = mouse_event_df[col]\n",
    "    \n",
    "    return ms_kb_df"
   ]
  },
  {
   "cell_type": "code",
   "execution_count": 14,
   "metadata": {},
   "outputs": [],
   "source": [
    "ms_kb_df = get_keyboard_mouse_feats(train_logs_df)\n",
    "train_feats = train_feats.merge(ms_kb_df, on='id', how='left')"
   ]
  },
  {
   "cell_type": "markdown",
   "metadata": {},
   "source": [
    "## Training"
   ]
  },
  {
   "cell_type": "code",
   "execution_count": 15,
   "metadata": {},
   "outputs": [],
   "source": [
    "target_col = ['score']\n",
    "drop_cols = ['id']\n",
    "train_cols = [col for col in train_feats.columns if col not in target_col + drop_cols]"
   ]
  },
  {
   "cell_type": "code",
   "execution_count": 26,
   "metadata": {},
   "outputs": [],
   "source": [
    "train_feats.fillna(-999, inplace=True)\n",
    "train_feats.replace([np.inf, -np.inf], -999, inplace=True)"
   ]
  },
  {
   "cell_type": "code",
   "execution_count": 32,
   "metadata": {},
   "outputs": [],
   "source": [
    "def objective(trial,data=train_feats[train_cols],target=train_feats[target_col]):\n",
    "    \n",
    "    train_x, test_x, train_y, test_y = train_test_split(data, target, test_size=0.15, random_state=42)\n",
    "\n",
    "    params = {\n",
    "        'lambda': trial.suggest_float('lambda', 1e-3, 10.0, log=True),\n",
    "        'alpha': trial.suggest_float('alpha', 1e-3, 10.0, log=True),\n",
    "        'colsample_bytree': trial.suggest_categorical('colsample_bytree', [0.4,0.5,0.6,0.7,0.8,0.9]),\n",
    "        'colsample_bynode': trial.suggest_categorical('colsample_bynode', [0.4,0.5,0.6,0.7,0.8,0.9]),\n",
    "        'colsample_bylevel': trial.suggest_categorical('colsample_bylevel', [0.4,0.5,0.6,0.7,0.8,0.9]),\n",
    "        'subsample': trial.suggest_categorical('subsample', [0.4, 0.5,0.6,0.7,0.8,0.9]),\n",
    "        'eta': trial.suggest_float('learning_rate', 1e-6, 5e-2, log=True),\n",
    "        'n_estimators': trial.suggest_categorical('n_estimators', [1000, 1500, 2000, 2500, 3000]),\n",
    "        'max_depth': trial.suggest_int('max_depth', 3, 9, step=1),\n",
    "    }\n",
    "\n",
    "    all_params = {\n",
    "        'tree_method':'gpu_hist',\n",
    "        'objective': 'reg:squarederror',\n",
    "        'eval_metric': ['rmse'],\n",
    "        'seed': 42,\n",
    "        'nthread': -1,\n",
    "        'early_stopping_rounds': 50,\n",
    "        **params\n",
    "    }\n",
    "\n",
    "\n",
    "    model = xgb.XGBRegressor(**all_params)\n",
    "    \n",
    "    model.fit(train_x,train_y,eval_set=[(test_x,test_y)], verbose=False)\n",
    "    \n",
    "    preds = model.predict(test_x)\n",
    "    \n",
    "    rmse = mean_squared_error(test_y, preds,squared=False)\n",
    "    \n",
    "    return rmse"
   ]
  },
  {
   "cell_type": "code",
   "execution_count": 33,
   "metadata": {},
   "outputs": [
    {
     "name": "stderr",
     "output_type": "stream",
     "text": [
      "[I 2023-12-03 18:27:29,572] A new study created in memory with name: no-name-64d72b8d-1a53-4f4c-987e-2bdd0e269555\n"
     ]
    },
    {
     "name": "stderr",
     "output_type": "stream",
     "text": [
      "[I 2023-12-03 18:27:50,119] Trial 0 finished with value: 0.7828850086933009 and parameters: {'lambda': 3.4968363036719508, 'alpha': 2.2352993909736862, 'colsample_bytree': 0.9, 'colsample_bynode': 0.9, 'colsample_bylevel': 0.6, 'subsample': 0.7, 'learning_rate': 0.0009674918059148546, 'n_estimators': 2000, 'max_depth': 5}. Best is trial 0 with value: 0.7828850086933009.\n",
      "[I 2023-12-03 18:27:51,598] Trial 1 finished with value: 0.5786958872495837 and parameters: {'lambda': 0.19471386189297338, 'alpha': 0.007680570454164113, 'colsample_bytree': 0.4, 'colsample_bynode': 0.8, 'colsample_bylevel': 0.4, 'subsample': 0.4, 'learning_rate': 0.042442109366465045, 'n_estimators': 3000, 'max_depth': 5}. Best is trial 1 with value: 0.5786958872495837.\n",
      "[I 2023-12-03 18:28:12,034] Trial 2 finished with value: 3.3450607405094015 and parameters: {'lambda': 0.029873143771947407, 'alpha': 3.502337093904659, 'colsample_bytree': 0.7, 'colsample_bynode': 0.6, 'colsample_bylevel': 0.8, 'subsample': 0.7, 'learning_rate': 2.44500012556159e-06, 'n_estimators': 1500, 'max_depth': 8}. Best is trial 1 with value: 0.5786958872495837.\n",
      "[I 2023-12-03 18:28:24,231] Trial 3 finished with value: 2.800602717298405 and parameters: {'lambda': 0.019035684455467352, 'alpha': 0.0940668436364554, 'colsample_bytree': 0.4, 'colsample_bynode': 0.8, 'colsample_bylevel': 0.9, 'subsample': 0.5, 'learning_rate': 6.354203404971324e-05, 'n_estimators': 3000, 'max_depth': 3}. Best is trial 1 with value: 0.5786958872495837.\n",
      "[I 2023-12-03 18:28:33,304] Trial 4 finished with value: 2.363127130907815 and parameters: {'lambda': 0.00215267501435801, 'alpha': 0.5689464153961095, 'colsample_bytree': 0.7, 'colsample_bynode': 0.5, 'colsample_bylevel': 0.7, 'subsample': 0.6, 'learning_rate': 0.00037163274498657183, 'n_estimators': 1000, 'max_depth': 5}. Best is trial 1 with value: 0.5786958872495837.\n",
      "[I 2023-12-03 18:28:55,188] Trial 5 finished with value: 3.2740484354265993 and parameters: {'lambda': 1.109054966810488, 'alpha': 2.910341753292756, 'colsample_bytree': 0.5, 'colsample_bynode': 0.6, 'colsample_bylevel': 0.8, 'subsample': 0.5, 'learning_rate': 1.0591411502969867e-05, 'n_estimators': 2500, 'max_depth': 6}. Best is trial 1 with value: 0.5786958872495837.\n",
      "[I 2023-12-03 18:29:47,656] Trial 6 finished with value: 1.9996874089343033 and parameters: {'lambda': 1.9813919617961744, 'alpha': 0.117560115511984, 'colsample_bytree': 0.6, 'colsample_bynode': 0.4, 'colsample_bylevel': 0.7, 'subsample': 0.7, 'learning_rate': 0.00018836646233017393, 'n_estimators': 3000, 'max_depth': 8}. Best is trial 1 with value: 0.5786958872495837.\n",
      "[I 2023-12-03 18:30:05,868] Trial 7 finished with value: 3.3515859264287533 and parameters: {'lambda': 2.2912247324089465, 'alpha': 0.029903488379278136, 'colsample_bytree': 0.9, 'colsample_bynode': 0.4, 'colsample_bylevel': 0.4, 'subsample': 0.5, 'learning_rate': 1.0834407782780364e-06, 'n_estimators': 1500, 'max_depth': 8}. Best is trial 1 with value: 0.5786958872495837.\n",
      "[I 2023-12-03 18:30:13,360] Trial 8 finished with value: 3.0666736442965865 and parameters: {'lambda': 0.723448719199175, 'alpha': 0.007274893104660584, 'colsample_bytree': 0.4, 'colsample_bynode': 0.4, 'colsample_bylevel': 0.4, 'subsample': 0.5, 'learning_rate': 4.771048742477614e-05, 'n_estimators': 2000, 'max_depth': 3}. Best is trial 1 with value: 0.5786958872495837.\n",
      "[I 2023-12-03 18:30:51,228] Trial 9 finished with value: 1.8741722822237394 and parameters: {'lambda': 0.20623781767822005, 'alpha': 0.3031612652917543, 'colsample_bytree': 0.7, 'colsample_bynode': 0.8, 'colsample_bylevel': 0.7, 'subsample': 0.5, 'learning_rate': 0.00025189287424363726, 'n_estimators': 2500, 'max_depth': 6}. Best is trial 1 with value: 0.5786958872495837.\n",
      "[I 2023-12-03 18:30:52,515] Trial 10 finished with value: 0.5691066958778832 and parameters: {'lambda': 0.18209035935118092, 'alpha': 0.0016183451719879928, 'colsample_bytree': 0.8, 'colsample_bynode': 0.7, 'colsample_bylevel': 0.5, 'subsample': 0.4, 'learning_rate': 0.04238307384306169, 'n_estimators': 3000, 'max_depth': 4}. Best is trial 10 with value: 0.5691066958778832.\n",
      "[I 2023-12-03 18:30:53,512] Trial 11 finished with value: 0.5704572943279237 and parameters: {'lambda': 0.15864474205331994, 'alpha': 0.0012809262955451228, 'colsample_bytree': 0.8, 'colsample_bynode': 0.7, 'colsample_bylevel': 0.5, 'subsample': 0.4, 'learning_rate': 0.042241828628229686, 'n_estimators': 3000, 'max_depth': 4}. Best is trial 10 with value: 0.5691066958778832.\n",
      "[I 2023-12-03 18:30:54,660] Trial 12 finished with value: 0.5748995155372082 and parameters: {'lambda': 7.800901833808165, 'alpha': 0.001012050086055592, 'colsample_bytree': 0.8, 'colsample_bynode': 0.7, 'colsample_bylevel': 0.5, 'subsample': 0.4, 'learning_rate': 0.043116103834093505, 'n_estimators': 3000, 'max_depth': 4}. Best is trial 10 with value: 0.5691066958778832.\n",
      "[I 2023-12-03 18:30:59,822] Trial 13 finished with value: 0.5725525568287554 and parameters: {'lambda': 0.06152051249409259, 'alpha': 0.002023807987093386, 'colsample_bytree': 0.8, 'colsample_bynode': 0.7, 'colsample_bylevel': 0.5, 'subsample': 0.8, 'learning_rate': 0.00710016301555651, 'n_estimators': 3000, 'max_depth': 4}. Best is trial 10 with value: 0.5691066958778832.\n",
      "[I 2023-12-03 18:31:04,828] Trial 14 finished with value: 0.5703966798695594 and parameters: {'lambda': 0.4773966668347677, 'alpha': 0.003392372269349331, 'colsample_bytree': 0.8, 'colsample_bynode': 0.7, 'colsample_bylevel': 0.5, 'subsample': 0.4, 'learning_rate': 0.006720995548199872, 'n_estimators': 1000, 'max_depth': 4}. Best is trial 10 with value: 0.5691066958778832.\n",
      "[I 2023-12-03 18:31:08,727] Trial 15 finished with value: 0.579728280720899 and parameters: {'lambda': 0.47218854641056235, 'alpha': 0.00560609598949012, 'colsample_bytree': 0.8, 'colsample_bynode': 0.7, 'colsample_bylevel': 0.5, 'subsample': 0.9, 'learning_rate': 0.004279610629677958, 'n_estimators': 1000, 'max_depth': 3}. Best is trial 10 with value: 0.5691066958778832.\n",
      "[I 2023-12-03 18:31:24,913] Trial 16 finished with value: 0.5788696438717122 and parameters: {'lambda': 0.4290830725147681, 'alpha': 0.0033010758319557084, 'colsample_bytree': 0.8, 'colsample_bynode': 0.7, 'colsample_bylevel': 0.5, 'subsample': 0.4, 'learning_rate': 0.008432919831421746, 'n_estimators': 1000, 'max_depth': 7}. Best is trial 10 with value: 0.5691066958778832.\n",
      "[I 2023-12-03 18:31:31,113] Trial 17 finished with value: 0.8958254842442963 and parameters: {'lambda': 0.06223661633747435, 'alpha': 0.012055495874501373, 'colsample_bytree': 0.6, 'colsample_bynode': 0.9, 'colsample_bylevel': 0.9, 'subsample': 0.4, 'learning_rate': 0.0016041368785667863, 'n_estimators': 1000, 'max_depth': 4}. Best is trial 10 with value: 0.5691066958778832.\n",
      "[I 2023-12-03 18:31:35,088] Trial 18 finished with value: 0.5760599174176675 and parameters: {'lambda': 8.83453880571947, 'alpha': 0.0029940513178197447, 'colsample_bytree': 0.5, 'colsample_bynode': 0.5, 'colsample_bylevel': 0.6, 'subsample': 0.8, 'learning_rate': 0.013617775111165404, 'n_estimators': 1000, 'max_depth': 5}. Best is trial 10 with value: 0.5691066958778832.\n",
      "[I 2023-12-03 18:33:03,382] Trial 19 finished with value: 0.6079620176973439 and parameters: {'lambda': 0.453538343620258, 'alpha': 0.016439676854757092, 'colsample_bytree': 0.8, 'colsample_bynode': 0.7, 'colsample_bylevel': 0.5, 'subsample': 0.9, 'learning_rate': 0.00202525976807796, 'n_estimators': 1500, 'max_depth': 9}. Best is trial 10 with value: 0.5691066958778832.\n",
      "[I 2023-12-03 18:33:05,350] Trial 20 finished with value: 0.5716838947692827 and parameters: {'lambda': 1.138132378194947, 'alpha': 0.003061801053330856, 'colsample_bytree': 0.8, 'colsample_bynode': 0.7, 'colsample_bylevel': 0.5, 'subsample': 0.6, 'learning_rate': 0.01536826214415659, 'n_estimators': 2500, 'max_depth': 3}. Best is trial 10 with value: 0.5691066958778832.\n",
      "[I 2023-12-03 18:33:06,380] Trial 21 finished with value: 0.5807247710827426 and parameters: {'lambda': 0.17378117929083614, 'alpha': 0.0014285882560196557, 'colsample_bytree': 0.8, 'colsample_bynode': 0.7, 'colsample_bylevel': 0.5, 'subsample': 0.4, 'learning_rate': 0.037447234711995396, 'n_estimators': 3000, 'max_depth': 4}. Best is trial 10 with value: 0.5691066958778832.\n",
      "[I 2023-12-03 18:33:08,678] Trial 22 finished with value: 0.5743417462137301 and parameters: {'lambda': 0.12004964218501525, 'alpha': 0.0014455052971655748, 'colsample_bytree': 0.8, 'colsample_bynode': 0.7, 'colsample_bylevel': 0.5, 'subsample': 0.4, 'learning_rate': 0.018315839556706286, 'n_estimators': 3000, 'max_depth': 4}. Best is trial 10 with value: 0.5691066958778832.\n",
      "[I 2023-12-03 18:33:21,931] Trial 23 finished with value: 0.5728335189336834 and parameters: {'lambda': 0.22635284725905466, 'alpha': 0.00107044855758293, 'colsample_bytree': 0.8, 'colsample_bynode': 0.7, 'colsample_bylevel': 0.5, 'subsample': 0.4, 'learning_rate': 0.003980247104466912, 'n_estimators': 3000, 'max_depth': 5}. Best is trial 10 with value: 0.5691066958778832.\n",
      "[I 2023-12-03 18:33:23,751] Trial 24 finished with value: 0.5757469855266858 and parameters: {'lambda': 0.0888207888430771, 'alpha': 0.0040044465484168346, 'colsample_bytree': 0.8, 'colsample_bynode': 0.7, 'colsample_bylevel': 0.5, 'subsample': 0.4, 'learning_rate': 0.021141628703652268, 'n_estimators': 2000, 'max_depth': 4}. Best is trial 10 with value: 0.5691066958778832.\n",
      "[I 2023-12-03 18:33:25,954] Trial 25 finished with value: 0.5920732661533527 and parameters: {'lambda': 0.3071664456001725, 'alpha': 0.0021518726166106336, 'colsample_bytree': 0.8, 'colsample_bynode': 0.7, 'colsample_bylevel': 0.5, 'subsample': 0.4, 'learning_rate': 0.04836873729091426, 'n_estimators': 1000, 'max_depth': 6}. Best is trial 10 with value: 0.5691066958778832.\n",
      "[I 2023-12-03 18:33:29,683] Trial 26 finished with value: 0.5709474578336989 and parameters: {'lambda': 0.9087170206802363, 'alpha': 0.00513379985112711, 'colsample_bytree': 0.9, 'colsample_bynode': 0.5, 'colsample_bylevel': 0.9, 'subsample': 0.4, 'learning_rate': 0.007975010791107543, 'n_estimators': 3000, 'max_depth': 3}. Best is trial 10 with value: 0.5691066958778832.\n",
      "[I 2023-12-03 18:33:36,026] Trial 27 finished with value: 0.5818234424310925 and parameters: {'lambda': 0.034630549082204934, 'alpha': 0.0208767344734572, 'colsample_bytree': 0.6, 'colsample_bynode': 0.9, 'colsample_bylevel': 0.8, 'subsample': 0.4, 'learning_rate': 0.024227595443017263, 'n_estimators': 3000, 'max_depth': 7}. Best is trial 10 with value: 0.5691066958778832.\n",
      "[I 2023-12-03 18:33:39,884] Trial 28 finished with value: 0.5717110580055078 and parameters: {'lambda': 0.4099133489996288, 'alpha': 0.0010609781572972694, 'colsample_bytree': 0.5, 'colsample_bynode': 0.6, 'colsample_bylevel': 0.6, 'subsample': 0.6, 'learning_rate': 0.013491148761356665, 'n_estimators': 1000, 'max_depth': 5}. Best is trial 10 with value: 0.5691066958778832.\n",
      "[I 2023-12-03 18:34:01,231] Trial 29 finished with value: 0.5778463002762472 and parameters: {'lambda': 3.241613689219776, 'alpha': 9.723212798088907, 'colsample_bytree': 0.9, 'colsample_bynode': 0.9, 'colsample_bylevel': 0.6, 'subsample': 0.8, 'learning_rate': 0.0037957219011590312, 'n_estimators': 2000, 'max_depth': 6}. Best is trial 10 with value: 0.5691066958778832.\n",
      "[I 2023-12-03 18:34:09,655] Trial 30 finished with value: 1.2985152074828938 and parameters: {'lambda': 0.10710068713417091, 'alpha': 0.0022183938316572382, 'colsample_bytree': 0.8, 'colsample_bynode': 0.7, 'colsample_bylevel': 0.5, 'subsample': 0.9, 'learning_rate': 0.0007076101919760307, 'n_estimators': 1500, 'max_depth': 4}. Best is trial 10 with value: 0.5691066958778832.\n",
      "[I 2023-12-03 18:34:13,367] Trial 31 finished with value: 0.5694380851105333 and parameters: {'lambda': 0.7535116760643616, 'alpha': 0.005062774530653671, 'colsample_bytree': 0.9, 'colsample_bynode': 0.5, 'colsample_bylevel': 0.9, 'subsample': 0.4, 'learning_rate': 0.007619204125523283, 'n_estimators': 3000, 'max_depth': 3}. Best is trial 10 with value: 0.5691066958778832.\n",
      "[I 2023-12-03 18:34:14,450] Trial 32 finished with value: 0.5735217376920401 and parameters: {'lambda': 0.6241807475443684, 'alpha': 0.00947470751103289, 'colsample_bytree': 0.9, 'colsample_bynode': 0.5, 'colsample_bylevel': 0.9, 'subsample': 0.4, 'learning_rate': 0.027517231518676875, 'n_estimators': 3000, 'max_depth': 3}. Best is trial 10 with value: 0.5691066958778832.\n",
      "[I 2023-12-03 18:34:15,915] Trial 33 finished with value: 0.57695829946012 and parameters: {'lambda': 0.2691660029326596, 'alpha': 0.006110125429966964, 'colsample_bytree': 0.9, 'colsample_bynode': 0.5, 'colsample_bylevel': 0.9, 'subsample': 0.4, 'learning_rate': 0.046600245455575035, 'n_estimators': 3000, 'max_depth': 5}. Best is trial 10 with value: 0.5691066958778832.\n",
      "[I 2023-12-03 18:34:19,476] Trial 34 finished with value: 0.5708893883515276 and parameters: {'lambda': 1.354699166916718, 'alpha': 0.0019383589466217632, 'colsample_bytree': 0.4, 'colsample_bynode': 0.8, 'colsample_bylevel': 0.9, 'subsample': 0.7, 'learning_rate': 0.009599358794619572, 'n_estimators': 3000, 'max_depth': 3}. Best is trial 10 with value: 0.5691066958778832.\n",
      "[I 2023-12-03 18:34:21,553] Trial 35 finished with value: 0.5705800710935621 and parameters: {'lambda': 0.7416348475251691, 'alpha': 0.0035428129078408483, 'colsample_bytree': 0.9, 'colsample_bynode': 0.5, 'colsample_bylevel': 0.4, 'subsample': 0.4, 'learning_rate': 0.02336899653749216, 'n_estimators': 3000, 'max_depth': 4}. Best is trial 10 with value: 0.5691066958778832.\n",
      "[I 2023-12-03 18:34:26,301] Trial 36 finished with value: 0.5696465297082712 and parameters: {'lambda': 0.14681133197373078, 'alpha': 0.010132013373490747, 'colsample_bytree': 0.7, 'colsample_bynode': 0.6, 'colsample_bylevel': 0.8, 'subsample': 0.4, 'learning_rate': 0.0056746678067017275, 'n_estimators': 2500, 'max_depth': 3}. Best is trial 10 with value: 0.5691066958778832.\n",
      "[I 2023-12-03 18:34:36,506] Trial 37 finished with value: 0.5743315296812698 and parameters: {'lambda': 0.2736228196919554, 'alpha': 0.010444474730852374, 'colsample_bytree': 0.7, 'colsample_bynode': 0.6, 'colsample_bylevel': 0.8, 'subsample': 0.7, 'learning_rate': 0.0019982071818942164, 'n_estimators': 2500, 'max_depth': 3}. Best is trial 10 with value: 0.5691066958778832.\n",
      "[I 2023-12-03 18:34:41,802] Trial 38 finished with value: 0.5702273202878336 and parameters: {'lambda': 1.7441785533514274, 'alpha': 0.028769394855007898, 'colsample_bytree': 0.7, 'colsample_bynode': 0.6, 'colsample_bylevel': 0.8, 'subsample': 0.4, 'learning_rate': 0.0053615024870007, 'n_estimators': 2500, 'max_depth': 3}. Best is trial 10 with value: 0.5691066958778832.\n",
      "[I 2023-12-03 18:34:51,971] Trial 39 finished with value: 0.7019004962085418 and parameters: {'lambda': 1.6030148298345896, 'alpha': 0.03694774234996692, 'colsample_bytree': 0.7, 'colsample_bynode': 0.6, 'colsample_bylevel': 0.8, 'subsample': 0.6, 'learning_rate': 0.0008870035666451094, 'n_estimators': 2500, 'max_depth': 3}. Best is trial 10 with value: 0.5691066958778832.\n",
      "[I 2023-12-03 18:34:58,838] Trial 40 finished with value: 0.5726420270912977 and parameters: {'lambda': 2.0258376704845396, 'alpha': 0.047630470819160886, 'colsample_bytree': 0.7, 'colsample_bynode': 0.6, 'colsample_bylevel': 0.8, 'subsample': 0.4, 'learning_rate': 0.0034972970485719654, 'n_estimators': 2500, 'max_depth': 3}. Best is trial 10 with value: 0.5691066958778832.\n",
      "[I 2023-12-03 18:35:02,677] Trial 41 finished with value: 0.5701794838296713 and parameters: {'lambda': 0.7431073752777871, 'alpha': 0.006456004048154327, 'colsample_bytree': 0.7, 'colsample_bynode': 0.6, 'colsample_bylevel': 0.8, 'subsample': 0.4, 'learning_rate': 0.006507018398641631, 'n_estimators': 2500, 'max_depth': 3}. Best is trial 10 with value: 0.5691066958778832.\n",
      "[I 2023-12-03 18:35:07,381] Trial 42 finished with value: 0.5701581607928276 and parameters: {'lambda': 0.8957002334334789, 'alpha': 0.008002249701442945, 'colsample_bytree': 0.7, 'colsample_bynode': 0.6, 'colsample_bylevel': 0.8, 'subsample': 0.4, 'learning_rate': 0.0054734137692287665, 'n_estimators': 2500, 'max_depth': 3}. Best is trial 10 with value: 0.5691066958778832.\n",
      "[I 2023-12-03 18:35:11,116] Trial 43 finished with value: 0.5657162124830364 and parameters: {'lambda': 0.8478693470969416, 'alpha': 0.008209636821029959, 'colsample_bytree': 0.7, 'colsample_bynode': 0.6, 'colsample_bylevel': 0.8, 'subsample': 0.4, 'learning_rate': 0.01111345503114425, 'n_estimators': 2500, 'max_depth': 3}. Best is trial 43 with value: 0.5657162124830364.\n",
      "[I 2023-12-03 18:35:13,983] Trial 44 finished with value: 0.5676408880540477 and parameters: {'lambda': 1.1170049274567984, 'alpha': 0.012076983448202376, 'colsample_bytree': 0.7, 'colsample_bynode': 0.6, 'colsample_bylevel': 0.8, 'subsample': 0.5, 'learning_rate': 0.012377677476784218, 'n_estimators': 2500, 'max_depth': 3}. Best is trial 43 with value: 0.5657162124830364.\n",
      "[I 2023-12-03 18:35:16,500] Trial 45 finished with value: 0.5716118860912448 and parameters: {'lambda': 3.8249334408707196, 'alpha': 0.010439049036827495, 'colsample_bytree': 0.7, 'colsample_bynode': 0.6, 'colsample_bylevel': 0.7, 'subsample': 0.5, 'learning_rate': 0.01190787842759941, 'n_estimators': 2500, 'max_depth': 3}. Best is trial 43 with value: 0.5657162124830364.\n",
      "[I 2023-12-03 18:35:19,357] Trial 46 finished with value: 0.5705806264591916 and parameters: {'lambda': 0.17057010453962598, 'alpha': 0.01591787704692974, 'colsample_bytree': 0.7, 'colsample_bynode': 0.4, 'colsample_bylevel': 0.8, 'subsample': 0.5, 'learning_rate': 0.012075635195877503, 'n_estimators': 2500, 'max_depth': 4}. Best is trial 43 with value: 0.5657162124830364.\n",
      "[I 2023-12-03 18:35:21,054] Trial 47 finished with value: 0.57120329188886 and parameters: {'lambda': 1.148015977435463, 'alpha': 0.004499565862555659, 'colsample_bytree': 0.4, 'colsample_bynode': 0.6, 'colsample_bylevel': 0.8, 'subsample': 0.5, 'learning_rate': 0.028050385940277662, 'n_estimators': 2500, 'max_depth': 3}. Best is trial 43 with value: 0.5657162124830364.\n",
      "[I 2023-12-03 18:35:24,312] Trial 48 finished with value: 0.5683729772650686 and parameters: {'lambda': 0.3352493378868884, 'alpha': 0.0075742280419567095, 'colsample_bytree': 0.7, 'colsample_bynode': 0.8, 'colsample_bylevel': 0.8, 'subsample': 0.5, 'learning_rate': 0.014695944435862805, 'n_estimators': 2500, 'max_depth': 4}. Best is trial 43 with value: 0.5657162124830364.\n",
      "[I 2023-12-03 18:35:26,566] Trial 49 finished with value: 0.5694406954916944 and parameters: {'lambda': 0.32637656668757514, 'alpha': 0.006896523823303584, 'colsample_bytree': 0.7, 'colsample_bynode': 0.8, 'colsample_bylevel': 0.4, 'subsample': 0.5, 'learning_rate': 0.01737632521218511, 'n_estimators': 2000, 'max_depth': 4}. Best is trial 43 with value: 0.5657162124830364.\n"
     ]
    },
    {
     "name": "stdout",
     "output_type": "stream",
     "text": [
      "Number of finished trials: 50\n",
      "Best trial: {'lambda': 0.8478693470969416, 'alpha': 0.008209636821029959, 'colsample_bytree': 0.7, 'colsample_bynode': 0.6, 'colsample_bylevel': 0.8, 'subsample': 0.4, 'learning_rate': 0.01111345503114425, 'n_estimators': 2500, 'max_depth': 3}\n"
     ]
    }
   ],
   "source": [
    "study = optuna.create_study(direction='minimize')\n",
    "study.optimize(objective, n_trials=50)\n",
    "print('Number of finished trials:', len(study.trials))\n",
    "print('Best trial:', study.best_trial.params)"
   ]
  },
  {
   "cell_type": "code",
   "execution_count": 35,
   "metadata": {},
   "outputs": [
    {
     "data": {
      "text/html": [
       "<div>\n",
       "<style scoped>\n",
       "    .dataframe tbody tr th:only-of-type {\n",
       "        vertical-align: middle;\n",
       "    }\n",
       "\n",
       "    .dataframe tbody tr th {\n",
       "        vertical-align: top;\n",
       "    }\n",
       "\n",
       "    .dataframe thead th {\n",
       "        text-align: right;\n",
       "    }\n",
       "</style>\n",
       "<table border=\"1\" class=\"dataframe\">\n",
       "  <thead>\n",
       "    <tr style=\"text-align: right;\">\n",
       "      <th></th>\n",
       "      <th>number</th>\n",
       "      <th>value</th>\n",
       "      <th>datetime_start</th>\n",
       "      <th>datetime_complete</th>\n",
       "      <th>duration</th>\n",
       "      <th>params_alpha</th>\n",
       "      <th>params_colsample_bylevel</th>\n",
       "      <th>params_colsample_bynode</th>\n",
       "      <th>params_colsample_bytree</th>\n",
       "      <th>params_lambda</th>\n",
       "      <th>params_learning_rate</th>\n",
       "      <th>params_max_depth</th>\n",
       "      <th>params_n_estimators</th>\n",
       "      <th>params_subsample</th>\n",
       "      <th>state</th>\n",
       "    </tr>\n",
       "  </thead>\n",
       "  <tbody>\n",
       "    <tr>\n",
       "      <th>43</th>\n",
       "      <td>43</td>\n",
       "      <td>0.565716</td>\n",
       "      <td>2023-12-03 18:35:07.382519</td>\n",
       "      <td>2023-12-03 18:35:11.116799</td>\n",
       "      <td>0 days 00:00:03.734280</td>\n",
       "      <td>0.008210</td>\n",
       "      <td>0.8</td>\n",
       "      <td>0.6</td>\n",
       "      <td>0.7</td>\n",
       "      <td>0.847869</td>\n",
       "      <td>0.011113</td>\n",
       "      <td>3</td>\n",
       "      <td>2500</td>\n",
       "      <td>0.4</td>\n",
       "      <td>COMPLETE</td>\n",
       "    </tr>\n",
       "    <tr>\n",
       "      <th>44</th>\n",
       "      <td>44</td>\n",
       "      <td>0.567641</td>\n",
       "      <td>2023-12-03 18:35:11.117799</td>\n",
       "      <td>2023-12-03 18:35:13.983713</td>\n",
       "      <td>0 days 00:00:02.865914</td>\n",
       "      <td>0.012077</td>\n",
       "      <td>0.8</td>\n",
       "      <td>0.6</td>\n",
       "      <td>0.7</td>\n",
       "      <td>1.117005</td>\n",
       "      <td>0.012378</td>\n",
       "      <td>3</td>\n",
       "      <td>2500</td>\n",
       "      <td>0.5</td>\n",
       "      <td>COMPLETE</td>\n",
       "    </tr>\n",
       "    <tr>\n",
       "      <th>48</th>\n",
       "      <td>48</td>\n",
       "      <td>0.568373</td>\n",
       "      <td>2023-12-03 18:35:21.055585</td>\n",
       "      <td>2023-12-03 18:35:24.311438</td>\n",
       "      <td>0 days 00:00:03.255853</td>\n",
       "      <td>0.007574</td>\n",
       "      <td>0.8</td>\n",
       "      <td>0.8</td>\n",
       "      <td>0.7</td>\n",
       "      <td>0.335249</td>\n",
       "      <td>0.014696</td>\n",
       "      <td>4</td>\n",
       "      <td>2500</td>\n",
       "      <td>0.5</td>\n",
       "      <td>COMPLETE</td>\n",
       "    </tr>\n",
       "    <tr>\n",
       "      <th>10</th>\n",
       "      <td>10</td>\n",
       "      <td>0.569107</td>\n",
       "      <td>2023-12-03 18:30:51.229128</td>\n",
       "      <td>2023-12-03 18:30:52.515835</td>\n",
       "      <td>0 days 00:00:01.286707</td>\n",
       "      <td>0.001618</td>\n",
       "      <td>0.5</td>\n",
       "      <td>0.7</td>\n",
       "      <td>0.8</td>\n",
       "      <td>0.182090</td>\n",
       "      <td>0.042383</td>\n",
       "      <td>4</td>\n",
       "      <td>3000</td>\n",
       "      <td>0.4</td>\n",
       "      <td>COMPLETE</td>\n",
       "    </tr>\n",
       "    <tr>\n",
       "      <th>31</th>\n",
       "      <td>31</td>\n",
       "      <td>0.569438</td>\n",
       "      <td>2023-12-03 18:34:09.656816</td>\n",
       "      <td>2023-12-03 18:34:13.366143</td>\n",
       "      <td>0 days 00:00:03.709327</td>\n",
       "      <td>0.005063</td>\n",
       "      <td>0.9</td>\n",
       "      <td>0.5</td>\n",
       "      <td>0.9</td>\n",
       "      <td>0.753512</td>\n",
       "      <td>0.007619</td>\n",
       "      <td>3</td>\n",
       "      <td>3000</td>\n",
       "      <td>0.4</td>\n",
       "      <td>COMPLETE</td>\n",
       "    </tr>\n",
       "  </tbody>\n",
       "</table>\n",
       "</div>"
      ],
      "text/plain": [
       "    number     value             datetime_start          datetime_complete  \\\n",
       "43      43  0.565716 2023-12-03 18:35:07.382519 2023-12-03 18:35:11.116799   \n",
       "44      44  0.567641 2023-12-03 18:35:11.117799 2023-12-03 18:35:13.983713   \n",
       "48      48  0.568373 2023-12-03 18:35:21.055585 2023-12-03 18:35:24.311438   \n",
       "10      10  0.569107 2023-12-03 18:30:51.229128 2023-12-03 18:30:52.515835   \n",
       "31      31  0.569438 2023-12-03 18:34:09.656816 2023-12-03 18:34:13.366143   \n",
       "\n",
       "                 duration  params_alpha  params_colsample_bylevel  \\\n",
       "43 0 days 00:00:03.734280      0.008210                       0.8   \n",
       "44 0 days 00:00:02.865914      0.012077                       0.8   \n",
       "48 0 days 00:00:03.255853      0.007574                       0.8   \n",
       "10 0 days 00:00:01.286707      0.001618                       0.5   \n",
       "31 0 days 00:00:03.709327      0.005063                       0.9   \n",
       "\n",
       "    params_colsample_bynode  params_colsample_bytree  params_lambda  \\\n",
       "43                      0.6                      0.7       0.847869   \n",
       "44                      0.6                      0.7       1.117005   \n",
       "48                      0.8                      0.7       0.335249   \n",
       "10                      0.7                      0.8       0.182090   \n",
       "31                      0.5                      0.9       0.753512   \n",
       "\n",
       "    params_learning_rate  params_max_depth  params_n_estimators  \\\n",
       "43              0.011113                 3                 2500   \n",
       "44              0.012378                 3                 2500   \n",
       "48              0.014696                 4                 2500   \n",
       "10              0.042383                 4                 3000   \n",
       "31              0.007619                 3                 3000   \n",
       "\n",
       "    params_subsample     state  \n",
       "43               0.4  COMPLETE  \n",
       "44               0.5  COMPLETE  \n",
       "48               0.5  COMPLETE  \n",
       "10               0.4  COMPLETE  \n",
       "31               0.4  COMPLETE  "
      ]
     },
     "execution_count": 35,
     "metadata": {},
     "output_type": "execute_result"
    }
   ],
   "source": [
    "study.trials_dataframe().sort_values(by='value', ascending=True).head()"
   ]
  },
  {
   "cell_type": "markdown",
   "metadata": {},
   "source": [
    "## Use best params"
   ]
  },
  {
   "cell_type": "code",
   "execution_count": 37,
   "metadata": {},
   "outputs": [
    {
     "name": "stdout",
     "output_type": "stream",
     "text": [
      "{'lambda': 0.8478693470969416, 'alpha': 0.008209636821029959, 'colsample_bytree': 0.7, 'colsample_bynode': 0.6, 'colsample_bylevel': 0.8, 'subsample': 0.4, 'learning_rate': 0.01111345503114425, 'n_estimators': 2500, 'max_depth': 3}\n"
     ]
    }
   ],
   "source": [
    "best_trial = study.best_trial.params\n",
    "print(best_trial)"
   ]
  },
  {
   "cell_type": "code",
   "execution_count": 38,
   "metadata": {},
   "outputs": [],
   "source": [
    "OOF_PREDS = np.zeros((len(train_feats), 2))\n",
    "# TEST_PREDS = np.zeros((len(test_feats), 2))"
   ]
  },
  {
   "cell_type": "code",
   "execution_count": 42,
   "metadata": {},
   "outputs": [],
   "source": [
    "models_dict = {}\n",
    "scores = []\n",
    "preds_dict = {}\n",
    "count = 0\n",
    "for _ in train_logs_df['id'].unique():\n",
    "    preds_dict[count] = []\n",
    "    count+=1\n",
    "\n",
    "# test_predict_list = []\n",
    "\n",
    "for i in range(5): \n",
    "    kf = model_selection.KFold(n_splits=10, random_state=42 + i, shuffle=True)\n",
    "    oof_valid_preds = np.zeros(train_feats.shape[0])\n",
    "    # X_test = test_feats[train_cols]\n",
    "    for fold, (train_idx, valid_idx) in enumerate(kf.split(train_feats)):\n",
    "        \n",
    "        X_train, y_train = train_feats.iloc[train_idx][train_cols], train_feats.iloc[train_idx][target_col]\n",
    "        X_valid, y_valid = train_feats.iloc[valid_idx][train_cols], train_feats.iloc[valid_idx][target_col]\n",
    "\n",
    "        best_params = {\n",
    "            'tree_method':'hist',\n",
    "            'objective': 'reg:squarederror',\n",
    "            'eval_metric': ['rmse'],\n",
    "            'seed': 42,\n",
    "            'nthread': -1,\n",
    "            'early_stopping_rounds': 50,\n",
    "            **best_trial\n",
    "        }\n",
    "        \n",
    "        model = xgb.XGBRegressor(**best_params)\n",
    "        \n",
    "        model.fit(X_train,y_train, eval_set=[(X_valid,y_valid)], verbose=False)\n",
    "\n",
    "        valid_predict = model.predict(X_valid)\n",
    "\n",
    "        for count, idx in enumerate(valid_idx):\n",
    "            preds_dict[idx].append(valid_predict[count])\n",
    "\n",
    "        oof_valid_preds[valid_idx] = valid_predict\n",
    "        # OOF_PREDS[valid_idx, 0] += valid_predict / 5\n",
    "        OOF_PREDS[valid_idx, 0] = valid_predict \n",
    "\n",
    "\n",
    "        # test_predict = model.predict(X_test)\n",
    "        # TEST_PREDS[:, 0] += test_predict / 5 / 10\n",
    "        # test_predict_list.append(test_predict)\n",
    "        score = metrics.mean_squared_error(y_valid, valid_predict, squared=False)\n",
    "        models_dict[f'{fold}_{i}'] = model\n",
    "\n",
    "    oof_score = metrics.mean_squared_error(train_feats[target_col], oof_valid_preds, squared=False)\n",
    "    scores.append(oof_score)"
   ]
  },
  {
   "cell_type": "code",
   "execution_count": 43,
   "metadata": {},
   "outputs": [],
   "source": [
    "means = []\n",
    "stds = []\n",
    "\n",
    "for idx in preds_dict:\n",
    "    means.append(np.mean(preds_dict[idx]))\n",
    "    stds.append(np.std(preds_dict[idx]))"
   ]
  },
  {
   "cell_type": "code",
   "execution_count": 45,
   "metadata": {},
   "outputs": [
    {
     "name": "stdout",
     "output_type": "stream",
     "text": [
      "OOF metric XGB = 0.61118\n"
     ]
    }
   ],
   "source": [
    "print('OOF metric XGB = {:.5f}'.format(metrics.mean_squared_error(train_feats[target_col], \n",
    "                                                                   means,\n",
    "                                                                   squared=False)))"
   ]
  },
  {
   "cell_type": "code",
   "execution_count": 46,
   "metadata": {},
   "outputs": [],
   "source": [
    "def add_identity(axes, *line_args, **line_kwargs):\n",
    "    identity, = axes.plot([], [], *line_args, **line_kwargs)\n",
    "    def callback(axes):\n",
    "        low_x, high_x = axes.get_xlim()\n",
    "        low_y, high_y = axes.get_ylim()\n",
    "        low = max(low_x, low_y)\n",
    "        high = min(high_x, high_y)\n",
    "        identity.set_data([low, high], [low, high])\n",
    "    callback(axes)\n",
    "    axes.callbacks.connect('xlim_changed', callback)\n",
    "    axes.callbacks.connect('ylim_changed', callback)\n",
    "    return axes"
   ]
  },
  {
   "cell_type": "code",
   "execution_count": 47,
   "metadata": {},
   "outputs": [],
   "source": [
    "import math\n",
    "def round_to_half(numbers, round_up=False):\n",
    "    if round_up:\n",
    "        return [round(num * 2) / 2 for num in numbers]\n",
    "    else:\n",
    "        return [math.floor(num * 2) / 2 for num in numbers]"
   ]
  },
  {
   "cell_type": "code",
   "execution_count": 48,
   "metadata": {},
   "outputs": [
    {
     "data": {
      "image/png": "[encoded data removed]",
      "text/plain": [
       "<Figure size 600x600 with 1 Axes>"
      ]
     },
     "metadata": {},
     "output_type": "display_data"
    }
   ],
   "source": [
    "f, ax = plt.subplots(figsize=(6, 6))\n",
    "ax.scatter(means, train_scores_df['score'])\n",
    "add_identity(ax, color='r', ls='--')\n",
    "# ax.scatter(stds, train_scores_df['score']-means)\n",
    "plt.ylabel('True Values')\n",
    "plt.xlabel('Predictions')\n",
    "\n",
    "plt.show()"
   ]
  },
  {
   "cell_type": "code",
   "execution_count": 49,
   "metadata": {},
   "outputs": [
    {
     "data": {
      "text/plain": [
       "(array([216., 843., 760., 399., 162.,  62.,  14.,  10.,   3.,   2.]),\n",
       " array([0.00452803, 0.02276749, 0.04100695, 0.05924641, 0.07748587,\n",
       "        0.09572532, 0.11396478, 0.13220423, 0.15044369, 0.16868316,\n",
       "        0.18692261]),\n",
       " <BarContainer object of 10 artists>)"
      ]
     },
     "execution_count": 49,
     "metadata": {},
     "output_type": "execute_result"
    },
    {
     "data": {
      "image/png": "[encoded data removed]",
      "text/plain": [
       "<Figure size 640x480 with 1 Axes>"
      ]
     },
     "metadata": {},
     "output_type": "display_data"
    }
   ],
   "source": [
    "plt.hist(stds)"
   ]
  },
  {
   "cell_type": "code",
   "execution_count": null,
   "metadata": {},
   "outputs": [],
   "source": [
    "valid_predict[0]"
   ]
  },
  {
   "cell_type": "code",
   "execution_count": null,
   "metadata": {},
   "outputs": [],
   "source": [
    "X_valid"
   ]
  }
 ],
 "metadata": {
  "kernelspec": {
   "display_name": "Python 3",
   "language": "python",
   "name": "python3"
  },
  "language_info": {
   "codemirror_mode": {
    "name": "ipython",
    "version": 3
   },
   "file_extension": ".py",
   "mimetype": "text/x-python",
   "name": "python",
   "nbconvert_exporter": "python",
   "pygments_lexer": "ipython3",
   "version": "3.10.5"
  }
 },
 "nbformat": 4,
 "nbformat_minor": 2
}
