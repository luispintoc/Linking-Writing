{
 "cells": [
  {
   "cell_type": "code",
   "execution_count": 1,
   "metadata": {},
   "outputs": [],
   "source": [
    "import gc\n",
    "import os\n",
    "import itertools\n",
    "import pickle\n",
    "import re\n",
    "import time\n",
    "from random import choice, choices\n",
    "from functools import reduce\n",
    "from tqdm import tqdm\n",
    "from itertools import cycle\n",
    "import numpy as np\n",
    "import pandas as pd\n",
    "import seaborn as sns\n",
    "import matplotlib.pyplot as plt\n",
    "from collections import Counter\n",
    "from functools import reduce\n",
    "from itertools import cycle\n",
    "from scipy import stats\n",
    "from scipy.stats import skew, kurtosis\n",
    "from sklearn import metrics, model_selection, preprocessing, linear_model, ensemble, decomposition, tree\n",
    "import lightgbm as lgb\n",
    "import optuna\n",
    "from sklearn.metrics import mean_squared_error\n",
    "from sklearn.model_selection import train_test_split\n",
    "from sklearn.svm import SVR\n",
    "from sklearn.preprocessing import MinMaxScaler\n",
    "from sklearn.impute import SimpleImputer\n",
    "\n",
    "\n",
    "import sys\n",
    "sys.path.append('../../')\n",
    "from utils import *"
   ]
  },
  {
   "cell_type": "markdown",
   "metadata": {},
   "source": [
    "## Prepro: change names to numbers"
   ]
  },
  {
   "cell_type": "code",
   "execution_count": 2,
   "metadata": {},
   "outputs": [],
   "source": [
    "train_feats = pd.read_csv('../../3_feature_eng/output/train_feats_double_corr.csv')\n",
    "train_score = pd.read_csv('../../0_data/train_scores.csv')\n",
    "\n",
    "# train_feats_first10min = pd.read_csv('../../feature_eng/output/train_double_corr_first_10min_786feats.csv')\n",
    "# train_feats_second10min = pd.read_csv('../../feature_eng/output/train_double_corr_second_10min_786feats.csv')\n",
    "# train_feats = train_feats.merge(train_feats_first10min, on='id', how='left')\n",
    "# train_feats = train_feats.merge(train_feats_second10min, on='id', how='left')\n",
    "\n",
    "if 'score' not in train_feats.columns:\n",
    "    train_feats = pd.merge(train_feats, train_score, on='id', how='left')\n",
    "\n",
    "train_feats.replace([np.inf, -np.inf], np.nan, inplace=True)\n",
    "train_feats = train_feats[~train_feats['id'].isin(['3e10785d'])]\n",
    "cols = train_feats.columns\n",
    "\n",
    "from sklearn.preprocessing import LabelEncoder\n",
    "le = LabelEncoder()\n",
    "le.fit(train_feats['score'])\n",
    "\n",
    "score_transformed = le.transform(train_feats['score'])"
   ]
  },
  {
   "cell_type": "markdown",
   "metadata": {},
   "source": [
    "## Keep columns"
   ]
  },
  {
   "cell_type": "code",
   "execution_count": 3,
   "metadata": {},
   "outputs": [
    {
     "name": "stdout",
     "output_type": "stream",
     "text": [
      "607\n"
     ]
    }
   ],
   "source": [
    "# Options:\n",
    "# \"count_bursts\", \"word_sent_parag_agg\", \"pressed_keys\", \"paussed_features\"\n",
    "# \"segments_visit\", \"paragraph_ratios\", \"time_gaps\", \"cursor_word_changes\"\n",
    "# \"punctuation\", \"key_mouse\", \"time_feat\", \"fft\", \"avg_event_per_minute\",\n",
    "# \"avg_char_deletion_per_minute\", \"avg_char_insert_per_minute\"\n",
    "# \"IKI_word\", \"IKI_sentence\", \"IKI_paragraph\", \"latencies\"\n",
    "# \"IWD\", \"idle\", \"cursor_visits\"\n",
    "# \"intro_punctuation\", \"body_punctuation\", \"conclusion_punctuation\"\n",
    "# \"intro_aggs\", \"body_aggs\", \"conclusion_aggs\", \"IKI_actual\"\n",
    "# \"bursts_v2\"\n",
    "\n",
    "endings_to_keep = [\"count_bursts\", \"word_sent_parag_agg\", \"intro_punctuation\", \"body_punctuation\", \"conclusion_punctuation\", \"paussed_features\",\n",
    "\"intro_aggs\", \"body_aggs\", \"conclusion_aggs\", \"time_feat\", \"cursor_visits\", \"IWD\", 'cursor_extra', \"counts_v2\", \"pressed_keys\", \"time_gaps\",\n",
    "\"IKI_word\", \"IKI_actual\"]\n",
    "endings_to_keep += [\"id\"]\n",
    "\n",
    "dir_to_save = \"svr30\"\n",
    "stratification = True\n",
    "n_jobs = 4\n",
    "noise = False\n",
    "data_augmentation = False\n",
    "\n",
    "try:\n",
    "    os.mkdir(dir_to_save)\n",
    "except:\n",
    "    print('Already exists')\n",
    "    sys.exit()\n",
    "\n",
    "# cols_to_keep = [col for col in train_feats.columns if col.endswith(tuple(endings_to_keep)) or col in ['id', 'score']]\n",
    "cols_to_keep = [col for col in train_feats.columns if any(ending in col for ending in endings_to_keep) or col in ['id', 'score']]\n",
    "# cols_to_keep = manual_list + ['id', 'score']\n",
    "\n",
    "with open(f'{dir_to_save}/feature_list.pkl', 'wb') as f:\n",
    "    pickle.dump(cols_to_keep, f)\n",
    "\n",
    "train_feats = train_feats[cols_to_keep]\n",
    "print(len(train_feats.columns)-2)"
   ]
  },
  {
   "cell_type": "code",
   "execution_count": 4,
   "metadata": {},
   "outputs": [],
   "source": [
    "counter = 0\n",
    "new_columns = {}\n",
    "for col in cols:\n",
    "    if col != 'id' and col != 'score':\n",
    "        new_columns[col] = counter\n",
    "        counter += 1\n",
    "\n",
    "train_feats.rename(columns=new_columns, inplace=True)\n",
    "\n",
    "with open(f'{dir_to_save}/new_col_dict.pkl', 'wb') as f:\n",
    "    pickle.dump(new_columns, f)"
   ]
  },
  {
   "cell_type": "code",
   "execution_count": 5,
   "metadata": {},
   "outputs": [],
   "source": [
    "target_col = ['score']\n",
    "drop_cols = ['id']\n",
    "train_cols = [col for col in train_feats.columns if col not in target_col + drop_cols]"
   ]
  },
  {
   "cell_type": "code",
   "execution_count": 6,
   "metadata": {},
   "outputs": [],
   "source": [
    "def data_augmentation(x, y, pct=0.75, scale=0.05):\n",
    "    # Determine the number of rows to create\n",
    "    num_rows = x.shape[0]\n",
    "    num_new_rows = int(num_rows * pct)\n",
    "\n",
    "    # Randomly select rows from the original array\n",
    "    indices = np.random.choice(np.arange(num_rows), size=num_new_rows)\n",
    "    new_rows_x = x[indices]\n",
    "\n",
    "    # Add Gaussian noise to each numerical column\n",
    "    for col in range(new_rows_x.shape[1]):\n",
    "        noise = np.random.normal(loc=0.0, scale=scale, size=num_new_rows)\n",
    "        new_rows_x[:, col] += new_rows_x[:, col] * noise\n",
    "\n",
    "    # Append the new rows to the original array\n",
    "    x = np.concatenate([x, new_rows_x])\n",
    "\n",
    "    # Do the same for y\n",
    "    y = y.reset_index(drop=True)\n",
    "    new_rows_y = y.loc[indices]\n",
    "    y = pd.concat([y, new_rows_y], ignore_index=True)\n",
    "\n",
    "    return x, y"
   ]
  },
  {
   "cell_type": "code",
   "execution_count": 7,
   "metadata": {},
   "outputs": [],
   "source": [
    "def svr_calc_OOF(x_train, y_train, x_valid, noise=False, data_augmentation=False):\n",
    "        \n",
    "    imputer = SimpleImputer(strategy='median')\n",
    "    scaler = MinMaxScaler(feature_range=(-1, 1))\n",
    "\n",
    "    x_train = imputer.fit_transform(x_train)\n",
    "    x_train = scaler.fit_transform(x_train)\n",
    "\n",
    "    x_valid = imputer.transform(x_valid)\n",
    "    x_valid = scaler.transform(x_valid)\n",
    "\n",
    "    if data_augmentation:\n",
    "        x_train, y_train = data_augmentation(x_train, y_train, pct=0.75, scale=0.05)\n",
    "    if noise:\n",
    "        y_train = y_train + np.random.normal(0, 0.25, y_train.shape)\n",
    "    y_train = np.maximum(y_train, 1)\n",
    "    y_train = np.minimum(y_train, 5.5)\n",
    "    model = SVR(kernel='rbf', C=0.1, epsilon=0.1)\n",
    "    \n",
    "    model.fit(x_train, y_train.values.ravel())\n",
    "\n",
    "    valid_predict = model.predict(x_valid)\n",
    "\n",
    "    # Return OOFs\n",
    "    return valid_predict"
   ]
  },
  {
   "cell_type": "code",
   "execution_count": 8,
   "metadata": {},
   "outputs": [
    {
     "name": "stderr",
     "output_type": "stream",
     "text": [
      "c:\\Users\\luis.pinto1\\AppData\\Local\\Programs\\Python\\Python310\\lib\\site-packages\\sklearn\\model_selection\\_split.py:700: UserWarning: The least populated class in y has only 5 members, which is less than n_splits=10.\n",
      "  warnings.warn(\n",
      "c:\\Users\\luis.pinto1\\AppData\\Local\\Programs\\Python\\Python310\\lib\\site-packages\\sklearn\\model_selection\\_split.py:700: UserWarning: The least populated class in y has only 5 members, which is less than n_splits=10.\n",
      "  warnings.warn(\n",
      "c:\\Users\\luis.pinto1\\AppData\\Local\\Programs\\Python\\Python310\\lib\\site-packages\\sklearn\\model_selection\\_split.py:700: UserWarning: The least populated class in y has only 5 members, which is less than n_splits=10.\n",
      "  warnings.warn(\n",
      "c:\\Users\\luis.pinto1\\AppData\\Local\\Programs\\Python\\Python310\\lib\\site-packages\\sklearn\\model_selection\\_split.py:700: UserWarning: The least populated class in y has only 5 members, which is less than n_splits=10.\n",
      "  warnings.warn(\n",
      "c:\\Users\\luis.pinto1\\AppData\\Local\\Programs\\Python\\Python310\\lib\\site-packages\\sklearn\\model_selection\\_split.py:700: UserWarning: The least populated class in y has only 5 members, which is less than n_splits=10.\n",
      "  warnings.warn(\n"
     ]
    }
   ],
   "source": [
    "OOF_SCORE = np.zeros(len(train_feats))\n",
    "\n",
    "models_dict = {}\n",
    "preds_dict = {}\n",
    "count = 0\n",
    "for _ in train_feats['id'].unique():\n",
    "    preds_dict[count] = []\n",
    "    count+=1\n",
    "\n",
    "iterations = 5\n",
    "n_splits = 10\n",
    "\n",
    "for i in range(iterations):\n",
    "\n",
    "    if stratification:\n",
    "        kf = model_selection.StratifiedKFold(n_splits=n_splits, random_state=41 + i, shuffle=True)\n",
    "        j = 0\n",
    "        for fold, (train_idx, valid_idx) in enumerate(kf.split(train_feats, score_transformed)):\n",
    "            \n",
    "            X_train, y_train = train_feats.iloc[train_idx][train_cols], train_feats.iloc[train_idx][target_col]\n",
    "            X_valid, y_valid = train_feats.iloc[valid_idx][train_cols], train_feats.iloc[valid_idx][target_col]\n",
    "\n",
    "            valid_predict = svr_calc_OOF(X_train, y_train, X_valid, noise=noise, data_augmentation=data_augmentation)\n",
    "\n",
    "            OOF_SCORE[valid_idx] += valid_predict / iterations\n",
    "            j+=1\n",
    "\n",
    "    else:\n",
    "        kf = model_selection.KFold(n_splits=n_splits, random_state=41 + i, shuffle=True)\n",
    "        j = 0\n",
    "        for fold, (train_idx, valid_idx) in enumerate(kf.split(train_feats)):\n",
    "            \n",
    "            X_train, y_train = train_feats.iloc[train_idx][train_cols], train_feats.iloc[train_idx][target_col]\n",
    "            X_valid, y_valid = train_feats.iloc[valid_idx][train_cols], train_feats.iloc[valid_idx][target_col]\n",
    "\n",
    "            valid_predict = svr_calc_OOF(X_train, y_train, X_valid, noise=noise, data_augmentation=data_augmentation)\n",
    "\n",
    "            OOF_SCORE[valid_idx] += valid_predict / iterations\n",
    "            j+=1"
   ]
  },
  {
   "cell_type": "code",
   "execution_count": 9,
   "metadata": {},
   "outputs": [
    {
     "name": "stdout",
     "output_type": "stream",
     "text": [
      "OOF metric SVR = 0.65245\n"
     ]
    }
   ],
   "source": [
    "print('OOF metric SVR = {:.5f}'.format(metrics.mean_squared_error(train_feats[target_col], \n",
    "                                                                   OOF_SCORE,\n",
    "                                                                   squared=False)))"
   ]
  },
  {
   "cell_type": "code",
   "execution_count": 10,
   "metadata": {},
   "outputs": [],
   "source": [
    "import pickle\n",
    "\n",
    "with open(f'{dir_to_save}/OOF_base_svr.pkl', 'wb') as f:\n",
    "    pickle.dump(OOF_SCORE, f)"
   ]
  },
  {
   "cell_type": "code",
   "execution_count": 11,
   "metadata": {},
   "outputs": [
    {
     "data": {
      "image/png": "[encoded data removed]",
      "text/plain": [
       "<Figure size 600x600 with 1 Axes>"
      ]
     },
     "metadata": {},
     "output_type": "display_data"
    }
   ],
   "source": [
    "f, ax = plt.subplots(figsize=(6, 6))\n",
    "ax.scatter(OOF_SCORE, train_feats['score'])\n",
    "add_identity(ax, color='r', ls='--')\n",
    "# ax.scatter(stds, train_scores_df['score']-means)\n",
    "plt.ylabel('True Values')\n",
    "plt.xlabel('Predictions')\n",
    "\n",
    "plt.show()"
   ]
  },
  {
   "cell_type": "code",
   "execution_count": null,
   "metadata": {},
   "outputs": [],
   "source": []
  }
 ],
 "metadata": {
  "kernelspec": {
   "display_name": "Python 3",
   "language": "python",
   "name": "python3"
  },
  "language_info": {
   "codemirror_mode": {
    "name": "ipython",
    "version": 3
   },
   "file_extension": ".py",
   "mimetype": "text/x-python",
   "name": "python",
   "nbconvert_exporter": "python",
   "pygments_lexer": "ipython3",
   "version": "3.10.5"
  }
 },
 "nbformat": 4,
 "nbformat_minor": 2
}
