{
 "cells": [
  {
   "cell_type": "code",
   "execution_count": 1,
   "metadata": {},
   "outputs": [],
   "source": [
    "import gc\n",
    "import os\n",
    "import itertools\n",
    "import pickle\n",
    "import re\n",
    "import time\n",
    "from random import choice, choices\n",
    "from functools import reduce\n",
    "from tqdm import tqdm\n",
    "from itertools import cycle\n",
    "import numpy as np\n",
    "import pandas as pd\n",
    "import seaborn as sns\n",
    "import matplotlib.pyplot as plt\n",
    "from collections import Counter\n",
    "from functools import reduce\n",
    "from itertools import cycle\n",
    "from scipy import stats\n",
    "from scipy.stats import skew, kurtosis\n",
    "from sklearn import metrics, model_selection, preprocessing, linear_model, ensemble, decomposition, tree\n",
    "import lightgbm as lgb\n",
    "import optuna\n",
    "from sklearn.metrics import mean_squared_error\n",
    "from sklearn.model_selection import train_test_split\n",
    "\n",
    "\n",
    "import sys\n",
    "sys.path.append('../../')\n",
    "from utils import *"
   ]
  },
  {
   "cell_type": "markdown",
   "metadata": {},
   "source": [
    "## Prepro: change names to numbers"
   ]
  },
  {
   "cell_type": "code",
   "execution_count": 2,
   "metadata": {},
   "outputs": [],
   "source": [
    "train_feats = pd.read_csv('../../3_feature_eng/output/train_feats_double_corr.csv')\n",
    "train_score = pd.read_csv('../../0_data/train_scores.csv')\n",
    "\n",
    "if 'score' not in train_feats.columns:\n",
    "    train_feats = pd.merge(train_feats, train_score, on='id', how='left')\n",
    "\n",
    "train_feats = train_feats[~train_feats['id'].isin(['3e10785d'])]\n",
    "train_feats.replace([np.inf, -np.inf], np.nan, inplace=True)\n",
    "cols = train_feats.columns\n",
    "\n",
    "from sklearn.preprocessing import LabelEncoder\n",
    "le = LabelEncoder()\n",
    "le.fit(train_feats['score'])\n",
    "\n",
    "score_transformed = le.transform(train_feats['score'])"
   ]
  },
  {
   "cell_type": "markdown",
   "metadata": {},
   "source": [
    "## Keep columns"
   ]
  },
  {
   "cell_type": "code",
   "execution_count": 3,
   "metadata": {},
   "outputs": [
    {
     "name": "stdout",
     "output_type": "stream",
     "text": [
      "607\n"
     ]
    }
   ],
   "source": [
    "# Options:\n",
    "# \"count_bursts\", \"word_sent_parag_agg\", \"pressed_keys\", \"paussed_features\"\n",
    "# \"segments_visit\", \"paragraph_ratios\", \"time_gaps\", \"cursor_word_changes\"\n",
    "# \"punctuation\", \"key_mouse\", \"time_feat\", \"fft\", \"avg_event_per_minute\",\n",
    "# \"avg_char_deletion_per_minute\", \"avg_char_insert_per_minute\"\n",
    "# \"IKI_word\", \"IKI_sentence\", \"IKI_paragraph\", \"latencies\"\n",
    "# \"IWD\", \"idle\", \"cursor_visits\"\n",
    "# \"intro_punctuation\", \"body_punctuation\", \"conclusion_punctuation\"\n",
    "# \"intro_aggs\", \"body_aggs\", \"conclusion_aggs\", \"IKI_actual\"\n",
    "# \"bursts_v2\", \"cursor_extra\", \"counts_v2\"\n",
    "\n",
    "\n",
    "\n",
    "\n",
    "endings_to_keep = [\"count_bursts\", \"word_sent_parag_agg\", \"intro_punctuation\", \"body_punctuation\", \"conclusion_punctuation\", \"paussed_features\",\n",
    "\"intro_aggs\", \"body_aggs\", \"conclusion_aggs\", \"time_feat\", \"cursor_visits\", \"IWD\", 'cursor_extra', \"counts_v2\", \"pressed_keys\", \"time_gaps\",\n",
    "\"IKI_word\", \"IKI_actual\"]\n",
    "endings_to_keep += [\"id\"]\n",
    "\n",
    "\n",
    "\n",
    "\n",
    "dir_to_save = \"lgb24\"\n",
    "stratification = True\n",
    "n_jobs = -1\n",
    "noise = True\n",
    "data_augmentation = False\n",
    "\n",
    "iterations = 1\n",
    "n_splits = 3\n",
    "\n",
    "\n",
    "try:\n",
    "    os.mkdir(dir_to_save)\n",
    "except:\n",
    "    print('Already exists')\n",
    "    sys.exit()\n",
    "\n",
    "# cols_to_keep = [col for col in train_feats.columns if col.endswith(tuple(endings_to_keep)) or col in ['id', 'score']]\n",
    "cols_to_keep = [col for col in train_feats.columns if any(ending in col for ending in endings_to_keep) or col in ['id', 'score']]\n",
    "# cols_to_keep = manual_list + ['id', 'score']\n",
    "\n",
    "with open(f'{dir_to_save}/feature_list.pkl', 'wb') as f:\n",
    "    pickle.dump(cols_to_keep, f)\n",
    "\n",
    "train_feats = train_feats[cols_to_keep]\n",
    "print(len(train_feats.columns)-2)"
   ]
  },
  {
   "cell_type": "code",
   "execution_count": 4,
   "metadata": {},
   "outputs": [],
   "source": [
    "counter = 0\n",
    "new_columns = {}\n",
    "for col in cols:\n",
    "    if col != 'id' and col != 'score':\n",
    "        new_columns[col] = counter\n",
    "        counter += 1\n",
    "\n",
    "train_feats.rename(columns=new_columns, inplace=True)"
   ]
  },
  {
   "cell_type": "code",
   "execution_count": 5,
   "metadata": {},
   "outputs": [],
   "source": [
    "with open(f'{dir_to_save}/new_col_dict.pkl', 'wb') as f:\n",
    "    pickle.dump(new_columns, f)"
   ]
  },
  {
   "cell_type": "code",
   "execution_count": 6,
   "metadata": {},
   "outputs": [],
   "source": [
    "target_col = ['score']\n",
    "drop_cols = ['id']\n",
    "train_cols = [col for col in train_feats.columns if col not in target_col + drop_cols]"
   ]
  },
  {
   "cell_type": "code",
   "execution_count": 7,
   "metadata": {},
   "outputs": [],
   "source": [
    "def data_augmentation(x, y, pct=0.75, scale=0.05):\n",
    "    # Determine the number of rows to create\n",
    "    num_rows = x.shape[0]\n",
    "    num_new_rows = int(num_rows * pct)\n",
    "\n",
    "    # Randomly select rows from the original DataFrame\n",
    "    indices = np.random.choice(x.index, size=num_new_rows)\n",
    "    new_rows_x = x.loc[indices]\n",
    "\n",
    "    # Add Gaussian noise to each numerical column\n",
    "    for col in new_rows_x.select_dtypes(include=[np.number]).columns:\n",
    "        noise = np.random.normal(loc=0.0, scale=scale, size=num_new_rows)\n",
    "        new_rows_x[col] += new_rows_x[col] * noise\n",
    "\n",
    "    # Append the new rows to the original DataFrame\n",
    "    x = pd.concat([x, new_rows_x], ignore_index=True)\n",
    "\n",
    "    # Do the same for y\n",
    "    new_rows_y = y.loc[indices]\n",
    "    y = pd.concat([y, new_rows_y], ignore_index=True)\n",
    "\n",
    "    return x, y"
   ]
  },
  {
   "cell_type": "code",
   "execution_count": 8,
   "metadata": {},
   "outputs": [],
   "source": [
    "def objective(trial,train_x,train_y,val_x,val_y,RANDOM_STATE=41, data_augmentation=False, noise=True):\n",
    "\n",
    "    params = {\n",
    "        'reg_lambda': trial.suggest_float('reg_lambda', 1e-4, 10.0, log=True),\n",
    "        'reg_alpha': trial.suggest_float('reg_alpha', 1e-4, 10.0, log=True),\n",
    "        'colsample_bytree': trial.suggest_float('colsample_bytree', 0.5, 1), #trial.suggest_categorical('colsample_bytree', [0.4,0.7,1.0]),\n",
    "        'colsample_bynode': trial.suggest_float('colsample_bynode', 0.5, 1), #trial.suggest_categorical('colsample_bynode', [0.4,0.7,1.0]),\n",
    "        'subsample': trial.suggest_float('subsample', 0.5, 1),# trial.suggest_categorical('subsample', [0.4,0.7,1.0]),\n",
    "        'learning_rate': trial.suggest_float('learning_rate', 1e-4, 5e-2, log=True), #trial.suggest_categorical('learning_rate', [0.008,0.01,0.012,0.014,0.016,0.018, 0.02]),\n",
    "        'max_depth': trial.suggest_categorical('max_depth', [5,7,9,11,13,15,17]),\n",
    "        'min_child_samples': trial.suggest_categorical('min_child_samples', [7,9,11,13,15,17,20]),\n",
    "        'num_leaves': trial.suggest_int('num_leaves', 9, 30, step=3),\n",
    "        'n_estimators': trial.suggest_int('n_estimators', 100, 1400, step=100),\n",
    "    }\n",
    "\n",
    "    all_params = {\n",
    "        \"objective\": \"rmse\",\n",
    "        \"metric\": \"rmse\",\n",
    "        'random_state': RANDOM_STATE,\n",
    "        \"verbosity\": -1,\n",
    "        \"n_jobs\": n_jobs,\n",
    "        **params\n",
    "    }\n",
    "\n",
    "    model = lgb.LGBMRegressor(**all_params)\n",
    "\n",
    "    if data_augmentation:\n",
    "        train_x, train_y = data_augmentation(train_x, train_y, pct=0.75, scale=0.05)\n",
    "    if noise:\n",
    "        y_train = y_train + np.random.normal(0, 0.25, y_train.shape)\n",
    "\n",
    "    model.fit(train_x, train_y)\n",
    "    \n",
    "    preds = model.predict(val_x)\n",
    "    \n",
    "    rmse = mean_squared_error(val_y, preds, squared=False)\n",
    "    \n",
    "    return rmse"
   ]
  },
  {
   "cell_type": "code",
   "execution_count": 9,
   "metadata": {},
   "outputs": [],
   "source": [
    "def lgb_calc_OOF(x_train, y_train, x_valid, y_valid, iter, split, RANDOM_STATE=42, noise=False, data_augmentation=False):\n",
    "    # split into two validations\n",
    "    x_valid1, x_valid2, y_valid1, y_valid2 = train_test_split(x_valid, y_valid, test_size=0.5, random_state=RANDOM_STATE, shuffle=False)\n",
    "\n",
    "    '''Use v1, test on v2'''\n",
    "\n",
    "    # Bayesian Opt using v1\n",
    "    study = optuna.create_study(direction='minimize')\n",
    "    study.optimize(lambda trial: objective(trial, x_train, y_train, x_valid1, y_valid1,RANDOM_STATE,data_augmentation), n_trials=15)\n",
    "    best_trial1 = study.best_trial.params\n",
    "\n",
    "    # Get best params\n",
    "    best_params = {\n",
    "        \"objective\": \"rmse\",\n",
    "        \"metric\": \"rmse\",\n",
    "        'random_state': RANDOM_STATE,\n",
    "        \"verbosity\": -1,\n",
    "        \"n_jobs\": n_jobs,\n",
    "        **best_trial1\n",
    "    }\n",
    "        \n",
    "    model = lgb.LGBMRegressor(**best_params)\n",
    "    if data_augmentation:\n",
    "        x_train, y_train = data_augmentation(x_train, y_train, pct=0.75, scale=0.05)\n",
    "    if noise:\n",
    "        y_train = y_train + np.random.normal(0, 0.25, y_train.shape)\n",
    "    model.fit(x_train, y_train)\n",
    "    model.booster_.save_model(f'./{dir_to_save}/lgb_iter{iter}_split{split}_val1.txt')\n",
    "\n",
    "    # Predict on v2\n",
    "    valid2_predict = model.predict(x_valid2)\n",
    "\n",
    "\n",
    "    '''Use v2, test on v1'''\n",
    "\n",
    "    # Bayesian Opt using v2\n",
    "    study = optuna.create_study(direction='minimize')\n",
    "    study.optimize(lambda trial: objective(trial, x_train, y_train, x_valid2, y_valid2,RANDOM_STATE,data_augmentation), n_trials=15)\n",
    "    best_trial2 = study.best_trial.params\n",
    "\n",
    "    # Get best params\n",
    "    best_params = {\n",
    "        \"objective\": \"rmse\",\n",
    "        \"metric\": \"rmse\",\n",
    "        'random_state': RANDOM_STATE,\n",
    "        \"verbosity\": -1,\n",
    "        \"n_jobs\": n_jobs,\n",
    "        **best_trial2\n",
    "    }\n",
    "        \n",
    "    model = lgb.LGBMRegressor(**best_params)\n",
    "    if data_augmentation:\n",
    "        x_train, y_train = data_augmentation(x_train, y_train, pct=0.75, scale=0.05)\n",
    "    if noise:\n",
    "        y_train = y_train + np.random.normal(0, 0.25, y_train.shape)\n",
    "    model.fit(x_train, y_train)\n",
    "    model.booster_.save_model(f'./{dir_to_save}/lgb_iter{iter}_split{split}_val2.txt')\n",
    "\n",
    "    # Predict on v1\n",
    "    valid1_predict = model.predict(x_valid1)\n",
    "\n",
    "    # Return OOFs\n",
    "    return np.concatenate([valid1_predict,valid2_predict])"
   ]
  },
  {
   "cell_type": "code",
   "execution_count": 10,
   "metadata": {},
   "outputs": [
    {
     "name": "stderr",
     "output_type": "stream",
     "text": [
      "[I 2024-01-08 18:42:42,083] A new study created in memory with name: no-name-98f19b9e-996e-472e-ac52-ef30969c78f1\n"
     ]
    },
    {
     "name": "stderr",
     "output_type": "stream",
     "text": [
      "[I 2024-01-08 18:42:45,397] Trial 0 finished with value: 0.6153310934262177 and parameters: {'reg_lambda': 0.21076305628230776, 'reg_alpha': 0.013181563587555099, 'colsample_bytree': 0.6089121826138528, 'colsample_bynode': 0.9798358040190343, 'subsample': 0.5261224345131515, 'learning_rate': 0.03857219899032652, 'max_depth': 17, 'min_child_samples': 9, 'num_leaves': 22, 'n_estimators': 300}. Best is trial 0 with value: 0.6153310934262177.\n",
      "[I 2024-01-08 18:42:55,481] Trial 1 finished with value: 0.6975331712371652 and parameters: {'reg_lambda': 0.3775255305765189, 'reg_alpha': 0.015295729112917354, 'colsample_bytree': 0.7596778330008063, 'colsample_bynode': 0.957712129732879, 'subsample': 0.6194362705264654, 'learning_rate': 0.0008728113616221941, 'max_depth': 7, 'min_child_samples': 17, 'num_leaves': 14, 'n_estimators': 1300}. Best is trial 0 with value: 0.6153310934262177.\n",
      "[I 2024-01-08 18:42:59,419] Trial 2 finished with value: 0.6335216629721112 and parameters: {'reg_lambda': 9.011423342180429, 'reg_alpha': 0.05261238766743441, 'colsample_bytree': 0.9957724771308611, 'colsample_bynode': 0.613420044654122, 'subsample': 0.531230544441597, 'learning_rate': 0.00504019724910562, 'max_depth': 13, 'min_child_samples': 11, 'num_leaves': 10, 'n_estimators': 500}. Best is trial 0 with value: 0.6153310934262177.\n",
      "[I 2024-01-08 18:43:11,423] Trial 3 finished with value: 0.6215456974379738 and parameters: {'reg_lambda': 7.064159335416422, 'reg_alpha': 0.03402372257503716, 'colsample_bytree': 0.9617334305875789, 'colsample_bynode': 0.5768245613059888, 'subsample': 0.8939803507363069, 'learning_rate': 0.019825904558398694, 'max_depth': 15, 'min_child_samples': 15, 'num_leaves': 22, 'n_estimators': 900}. Best is trial 0 with value: 0.6153310934262177.\n",
      "[I 2024-01-08 18:43:15,684] Trial 4 finished with value: 0.990475505809527 and parameters: {'reg_lambda': 0.03642018800322956, 'reg_alpha': 0.00012658995543992689, 'colsample_bytree': 0.5166818918836784, 'colsample_bynode': 0.5219296914092861, 'subsample': 0.5010493500260763, 'learning_rate': 0.0001482690743501487, 'max_depth': 7, 'min_child_samples': 15, 'num_leaves': 18, 'n_estimators': 500}. Best is trial 0 with value: 0.6153310934262177.\n",
      "[I 2024-01-08 18:43:32,227] Trial 5 finished with value: 0.9501824718892516 and parameters: {'reg_lambda': 0.010040542680588389, 'reg_alpha': 0.0068115067479444565, 'colsample_bytree': 0.9756272603063226, 'colsample_bynode': 0.5702612025257421, 'subsample': 0.8049191675955578, 'learning_rate': 0.0001649466122905558, 'max_depth': 15, 'min_child_samples': 13, 'num_leaves': 26, 'n_estimators': 900}. Best is trial 0 with value: 0.6153310934262177.\n",
      "[I 2024-01-08 18:43:40,467] Trial 6 finished with value: 0.8242215663565627 and parameters: {'reg_lambda': 0.052011674114330414, 'reg_alpha': 0.07741947747701473, 'colsample_bytree': 0.6814963013531826, 'colsample_bynode': 0.6737455066949787, 'subsample': 0.8460678497404968, 'learning_rate': 0.0004394227304028832, 'max_depth': 5, 'min_child_samples': 20, 'num_leaves': 14, 'n_estimators': 1100}. Best is trial 0 with value: 0.6153310934262177.\n",
      "[I 2024-01-08 18:43:50,881] Trial 7 finished with value: 0.6906922319180979 and parameters: {'reg_lambda': 0.0011986714041324945, 'reg_alpha': 0.0014706999151362526, 'colsample_bytree': 0.8265453738592843, 'colsample_bynode': 0.9079325446588846, 'subsample': 0.923845650877297, 'learning_rate': 0.0016138555213247793, 'max_depth': 7, 'min_child_samples': 15, 'num_leaves': 26, 'n_estimators': 700}. Best is trial 0 with value: 0.6153310934262177.\n",
      "[I 2024-01-08 18:43:52,710] Trial 8 finished with value: 0.7998533966558956 and parameters: {'reg_lambda': 1.6581429752873065, 'reg_alpha': 0.44940094450258206, 'colsample_bytree': 0.7297030338363297, 'colsample_bynode': 0.5723688299634899, 'subsample': 0.5405856798123664, 'learning_rate': 0.005718374058955414, 'max_depth': 13, 'min_child_samples': 11, 'num_leaves': 26, 'n_estimators': 100}. Best is trial 0 with value: 0.6153310934262177.\n",
      "[I 2024-01-08 18:44:03,324] Trial 9 finished with value: 0.6967145544086112 and parameters: {'reg_lambda': 0.157614445584465, 'reg_alpha': 0.0021421481097483605, 'colsample_bytree': 0.6944066452417557, 'colsample_bynode': 0.5481690293038516, 'subsample': 0.9412172382516376, 'learning_rate': 0.0015588651748743246, 'max_depth': 13, 'min_child_samples': 15, 'num_leaves': 30, 'n_estimators': 700}. Best is trial 0 with value: 0.6153310934262177.\n",
      "[I 2024-01-08 18:44:04,716] Trial 10 finished with value: 0.6232170761147551 and parameters: {'reg_lambda': 0.00020220711613543925, 'reg_alpha': 4.586500684749761, 'colsample_bytree': 0.527679742545144, 'colsample_bynode': 0.8307807175020946, 'subsample': 0.6882075755735082, 'learning_rate': 0.04229560662498236, 'max_depth': 17, 'min_child_samples': 9, 'num_leaves': 18, 'n_estimators': 100}. Best is trial 0 with value: 0.6153310934262177.\n",
      "[I 2024-01-08 18:44:21,863] Trial 11 finished with value: 0.6217251376345587 and parameters: {'reg_lambda': 4.745190489679134, 'reg_alpha': 0.2037802971251261, 'colsample_bytree': 0.8955519674311725, 'colsample_bynode': 0.7528443162282802, 'subsample': 0.7220096512211271, 'learning_rate': 0.049068944014043527, 'max_depth': 15, 'min_child_samples': 7, 'num_leaves': 22, 'n_estimators': 1500}. Best is trial 0 with value: 0.6153310934262177.\n",
      "[I 2024-01-08 18:44:27,825] Trial 12 finished with value: 0.6186042339132165 and parameters: {'reg_lambda': 1.3885878312000766, 'reg_alpha': 0.021882988088002053, 'colsample_bytree': 0.618919509519332, 'colsample_bynode': 0.7145130290570119, 'subsample': 0.9881312853568506, 'learning_rate': 0.01451057109804041, 'max_depth': 9, 'min_child_samples': 9, 'num_leaves': 22, 'n_estimators': 500}. Best is trial 0 with value: 0.6153310934262177.\n",
      "[I 2024-01-08 18:44:31,766] Trial 13 finished with value: 0.629638596020668 and parameters: {'reg_lambda': 0.930536222464787, 'reg_alpha': 0.005205425514403601, 'colsample_bytree': 0.6330999064260932, 'colsample_bynode': 0.9734450642162402, 'subsample': 0.7868186273979767, 'learning_rate': 0.011160436968749856, 'max_depth': 9, 'min_child_samples': 9, 'num_leaves': 22, 'n_estimators': 300}. Best is trial 0 with value: 0.6153310934262177.\n",
      "[I 2024-01-08 18:44:36,385] Trial 14 finished with value: 0.621397038143269 and parameters: {'reg_lambda': 0.335705684395083, 'reg_alpha': 0.7423391623979343, 'colsample_bytree': 0.5953427420412818, 'colsample_bynode': 0.7984319618185859, 'subsample': 0.9966896485949446, 'learning_rate': 0.01940332546722969, 'max_depth': 17, 'min_child_samples': 9, 'num_leaves': 30, 'n_estimators': 300}. Best is trial 0 with value: 0.6153310934262177.\n",
      "[I 2024-01-08 18:44:39,960] A new study created in memory with name: no-name-b220ec6a-ba41-4bd7-99bb-404feba621bd\n",
      "[I 2024-01-08 18:44:46,943] Trial 0 finished with value: 0.6289016164464989 and parameters: {'reg_lambda': 0.052909928728247194, 'reg_alpha': 0.0006277639965659055, 'colsample_bytree': 0.6764552441423495, 'colsample_bynode': 0.7823892676632314, 'subsample': 0.9169585202430441, 'learning_rate': 0.0032707127823892353, 'max_depth': 13, 'min_child_samples': 9, 'num_leaves': 10, 'n_estimators': 1100}. Best is trial 0 with value: 0.6289016164464989.\n",
      "[I 2024-01-08 18:44:49,505] Trial 1 finished with value: 0.6497018172668988 and parameters: {'reg_lambda': 0.04034951057327991, 'reg_alpha': 0.12623728449157043, 'colsample_bytree': 0.985289428979002, 'colsample_bynode': 0.5350833424245907, 'subsample': 0.837451329135098, 'learning_rate': 0.02295861219096578, 'max_depth': 9, 'min_child_samples': 17, 'num_leaves': 30, 'n_estimators': 100}. Best is trial 0 with value: 0.6289016164464989.\n",
      "[I 2024-01-08 18:44:56,683] Trial 2 finished with value: 0.6898963546856991 and parameters: {'reg_lambda': 0.0027420427879892273, 'reg_alpha': 0.00022767965927708074, 'colsample_bytree': 0.9779821486748623, 'colsample_bynode': 0.6911582543883787, 'subsample': 0.9869028964137287, 'learning_rate': 0.004135278331063337, 'max_depth': 15, 'min_child_samples': 9, 'num_leaves': 30, 'n_estimators': 300}. Best is trial 0 with value: 0.6289016164464989.\n",
      "[I 2024-01-08 18:45:13,025] Trial 3 finished with value: 0.628977535637317 and parameters: {'reg_lambda': 2.4559675050046295, 'reg_alpha': 0.005827688805197553, 'colsample_bytree': 0.7776317738461542, 'colsample_bynode': 0.5725790129694031, 'subsample': 0.7209826690006946, 'learning_rate': 0.012214960878202638, 'max_depth': 15, 'min_child_samples': 17, 'num_leaves': 26, 'n_estimators': 1100}. Best is trial 0 with value: 0.6289016164464989.\n",
      "[I 2024-01-08 18:45:26,075] Trial 4 finished with value: 0.6325205580704464 and parameters: {'reg_lambda': 0.006558796409068224, 'reg_alpha': 0.2306597043665208, 'colsample_bytree': 0.8528024059480469, 'colsample_bynode': 0.641120796907388, 'subsample': 0.5850528915116059, 'learning_rate': 0.0478067087143594, 'max_depth': 13, 'min_child_samples': 7, 'num_leaves': 30, 'n_estimators': 700}. Best is trial 0 with value: 0.6289016164464989.\n",
      "[I 2024-01-08 18:45:34,591] Trial 5 finished with value: 0.6369553495403942 and parameters: {'reg_lambda': 1.3752256587123097, 'reg_alpha': 0.003308031908431254, 'colsample_bytree': 0.8861967188978581, 'colsample_bynode': 0.725109775210871, 'subsample': 0.9596995169600461, 'learning_rate': 0.03194281013299586, 'max_depth': 11, 'min_child_samples': 15, 'num_leaves': 26, 'n_estimators': 500}. Best is trial 0 with value: 0.6289016164464989.\n",
      "[I 2024-01-08 18:45:35,520] Trial 6 finished with value: 0.8833943580863793 and parameters: {'reg_lambda': 0.00039687234863227457, 'reg_alpha': 6.358931345299713, 'colsample_bytree': 0.6586409363252345, 'colsample_bynode': 0.6388576285652859, 'subsample': 0.8237390826021842, 'learning_rate': 0.003243256958883092, 'max_depth': 7, 'min_child_samples': 13, 'num_leaves': 10, 'n_estimators': 100}. Best is trial 0 with value: 0.6289016164464989.\n",
      "[I 2024-01-08 18:45:47,147] Trial 7 finished with value: 0.7614841145817689 and parameters: {'reg_lambda': 6.444685090541319, 'reg_alpha': 0.09685784018393, 'colsample_bytree': 0.8519324757821062, 'colsample_bynode': 0.591309559375826, 'subsample': 0.9027746433429802, 'learning_rate': 0.0011050981249979275, 'max_depth': 15, 'min_child_samples': 11, 'num_leaves': 26, 'n_estimators': 700}. Best is trial 0 with value: 0.6289016164464989.\n",
      "[I 2024-01-08 18:45:56,600] Trial 8 finished with value: 0.6372392495109784 and parameters: {'reg_lambda': 0.7203074402508794, 'reg_alpha': 0.019145928900297014, 'colsample_bytree': 0.801079643631838, 'colsample_bynode': 0.8232263701894573, 'subsample': 0.6600330700958612, 'learning_rate': 0.03198063803469127, 'max_depth': 7, 'min_child_samples': 9, 'num_leaves': 10, 'n_estimators': 1500}. Best is trial 0 with value: 0.6289016164464989.\n",
      "[I 2024-01-08 18:46:04,931] Trial 9 finished with value: 0.9658938661535176 and parameters: {'reg_lambda': 0.5606499330697269, 'reg_alpha': 0.6004750851228636, 'colsample_bytree': 0.7328806587751617, 'colsample_bynode': 0.9515488234513267, 'subsample': 0.5590078892868093, 'learning_rate': 0.0001581394599166817, 'max_depth': 15, 'min_child_samples': 7, 'num_leaves': 18, 'n_estimators': 700}. Best is trial 0 with value: 0.6289016164464989.\n",
      "[I 2024-01-08 18:46:15,744] Trial 10 finished with value: 0.6928395245800905 and parameters: {'reg_lambda': 0.08826422615497319, 'reg_alpha': 0.00011221265457971805, 'colsample_bytree': 0.5067732674594194, 'colsample_bynode': 0.8062351511235919, 'subsample': 0.7897859446837051, 'learning_rate': 0.0009757802329727303, 'max_depth': 13, 'min_child_samples': 20, 'num_leaves': 18, 'n_estimators': 1300}. Best is trial 0 with value: 0.6289016164464989.\n",
      "[I 2024-01-08 18:46:24,993] Trial 11 finished with value: 0.6303748559462456 and parameters: {'reg_lambda': 0.09776449836572672, 'reg_alpha': 0.0020947869939098984, 'colsample_bytree': 0.7088998940775934, 'colsample_bynode': 0.5005053132789449, 'subsample': 0.709569104529926, 'learning_rate': 0.006709931175152295, 'max_depth': 5, 'min_child_samples': 17, 'num_leaves': 22, 'n_estimators': 1100}. Best is trial 0 with value: 0.6289016164464989.\n",
      "[I 2024-01-08 18:46:33,382] Trial 12 finished with value: 0.6282472488313655 and parameters: {'reg_lambda': 8.260803693401904, 'reg_alpha': 0.0012326547274051955, 'colsample_bytree': 0.644063661581096, 'colsample_bynode': 0.7918300279165542, 'subsample': 0.7270182418679509, 'learning_rate': 0.010129715481415821, 'max_depth': 13, 'min_child_samples': 17, 'num_leaves': 14, 'n_estimators': 1100}. Best is trial 12 with value: 0.6282472488313655.\n",
      "[I 2024-01-08 18:46:41,880] Trial 13 finished with value: 0.634589007460094 and parameters: {'reg_lambda': 5.555043573454637, 'reg_alpha': 0.0005465504129662517, 'colsample_bytree': 0.6065626398771545, 'colsample_bynode': 0.7968459211255334, 'subsample': 0.8826609147997617, 'learning_rate': 0.007500266887049737, 'max_depth': 17, 'min_child_samples': 9, 'num_leaves': 14, 'n_estimators': 1100}. Best is trial 12 with value: 0.6282472488313655.\n",
      "[I 2024-01-08 18:46:53,420] Trial 14 finished with value: 0.643953620177238 and parameters: {'reg_lambda': 9.634821758415391, 'reg_alpha': 0.0006846721498366451, 'colsample_bytree': 0.604710014218397, 'colsample_bynode': 0.8761197518367954, 'subsample': 0.7794444592155392, 'learning_rate': 0.0016183645075212368, 'max_depth': 13, 'min_child_samples': 11, 'num_leaves': 14, 'n_estimators': 1500}. Best is trial 12 with value: 0.6282472488313655.\n",
      "[I 2024-01-08 18:47:01,736] A new study created in memory with name: no-name-c8edf1a0-5068-4059-a173-b3d4fff61ce1\n",
      "[I 2024-01-08 18:47:11,967] Trial 0 finished with value: 0.8396310904855662 and parameters: {'reg_lambda': 0.03506593770513472, 'reg_alpha': 7.048738272216111, 'colsample_bytree': 0.5333932149934055, 'colsample_bynode': 0.7342907339559466, 'subsample': 0.9673645859936773, 'learning_rate': 0.0002450193223915513, 'max_depth': 11, 'min_child_samples': 20, 'num_leaves': 26, 'n_estimators': 1500}. Best is trial 0 with value: 0.8396310904855662.\n",
      "[I 2024-01-08 18:47:17,215] Trial 1 finished with value: 0.9482166564921506 and parameters: {'reg_lambda': 0.3150013758907582, 'reg_alpha': 8.541559277058063, 'colsample_bytree': 0.5106850096467042, 'colsample_bynode': 0.7257706564026788, 'subsample': 0.6271943168606199, 'learning_rate': 0.00015471878682421066, 'max_depth': 17, 'min_child_samples': 9, 'num_leaves': 26, 'n_estimators': 700}. Best is trial 0 with value: 0.8396310904855662.\n",
      "[I 2024-01-08 18:47:35,137] Trial 2 finished with value: 0.8308378861032113 and parameters: {'reg_lambda': 0.0064779946403939045, 'reg_alpha': 0.0006143215214589836, 'colsample_bytree': 0.9352073496704343, 'colsample_bynode': 0.8883821379505896, 'subsample': 0.7101964201523461, 'learning_rate': 0.0002940990168120514, 'max_depth': 13, 'min_child_samples': 7, 'num_leaves': 18, 'n_estimators': 1300}. Best is trial 2 with value: 0.8308378861032113.\n",
      "[I 2024-01-08 18:47:36,943] Trial 3 finished with value: 0.6950352405198366 and parameters: {'reg_lambda': 0.0001855151874817742, 'reg_alpha': 0.004926776942049359, 'colsample_bytree': 0.6934066871911468, 'colsample_bynode': 0.7003984022928071, 'subsample': 0.9006486490167236, 'learning_rate': 0.010751301414393134, 'max_depth': 7, 'min_child_samples': 15, 'num_leaves': 22, 'n_estimators': 100}. Best is trial 3 with value: 0.6950352405198366.\n",
      "[I 2024-01-08 18:47:42,823] Trial 4 finished with value: 0.8333551140270634 and parameters: {'reg_lambda': 0.25438802125826115, 'reg_alpha': 0.1322907728973414, 'colsample_bytree': 0.7742938254354745, 'colsample_bynode': 0.6463076217594834, 'subsample': 0.5021469636096055, 'learning_rate': 0.0007479854922781889, 'max_depth': 13, 'min_child_samples': 11, 'num_leaves': 18, 'n_estimators': 500}. Best is trial 3 with value: 0.6950352405198366.\n",
      "[I 2024-01-08 18:47:46,391] Trial 5 finished with value: 0.969541091377077 and parameters: {'reg_lambda': 0.010939311488245068, 'reg_alpha': 0.15567527602245324, 'colsample_bytree': 0.7488371954355861, 'colsample_bynode': 0.5131569575067758, 'subsample': 0.9722446392706083, 'learning_rate': 0.00020738812692414638, 'max_depth': 11, 'min_child_samples': 15, 'num_leaves': 18, 'n_estimators': 300}. Best is trial 3 with value: 0.6950352405198366.\n",
      "[I 2024-01-08 18:47:49,036] Trial 6 finished with value: 0.639019681132174 and parameters: {'reg_lambda': 0.05412795435670388, 'reg_alpha': 0.00016953490750955475, 'colsample_bytree': 0.5661777106890635, 'colsample_bynode': 0.9517666339129693, 'subsample': 0.9835373058170864, 'learning_rate': 0.015556830446347014, 'max_depth': 13, 'min_child_samples': 17, 'num_leaves': 10, 'n_estimators': 500}. Best is trial 6 with value: 0.639019681132174.\n",
      "[I 2024-01-08 18:48:02,386] Trial 7 finished with value: 0.6433529378259583 and parameters: {'reg_lambda': 0.25384302395849806, 'reg_alpha': 4.039989255106176, 'colsample_bytree': 0.6031050949498126, 'colsample_bynode': 0.5724518611393472, 'subsample': 0.6297927952242879, 'learning_rate': 0.007752018877056513, 'max_depth': 9, 'min_child_samples': 9, 'num_leaves': 26, 'n_estimators': 1300}. Best is trial 6 with value: 0.639019681132174.\n",
      "[I 2024-01-08 18:48:09,863] Trial 8 finished with value: 0.708098281776604 and parameters: {'reg_lambda': 0.28504427742730887, 'reg_alpha': 0.0005494664046929541, 'colsample_bytree': 0.7331682595591849, 'colsample_bynode': 0.7346939048657081, 'subsample': 0.9474745155031286, 'learning_rate': 0.00136974201478978, 'max_depth': 17, 'min_child_samples': 13, 'num_leaves': 18, 'n_estimators': 700}. Best is trial 6 with value: 0.639019681132174.\n",
      "[I 2024-01-08 18:48:20,613] Trial 9 finished with value: 0.6475149029927043 and parameters: {'reg_lambda': 0.004718667188025662, 'reg_alpha': 6.712717712318832, 'colsample_bytree': 0.556272451782533, 'colsample_bynode': 0.9635073714545348, 'subsample': 0.5936949599264045, 'learning_rate': 0.004185992603973448, 'max_depth': 9, 'min_child_samples': 7, 'num_leaves': 22, 'n_estimators': 1300}. Best is trial 6 with value: 0.639019681132174.\n",
      "[I 2024-01-08 18:48:25,058] Trial 10 finished with value: 0.6456468882907005 and parameters: {'reg_lambda': 1.0088239501986929, 'reg_alpha': 0.00011820191217995951, 'colsample_bytree': 0.6446126167517902, 'colsample_bynode': 0.8684952831483008, 'subsample': 0.8476412330465415, 'learning_rate': 0.038122724139189705, 'max_depth': 15, 'min_child_samples': 17, 'num_leaves': 10, 'n_estimators': 900}. Best is trial 6 with value: 0.639019681132174.\n",
      "[I 2024-01-08 18:48:30,961] Trial 11 finished with value: 0.6432020685223853 and parameters: {'reg_lambda': 5.35526208664277, 'reg_alpha': 0.017433745999835215, 'colsample_bytree': 0.6102076684306947, 'colsample_bynode': 0.5729661987760173, 'subsample': 0.8039073059364517, 'learning_rate': 0.01071755271275014, 'max_depth': 9, 'min_child_samples': 9, 'num_leaves': 10, 'n_estimators': 1100}. Best is trial 6 with value: 0.639019681132174.\n",
      "[I 2024-01-08 18:48:35,125] Trial 12 finished with value: 0.646541219615635 and parameters: {'reg_lambda': 9.696070155650574, 'reg_alpha': 0.009164828627279313, 'colsample_bytree': 0.6273051492771161, 'colsample_bynode': 0.853357585531228, 'subsample': 0.821413304252288, 'learning_rate': 0.024713632374191306, 'max_depth': 5, 'min_child_samples': 17, 'num_leaves': 10, 'n_estimators': 900}. Best is trial 6 with value: 0.639019681132174.\n",
      "[I 2024-01-08 18:48:40,288] Trial 13 finished with value: 0.6446775685986993 and parameters: {'reg_lambda': 5.019486134692551, 'reg_alpha': 0.00011416084633913921, 'colsample_bytree': 0.5062893903104341, 'colsample_bynode': 0.8142596962064789, 'subsample': 0.7748993580870717, 'learning_rate': 0.015060886325754858, 'max_depth': 9, 'min_child_samples': 17, 'num_leaves': 10, 'n_estimators': 1100}. Best is trial 6 with value: 0.639019681132174.\n",
      "[I 2024-01-08 18:48:44,089] Trial 14 finished with value: 0.6473908517062015 and parameters: {'reg_lambda': 2.1974555175309094, 'reg_alpha': 0.0019412964990069836, 'colsample_bytree': 0.5796608003533406, 'colsample_bynode': 0.9882224528582864, 'subsample': 0.8981533111335283, 'learning_rate': 0.042534836593576326, 'max_depth': 13, 'min_child_samples': 9, 'num_leaves': 14, 'n_estimators': 500}. Best is trial 6 with value: 0.639019681132174.\n",
      "[I 2024-01-08 18:48:46,957] A new study created in memory with name: no-name-86306aed-e864-402a-b558-d0f2c63f1476\n",
      "[I 2024-01-08 18:48:57,766] Trial 0 finished with value: 0.6441524330479369 and parameters: {'reg_lambda': 0.00038542169518357915, 'reg_alpha': 9.918545271556633, 'colsample_bytree': 0.6781143005588162, 'colsample_bynode': 0.9643408187171318, 'subsample': 0.6346368852104052, 'learning_rate': 0.006795211157261744, 'max_depth': 13, 'min_child_samples': 7, 'num_leaves': 18, 'n_estimators': 1100}. Best is trial 0 with value: 0.6441524330479369.\n",
      "[I 2024-01-08 18:49:05,561] Trial 1 finished with value: 0.6423429540558149 and parameters: {'reg_lambda': 0.1789586468623166, 'reg_alpha': 0.001045402741398973, 'colsample_bytree': 0.5570040730156132, 'colsample_bynode': 0.8198575589317817, 'subsample': 0.6652983454274968, 'learning_rate': 0.007045599570019409, 'max_depth': 7, 'min_child_samples': 9, 'num_leaves': 10, 'n_estimators': 1500}. Best is trial 1 with value: 0.6423429540558149.\n",
      "[I 2024-01-08 18:49:22,647] Trial 2 finished with value: 0.6731095092014975 and parameters: {'reg_lambda': 0.099874792522175, 'reg_alpha': 0.001225173594433207, 'colsample_bytree': 0.8933124667558447, 'colsample_bynode': 0.7215070132095467, 'subsample': 0.8276868898303263, 'learning_rate': 0.0014236124899695926, 'max_depth': 13, 'min_child_samples': 15, 'num_leaves': 18, 'n_estimators': 1300}. Best is trial 1 with value: 0.6423429540558149.\n",
      "[I 2024-01-08 18:49:23,719] Trial 3 finished with value: 0.6765468945479914 and parameters: {'reg_lambda': 0.028981514666181065, 'reg_alpha': 0.0016496461000849504, 'colsample_bytree': 0.6473953291152377, 'colsample_bynode': 0.9891830289834711, 'subsample': 0.8629278958579225, 'learning_rate': 0.01593995817496547, 'max_depth': 13, 'min_child_samples': 11, 'num_leaves': 10, 'n_estimators': 100}. Best is trial 1 with value: 0.6423429540558149.\n",
      "[I 2024-01-08 18:49:29,147] Trial 4 finished with value: 0.6393422583685173 and parameters: {'reg_lambda': 0.017013672955000468, 'reg_alpha': 0.036270122870142335, 'colsample_bytree': 0.5773953838295085, 'colsample_bynode': 0.7909756930137567, 'subsample': 0.8688925470888775, 'learning_rate': 0.0033771908962238113, 'max_depth': 7, 'min_child_samples': 11, 'num_leaves': 10, 'n_estimators': 900}. Best is trial 4 with value: 0.6393422583685173.\n",
      "[I 2024-01-08 18:49:33,991] Trial 5 finished with value: 0.6358883321459146 and parameters: {'reg_lambda': 0.016116308612579542, 'reg_alpha': 0.28360132014239786, 'colsample_bytree': 0.6154404180268338, 'colsample_bynode': 0.9195846158299397, 'subsample': 0.9649483461449055, 'learning_rate': 0.007931395241557827, 'max_depth': 5, 'min_child_samples': 7, 'num_leaves': 30, 'n_estimators': 500}. Best is trial 5 with value: 0.6358883321459146.\n",
      "[I 2024-01-08 18:49:40,705] Trial 6 finished with value: 0.7387960244245876 and parameters: {'reg_lambda': 0.00017730620922096, 'reg_alpha': 0.06220247147861379, 'colsample_bytree': 0.8490424279200115, 'colsample_bynode': 0.6547280412573353, 'subsample': 0.906068935397798, 'learning_rate': 0.0028677570393934823, 'max_depth': 9, 'min_child_samples': 7, 'num_leaves': 30, 'n_estimators': 300}. Best is trial 5 with value: 0.6358883321459146.\n",
      "[I 2024-01-08 18:49:47,046] Trial 7 finished with value: 0.6631444686637928 and parameters: {'reg_lambda': 0.0011415234917284125, 'reg_alpha': 0.011039911484424084, 'colsample_bytree': 0.9990245120695136, 'colsample_bynode': 0.6034192608707527, 'subsample': 0.9406637957023326, 'learning_rate': 0.0038847420358502677, 'max_depth': 17, 'min_child_samples': 11, 'num_leaves': 14, 'n_estimators': 500}. Best is trial 5 with value: 0.6358883321459146.\n",
      "[I 2024-01-08 18:49:52,456] Trial 8 finished with value: 0.96120488694565 and parameters: {'reg_lambda': 0.0026686679248693786, 'reg_alpha': 0.0008456238952849695, 'colsample_bytree': 0.6498808642565448, 'colsample_bynode': 0.5290380461537094, 'subsample': 0.8604993225815665, 'learning_rate': 0.00027745695357526, 'max_depth': 9, 'min_child_samples': 17, 'num_leaves': 18, 'n_estimators': 500}. Best is trial 5 with value: 0.6358883321459146.\n",
      "[I 2024-01-08 18:49:57,683] Trial 9 finished with value: 0.9774699584440958 and parameters: {'reg_lambda': 0.0006197511656300087, 'reg_alpha': 0.09217839902196416, 'colsample_bytree': 0.8140979136853452, 'colsample_bynode': 0.8625705095224114, 'subsample': 0.8493733263818581, 'learning_rate': 0.00020784827265997005, 'max_depth': 17, 'min_child_samples': 20, 'num_leaves': 14, 'n_estimators': 500}. Best is trial 5 with value: 0.6358883321459146.\n",
      "[I 2024-01-08 18:50:04,574] Trial 10 finished with value: 0.6634972522562241 and parameters: {'reg_lambda': 2.9928542811173062, 'reg_alpha': 0.9174341726738691, 'colsample_bytree': 0.5178511983941237, 'colsample_bynode': 0.8999752659504849, 'subsample': 0.5059311376651661, 'learning_rate': 0.03897737527643256, 'max_depth': 5, 'min_child_samples': 13, 'num_leaves': 30, 'n_estimators': 900}. Best is trial 5 with value: 0.6358883321459146.\n",
      "[I 2024-01-08 18:50:16,826] Trial 11 finished with value: 0.6784714050787145 and parameters: {'reg_lambda': 0.010959145851488385, 'reg_alpha': 0.3253795194322498, 'colsample_bytree': 0.5954612824038658, 'colsample_bynode': 0.786621073263978, 'subsample': 0.9990151558727383, 'learning_rate': 0.0014907910651885774, 'max_depth': 7, 'min_child_samples': 7, 'num_leaves': 26, 'n_estimators': 900}. Best is trial 5 with value: 0.6358883321459146.\n",
      "[I 2024-01-08 18:50:24,864] Trial 12 finished with value: 0.6508269801257145 and parameters: {'reg_lambda': 0.004269791771907758, 'reg_alpha': 0.013060774008280915, 'colsample_bytree': 0.5028365927589188, 'colsample_bynode': 0.8994715419592669, 'subsample': 0.9974204968825093, 'learning_rate': 0.020979907884202106, 'max_depth': 15, 'min_child_samples': 11, 'num_leaves': 26, 'n_estimators': 700}. Best is trial 5 with value: 0.6358883321459146.\n",
      "[I 2024-01-08 18:50:34,181] Trial 13 finished with value: 0.8286461416644801 and parameters: {'reg_lambda': 0.01680532707237856, 'reg_alpha': 0.49430632167093136, 'colsample_bytree': 0.7219954365809342, 'colsample_bynode': 0.7386906904052489, 'subsample': 0.781921416804369, 'learning_rate': 0.0006736710331769393, 'max_depth': 11, 'min_child_samples': 15, 'num_leaves': 22, 'n_estimators': 700}. Best is trial 5 with value: 0.6358883321459146.\n",
      "[I 2024-01-08 18:50:41,572] Trial 14 finished with value: 0.6463646150182452 and parameters: {'reg_lambda': 0.0749850153683396, 'reg_alpha': 0.00016285904816140163, 'colsample_bytree': 0.5569088533970147, 'colsample_bynode': 0.8204323139462595, 'subsample': 0.9331864019438757, 'learning_rate': 0.008113563307013788, 'max_depth': 5, 'min_child_samples': 20, 'num_leaves': 22, 'n_estimators': 1100}. Best is trial 5 with value: 0.6358883321459146.\n",
      "[I 2024-01-08 18:50:46,657] A new study created in memory with name: no-name-a25a1eef-8ee9-42a0-8280-4125368bbeb4\n",
      "[I 2024-01-08 18:50:58,006] Trial 0 finished with value: 0.6186665196709915 and parameters: {'reg_lambda': 5.657050599207452, 'reg_alpha': 2.332995548219712, 'colsample_bytree': 0.9352530095839546, 'colsample_bynode': 0.9359591839480317, 'subsample': 0.8151637130755536, 'learning_rate': 0.006091750400581099, 'max_depth': 9, 'min_child_samples': 7, 'num_leaves': 14, 'n_estimators': 1100}. Best is trial 0 with value: 0.6186665196709915.\n",
      "[I 2024-01-08 18:51:11,284] Trial 1 finished with value: 0.6257303098810051 and parameters: {'reg_lambda': 0.020810894636165006, 'reg_alpha': 0.003985728584691846, 'colsample_bytree': 0.6403524132464651, 'colsample_bynode': 0.7091180020901275, 'subsample': 0.6193786685878073, 'learning_rate': 0.009621563058414415, 'max_depth': 9, 'min_child_samples': 11, 'num_leaves': 22, 'n_estimators': 1300}. Best is trial 0 with value: 0.6186665196709915.\n",
      "[I 2024-01-08 18:51:16,298] Trial 2 finished with value: 0.6186860465215569 and parameters: {'reg_lambda': 0.20798870912742154, 'reg_alpha': 0.024975641403128707, 'colsample_bytree': 0.6745261027177614, 'colsample_bynode': 0.5596833946613593, 'subsample': 0.9390133754265708, 'learning_rate': 0.011117417520020325, 'max_depth': 7, 'min_child_samples': 17, 'num_leaves': 10, 'n_estimators': 900}. Best is trial 0 with value: 0.6186665196709915.\n",
      "[I 2024-01-08 18:51:26,082] Trial 3 finished with value: 0.6294315965543301 and parameters: {'reg_lambda': 0.9264235526634338, 'reg_alpha': 4.8263667187549055, 'colsample_bytree': 0.9628543701794461, 'colsample_bynode': 0.8996335368082296, 'subsample': 0.5122796132718193, 'learning_rate': 0.0034122198302912674, 'max_depth': 15, 'min_child_samples': 20, 'num_leaves': 22, 'n_estimators': 900}. Best is trial 0 with value: 0.6186665196709915.\n",
      "[I 2024-01-08 18:51:36,593] Trial 4 finished with value: 0.8477152987431175 and parameters: {'reg_lambda': 3.252350493003993, 'reg_alpha': 0.0021080363029284312, 'colsample_bytree': 0.667364305449182, 'colsample_bynode': 0.7787730851870265, 'subsample': 0.5936240135113837, 'learning_rate': 0.00044603277386100936, 'max_depth': 15, 'min_child_samples': 20, 'num_leaves': 26, 'n_estimators': 900}. Best is trial 0 with value: 0.6186665196709915.\n",
      "[I 2024-01-08 18:51:41,018] Trial 5 finished with value: 0.9796862424614919 and parameters: {'reg_lambda': 0.010288617191381487, 'reg_alpha': 3.0633325827284095, 'colsample_bytree': 0.5208638197826478, 'colsample_bynode': 0.7203477138365084, 'subsample': 0.8065023385823726, 'learning_rate': 0.00011480682992833688, 'max_depth': 5, 'min_child_samples': 20, 'num_leaves': 18, 'n_estimators': 700}. Best is trial 0 with value: 0.6186665196709915.\n",
      "[I 2024-01-08 18:51:43,576] Trial 6 finished with value: 0.7893797941981389 and parameters: {'reg_lambda': 3.503602305975491, 'reg_alpha': 0.006253929246465269, 'colsample_bytree': 0.5743066874109493, 'colsample_bynode': 0.6953528416100367, 'subsample': 0.549591469602155, 'learning_rate': 0.002065514015715441, 'max_depth': 13, 'min_child_samples': 15, 'num_leaves': 14, 'n_estimators': 300}. Best is trial 0 with value: 0.6186665196709915.\n",
      "[I 2024-01-08 18:51:47,469] Trial 7 finished with value: 0.6783027471766245 and parameters: {'reg_lambda': 0.008417142511676311, 'reg_alpha': 0.3851238778076471, 'colsample_bytree': 0.9191523225447147, 'colsample_bynode': 0.9682299035279653, 'subsample': 0.7112734060850403, 'learning_rate': 0.0042223664021646245, 'max_depth': 9, 'min_child_samples': 20, 'num_leaves': 18, 'n_estimators': 300}. Best is trial 0 with value: 0.6186665196709915.\n",
      "[I 2024-01-08 18:51:51,704] Trial 8 finished with value: 0.6191113029208429 and parameters: {'reg_lambda': 0.00023389406661302158, 'reg_alpha': 0.048704179330670117, 'colsample_bytree': 0.8527306904935466, 'colsample_bynode': 0.7074102129480273, 'subsample': 0.8254930193431984, 'learning_rate': 0.031913370105626046, 'max_depth': 5, 'min_child_samples': 15, 'num_leaves': 22, 'n_estimators': 500}. Best is trial 0 with value: 0.6186665196709915.\n",
      "[I 2024-01-08 18:51:57,060] Trial 9 finished with value: 0.963380909923675 and parameters: {'reg_lambda': 0.0004309700696273937, 'reg_alpha': 0.6741478523296686, 'colsample_bytree': 0.7956817665840545, 'colsample_bynode': 0.5468455908665701, 'subsample': 0.6145855735205922, 'learning_rate': 0.0002262197656566584, 'max_depth': 5, 'min_child_samples': 11, 'num_leaves': 18, 'n_estimators': 500}. Best is trial 0 with value: 0.6186665196709915.\n",
      "[I 2024-01-08 18:52:29,693] Trial 10 finished with value: 0.6679658964455666 and parameters: {'reg_lambda': 0.23395039832205144, 'reg_alpha': 0.00013583705174435496, 'colsample_bytree': 0.9974276343812897, 'colsample_bynode': 0.9709660677977697, 'subsample': 0.980129900704697, 'learning_rate': 0.001003251319100518, 'max_depth': 17, 'min_child_samples': 7, 'num_leaves': 30, 'n_estimators': 1500}. Best is trial 0 with value: 0.6186665196709915.\n",
      "[I 2024-01-08 18:52:36,062] Trial 11 finished with value: 0.6145741031167626 and parameters: {'reg_lambda': 7.857009752199215, 'reg_alpha': 0.127690041820435, 'colsample_bytree': 0.7174059452348065, 'colsample_bynode': 0.5158071983577954, 'subsample': 0.9279250854994098, 'learning_rate': 0.018501806851710954, 'max_depth': 7, 'min_child_samples': 17, 'num_leaves': 10, 'n_estimators': 1100}. Best is trial 11 with value: 0.6145741031167626.\n",
      "[I 2024-01-08 18:52:43,422] Trial 12 finished with value: 0.6285292765496807 and parameters: {'reg_lambda': 9.835629952734251, 'reg_alpha': 0.492995695800797, 'colsample_bytree': 0.812539196325733, 'colsample_bynode': 0.8300126874254778, 'subsample': 0.8889571798658306, 'learning_rate': 0.04895011784175562, 'max_depth': 11, 'min_child_samples': 13, 'num_leaves': 10, 'n_estimators': 1300}. Best is trial 11 with value: 0.6145741031167626.\n",
      "[I 2024-01-08 18:52:51,969] Trial 13 finished with value: 0.6312805087277713 and parameters: {'reg_lambda': 8.464388673430584, 'reg_alpha': 4.827944603640483, 'colsample_bytree': 0.7366329062662391, 'colsample_bynode': 0.6302004176666389, 'subsample': 0.8857700215153503, 'learning_rate': 0.017406401834562737, 'max_depth': 7, 'min_child_samples': 7, 'num_leaves': 14, 'n_estimators': 1100}. Best is trial 11 with value: 0.6145741031167626.\n",
      "[I 2024-01-08 18:53:04,416] Trial 14 finished with value: 0.620306923275381 and parameters: {'reg_lambda': 0.9513827238165035, 'reg_alpha': 0.10003868066953062, 'colsample_bytree': 0.8792852815100237, 'colsample_bynode': 0.8273383146742324, 'subsample': 0.7412412465271749, 'learning_rate': 0.008821633649306227, 'max_depth': 9, 'min_child_samples': 9, 'num_leaves': 14, 'n_estimators': 1300}. Best is trial 11 with value: 0.6145741031167626.\n",
      "[I 2024-01-08 18:53:10,227] A new study created in memory with name: no-name-cf4b482c-c249-4011-a1c3-e745f7d43998\n",
      "[I 2024-01-08 18:53:11,459] Trial 0 finished with value: 0.9225630872898858 and parameters: {'reg_lambda': 0.18152714077227836, 'reg_alpha': 0.03115165646289145, 'colsample_bytree': 0.5169591686870579, 'colsample_bynode': 0.6141749746218554, 'subsample': 0.920593167033773, 'learning_rate': 0.0019774648072554673, 'max_depth': 7, 'min_child_samples': 11, 'num_leaves': 18, 'n_estimators': 100}. Best is trial 0 with value: 0.9225630872898858.\n",
      "[I 2024-01-08 18:53:12,953] Trial 1 finished with value: 0.8974364865136849 and parameters: {'reg_lambda': 0.05299454206555463, 'reg_alpha': 0.0009011350717135781, 'colsample_bytree': 0.7551007740568634, 'colsample_bynode': 0.9884068769149462, 'subsample': 0.9967501246301869, 'learning_rate': 0.00247234939847263, 'max_depth': 5, 'min_child_samples': 11, 'num_leaves': 22, 'n_estimators': 100}. Best is trial 1 with value: 0.8974364865136849.\n",
      "[I 2024-01-08 18:53:17,557] Trial 2 finished with value: 0.9359916993929225 and parameters: {'reg_lambda': 0.5358684138486379, 'reg_alpha': 2.001421266748465, 'colsample_bytree': 0.987048421024455, 'colsample_bynode': 0.6824124779034328, 'subsample': 0.6658790260880815, 'learning_rate': 0.0005598333410432722, 'max_depth': 15, 'min_child_samples': 13, 'num_leaves': 18, 'n_estimators': 300}. Best is trial 1 with value: 0.8974364865136849.\n",
      "[I 2024-01-08 18:53:35,758] Trial 3 finished with value: 0.6823126085942672 and parameters: {'reg_lambda': 1.7666131944742782, 'reg_alpha': 0.8981720996829149, 'colsample_bytree': 0.6877135575100628, 'colsample_bynode': 0.6384990342161705, 'subsample': 0.7695882171121944, 'learning_rate': 0.0010718335629265067, 'max_depth': 11, 'min_child_samples': 13, 'num_leaves': 30, 'n_estimators': 1100}. Best is trial 3 with value: 0.6823126085942672.\n",
      "[I 2024-01-08 18:53:43,425] Trial 4 finished with value: 0.8253936910729145 and parameters: {'reg_lambda': 0.04661601248913072, 'reg_alpha': 6.943731715797772, 'colsample_bytree': 0.8332143412071406, 'colsample_bynode': 0.7332058242667218, 'subsample': 0.5312638318153989, 'learning_rate': 0.0004583468937293176, 'max_depth': 15, 'min_child_samples': 11, 'num_leaves': 10, 'n_estimators': 1100}. Best is trial 3 with value: 0.6823126085942672.\n",
      "[I 2024-01-08 18:53:55,811] Trial 5 finished with value: 0.9632826109955281 and parameters: {'reg_lambda': 4.4351055650238305, 'reg_alpha': 0.015841107620552786, 'colsample_bytree': 0.7627138818926753, 'colsample_bynode': 0.9669548771188863, 'subsample': 0.6719714351954469, 'learning_rate': 0.0001258369283868964, 'max_depth': 11, 'min_child_samples': 11, 'num_leaves': 22, 'n_estimators': 900}. Best is trial 3 with value: 0.6823126085942672.\n",
      "[I 2024-01-08 18:53:59,518] Trial 6 finished with value: 0.849872866423299 and parameters: {'reg_lambda': 0.00021275412181103408, 'reg_alpha': 0.8486484923474599, 'colsample_bytree': 0.7552807300872586, 'colsample_bynode': 0.8695736999485022, 'subsample': 0.5450350951384287, 'learning_rate': 0.0012588014218890616, 'max_depth': 7, 'min_child_samples': 17, 'num_leaves': 18, 'n_estimators': 300}. Best is trial 3 with value: 0.6823126085942672.\n",
      "[I 2024-01-08 18:54:05,973] Trial 7 finished with value: 0.9434714424185845 and parameters: {'reg_lambda': 0.10791740439269534, 'reg_alpha': 0.09450385385309722, 'colsample_bytree': 0.5619653065973662, 'colsample_bynode': 0.9943173073259257, 'subsample': 0.7971888538942039, 'learning_rate': 0.0002873512201981948, 'max_depth': 13, 'min_child_samples': 20, 'num_leaves': 26, 'n_estimators': 500}. Best is trial 3 with value: 0.6823126085942672.\n",
      "[I 2024-01-08 18:54:19,483] Trial 8 finished with value: 0.6591911529044256 and parameters: {'reg_lambda': 0.00023746670340232904, 'reg_alpha': 0.019879262632477857, 'colsample_bytree': 0.7278854528227945, 'colsample_bynode': 0.7674126548613374, 'subsample': 0.7470199865125501, 'learning_rate': 0.0010344100516644615, 'max_depth': 17, 'min_child_samples': 17, 'num_leaves': 14, 'n_estimators': 1500}. Best is trial 8 with value: 0.6591911529044256.\n",
      "[I 2024-01-08 18:54:29,853] Trial 9 finished with value: 0.6276808141614479 and parameters: {'reg_lambda': 1.2688027808747293, 'reg_alpha': 5.46334592690366, 'colsample_bytree': 0.8638514973703815, 'colsample_bynode': 0.5787783851265853, 'subsample': 0.702293036363987, 'learning_rate': 0.003522708786612064, 'max_depth': 15, 'min_child_samples': 13, 'num_leaves': 26, 'n_estimators': 700}. Best is trial 9 with value: 0.6276808141614479.\n",
      "[I 2024-01-08 18:54:42,452] Trial 10 finished with value: 0.6083986722547335 and parameters: {'reg_lambda': 8.94577914551603, 'reg_alpha': 9.228226811672936, 'colsample_bytree': 0.9383698523167046, 'colsample_bynode': 0.5091721846485069, 'subsample': 0.8836226798798729, 'learning_rate': 0.011068024517617374, 'max_depth': 9, 'min_child_samples': 7, 'num_leaves': 30, 'n_estimators': 700}. Best is trial 10 with value: 0.6083986722547335.\n",
      "[I 2024-01-08 18:54:56,217] Trial 11 finished with value: 0.6123979587314546 and parameters: {'reg_lambda': 9.975949952180239, 'reg_alpha': 5.447015566504561, 'colsample_bytree': 0.9347271195583927, 'colsample_bynode': 0.5022070902453116, 'subsample': 0.8776194777891446, 'learning_rate': 0.012145444119680781, 'max_depth': 9, 'min_child_samples': 7, 'num_leaves': 30, 'n_estimators': 700}. Best is trial 10 with value: 0.6083986722547335.\n",
      "[I 2024-01-08 18:55:09,576] Trial 12 finished with value: 0.6120425860308232 and parameters: {'reg_lambda': 7.132293149081109, 'reg_alpha': 7.067133698026683, 'colsample_bytree': 0.9934369776645895, 'colsample_bynode': 0.5035026165061182, 'subsample': 0.8690643993030217, 'learning_rate': 0.014670295924719828, 'max_depth': 9, 'min_child_samples': 7, 'num_leaves': 30, 'n_estimators': 700}. Best is trial 10 with value: 0.6083986722547335.\n",
      "[I 2024-01-08 18:55:17,862] Trial 13 finished with value: 0.6202235411162794 and parameters: {'reg_lambda': 7.888379677021005, 'reg_alpha': 9.259948461523535, 'colsample_bytree': 0.9900450759343906, 'colsample_bynode': 0.5181516146093926, 'subsample': 0.8586632964315616, 'learning_rate': 0.041294117916627106, 'max_depth': 9, 'min_child_samples': 7, 'num_leaves': 30, 'n_estimators': 900}. Best is trial 10 with value: 0.6083986722547335.\n",
      "[I 2024-01-08 18:55:27,648] Trial 14 finished with value: 0.6216490896993849 and parameters: {'reg_lambda': 0.6334593641860994, 'reg_alpha': 0.21632358170279567, 'colsample_bytree': 0.923860804267662, 'colsample_bynode': 0.5370349152913343, 'subsample': 0.9643846065601871, 'learning_rate': 0.00834165340491859, 'max_depth': 9, 'min_child_samples': 15, 'num_leaves': 26, 'n_estimators': 500}. Best is trial 10 with value: 0.6083986722547335.\n"
     ]
    }
   ],
   "source": [
    "OOF_SCORE = np.zeros(len(train_feats))\n",
    "\n",
    "models_dict = {}\n",
    "preds_dict = {}\n",
    "count = 0\n",
    "for _ in train_feats['id'].unique():\n",
    "    preds_dict[count] = []\n",
    "    count+=1\n",
    "\n",
    "\n",
    "for i in range(iterations):\n",
    "\n",
    "    if stratification:\n",
    "        kf = model_selection.StratifiedKFold(n_splits=n_splits, random_state=41 + i, shuffle=True)\n",
    "        j = 0\n",
    "        for fold, (train_idx, valid_idx) in enumerate(kf.split(train_feats, score_transformed)):\n",
    "            \n",
    "            X_train, y_train = train_feats.iloc[train_idx][train_cols], train_feats.iloc[train_idx][target_col]\n",
    "            X_valid, y_valid = train_feats.iloc[valid_idx][train_cols], train_feats.iloc[valid_idx][target_col]\n",
    "\n",
    "            valid_predict = lgb_calc_OOF(X_train, y_train, X_valid, y_valid, i, j, RANDOM_STATE=41 + i, noise=noise, data_augmentation=data_augmentation)\n",
    "\n",
    "            OOF_SCORE[valid_idx] += valid_predict / iterations\n",
    "            j+=1\n",
    "\n",
    "    else:\n",
    "        kf = model_selection.KFold(n_splits=n_splits, random_state=41 + i, shuffle=True)\n",
    "        j = 0\n",
    "        for fold, (train_idx, valid_idx) in enumerate(kf.split(train_feats)):\n",
    "            \n",
    "            X_train, y_train = train_feats.iloc[train_idx][train_cols], train_feats.iloc[train_idx][target_col]\n",
    "            X_valid, y_valid = train_feats.iloc[valid_idx][train_cols], train_feats.iloc[valid_idx][target_col]\n",
    "\n",
    "            valid_predict = lgb_calc_OOF(X_train, y_train, X_valid, y_valid, i, j, RANDOM_STATE=41 + i, noise=noise, data_augmentation=data_augmentation)\n",
    "\n",
    "            OOF_SCORE[valid_idx] += valid_predict / iterations\n",
    "            j+=1"
   ]
  },
  {
   "cell_type": "code",
   "execution_count": 11,
   "metadata": {},
   "outputs": [
    {
     "name": "stdout",
     "output_type": "stream",
     "text": [
      "OOF metric LGBM = 0.62826\n"
     ]
    }
   ],
   "source": [
    "print('OOF metric LGBM = {:.5f}'.format(metrics.mean_squared_error(train_feats[target_col], \n",
    "                                                                   OOF_SCORE,\n",
    "                                                                   squared=False)))"
   ]
  },
  {
   "cell_type": "code",
   "execution_count": 12,
   "metadata": {},
   "outputs": [],
   "source": [
    "import pickle\n",
    "\n",
    "with open(f'{dir_to_save}/OOF_base_lgb.pkl', 'wb') as f:\n",
    "    pickle.dump(OOF_SCORE, f)"
   ]
  },
  {
   "cell_type": "code",
   "execution_count": 13,
   "metadata": {},
   "outputs": [
    {
     "data": {
      "image/png": "[encoded data removed]",
      "text/plain": [
       "<Figure size 600x600 with 1 Axes>"
      ]
     },
     "metadata": {},
     "output_type": "display_data"
    }
   ],
   "source": [
    "f, ax = plt.subplots(figsize=(6, 6))\n",
    "ax.scatter(OOF_SCORE, train_feats['score'])\n",
    "add_identity(ax, color='r', ls='--')\n",
    "# ax.scatter(stds, train_scores_df['score']-means)\n",
    "plt.ylabel('True Values')\n",
    "plt.xlabel('Predictions')\n",
    "\n",
    "plt.show()"
   ]
  },
  {
   "cell_type": "code",
   "execution_count": 14,
   "metadata": {},
   "outputs": [
    {
     "data": {
      "text/plain": [
       "2470"
      ]
     },
     "execution_count": 14,
     "metadata": {},
     "output_type": "execute_result"
    }
   ],
   "source": [
    "len(OOF_SCORE)"
   ]
  },
  {
   "cell_type": "code",
   "execution_count": 15,
   "metadata": {},
   "outputs": [
    {
     "data": {
      "text/plain": [
       "60"
      ]
     },
     "execution_count": 15,
     "metadata": {},
     "output_type": "execute_result"
    }
   ],
   "source": [
    "sum(OOF_SCORE <= 2)"
   ]
  },
  {
   "cell_type": "code",
   "execution_count": 16,
   "metadata": {},
   "outputs": [
    {
     "data": {
      "text/plain": [
       "200"
      ]
     },
     "execution_count": 16,
     "metadata": {},
     "output_type": "execute_result"
    }
   ],
   "source": [
    "sum(train_feats['score'] <= 2)"
   ]
  }
 ],
 "metadata": {
  "kernelspec": {
   "display_name": "Python 3",
   "language": "python",
   "name": "python3"
  },
  "language_info": {
   "codemirror_mode": {
    "name": "ipython",
    "version": 3
   },
   "file_extension": ".py",
   "mimetype": "text/x-python",
   "name": "python",
   "nbconvert_exporter": "python",
   "pygments_lexer": "ipython3",
   "version": "3.10.5"
  }
 },
 "nbformat": 4,
 "nbformat_minor": 2
}
