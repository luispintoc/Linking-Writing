{
 "cells": [
  {
   "cell_type": "code",
   "execution_count": 30,
   "metadata": {},
   "outputs": [],
   "source": [
    "import gc\n",
    "import os\n",
    "import itertools\n",
    "import pickle\n",
    "import re\n",
    "import time\n",
    "from random import choice, choices\n",
    "from functools import reduce\n",
    "from tqdm import tqdm\n",
    "from itertools import cycle\n",
    "import numpy as np\n",
    "import pandas as pd\n",
    "import seaborn as sns\n",
    "import matplotlib.pyplot as plt\n",
    "from collections import Counter\n",
    "from functools import reduce\n",
    "from itertools import cycle\n",
    "from scipy import stats\n",
    "from scipy.stats import skew, kurtosis\n",
    "from sklearn import metrics, model_selection, preprocessing, linear_model, ensemble, decomposition, tree\n",
    "import lightgbm as lgb\n",
    "import optuna\n",
    "from sklearn.metrics import mean_squared_error\n",
    "from sklearn.model_selection import train_test_split\n",
    "from sklearn.ensemble import GradientBoostingRegressor, RandomForestRegressor, StackingRegressor, VotingRegressor\n",
    "from catboost import CatBoostRegressor\n",
    "from sklearn.pipeline import make_pipeline\n",
    "from sklearn.impute import SimpleImputer\n",
    "from sklearn.svm import SVR\n",
    "from sklearn.preprocessing import MinMaxScaler\n",
    "from sklearn.base import BaseEstimator, TransformerMixin\n",
    "from sklearn.linear_model import LinearRegression\n",
    "\n",
    "\n",
    "import sys\n",
    "sys.path.append('../../')\n",
    "from utils import *"
   ]
  },
  {
   "cell_type": "markdown",
   "metadata": {},
   "source": [
    "## Prepro: change names to numbers"
   ]
  },
  {
   "cell_type": "code",
   "execution_count": 31,
   "metadata": {},
   "outputs": [],
   "source": [
    "train_feats = pd.read_csv('../../3_feature_eng/output/train_feats_double_corr.csv')\n",
    "train_score = pd.read_csv('../../0_data/train_scores.csv')\n",
    "\n",
    "# train_feats_first10min = pd.read_csv('../../feature_eng/output/train_double_corr_first_10min_786feats.csv')\n",
    "# train_feats_second10min = pd.read_csv('../../feature_eng/output/train_double_corr_second_10min_786feats.csv')\n",
    "# train_feats = train_feats.merge(train_feats_first10min, on='id', how='left')\n",
    "# train_feats = train_feats.merge(train_feats_second10min, on='id', how='left')\n",
    "\n",
    "if 'score' not in train_feats.columns:\n",
    "    train_feats = pd.merge(train_feats, train_score, on='id', how='left')\n",
    "\n",
    "train_feats.replace([np.inf, -np.inf], np.nan, inplace=True)\n",
    "cols = train_feats.columns\n",
    "\n",
    "from sklearn.preprocessing import LabelEncoder\n",
    "le = LabelEncoder()\n",
    "le.fit(train_feats['score'])\n",
    "\n",
    "score_transformed = le.transform(train_feats['score'])"
   ]
  },
  {
   "cell_type": "markdown",
   "metadata": {},
   "source": [
    "## Keep columns"
   ]
  },
  {
   "cell_type": "code",
   "execution_count": 32,
   "metadata": {},
   "outputs": [
    {
     "name": "stdout",
     "output_type": "stream",
     "text": [
      "446\n"
     ]
    }
   ],
   "source": [
    "# Options:\n",
    "# \"count_bursts\", \"word_sent_parag_agg\", \"pressed_keys\", \"paussed_features\"\n",
    "# \"segments_visit\", \"paragraph_ratios\", \"time_gaps\", \"cursor_word_changes\"\n",
    "# \"punctuation\", \"key_mouse\", \"time_feat\", \"fft\", \"avg_event_per_minute\",\n",
    "# \"avg_char_deletion_per_minute\", \"avg_char_insert_per_minute\"\n",
    "# \"IKI_word\", \"IKI_sentence\", \"IKI_paragraph\", \"latencies\"\n",
    "# \"IWD\", \"idle\", \"cursor_visits\"\n",
    "# \"intro_punctuation\", \"body_punctuation\", \"conclusion_punctuation\"\n",
    "# \"intro_aggs\", \"body_aggs\", \"conclusion_aggs\", \"IKI_actual\"\n",
    "# \"bursts_v2\"\n",
    "\n",
    "endings_to_keep = [\n",
    "\"count_bursts\", \"word_sent_parag_agg\", \"pressed_keys\", \"paussed_features\"\n",
    "\"segments_visit\", \"paragraph_ratios\", \"time_gaps\", \"cursor_word_changes\"\n",
    "\"punctuation\", \"key_mouse\", \"time_feat\", \"fft\", \"avg_event_per_minute\",\n",
    "\"avg_char_deletion_per_minute\", \"avg_char_insert_per_minute\"\n",
    "\"IWD\", \"idle\", \"cursor_visits\"\n",
    "\"intro_punctuation\", \"body_punctuation\", \"conclusion_punctuation\"\n",
    "\"intro_aggs\", \"body_aggs\", \"conclusion_aggs\", \n",
    "]\n",
    "endings_to_keep += [\"id\"]\n",
    "\n",
    "dir_to_save = \"voting3\"\n",
    "stratification = True\n",
    "n_jobs = -1\n",
    "noise = True\n",
    "iterations = 5\n",
    "n_splits = 10\n",
    "\n",
    "try:\n",
    "    os.mkdir(dir_to_save)\n",
    "except:\n",
    "    print('Already exists')\n",
    "    sys.exit()\n",
    "\n",
    "# cols_to_keep = [col for col in train_feats.columns if col.endswith(tuple(endings_to_keep)) or col in ['id', 'score']]\n",
    "cols_to_keep = [col for col in train_feats.columns if any(ending in col for ending in endings_to_keep) or col in ['id', 'score']]\n",
    "\n",
    "with open(f'{dir_to_save}/feature_list.pkl', 'wb') as f:\n",
    "    pickle.dump(cols_to_keep, f)\n",
    "\n",
    "train_feats = train_feats[cols_to_keep]\n",
    "print(len(train_feats.columns)-2)"
   ]
  },
  {
   "cell_type": "code",
   "execution_count": 33,
   "metadata": {},
   "outputs": [],
   "source": [
    "# Options:\n",
    "# \"count_bursts\", \"word_sent_parag_agg\", \"pressed_keys\", \"paussed_features\"\n",
    "# \"segments_visit\", \"paragraph_ratios\", \"time_gaps\", \"cursor_word_changes\"\n",
    "# \"punctuation\", \"key_mouse\", \"time_feat\", \"fft\", \"avg_event_per_minute\",\n",
    "# \"avg_char_deletion_per_minute\", \"avg_char_insert_per_minute\"\n",
    "# \"IKI_word\", \"IKI_sentence\", \"IKI_paragraph\", \"latencies\"\n",
    "# \"IWD\", \"idle\", \"cursor_visits\"\n",
    "# \"intro_punctuation\", \"body_punctuation\", \"conclusion_punctuation\"\n",
    "# \"intro_aggs\", \"body_aggs\", \"conclusion_aggs\", \"IKI_actual\"\n",
    "# \"bursts_v2\"\n",
    "\n",
    "# manual_list\n",
    "\n",
    "endings_1 = [\"count_bursts\", \"-word_sent_parag_agg\", \"punctuation\", \"cursor_visits\", \"IWD\", \"intro_punctuation\", \"body_punctuation\", \"conclusion_punctuation\", \"intro_aggs\", \"body_aggs\", \"conclusion_aggs\"]\n",
    "feats_1 = [col for col in train_feats.columns if any(ending in col for ending in endings_1)]\n",
    "\n",
    "endings_2 = [\"pressed_keys\", \"paussed_features\", \"segments_visit\", \"paragraph_ratios\", 'fft', 'time_feat']\n",
    "feats_2 = [col for col in train_feats.columns if any(ending in col for ending in endings_2)]\n",
    "\n",
    "endings_3 = [\"intro_punctuation\", \"body_punctuation\", \"conclusion_punctuation\", \"intro_aggs\", \"body_aggs\", \"conclusion_aggs\", \"key_mouse\", \"avg_char_deletion_per_minute\"]\n",
    "feats_3 = [col for col in train_feats.columns if any(ending in col for ending in endings_3)]\n",
    "\n",
    "endings_4 = [\"time_feat\", \"time_gaps\", \"cursor_word_changes\", \"IWD\"]\n",
    "feats_4 = [col for col in train_feats.columns if any(ending in col for ending in endings_4)]"
   ]
  },
  {
   "cell_type": "code",
   "execution_count": 34,
   "metadata": {},
   "outputs": [],
   "source": [
    "counter = 0\n",
    "new_columns = {}\n",
    "for col in cols:\n",
    "    if col != 'id' and col != 'score':\n",
    "        new_columns[col] = counter\n",
    "        counter += 1\n",
    "\n",
    "train_feats.rename(columns=new_columns, inplace=True)\n",
    "\n",
    "# Rename columns\n",
    "feats_1 = [v for k, v in new_columns.items() if k in feats_1]\n",
    "feats_2 = [v for k, v in new_columns.items() if k in feats_2]\n",
    "feats_3 = [v for k, v in new_columns.items() if k in feats_3]\n",
    "feats_4 = [v for k, v in new_columns.items() if k in feats_4]"
   ]
  },
  {
   "cell_type": "code",
   "execution_count": 35,
   "metadata": {},
   "outputs": [],
   "source": [
    "with open(f'{dir_to_save}/new_col_dict.pkl', 'wb') as f:\n",
    "    pickle.dump(new_columns, f)"
   ]
  },
  {
   "cell_type": "code",
   "execution_count": 36,
   "metadata": {},
   "outputs": [],
   "source": [
    "target_col = ['score']\n",
    "drop_cols = ['id']\n",
    "train_cols = [col for col in train_feats.columns if col not in target_col + drop_cols]"
   ]
  },
  {
   "cell_type": "code",
   "execution_count": 37,
   "metadata": {},
   "outputs": [],
   "source": [
    "class FeatureSelector(BaseEstimator, TransformerMixin):\n",
    "    def __init__(self, feature_names):\n",
    "        self.feature_names = feature_names\n",
    "\n",
    "    def fit(self, X, y=None):\n",
    "        return self\n",
    "\n",
    "    def transform(self, X):\n",
    "        return X[self.feature_names]"
   ]
  },
  {
   "cell_type": "code",
   "execution_count": 38,
   "metadata": {},
   "outputs": [],
   "source": [
    "xgb_params = {'lambda': 0.16, 'alpha': 0.001, 'colsample_bytree': 0.4, 'colsample_bynode': 0.7, 'colsample_bylevel': 0.9, 'subsample': 0.9, 'learning_rate': 0.008, 'n_estimators': 750, 'max_depth': 3}\n",
    "lgb_params = {'reg_lambda': 7.5, 'reg_alpha': 0.0004, 'colsample_bytree': 0.7, 'colsample_bynode': 0.8, 'subsample': 0.9, 'learning_rate': 0.005, 'max_depth': 15, 'min_child_samples': 13, 'num_leaves': 10, 'n_estimators': 1000}\n",
    "cat_params = {'iterations': 1250, 'learning_rate': 0.01, 'depth': 10, 'reg_lambda': 0.0005, 'min_data_in_leaf': 60}"
   ]
  },
  {
   "cell_type": "code",
   "execution_count": 39,
   "metadata": {},
   "outputs": [],
   "source": [
    "def stack_calc_OOF(x_train, y_train, x_valid, y_valid, iter, split, RANDOM_STATE=42, noise=False):\n",
    "\n",
    "    # lr_pipeline = make_pipeline(\n",
    "    #     SimpleImputer(strategy='median'),\n",
    "    #     MinMaxScaler(feature_range=(-1, 1)),\n",
    "    #     LinearRegression()\n",
    "    # )\n",
    "\n",
    "    svr_pipeline = make_pipeline(\n",
    "        SimpleImputer(strategy='median'),\n",
    "        MinMaxScaler(feature_range=(-1, 1)),\n",
    "        SVR()\n",
    "    )\n",
    "\n",
    "    lgb_all_params = {\n",
    "        \"objective\": \"rmse\",\n",
    "        \"metric\": \"rmse\",\n",
    "        'random_state': RANDOM_STATE,\n",
    "        \"verbosity\": -1,\n",
    "        \"n_jobs\": -1,\n",
    "        **lgb_params\n",
    "    }\n",
    "\n",
    "    xgb_all_params = {\n",
    "        'tree_method':'exact',\n",
    "        'objective': 'reg:squarederror',\n",
    "        'eval_metric': ['rmse'],\n",
    "        'seed': RANDOM_STATE,\n",
    "        'nthread': -1,\n",
    "        **xgb_params\n",
    "    }\n",
    "\n",
    "    cat_all_params = {\n",
    "        'loss_function': 'RMSE',\n",
    "        'eval_metric': 'RMSE',\n",
    "        'random_seed': RANDOM_STATE,\n",
    "        \"task_type\":\"CPU\",\n",
    "        'silent': True,\n",
    "        # **cat_params\n",
    "    }\n",
    "\n",
    "\n",
    "    estimators = [\n",
    "        ('lgb1', make_pipeline(FeatureSelector(feats_1), lgb.LGBMRegressor(**lgb_all_params))),\n",
    "        # ('lgb2', make_pipeline(FeatureSelector(feats_2), lgb.LGBMRegressor(**lgb_all_params))),\n",
    "        # ('lgb3', make_pipeline(FeatureSelector(feats_3), lgb.LGBMRegressor(**lgb_all_params))),\n",
    "        # ('lgb4', make_pipeline(FeatureSelector(feats_4), lgb.LGBMRegressor(**lgb_all_params))),\n",
    "        ('xgb1', make_pipeline(FeatureSelector(feats_1), xgb.XGBRegressor(**xgb_all_params))),\n",
    "        # ('xgb2', make_pipeline(FeatureSelector(feats_2), xgb.XGBRegressor(**xgb_all_params))),\n",
    "        # ('xgb3', make_pipeline(FeatureSelector(feats_3), xgb.XGBRegressor(**xgb_all_params))),\n",
    "        # ('xgb4', make_pipeline(FeatureSelector(feats_4), xgb.XGBRegressor(**xgb_all_params))),\n",
    "        ('cat1', make_pipeline(FeatureSelector(feats_1), CatBoostRegressor(**cat_all_params))),\n",
    "        # ('cat2', make_pipeline(FeatureSelector(feats_2), CatBoostRegressor(**cat_all_params))),\n",
    "        # ('cat3', make_pipeline(FeatureSelector(feats_3), CatBoostRegressor(**cat_all_params))),\n",
    "        # ('cat4', make_pipeline(FeatureSelector(feats_4), CatBoostRegressor(**cat_all_params))),\n",
    "        # ('svr1', make_pipeline(FeatureSelector(feats_1), svr_pipeline)),\n",
    "        # ('svr2', make_pipeline(FeatureSelector(feats_2), svr_pipeline)),\n",
    "        # ('svr3', make_pipeline(FeatureSelector(feats_3), svr_pipeline)),\n",
    "        # ('svr4', make_pipeline(FeatureSelector(feats_4), svr_pipeline)),\n",
    "    ]\n",
    "\n",
    "    model = VotingRegressor(\n",
    "        estimators=estimators,\n",
    "        weights=[0.4, 0.4, 0.2]\n",
    "    )\n",
    "\n",
    "    if noise:\n",
    "        y_train = y_train + np.random.normal(0, 0.20, y_train.shape)\n",
    "    y_train = np.maximum(y_train, 1)\n",
    "    y_train = np.minimum(y_train, 5.5)\n",
    "    \n",
    "    model.fit(x_train, y_train.values.ravel())\n",
    "    \n",
    "    with open(f'./{dir_to_save}/voting_iter{iter}_split{split}_val.pkl', 'wb') as f:\n",
    "        pickle.dump(model, f)\n",
    "\n",
    "    # Predict\n",
    "    valid_predict = model.predict(x_valid)\n",
    "    print(f'RMSE: {mean_squared_error(y_valid, valid_predict, squared=False)}')\n",
    "\n",
    "    # Return OOFs\n",
    "    return valid_predict"
   ]
  },
  {
   "cell_type": "code",
   "execution_count": 40,
   "metadata": {},
   "outputs": [
    {
     "name": "stdout",
     "output_type": "stream",
     "text": [
      "Iterations: 1/5\n"
     ]
    },
    {
     "name": "stderr",
     "output_type": "stream",
     "text": [
      "c:\\Users\\luis.pinto1\\AppData\\Local\\Programs\\Python\\Python310\\lib\\site-packages\\sklearn\\model_selection\\_split.py:700: UserWarning: The least populated class in y has only 5 members, which is less than n_splits=10.\n",
      "  warnings.warn(\n"
     ]
    },
    {
     "name": "stdout",
     "output_type": "stream",
     "text": [
      "RMSE: 0.6158103250334072\n",
      "RMSE: 0.6422231222911678\n",
      "RMSE: 0.5977513693153433\n",
      "RMSE: 0.6112941638697458\n",
      "RMSE: 0.645629132452149\n",
      "RMSE: 0.5526065177539976\n",
      "RMSE: 0.6149379207540276\n",
      "RMSE: 0.5940877886981099\n",
      "RMSE: 0.5599064204961489\n",
      "RMSE: 0.6381862916904714\n",
      "Iterations: 2/5\n"
     ]
    },
    {
     "name": "stderr",
     "output_type": "stream",
     "text": [
      "c:\\Users\\luis.pinto1\\AppData\\Local\\Programs\\Python\\Python310\\lib\\site-packages\\sklearn\\model_selection\\_split.py:700: UserWarning: The least populated class in y has only 5 members, which is less than n_splits=10.\n",
      "  warnings.warn(\n"
     ]
    },
    {
     "name": "stdout",
     "output_type": "stream",
     "text": [
      "RMSE: 0.5978021776693921\n",
      "RMSE: 0.5851669959780335\n",
      "RMSE: 0.601355688989611\n",
      "RMSE: 0.6057135242466378\n",
      "RMSE: 0.5766764267608263\n",
      "RMSE: 0.5796967679830931\n",
      "RMSE: 0.5953296554677963\n",
      "RMSE: 0.6204328786578498\n",
      "RMSE: 0.6326139249006726\n",
      "RMSE: 0.661862750076147\n",
      "Iterations: 3/5\n"
     ]
    },
    {
     "name": "stderr",
     "output_type": "stream",
     "text": [
      "c:\\Users\\luis.pinto1\\AppData\\Local\\Programs\\Python\\Python310\\lib\\site-packages\\sklearn\\model_selection\\_split.py:700: UserWarning: The least populated class in y has only 5 members, which is less than n_splits=10.\n",
      "  warnings.warn(\n"
     ]
    },
    {
     "name": "stdout",
     "output_type": "stream",
     "text": [
      "RMSE: 0.6091058708329188\n",
      "RMSE: 0.6188464509837717\n",
      "RMSE: 0.6168049929198118\n",
      "RMSE: 0.5929834023902986\n",
      "RMSE: 0.574065238536616\n",
      "RMSE: 0.6151016396148432\n",
      "RMSE: 0.6449135612824579\n",
      "RMSE: 0.5921355443064898\n",
      "RMSE: 0.586947373845579\n",
      "RMSE: 0.6122375463569648\n",
      "Iterations: 4/5\n"
     ]
    },
    {
     "name": "stderr",
     "output_type": "stream",
     "text": [
      "c:\\Users\\luis.pinto1\\AppData\\Local\\Programs\\Python\\Python310\\lib\\site-packages\\sklearn\\model_selection\\_split.py:700: UserWarning: The least populated class in y has only 5 members, which is less than n_splits=10.\n",
      "  warnings.warn(\n"
     ]
    },
    {
     "name": "stdout",
     "output_type": "stream",
     "text": [
      "RMSE: 0.6111563989640145\n",
      "RMSE: 0.6127527363842514\n",
      "RMSE: 0.6112076557527524\n",
      "RMSE: 0.624600009433526\n",
      "RMSE: 0.6260872781927047\n",
      "RMSE: 0.6170184446092343\n",
      "RMSE: 0.5870878429908241\n",
      "RMSE: 0.5838563389516426\n",
      "RMSE: 0.5588910054527403\n",
      "RMSE: 0.6475179837958679\n",
      "Iterations: 5/5\n"
     ]
    },
    {
     "name": "stderr",
     "output_type": "stream",
     "text": [
      "c:\\Users\\luis.pinto1\\AppData\\Local\\Programs\\Python\\Python310\\lib\\site-packages\\sklearn\\model_selection\\_split.py:700: UserWarning: The least populated class in y has only 5 members, which is less than n_splits=10.\n",
      "  warnings.warn(\n"
     ]
    },
    {
     "name": "stdout",
     "output_type": "stream",
     "text": [
      "RMSE: 0.6054473926014431\n",
      "RMSE: 0.5836793281334074\n",
      "RMSE: 0.6131355142572057\n",
      "RMSE: 0.5972524693670932\n",
      "RMSE: 0.6184074254037428\n",
      "RMSE: 0.6279470363501518\n",
      "RMSE: 0.6516158493520193\n",
      "RMSE: 0.5650231972758468\n",
      "RMSE: 0.5936452536831459\n",
      "RMSE: 0.6105310753089748\n"
     ]
    }
   ],
   "source": [
    "OOF_SCORE = np.zeros(len(train_feats))\n",
    "\n",
    "models_dict = {}\n",
    "preds_dict = {}\n",
    "count = 0\n",
    "for _ in train_feats['id'].unique():\n",
    "    preds_dict[count] = []\n",
    "    count+=1\n",
    "\n",
    "\n",
    "for i in range(iterations):\n",
    "\n",
    "    print(f'Iterations: {i+1}/{iterations}')\n",
    "\n",
    "    if stratification:\n",
    "        kf = model_selection.StratifiedKFold(n_splits=n_splits, random_state=41 + i, shuffle=True)\n",
    "        j = 0\n",
    "        for fold, (train_idx, valid_idx) in enumerate(kf.split(train_feats, score_transformed)):\n",
    "            \n",
    "            X_train, y_train = train_feats.iloc[train_idx][train_cols], train_feats.iloc[train_idx][target_col]\n",
    "            X_valid, y_valid = train_feats.iloc[valid_idx][train_cols], train_feats.iloc[valid_idx][target_col]\n",
    "\n",
    "            valid_predict = stack_calc_OOF(X_train, y_train, X_valid, y_valid, i, j, RANDOM_STATE=41 + i)\n",
    "\n",
    "            OOF_SCORE[valid_idx] += valid_predict / iterations\n",
    "            j+=1\n",
    "\n",
    "    else:\n",
    "        kf = model_selection.KFold(n_splits=n_splits, random_state=41 + i, shuffle=True)\n",
    "        j = 0\n",
    "        for fold, (train_idx, valid_idx) in enumerate(kf.split(train_feats)):\n",
    "            \n",
    "            X_train, y_train = train_feats.iloc[train_idx][train_cols], train_feats.iloc[train_idx][target_col]\n",
    "            X_valid, y_valid = train_feats.iloc[valid_idx][train_cols], train_feats.iloc[valid_idx][target_col]\n",
    "\n",
    "            valid_predict = stack_calc_OOF(X_train, y_train, X_valid, y_valid, i, j, RANDOM_STATE=41 + i)\n",
    "\n",
    "            OOF_SCORE[valid_idx] += valid_predict / iterations\n",
    "            j+=1"
   ]
  },
  {
   "cell_type": "code",
   "execution_count": 44,
   "metadata": {},
   "outputs": [
    {
     "name": "stdout",
     "output_type": "stream",
     "text": [
      "OOF metric Stack = 0.60590\n"
     ]
    }
   ],
   "source": [
    "print('OOF metric Stack = {:.5f}'.format(metrics.mean_squared_error(train_feats[target_col], \n",
    "                                                                   OOF_SCORE,\n",
    "                                                                   squared=False)))"
   ]
  },
  {
   "cell_type": "code",
   "execution_count": 42,
   "metadata": {},
   "outputs": [],
   "source": [
    "import pickle\n",
    "\n",
    "with open(f'{dir_to_save}/OOF_base_voting.pkl', 'wb') as f:\n",
    "    pickle.dump(OOF_SCORE, f)"
   ]
  },
  {
   "cell_type": "code",
   "execution_count": 43,
   "metadata": {},
   "outputs": [
    {
     "data": {
      "image/png": "[encoded data removed]",
      "text/plain": [
       "<Figure size 600x600 with 1 Axes>"
      ]
     },
     "metadata": {},
     "output_type": "display_data"
    }
   ],
   "source": [
    "f, ax = plt.subplots(figsize=(6, 6))\n",
    "ax.scatter(OOF_SCORE, train_feats['score'])\n",
    "add_identity(ax, color='r', ls='--')\n",
    "# ax.scatter(stds, train_scores_df['score']-means)\n",
    "plt.ylabel('True Values')\n",
    "plt.xlabel('Predictions')\n",
    "\n",
    "plt.show()"
   ]
  },
  {
   "cell_type": "code",
   "execution_count": null,
   "metadata": {},
   "outputs": [],
   "source": []
  }
 ],
 "metadata": {
  "kernelspec": {
   "display_name": "Python 3",
   "language": "python",
   "name": "python3"
  },
  "language_info": {
   "codemirror_mode": {
    "name": "ipython",
    "version": 3
   },
   "file_extension": ".py",
   "mimetype": "text/x-python",
   "name": "python",
   "nbconvert_exporter": "python",
   "pygments_lexer": "ipython3",
   "version": "3.10.5"
  }
 },
 "nbformat": 4,
 "nbformat_minor": 2
}
