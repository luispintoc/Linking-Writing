{
 "cells": [
  {
   "cell_type": "code",
   "execution_count": 1,
   "metadata": {},
   "outputs": [],
   "source": [
    "import gc\n",
    "import os\n",
    "import itertools\n",
    "import pickle\n",
    "import re\n",
    "import time\n",
    "from random import choice, choices\n",
    "from functools import reduce\n",
    "from tqdm import tqdm\n",
    "from itertools import cycle\n",
    "import numpy as np\n",
    "import pandas as pd\n",
    "import seaborn as sns\n",
    "import matplotlib.pyplot as plt\n",
    "from collections import Counter\n",
    "from functools import reduce\n",
    "from itertools import cycle\n",
    "from scipy import stats\n",
    "from scipy.stats import skew, kurtosis\n",
    "from sklearn import metrics, model_selection, preprocessing, linear_model, ensemble, decomposition, tree\n",
    "import lightgbm as lgb\n",
    "import optuna\n",
    "from sklearn.metrics import mean_squared_error\n",
    "from sklearn.model_selection import train_test_split\n",
    "from sklearn.ensemble import GradientBoostingRegressor, RandomForestRegressor, StackingRegressor\n",
    "from catboost import CatBoostRegressor\n",
    "from sklearn.pipeline import make_pipeline\n",
    "from sklearn.impute import SimpleImputer\n",
    "from sklearn.svm import SVR\n",
    "from sklearn.preprocessing import MinMaxScaler\n",
    "\n",
    "\n",
    "import sys\n",
    "sys.path.append('../../')\n",
    "from utils import *"
   ]
  },
  {
   "cell_type": "markdown",
   "metadata": {},
   "source": [
    "## Prepro: change names to numbers"
   ]
  },
  {
   "cell_type": "code",
   "execution_count": 12,
   "metadata": {},
   "outputs": [],
   "source": [
    "train_feats = pd.read_csv('../../feature_eng/output/train_double_corr_786feats.csv')\n",
    "train_score = pd.read_csv('../../data/train_scores.csv')\n",
    "\n",
    "# train_feats_first10min = pd.read_csv('../../feature_eng/output/train_double_corr_first_10min_786feats.csv')\n",
    "# train_feats_second10min = pd.read_csv('../../feature_eng/output/train_double_corr_second_10min_786feats.csv')\n",
    "# train_feats = train_feats.merge(train_feats_first10min, on='id', how='left')\n",
    "# train_feats = train_feats.merge(train_feats_second10min, on='id', how='left')\n",
    "\n",
    "if 'score' not in train_feats.columns:\n",
    "    train_feats = pd.merge(train_feats, train_score, on='id', how='left')\n",
    "\n",
    "train_feats.replace([np.inf, -np.inf], np.nan, inplace=True)\n",
    "cols = train_feats.columns\n",
    "\n",
    "from sklearn.preprocessing import LabelEncoder\n",
    "le = LabelEncoder()\n",
    "le.fit(train_feats['score'])\n",
    "\n",
    "score_transformed = le.transform(train_feats['score'])"
   ]
  },
  {
   "cell_type": "markdown",
   "metadata": {},
   "source": [
    "## Keep columns"
   ]
  },
  {
   "cell_type": "code",
   "execution_count": 13,
   "metadata": {},
   "outputs": [
    {
     "name": "stdout",
     "output_type": "stream",
     "text": [
      "171\n"
     ]
    }
   ],
   "source": [
    "# Options:\n",
    "# \"count_bursts\", \"word_sent_parag_agg\", \"pressed_keys\", \"paussed_features\"\n",
    "# \"segments_visit\", \"paragraph_ratios\", \"time_gaps\", \"cursor_word_changes\"\n",
    "# \"punctuation\", \"key_mouse\", \"time_feat\", \"fft\", \"avg_event_per_minute\", \n",
    "# \"avg_char_deletion_per_minute\", \"avg_char_insert_per_minute\"\n",
    "# \"IKI_word\", \"IKI_sentence\", \"IKI_paragraph\", \"latencies\", \"IWD\"\n",
    "# 'idle'\n",
    "\n",
    "endings_to_keep = [\"-count_bursts\", \"-word_sent_parag_agg\"]\n",
    "endings_to_keep += [\"id\"]\n",
    "\n",
    "dir_to_save = \"stacking2\"\n",
    "stratification = True\n",
    "n_jobs = -1\n",
    "noise = True\n",
    "iterations = 5\n",
    "n_splits = 4\n",
    "\n",
    "try:\n",
    "    os.mkdir(dir_to_save)\n",
    "except:\n",
    "    print('Already exists')\n",
    "    sys.exit()\n",
    "\n",
    "# cols_to_keep = [col for col in train_feats.columns if col.endswith(tuple(endings_to_keep)) or col in ['id', 'score']]\n",
    "cols_to_keep = [col for col in train_feats.columns if any(ending in col for ending in endings_to_keep) or col in ['id', 'score']]\n",
    "\n",
    "with open(f'{dir_to_save}/feature_list.pkl', 'wb') as f:\n",
    "    pickle.dump(cols_to_keep, f)\n",
    "\n",
    "train_feats = train_feats[cols_to_keep]\n",
    "print(len(train_feats.columns)-2)"
   ]
  },
  {
   "cell_type": "code",
   "execution_count": 14,
   "metadata": {},
   "outputs": [],
   "source": [
    "counter = 0\n",
    "new_columns = {}\n",
    "for col in cols:\n",
    "    if col != 'id' and col != 'score':\n",
    "        new_columns[col] = counter\n",
    "        counter += 1\n",
    "\n",
    "train_feats.rename(columns=new_columns, inplace=True)"
   ]
  },
  {
   "cell_type": "code",
   "execution_count": 15,
   "metadata": {},
   "outputs": [],
   "source": [
    "target_col = ['score']\n",
    "drop_cols = ['id']\n",
    "train_cols = [col for col in train_feats.columns if col not in target_col + drop_cols]"
   ]
  },
  {
   "cell_type": "code",
   "execution_count": 16,
   "metadata": {},
   "outputs": [],
   "source": [
    "def objective(trial,train_x,train_y,val_x,val_y,RANDOM_STATE=41):\n",
    "\n",
    "    params = {\n",
    "        'lambda': trial.suggest_float('lambda', 1e-4, 10.0, log=True),\n",
    "        'alpha': trial.suggest_float('alpha', 1e-4, 10.0, log=True),\n",
    "        'colsample_bytree': trial.suggest_categorical('colsample_bytree', [0.7,0.9]),\n",
    "        'colsample_bynode': trial.suggest_categorical('colsample_bynode', [0.7,0.9]),\n",
    "        'colsample_bylevel': trial.suggest_categorical('colsample_bylevel', [0.7,0.9]),\n",
    "        'subsample': trial.suggest_categorical('subsample', [0.4,0.7,0.9]),\n",
    "        'eta': trial.suggest_float('learning_rate', 5e-6, 5e-2, log=True),\n",
    "        'n_estimators': trial.suggest_categorical('n_estimators', [10, 20, 30, 50, 100, 200, 500]),\n",
    "        'max_depth': trial.suggest_int('max_depth', 2, 5, step=1),\n",
    "    }\n",
    "\n",
    "    all_params = {\n",
    "        'tree_method':'exact',\n",
    "        'objective': 'reg:squarederror',\n",
    "        'eval_metric': ['rmse'],\n",
    "        'seed': RANDOM_STATE,\n",
    "        'nthread': n_jobs,\n",
    "        **params\n",
    "    }\n",
    "\n",
    "    svr_pipeline = make_pipeline(\n",
    "        SimpleImputer(strategy='median'),\n",
    "        SVR()\n",
    "    )\n",
    "\n",
    "    estimators = [\n",
    "        ('lgb', lgb.LGBMRegressor(verbosity=-1, n_jobs=-1)),\n",
    "        ('xgb', xgb.XGBRegressor(nthread=-1)),\n",
    "        ('cat', CatBoostRegressor(silent=True))\n",
    "    ]\n",
    "    \n",
    "    model = StackingRegressor(\n",
    "        estimators=estimators,\n",
    "        final_estimator=svr_pipeline,\n",
    "        passthrough=False,\n",
    "    )\n",
    "    \n",
    "    model.fit(train_x, train_y.values.ravel())\n",
    "    \n",
    "    preds = model.predict(val_x)\n",
    "    \n",
    "    rmse = mean_squared_error(val_y, preds, squared=False)\n",
    "    \n",
    "    return rmse"
   ]
  },
  {
   "cell_type": "code",
   "execution_count": 17,
   "metadata": {},
   "outputs": [],
   "source": [
    "def stack_calc_OOF(x_train, y_train, x_valid, y_valid, iter, split, RANDOM_STATE=42, noise=False):\n",
    "    # split into two validations\n",
    "    x_valid1, x_valid2, y_valid1, y_valid2 = train_test_split(x_valid, y_valid, test_size=0.5, random_state=RANDOM_STATE, shuffle=False)\n",
    "\n",
    "    '''Use v1, test on v2'''\n",
    "\n",
    "    # Bayesian Opt using v1\n",
    "    # study = optuna.create_study(direction='minimize')\n",
    "    # study.optimize(lambda trial: objective(trial, x_train, y_train, x_valid1, y_valid1,RANDOM_STATE), n_trials=20)\n",
    "    # best_trial1 = study.best_trial.params\n",
    "\n",
    "    # Get best params\n",
    "    # best_params = {\n",
    "    #     'tree_method':'exact',\n",
    "    #     'objective': 'reg:squarederror',\n",
    "    #     'eval_metric': ['rmse'],\n",
    "    #     'seed': RANDOM_STATE,\n",
    "    #     'nthread': n_jobs,\n",
    "    #     **best_trial1\n",
    "    # }\n",
    "\n",
    "    svr_pipeline = make_pipeline(\n",
    "        SimpleImputer(strategy='median'),\n",
    "        MinMaxScaler(feature_range=(-1, 1)),\n",
    "        SVR()\n",
    "    )\n",
    "\n",
    "    estimators = [\n",
    "        ('lgb', lgb.LGBMRegressor(verbosity=-1, n_jobs=-1)),\n",
    "        ('xgb', xgb.XGBRegressor(nthread=-1)),\n",
    "        ('cat', CatBoostRegressor(silent=True))\n",
    "    ]\n",
    "    \n",
    "    model = StackingRegressor(\n",
    "        estimators=estimators,\n",
    "        final_estimator=svr_pipeline,\n",
    "        passthrough=False,\n",
    "    )\n",
    "\n",
    "    if noise:\n",
    "        y_train = y_train + np.random.normal(0, 0.25, y_train.shape)\n",
    "    model.fit(x_train, y_train.values.ravel())\n",
    "    with open(f'./{dir_to_save}/stack_iter{iter}_split{split}_val2.pkl', 'wb') as f:\n",
    "        pickle.dump(model, f)\n",
    "\n",
    "    # Predict on v2\n",
    "    valid2_predict = model.predict(x_valid2)\n",
    "\n",
    "\n",
    "    '''Use v2, test on v1'''\n",
    "\n",
    "    # Bayesian Opt using v2\n",
    "    # study = optuna.create_study(direction='minimize')\n",
    "    # study.optimize(lambda trial: objective(trial, x_train, y_train, x_valid2, y_valid2,RANDOM_STATE), n_trials=20)\n",
    "    # best_trial2 = study.best_trial.params\n",
    "\n",
    "    # Get best params\n",
    "    # best_params = {\n",
    "    #     'tree_method':'exact',\n",
    "    #     'objective': 'reg:squarederror',\n",
    "    #     'eval_metric': ['rmse'],\n",
    "    #     'seed': RANDOM_STATE,\n",
    "    #     'nthread': n_jobs,\n",
    "    #     **best_trial2\n",
    "    # }\n",
    "\n",
    "    svr_pipeline = make_pipeline(\n",
    "        SimpleImputer(strategy='median'),\n",
    "        MinMaxScaler(feature_range=(-1, 1)),\n",
    "        SVR()\n",
    "    )\n",
    "        \n",
    "    estimators = [\n",
    "        ('lgb', lgb.LGBMRegressor(verbosity=-1, n_jobs=-1)),\n",
    "        ('xgb', xgb.XGBRegressor(nthread=-1)),\n",
    "        ('cat', CatBoostRegressor(silent=True))\n",
    "    ]\n",
    "    \n",
    "    model = StackingRegressor(\n",
    "        estimators=estimators,\n",
    "        final_estimator=svr_pipeline,\n",
    "        passthrough=False,\n",
    "    )\n",
    "\n",
    "    if noise:\n",
    "        y_train = y_train + np.random.normal(0, 0.25, y_train.shape)\n",
    "    model.fit(x_train, y_train.values.ravel())\n",
    "    with open(f'./{dir_to_save}/stack_iter{iter}_split{split}_val1.pkl', 'wb') as f:\n",
    "        pickle.dump(model, f)\n",
    "\n",
    "    # Predict on v1\n",
    "    valid1_predict = model.predict(x_valid1)\n",
    "\n",
    "    # Return OOFs\n",
    "    return np.concatenate([valid1_predict,valid2_predict])"
   ]
  },
  {
   "cell_type": "code",
   "execution_count": 18,
   "metadata": {},
   "outputs": [
    {
     "name": "stdout",
     "output_type": "stream",
     "text": [
      "Iterations: 1/5\n"
     ]
    },
    {
     "name": "stdout",
     "output_type": "stream",
     "text": [
      "Iterations: 2/5\n",
      "Iterations: 3/5\n",
      "Iterations: 4/5\n",
      "Iterations: 5/5\n"
     ]
    }
   ],
   "source": [
    "OOF_SCORE = np.zeros(len(train_feats))\n",
    "\n",
    "models_dict = {}\n",
    "preds_dict = {}\n",
    "count = 0\n",
    "for _ in train_feats['id'].unique():\n",
    "    preds_dict[count] = []\n",
    "    count+=1\n",
    "\n",
    "\n",
    "for i in range(iterations):\n",
    "\n",
    "    print(f'Iterations: {i+1}/{iterations}')\n",
    "\n",
    "    if stratification:\n",
    "        kf = model_selection.StratifiedKFold(n_splits=n_splits, random_state=41 + i, shuffle=True)\n",
    "        j = 0\n",
    "        for fold, (train_idx, valid_idx) in enumerate(kf.split(train_feats, score_transformed)):\n",
    "            \n",
    "            X_train, y_train = train_feats.iloc[train_idx][train_cols], train_feats.iloc[train_idx][target_col]\n",
    "            X_valid, y_valid = train_feats.iloc[valid_idx][train_cols], train_feats.iloc[valid_idx][target_col]\n",
    "\n",
    "            valid_predict = stack_calc_OOF(X_train, y_train, X_valid, y_valid, i, j, RANDOM_STATE=41 + i)\n",
    "\n",
    "            OOF_SCORE[valid_idx] += valid_predict / iterations\n",
    "            j+=1\n",
    "\n",
    "    else:\n",
    "        kf = model_selection.KFold(n_splits=n_splits, random_state=41 + i, shuffle=True)\n",
    "        j = 0\n",
    "        for fold, (train_idx, valid_idx) in enumerate(kf.split(train_feats)):\n",
    "            \n",
    "            X_train, y_train = train_feats.iloc[train_idx][train_cols], train_feats.iloc[train_idx][target_col]\n",
    "            X_valid, y_valid = train_feats.iloc[valid_idx][train_cols], train_feats.iloc[valid_idx][target_col]\n",
    "\n",
    "            valid_predict = stack_calc_OOF(X_train, y_train, X_valid, y_valid, i, j, RANDOM_STATE=41 + i)\n",
    "\n",
    "            OOF_SCORE[valid_idx] += valid_predict / iterations\n",
    "            j+=1"
   ]
  },
  {
   "cell_type": "code",
   "execution_count": 19,
   "metadata": {},
   "outputs": [
    {
     "name": "stdout",
     "output_type": "stream",
     "text": [
      "OOF metric Stack = 0.60994\n"
     ]
    }
   ],
   "source": [
    "print('OOF metric Stack = {:.5f}'.format(metrics.mean_squared_error(train_feats[target_col], \n",
    "                                                                   OOF_SCORE,\n",
    "                                                                   squared=False)))"
   ]
  },
  {
   "cell_type": "code",
   "execution_count": 1,
   "metadata": {},
   "outputs": [],
   "source": [
    "# import pickle\n",
    "\n",
    "# with open(f'{dir_to_save}/OOF_base_xgb.pkl', 'wb') as f:\n",
    "#     pickle.dump(OOF_SCORE, f)"
   ]
  },
  {
   "cell_type": "code",
   "execution_count": 21,
   "metadata": {},
   "outputs": [
    {
     "data": {
      "image/png": "[encoded data removed]",
      "text/plain": [
       "<Figure size 600x600 with 1 Axes>"
      ]
     },
     "metadata": {},
     "output_type": "display_data"
    }
   ],
   "source": [
    "f, ax = plt.subplots(figsize=(6, 6))\n",
    "ax.scatter(OOF_SCORE, train_feats['score'])\n",
    "add_identity(ax, color='r', ls='--')\n",
    "# ax.scatter(stds, train_scores_df['score']-means)\n",
    "plt.ylabel('True Values')\n",
    "plt.xlabel('Predictions')\n",
    "\n",
    "plt.show()"
   ]
  },
  {
   "cell_type": "code",
   "execution_count": null,
   "metadata": {},
   "outputs": [],
   "source": []
  }
 ],
 "metadata": {
  "kernelspec": {
   "display_name": "Python 3",
   "language": "python",
   "name": "python3"
  },
  "language_info": {
   "codemirror_mode": {
    "name": "ipython",
    "version": 3
   },
   "file_extension": ".py",
   "mimetype": "text/x-python",
   "name": "python",
   "nbconvert_exporter": "python",
   "pygments_lexer": "ipython3",
   "version": "3.10.5"
  }
 },
 "nbformat": 4,
 "nbformat_minor": 2
}
