{
 "cells": [
  {
   "cell_type": "code",
   "execution_count": 1,
   "id": "ad7e76f1",
   "metadata": {
    "execution": {
     "iopub.execute_input": "2023-10-03T22:55:39.489145Z",
     "iopub.status.busy": "2023-10-03T22:55:39.488522Z",
     "iopub.status.idle": "2023-10-03T22:55:40.645714Z",
     "shell.execute_reply": "2023-10-03T22:55:40.644590Z"
    },
    "id": "nPCX_PTMjpSi",
    "papermill": {
     "duration": 1.164878,
     "end_time": "2023-10-03T22:55:40.648318",
     "exception": false,
     "start_time": "2023-10-03T22:55:39.483440",
     "status": "completed"
    },
    "tags": []
   },
   "outputs": [],
   "source": [
    "import numpy as np\n",
    "import pandas as pd\n",
    "import matplotlib.pyplot as plt\n",
    "import plotly.express as px"
   ]
  },
  {
   "cell_type": "code",
   "execution_count": 2,
   "id": "76af1aaa",
   "metadata": {},
   "outputs": [],
   "source": [
    "y = pd.read_csv('../data/train_scores.csv')"
   ]
  },
  {
   "cell_type": "code",
   "execution_count": 3,
   "id": "d18c6640",
   "metadata": {},
   "outputs": [
    {
     "data": {
      "text/plain": [
       "array([3.5, 6. , 2. , 4. , 4.5, 2.5, 5. , 3. , 1.5, 5.5, 1. , 0.5])"
      ]
     },
     "execution_count": 3,
     "metadata": {},
     "output_type": "execute_result"
    }
   ],
   "source": [
    "y['score'].unique()"
   ]
  },
  {
   "cell_type": "code",
   "execution_count": 4,
   "id": "a9301e99",
   "metadata": {},
   "outputs": [],
   "source": [
    "train_df = pd.read_csv('../data/train_logs.csv')"
   ]
  },
  {
   "cell_type": "code",
   "execution_count": 17,
   "id": "9ad8aaa1",
   "metadata": {},
   "outputs": [
    {
     "data": {
      "text/html": [
       "<div>\n",
       "<style scoped>\n",
       "    .dataframe tbody tr th:only-of-type {\n",
       "        vertical-align: middle;\n",
       "    }\n",
       "\n",
       "    .dataframe tbody tr th {\n",
       "        vertical-align: top;\n",
       "    }\n",
       "\n",
       "    .dataframe thead th {\n",
       "        text-align: right;\n",
       "    }\n",
       "</style>\n",
       "<table border=\"1\" class=\"dataframe\">\n",
       "  <thead>\n",
       "    <tr style=\"text-align: right;\">\n",
       "      <th></th>\n",
       "      <th>id</th>\n",
       "      <th>event_id</th>\n",
       "      <th>down_time</th>\n",
       "      <th>up_time</th>\n",
       "      <th>action_time</th>\n",
       "      <th>activity</th>\n",
       "      <th>down_event</th>\n",
       "      <th>up_event</th>\n",
       "      <th>text_change</th>\n",
       "      <th>cursor_position</th>\n",
       "      <th>word_count</th>\n",
       "    </tr>\n",
       "  </thead>\n",
       "  <tbody>\n",
       "    <tr>\n",
       "      <th>0</th>\n",
       "      <td>001519c8</td>\n",
       "      <td>1</td>\n",
       "      <td>4526</td>\n",
       "      <td>4557</td>\n",
       "      <td>31</td>\n",
       "      <td>Nonproduction</td>\n",
       "      <td>Leftclick</td>\n",
       "      <td>Leftclick</td>\n",
       "      <td>NoChange</td>\n",
       "      <td>0</td>\n",
       "      <td>0</td>\n",
       "    </tr>\n",
       "    <tr>\n",
       "      <th>1</th>\n",
       "      <td>001519c8</td>\n",
       "      <td>2</td>\n",
       "      <td>4558</td>\n",
       "      <td>4962</td>\n",
       "      <td>404</td>\n",
       "      <td>Nonproduction</td>\n",
       "      <td>Leftclick</td>\n",
       "      <td>Leftclick</td>\n",
       "      <td>NoChange</td>\n",
       "      <td>0</td>\n",
       "      <td>0</td>\n",
       "    </tr>\n",
       "    <tr>\n",
       "      <th>2</th>\n",
       "      <td>001519c8</td>\n",
       "      <td>3</td>\n",
       "      <td>106571</td>\n",
       "      <td>106571</td>\n",
       "      <td>0</td>\n",
       "      <td>Nonproduction</td>\n",
       "      <td>Shift</td>\n",
       "      <td>Shift</td>\n",
       "      <td>NoChange</td>\n",
       "      <td>0</td>\n",
       "      <td>0</td>\n",
       "    </tr>\n",
       "    <tr>\n",
       "      <th>3</th>\n",
       "      <td>001519c8</td>\n",
       "      <td>4</td>\n",
       "      <td>106686</td>\n",
       "      <td>106777</td>\n",
       "      <td>91</td>\n",
       "      <td>Input</td>\n",
       "      <td>q</td>\n",
       "      <td>q</td>\n",
       "      <td>q</td>\n",
       "      <td>1</td>\n",
       "      <td>1</td>\n",
       "    </tr>\n",
       "    <tr>\n",
       "      <th>4</th>\n",
       "      <td>001519c8</td>\n",
       "      <td>5</td>\n",
       "      <td>107196</td>\n",
       "      <td>107323</td>\n",
       "      <td>127</td>\n",
       "      <td>Input</td>\n",
       "      <td>q</td>\n",
       "      <td>q</td>\n",
       "      <td>q</td>\n",
       "      <td>2</td>\n",
       "      <td>1</td>\n",
       "    </tr>\n",
       "  </tbody>\n",
       "</table>\n",
       "</div>"
      ],
      "text/plain": [
       "         id  event_id  down_time  up_time  action_time       activity  \\\n",
       "0  001519c8         1       4526     4557           31  Nonproduction   \n",
       "1  001519c8         2       4558     4962          404  Nonproduction   \n",
       "2  001519c8         3     106571   106571            0  Nonproduction   \n",
       "3  001519c8         4     106686   106777           91          Input   \n",
       "4  001519c8         5     107196   107323          127          Input   \n",
       "\n",
       "  down_event   up_event text_change  cursor_position  word_count  \n",
       "0  Leftclick  Leftclick    NoChange                0           0  \n",
       "1  Leftclick  Leftclick    NoChange                0           0  \n",
       "2      Shift      Shift    NoChange                0           0  \n",
       "3          q          q           q                1           1  \n",
       "4          q          q           q                2           1  "
      ]
     },
     "execution_count": 17,
     "metadata": {},
     "output_type": "execute_result"
    }
   ],
   "source": [
    "train_df.head()"
   ]
  },
  {
   "cell_type": "code",
   "execution_count": 5,
   "id": "37d5b9df",
   "metadata": {},
   "outputs": [],
   "source": [
    "df = train_df[['id', 'event_id', 'cursor_position']]"
   ]
  },
  {
   "cell_type": "code",
   "execution_count": 6,
   "id": "5de219ac",
   "metadata": {},
   "outputs": [],
   "source": [
    "df.to_csv('../data/train_cursor.csv', index=False)"
   ]
  },
  {
   "cell_type": "code",
   "execution_count": 7,
   "id": "ae10a16b",
   "metadata": {},
   "outputs": [],
   "source": [
    "df = df[df['id']=='001519c8']"
   ]
  },
  {
   "cell_type": "markdown",
   "id": "c1145720",
   "metadata": {
    "papermill": {
     "duration": 0.002301,
     "end_time": "2023-10-03T22:55:40.655163",
     "exception": false,
     "start_time": "2023-10-03T22:55:40.652862",
     "status": "completed"
    },
    "tags": []
   },
   "source": [
    "**Visulaize the moving of the cursor for id=001519c8**"
   ]
  },
  {
   "cell_type": "markdown",
   "id": "5022e0cc",
   "metadata": {
    "papermill": {
     "duration": 0.002086,
     "end_time": "2023-10-03T22:55:40.659649",
     "exception": false,
     "start_time": "2023-10-03T22:55:40.657563",
     "status": "completed"
    },
    "tags": []
   },
   "source": [
    "I took two columns event_id,cursor_position"
   ]
  },
  {
   "cell_type": "markdown",
   "id": "5d431b4e",
   "metadata": {
    "papermill": {
     "duration": 0.002192,
     "end_time": "2023-10-03T22:55:40.664158",
     "exception": false,
     "start_time": "2023-10-03T22:55:40.661966",
     "status": "completed"
    },
    "tags": []
   },
   "source": [
    "> df.query(\"id == '001519c8'\")[['event_id','cursor_position']].to_csv('cursor.csv')"
   ]
  },
  {
   "cell_type": "code",
   "execution_count": 8,
   "id": "85b8ed17",
   "metadata": {
    "execution": {
     "iopub.execute_input": "2023-10-03T22:55:40.671125Z",
     "iopub.status.busy": "2023-10-03T22:55:40.670509Z",
     "iopub.status.idle": "2023-10-03T22:55:40.686936Z",
     "shell.execute_reply": "2023-10-03T22:55:40.685845Z"
    },
    "papermill": {
     "duration": 0.022896,
     "end_time": "2023-10-03T22:55:40.689436",
     "exception": false,
     "start_time": "2023-10-03T22:55:40.666540",
     "status": "completed"
    },
    "tags": []
   },
   "outputs": [
    {
     "data": {
      "text/html": [
       "<div>\n",
       "<style scoped>\n",
       "    .dataframe tbody tr th:only-of-type {\n",
       "        vertical-align: middle;\n",
       "    }\n",
       "\n",
       "    .dataframe tbody tr th {\n",
       "        vertical-align: top;\n",
       "    }\n",
       "\n",
       "    .dataframe thead th {\n",
       "        text-align: right;\n",
       "    }\n",
       "</style>\n",
       "<table border=\"1\" class=\"dataframe\">\n",
       "  <thead>\n",
       "    <tr style=\"text-align: right;\">\n",
       "      <th></th>\n",
       "      <th>id</th>\n",
       "      <th>event_id</th>\n",
       "      <th>cursor_position</th>\n",
       "    </tr>\n",
       "  </thead>\n",
       "  <tbody>\n",
       "    <tr>\n",
       "      <th>0</th>\n",
       "      <td>001519c8</td>\n",
       "      <td>1</td>\n",
       "      <td>0</td>\n",
       "    </tr>\n",
       "    <tr>\n",
       "      <th>1</th>\n",
       "      <td>001519c8</td>\n",
       "      <td>2</td>\n",
       "      <td>0</td>\n",
       "    </tr>\n",
       "    <tr>\n",
       "      <th>2</th>\n",
       "      <td>001519c8</td>\n",
       "      <td>3</td>\n",
       "      <td>0</td>\n",
       "    </tr>\n",
       "    <tr>\n",
       "      <th>3</th>\n",
       "      <td>001519c8</td>\n",
       "      <td>4</td>\n",
       "      <td>1</td>\n",
       "    </tr>\n",
       "    <tr>\n",
       "      <th>4</th>\n",
       "      <td>001519c8</td>\n",
       "      <td>5</td>\n",
       "      <td>2</td>\n",
       "    </tr>\n",
       "    <tr>\n",
       "      <th>...</th>\n",
       "      <td>...</td>\n",
       "      <td>...</td>\n",
       "      <td>...</td>\n",
       "    </tr>\n",
       "    <tr>\n",
       "      <th>2552</th>\n",
       "      <td>001519c8</td>\n",
       "      <td>2553</td>\n",
       "      <td>555</td>\n",
       "    </tr>\n",
       "    <tr>\n",
       "      <th>2553</th>\n",
       "      <td>001519c8</td>\n",
       "      <td>2554</td>\n",
       "      <td>554</td>\n",
       "    </tr>\n",
       "    <tr>\n",
       "      <th>2554</th>\n",
       "      <td>001519c8</td>\n",
       "      <td>2555</td>\n",
       "      <td>553</td>\n",
       "    </tr>\n",
       "    <tr>\n",
       "      <th>2555</th>\n",
       "      <td>001519c8</td>\n",
       "      <td>2556</td>\n",
       "      <td>554</td>\n",
       "    </tr>\n",
       "    <tr>\n",
       "      <th>2556</th>\n",
       "      <td>001519c8</td>\n",
       "      <td>2557</td>\n",
       "      <td>1046</td>\n",
       "    </tr>\n",
       "  </tbody>\n",
       "</table>\n",
       "<p>2557 rows × 3 columns</p>\n",
       "</div>"
      ],
      "text/plain": [
       "            id  event_id  cursor_position\n",
       "0     001519c8         1                0\n",
       "1     001519c8         2                0\n",
       "2     001519c8         3                0\n",
       "3     001519c8         4                1\n",
       "4     001519c8         5                2\n",
       "...        ...       ...              ...\n",
       "2552  001519c8      2553              555\n",
       "2553  001519c8      2554              554\n",
       "2554  001519c8      2555              553\n",
       "2555  001519c8      2556              554\n",
       "2556  001519c8      2557             1046\n",
       "\n",
       "[2557 rows x 3 columns]"
      ]
     },
     "execution_count": 8,
     "metadata": {},
     "output_type": "execute_result"
    }
   ],
   "source": [
    "df"
   ]
  },
  {
   "cell_type": "markdown",
   "id": "d9d3e260",
   "metadata": {
    "papermill": {
     "duration": 0.00253,
     "end_time": "2023-10-03T22:55:40.694891",
     "exception": false,
     "start_time": "2023-10-03T22:55:40.692361",
     "status": "completed"
    },
    "tags": []
   },
   "source": [
    "For Ex. Consider each line takes 30 character "
   ]
  },
  {
   "cell_type": "code",
   "execution_count": 9,
   "id": "7ff23cfc",
   "metadata": {
    "execution": {
     "iopub.execute_input": "2023-10-03T22:55:40.702292Z",
     "iopub.status.busy": "2023-10-03T22:55:40.701686Z",
     "iopub.status.idle": "2023-10-03T22:55:40.708581Z",
     "shell.execute_reply": "2023-10-03T22:55:40.707513Z"
    },
    "id": "6RFQKgTKjzRY",
    "papermill": {
     "duration": 0.013228,
     "end_time": "2023-10-03T22:55:40.710837",
     "exception": false,
     "start_time": "2023-10-03T22:55:40.697609",
     "status": "completed"
    },
    "tags": []
   },
   "outputs": [],
   "source": [
    "df['pos'] = df['cursor_position']% 30\n",
    "df['line'] = (df['cursor_position']/30).astype(int)"
   ]
  },
  {
   "cell_type": "code",
   "execution_count": 10,
   "id": "925cd4e6",
   "metadata": {},
   "outputs": [],
   "source": [
    "df['dist_moved'] = df.groupby('id')['cursor_position'].diff().fillna(0).abs()\n",
    "avg_dist_per_event = df.groupby('id')['dist_moved'].mean()"
   ]
  },
  {
   "cell_type": "code",
   "execution_count": 13,
   "id": "5617425b",
   "metadata": {},
   "outputs": [],
   "source": [
    "df['line_change'] = df.groupby('id')['line'].diff().fillna(0).ne(0)\n",
    "revisits_per_line = df[df['line_change'] == False].groupby(['id', 'line']).size()"
   ]
  },
  {
   "cell_type": "code",
   "execution_count": 22,
   "id": "8b83b911",
   "metadata": {},
   "outputs": [],
   "source": [
    "revisits_per_line = df[df['line_change'] == False].groupby(['id', 'line']).size().reset_index(name='revisit_count')\n",
    "first_line_revisits = revisits_per_line[revisits_per_line['line'] == 0].groupby('id')['revisit_count'].sum()"
   ]
  },
  {
   "cell_type": "code",
   "execution_count": 18,
   "id": "e424bfda",
   "metadata": {},
   "outputs": [],
   "source": [
    "line_changes = df.groupby('id')['line_change'].sum()"
   ]
  },
  {
   "cell_type": "code",
   "execution_count": null,
   "id": "bd35ebca",
   "metadata": {
    "execution": {
     "iopub.execute_input": "2023-10-03T22:55:40.718647Z",
     "iopub.status.busy": "2023-10-03T22:55:40.718027Z",
     "iopub.status.idle": "2023-10-03T22:55:40.731231Z",
     "shell.execute_reply": "2023-10-03T22:55:40.729690Z"
    },
    "id": "Bn_iL13MoxR2",
    "outputId": "769f31fb-71b4-46f7-e4ef-30c8e5966888",
    "papermill": {
     "duration": 0.019919,
     "end_time": "2023-10-03T22:55:40.733693",
     "exception": false,
     "start_time": "2023-10-03T22:55:40.713774",
     "status": "completed"
    },
    "tags": []
   },
   "outputs": [],
   "source": [
    "df[['event_id','pos','line']]"
   ]
  },
  {
   "cell_type": "code",
   "execution_count": null,
   "id": "efb64b2b",
   "metadata": {
    "execution": {
     "iopub.execute_input": "2023-10-03T22:55:40.741847Z",
     "iopub.status.busy": "2023-10-03T22:55:40.741263Z",
     "iopub.status.idle": "2023-10-03T22:55:50.745921Z",
     "shell.execute_reply": "2023-10-03T22:55:50.744643Z"
    },
    "id": "_bAZ3Sb_kRAo",
    "outputId": "aa02ee4e-972e-414b-90db-833866abf6a5",
    "papermill": {
     "duration": 10.038089,
     "end_time": "2023-10-03T22:55:50.774934",
     "exception": false,
     "start_time": "2023-10-03T22:55:40.736845",
     "status": "completed"
    },
    "tags": []
   },
   "outputs": [],
   "source": [
    "import plotly.graph_objects as go\n",
    "import plotly.express as px\n",
    "\n",
    "fig = px.scatter(df[['event_id','pos','line']],\n",
    "                 x='pos',\n",
    "                 y='line',\n",
    "                 animation_frame=df['event_id'],\n",
    "                 title='',\n",
    "                 range_x=[0,30]\n",
    ")\n",
    "fig.layout.updatemenus[0].buttons[0].args[1]['frame']['duration'] = 100\n",
    "fig.update_yaxes(range=[df['line'].max(), -2])\n",
    "fig.update_layout(title=\"Cursor Moving Animation\",height=800,width=500)\n",
    "fig.update_yaxes(showgrid=True, gridwidth=1, gridcolor='black', minor_griddash=\"dot\")\n",
    "fig.show()"
   ]
  },
  {
   "cell_type": "markdown",
   "id": "6a5a0224",
   "metadata": {
    "papermill": {
     "duration": 0.018551,
     "end_time": "2023-10-03T22:55:50.811978",
     "exception": false,
     "start_time": "2023-10-03T22:55:50.793427",
     "status": "completed"
    },
    "tags": []
   },
   "source": [
    "**If we can rate the each Writer on how smoothly his write depends on the moving cursor i think it will be a good feature**"
   ]
  }
 ],
 "metadata": {
  "kernelspec": {
   "display_name": "Python 3.8.10 64-bit",
   "language": "python",
   "name": "python3"
  },
  "language_info": {
   "codemirror_mode": {
    "name": "ipython",
    "version": 3
   },
   "file_extension": ".py",
   "mimetype": "text/x-python",
   "name": "python",
   "nbconvert_exporter": "python",
   "pygments_lexer": "ipython3",
   "version": "3.8.10"
  },
  "papermill": {
   "default_parameters": {},
   "duration": 15.210383,
   "end_time": "2023-10-03T22:55:51.553296",
   "environment_variables": {},
   "exception": null,
   "input_path": "__notebook__.ipynb",
   "output_path": "__notebook__.ipynb",
   "parameters": {},
   "start_time": "2023-10-03T22:55:36.342913",
   "version": "2.4.0"
  },
  "vscode": {
   "interpreter": {
    "hash": "6797dce90c9623e66be2bdcbf629f333b8fc32860e3710262eafd0ccdf0f7b85"
   }
  }
 },
 "nbformat": 4,
 "nbformat_minor": 5
}
