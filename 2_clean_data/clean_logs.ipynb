{
 "cells": [
  {
   "cell_type": "code",
   "execution_count": 9,
   "metadata": {},
   "outputs": [],
   "source": [
    "import pandas as pd"
   ]
  },
  {
   "cell_type": "code",
   "execution_count": 10,
   "metadata": {},
   "outputs": [],
   "source": [
    "is_kaggle = False\n",
    "\n",
    "if is_kaggle:\n",
    "    base_dir = '/kaggle/input'\n",
    "    data_dir = f'{base_dir}/linking-writing-processes-to-writing-quality'\n",
    "    output_dir = '/kaggle/working'\n",
    "else:\n",
    "    base_dir = '../'\n",
    "    data_dir = f'{base_dir}/0_data'\n",
    "    models_dir = f'{base_dir}/models'"
   ]
  },
  {
   "cell_type": "code",
   "execution_count": 11,
   "metadata": {},
   "outputs": [],
   "source": [
    "# train_logs=pd.read_csv(data_dir+\"/train_logs.csv\")"
   ]
  },
  {
   "cell_type": "code",
   "execution_count": 14,
   "metadata": {},
   "outputs": [
    {
     "name": "stdout",
     "output_type": "stream",
     "text": [
      "len(train_logs):8405898\n",
      "len(test_logs):6\n"
     ]
    }
   ],
   "source": [
    "train_logs=pd.read_csv(data_dir+\"/train_logs.csv\")\n",
    "print(f\"len(train_logs):{len(train_logs)}\")\n",
    "train_logs=train_logs.sort_values(by=['id', 'down_time'])\n",
    "train_logs = train_logs.reset_index(drop=True)\n",
    "train_logs['event_id'] = train_logs.groupby('id').cumcount() + 1\n",
    "# train_logs.to_csv(\"train_logs_corrected.csv\",index=None)\n",
    "\n",
    "train_scores=pd.read_csv(data_dir+\"/train_scores.csv\")\n",
    "\n",
    "test_logs=pd.read_csv(data_dir+\"/test_logs.csv\")\n",
    "print(f\"len(test_logs):{len(test_logs)}\")\n",
    "test_logs=test_logs.sort_values(by=['id', 'down_time'])\n",
    "test_logs = test_logs.reset_index(drop=True)\n",
    "test_logs['event_id'] = test_logs.groupby('id').cumcount() + 1\n",
    "# test_logs.to_csv(\"test_logs_corrected.csv\",index=None)"
   ]
  },
  {
   "cell_type": "code",
   "execution_count": 15,
   "metadata": {},
   "outputs": [],
   "source": [
    "def process_group(group):\n",
    "    # Find the first row where 'activity' equals 'Input' and 'text_change' equals 'q'\n",
    "    first_input_q_index = group[(group['activity'] == 'Input') & (group['text_change'] == 'q')].index[0]\n",
    "\n",
    "    # Calculate the 'down_time' of the first 'Input'/'q' row\n",
    "    idle_time = group.loc[first_input_q_index, 'down_time']\n",
    "\n",
    "    # Add it to the 'idle_time' column\n",
    "    group['idle_time'] = idle_time\n",
    "\n",
    "    # Drop all rows before this row\n",
    "    group = group.loc[first_input_q_index:]\n",
    "\n",
    "    # Subtract the 'down_time' of the first row from all 'down_time' values in the group\n",
    "    group['up_time'] -= group['down_time'].iloc[0]\n",
    "    group['down_time'] -= group['down_time'].iloc[0]\n",
    "\n",
    "    return group\n",
    "\n",
    "train_logs = train_logs.groupby('id').apply(process_group).reset_index(drop=True)\n",
    "train_logs['event_id'] = train_logs.groupby('id').cumcount() + 1\n",
    "train_logs.to_csv(\"train_logs_double_corrected.csv\", index=None)\n",
    "\n",
    "# test_logs = test_logs.groupby('id').apply(process_group).reset_index(drop=True)\n",
    "# test_logs['event_id'] = test_logs.groupby('id').cumcount() + 1\n",
    "# test_logs.to_csv(\"test_logs_double_corrected.csv\", index=None)"
   ]
  },
  {
   "cell_type": "code",
   "execution_count": 16,
   "metadata": {},
   "outputs": [],
   "source": [
    "first_10min = 10*60*1000\n",
    "first_20min = 20*60*1000\n",
    "\n",
    "df_first = train_logs[train_logs['up_time'] < first_10min]\n",
    "df_first.to_csv('./train_logs_double_corrected_first_10min.csv', index=False)\n",
    "\n",
    "df_second = train_logs[(train_logs['up_time'] >= first_10min)]# & (train_logs['up_time'] < first_20min)]\n",
    "# df_third = train_logs[train_logs['up_time'] >= first_20min]\n",
    "\n",
    "df_second.to_csv('./train_logs_double_corrected_second_10min.csv', index=False)\n",
    "# df_third.to_csv('.train_logs_double_corrected_third_10min.csv', index=False)"
   ]
  }
 ],
 "metadata": {
  "kernelspec": {
   "display_name": "Python 3",
   "language": "python",
   "name": "python3"
  },
  "language_info": {
   "codemirror_mode": {
    "name": "ipython",
    "version": 3
   },
   "file_extension": ".py",
   "mimetype": "text/x-python",
   "name": "python",
   "nbconvert_exporter": "python",
   "pygments_lexer": "ipython3",
   "version": "3.10.5"
  }
 },
 "nbformat": 4,
 "nbformat_minor": 2
}
