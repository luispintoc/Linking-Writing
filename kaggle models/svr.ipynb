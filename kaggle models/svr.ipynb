{
 "cells": [
  {
   "cell_type": "code",
   "execution_count": 1,
   "metadata": {},
   "outputs": [],
   "source": [
    "import gc\n",
    "import os\n",
    "import itertools\n",
    "import pickle\n",
    "import re\n",
    "import time\n",
    "from random import choice, choices\n",
    "from functools import reduce\n",
    "from tqdm import tqdm\n",
    "from itertools import cycle\n",
    "import numpy as np\n",
    "import pandas as pd\n",
    "import seaborn as sns\n",
    "import matplotlib.pyplot as plt\n",
    "from collections import Counter\n",
    "from functools import reduce\n",
    "from itertools import cycle\n",
    "from scipy import stats\n",
    "from scipy.stats import skew, kurtosis\n",
    "from sklearn import metrics, model_selection, preprocessing, linear_model, ensemble, decomposition, tree\n",
    "import lightgbm as lgb\n",
    "import optuna\n",
    "from sklearn.metrics import mean_squared_error\n",
    "from sklearn.model_selection import train_test_split\n",
    "from sklearn.svm import SVR\n",
    "from sklearn.preprocessing import MinMaxScaler\n",
    "from sklearn.impute import SimpleImputer\n",
    "\n",
    "\n",
    "import sys\n",
    "sys.path.append('../')\n",
    "from utils import *"
   ]
  },
  {
   "cell_type": "code",
   "execution_count": 2,
   "metadata": {},
   "outputs": [],
   "source": [
    "train_feats = pd.read_csv('../kaggle feat_eng/silver_bullet_feats_corrected.csv')"
   ]
  },
  {
   "cell_type": "markdown",
   "metadata": {},
   "source": [
    "## Replace infs"
   ]
  },
  {
   "cell_type": "code",
   "execution_count": 3,
   "metadata": {},
   "outputs": [],
   "source": [
    "train_feats.replace([np.inf, -np.inf], np.nan, inplace=True)\n",
    "cols = train_feats.columns\n",
    "\n",
    "counter = 0\n",
    "new_columns = {}\n",
    "for col in cols:\n",
    "    if col != 'id' and col != 'score':\n",
    "        new_columns[col] = counter\n",
    "        counter += 1\n",
    "\n",
    "train_feats.rename(columns=new_columns, inplace=True)"
   ]
  },
  {
   "cell_type": "code",
   "execution_count": 4,
   "metadata": {},
   "outputs": [],
   "source": [
    "# for col in train_feats.columns:\n",
    "#     if len(train_feats[col].unique()) == 1:\n",
    "#         train_feats.drop(col,inplace=True,axis=1)\n",
    "\n",
    "# len(train_feats.columns)"
   ]
  },
  {
   "cell_type": "markdown",
   "metadata": {},
   "source": [
    "## Training"
   ]
  },
  {
   "cell_type": "code",
   "execution_count": 5,
   "metadata": {},
   "outputs": [],
   "source": [
    "target_col = ['score']\n",
    "drop_cols = ['id']\n",
    "train_cols = [col for col in train_feats.columns if col not in target_col + drop_cols]\n",
    "\n",
    "def objective(trial,data=train_feats[train_cols],target=train_feats[target_col]):\n",
    "    \n",
    "    train_x, test_x, train_y, test_y = train_test_split(data, target, test_size=0.10,random_state=41)\n",
    "    params = {\n",
    "        'reg_lambda': trial.suggest_float('reg_lambda', 1e-4, 10.0, log=True),\n",
    "        'reg_alpha': trial.suggest_float('reg_alpha', 1e-4, 10.0, log=True),\n",
    "        'colsample_bytree': trial.suggest_categorical('colsample_bytree', [0.4,0.6,0.8,1.0]),\n",
    "        'colsample_bynode': trial.suggest_categorical('colsample_bynode', [0.4,0.6,0.8,1.0]),\n",
    "        'subsample': trial.suggest_categorical('subsample', [0.4,0.5,0.6,0.7,0.8,0.9,1.0]),\n",
    "        'learning_rate': trial.suggest_float('learning_rate', 1e-5, 5e-2, log=True), #trial.suggest_categorical('learning_rate', [0.008,0.01,0.012,0.014,0.016,0.018, 0.02]),\n",
    "        'max_depth': trial.suggest_categorical('max_depth', [9,11,13,15,17,20,25,30]),\n",
    "        'min_child_samples': trial.suggest_categorical('min_child_samples', [7,9,11,13,15,17,20,25,30]),\n",
    "        'num_leaves': trial.suggest_int('num_leaves', 10, 40, step=2)\n",
    "    }\n",
    "\n",
    "    all_params = {\n",
    "        \"objective\": \"rmse\",\n",
    "        \"metric\": \"rmse\",\n",
    "        'random_state': 41,\n",
    "        \"n_estimators\" : 1000,\n",
    "        \"verbosity\": -1,\n",
    "        \"n_jobs\": -1,\n",
    "        # \"device_type\": 'cuda',\n",
    "        # \"gpu_use_dp\": True,\n",
    "        **params\n",
    "    }\n",
    "\n",
    "    model = lgb.LGBMRegressor(**all_params)\n",
    "\n",
    "    early_stopping_callback = lgb.early_stopping(50, first_metric_only=True, verbose=False)\n",
    "    \n",
    "    model.fit(train_x, train_y, eval_set=[(test_x, test_y)], #verbose=False,\n",
    "                callbacks=[early_stopping_callback],\n",
    "    )\n",
    "    \n",
    "    preds = model.predict(test_x)\n",
    "    \n",
    "    rmse = mean_squared_error(test_y, preds,squared=False)\n",
    "    \n",
    "    return rmse"
   ]
  },
  {
   "cell_type": "code",
   "execution_count": 6,
   "metadata": {},
   "outputs": [],
   "source": [
    "# study = optuna.create_study(direction='minimize')\n",
    "# study.optimize(objective, n_trials=100)\n",
    "# print('Number of finished trials:', len(study.trials))\n",
    "# print('Best trial:', study.best_trial.params)"
   ]
  },
  {
   "cell_type": "code",
   "execution_count": 7,
   "metadata": {},
   "outputs": [],
   "source": [
    "# study.trials_dataframe().sort_values(by='value', ascending=True)"
   ]
  },
  {
   "cell_type": "markdown",
   "metadata": {},
   "source": [
    "## Use best params"
   ]
  },
  {
   "cell_type": "code",
   "execution_count": 8,
   "metadata": {},
   "outputs": [],
   "source": [
    "# best_trial = {'reg_lambda': 0.01873160320140423, 'reg_alpha': 0.006342560121043019, 'colsample_bytree': 0.6, 'colsample_bynode': 1.0, 'subsample': 0.9, 'learning_rate': 0.03286970460001816, 'max_depth': 20, 'min_child_samples': 30, 'num_leaves': 10}"
   ]
  },
  {
   "cell_type": "code",
   "execution_count": 9,
   "metadata": {},
   "outputs": [],
   "source": [
    "# best_trial = study.best_trial.params\n",
    "# print(best_trial)"
   ]
  },
  {
   "cell_type": "code",
   "execution_count": 11,
   "metadata": {},
   "outputs": [
    {
     "name": "stderr",
     "output_type": "stream",
     "text": [
      "c:\\Users\\luis.pinto1\\AppData\\Local\\Programs\\Python\\Python310\\lib\\site-packages\\sklearn\\utils\\validation.py:1141: DataConversionWarning: A column-vector y was passed when a 1d array was expected. Please change the shape of y to (n_samples, ), for example using ravel().\n",
      "  y = column_or_1d(y, warn=True)\n",
      "c:\\Users\\luis.pinto1\\AppData\\Local\\Programs\\Python\\Python310\\lib\\site-packages\\sklearn\\utils\\validation.py:1141: DataConversionWarning: A column-vector y was passed when a 1d array was expected. Please change the shape of y to (n_samples, ), for example using ravel().\n",
      "  y = column_or_1d(y, warn=True)\n",
      "c:\\Users\\luis.pinto1\\AppData\\Local\\Programs\\Python\\Python310\\lib\\site-packages\\sklearn\\utils\\validation.py:1141: DataConversionWarning: A column-vector y was passed when a 1d array was expected. Please change the shape of y to (n_samples, ), for example using ravel().\n",
      "  y = column_or_1d(y, warn=True)\n",
      "c:\\Users\\luis.pinto1\\AppData\\Local\\Programs\\Python\\Python310\\lib\\site-packages\\sklearn\\utils\\validation.py:1141: DataConversionWarning: A column-vector y was passed when a 1d array was expected. Please change the shape of y to (n_samples, ), for example using ravel().\n",
      "  y = column_or_1d(y, warn=True)\n",
      "c:\\Users\\luis.pinto1\\AppData\\Local\\Programs\\Python\\Python310\\lib\\site-packages\\sklearn\\utils\\validation.py:1141: DataConversionWarning: A column-vector y was passed when a 1d array was expected. Please change the shape of y to (n_samples, ), for example using ravel().\n",
      "  y = column_or_1d(y, warn=True)\n"
     ]
    }
   ],
   "source": [
    "OOF_PREDS = np.zeros((len(train_feats), 2))\n",
    "# TEST_PREDS = np.zeros((len(test_feats), 2))\n",
    "\n",
    "models_dict = {}\n",
    "scores = []\n",
    "preds_dict = {}\n",
    "count = 0\n",
    "for _ in train_feats['id'].unique():\n",
    "    preds_dict[count] = []\n",
    "    count+=1\n",
    "\n",
    "# test_predict_list = []\n",
    "\n",
    "for i in range(1):\n",
    "    kf = model_selection.KFold(n_splits=5, random_state=41 + i, shuffle=True)\n",
    "    oof_valid_preds = np.zeros(train_feats.shape[0])\n",
    "    # X_test = test_feats[train_cols]\n",
    "    for fold, (train_idx, valid_idx) in enumerate(kf.split(train_feats)):\n",
    "        \n",
    "        imputer = SimpleImputer(strategy='median')\n",
    "        scaler = MinMaxScaler(feature_range=(-1, 1))\n",
    "\n",
    "        X_train, y_train = train_feats.iloc[train_idx][train_cols], train_feats.iloc[train_idx][target_col]\n",
    "        # y_train[y_train['score']==0.5] = 1\n",
    "        # y_train[y_train['score']==6] = 5.5\n",
    "        X_train = imputer.fit_transform(X_train)\n",
    "        X_train = scaler.fit_transform(X_train)\n",
    "        y_train['score'] = y_train['score'] + np.random.normal(0, 0.05)\n",
    "        X_valid, y_valid = train_feats.iloc[valid_idx][train_cols], train_feats.iloc[valid_idx][target_col]\n",
    "        X_valid = imputer.fit_transform(X_valid)\n",
    "        X_valid = scaler.transform(X_valid)\n",
    "\n",
    "        model = SVR(kernel='rbf', C=1.0, epsilon=0.1)\n",
    "        \n",
    "        model.fit(X_train, y_train)\n",
    "\n",
    "        valid_predict = model.predict(X_valid)\n",
    "\n",
    "        for count, idx in enumerate(valid_idx):\n",
    "            preds_dict[idx].append(valid_predict[count])\n",
    "\n",
    "        oof_valid_preds[valid_idx] = valid_predict\n",
    "        # OOF_PREDS[valid_idx, 0] += valid_predict / 5\n",
    "        OOF_PREDS[valid_idx, 0] = valid_predict \n",
    "\n",
    "\n",
    "        # test_predict = model.predict(X_test)\n",
    "        # TEST_PREDS[:, 0] += test_predict / 5 / 10\n",
    "        # test_predict_list.append(test_predict)\n",
    "        score = metrics.mean_squared_error(y_valid, valid_predict, squared=False)\n",
    "        models_dict[f'{fold}_{i}'] = model\n",
    "\n",
    "    oof_score = metrics.mean_squared_error(train_feats[target_col], oof_valid_preds, squared=False)\n",
    "    scores.append(oof_score)"
   ]
  },
  {
   "cell_type": "code",
   "execution_count": 12,
   "metadata": {},
   "outputs": [
    {
     "name": "stdout",
     "output_type": "stream",
     "text": [
      "OOF metric LGBM = 0.62981\n"
     ]
    }
   ],
   "source": [
    "means = []\n",
    "stds = []\n",
    "\n",
    "for idx in preds_dict:\n",
    "    means.append(np.mean(preds_dict[idx]))\n",
    "    stds.append(np.std(preds_dict[idx]))\n",
    "\n",
    "print('OOF metric LGBM = {:.5f}'.format(metrics.mean_squared_error(train_feats[target_col], \n",
    "                                                                   means,\n",
    "                                                                   squared=False)))"
   ]
  },
  {
   "cell_type": "code",
   "execution_count": 13,
   "metadata": {},
   "outputs": [],
   "source": [
    "def add_identity(axes, *line_args, **line_kwargs):\n",
    "    identity, = axes.plot([], [], *line_args, **line_kwargs)\n",
    "    def callback(axes):\n",
    "        low_x, high_x = axes.get_xlim()\n",
    "        low_y, high_y = axes.get_ylim()\n",
    "        low = max(low_x, low_y)\n",
    "        high = min(high_x, high_y)\n",
    "        identity.set_data([low, high], [low, high])\n",
    "    callback(axes)\n",
    "    axes.callbacks.connect('xlim_changed', callback)\n",
    "    axes.callbacks.connect('ylim_changed', callback)\n",
    "    return axes"
   ]
  },
  {
   "cell_type": "code",
   "execution_count": 14,
   "metadata": {},
   "outputs": [],
   "source": [
    "import math\n",
    "def round_to_half(numbers, round_up=False):\n",
    "    if round_up:\n",
    "        return [round(num * 2) / 2 for num in numbers]\n",
    "    else:\n",
    "        return [math.floor(num * 2) / 2 for num in numbers]"
   ]
  },
  {
   "cell_type": "code",
   "execution_count": 15,
   "metadata": {},
   "outputs": [
    {
     "data": {
      "image/png": "[encoded data removed]",
      "text/plain": [
       "<Figure size 600x600 with 1 Axes>"
      ]
     },
     "metadata": {},
     "output_type": "display_data"
    }
   ],
   "source": [
    "f, ax = plt.subplots(figsize=(6, 6))\n",
    "ax.scatter(means, train_feats['score'])\n",
    "add_identity(ax, color='r', ls='--')\n",
    "# ax.scatter(stds, train_scores_df['score']-means)\n",
    "plt.ylabel('True Values')\n",
    "plt.xlabel('Predictions')\n",
    "\n",
    "plt.show()"
   ]
  },
  {
   "cell_type": "code",
   "execution_count": null,
   "metadata": {},
   "outputs": [],
   "source": [
    "out = pd.DataFrame()\n",
    "out['id'] = train_feats['id']\n",
    "out['pred'] = means\n",
    "# out.to_csv('lgbm_v2_features0.csv', index=False)"
   ]
  },
  {
   "cell_type": "markdown",
   "metadata": {},
   "source": [
    "## Analyze models"
   ]
  },
  {
   "cell_type": "code",
   "execution_count": null,
   "metadata": {},
   "outputs": [],
   "source": [
    "split_importance = models_dict['0_0'].feature_importances_\n",
    "\n",
    "# Plot feature importance using Gain\n",
    "# lgb.plot_importance(models_dict['0_0'], importance_type=\"gain\", figsize=(7,6), title=\"LightGBM Feature Importance (Gain)\")\n",
    "# plt.show()"
   ]
  },
  {
   "cell_type": "code",
   "execution_count": null,
   "metadata": {},
   "outputs": [],
   "source": [
    "dict_ = {}\n",
    "for feat in train_cols:\n",
    "    dict_[feat] = 0\n",
    "\n",
    "for i in models_dict:\n",
    "    for count, feat in enumerate(train_cols):\n",
    "        dict_[feat] += models_dict[i].feature_importances_[count]"
   ]
  },
  {
   "cell_type": "code",
   "execution_count": null,
   "metadata": {},
   "outputs": [
    {
     "data": {
      "text/plain": [
       "['down_event_14_cnt',\n",
       " 'up_event_0_cnt',\n",
       " 'up_event_1_cnt',\n",
       " 'up_event_2_cnt',\n",
       " 'up_event_3_cnt',\n",
       " 'up_event_4_cnt',\n",
       " 'up_event_5_cnt',\n",
       " 'up_event_6_cnt',\n",
       " 'up_event_7_cnt',\n",
       " 'up_event_8_cnt',\n",
       " 'up_event_9_cnt',\n",
       " 'up_event_10_cnt',\n",
       " 'up_event_11_cnt',\n",
       " 'up_event_12_cnt',\n",
       " 'up_event_13_cnt',\n",
       " 'up_event_14_cnt',\n",
       " 'action_time_min',\n",
       " 'cursor_position_min']"
      ]
     },
     "execution_count": 116,
     "metadata": {},
     "output_type": "execute_result"
    }
   ],
   "source": [
    "cols[[key for key, value in dict_.items() if value == 0]].tolist()"
   ]
  },
  {
   "cell_type": "code",
   "execution_count": null,
   "metadata": {},
   "outputs": [
    {
     "name": "stdout",
     "output_type": "stream",
     "text": [
      "    Feature  Split\n",
      "59       59      1\n",
      "36       36      0\n",
      "34       34      0\n",
      "76       76      0\n",
      "50       50      0\n",
      "85       85      0\n",
      "49       49      0\n",
      "48       48      0\n",
      "47       47      0\n",
      "46       46      0\n",
      "45       45      0\n",
      "44       44      0\n",
      "43       43      0\n",
      "77       77      0\n",
      "42       42      0\n",
      "41       41      0\n",
      "40       40      0\n",
      "39       39      0\n",
      "38       38      0\n",
      "37       37      0\n"
     ]
    }
   ],
   "source": [
    "split_importance_df = pd.DataFrame({'Feature': train_cols, 'Split': split_importance})\n",
    "print(split_importance_df.sort_values(by='Split', ascending=False).tail(20))"
   ]
  },
  {
   "cell_type": "code",
   "execution_count": null,
   "metadata": {},
   "outputs": [
    {
     "ename": "SystemExit",
     "evalue": "",
     "output_type": "error",
     "traceback": [
      "An exception has occurred, use %tb to see the full traceback.\n",
      "\u001b[1;31mSystemExit\u001b[0m\n"
     ]
    },
    {
     "name": "stderr",
     "output_type": "stream",
     "text": [
      "C:\\Users\\luis.pinto1\\AppData\\Roaming\\Python\\Python310\\site-packages\\IPython\\core\\interactiveshell.py:3441: UserWarning: To exit: use 'exit', 'quit', or Ctrl-D.\n",
      "  warn(\"To exit: use 'exit', 'quit', or Ctrl-D.\", stacklevel=1)\n"
     ]
    }
   ],
   "source": [
    "import sys\n",
    "\n",
    "sys.exit()"
   ]
  },
  {
   "cell_type": "code",
   "execution_count": null,
   "metadata": {},
   "outputs": [],
   "source": []
  },
  {
   "cell_type": "code",
   "execution_count": null,
   "metadata": {},
   "outputs": [],
   "source": []
  },
  {
   "cell_type": "code",
   "execution_count": null,
   "metadata": {},
   "outputs": [],
   "source": []
  },
  {
   "cell_type": "code",
   "execution_count": null,
   "metadata": {},
   "outputs": [],
   "source": [
    "outlier_df = pd.DataFrame()\n",
    "outlier_df['id'] = train_feats['id']\n",
    "outlier_df['score'] = train_feats['score']\n",
    "outlier_df['preds'] = means"
   ]
  },
  {
   "cell_type": "code",
   "execution_count": null,
   "metadata": {},
   "outputs": [],
   "source": [
    "# Define the near-miss range\n",
    "near_miss_range = (1.5, 2.0)\n",
    "\n",
    "secondary_model_data = outlier_df[\n",
    "    (outlier_df['score'] < 1.5) |\n",
    "    (outlier_df['preds'].between(near_miss_range[0], near_miss_range[1]))\n",
    "].copy()\n",
    "\n",
    "# Create a binary target for the secondary model\n",
    "secondary_model_data['binary_target'] = (secondary_model_data['score'] < 1.5).astype(int)"
   ]
  },
  {
   "cell_type": "markdown",
   "metadata": {},
   "source": [
    "## Classifier"
   ]
  },
  {
   "cell_type": "code",
   "execution_count": null,
   "metadata": {},
   "outputs": [],
   "source": [
    "secondary_model_data = train_feats.copy()\n",
    "secondary_model_data['score'] = (secondary_model_data['score']<=2).astype(int)"
   ]
  },
  {
   "cell_type": "code",
   "execution_count": null,
   "metadata": {},
   "outputs": [],
   "source": [
    "#secondary_model_data.drop(['score','preds'],axis=1).merge(train_feats.drop(['score'],axis=1), on='id', how='left').rename({'binary_target':'score'}, axis=1)"
   ]
  },
  {
   "cell_type": "code",
   "execution_count": null,
   "metadata": {},
   "outputs": [],
   "source": [
    "target_col = ['score']\n",
    "drop_cols = ['id']\n",
    "train_cols = [col for col in secondary_model_data.columns if col not in target_col + drop_cols]\n",
    "\n",
    "def objective(trial,data=secondary_model_data[train_cols],target=secondary_model_data[target_col]):\n",
    "    \n",
    "    train_x, test_x, train_y, test_y = train_test_split(data, target, test_size=0.15,random_state=42)\n",
    "    params = {\n",
    "        'reg_lambda': trial.suggest_float('reg_lambda', 1e-4, 10.0, log=True),\n",
    "        'reg_alpha': trial.suggest_float('reg_alpha', 1e-4, 10.0, log=True),\n",
    "        'colsample_bytree': trial.suggest_categorical('colsample_bytree', [0.4,0.6,0.8,1.0]),\n",
    "        'colsample_bynode': trial.suggest_categorical('colsample_bynode', [0.4,0.6,0.8,1.0]),\n",
    "        'subsample': trial.suggest_categorical('subsample', [0.4,0.5,0.6,0.7,0.8,0.9,1.0]),\n",
    "        'learning_rate': trial.suggest_float('learning_rate', 1e-5, 5e-2, log=True), #trial.suggest_categorical('learning_rate', [0.008,0.01,0.012,0.014,0.016,0.018, 0.02]),\n",
    "        'max_depth': trial.suggest_categorical('max_depth', [9,11,13,15,17,20,25,30]),\n",
    "        'min_child_samples': trial.suggest_categorical('min_child_samples', [7,9,11,13,15,17,20,25,30]),\n",
    "        'num_leaves': trial.suggest_int('num_leaves', 10, 40, step=2)\n",
    "    }\n",
    "\n",
    "    all_params = {\n",
    "        \"objective\": \"binary\",\n",
    "        \"metric\": \"auc\",\n",
    "        'random_state': 42,\n",
    "        \"n_estimators\" : 1000,\n",
    "        \"verbosity\": -1,\n",
    "        \"n_jobs\": -1,\n",
    "        # \"device_type\": 'cuda',\n",
    "        # \"gpu_use_dp\": True,\n",
    "        **params\n",
    "    }\n",
    "\n",
    "    model = lgb.LGBMRegressor(**all_params)\n",
    "\n",
    "    early_stopping_callback = lgb.early_stopping(10, first_metric_only=True, verbose=False)\n",
    "    \n",
    "    model.fit(train_x, train_y, eval_set=[(test_x, test_y)], #verbose=False,\n",
    "                callbacks=[early_stopping_callback], eval_metric='auc-pr'\n",
    "    )\n",
    "    \n",
    "    preds = model.predict(test_x)\n",
    "    \n",
    "    aucpr = metrics.average_precision_score(test_y, preds)\n",
    "    \n",
    "    return aucpr"
   ]
  },
  {
   "cell_type": "code",
   "execution_count": null,
   "metadata": {},
   "outputs": [],
   "source": [
    "study = optuna.create_study(direction='maximize')\n",
    "study.optimize(objective, n_trials=100)\n",
    "print('Number of finished trials:', len(study.trials))\n",
    "print('Best trial:', study.best_trial.params)"
   ]
  },
  {
   "cell_type": "code",
   "execution_count": null,
   "metadata": {},
   "outputs": [
    {
     "name": "stderr",
     "output_type": "stream",
     "text": [
      "c:\\Users\\luis.pinto1\\AppData\\Local\\Programs\\Python\\Python310\\lib\\site-packages\\sklearn\\preprocessing\\_label.py:99: DataConversionWarning: A column-vector y was passed when a 1d array was expected. Please change the shape of y to (n_samples, ), for example using ravel().\n",
      "  y = column_or_1d(y, warn=True)\n",
      "c:\\Users\\luis.pinto1\\AppData\\Local\\Programs\\Python\\Python310\\lib\\site-packages\\sklearn\\preprocessing\\_label.py:134: DataConversionWarning: A column-vector y was passed when a 1d array was expected. Please change the shape of y to (n_samples, ), for example using ravel().\n",
      "  y = column_or_1d(y, dtype=self.classes_.dtype, warn=True)\n",
      "c:\\Users\\luis.pinto1\\AppData\\Local\\Programs\\Python\\Python310\\lib\\site-packages\\sklearn\\preprocessing\\_label.py:99: DataConversionWarning: A column-vector y was passed when a 1d array was expected. Please change the shape of y to (n_samples, ), for example using ravel().\n",
      "  y = column_or_1d(y, warn=True)\n",
      "c:\\Users\\luis.pinto1\\AppData\\Local\\Programs\\Python\\Python310\\lib\\site-packages\\sklearn\\preprocessing\\_label.py:134: DataConversionWarning: A column-vector y was passed when a 1d array was expected. Please change the shape of y to (n_samples, ), for example using ravel().\n",
      "  y = column_or_1d(y, dtype=self.classes_.dtype, warn=True)\n",
      "c:\\Users\\luis.pinto1\\AppData\\Local\\Programs\\Python\\Python310\\lib\\site-packages\\sklearn\\preprocessing\\_label.py:99: DataConversionWarning: A column-vector y was passed when a 1d array was expected. Please change the shape of y to (n_samples, ), for example using ravel().\n",
      "  y = column_or_1d(y, warn=True)\n",
      "c:\\Users\\luis.pinto1\\AppData\\Local\\Programs\\Python\\Python310\\lib\\site-packages\\sklearn\\preprocessing\\_label.py:134: DataConversionWarning: A column-vector y was passed when a 1d array was expected. Please change the shape of y to (n_samples, ), for example using ravel().\n",
      "  y = column_or_1d(y, dtype=self.classes_.dtype, warn=True)\n",
      "c:\\Users\\luis.pinto1\\AppData\\Local\\Programs\\Python\\Python310\\lib\\site-packages\\sklearn\\preprocessing\\_label.py:99: DataConversionWarning: A column-vector y was passed when a 1d array was expected. Please change the shape of y to (n_samples, ), for example using ravel().\n",
      "  y = column_or_1d(y, warn=True)\n",
      "c:\\Users\\luis.pinto1\\AppData\\Local\\Programs\\Python\\Python310\\lib\\site-packages\\sklearn\\preprocessing\\_label.py:134: DataConversionWarning: A column-vector y was passed when a 1d array was expected. Please change the shape of y to (n_samples, ), for example using ravel().\n",
      "  y = column_or_1d(y, dtype=self.classes_.dtype, warn=True)\n",
      "c:\\Users\\luis.pinto1\\AppData\\Local\\Programs\\Python\\Python310\\lib\\site-packages\\sklearn\\preprocessing\\_label.py:99: DataConversionWarning: A column-vector y was passed when a 1d array was expected. Please change the shape of y to (n_samples, ), for example using ravel().\n",
      "  y = column_or_1d(y, warn=True)\n",
      "c:\\Users\\luis.pinto1\\AppData\\Local\\Programs\\Python\\Python310\\lib\\site-packages\\sklearn\\preprocessing\\_label.py:134: DataConversionWarning: A column-vector y was passed when a 1d array was expected. Please change the shape of y to (n_samples, ), for example using ravel().\n",
      "  y = column_or_1d(y, dtype=self.classes_.dtype, warn=True)\n",
      "c:\\Users\\luis.pinto1\\AppData\\Local\\Programs\\Python\\Python310\\lib\\site-packages\\sklearn\\preprocessing\\_label.py:99: DataConversionWarning: A column-vector y was passed when a 1d array was expected. Please change the shape of y to (n_samples, ), for example using ravel().\n",
      "  y = column_or_1d(y, warn=True)\n",
      "c:\\Users\\luis.pinto1\\AppData\\Local\\Programs\\Python\\Python310\\lib\\site-packages\\sklearn\\preprocessing\\_label.py:134: DataConversionWarning: A column-vector y was passed when a 1d array was expected. Please change the shape of y to (n_samples, ), for example using ravel().\n",
      "  y = column_or_1d(y, dtype=self.classes_.dtype, warn=True)\n",
      "c:\\Users\\luis.pinto1\\AppData\\Local\\Programs\\Python\\Python310\\lib\\site-packages\\sklearn\\preprocessing\\_label.py:99: DataConversionWarning: A column-vector y was passed when a 1d array was expected. Please change the shape of y to (n_samples, ), for example using ravel().\n",
      "  y = column_or_1d(y, warn=True)\n",
      "c:\\Users\\luis.pinto1\\AppData\\Local\\Programs\\Python\\Python310\\lib\\site-packages\\sklearn\\preprocessing\\_label.py:134: DataConversionWarning: A column-vector y was passed when a 1d array was expected. Please change the shape of y to (n_samples, ), for example using ravel().\n",
      "  y = column_or_1d(y, dtype=self.classes_.dtype, warn=True)\n",
      "c:\\Users\\luis.pinto1\\AppData\\Local\\Programs\\Python\\Python310\\lib\\site-packages\\sklearn\\preprocessing\\_label.py:99: DataConversionWarning: A column-vector y was passed when a 1d array was expected. Please change the shape of y to (n_samples, ), for example using ravel().\n",
      "  y = column_or_1d(y, warn=True)\n",
      "c:\\Users\\luis.pinto1\\AppData\\Local\\Programs\\Python\\Python310\\lib\\site-packages\\sklearn\\preprocessing\\_label.py:134: DataConversionWarning: A column-vector y was passed when a 1d array was expected. Please change the shape of y to (n_samples, ), for example using ravel().\n",
      "  y = column_or_1d(y, dtype=self.classes_.dtype, warn=True)\n",
      "c:\\Users\\luis.pinto1\\AppData\\Local\\Programs\\Python\\Python310\\lib\\site-packages\\sklearn\\preprocessing\\_label.py:99: DataConversionWarning: A column-vector y was passed when a 1d array was expected. Please change the shape of y to (n_samples, ), for example using ravel().\n",
      "  y = column_or_1d(y, warn=True)\n",
      "c:\\Users\\luis.pinto1\\AppData\\Local\\Programs\\Python\\Python310\\lib\\site-packages\\sklearn\\preprocessing\\_label.py:134: DataConversionWarning: A column-vector y was passed when a 1d array was expected. Please change the shape of y to (n_samples, ), for example using ravel().\n",
      "  y = column_or_1d(y, dtype=self.classes_.dtype, warn=True)\n",
      "c:\\Users\\luis.pinto1\\AppData\\Local\\Programs\\Python\\Python310\\lib\\site-packages\\sklearn\\preprocessing\\_label.py:99: DataConversionWarning: A column-vector y was passed when a 1d array was expected. Please change the shape of y to (n_samples, ), for example using ravel().\n",
      "  y = column_or_1d(y, warn=True)\n",
      "c:\\Users\\luis.pinto1\\AppData\\Local\\Programs\\Python\\Python310\\lib\\site-packages\\sklearn\\preprocessing\\_label.py:134: DataConversionWarning: A column-vector y was passed when a 1d array was expected. Please change the shape of y to (n_samples, ), for example using ravel().\n",
      "  y = column_or_1d(y, dtype=self.classes_.dtype, warn=True)\n",
      "c:\\Users\\luis.pinto1\\AppData\\Local\\Programs\\Python\\Python310\\lib\\site-packages\\sklearn\\preprocessing\\_label.py:99: DataConversionWarning: A column-vector y was passed when a 1d array was expected. Please change the shape of y to (n_samples, ), for example using ravel().\n",
      "  y = column_or_1d(y, warn=True)\n",
      "c:\\Users\\luis.pinto1\\AppData\\Local\\Programs\\Python\\Python310\\lib\\site-packages\\sklearn\\preprocessing\\_label.py:134: DataConversionWarning: A column-vector y was passed when a 1d array was expected. Please change the shape of y to (n_samples, ), for example using ravel().\n",
      "  y = column_or_1d(y, dtype=self.classes_.dtype, warn=True)\n",
      "c:\\Users\\luis.pinto1\\AppData\\Local\\Programs\\Python\\Python310\\lib\\site-packages\\sklearn\\preprocessing\\_label.py:99: DataConversionWarning: A column-vector y was passed when a 1d array was expected. Please change the shape of y to (n_samples, ), for example using ravel().\n",
      "  y = column_or_1d(y, warn=True)\n",
      "c:\\Users\\luis.pinto1\\AppData\\Local\\Programs\\Python\\Python310\\lib\\site-packages\\sklearn\\preprocessing\\_label.py:134: DataConversionWarning: A column-vector y was passed when a 1d array was expected. Please change the shape of y to (n_samples, ), for example using ravel().\n",
      "  y = column_or_1d(y, dtype=self.classes_.dtype, warn=True)\n",
      "c:\\Users\\luis.pinto1\\AppData\\Local\\Programs\\Python\\Python310\\lib\\site-packages\\sklearn\\preprocessing\\_label.py:99: DataConversionWarning: A column-vector y was passed when a 1d array was expected. Please change the shape of y to (n_samples, ), for example using ravel().\n",
      "  y = column_or_1d(y, warn=True)\n",
      "c:\\Users\\luis.pinto1\\AppData\\Local\\Programs\\Python\\Python310\\lib\\site-packages\\sklearn\\preprocessing\\_label.py:134: DataConversionWarning: A column-vector y was passed when a 1d array was expected. Please change the shape of y to (n_samples, ), for example using ravel().\n",
      "  y = column_or_1d(y, dtype=self.classes_.dtype, warn=True)\n",
      "c:\\Users\\luis.pinto1\\AppData\\Local\\Programs\\Python\\Python310\\lib\\site-packages\\sklearn\\preprocessing\\_label.py:99: DataConversionWarning: A column-vector y was passed when a 1d array was expected. Please change the shape of y to (n_samples, ), for example using ravel().\n",
      "  y = column_or_1d(y, warn=True)\n",
      "c:\\Users\\luis.pinto1\\AppData\\Local\\Programs\\Python\\Python310\\lib\\site-packages\\sklearn\\preprocessing\\_label.py:134: DataConversionWarning: A column-vector y was passed when a 1d array was expected. Please change the shape of y to (n_samples, ), for example using ravel().\n",
      "  y = column_or_1d(y, dtype=self.classes_.dtype, warn=True)\n",
      "c:\\Users\\luis.pinto1\\AppData\\Local\\Programs\\Python\\Python310\\lib\\site-packages\\sklearn\\preprocessing\\_label.py:99: DataConversionWarning: A column-vector y was passed when a 1d array was expected. Please change the shape of y to (n_samples, ), for example using ravel().\n",
      "  y = column_or_1d(y, warn=True)\n",
      "c:\\Users\\luis.pinto1\\AppData\\Local\\Programs\\Python\\Python310\\lib\\site-packages\\sklearn\\preprocessing\\_label.py:134: DataConversionWarning: A column-vector y was passed when a 1d array was expected. Please change the shape of y to (n_samples, ), for example using ravel().\n",
      "  y = column_or_1d(y, dtype=self.classes_.dtype, warn=True)\n",
      "c:\\Users\\luis.pinto1\\AppData\\Local\\Programs\\Python\\Python310\\lib\\site-packages\\sklearn\\preprocessing\\_label.py:99: DataConversionWarning: A column-vector y was passed when a 1d array was expected. Please change the shape of y to (n_samples, ), for example using ravel().\n",
      "  y = column_or_1d(y, warn=True)\n",
      "c:\\Users\\luis.pinto1\\AppData\\Local\\Programs\\Python\\Python310\\lib\\site-packages\\sklearn\\preprocessing\\_label.py:134: DataConversionWarning: A column-vector y was passed when a 1d array was expected. Please change the shape of y to (n_samples, ), for example using ravel().\n",
      "  y = column_or_1d(y, dtype=self.classes_.dtype, warn=True)\n",
      "c:\\Users\\luis.pinto1\\AppData\\Local\\Programs\\Python\\Python310\\lib\\site-packages\\sklearn\\preprocessing\\_label.py:99: DataConversionWarning: A column-vector y was passed when a 1d array was expected. Please change the shape of y to (n_samples, ), for example using ravel().\n",
      "  y = column_or_1d(y, warn=True)\n",
      "c:\\Users\\luis.pinto1\\AppData\\Local\\Programs\\Python\\Python310\\lib\\site-packages\\sklearn\\preprocessing\\_label.py:134: DataConversionWarning: A column-vector y was passed when a 1d array was expected. Please change the shape of y to (n_samples, ), for example using ravel().\n",
      "  y = column_or_1d(y, dtype=self.classes_.dtype, warn=True)\n",
      "c:\\Users\\luis.pinto1\\AppData\\Local\\Programs\\Python\\Python310\\lib\\site-packages\\sklearn\\preprocessing\\_label.py:99: DataConversionWarning: A column-vector y was passed when a 1d array was expected. Please change the shape of y to (n_samples, ), for example using ravel().\n",
      "  y = column_or_1d(y, warn=True)\n",
      "c:\\Users\\luis.pinto1\\AppData\\Local\\Programs\\Python\\Python310\\lib\\site-packages\\sklearn\\preprocessing\\_label.py:134: DataConversionWarning: A column-vector y was passed when a 1d array was expected. Please change the shape of y to (n_samples, ), for example using ravel().\n",
      "  y = column_or_1d(y, dtype=self.classes_.dtype, warn=True)\n",
      "c:\\Users\\luis.pinto1\\AppData\\Local\\Programs\\Python\\Python310\\lib\\site-packages\\sklearn\\preprocessing\\_label.py:99: DataConversionWarning: A column-vector y was passed when a 1d array was expected. Please change the shape of y to (n_samples, ), for example using ravel().\n",
      "  y = column_or_1d(y, warn=True)\n",
      "c:\\Users\\luis.pinto1\\AppData\\Local\\Programs\\Python\\Python310\\lib\\site-packages\\sklearn\\preprocessing\\_label.py:134: DataConversionWarning: A column-vector y was passed when a 1d array was expected. Please change the shape of y to (n_samples, ), for example using ravel().\n",
      "  y = column_or_1d(y, dtype=self.classes_.dtype, warn=True)\n",
      "c:\\Users\\luis.pinto1\\AppData\\Local\\Programs\\Python\\Python310\\lib\\site-packages\\sklearn\\preprocessing\\_label.py:99: DataConversionWarning: A column-vector y was passed when a 1d array was expected. Please change the shape of y to (n_samples, ), for example using ravel().\n",
      "  y = column_or_1d(y, warn=True)\n",
      "c:\\Users\\luis.pinto1\\AppData\\Local\\Programs\\Python\\Python310\\lib\\site-packages\\sklearn\\preprocessing\\_label.py:134: DataConversionWarning: A column-vector y was passed when a 1d array was expected. Please change the shape of y to (n_samples, ), for example using ravel().\n",
      "  y = column_or_1d(y, dtype=self.classes_.dtype, warn=True)\n",
      "c:\\Users\\luis.pinto1\\AppData\\Local\\Programs\\Python\\Python310\\lib\\site-packages\\sklearn\\preprocessing\\_label.py:99: DataConversionWarning: A column-vector y was passed when a 1d array was expected. Please change the shape of y to (n_samples, ), for example using ravel().\n",
      "  y = column_or_1d(y, warn=True)\n",
      "c:\\Users\\luis.pinto1\\AppData\\Local\\Programs\\Python\\Python310\\lib\\site-packages\\sklearn\\preprocessing\\_label.py:134: DataConversionWarning: A column-vector y was passed when a 1d array was expected. Please change the shape of y to (n_samples, ), for example using ravel().\n",
      "  y = column_or_1d(y, dtype=self.classes_.dtype, warn=True)\n",
      "c:\\Users\\luis.pinto1\\AppData\\Local\\Programs\\Python\\Python310\\lib\\site-packages\\sklearn\\preprocessing\\_label.py:99: DataConversionWarning: A column-vector y was passed when a 1d array was expected. Please change the shape of y to (n_samples, ), for example using ravel().\n",
      "  y = column_or_1d(y, warn=True)\n",
      "c:\\Users\\luis.pinto1\\AppData\\Local\\Programs\\Python\\Python310\\lib\\site-packages\\sklearn\\preprocessing\\_label.py:134: DataConversionWarning: A column-vector y was passed when a 1d array was expected. Please change the shape of y to (n_samples, ), for example using ravel().\n",
      "  y = column_or_1d(y, dtype=self.classes_.dtype, warn=True)\n",
      "c:\\Users\\luis.pinto1\\AppData\\Local\\Programs\\Python\\Python310\\lib\\site-packages\\sklearn\\preprocessing\\_label.py:99: DataConversionWarning: A column-vector y was passed when a 1d array was expected. Please change the shape of y to (n_samples, ), for example using ravel().\n",
      "  y = column_or_1d(y, warn=True)\n",
      "c:\\Users\\luis.pinto1\\AppData\\Local\\Programs\\Python\\Python310\\lib\\site-packages\\sklearn\\preprocessing\\_label.py:134: DataConversionWarning: A column-vector y was passed when a 1d array was expected. Please change the shape of y to (n_samples, ), for example using ravel().\n",
      "  y = column_or_1d(y, dtype=self.classes_.dtype, warn=True)\n",
      "c:\\Users\\luis.pinto1\\AppData\\Local\\Programs\\Python\\Python310\\lib\\site-packages\\sklearn\\preprocessing\\_label.py:99: DataConversionWarning: A column-vector y was passed when a 1d array was expected. Please change the shape of y to (n_samples, ), for example using ravel().\n",
      "  y = column_or_1d(y, warn=True)\n",
      "c:\\Users\\luis.pinto1\\AppData\\Local\\Programs\\Python\\Python310\\lib\\site-packages\\sklearn\\preprocessing\\_label.py:134: DataConversionWarning: A column-vector y was passed when a 1d array was expected. Please change the shape of y to (n_samples, ), for example using ravel().\n",
      "  y = column_or_1d(y, dtype=self.classes_.dtype, warn=True)\n",
      "c:\\Users\\luis.pinto1\\AppData\\Local\\Programs\\Python\\Python310\\lib\\site-packages\\sklearn\\preprocessing\\_label.py:99: DataConversionWarning: A column-vector y was passed when a 1d array was expected. Please change the shape of y to (n_samples, ), for example using ravel().\n",
      "  y = column_or_1d(y, warn=True)\n",
      "c:\\Users\\luis.pinto1\\AppData\\Local\\Programs\\Python\\Python310\\lib\\site-packages\\sklearn\\preprocessing\\_label.py:134: DataConversionWarning: A column-vector y was passed when a 1d array was expected. Please change the shape of y to (n_samples, ), for example using ravel().\n",
      "  y = column_or_1d(y, dtype=self.classes_.dtype, warn=True)\n"
     ]
    }
   ],
   "source": [
    "OOF_CLASSIFIER_PREDS = np.zeros((len(secondary_model_data), 2))\n",
    "# TEST_PREDS = np.zeros((len(test_feats), 2))\n",
    "\n",
    "models_dict = {}\n",
    "scores = []\n",
    "preds_dict = {}\n",
    "count = 0\n",
    "for _ in secondary_model_data['id'].unique():\n",
    "    preds_dict[count] = []\n",
    "    count+=1\n",
    "\n",
    "# test_predict_list = []\n",
    "\n",
    "for i in range(5):\n",
    "    kf = model_selection.KFold(n_splits=5, random_state=42 + i, shuffle=True)\n",
    "    oof_valid_preds = np.zeros(secondary_model_data.shape[0])\n",
    "    # X_test = test_feats[train_cols]\n",
    "    for fold, (train_idx, valid_idx) in enumerate(kf.split(secondary_model_data)):\n",
    "        \n",
    "        X_train, y_train = secondary_model_data.iloc[train_idx][train_cols], secondary_model_data.iloc[train_idx][target_col]\n",
    "        X_valid, y_valid = secondary_model_data.iloc[valid_idx][train_cols], secondary_model_data.iloc[valid_idx][target_col]\n",
    "\n",
    "        # X_train.fillna(0, inplace=True)\n",
    "        # X_valid.fillna(0, inplace=True)\n",
    "        best_trial = study.best_trial.params\n",
    "        best_params = {\n",
    "                \"objective\": \"binary\",\n",
    "                \"metric\": \"auc\",\n",
    "                'random_state': 42,\n",
    "                \"n_estimators\" : 1000,\n",
    "                \"verbosity\": -1,\n",
    "                \"n_jobs\": -1,\n",
    "                # **best_trial\n",
    "            }\n",
    "        model = lgb.LGBMClassifier(**best_params)\n",
    "        early_stopping_callback = lgb.early_stopping(5, first_metric_only=True, verbose=False)\n",
    "        \n",
    "        model.fit(X_train, y_train, eval_set=[(X_valid, y_valid)], #verbose=False, \n",
    "                  callbacks=[early_stopping_callback],\n",
    "                  eval_metric='auc-pr'\n",
    "        )\n",
    "\n",
    "        # Logistic regression\n",
    "        # model = linear_model.LogisticRegression()\n",
    "        # model.fit(X_train, y_train)\n",
    "\n",
    "        valid_predict = model.predict_proba(X_valid)[:,1]\n",
    "\n",
    "        for count, idx in enumerate(valid_idx):\n",
    "            preds_dict[idx].append(valid_predict[count])\n",
    "\n",
    "        oof_valid_preds[valid_idx] = valid_predict\n",
    "        # OOF_PREDS[valid_idx, 0] += valid_predict / 5\n",
    "        OOF_CLASSIFIER_PREDS[valid_idx, 0] = valid_predict \n",
    "        score = metrics.average_precision_score(y_valid, valid_predict)\n",
    "        models_dict[f'{fold}_{i}'] = model\n",
    "\n",
    "    oof_score = metrics.average_precision_score(secondary_model_data[target_col], oof_valid_preds)\n",
    "    scores.append(oof_score)"
   ]
  },
  {
   "cell_type": "code",
   "execution_count": null,
   "metadata": {},
   "outputs": [
    {
     "name": "stdout",
     "output_type": "stream",
     "text": [
      "OOF AUC-PR metric LGBM = 0.54355\n"
     ]
    }
   ],
   "source": [
    "class_means = []\n",
    "class_stds = []\n",
    "\n",
    "for idx in preds_dict:\n",
    "    class_means.append(np.mean(preds_dict[idx]))\n",
    "    class_stds.append(np.std(preds_dict[idx]))\n",
    "\n",
    "print('OOF AUC-PR metric LGBM = {:.5f}'.format(metrics.average_precision_score(secondary_model_data[target_col], \n",
    "                                                                   class_means)))"
   ]
  },
  {
   "cell_type": "code",
   "execution_count": null,
   "metadata": {},
   "outputs": [
    {
     "data": {
      "image/png": "[encoded data removed]",
      "text/plain": [
       "<Figure size 600x600 with 1 Axes>"
      ]
     },
     "metadata": {},
     "output_type": "display_data"
    }
   ],
   "source": [
    "fpr, tpr, thresholds = metrics.roc_curve(secondary_model_data[target_col], class_means)\n",
    "roc_auc = metrics.auc(fpr, tpr)\n",
    "\n",
    "plt.figure(figsize=(6,6))\n",
    "plt.plot(fpr, tpr, label='ROC curve (area = %0.3f)' % roc_auc)\n",
    "plt.plot([0, 1], [0, 1], linestyle='--')\n",
    "plt.xlabel('False Positive Rate')\n",
    "plt.ylabel('True Positive Rate')\n",
    "plt.title('ROC Curve')\n",
    "plt.legend(loc=\"lower right\")\n",
    "plt.show()"
   ]
  },
  {
   "cell_type": "code",
   "execution_count": null,
   "metadata": {},
   "outputs": [
    {
     "name": "stdout",
     "output_type": "stream",
     "text": [
      "230\n"
     ]
    }
   ],
   "source": [
    "print(sum(tpr<0.90))"
   ]
  },
  {
   "cell_type": "code",
   "execution_count": null,
   "metadata": {},
   "outputs": [
    {
     "data": {
      "text/plain": [
       "0.05756903201104489"
      ]
     },
     "execution_count": 202,
     "metadata": {},
     "output_type": "execute_result"
    }
   ],
   "source": [
    "thresholds[np.argmax(np.sqrt(tpr*(1-fpr)))]"
   ]
  },
  {
   "cell_type": "code",
   "execution_count": null,
   "metadata": {},
   "outputs": [
    {
     "data": {
      "text/plain": [
       "Text(0.5, 1.0, 'AUC-PR=0.543549013200823')"
      ]
     },
     "execution_count": 190,
     "metadata": {},
     "output_type": "execute_result"
    },
    {
     "data": {
      "image/png": "[encoded data removed]",
      "text/plain": [
       "<Figure size 600x600 with 1 Axes>"
      ]
     },
     "metadata": {},
     "output_type": "display_data"
    }
   ],
   "source": [
    "precision, recall, _ = metrics.precision_recall_curve(secondary_model_data[target_col], class_means)\n",
    "average_precision = metrics.average_precision_score(secondary_model_data[target_col], class_means)\n",
    "\n",
    "plt.figure(figsize=(6,6))\n",
    "plt.step(recall, precision, color='b', alpha=0.2,\n",
    "         where='post')\n",
    "plt.xlabel('Recall')\n",
    "plt.ylabel('Precision')\n",
    "plt.ylim([0.0, 1.05])\n",
    "plt.xlim([0.0, 1.0])\n",
    "plt.title(f'AUC-PR={average_precision}')"
   ]
  },
  {
   "cell_type": "code",
   "execution_count": null,
   "metadata": {},
   "outputs": [],
   "source": [
    "train_feats['reg_preds'] = means\n",
    "train_feats['class_preds'] = class_means"
   ]
  },
  {
   "cell_type": "code",
   "execution_count": null,
   "metadata": {},
   "outputs": [
    {
     "name": "stdout",
     "output_type": "stream",
     "text": [
      "OOF metric LGBM = 0.61091\n",
      "OOF AUC-PR metric LGBM = 0.54355\n"
     ]
    }
   ],
   "source": [
    "print('OOF metric LGBM = {:.5f}'.format(metrics.mean_squared_error(train_feats[target_col], \n",
    "                                                                   train_feats['reg_preds'],\n",
    "                                                                   squared=False)))\n",
    "\n",
    "print('OOF AUC-PR metric LGBM = {:.5f}'.format(metrics.average_precision_score(secondary_model_data[target_col], \n",
    "                                                                   class_means)))"
   ]
  },
  {
   "cell_type": "code",
   "execution_count": null,
   "metadata": {},
   "outputs": [
    {
     "name": "stdout",
     "output_type": "stream",
     "text": [
      "0.05756903201104489\n",
      "OOF metric LGBM = 0.61091\n"
     ]
    }
   ],
   "source": [
    "opt_thresh = thresholds[np.argmax(tpr - fpr)]\n",
    "print(opt_thresh)\n",
    "train_feats.loc[(train_feats['reg_preds']<=2) & (train_feats['class_preds']<=opt_thresh), 'reg_preds'] = 2\n",
    "\n",
    "print('OOF metric LGBM = {:.5f}'.format(metrics.mean_squared_error(train_feats[target_col], \n",
    "                                                                   train_feats['reg_preds'],\n",
    "                                                                   squared=False)))"
   ]
  },
  {
   "cell_type": "code",
   "execution_count": null,
   "metadata": {},
   "outputs": [
    {
     "data": {
      "text/html": [
       "<div>\n",
       "<style scoped>\n",
       "    .dataframe tbody tr th:only-of-type {\n",
       "        vertical-align: middle;\n",
       "    }\n",
       "\n",
       "    .dataframe tbody tr th {\n",
       "        vertical-align: top;\n",
       "    }\n",
       "\n",
       "    .dataframe thead th {\n",
       "        text-align: right;\n",
       "    }\n",
       "</style>\n",
       "<table border=\"1\" class=\"dataframe\">\n",
       "  <thead>\n",
       "    <tr style=\"text-align: right;\">\n",
       "      <th></th>\n",
       "      <th>id</th>\n",
       "      <th>0</th>\n",
       "      <th>1</th>\n",
       "      <th>2</th>\n",
       "      <th>3</th>\n",
       "      <th>4</th>\n",
       "      <th>5</th>\n",
       "      <th>6</th>\n",
       "      <th>7</th>\n",
       "      <th>8</th>\n",
       "      <th>...</th>\n",
       "      <th>185</th>\n",
       "      <th>186</th>\n",
       "      <th>187</th>\n",
       "      <th>188</th>\n",
       "      <th>189</th>\n",
       "      <th>190</th>\n",
       "      <th>191</th>\n",
       "      <th>score</th>\n",
       "      <th>reg_preds</th>\n",
       "      <th>class_preds</th>\n",
       "    </tr>\n",
       "  </thead>\n",
       "  <tbody>\n",
       "  </tbody>\n",
       "</table>\n",
       "<p>0 rows × 196 columns</p>\n",
       "</div>"
      ],
      "text/plain": [
       "Empty DataFrame\n",
       "Columns: [id, 0, 1, 2, 3, 4, 5, 6, 7, 8, 9, 10, 11, 12, 13, 14, 15, 16, 17, 18, 19, 20, 21, 22, 23, 24, 25, 26, 27, 28, 29, 30, 31, 32, 33, 34, 35, 36, 37, 38, 39, 40, 41, 42, 43, 44, 45, 46, 47, 48, 49, 50, 51, 52, 53, 54, 55, 56, 57, 58, 59, 60, 61, 62, 63, 64, 65, 66, 67, 68, 69, 70, 71, 72, 73, 74, 75, 76, 77, 78, 79, 80, 81, 82, 83, 84, 85, 86, 87, 88, 89, 90, 91, 92, 93, 94, 95, 96, 97, 98, ...]\n",
       "Index: []\n",
       "\n",
       "[0 rows x 196 columns]"
      ]
     },
     "execution_count": 204,
     "metadata": {},
     "output_type": "execute_result"
    }
   ],
   "source": [
    "train_feats[(train_feats['reg_preds']<=2) & (train_feats['class_preds']<=thresholds[230])]"
   ]
  },
  {
   "cell_type": "code",
   "execution_count": null,
   "metadata": {},
   "outputs": [
    {
     "data": {
      "text/plain": [
       "0.060138565850427164"
      ]
     },
     "execution_count": 205,
     "metadata": {},
     "output_type": "execute_result"
    }
   ],
   "source": [
    "thresholds[230]"
   ]
  },
  {
   "cell_type": "code",
   "execution_count": null,
   "metadata": {},
   "outputs": [
    {
     "ename": "SystemExit",
     "evalue": "",
     "output_type": "error",
     "traceback": [
      "An exception has occurred, use %tb to see the full traceback.\n",
      "\u001b[1;31mSystemExit\u001b[0m\n"
     ]
    },
    {
     "name": "stderr",
     "output_type": "stream",
     "text": [
      "C:\\Users\\luis.pinto1\\AppData\\Roaming\\Python\\Python310\\site-packages\\IPython\\core\\interactiveshell.py:3441: UserWarning: To exit: use 'exit', 'quit', or Ctrl-D.\n",
      "  warn(\"To exit: use 'exit', 'quit', or Ctrl-D.\", stacklevel=1)\n"
     ]
    }
   ],
   "source": [
    "import sys\n",
    "\n",
    "sys.exit()"
   ]
  },
  {
   "cell_type": "markdown",
   "metadata": {},
   "source": [
    "## Reduced feature list"
   ]
  },
  {
   "cell_type": "code",
   "execution_count": null,
   "metadata": {},
   "outputs": [],
   "source": [
    "temp_cols = []\n",
    "for k in models_dict.keys():\n",
    "    temp = models_dict[k].feature_importances_\n",
    "    temp_df = pd.DataFrame({'Feature': train_cols, 'Split': temp})\n",
    "    temp_cols+=list(temp_df.sort_values(by='Split', ascending=False).loc[:np.ceil(temp_df.shape[0]*0.75)]['Feature'].values)\n",
    "# list(split_importance_df.sort_values(by='Split', ascending=False).loc[:np.ceil(split_importance_df.shape[0]*0.75)]['Feature'].values)\n",
    "\n",
    "new_train_cols = list(set(temp_cols))"
   ]
  },
  {
   "cell_type": "code",
   "execution_count": null,
   "metadata": {},
   "outputs": [],
   "source": [
    "target_col = ['score']\n",
    "drop_cols = ['id']\n",
    "train_cols = [col for col in new_train_cols if col not in target_col + drop_cols]"
   ]
  },
  {
   "cell_type": "code",
   "execution_count": null,
   "metadata": {},
   "outputs": [],
   "source": [
    "def objective(trial,data=train_feats[train_cols],target=train_feats[target_col]):\n",
    "    \n",
    "    train_x, test_x, train_y, test_y = train_test_split(data, target, test_size=0.15,random_state=42)\n",
    "    params = {\n",
    "        'reg_lambda': trial.suggest_float('reg_lambda', 1e-4, 10.0, log=True),\n",
    "        'reg_alpha': trial.suggest_float('reg_alpha', 1e-4, 10.0, log=True),\n",
    "        'colsample_bytree': trial.suggest_categorical('colsample_bytree', [0.3,0.4,0.5,0.6,0.7,0.8,0.9,1.0]),\n",
    "        'colsample_bynode': trial.suggest_categorical('colsample_bynode', [0.3,0.4,0.5,0.6,0.7,0.8,0.9,1.0]),\n",
    "        'subsample': trial.suggest_categorical('subsample', [0.4,0.5,0.6,0.7,0.8,0.9,1.0]),\n",
    "        'learning_rate': trial.suggest_float('learning_rate', 1e-5, 5e-2, log=True), #trial.suggest_categorical('learning_rate', [0.008,0.01,0.012,0.014,0.016,0.018, 0.02]),\n",
    "        'max_depth': trial.suggest_categorical('max_depth', [9,11,13,15,17,20,25,30,35,40,45,50]),\n",
    "        'min_child_samples': trial.suggest_categorical('min_child_samples', [9,11,13,15,17,20,25,30,35,40,45,50]),\n",
    "        'num_leaves': trial.suggest_int('num_leaves', 10, 40, step=2)\n",
    "    }\n",
    "\n",
    "    all_params = {\n",
    "        \"objective\": \"rmse\",\n",
    "        \"metric\": \"rmse\",\n",
    "        'random_state': 42,\n",
    "        \"n_estimators\" : 10000,\n",
    "        \"verbosity\": -1,\n",
    "        \"n_jobs\": -1,\n",
    "        # \"device_type\": 'cuda',\n",
    "        # \"gpu_use_dp\": True,\n",
    "        **params\n",
    "    }\n",
    "\n",
    "    model = lgb.LGBMRegressor(**all_params)\n",
    "\n",
    "    early_stopping_callback = lgb.early_stopping(50, first_metric_only=True, verbose=False)\n",
    "    \n",
    "    model.fit(train_x, train_y, eval_set=[(test_x, test_y)],  \n",
    "                callbacks=[early_stopping_callback],\n",
    "    )\n",
    "    \n",
    "    preds = model.predict(test_x)\n",
    "    \n",
    "    rmse = mean_squared_error(test_y, preds,squared=False)\n",
    "    \n",
    "    return rmse"
   ]
  },
  {
   "cell_type": "code",
   "execution_count": null,
   "metadata": {},
   "outputs": [
    {
     "name": "stderr",
     "output_type": "stream",
     "text": [
      "[I 2023-12-04 22:42:44,426] A new study created in memory with name: no-name-277e7e2c-5f76-42c5-b825-11c304a3ef71\n",
      "[I 2023-12-04 22:43:04,538] Trial 0 finished with value: 0.5835678813677481 and parameters: {'reg_lambda': 1.2416310682730105, 'reg_alpha': 0.9207298246650865, 'colsample_bytree': 0.7, 'colsample_bynode': 0.4, 'subsample': 1.0, 'learning_rate': 0.004329552883749802, 'max_depth': 40, 'min_child_samples': 50, 'num_leaves': 14}. Best is trial 0 with value: 0.5835678813677481.\n",
      "[I 2023-12-04 22:43:57,942] Trial 1 finished with value: 0.5827234682003812 and parameters: {'reg_lambda': 0.03435274262778796, 'reg_alpha': 2.4275459985516226, 'colsample_bytree': 0.5, 'colsample_bynode': 0.7, 'subsample': 1.0, 'learning_rate': 0.000952795712114569, 'max_depth': 13, 'min_child_samples': 15, 'num_leaves': 10}. Best is trial 1 with value: 0.5827234682003812.\n",
      "[I 2023-12-04 22:47:27,292] Trial 2 finished with value: 0.6074392976181612 and parameters: {'reg_lambda': 0.03254739626141539, 'reg_alpha': 0.2552941121562297, 'colsample_bytree': 1.0, 'colsample_bynode': 1.0, 'subsample': 0.6, 'learning_rate': 0.0002109362471663491, 'max_depth': 9, 'min_child_samples': 40, 'num_leaves': 14}. Best is trial 1 with value: 0.5827234682003812.\n",
      "[I 2023-12-04 22:47:42,164] Trial 3 finished with value: 0.5883176552849507 and parameters: {'reg_lambda': 0.46298278907517054, 'reg_alpha': 0.00020110193940164314, 'colsample_bytree': 0.6, 'colsample_bynode': 0.9, 'subsample': 0.5, 'learning_rate': 0.005359700116301596, 'max_depth': 30, 'min_child_samples': 35, 'num_leaves': 18}. Best is trial 1 with value: 0.5827234682003812.\n",
      "[I 2023-12-04 22:51:22,048] Trial 4 finished with value: 0.6650308540475457 and parameters: {'reg_lambda': 0.00019005161003289836, 'reg_alpha': 0.00938177875296858, 'colsample_bytree': 0.8, 'colsample_bynode': 0.5, 'subsample': 1.0, 'learning_rate': 0.00011732386812551898, 'max_depth': 9, 'min_child_samples': 40, 'num_leaves': 18}. Best is trial 1 with value: 0.5827234682003812.\n",
      "[I 2023-12-04 22:53:45,253] Trial 5 finished with value: 0.9310023400252256 and parameters: {'reg_lambda': 0.14935908165675713, 'reg_alpha': 0.004726013634822275, 'colsample_bytree': 0.4, 'colsample_bynode': 1.0, 'subsample': 0.8, 'learning_rate': 1.317025494372365e-05, 'max_depth': 35, 'min_child_samples': 11, 'num_leaves': 20}. Best is trial 1 with value: 0.5827234682003812.\n",
      "[I 2023-12-04 22:57:26,263] Trial 6 finished with value: 0.590264456646877 and parameters: {'reg_lambda': 0.009444660282695546, 'reg_alpha': 0.03922329612117209, 'colsample_bytree': 0.5, 'colsample_bynode': 0.5, 'subsample': 0.4, 'learning_rate': 0.0003814776968462532, 'max_depth': 40, 'min_child_samples': 20, 'num_leaves': 24}. Best is trial 1 with value: 0.5827234682003812.\n",
      "[I 2023-12-04 22:57:36,510] Trial 7 finished with value: 0.5936127568062453 and parameters: {'reg_lambda': 0.003108206403100799, 'reg_alpha': 0.00038337008834410293, 'colsample_bytree': 0.8, 'colsample_bynode': 0.7, 'subsample': 0.6, 'learning_rate': 0.029422231187341604, 'max_depth': 11, 'min_child_samples': 25, 'num_leaves': 28}. Best is trial 1 with value: 0.5827234682003812.\n",
      "[I 2023-12-04 22:57:43,155] Trial 8 finished with value: 0.5846143552885406 and parameters: {'reg_lambda': 0.0022329945312585535, 'reg_alpha': 0.09920333914138257, 'colsample_bytree': 0.4, 'colsample_bynode': 1.0, 'subsample': 0.5, 'learning_rate': 0.04955009063893061, 'max_depth': 25, 'min_child_samples': 13, 'num_leaves': 26}. Best is trial 1 with value: 0.5827234682003812.\n",
      "[I 2023-12-04 23:05:35,025] Trial 9 finished with value: 0.6441549981405265 and parameters: {'reg_lambda': 0.005252704516075625, 'reg_alpha': 0.00011992170040568888, 'colsample_bytree': 0.7, 'colsample_bynode': 0.9, 'subsample': 1.0, 'learning_rate': 0.00013652391563179848, 'max_depth': 45, 'min_child_samples': 15, 'num_leaves': 36}. Best is trial 1 with value: 0.5827234682003812.\n",
      "[I 2023-12-04 23:06:25,128] Trial 10 finished with value: 0.5924642204807433 and parameters: {'reg_lambda': 7.361791481296977, 'reg_alpha': 6.107202432664766, 'colsample_bytree': 0.3, 'colsample_bynode': 0.8, 'subsample': 0.7, 'learning_rate': 0.0013055894033172431, 'max_depth': 20, 'min_child_samples': 15, 'num_leaves': 40}. Best is trial 1 with value: 0.5827234682003812.\n",
      "[I 2023-12-04 23:06:48,478] Trial 11 finished with value: 0.5811958552433455 and parameters: {'reg_lambda': 1.41103808564837, 'reg_alpha': 2.8871091733695278, 'colsample_bytree': 0.5, 'colsample_bynode': 0.4, 'subsample': 1.0, 'learning_rate': 0.002592831220659435, 'max_depth': 13, 'min_child_samples': 50, 'num_leaves': 10}. Best is trial 11 with value: 0.5811958552433455.\n",
      "[I 2023-12-04 23:07:30,925] Trial 12 finished with value: 0.5850433177770573 and parameters: {'reg_lambda': 0.0923328899079407, 'reg_alpha': 5.981824321582432, 'colsample_bytree': 0.5, 'colsample_bynode': 0.4, 'subsample': 1.0, 'learning_rate': 0.0013579329734578905, 'max_depth': 13, 'min_child_samples': 17, 'num_leaves': 10}. Best is trial 11 with value: 0.5811958552433455.\n",
      "[I 2023-12-04 23:07:42,825] Trial 13 finished with value: 0.5839772671658574 and parameters: {'reg_lambda': 8.904617911126673, 'reg_alpha': 1.02728069562607, 'colsample_bytree': 0.5, 'colsample_bynode': 0.7, 'subsample': 0.9, 'learning_rate': 0.004233556460002518, 'max_depth': 13, 'min_child_samples': 45, 'num_leaves': 10}. Best is trial 11 with value: 0.5811958552433455.\n",
      "[I 2023-12-04 23:09:19,956] Trial 14 finished with value: 0.5877566741010883 and parameters: {'reg_lambda': 1.1111210061753836, 'reg_alpha': 8.558462000299386, 'colsample_bytree': 0.9, 'colsample_bynode': 0.3, 'subsample': 1.0, 'learning_rate': 0.0008150403147444299, 'max_depth': 13, 'min_child_samples': 50, 'num_leaves': 14}. Best is trial 11 with value: 0.5811958552433455.\n",
      "[I 2023-12-04 23:09:33,475] Trial 15 finished with value: 0.5869639144330239 and parameters: {'reg_lambda': 0.19598792369174464, 'reg_alpha': 1.180970567814678, 'colsample_bytree': 0.5, 'colsample_bynode': 0.6, 'subsample': 0.8, 'learning_rate': 0.011133453748325552, 'max_depth': 15, 'min_child_samples': 9, 'num_leaves': 32}. Best is trial 11 with value: 0.5811958552433455.\n",
      "[I 2023-12-04 23:09:55,127] Trial 16 finished with value: 0.5880105672227487 and parameters: {'reg_lambda': 0.03928542507388106, 'reg_alpha': 0.29754224759238673, 'colsample_bytree': 0.5, 'colsample_bynode': 0.4, 'subsample': 0.7, 'learning_rate': 0.0021681527732328194, 'max_depth': 50, 'min_child_samples': 15, 'num_leaves': 10}. Best is trial 11 with value: 0.5811958552433455.\n",
      "[I 2023-12-04 23:12:16,605] Trial 17 finished with value: 0.5867655521432654 and parameters: {'reg_lambda': 1.4395116700171664, 'reg_alpha': 2.039816668385526, 'colsample_bytree': 0.6, 'colsample_bynode': 0.7, 'subsample': 0.9, 'learning_rate': 0.0005624793818849396, 'max_depth': 17, 'min_child_samples': 30, 'num_leaves': 20}. Best is trial 11 with value: 0.5811958552433455.\n",
      "[I 2023-12-04 23:12:26,072] Trial 18 finished with value: 0.5811999881155803 and parameters: {'reg_lambda': 0.02041532102434513, 'reg_alpha': 0.3113614181735492, 'colsample_bytree': 1.0, 'colsample_bynode': 0.6, 'subsample': 0.4, 'learning_rate': 0.016336093091128424, 'max_depth': 13, 'min_child_samples': 50, 'num_leaves': 14}. Best is trial 11 with value: 0.5811958552433455.\n",
      "[I 2023-12-04 23:12:35,131] Trial 19 finished with value: 0.5825161208565807 and parameters: {'reg_lambda': 0.01343834180507995, 'reg_alpha': 0.3805402287133706, 'colsample_bytree': 1.0, 'colsample_bynode': 0.6, 'subsample': 0.4, 'learning_rate': 0.016105991428616784, 'max_depth': 13, 'min_child_samples': 50, 'num_leaves': 16}. Best is trial 11 with value: 0.5811958552433455.\n",
      "[I 2023-12-04 23:12:52,819] Trial 20 finished with value: 0.5843305916293363 and parameters: {'reg_lambda': 0.29014104901454335, 'reg_alpha': 0.14819953422753712, 'colsample_bytree': 1.0, 'colsample_bynode': 0.6, 'subsample': 0.4, 'learning_rate': 0.008525753576235598, 'max_depth': 25, 'min_child_samples': 50, 'num_leaves': 14}. Best is trial 11 with value: 0.5811958552433455.\n",
      "[I 2023-12-04 23:13:03,756] Trial 21 finished with value: 0.5846518337572815 and parameters: {'reg_lambda': 0.012981239345757288, 'reg_alpha': 0.4205787441335392, 'colsample_bytree': 1.0, 'colsample_bynode': 0.6, 'subsample': 0.4, 'learning_rate': 0.02030304392545953, 'max_depth': 13, 'min_child_samples': 50, 'num_leaves': 16}. Best is trial 11 with value: 0.5811958552433455.\n",
      "[I 2023-12-04 23:13:18,396] Trial 22 finished with value: 0.5861795882009087 and parameters: {'reg_lambda': 0.0815730814717082, 'reg_alpha': 0.566894734329984, 'colsample_bytree': 1.0, 'colsample_bynode': 0.6, 'subsample': 0.4, 'learning_rate': 0.015043601781913342, 'max_depth': 13, 'min_child_samples': 50, 'num_leaves': 22}. Best is trial 11 with value: 0.5811958552433455.\n",
      "[I 2023-12-04 23:13:25,717] Trial 23 finished with value: 0.5838955556472252 and parameters: {'reg_lambda': 0.014712956130959598, 'reg_alpha': 2.6095660608384668, 'colsample_bytree': 1.0, 'colsample_bynode': 0.6, 'subsample': 0.4, 'learning_rate': 0.02668756258680323, 'max_depth': 13, 'min_child_samples': 50, 'num_leaves': 12}. Best is trial 11 with value: 0.5811958552433455.\n",
      "[I 2023-12-04 23:13:41,073] Trial 24 finished with value: 0.5850356299492043 and parameters: {'reg_lambda': 0.0016521587793222046, 'reg_alpha': 0.09550502059558198, 'colsample_bytree': 0.9, 'colsample_bynode': 0.3, 'subsample': 0.4, 'learning_rate': 0.009224335842879254, 'max_depth': 11, 'min_child_samples': 50, 'num_leaves': 16}. Best is trial 11 with value: 0.5811958552433455.\n",
      "[I 2023-12-04 23:13:44,118] Trial 25 finished with value: 0.5832363237696699 and parameters: {'reg_lambda': 0.06067671588159976, 'reg_alpha': 0.5307949025325921, 'colsample_bytree': 0.3, 'colsample_bynode': 0.8, 'subsample': 0.4, 'learning_rate': 0.037197508767048686, 'max_depth': 50, 'min_child_samples': 45, 'num_leaves': 18}. Best is trial 11 with value: 0.5811958552433455.\n",
      "[I 2023-12-04 23:13:54,349] Trial 26 finished with value: 0.5812024850060609 and parameters: {'reg_lambda': 0.020394828021804666, 'reg_alpha': 3.228619261917459, 'colsample_bytree': 1.0, 'colsample_bynode': 0.4, 'subsample': 0.4, 'learning_rate': 0.01657462271887497, 'max_depth': 17, 'min_child_samples': 25, 'num_leaves': 12}. Best is trial 11 with value: 0.5811958552433455.\n",
      "[I 2023-12-04 23:14:41,426] Trial 27 finished with value: 0.5852814635341478 and parameters: {'reg_lambda': 0.13665526590325694, 'reg_alpha': 3.3611621845618425, 'colsample_bytree': 1.0, 'colsample_bynode': 0.4, 'subsample': 0.7, 'learning_rate': 0.002731979348251853, 'max_depth': 17, 'min_child_samples': 25, 'num_leaves': 12}. Best is trial 11 with value: 0.5811958552433455.\n",
      "[I 2023-12-04 23:15:05,569] Trial 28 finished with value: 0.5861050032591202 and parameters: {'reg_lambda': 0.5311611589631975, 'reg_alpha': 1.3942686533542916, 'colsample_bytree': 1.0, 'colsample_bynode': 0.4, 'subsample': 0.6, 'learning_rate': 0.00566495562610556, 'max_depth': 17, 'min_child_samples': 25, 'num_leaves': 12}. Best is trial 11 with value: 0.5811958552433455.\n",
      "[I 2023-12-04 23:15:13,469] Trial 29 finished with value: 0.5830466617979336 and parameters: {'reg_lambda': 0.02106085077685229, 'reg_alpha': 3.6568047974385425, 'colsample_bytree': 0.7, 'colsample_bynode': 0.4, 'subsample': 0.5, 'learning_rate': 0.020051990626261812, 'max_depth': 20, 'min_child_samples': 9, 'num_leaves': 12}. Best is trial 11 with value: 0.5811958552433455.\n",
      "[I 2023-12-04 23:15:44,081] Trial 30 finished with value: 0.589026019777648 and parameters: {'reg_lambda': 0.05635122861633317, 'reg_alpha': 0.911818960935431, 'colsample_bytree': 0.8, 'colsample_bynode': 0.4, 'subsample': 0.9, 'learning_rate': 0.008500853272505077, 'max_depth': 45, 'min_child_samples': 13, 'num_leaves': 30}. Best is trial 11 with value: 0.5811958552433455.\n",
      "[I 2023-12-04 23:15:55,954] Trial 31 finished with value: 0.5849988362494144 and parameters: {'reg_lambda': 0.008347694538780938, 'reg_alpha': 0.7963842989592262, 'colsample_bytree': 1.0, 'colsample_bynode': 0.6, 'subsample': 0.4, 'learning_rate': 0.01517265223762298, 'max_depth': 35, 'min_child_samples': 50, 'num_leaves': 16}. Best is trial 11 with value: 0.5811958552433455.\n",
      "[I 2023-12-04 23:16:00,496] Trial 32 finished with value: 0.5905928109234757 and parameters: {'reg_lambda': 0.019350250781453294, 'reg_alpha': 8.797567105021336, 'colsample_bytree': 1.0, 'colsample_bynode': 0.6, 'subsample': 0.4, 'learning_rate': 0.04819975878120488, 'max_depth': 13, 'min_child_samples': 17, 'num_leaves': 16}. Best is trial 11 with value: 0.5811958552433455.\n",
      "[I 2023-12-04 23:16:14,424] Trial 33 finished with value: 0.5819375045125567 and parameters: {'reg_lambda': 0.021814464565538396, 'reg_alpha': 2.238934820467161, 'colsample_bytree': 1.0, 'colsample_bynode': 0.4, 'subsample': 0.4, 'learning_rate': 0.01433619613643599, 'max_depth': 15, 'min_child_samples': 11, 'num_leaves': 14}. Best is trial 11 with value: 0.5811958552433455.\n",
      "[I 2023-12-04 23:16:42,197] Trial 34 finished with value: 0.5844982228439884 and parameters: {'reg_lambda': 0.02726199965931088, 'reg_alpha': 1.8368002420471023, 'colsample_bytree': 0.6, 'colsample_bynode': 0.4, 'subsample': 1.0, 'learning_rate': 0.004198188543718814, 'max_depth': 15, 'min_child_samples': 11, 'num_leaves': 14}. Best is trial 11 with value: 0.5811958552433455.\n",
      "[I 2023-12-04 23:16:50,295] Trial 35 finished with value: 0.5807048770316159 and parameters: {'reg_lambda': 0.03595214430189829, 'reg_alpha': 4.125347264733599, 'colsample_bytree': 1.0, 'colsample_bynode': 0.4, 'subsample': 0.4, 'learning_rate': 0.02738620148968536, 'max_depth': 15, 'min_child_samples': 11, 'num_leaves': 10}. Best is trial 35 with value: 0.5807048770316159.\n",
      "[I 2023-12-04 23:16:54,521] Trial 36 finished with value: 0.5795461498130402 and parameters: {'reg_lambda': 0.04134227042541208, 'reg_alpha': 4.646849464536385, 'colsample_bytree': 0.4, 'colsample_bynode': 0.4, 'subsample': 0.8, 'learning_rate': 0.028960047180468546, 'max_depth': 30, 'min_child_samples': 35, 'num_leaves': 10}. Best is trial 36 with value: 0.5795461498130402.\n",
      "[I 2023-12-04 23:16:57,429] Trial 37 finished with value: 0.5835323333338412 and parameters: {'reg_lambda': 0.05566059477936951, 'reg_alpha': 5.418889912552201, 'colsample_bytree': 0.4, 'colsample_bynode': 0.5, 'subsample': 0.8, 'learning_rate': 0.034682701430077637, 'max_depth': 30, 'min_child_samples': 35, 'num_leaves': 10}. Best is trial 36 with value: 0.5795461498130402.\n",
      "[I 2023-12-04 23:17:04,029] Trial 38 finished with value: 0.5859232812468214 and parameters: {'reg_lambda': 0.11615224650820018, 'reg_alpha': 1.4700637217729537, 'colsample_bytree': 0.4, 'colsample_bynode': 0.9, 'subsample': 0.8, 'learning_rate': 0.007084246497131821, 'max_depth': 30, 'min_child_samples': 35, 'num_leaves': 10}. Best is trial 36 with value: 0.5795461498130402.\n",
      "[I 2023-12-04 23:17:06,719] Trial 39 finished with value: 0.5892228437876417 and parameters: {'reg_lambda': 0.03725596950466487, 'reg_alpha': 5.361109383509771, 'colsample_bytree': 0.4, 'colsample_bynode': 1.0, 'subsample': 0.8, 'learning_rate': 0.036651369495780635, 'max_depth': 40, 'min_child_samples': 20, 'num_leaves': 20}. Best is trial 36 with value: 0.5795461498130402.\n",
      "[I 2023-12-04 23:17:10,154] Trial 40 finished with value: 0.5862406460393368 and parameters: {'reg_lambda': 0.001083050269876339, 'reg_alpha': 0.7200884184139176, 'colsample_bytree': 0.4, 'colsample_bynode': 0.4, 'subsample': 1.0, 'learning_rate': 0.024750488485369322, 'max_depth': 9, 'min_child_samples': 40, 'num_leaves': 12}. Best is trial 36 with value: 0.5795461498130402.\n",
      "[I 2023-12-04 23:17:19,113] Trial 41 finished with value: 0.587669488477989 and parameters: {'reg_lambda': 0.005783927058264785, 'reg_alpha': 3.210420185268066, 'colsample_bytree': 0.7, 'colsample_bynode': 0.4, 'subsample': 0.6, 'learning_rate': 0.012131439206664646, 'max_depth': 30, 'min_child_samples': 35, 'num_leaves': 12}. Best is trial 36 with value: 0.5795461498130402.\n",
      "[I 2023-12-04 23:17:22,582] Trial 42 finished with value: 0.5847363542749086 and parameters: {'reg_lambda': 0.04121193361367971, 'reg_alpha': 3.656691037734014, 'colsample_bytree': 0.3, 'colsample_bynode': 0.4, 'subsample': 0.8, 'learning_rate': 0.02147791396051283, 'max_depth': 17, 'min_child_samples': 11, 'num_leaves': 10}. Best is trial 36 with value: 0.5795461498130402.\n",
      "[I 2023-12-04 23:17:31,218] Trial 43 finished with value: 0.5865959290716805 and parameters: {'reg_lambda': 0.08281768053080718, 'reg_alpha': 8.47059741433821, 'colsample_bytree': 0.8, 'colsample_bynode': 0.4, 'subsample': 0.5, 'learning_rate': 0.02630114790467821, 'max_depth': 15, 'min_child_samples': 25, 'num_leaves': 14}. Best is trial 36 with value: 0.5795461498130402.\n",
      "[I 2023-12-04 23:17:33,740] Trial 44 finished with value: 0.5842393224942348 and parameters: {'reg_lambda': 0.006489204281665016, 'reg_alpha': 1.6398205720197365, 'colsample_bytree': 0.5, 'colsample_bynode': 0.8, 'subsample': 0.4, 'learning_rate': 0.049536462350626795, 'max_depth': 30, 'min_child_samples': 35, 'num_leaves': 10}. Best is trial 36 with value: 0.5795461498130402.\n",
      "[I 2023-12-04 23:18:10,488] Trial 45 finished with value: 0.5791783527360954 and parameters: {'reg_lambda': 0.02996158559973774, 'reg_alpha': 4.373992627966124, 'colsample_bytree': 0.9, 'colsample_bynode': 0.5, 'subsample': 1.0, 'learning_rate': 0.006919762945369008, 'max_depth': 40, 'min_child_samples': 11, 'num_leaves': 18}. Best is trial 45 with value: 0.5791783527360954.\n",
      "[I 2023-12-04 23:18:43,375] Trial 46 finished with value: 0.5840599138472857 and parameters: {'reg_lambda': 0.1847155138842319, 'reg_alpha': 9.38754876494421, 'colsample_bytree': 0.9, 'colsample_bynode': 0.5, 'subsample': 1.0, 'learning_rate': 0.006148510226109654, 'max_depth': 40, 'min_child_samples': 11, 'num_leaves': 18}. Best is trial 45 with value: 0.5791783527360954.\n",
      "[I 2023-12-04 23:19:02,144] Trial 47 finished with value: 0.5835822067595233 and parameters: {'reg_lambda': 0.009745261427933976, 'reg_alpha': 1.0660283383319833, 'colsample_bytree': 0.9, 'colsample_bynode': 0.5, 'subsample': 1.0, 'learning_rate': 0.009982351519245338, 'max_depth': 40, 'min_child_samples': 11, 'num_leaves': 24}. Best is trial 45 with value: 0.5791783527360954.\n",
      "[I 2023-12-04 23:19:42,314] Trial 48 finished with value: 0.5870325295463614 and parameters: {'reg_lambda': 0.03238889198720989, 'reg_alpha': 4.519412978060133, 'colsample_bytree': 0.9, 'colsample_bynode': 0.5, 'subsample': 1.0, 'learning_rate': 0.0032416125147859427, 'max_depth': 35, 'min_child_samples': 30, 'num_leaves': 22}. Best is trial 45 with value: 0.5791783527360954.\n",
      "[I 2023-12-04 23:19:58,145] Trial 49 finished with value: 0.5840748907866883 and parameters: {'reg_lambda': 0.003738802846276186, 'reg_alpha': 0.23603765109595712, 'colsample_bytree': 0.5, 'colsample_bynode': 0.9, 'subsample': 1.0, 'learning_rate': 0.005404604583770053, 'max_depth': 40, 'min_child_samples': 11, 'num_leaves': 18}. Best is trial 45 with value: 0.5791783527360954.\n",
      "[I 2023-12-04 23:20:34,646] Trial 50 finished with value: 0.5843443744322064 and parameters: {'reg_lambda': 0.22713729445213626, 'reg_alpha': 2.075802492825515, 'colsample_bytree': 0.6, 'colsample_bynode': 0.3, 'subsample': 0.8, 'learning_rate': 0.001989632967002269, 'max_depth': 9, 'min_child_samples': 40, 'num_leaves': 14}. Best is trial 45 with value: 0.5791783527360954.\n",
      "[I 2023-12-04 23:20:46,423] Trial 51 finished with value: 0.5813466881253834 and parameters: {'reg_lambda': 0.027112623248229273, 'reg_alpha': 4.964631137076366, 'colsample_bytree': 0.9, 'colsample_bynode': 0.4, 'subsample': 0.7, 'learning_rate': 0.010995390667099793, 'max_depth': 11, 'min_child_samples': 20, 'num_leaves': 12}. Best is trial 45 with value: 0.5791783527360954.\n",
      "[I 2023-12-04 23:20:53,253] Trial 52 finished with value: 0.5855871165765673 and parameters: {'reg_lambda': 0.014857801727410936, 'reg_alpha': 3.08379797708254, 'colsample_bytree': 1.0, 'colsample_bynode': 0.5, 'subsample': 1.0, 'learning_rate': 0.018111972130673146, 'max_depth': 25, 'min_child_samples': 25, 'num_leaves': 12}. Best is trial 45 with value: 0.5791783527360954.\n",
      "[I 2023-12-04 23:21:02,651] Trial 53 finished with value: 0.5797388413597733 and parameters: {'reg_lambda': 0.12330797343914497, 'reg_alpha': 6.263565501881786, 'colsample_bytree': 0.4, 'colsample_bynode': 1.0, 'subsample': 0.4, 'learning_rate': 0.007363711792749672, 'max_depth': 45, 'min_child_samples': 17, 'num_leaves': 10}. Best is trial 45 with value: 0.5791783527360954.\n",
      "[I 2023-12-04 23:21:14,557] Trial 54 finished with value: 0.5756523810136738 and parameters: {'reg_lambda': 0.11754755684314372, 'reg_alpha': 6.917573684124382, 'colsample_bytree': 0.4, 'colsample_bynode': 1.0, 'subsample': 0.9, 'learning_rate': 0.0072301212452969485, 'max_depth': 45, 'min_child_samples': 17, 'num_leaves': 10}. Best is trial 54 with value: 0.5756523810136738.\n",
      "[I 2023-12-04 23:21:27,565] Trial 55 finished with value: 0.5780745073209697 and parameters: {'reg_lambda': 0.11171946878425258, 'reg_alpha': 6.265187550667776, 'colsample_bytree': 0.4, 'colsample_bynode': 1.0, 'subsample': 0.9, 'learning_rate': 0.0042738388307777524, 'max_depth': 45, 'min_child_samples': 17, 'num_leaves': 10}. Best is trial 54 with value: 0.5756523810136738.\n",
      "[I 2023-12-04 23:21:44,034] Trial 56 finished with value: 0.5790524383165396 and parameters: {'reg_lambda': 0.1206375313413477, 'reg_alpha': 9.884632795026938, 'colsample_bytree': 0.4, 'colsample_bynode': 1.0, 'subsample': 0.9, 'learning_rate': 0.004174242977726576, 'max_depth': 45, 'min_child_samples': 17, 'num_leaves': 10}. Best is trial 54 with value: 0.5756523810136738.\n",
      "[I 2023-12-04 23:22:02,097] Trial 57 finished with value: 0.591513032627381 and parameters: {'reg_lambda': 0.11095403372599198, 'reg_alpha': 9.915331742993661, 'colsample_bytree': 0.4, 'colsample_bynode': 1.0, 'subsample': 0.9, 'learning_rate': 0.003946131519190714, 'max_depth': 45, 'min_child_samples': 17, 'num_leaves': 36}. Best is trial 54 with value: 0.5756523810136738.\n",
      "[I 2023-12-04 23:22:13,375] Trial 58 finished with value: 0.5785669612688241 and parameters: {'reg_lambda': 0.27182229722720264, 'reg_alpha': 6.842544451876049, 'colsample_bytree': 0.4, 'colsample_bynode': 1.0, 'subsample': 0.9, 'learning_rate': 0.00634522098673594, 'max_depth': 45, 'min_child_samples': 17, 'num_leaves': 10}. Best is trial 54 with value: 0.5756523810136738.\n",
      "[I 2023-12-04 23:22:27,058] Trial 59 finished with value: 0.5787462311888163 and parameters: {'reg_lambda': 0.27620501456866897, 'reg_alpha': 6.837815748411105, 'colsample_bytree': 0.4, 'colsample_bynode': 1.0, 'subsample': 0.9, 'learning_rate': 0.0047339532923821705, 'max_depth': 45, 'min_child_samples': 17, 'num_leaves': 10}. Best is trial 54 with value: 0.5756523810136738.\n",
      "[I 2023-12-04 23:22:59,852] Trial 60 finished with value: 0.5899177434071587 and parameters: {'reg_lambda': 0.36510898223427307, 'reg_alpha': 7.4138323590925665, 'colsample_bytree': 0.4, 'colsample_bynode': 1.0, 'subsample': 0.9, 'learning_rate': 0.001774589195273286, 'max_depth': 45, 'min_child_samples': 17, 'num_leaves': 26}. Best is trial 54 with value: 0.5756523810136738.\n",
      "[I 2023-12-04 23:23:14,020] Trial 61 finished with value: 0.5814889127745181 and parameters: {'reg_lambda': 0.1697008556257228, 'reg_alpha': 5.024131390918713, 'colsample_bytree': 0.4, 'colsample_bynode': 1.0, 'subsample': 0.9, 'learning_rate': 0.003551894109074722, 'max_depth': 45, 'min_child_samples': 17, 'num_leaves': 10}. Best is trial 54 with value: 0.5756523810136738.\n",
      "[I 2023-12-04 23:23:27,786] Trial 62 finished with value: 0.5840806952730537 and parameters: {'reg_lambda': 0.07986316599169074, 'reg_alpha': 6.928132236529794, 'colsample_bytree': 0.4, 'colsample_bynode': 1.0, 'subsample': 0.9, 'learning_rate': 0.0030534768627410573, 'max_depth': 45, 'min_child_samples': 17, 'num_leaves': 12}. Best is trial 54 with value: 0.5756523810136738.\n",
      "[I 2023-12-04 23:23:37,316] Trial 63 finished with value: 0.5822295231871903 and parameters: {'reg_lambda': 0.24834064370052814, 'reg_alpha': 2.440391059714457, 'colsample_bytree': 0.4, 'colsample_bynode': 1.0, 'subsample': 0.9, 'learning_rate': 0.004847037010339653, 'max_depth': 45, 'min_child_samples': 17, 'num_leaves': 10}. Best is trial 54 with value: 0.5756523810136738.\n",
      "[I 2023-12-04 23:23:49,708] Trial 64 finished with value: 0.5789945328388586 and parameters: {'reg_lambda': 0.4379666981664633, 'reg_alpha': 9.655141830931715, 'colsample_bytree': 0.4, 'colsample_bynode': 1.0, 'subsample': 0.9, 'learning_rate': 0.007438817809091666, 'max_depth': 45, 'min_child_samples': 17, 'num_leaves': 14}. Best is trial 54 with value: 0.5756523810136738.\n",
      "[I 2023-12-04 23:24:01,122] Trial 65 finished with value: 0.5817807190177193 and parameters: {'reg_lambda': 0.6042238554290417, 'reg_alpha': 9.90319624021663, 'colsample_bytree': 0.4, 'colsample_bynode': 1.0, 'subsample': 0.9, 'learning_rate': 0.006571293029999021, 'max_depth': 45, 'min_child_samples': 17, 'num_leaves': 14}. Best is trial 54 with value: 0.5756523810136738.\n",
      "[I 2023-12-04 23:24:11,272] Trial 66 finished with value: 0.5829256660669245 and parameters: {'reg_lambda': 0.28769432053704325, 'reg_alpha': 6.378305158642177, 'colsample_bytree': 0.4, 'colsample_bynode': 1.0, 'subsample': 0.9, 'learning_rate': 0.007678732910109625, 'max_depth': 45, 'min_child_samples': 17, 'num_leaves': 16}. Best is trial 54 with value: 0.5756523810136738.\n",
      "[I 2023-12-04 23:24:22,823] Trial 67 finished with value: 0.58154045145648 and parameters: {'reg_lambda': 0.16317119525008833, 'reg_alpha': 2.4388471035797097, 'colsample_bytree': 0.4, 'colsample_bynode': 1.0, 'subsample': 0.9, 'learning_rate': 0.00502377575891237, 'max_depth': 45, 'min_child_samples': 17, 'num_leaves': 12}. Best is trial 54 with value: 0.5756523810136738.\n",
      "[I 2023-12-04 23:24:43,590] Trial 68 finished with value: 0.5865442741820587 and parameters: {'reg_lambda': 0.6470842247084047, 'reg_alpha': 6.8979003765521805, 'colsample_bytree': 0.4, 'colsample_bynode': 1.0, 'subsample': 0.9, 'learning_rate': 0.002361940542219248, 'max_depth': 45, 'min_child_samples': 17, 'num_leaves': 16}. Best is trial 54 with value: 0.5756523810136738.\n",
      "[I 2023-12-04 23:25:01,973] Trial 69 finished with value: 0.5828030348642114 and parameters: {'reg_lambda': 0.36853394873325374, 'reg_alpha': 9.868367076590568, 'colsample_bytree': 0.4, 'colsample_bynode': 0.7, 'subsample': 0.9, 'learning_rate': 0.0041630354536241615, 'max_depth': 45, 'min_child_samples': 17, 'num_leaves': 12}. Best is trial 54 with value: 0.5756523810136738.\n",
      "[I 2023-12-04 23:25:33,108] Trial 70 finished with value: 0.5840866360003075 and parameters: {'reg_lambda': 0.936504681570998, 'reg_alpha': 1.351360785157173, 'colsample_bytree': 0.4, 'colsample_bynode': 1.0, 'subsample': 0.9, 'learning_rate': 0.0015740424764256787, 'max_depth': 20, 'min_child_samples': 15, 'num_leaves': 14}. Best is trial 54 with value: 0.5756523810136738.\n",
      "[I 2023-12-04 23:25:38,012] Trial 71 finished with value: 0.5812442485158822 and parameters: {'reg_lambda': 0.20342610868573605, 'reg_alpha': 4.5154797309741035, 'colsample_bytree': 0.4, 'colsample_bynode': 1.0, 'subsample': 0.9, 'learning_rate': 0.009468165887263, 'max_depth': 45, 'min_child_samples': 45, 'num_leaves': 10}. Best is trial 54 with value: 0.5756523810136738.\n",
      "[I 2023-12-04 23:25:43,117] Trial 72 finished with value: 0.58153428304971 and parameters: {'reg_lambda': 0.05918101321437654, 'reg_alpha': 3.9845970982319407, 'colsample_bytree': 0.4, 'colsample_bynode': 1.0, 'subsample': 0.9, 'learning_rate': 0.011858355989878727, 'max_depth': 50, 'min_child_samples': 13, 'num_leaves': 10}. Best is trial 54 with value: 0.5756523810136738.\n",
      "[I 2023-12-04 23:25:57,180] Trial 73 finished with value: 0.5821836331611593 and parameters: {'reg_lambda': 0.11477665028138777, 'reg_alpha': 6.2168717766185155, 'colsample_bytree': 0.4, 'colsample_bynode': 1.0, 'subsample': 0.9, 'learning_rate': 0.0028801976031405606, 'max_depth': 45, 'min_child_samples': 9, 'num_leaves': 10}. Best is trial 54 with value: 0.5756523810136738.\n",
      "[I 2023-12-04 23:26:04,857] Trial 74 finished with value: 0.5836158366330275 and parameters: {'reg_lambda': 0.3924299007377301, 'reg_alpha': 2.869780668652922, 'colsample_bytree': 0.3, 'colsample_bynode': 1.0, 'subsample': 0.9, 'learning_rate': 0.005348005486039584, 'max_depth': 45, 'min_child_samples': 17, 'num_leaves': 12}. Best is trial 54 with value: 0.5756523810136738.\n",
      "[I 2023-12-04 23:26:48,833] Trial 75 finished with value: 0.5857112949020133 and parameters: {'reg_lambda': 0.16036223653282594, 'reg_alpha': 1.8197888158462179, 'colsample_bytree': 0.4, 'colsample_bynode': 0.8, 'subsample': 0.6, 'learning_rate': 0.0010536785394581352, 'max_depth': 30, 'min_child_samples': 17, 'num_leaves': 14}. Best is trial 54 with value: 0.5756523810136738.\n",
      "[I 2023-12-04 23:26:57,896] Trial 76 finished with value: 0.582776871667643 and parameters: {'reg_lambda': 0.08225801089630871, 'reg_alpha': 4.1490109619002995, 'colsample_bytree': 0.7, 'colsample_bynode': 1.0, 'subsample': 0.9, 'learning_rate': 0.00804779423184157, 'max_depth': 45, 'min_child_samples': 30, 'num_leaves': 10}. Best is trial 54 with value: 0.5756523810136738.\n",
      "[I 2023-12-04 23:27:09,068] Trial 77 finished with value: 0.5808009546194965 and parameters: {'reg_lambda': 0.2656489749688007, 'reg_alpha': 6.6612481222239115, 'colsample_bytree': 0.8, 'colsample_bynode': 0.3, 'subsample': 0.5, 'learning_rate': 0.01339701935047653, 'max_depth': 25, 'min_child_samples': 17, 'num_leaves': 12}. Best is trial 54 with value: 0.5756523810136738.\n",
      "[I 2023-12-04 23:27:28,703] Trial 78 finished with value: 0.5824702853508786 and parameters: {'reg_lambda': 0.04687290793121782, 'reg_alpha': 2.729472493169855, 'colsample_bytree': 0.4, 'colsample_bynode': 0.7, 'subsample': 0.9, 'learning_rate': 0.0022810212498640616, 'max_depth': 11, 'min_child_samples': 35, 'num_leaves': 10}. Best is trial 54 with value: 0.5756523810136738.\n",
      "[I 2023-12-04 23:27:36,183] Trial 79 finished with value: 0.5874781040167637 and parameters: {'reg_lambda': 0.07299791699824218, 'reg_alpha': 4.811606222764343, 'colsample_bytree': 0.4, 'colsample_bynode': 1.0, 'subsample': 0.8, 'learning_rate': 0.006344255837011607, 'max_depth': 40, 'min_child_samples': 17, 'num_leaves': 14}. Best is trial 54 with value: 0.5756523810136738.\n",
      "[I 2023-12-04 23:28:07,159] Trial 80 finished with value: 0.5865623057945685 and parameters: {'reg_lambda': 0.0955787473243217, 'reg_alpha': 7.775755886495584, 'colsample_bytree': 0.9, 'colsample_bynode': 0.9, 'subsample': 0.7, 'learning_rate': 0.0037357567800825743, 'max_depth': 45, 'min_child_samples': 17, 'num_leaves': 22}. Best is trial 54 with value: 0.5756523810136738.\n",
      "[I 2023-12-04 23:28:15,093] Trial 81 finished with value: 0.5785617455834942 and parameters: {'reg_lambda': 0.15641038390056294, 'reg_alpha': 6.037284866200325, 'colsample_bytree': 0.4, 'colsample_bynode': 1.0, 'subsample': 0.9, 'learning_rate': 0.006981228302678176, 'max_depth': 45, 'min_child_samples': 17, 'num_leaves': 10}. Best is trial 54 with value: 0.5756523810136738.\n",
      "[I 2023-12-04 23:28:20,095] Trial 82 finished with value: 0.5819757760175971 and parameters: {'reg_lambda': 0.1338814759053742, 'reg_alpha': 3.4517404173738537, 'colsample_bytree': 0.4, 'colsample_bynode': 1.0, 'subsample': 0.9, 'learning_rate': 0.00962712963363794, 'max_depth': 45, 'min_child_samples': 17, 'num_leaves': 10}. Best is trial 54 with value: 0.5756523810136738.\n",
      "[I 2023-12-04 23:28:33,136] Trial 83 finished with value: 0.5800053567068238 and parameters: {'reg_lambda': 0.049996307705400214, 'reg_alpha': 5.26233158402643, 'colsample_bytree': 0.4, 'colsample_bynode': 1.0, 'subsample': 0.9, 'learning_rate': 0.004687184594212707, 'max_depth': 45, 'min_child_samples': 17, 'num_leaves': 12}. Best is trial 54 with value: 0.5756523810136738.\n",
      "[I 2023-12-04 23:28:39,682] Trial 84 finished with value: 0.5808635309682676 and parameters: {'reg_lambda': 0.4524819766908718, 'reg_alpha': 7.286984904332561, 'colsample_bytree': 0.6, 'colsample_bynode': 1.0, 'subsample': 0.9, 'learning_rate': 0.012987446748946726, 'max_depth': 35, 'min_child_samples': 15, 'num_leaves': 10}. Best is trial 54 with value: 0.5756523810136738.\n",
      "[I 2023-12-04 23:28:47,843] Trial 85 finished with value: 0.583103263912829 and parameters: {'reg_lambda': 0.2140844496119809, 'reg_alpha': 1.9851810226886606, 'colsample_bytree': 0.4, 'colsample_bynode': 0.5, 'subsample': 0.9, 'learning_rate': 0.006475742709183286, 'max_depth': 20, 'min_child_samples': 45, 'num_leaves': 12}. Best is trial 54 with value: 0.5756523810136738.\n",
      "[I 2023-12-04 23:28:54,604] Trial 86 finished with value: 0.5770431534891536 and parameters: {'reg_lambda': 0.3099919021481454, 'reg_alpha': 3.7971613872528978, 'colsample_bytree': 0.4, 'colsample_bynode': 1.0, 'subsample': 0.9, 'learning_rate': 0.008737246706322836, 'max_depth': 30, 'min_child_samples': 13, 'num_leaves': 10}. Best is trial 54 with value: 0.5756523810136738.\n",
      "[I 2023-12-04 23:29:03,124] Trial 87 finished with value: 0.5828283852519633 and parameters: {'reg_lambda': 0.25864919150934224, 'reg_alpha': 1.1932842846408007, 'colsample_bytree': 0.4, 'colsample_bynode': 1.0, 'subsample': 0.9, 'learning_rate': 0.00781861596250588, 'max_depth': 50, 'min_child_samples': 13, 'num_leaves': 12}. Best is trial 54 with value: 0.5756523810136738.\n",
      "[I 2023-12-04 23:29:43,849] Trial 88 finished with value: 0.5798810137582054 and parameters: {'reg_lambda': 0.3035569107666488, 'reg_alpha': 9.849064528660953, 'colsample_bytree': 0.9, 'colsample_bynode': 1.0, 'subsample': 0.9, 'learning_rate': 0.003146162670651923, 'max_depth': 9, 'min_child_samples': 13, 'num_leaves': 10}. Best is trial 54 with value: 0.5756523810136738.\n",
      "[I 2023-12-04 23:29:54,041] Trial 89 finished with value: 0.5800668147881147 and parameters: {'reg_lambda': 0.14652583374133282, 'reg_alpha': 3.611147140450402, 'colsample_bytree': 0.3, 'colsample_bynode': 1.0, 'subsample': 0.9, 'learning_rate': 0.005468564641161388, 'max_depth': 45, 'min_child_samples': 13, 'num_leaves': 14}. Best is trial 54 with value: 0.5756523810136738.\n",
      "[I 2023-12-04 23:30:03,338] Trial 90 finished with value: 0.5864855965270817 and parameters: {'reg_lambda': 0.6015612727530076, 'reg_alpha': 2.628040827674448, 'colsample_bytree': 0.7, 'colsample_bynode': 1.0, 'subsample': 0.9, 'learning_rate': 0.010939280419846953, 'max_depth': 40, 'min_child_samples': 40, 'num_leaves': 20}. Best is trial 54 with value: 0.5756523810136738.\n",
      "[I 2023-12-04 23:30:15,379] Trial 91 finished with value: 0.5792666752078249 and parameters: {'reg_lambda': 0.10310560559889517, 'reg_alpha': 5.66277038610874, 'colsample_bytree': 0.4, 'colsample_bynode': 1.0, 'subsample': 0.8, 'learning_rate': 0.004237758891617051, 'max_depth': 30, 'min_child_samples': 35, 'num_leaves': 10}. Best is trial 54 with value: 0.5756523810136738.\n",
      "[I 2023-12-04 23:30:27,460] Trial 92 finished with value: 0.5805648346145992 and parameters: {'reg_lambda': 0.18103928270357988, 'reg_alpha': 5.655122184219021, 'colsample_bytree': 0.4, 'colsample_bynode': 1.0, 'subsample': 0.6, 'learning_rate': 0.004555800292184015, 'max_depth': 30, 'min_child_samples': 20, 'num_leaves': 10}. Best is trial 54 with value: 0.5756523810136738.\n",
      "[I 2023-12-04 23:30:44,045] Trial 93 finished with value: 0.5797112315373697 and parameters: {'reg_lambda': 0.10000227592810686, 'reg_alpha': 4.056730351183236, 'colsample_bytree': 0.4, 'colsample_bynode': 1.0, 'subsample': 0.9, 'learning_rate': 0.00361858726012655, 'max_depth': 30, 'min_child_samples': 9, 'num_leaves': 12}. Best is trial 54 with value: 0.5756523810136738.\n",
      "[I 2023-12-04 23:30:53,691] Trial 94 finished with value: 0.5776121471864106 and parameters: {'reg_lambda': 0.06731086182295076, 'reg_alpha': 8.075667537963575, 'colsample_bytree': 0.4, 'colsample_bynode': 1.0, 'subsample': 0.8, 'learning_rate': 0.009210353387291002, 'max_depth': 30, 'min_child_samples': 17, 'num_leaves': 12}. Best is trial 54 with value: 0.5756523810136738.\n",
      "[I 2023-12-04 23:31:02,521] Trial 95 finished with value: 0.5825923795230868 and parameters: {'reg_lambda': 0.0625266901361336, 'reg_alpha': 7.6852778865210984, 'colsample_bytree': 0.4, 'colsample_bynode': 0.5, 'subsample': 0.5, 'learning_rate': 0.008963326150556453, 'max_depth': 45, 'min_child_samples': 17, 'num_leaves': 12}. Best is trial 54 with value: 0.5756523810136738.\n",
      "[I 2023-12-04 23:31:25,026] Trial 96 finished with value: 0.5801469828815814 and parameters: {'reg_lambda': 0.12793888332812356, 'reg_alpha': 7.9039341755942045, 'colsample_bytree': 0.8, 'colsample_bynode': 0.8, 'subsample': 0.9, 'learning_rate': 0.006139427977964082, 'max_depth': 45, 'min_child_samples': 17, 'num_leaves': 12}. Best is trial 54 with value: 0.5756523810136738.\n",
      "[I 2023-12-04 23:31:29,680] Trial 97 finished with value: 0.5827489589108817 and parameters: {'reg_lambda': 0.07092072152125972, 'reg_alpha': 3.2221309913583625, 'colsample_bytree': 0.4, 'colsample_bynode': 1.0, 'subsample': 0.7, 'learning_rate': 0.015220783723052085, 'max_depth': 30, 'min_child_samples': 17, 'num_leaves': 14}. Best is trial 54 with value: 0.5756523810136738.\n",
      "[I 2023-12-04 23:31:38,973] Trial 98 finished with value: 0.5816852726044698 and parameters: {'reg_lambda': 0.21845856813352674, 'reg_alpha': 8.26814140864633, 'colsample_bytree': 0.4, 'colsample_bynode': 0.3, 'subsample': 0.9, 'learning_rate': 0.007757338730183159, 'max_depth': 45, 'min_child_samples': 17, 'num_leaves': 10}. Best is trial 54 with value: 0.5756523810136738.\n",
      "[I 2023-12-04 23:31:47,124] Trial 99 finished with value: 0.585791201394394 and parameters: {'reg_lambda': 0.43083399979793774, 'reg_alpha': 5.352888843338361, 'colsample_bytree': 0.9, 'colsample_bynode': 1.0, 'subsample': 1.0, 'learning_rate': 0.01146850686591846, 'max_depth': 40, 'min_child_samples': 17, 'num_leaves': 12}. Best is trial 54 with value: 0.5756523810136738.\n",
      "[I 2023-12-04 23:32:12,835] Trial 100 finished with value: 0.5808182609814622 and parameters: {'reg_lambda': 0.31172993665201315, 'reg_alpha': 1.7001799726131466, 'colsample_bytree': 0.6, 'colsample_bynode': 1.0, 'subsample': 0.9, 'learning_rate': 0.002508714379153999, 'max_depth': 17, 'min_child_samples': 11, 'num_leaves': 10}. Best is trial 54 with value: 0.5756523810136738.\n",
      "[I 2023-12-04 23:32:23,833] Trial 101 finished with value: 0.5808525865349413 and parameters: {'reg_lambda': 0.09718559294253434, 'reg_alpha': 6.146523583069467, 'colsample_bytree': 0.4, 'colsample_bynode': 1.0, 'subsample': 0.8, 'learning_rate': 0.004165152594123931, 'max_depth': 30, 'min_child_samples': 35, 'num_leaves': 10}. Best is trial 54 with value: 0.5756523810136738.\n",
      "[I 2023-12-04 23:32:31,823] Trial 102 finished with value: 0.5797311830527533 and parameters: {'reg_lambda': 0.16020075411406307, 'reg_alpha': 4.45472022964331, 'colsample_bytree': 0.4, 'colsample_bynode': 1.0, 'subsample': 0.8, 'learning_rate': 0.007094250874035491, 'max_depth': 30, 'min_child_samples': 30, 'num_leaves': 10}. Best is trial 54 with value: 0.5756523810136738.\n",
      "[I 2023-12-04 23:32:38,439] Trial 103 finished with value: 0.5850292827241714 and parameters: {'reg_lambda': 0.1080283660620933, 'reg_alpha': 9.801258375540359, 'colsample_bytree': 0.4, 'colsample_bynode': 1.0, 'subsample': 0.8, 'learning_rate': 0.005747382656227416, 'max_depth': 30, 'min_child_samples': 17, 'num_leaves': 10}. Best is trial 54 with value: 0.5756523810136738.\n",
      "[I 2023-12-04 23:32:45,504] Trial 104 finished with value: 0.5806773690837207 and parameters: {'reg_lambda': 0.20300159122107878, 'reg_alpha': 5.45761846425589, 'colsample_bytree': 0.4, 'colsample_bynode': 1.0, 'subsample': 0.8, 'learning_rate': 0.009163411834883648, 'max_depth': 30, 'min_child_samples': 13, 'num_leaves': 12}. Best is trial 54 with value: 0.5756523810136738.\n",
      "[I 2023-12-04 23:32:58,991] Trial 105 finished with value: 0.5840275478726703 and parameters: {'reg_lambda': 0.0676533491376954, 'reg_alpha': 2.2205765918291696, 'colsample_bytree': 0.5, 'colsample_bynode': 0.7, 'subsample': 0.8, 'learning_rate': 0.004701117271064882, 'max_depth': 45, 'min_child_samples': 17, 'num_leaves': 10}. Best is trial 54 with value: 0.5756523810136738.\n",
      "[I 2023-12-04 23:33:18,677] Trial 106 finished with value: 0.5879445492703407 and parameters: {'reg_lambda': 0.14941922134489607, 'reg_alpha': 7.419152903515525, 'colsample_bytree': 0.4, 'colsample_bynode': 1.0, 'subsample': 0.9, 'learning_rate': 0.0034843149054038223, 'max_depth': 25, 'min_child_samples': 17, 'num_leaves': 30}. Best is trial 54 with value: 0.5756523810136738.\n",
      "[I 2023-12-04 23:33:27,896] Trial 107 finished with value: 0.5811509084502346 and parameters: {'reg_lambda': 0.05035155776800441, 'reg_alpha': 3.460957662628858, 'colsample_bytree': 0.4, 'colsample_bynode': 0.9, 'subsample': 0.9, 'learning_rate': 0.006917678182038659, 'max_depth': 11, 'min_child_samples': 17, 'num_leaves': 12}. Best is trial 54 with value: 0.5756523810136738.\n",
      "[I 2023-12-04 23:33:37,316] Trial 108 finished with value: 0.5822250989825327 and parameters: {'reg_lambda': 0.33446500906560106, 'reg_alpha': 5.821083563734627, 'colsample_bytree': 0.4, 'colsample_bynode': 1.0, 'subsample': 1.0, 'learning_rate': 0.010262753468360888, 'max_depth': 35, 'min_child_samples': 11, 'num_leaves': 18}. Best is trial 54 with value: 0.5756523810136738.\n",
      "[I 2023-12-04 23:34:06,356] Trial 109 finished with value: 0.5841504249976505 and parameters: {'reg_lambda': 0.49492130964422365, 'reg_alpha': 3.9913719628426834, 'colsample_bytree': 0.4, 'colsample_bynode': 1.0, 'subsample': 0.9, 'learning_rate': 0.002747220295479833, 'max_depth': 45, 'min_child_samples': 35, 'num_leaves': 36}. Best is trial 54 with value: 0.5756523810136738.\n",
      "[I 2023-12-04 23:34:20,501] Trial 110 finished with value: 0.5841051171280645 and parameters: {'reg_lambda': 0.08633459302291933, 'reg_alpha': 2.957031912353467, 'colsample_bytree': 0.4, 'colsample_bynode': 0.5, 'subsample': 0.8, 'learning_rate': 0.005402944465982599, 'max_depth': 15, 'min_child_samples': 20, 'num_leaves': 16}. Best is trial 54 with value: 0.5756523810136738.\n",
      "[I 2023-12-04 23:34:23,912] Trial 111 finished with value: 0.580863703390596 and parameters: {'reg_lambda': 0.03139082354159504, 'reg_alpha': 4.643731941634816, 'colsample_bytree': 0.4, 'colsample_bynode': 1.0, 'subsample': 0.8, 'learning_rate': 0.017248932155210738, 'max_depth': 30, 'min_child_samples': 35, 'num_leaves': 10}. Best is trial 54 with value: 0.5756523810136738.\n",
      "[I 2023-12-04 23:34:29,887] Trial 112 finished with value: 0.5847604678158403 and parameters: {'reg_lambda': 0.04231357467652184, 'reg_alpha': 6.733769818263872, 'colsample_bytree': 0.4, 'colsample_bynode': 1.0, 'subsample': 0.8, 'learning_rate': 0.008933330809200094, 'max_depth': 30, 'min_child_samples': 35, 'num_leaves': 10}. Best is trial 54 with value: 0.5756523810136738.\n",
      "[I 2023-12-04 23:34:48,761] Trial 113 finished with value: 0.5852476007625358 and parameters: {'reg_lambda': 0.12821391021325076, 'reg_alpha': 8.319595752609677, 'colsample_bytree': 0.4, 'colsample_bynode': 0.6, 'subsample': 0.8, 'learning_rate': 0.00428810212167631, 'max_depth': 30, 'min_child_samples': 35, 'num_leaves': 40}. Best is trial 54 with value: 0.5756523810136738.\n",
      "[I 2023-12-04 23:34:54,314] Trial 114 finished with value: 0.5807428343021527 and parameters: {'reg_lambda': 0.24120303538419038, 'reg_alpha': 4.854592894981443, 'colsample_bytree': 0.9, 'colsample_bynode': 0.5, 'subsample': 0.9, 'learning_rate': 0.02295089558969439, 'max_depth': 45, 'min_child_samples': 40, 'num_leaves': 10}. Best is trial 54 with value: 0.5756523810136738.\n",
      "[I 2023-12-04 23:34:57,904] Trial 115 finished with value: 0.5820195749096697 and parameters: {'reg_lambda': 0.06498150550449232, 'reg_alpha': 2.5082829827795625, 'colsample_bytree': 0.4, 'colsample_bynode': 1.0, 'subsample': 0.8, 'learning_rate': 0.018897023243677574, 'max_depth': 30, 'min_child_samples': 17, 'num_leaves': 12}. Best is trial 54 with value: 0.5756523810136738.\n",
      "[I 2023-12-04 23:35:03,221] Trial 116 finished with value: 0.5841541801135013 and parameters: {'reg_lambda': 0.08259247513613743, 'reg_alpha': 9.812224114382966, 'colsample_bytree': 0.4, 'colsample_bynode': 0.8, 'subsample': 0.9, 'learning_rate': 0.01203900564367759, 'max_depth': 9, 'min_child_samples': 45, 'num_leaves': 10}. Best is trial 54 with value: 0.5756523810136738.\n",
      "[I 2023-12-04 23:35:13,230] Trial 117 finished with value: 0.5813202087833063 and parameters: {'reg_lambda': 0.03982208835921337, 'reg_alpha': 6.180128021318406, 'colsample_bytree': 0.3, 'colsample_bynode': 1.0, 'subsample': 0.5, 'learning_rate': 0.006768622382654824, 'max_depth': 20, 'min_child_samples': 15, 'num_leaves': 12}. Best is trial 54 with value: 0.5756523810136738.\n",
      "[I 2023-12-04 23:35:17,202] Trial 118 finished with value: 0.5843153965409611 and parameters: {'reg_lambda': 0.18082323157007782, 'reg_alpha': 3.928729648651956, 'colsample_bytree': 0.4, 'colsample_bynode': 0.3, 'subsample': 0.6, 'learning_rate': 0.014313156560121752, 'max_depth': 45, 'min_child_samples': 25, 'num_leaves': 10}. Best is trial 54 with value: 0.5756523810136738.\n",
      "[I 2023-12-04 23:35:32,950] Trial 119 finished with value: 0.5849058086658907 and parameters: {'reg_lambda': 0.05490461641004309, 'reg_alpha': 7.32931040050617, 'colsample_bytree': 0.7, 'colsample_bynode': 0.4, 'subsample': 0.9, 'learning_rate': 0.005023003882337947, 'max_depth': 50, 'min_child_samples': 17, 'num_leaves': 14}. Best is trial 54 with value: 0.5756523810136738.\n",
      "[I 2023-12-04 23:35:35,464] Trial 120 finished with value: 0.5848031311795886 and parameters: {'reg_lambda': 0.11347619504609391, 'reg_alpha': 2.992502762317659, 'colsample_bytree': 0.4, 'colsample_bynode': 1.0, 'subsample': 1.0, 'learning_rate': 0.020546532147999473, 'max_depth': 40, 'min_child_samples': 35, 'num_leaves': 12}. Best is trial 54 with value: 0.5756523810136738.\n",
      "[I 2023-12-04 23:35:51,434] Trial 121 finished with value: 0.5791390445484814 and parameters: {'reg_lambda': 0.08726023152906144, 'reg_alpha': 4.324970683359243, 'colsample_bytree': 0.4, 'colsample_bynode': 1.0, 'subsample': 0.9, 'learning_rate': 0.0032264365872798646, 'max_depth': 30, 'min_child_samples': 9, 'num_leaves': 12}. Best is trial 54 with value: 0.5756523810136738.\n",
      "[I 2023-12-04 23:36:03,901] Trial 122 finished with value: 0.5811160663039385 and parameters: {'reg_lambda': 0.09567851473277332, 'reg_alpha': 5.024535642098652, 'colsample_bytree': 0.4, 'colsample_bynode': 1.0, 'subsample': 0.9, 'learning_rate': 0.0037794953917340184, 'max_depth': 30, 'min_child_samples': 9, 'num_leaves': 10}. Best is trial 54 with value: 0.5756523810136738.\n",
      "[I 2023-12-04 23:36:16,816] Trial 123 finished with value: 0.5784967496913567 and parameters: {'reg_lambda': 0.26713833211235094, 'reg_alpha': 6.357192149601555, 'colsample_bytree': 0.4, 'colsample_bynode': 1.0, 'subsample': 0.9, 'learning_rate': 0.005881050541384292, 'max_depth': 30, 'min_child_samples': 9, 'num_leaves': 12}. Best is trial 54 with value: 0.5756523810136738.\n",
      "[I 2023-12-04 23:36:30,947] Trial 124 finished with value: 0.5759637797119515 and parameters: {'reg_lambda': 0.27648840065428354, 'reg_alpha': 9.963698546499439, 'colsample_bytree': 0.4, 'colsample_bynode': 1.0, 'subsample': 0.9, 'learning_rate': 0.005969223580287785, 'max_depth': 30, 'min_child_samples': 9, 'num_leaves': 12}. Best is trial 54 with value: 0.5756523810136738.\n",
      "[I 2023-12-04 23:36:48,522] Trial 125 finished with value: 0.5767280380871603 and parameters: {'reg_lambda': 0.34235371184652924, 'reg_alpha': 8.465590209380267, 'colsample_bytree': 0.8, 'colsample_bynode': 1.0, 'subsample': 0.9, 'learning_rate': 0.008223242974959175, 'max_depth': 13, 'min_child_samples': 9, 'num_leaves': 14}. Best is trial 54 with value: 0.5756523810136738.\n",
      "[I 2023-12-04 23:37:04,157] Trial 126 finished with value: 0.5797100261825998 and parameters: {'reg_lambda': 0.3511709345472081, 'reg_alpha': 8.626216287930584, 'colsample_bytree': 0.8, 'colsample_bynode': 1.0, 'subsample': 0.9, 'learning_rate': 0.008046399057531585, 'max_depth': 45, 'min_child_samples': 9, 'num_leaves': 14}. Best is trial 54 with value: 0.5756523810136738.\n",
      "[I 2023-12-04 23:37:34,642] Trial 127 finished with value: 0.5830204720514189 and parameters: {'reg_lambda': 0.27192302564987303, 'reg_alpha': 7.446972043521029, 'colsample_bytree': 0.8, 'colsample_bynode': 1.0, 'subsample': 0.9, 'learning_rate': 0.0031382023631600347, 'max_depth': 13, 'min_child_samples': 9, 'num_leaves': 14}. Best is trial 54 with value: 0.5756523810136738.\n",
      "[I 2023-12-04 23:37:55,504] Trial 128 finished with value: 0.5794843775974158 and parameters: {'reg_lambda': 0.4645317033879171, 'reg_alpha': 9.518844669319634, 'colsample_bytree': 0.8, 'colsample_bynode': 1.0, 'subsample': 0.9, 'learning_rate': 0.006103825055626899, 'max_depth': 13, 'min_child_samples': 9, 'num_leaves': 12}. Best is trial 54 with value: 0.5756523810136738.\n",
      "[I 2023-12-04 23:38:09,541] Trial 129 finished with value: 0.5780777572942867 and parameters: {'reg_lambda': 0.7990441582140718, 'reg_alpha': 6.440399898512314, 'colsample_bytree': 0.8, 'colsample_bynode': 1.0, 'subsample': 0.9, 'learning_rate': 0.01010749144611554, 'max_depth': 13, 'min_child_samples': 9, 'num_leaves': 12}. Best is trial 54 with value: 0.5756523810136738.\n",
      "[I 2023-12-04 23:38:21,760] Trial 130 finished with value: 0.5799062567734802 and parameters: {'reg_lambda': 0.7151933246669272, 'reg_alpha': 9.834106342392067, 'colsample_bytree': 0.8, 'colsample_bynode': 1.0, 'subsample': 0.9, 'learning_rate': 0.010990667394407674, 'max_depth': 13, 'min_child_samples': 9, 'num_leaves': 14}. Best is trial 54 with value: 0.5756523810136738.\n",
      "[I 2023-12-04 23:38:34,590] Trial 131 finished with value: 0.5832362807849286 and parameters: {'reg_lambda': 0.40770015398083426, 'reg_alpha': 6.707393672113597, 'colsample_bytree': 0.8, 'colsample_bynode': 1.0, 'subsample': 0.9, 'learning_rate': 0.008382902213509439, 'max_depth': 13, 'min_child_samples': 9, 'num_leaves': 12}. Best is trial 54 with value: 0.5756523810136738.\n",
      "[I 2023-12-04 23:38:53,915] Trial 132 finished with value: 0.5833467421334265 and parameters: {'reg_lambda': 0.7496855866666188, 'reg_alpha': 6.079009349521493, 'colsample_bytree': 0.8, 'colsample_bynode': 1.0, 'subsample': 0.9, 'learning_rate': 0.005256573266111301, 'max_depth': 13, 'min_child_samples': 9, 'num_leaves': 12}. Best is trial 54 with value: 0.5756523810136738.\n",
      "[I 2023-12-04 23:39:01,689] Trial 133 finished with value: 0.5815828141769614 and parameters: {'reg_lambda': 0.30766201404918564, 'reg_alpha': 3.6255196924564115, 'colsample_bytree': 0.4, 'colsample_bynode': 1.0, 'subsample': 0.9, 'learning_rate': 0.007419195755397669, 'max_depth': 13, 'min_child_samples': 9, 'num_leaves': 12}. Best is trial 54 with value: 0.5756523810136738.\n",
      "[I 2023-12-04 23:39:16,291] Trial 134 finished with value: 0.5820111972840072 and parameters: {'reg_lambda': 0.2067201032271361, 'reg_alpha': 7.802461475484661, 'colsample_bytree': 0.8, 'colsample_bynode': 1.0, 'subsample': 0.9, 'learning_rate': 0.006001393122833515, 'max_depth': 30, 'min_child_samples': 9, 'num_leaves': 12}. Best is trial 54 with value: 0.5756523810136738.\n",
      "[I 2023-12-04 23:39:23,975] Trial 135 finished with value: 0.5802405328744897 and parameters: {'reg_lambda': 0.5509851056563067, 'reg_alpha': 4.720619465000258, 'colsample_bytree': 0.4, 'colsample_bynode': 1.0, 'subsample': 0.9, 'learning_rate': 0.009700047716102592, 'max_depth': 45, 'min_child_samples': 9, 'num_leaves': 14}. Best is trial 54 with value: 0.5756523810136738.\n",
      "[I 2023-12-04 23:39:35,093] Trial 136 finished with value: 0.5761820738641239 and parameters: {'reg_lambda': 0.9747677962853034, 'reg_alpha': 6.314529202996097, 'colsample_bytree': 0.6, 'colsample_bynode': 1.0, 'subsample': 0.9, 'learning_rate': 0.012647287033138038, 'max_depth': 30, 'min_child_samples': 9, 'num_leaves': 10}. Best is trial 54 with value: 0.5756523810136738.\n",
      "[I 2023-12-04 23:39:40,914] Trial 137 finished with value: 0.5826584698581151 and parameters: {'reg_lambda': 1.129856711413296, 'reg_alpha': 9.984180794300178, 'colsample_bytree': 0.6, 'colsample_bynode': 1.0, 'subsample': 0.9, 'learning_rate': 0.011987673125842879, 'max_depth': 45, 'min_child_samples': 9, 'num_leaves': 10}. Best is trial 54 with value: 0.5756523810136738.\n",
      "[I 2023-12-04 23:39:47,688] Trial 138 finished with value: 0.5778658704001028 and parameters: {'reg_lambda': 0.7620821717790448, 'reg_alpha': 5.995900717384861, 'colsample_bytree': 0.6, 'colsample_bynode': 1.0, 'subsample': 0.9, 'learning_rate': 0.014438973186938462, 'max_depth': 13, 'min_child_samples': 9, 'num_leaves': 10}. Best is trial 54 with value: 0.5756523810136738.\n",
      "[I 2023-12-04 23:39:52,716] Trial 139 finished with value: 0.5815509418185763 and parameters: {'reg_lambda': 1.5553665742477816, 'reg_alpha': 6.198676365432228, 'colsample_bytree': 0.6, 'colsample_bynode': 1.0, 'subsample': 0.9, 'learning_rate': 0.013517264800805298, 'max_depth': 13, 'min_child_samples': 9, 'num_leaves': 10}. Best is trial 54 with value: 0.5756523810136738.\n",
      "[I 2023-12-04 23:40:03,670] Trial 140 finished with value: 0.581010466646141 and parameters: {'reg_lambda': 1.0002939822803136, 'reg_alpha': 7.5444827201735585, 'colsample_bytree': 0.6, 'colsample_bynode': 0.7, 'subsample': 0.9, 'learning_rate': 0.01003767205664051, 'max_depth': 13, 'min_child_samples': 9, 'num_leaves': 10}. Best is trial 54 with value: 0.5756523810136738.\n",
      "[I 2023-12-04 23:40:09,085] Trial 141 finished with value: 0.5803660013637733 and parameters: {'reg_lambda': 0.7976498590081081, 'reg_alpha': 6.0836575589756485, 'colsample_bytree': 0.6, 'colsample_bynode': 1.0, 'subsample': 0.9, 'learning_rate': 0.01544022862376442, 'max_depth': 13, 'min_child_samples': 9, 'num_leaves': 10}. Best is trial 54 with value: 0.5756523810136738.\n",
      "[I 2023-12-04 23:40:23,098] Trial 142 finished with value: 0.5789534366893291 and parameters: {'reg_lambda': 0.543500275279973, 'reg_alpha': 7.837234430794787, 'colsample_bytree': 0.6, 'colsample_bynode': 1.0, 'subsample': 0.9, 'learning_rate': 0.00816732735197541, 'max_depth': 45, 'min_child_samples': 9, 'num_leaves': 10}. Best is trial 54 with value: 0.5756523810136738.\n",
      "[I 2023-12-04 23:40:30,171] Trial 143 finished with value: 0.5830866421880645 and parameters: {'reg_lambda': 0.5492893956975742, 'reg_alpha': 5.204695183342452, 'colsample_bytree': 0.6, 'colsample_bynode': 1.0, 'subsample': 0.9, 'learning_rate': 0.008574405260335937, 'max_depth': 13, 'min_child_samples': 9, 'num_leaves': 10}. Best is trial 54 with value: 0.5756523810136738.\n",
      "[I 2023-12-04 23:40:37,222] Trial 144 finished with value: 0.5776537799094721 and parameters: {'reg_lambda': 0.3865743794348256, 'reg_alpha': 3.754235788789201, 'colsample_bytree': 0.6, 'colsample_bynode': 0.9, 'subsample': 0.9, 'learning_rate': 0.013381258304308198, 'max_depth': 30, 'min_child_samples': 9, 'num_leaves': 12}. Best is trial 54 with value: 0.5756523810136738.\n",
      "[I 2023-12-04 23:40:43,394] Trial 145 finished with value: 0.574076113192884 and parameters: {'reg_lambda': 0.3429800108155362, 'reg_alpha': 3.194364511840987, 'colsample_bytree': 0.6, 'colsample_bynode': 0.9, 'subsample': 0.9, 'learning_rate': 0.017699188262384626, 'max_depth': 30, 'min_child_samples': 9, 'num_leaves': 12}. Best is trial 145 with value: 0.574076113192884.\n",
      "[I 2023-12-04 23:40:54,647] Trial 146 finished with value: 0.5846820407008614 and parameters: {'reg_lambda': 0.3470496634863349, 'reg_alpha': 3.4840857654155295, 'colsample_bytree': 0.6, 'colsample_bynode': 0.9, 'subsample': 0.7, 'learning_rate': 0.018499042479089654, 'max_depth': 30, 'min_child_samples': 9, 'num_leaves': 34}. Best is trial 145 with value: 0.574076113192884.\n",
      "[I 2023-12-04 23:41:01,937] Trial 147 finished with value: 0.5796277379111223 and parameters: {'reg_lambda': 0.26885232274065496, 'reg_alpha': 2.393795315276598, 'colsample_bytree': 0.6, 'colsample_bynode': 0.9, 'subsample': 0.9, 'learning_rate': 0.013210019998057864, 'max_depth': 30, 'min_child_samples': 9, 'num_leaves': 12}. Best is trial 145 with value: 0.574076113192884.\n",
      "[I 2023-12-04 23:41:08,376] Trial 148 finished with value: 0.5800813937436526 and parameters: {'reg_lambda': 0.8622268445245106, 'reg_alpha': 3.1937209450144124, 'colsample_bytree': 0.6, 'colsample_bynode': 0.9, 'subsample': 0.9, 'learning_rate': 0.01629988868122683, 'max_depth': 30, 'min_child_samples': 13, 'num_leaves': 12}. Best is trial 145 with value: 0.574076113192884.\n",
      "[I 2023-12-04 23:41:16,586] Trial 149 finished with value: 0.5816091228103458 and parameters: {'reg_lambda': 0.3727057118144371, 'reg_alpha': 1.8998410390646638, 'colsample_bytree': 0.6, 'colsample_bynode': 0.9, 'subsample': 0.9, 'learning_rate': 0.01102393189660234, 'max_depth': 30, 'min_child_samples': 9, 'num_leaves': 12}. Best is trial 145 with value: 0.574076113192884.\n"
     ]
    },
    {
     "name": "stdout",
     "output_type": "stream",
     "text": [
      "Number of finished trials: 150\n",
      "Best trial: {'reg_lambda': 0.3429800108155362, 'reg_alpha': 3.194364511840987, 'colsample_bytree': 0.6, 'colsample_bynode': 0.9, 'subsample': 0.9, 'learning_rate': 0.017699188262384626, 'max_depth': 30, 'min_child_samples': 9, 'num_leaves': 12}\n"
     ]
    }
   ],
   "source": [
    "study = optuna.create_study(direction='minimize')\n",
    "study.optimize(objective, n_trials=150)\n",
    "print('Number of finished trials:', len(study.trials))\n",
    "print('Best trial:', study.best_trial.params)"
   ]
  },
  {
   "cell_type": "code",
   "execution_count": null,
   "metadata": {},
   "outputs": [
    {
     "data": {
      "text/html": [
       "<div>\n",
       "<style scoped>\n",
       "    .dataframe tbody tr th:only-of-type {\n",
       "        vertical-align: middle;\n",
       "    }\n",
       "\n",
       "    .dataframe tbody tr th {\n",
       "        vertical-align: top;\n",
       "    }\n",
       "\n",
       "    .dataframe thead th {\n",
       "        text-align: right;\n",
       "    }\n",
       "</style>\n",
       "<table border=\"1\" class=\"dataframe\">\n",
       "  <thead>\n",
       "    <tr style=\"text-align: right;\">\n",
       "      <th></th>\n",
       "      <th>number</th>\n",
       "      <th>value</th>\n",
       "      <th>datetime_start</th>\n",
       "      <th>datetime_complete</th>\n",
       "      <th>duration</th>\n",
       "      <th>params_colsample_bynode</th>\n",
       "      <th>params_colsample_bytree</th>\n",
       "      <th>params_learning_rate</th>\n",
       "      <th>params_max_depth</th>\n",
       "      <th>params_min_child_samples</th>\n",
       "      <th>params_num_leaves</th>\n",
       "      <th>params_reg_alpha</th>\n",
       "      <th>params_reg_lambda</th>\n",
       "      <th>params_subsample</th>\n",
       "      <th>state</th>\n",
       "    </tr>\n",
       "  </thead>\n",
       "  <tbody>\n",
       "    <tr>\n",
       "      <th>145</th>\n",
       "      <td>145</td>\n",
       "      <td>0.574076</td>\n",
       "      <td>2023-12-04 23:40:37.223060</td>\n",
       "      <td>2023-12-04 23:40:43.394825</td>\n",
       "      <td>0 days 00:00:06.171765</td>\n",
       "      <td>0.9</td>\n",
       "      <td>0.6</td>\n",
       "      <td>0.017699</td>\n",
       "      <td>30</td>\n",
       "      <td>9</td>\n",
       "      <td>12</td>\n",
       "      <td>3.194365</td>\n",
       "      <td>0.342980</td>\n",
       "      <td>0.9</td>\n",
       "      <td>COMPLETE</td>\n",
       "    </tr>\n",
       "    <tr>\n",
       "      <th>54</th>\n",
       "      <td>54</td>\n",
       "      <td>0.575652</td>\n",
       "      <td>2023-12-04 23:21:02.652005</td>\n",
       "      <td>2023-12-04 23:21:14.556557</td>\n",
       "      <td>0 days 00:00:11.904552</td>\n",
       "      <td>1.0</td>\n",
       "      <td>0.4</td>\n",
       "      <td>0.007230</td>\n",
       "      <td>45</td>\n",
       "      <td>17</td>\n",
       "      <td>10</td>\n",
       "      <td>6.917574</td>\n",
       "      <td>0.117548</td>\n",
       "      <td>0.9</td>\n",
       "      <td>COMPLETE</td>\n",
       "    </tr>\n",
       "    <tr>\n",
       "      <th>124</th>\n",
       "      <td>124</td>\n",
       "      <td>0.575964</td>\n",
       "      <td>2023-12-04 23:36:16.817280</td>\n",
       "      <td>2023-12-04 23:36:30.947154</td>\n",
       "      <td>0 days 00:00:14.129874</td>\n",
       "      <td>1.0</td>\n",
       "      <td>0.4</td>\n",
       "      <td>0.005969</td>\n",
       "      <td>30</td>\n",
       "      <td>9</td>\n",
       "      <td>12</td>\n",
       "      <td>9.963699</td>\n",
       "      <td>0.276488</td>\n",
       "      <td>0.9</td>\n",
       "      <td>COMPLETE</td>\n",
       "    </tr>\n",
       "    <tr>\n",
       "      <th>136</th>\n",
       "      <td>136</td>\n",
       "      <td>0.576182</td>\n",
       "      <td>2023-12-04 23:39:23.976717</td>\n",
       "      <td>2023-12-04 23:39:35.093411</td>\n",
       "      <td>0 days 00:00:11.116694</td>\n",
       "      <td>1.0</td>\n",
       "      <td>0.6</td>\n",
       "      <td>0.012647</td>\n",
       "      <td>30</td>\n",
       "      <td>9</td>\n",
       "      <td>10</td>\n",
       "      <td>6.314529</td>\n",
       "      <td>0.974768</td>\n",
       "      <td>0.9</td>\n",
       "      <td>COMPLETE</td>\n",
       "    </tr>\n",
       "    <tr>\n",
       "      <th>125</th>\n",
       "      <td>125</td>\n",
       "      <td>0.576728</td>\n",
       "      <td>2023-12-04 23:36:30.948154</td>\n",
       "      <td>2023-12-04 23:36:48.521055</td>\n",
       "      <td>0 days 00:00:17.572901</td>\n",
       "      <td>1.0</td>\n",
       "      <td>0.8</td>\n",
       "      <td>0.008223</td>\n",
       "      <td>13</td>\n",
       "      <td>9</td>\n",
       "      <td>14</td>\n",
       "      <td>8.465590</td>\n",
       "      <td>0.342354</td>\n",
       "      <td>0.9</td>\n",
       "      <td>COMPLETE</td>\n",
       "    </tr>\n",
       "    <tr>\n",
       "      <th>...</th>\n",
       "      <td>...</td>\n",
       "      <td>...</td>\n",
       "      <td>...</td>\n",
       "      <td>...</td>\n",
       "      <td>...</td>\n",
       "      <td>...</td>\n",
       "      <td>...</td>\n",
       "      <td>...</td>\n",
       "      <td>...</td>\n",
       "      <td>...</td>\n",
       "      <td>...</td>\n",
       "      <td>...</td>\n",
       "      <td>...</td>\n",
       "      <td>...</td>\n",
       "      <td>...</td>\n",
       "    </tr>\n",
       "    <tr>\n",
       "      <th>7</th>\n",
       "      <td>7</td>\n",
       "      <td>0.593613</td>\n",
       "      <td>2023-12-04 22:57:26.264460</td>\n",
       "      <td>2023-12-04 22:57:36.510887</td>\n",
       "      <td>0 days 00:00:10.246427</td>\n",
       "      <td>0.7</td>\n",
       "      <td>0.8</td>\n",
       "      <td>0.029422</td>\n",
       "      <td>11</td>\n",
       "      <td>25</td>\n",
       "      <td>28</td>\n",
       "      <td>0.000383</td>\n",
       "      <td>0.003108</td>\n",
       "      <td>0.6</td>\n",
       "      <td>COMPLETE</td>\n",
       "    </tr>\n",
       "    <tr>\n",
       "      <th>2</th>\n",
       "      <td>2</td>\n",
       "      <td>0.607439</td>\n",
       "      <td>2023-12-04 22:43:57.943956</td>\n",
       "      <td>2023-12-04 22:47:27.291668</td>\n",
       "      <td>0 days 00:03:29.347712</td>\n",
       "      <td>1.0</td>\n",
       "      <td>1.0</td>\n",
       "      <td>0.000211</td>\n",
       "      <td>9</td>\n",
       "      <td>40</td>\n",
       "      <td>14</td>\n",
       "      <td>0.255294</td>\n",
       "      <td>0.032547</td>\n",
       "      <td>0.6</td>\n",
       "      <td>COMPLETE</td>\n",
       "    </tr>\n",
       "    <tr>\n",
       "      <th>9</th>\n",
       "      <td>9</td>\n",
       "      <td>0.644155</td>\n",
       "      <td>2023-12-04 22:57:43.159823</td>\n",
       "      <td>2023-12-04 23:05:35.025058</td>\n",
       "      <td>0 days 00:07:51.865235</td>\n",
       "      <td>0.9</td>\n",
       "      <td>0.7</td>\n",
       "      <td>0.000137</td>\n",
       "      <td>45</td>\n",
       "      <td>15</td>\n",
       "      <td>36</td>\n",
       "      <td>0.000120</td>\n",
       "      <td>0.005253</td>\n",
       "      <td>1.0</td>\n",
       "      <td>COMPLETE</td>\n",
       "    </tr>\n",
       "    <tr>\n",
       "      <th>4</th>\n",
       "      <td>4</td>\n",
       "      <td>0.665031</td>\n",
       "      <td>2023-12-04 22:47:42.165219</td>\n",
       "      <td>2023-12-04 22:51:22.048615</td>\n",
       "      <td>0 days 00:03:39.883396</td>\n",
       "      <td>0.5</td>\n",
       "      <td>0.8</td>\n",
       "      <td>0.000117</td>\n",
       "      <td>9</td>\n",
       "      <td>40</td>\n",
       "      <td>18</td>\n",
       "      <td>0.009382</td>\n",
       "      <td>0.000190</td>\n",
       "      <td>1.0</td>\n",
       "      <td>COMPLETE</td>\n",
       "    </tr>\n",
       "    <tr>\n",
       "      <th>5</th>\n",
       "      <td>5</td>\n",
       "      <td>0.931002</td>\n",
       "      <td>2023-12-04 22:51:22.050615</td>\n",
       "      <td>2023-12-04 22:53:45.253714</td>\n",
       "      <td>0 days 00:02:23.203099</td>\n",
       "      <td>1.0</td>\n",
       "      <td>0.4</td>\n",
       "      <td>0.000013</td>\n",
       "      <td>35</td>\n",
       "      <td>11</td>\n",
       "      <td>20</td>\n",
       "      <td>0.004726</td>\n",
       "      <td>0.149359</td>\n",
       "      <td>0.8</td>\n",
       "      <td>COMPLETE</td>\n",
       "    </tr>\n",
       "  </tbody>\n",
       "</table>\n",
       "<p>150 rows × 15 columns</p>\n",
       "</div>"
      ],
      "text/plain": [
       "     number     value             datetime_start          datetime_complete  \\\n",
       "145     145  0.574076 2023-12-04 23:40:37.223060 2023-12-04 23:40:43.394825   \n",
       "54       54  0.575652 2023-12-04 23:21:02.652005 2023-12-04 23:21:14.556557   \n",
       "124     124  0.575964 2023-12-04 23:36:16.817280 2023-12-04 23:36:30.947154   \n",
       "136     136  0.576182 2023-12-04 23:39:23.976717 2023-12-04 23:39:35.093411   \n",
       "125     125  0.576728 2023-12-04 23:36:30.948154 2023-12-04 23:36:48.521055   \n",
       "..      ...       ...                        ...                        ...   \n",
       "7         7  0.593613 2023-12-04 22:57:26.264460 2023-12-04 22:57:36.510887   \n",
       "2         2  0.607439 2023-12-04 22:43:57.943956 2023-12-04 22:47:27.291668   \n",
       "9         9  0.644155 2023-12-04 22:57:43.159823 2023-12-04 23:05:35.025058   \n",
       "4         4  0.665031 2023-12-04 22:47:42.165219 2023-12-04 22:51:22.048615   \n",
       "5         5  0.931002 2023-12-04 22:51:22.050615 2023-12-04 22:53:45.253714   \n",
       "\n",
       "                  duration  params_colsample_bynode  params_colsample_bytree  \\\n",
       "145 0 days 00:00:06.171765                      0.9                      0.6   \n",
       "54  0 days 00:00:11.904552                      1.0                      0.4   \n",
       "124 0 days 00:00:14.129874                      1.0                      0.4   \n",
       "136 0 days 00:00:11.116694                      1.0                      0.6   \n",
       "125 0 days 00:00:17.572901                      1.0                      0.8   \n",
       "..                     ...                      ...                      ...   \n",
       "7   0 days 00:00:10.246427                      0.7                      0.8   \n",
       "2   0 days 00:03:29.347712                      1.0                      1.0   \n",
       "9   0 days 00:07:51.865235                      0.9                      0.7   \n",
       "4   0 days 00:03:39.883396                      0.5                      0.8   \n",
       "5   0 days 00:02:23.203099                      1.0                      0.4   \n",
       "\n",
       "     params_learning_rate  params_max_depth  params_min_child_samples  \\\n",
       "145              0.017699                30                         9   \n",
       "54               0.007230                45                        17   \n",
       "124              0.005969                30                         9   \n",
       "136              0.012647                30                         9   \n",
       "125              0.008223                13                         9   \n",
       "..                    ...               ...                       ...   \n",
       "7                0.029422                11                        25   \n",
       "2                0.000211                 9                        40   \n",
       "9                0.000137                45                        15   \n",
       "4                0.000117                 9                        40   \n",
       "5                0.000013                35                        11   \n",
       "\n",
       "     params_num_leaves  params_reg_alpha  params_reg_lambda  params_subsample  \\\n",
       "145                 12          3.194365           0.342980               0.9   \n",
       "54                  10          6.917574           0.117548               0.9   \n",
       "124                 12          9.963699           0.276488               0.9   \n",
       "136                 10          6.314529           0.974768               0.9   \n",
       "125                 14          8.465590           0.342354               0.9   \n",
       "..                 ...               ...                ...               ...   \n",
       "7                   28          0.000383           0.003108               0.6   \n",
       "2                   14          0.255294           0.032547               0.6   \n",
       "9                   36          0.000120           0.005253               1.0   \n",
       "4                   18          0.009382           0.000190               1.0   \n",
       "5                   20          0.004726           0.149359               0.8   \n",
       "\n",
       "        state  \n",
       "145  COMPLETE  \n",
       "54   COMPLETE  \n",
       "124  COMPLETE  \n",
       "136  COMPLETE  \n",
       "125  COMPLETE  \n",
       "..        ...  \n",
       "7    COMPLETE  \n",
       "2    COMPLETE  \n",
       "9    COMPLETE  \n",
       "4    COMPLETE  \n",
       "5    COMPLETE  \n",
       "\n",
       "[150 rows x 15 columns]"
      ]
     },
     "execution_count": 40,
     "metadata": {},
     "output_type": "execute_result"
    }
   ],
   "source": [
    "study.trials_dataframe().sort_values(by='value', ascending=True)"
   ]
  },
  {
   "cell_type": "markdown",
   "metadata": {},
   "source": [
    "## Test best model"
   ]
  },
  {
   "cell_type": "code",
   "execution_count": null,
   "metadata": {},
   "outputs": [
    {
     "data": {
      "text/plain": [
       "3209"
      ]
     },
     "execution_count": 53,
     "metadata": {},
     "output_type": "execute_result"
    }
   ],
   "source": [
    "len(train_cols)"
   ]
  },
  {
   "cell_type": "code",
   "execution_count": null,
   "metadata": {},
   "outputs": [],
   "source": [
    "import pickle\n",
    "\n",
    "with open('reduced_train_cols.pkl', 'wb') as f:\n",
    "    pickle.dump(train_cols, f)"
   ]
  },
  {
   "cell_type": "code",
   "execution_count": null,
   "metadata": {},
   "outputs": [
    {
     "name": "stdout",
     "output_type": "stream",
     "text": [
      "{'reg_lambda': 0.3429800108155362, 'reg_alpha': 3.194364511840987, 'colsample_bytree': 0.6, 'colsample_bynode': 0.9, 'subsample': 0.9, 'learning_rate': 0.017699188262384626, 'max_depth': 30, 'min_child_samples': 9, 'num_leaves': 12}\n"
     ]
    }
   ],
   "source": [
    "best_trial = study.best_trial.params\n",
    "print(best_trial)"
   ]
  },
  {
   "cell_type": "code",
   "execution_count": null,
   "metadata": {},
   "outputs": [],
   "source": [
    "OOF_PREDS = np.zeros((len(train_feats), 2))\n",
    "# TEST_PREDS = np.zeros((len(test_feats), 2))\n",
    "\n",
    "models_dict = {}\n",
    "scores = []\n",
    "preds_dict = {}\n",
    "count = 0\n",
    "for _ in train_feats['id'].unique():\n",
    "    preds_dict[count] = []\n",
    "    count+=1\n",
    "\n",
    "# test_predict_list = []\n",
    "\n",
    "for i in range(5): \n",
    "    kf = model_selection.KFold(n_splits=10, random_state=42 + i, shuffle=True)\n",
    "    oof_valid_preds = np.zeros(train_feats.shape[0])\n",
    "    # X_test = test_feats[train_cols]\n",
    "    for fold, (train_idx, valid_idx) in enumerate(kf.split(train_feats)):\n",
    "        \n",
    "        X_train, y_train = train_feats.iloc[train_idx][train_cols], train_feats.iloc[train_idx][target_col]\n",
    "        X_valid, y_valid = train_feats.iloc[valid_idx][train_cols], train_feats.iloc[valid_idx][target_col]\n",
    "        best_params = {\n",
    "                \"objective\": \"rmse\",\n",
    "                \"metric\": \"rmse\",\n",
    "                'random_state': 42,\n",
    "                \"n_estimators\" : 10000,\n",
    "                \"verbosity\": -1,\n",
    "                \"n_jobs\": -1,\n",
    "                **best_trial\n",
    "            }\n",
    "        model = lgb.LGBMRegressor(**best_params)\n",
    "        early_stopping_callback = lgb.early_stopping(50, first_metric_only=True, verbose=False)\n",
    "        \n",
    "        model.fit(X_train, y_train, eval_set=[(X_valid, y_valid)],  \n",
    "                  callbacks=[early_stopping_callback],\n",
    "        )\n",
    "\n",
    "        valid_predict = model.predict(X_valid)\n",
    "\n",
    "        for count, idx in enumerate(valid_idx):\n",
    "            preds_dict[idx].append(valid_predict[count])\n",
    "\n",
    "        oof_valid_preds[valid_idx] = valid_predict\n",
    "        # OOF_PREDS[valid_idx, 0] += valid_predict / 5\n",
    "        OOF_PREDS[valid_idx, 0] = valid_predict \n",
    "\n",
    "\n",
    "        # test_predict = model.predict(X_test)\n",
    "        # TEST_PREDS[:, 0] += test_predict / 5 / 10\n",
    "        # test_predict_list.append(test_predict)\n",
    "        score = metrics.mean_squared_error(y_valid, valid_predict, squared=False)\n",
    "        models_dict[f'{fold}_{i}'] = model\n",
    "\n",
    "    oof_score = metrics.mean_squared_error(train_feats[target_col], oof_valid_preds, squared=False)\n",
    "    scores.append(oof_score)"
   ]
  },
  {
   "cell_type": "code",
   "execution_count": null,
   "metadata": {},
   "outputs": [
    {
     "name": "stdout",
     "output_type": "stream",
     "text": [
      "OOF metric LGBM = 0.61374\n"
     ]
    }
   ],
   "source": [
    "means = []\n",
    "stds = []\n",
    "\n",
    "for idx in preds_dict:\n",
    "    means.append(np.mean(preds_dict[idx]))\n",
    "    stds.append(np.std(preds_dict[idx]))\n",
    "    \n",
    "print('OOF metric LGBM = {:.5f}'.format(metrics.mean_squared_error(train_feats[target_col], \n",
    "                                                                   means,\n",
    "                                                                   squared=False)))"
   ]
  },
  {
   "cell_type": "markdown",
   "metadata": {},
   "source": [
    "## Quantiles"
   ]
  },
  {
   "cell_type": "code",
   "execution_count": null,
   "metadata": {},
   "outputs": [],
   "source": [
    "# OOF_PREDS1 = np.zeros((len(train_feats), 1))\n",
    "# OOF_PREDS2 = np.zeros((len(train_feats), 1))\n",
    "# OOF_PREDS3 = np.zeros((len(train_feats), 1))\n",
    "# # TEST_PREDS = np.zeros((len(test_feats), 2))\n",
    "\n",
    "# models_dict = {}\n",
    "# scores = []\n",
    "# preds_dict = {}\n",
    "# preds_dict['0.1'] = {}\n",
    "# preds_dict['0.5'] = {}\n",
    "# preds_dict['0.9'] = {}\n",
    "\n",
    "\n",
    "# for i in [0.1,0.5,0.9]:\n",
    "#     count = 0\n",
    "#     for _ in train_logs_df['id'].unique():\n",
    "#         preds_dict[str(i)][count] = []\n",
    "#         count+=1\n",
    "\n",
    "# # test_predict_list = []\n",
    "\n",
    "# for i in range(5):\n",
    "#     kf = model_selection.KFold(n_splits=10, random_state=42 + i, shuffle=True)\n",
    "#     oof_valid_preds = np.zeros(train_feats.shape[0])\n",
    "#     # X_test = test_feats[train_cols]\n",
    "#     for fold, (train_idx, valid_idx) in enumerate(kf.split(train_feats)):\n",
    "        \n",
    "#         X_train, y_train = train_feats.iloc[train_idx][train_cols], train_feats.iloc[train_idx][target_col]\n",
    "#         X_valid, y_valid = train_feats.iloc[valid_idx][train_cols], train_feats.iloc[valid_idx][target_col]\n",
    "#         best_params = {\n",
    "#                 \"objective\": \"quantile\",\n",
    "#                 \"metric\": \"rmse\",\n",
    "#                 'random_state': 42+i,\n",
    "#                 # \"n_estimators\" : 12001,\n",
    "#                 \"verbosity\": -1,\n",
    "#                 \"n_jobs\": -1,\n",
    "#                 **best_trial\n",
    "#             }\n",
    "        \n",
    "#         for alpha_, oof_ in zip([0.1, 0.5, 0.9], [OOF_PREDS1, OOF_PREDS2, OOF_PREDS3]):\n",
    "#             model = lgb.LGBMRegressor(**best_params, alpha=alpha_)\n",
    "#             early_stopping_callback = lgb.early_stopping(50, first_metric_only=True, verbose=False)\n",
    "            \n",
    "#             model.fit(X_train, y_train, eval_set=[(X_valid, y_valid)],\n",
    "#                     callbacks=[early_stopping_callback],\n",
    "#             )\n",
    "\n",
    "#             valid_predict = model.predict(X_valid)\n",
    "\n",
    "#             for count, idx in enumerate(valid_idx):\n",
    "#                 preds_dict[str(alpha_)][idx].append(valid_predict[count])\n",
    "\n",
    "#             # oof_valid_preds[valid_idx] = valid_predict\n",
    "#             # OOF_PREDS[valid_idx, 0] += valid_predict / 5\n",
    "#             oof_[valid_idx, 0] = valid_predict\n",
    "\n",
    "\n",
    "#             # test_predict = model.predict(X_test)\n",
    "#             # TEST_PREDS[:, 0] += test_predict / 5 / 10\n",
    "#             # test_predict_list.append(test_predict)\n",
    "#             # score = metrics.mean_squared_error(y_valid, valid_predict, squared=False)\n",
    "#             models_dict[f'{fold}_{i}'] = model\n",
    "\n",
    "#     # oof_score = metrics.mean_squared_error(train_feats[target_col], oof_valid_preds, squared=False)\n",
    "#     # scores.append(oof_score)"
   ]
  },
  {
   "cell_type": "code",
   "execution_count": null,
   "metadata": {},
   "outputs": [],
   "source": [
    "# means = []\n",
    "# stds = []\n",
    "\n",
    "# for idx in preds_dict['0.9']:\n",
    "#     means.append(np.mean(preds_dict['0.9'][idx]))\n",
    "#     stds.append(np.std(preds_dict['0.9'][idx]))"
   ]
  },
  {
   "cell_type": "code",
   "execution_count": null,
   "metadata": {},
   "outputs": [
    {
     "name": "stdout",
     "output_type": "stream",
     "text": [
      "OOF metric LGBM = 1.20673\n"
     ]
    }
   ],
   "source": [
    "# print('OOF metric LGBM = {:.5f}'.format(metrics.mean_squared_error(train_feats[target_col], \n",
    "#                                                                    means,\n",
    "#                                                                    squared=False)))"
   ]
  },
  {
   "cell_type": "markdown",
   "metadata": {},
   "source": [
    "## Analyze errors"
   ]
  },
  {
   "cell_type": "code",
   "execution_count": null,
   "metadata": {},
   "outputs": [
    {
     "data": {
      "image/png": "[encoded data removed]",
      "text/plain": [
       "<Figure size 600x600 with 1 Axes>"
      ]
     },
     "metadata": {},
     "output_type": "display_data"
    }
   ],
   "source": [
    "f, ax = plt.subplots(figsize=(6, 6))\n",
    "ax.scatter(means, train_scores_df['score'])\n",
    "add_identity(ax, color='r', ls='--')\n",
    "# ax.scatter(stds, train_scores_df['score']-means)\n",
    "plt.ylabel('True Values')\n",
    "plt.xlabel('Predictions')\n",
    "\n",
    "plt.show()"
   ]
  },
  {
   "cell_type": "code",
   "execution_count": null,
   "metadata": {},
   "outputs": [
    {
     "data": {
      "text/plain": [
       "(array([491., 955., 596., 248., 101.,  36.,  23.,  12.,   7.,   2.]),\n",
       " array([0.00259067, 0.01846898, 0.03434728, 0.05022559, 0.0661039 ,\n",
       "        0.0819822 , 0.09786051, 0.11373881, 0.12961712, 0.14549542,\n",
       "        0.16137373]),\n",
       " <BarContainer object of 10 artists>)"
      ]
     },
     "execution_count": 48,
     "metadata": {},
     "output_type": "execute_result"
    },
    {
     "data": {
      "image/png": "[encoded data removed]",
      "text/plain": [
       "<Figure size 640x480 with 1 Axes>"
      ]
     },
     "metadata": {},
     "output_type": "display_data"
    }
   ],
   "source": [
    "plt.hist(stds)"
   ]
  },
  {
   "cell_type": "code",
   "execution_count": null,
   "metadata": {},
   "outputs": [],
   "source": [
    "x = pd.DataFrame()\n",
    "x['means'] = means\n",
    "x['stds'] = stds\n",
    "x['target'] = train_scores_df['score']"
   ]
  },
  {
   "cell_type": "code",
   "execution_count": null,
   "metadata": {},
   "outputs": [],
   "source": [
    "x['residuals'] = np.abs(x['means'] - x['target'])"
   ]
  },
  {
   "cell_type": "code",
   "execution_count": null,
   "metadata": {},
   "outputs": [],
   "source": [
    "x.sort_values(by='stds', ascending=False, inplace=True)"
   ]
  },
  {
   "cell_type": "code",
   "execution_count": null,
   "metadata": {},
   "outputs": [
    {
     "data": {
      "image/png": "[encoded data removed]",
      "text/plain": [
       "<Figure size 600x600 with 1 Axes>"
      ]
     },
     "metadata": {},
     "output_type": "display_data"
    }
   ],
   "source": [
    "f, ax = plt.subplots(figsize=(6, 6))\n",
    "\n",
    "x_ = x['means'].tail(100)\n",
    "# x_ = round_to_half(x_, round_up=True)\n",
    "y = x['target'].tail(100)\n",
    "\n",
    "mse = metrics.mean_squared_error(x_, y, squared=False)\n",
    "\n",
    "ax.scatter(x_, y)\n",
    "plt.xlabel('mean')\n",
    "plt.title(f'RMSE: {mse:.3f}')\n",
    "add_identity(ax, color='r', ls='--')\n",
    "plt.show()"
   ]
  }
 ],
 "metadata": {
  "kernelspec": {
   "display_name": "Python 3",
   "language": "python",
   "name": "python3"
  },
  "language_info": {
   "codemirror_mode": {
    "name": "ipython",
    "version": 3
   },
   "file_extension": ".py",
   "mimetype": "text/x-python",
   "name": "python",
   "nbconvert_exporter": "python",
   "pygments_lexer": "ipython3",
   "version": "3.10.5"
  }
 },
 "nbformat": 4,
 "nbformat_minor": 2
}
