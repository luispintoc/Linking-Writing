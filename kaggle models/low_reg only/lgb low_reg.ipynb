{
 "cells": [
  {
   "cell_type": "code",
   "execution_count": 3,
   "metadata": {},
   "outputs": [],
   "source": [
    "import gc\n",
    "import os\n",
    "import itertools\n",
    "import pickle\n",
    "import re\n",
    "import time\n",
    "from random import choice, choices\n",
    "from functools import reduce\n",
    "from tqdm import tqdm\n",
    "from itertools import cycle\n",
    "import numpy as np\n",
    "import pandas as pd\n",
    "import seaborn as sns\n",
    "import matplotlib.pyplot as plt\n",
    "from collections import Counter\n",
    "from functools import reduce\n",
    "from itertools import cycle\n",
    "from scipy import stats\n",
    "from scipy.stats import skew, kurtosis\n",
    "from sklearn import metrics, model_selection, preprocessing, linear_model, ensemble, decomposition, tree\n",
    "import lightgbm as lgb\n",
    "import optuna\n",
    "from sklearn.metrics import mean_squared_error\n",
    "from sklearn.model_selection import train_test_split\n",
    "\n",
    "\n",
    "import sys\n",
    "sys.path.append('../../')\n",
    "from utils import *"
   ]
  },
  {
   "cell_type": "markdown",
   "metadata": {},
   "source": [
    "## Prepro: change names to numbers"
   ]
  },
  {
   "cell_type": "code",
   "execution_count": 7,
   "metadata": {},
   "outputs": [],
   "source": [
    "train_feats = pd.read_csv('../../kaggle feat_eng/silver_bullet_feats.csv')\n",
    "\n",
    "train_feats.replace([np.inf, -np.inf], np.nan, inplace=True)\n",
    "cols = train_feats.columns\n",
    "\n",
    "counter = 0\n",
    "new_columns = {}\n",
    "for col in cols:\n",
    "    if col != 'id' and col != 'score':\n",
    "        new_columns[col] = counter\n",
    "        counter += 1\n",
    "\n",
    "train_feats.rename(columns=new_columns, inplace=True)"
   ]
  },
  {
   "cell_type": "code",
   "execution_count": 8,
   "metadata": {},
   "outputs": [],
   "source": [
    "score_thresh = 3"
   ]
  },
  {
   "cell_type": "markdown",
   "metadata": {},
   "source": [
    "## Regressor for low values"
   ]
  },
  {
   "cell_type": "code",
   "execution_count": 9,
   "metadata": {},
   "outputs": [],
   "source": [
    "df_high = train_feats[train_feats['score']>score_thresh].copy()\n",
    "df_low = train_feats[train_feats['score']<=score_thresh].copy()"
   ]
  },
  {
   "cell_type": "code",
   "execution_count": 10,
   "metadata": {},
   "outputs": [],
   "source": [
    "target_col = ['score']\n",
    "drop_cols = ['id']\n",
    "train_cols = [col for col in train_feats.columns if col not in target_col + drop_cols]"
   ]
  },
  {
   "cell_type": "code",
   "execution_count": null,
   "metadata": {},
   "outputs": [],
   "source": [
    "def objective(trial,train_x,train_y,val_x,val_y):\n",
    "\n",
    "    params = {\n",
    "        'reg_lambda': trial.suggest_float('reg_lambda', 1e-4, 10.0, log=True),\n",
    "        'reg_alpha': trial.suggest_float('reg_alpha', 1e-4, 10.0, log=True),\n",
    "        'colsample_bytree': trial.suggest_categorical('colsample_bytree', [0.4,0.7,1.0]),\n",
    "        'colsample_bynode': trial.suggest_categorical('colsample_bynode', [0.4,0.7,1.0]),\n",
    "        'subsample': trial.suggest_categorical('subsample', [0.4,0.7,1.0]),\n",
    "        'learning_rate': trial.suggest_float('learning_rate', 1e-4, 5e-2, log=True), #trial.suggest_categorical('learning_rate', [0.008,0.01,0.012,0.014,0.016,0.018, 0.02]),\n",
    "        'max_depth': trial.suggest_categorical('max_depth', [9,11,13,15,17,20]),\n",
    "        'min_child_samples': trial.suggest_categorical('min_child_samples', [7,9,11,13,15,17,20]),\n",
    "        'num_leaves': trial.suggest_int('num_leaves', 10, 40, step=4),\n",
    "        'n_estimators': trial.suggest_int('n_estimators', 100, 2000, step=300),\n",
    "    }\n",
    "\n",
    "    all_params = {\n",
    "        \"objective\": \"rmse\",\n",
    "        \"metric\": \"rmse\",\n",
    "        'random_state': 41,\n",
    "        \"n_estimators\" : 1000,\n",
    "        \"verbosity\": -1,\n",
    "        \"n_jobs\": -1,\n",
    "        **params\n",
    "    }\n",
    "\n",
    "    model = lgb.LGBMRegressor(**all_params)\n",
    "    \n",
    "    model.fit(train_x, train_y)#, eval_set=[(val_x, val_y)], #verbose=False,\n",
    "    \n",
    "    preds = model.predict(val_x)\n",
    "    \n",
    "    rmse = mean_squared_error(val_y, preds, squared=False)\n",
    "    \n",
    "    return rmse"
   ]
  },
  {
   "cell_type": "code",
   "execution_count": 11,
   "metadata": {},
   "outputs": [],
   "source": [
    "def lgb_calc_OOF(x_train, y_train, x_valid, y_valid, model, early_stop=10, RANDOM_STATE=42):\n",
    "    # split into two validations\n",
    "    x_valid1, x_valid2, y_valid1, y_valid2 = train_test_split(x_valid, y_valid, test_size=0.5, random_state=RANDOM_STATE, shuffle=False)\n",
    "\n",
    "    '''Use v1, test on v2'''\n",
    "\n",
    "    # Bayesian Opt using v1\n",
    "\n",
    "    # Get best params\n",
    "    model.fit(x_train, y_train)\n",
    "\n",
    "    # Predict on v2\n",
    "    valid2_predict = model.predict(x_valid2)\n",
    "\n",
    "\n",
    "    '''Use v2, test on v1'''\n",
    "\n",
    "    # Baysian Opt using v2\n",
    "\n",
    "    # Get best params\n",
    "    model.fit(x_train, y_train)\n",
    "\n",
    "    # Predict on v1\n",
    "    valid1_predict = model.predict(x_valid1)\n",
    "\n",
    "    # Return OOFs\n",
    "    return np.concatenate([valid1_predict,valid2_predict])    "
   ]
  },
  {
   "cell_type": "code",
   "execution_count": 12,
   "metadata": {},
   "outputs": [],
   "source": [
    "OOF_HIGH_SCORE = np.zeros(len(df_high))\n",
    "OOF_LOW_SCORE = np.zeros(len(df_low))\n",
    "\n",
    "models_dict = {}\n",
    "preds_dict = {}\n",
    "count = 0\n",
    "for _ in df_low['id'].unique():\n",
    "    preds_dict[count] = []\n",
    "    count+=1\n",
    "\n",
    "iterations = 5\n",
    "n_splits = 10\n",
    "\n",
    "for i in range(iterations):\n",
    "\n",
    "    kf = model_selection.KFold(n_splits=n_splits, random_state=41 + i, shuffle=True)\n",
    "    for fold, (train_idx, valid_idx) in enumerate(kf.split(df_low)):\n",
    "        \n",
    "        X_train, y_train = df_low.iloc[train_idx][train_cols], df_low.iloc[train_idx][target_col]\n",
    "        X_valid, y_valid = df_low.iloc[valid_idx][train_cols], df_low.iloc[valid_idx][target_col]\n",
    "        best_params = {\n",
    "                \"objective\": \"rmse\",\n",
    "                \"metric\": \"rmse\",\n",
    "                'random_state': 41,\n",
    "                \"n_estimators\" : 1000,\n",
    "                \"verbosity\": -1,\n",
    "                \"n_jobs\": -1,\n",
    "                \"subsample\": 0.8,\n",
    "            }\n",
    "        \n",
    "        model = lgb.LGBMRegressor(**best_params)\n",
    "\n",
    "        valid_predict = lgb_calc_OOF(X_train, y_train, X_valid, y_valid, model, early_stop=10, RANDOM_STATE=41 + i)\n",
    "        for count, idx in enumerate(valid_idx):\n",
    "            preds_dict[idx].append(valid_predict[count])\n",
    "\n",
    "        OOF_HIGH_SCORE += model.predict(df_high[train_cols]) / iterations / n_splits\n",
    "        OOF_LOW_SCORE += model.predict(df_low[train_cols]) / iterations / n_splits\n",
    "        models_dict[f'{fold}_{i}'] = model"
   ]
  },
  {
   "cell_type": "code",
   "execution_count": 13,
   "metadata": {},
   "outputs": [
    {
     "name": "stdout",
     "output_type": "stream",
     "text": [
      "OOF metric LGBM = 0.40628\n"
     ]
    }
   ],
   "source": [
    "high_means = []\n",
    "high_stds = []\n",
    "\n",
    "for idx in preds_dict:\n",
    "    high_means.append(np.mean(preds_dict[idx]))\n",
    "    high_stds.append(np.std(preds_dict[idx]))\n",
    "\n",
    "print('OOF metric LGBM = {:.5f}'.format(metrics.mean_squared_error(df_low[target_col], \n",
    "                                                                   np.array(high_means),\n",
    "                                                                   squared=False)))"
   ]
  },
  {
   "cell_type": "code",
   "execution_count": 88,
   "metadata": {},
   "outputs": [],
   "source": [
    "df_out = pd.DataFrame()\n",
    "df_out['id'] = train_feats['id']\n",
    "df_out['clf_pred'] = y_pred.astype(int)"
   ]
  },
  {
   "cell_type": "code",
   "execution_count": 89,
   "metadata": {},
   "outputs": [],
   "source": [
    "df_low['reg pred'] = np.array(high_means)\n",
    "\n",
    "df_high = train_feats[train_feats['score']>score_thresh].copy()\n",
    "df_high['reg pred'] = OOF_ALL\n",
    "df_low = df_low.merge(df_out, on='id', how='left')\n",
    "df_high = df_high.merge(df_out, on='id', how='left')\n",
    "\n",
    "df_all = pd.concat([df_high, df_low], axis=0)"
   ]
  },
  {
   "cell_type": "code",
   "execution_count": 90,
   "metadata": {},
   "outputs": [
    {
     "name": "stdout",
     "output_type": "stream",
     "text": [
      "OOF metric LGBM = 0.58681\n"
     ]
    }
   ],
   "source": [
    "print('OOF metric LGBM = {:.5f}'.format(metrics.mean_squared_error(df_all[df_all['clf_pred']==1][target_col], \n",
    "                                                                   df_all[df_all['clf_pred']==1]['reg pred'],\n",
    "                                                                   squared=False)))"
   ]
  },
  {
   "cell_type": "code",
   "execution_count": 91,
   "metadata": {},
   "outputs": [
    {
     "data": {
      "image/png": "[encoded data removed]",
      "text/plain": [
       "<Figure size 600x600 with 1 Axes>"
      ]
     },
     "metadata": {},
     "output_type": "display_data"
    }
   ],
   "source": [
    "f, ax = plt.subplots(figsize=(6, 6))\n",
    "ax.scatter(df_all[df_all['clf_pred']==1]['reg pred'], df_all[df_all['clf_pred']==1][target_col])\n",
    "add_identity(ax, color='r', ls='--')\n",
    "# ax.scatter(stds, train_scores_df['score']-means)\n",
    "plt.ylabel('True Values')\n",
    "plt.xlabel('Predictions')\n",
    "\n",
    "plt.show()"
   ]
  },
  {
   "cell_type": "code",
   "execution_count": 96,
   "metadata": {},
   "outputs": [],
   "source": [
    "out = pd.read_csv('../lgbm_v2_features0.csv')"
   ]
  },
  {
   "cell_type": "code",
   "execution_count": 98,
   "metadata": {},
   "outputs": [],
   "source": [
    "out = out.merge(df_all, on='id', how='left')\n",
    "out.loc[out['clf_pred']==1, 'pred'] = out.loc[out['clf_pred']==1, 'reg pred']"
   ]
  },
  {
   "cell_type": "code",
   "execution_count": 99,
   "metadata": {},
   "outputs": [
    {
     "name": "stdout",
     "output_type": "stream",
     "text": [
      "OOF metric LGBM = 0.62799\n"
     ]
    }
   ],
   "source": [
    "print('OOF metric LGBM = {:.5f}'.format(metrics.mean_squared_error(out[target_col], \n",
    "                                                                   out['pred'],\n",
    "                                                                   squared=False)))"
   ]
  },
  {
   "cell_type": "code",
   "execution_count": null,
   "metadata": {},
   "outputs": [],
   "source": []
  }
 ],
 "metadata": {
  "kernelspec": {
   "display_name": "Python 3",
   "language": "python",
   "name": "python3"
  },
  "language_info": {
   "codemirror_mode": {
    "name": "ipython",
    "version": 3
   },
   "file_extension": ".py",
   "mimetype": "text/x-python",
   "name": "python",
   "nbconvert_exporter": "python",
   "pygments_lexer": "ipython3",
   "version": "3.10.5"
  }
 },
 "nbformat": 4,
 "nbformat_minor": 2
}
