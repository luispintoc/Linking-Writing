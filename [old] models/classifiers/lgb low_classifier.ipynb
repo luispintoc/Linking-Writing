{
 "cells": [
  {
   "cell_type": "code",
   "execution_count": 1,
   "metadata": {},
   "outputs": [],
   "source": [
    "import gc\n",
    "import os\n",
    "import itertools\n",
    "import pickle\n",
    "import re\n",
    "import time\n",
    "from random import choice, choices\n",
    "from functools import reduce\n",
    "from tqdm import tqdm\n",
    "from itertools import cycle\n",
    "import numpy as np\n",
    "import pandas as pd\n",
    "import seaborn as sns\n",
    "import matplotlib.pyplot as plt\n",
    "from collections import Counter\n",
    "from functools import reduce\n",
    "from itertools import cycle\n",
    "from scipy import stats\n",
    "from scipy.stats import skew, kurtosis\n",
    "from sklearn import metrics, model_selection, preprocessing, linear_model, ensemble, decomposition, tree\n",
    "import lightgbm as lgb\n",
    "import optuna\n",
    "from sklearn.metrics import mean_squared_error\n",
    "from sklearn.model_selection import train_test_split\n",
    "\n",
    "\n",
    "import sys\n",
    "sys.path.append('../../')\n",
    "from utils import *"
   ]
  },
  {
   "cell_type": "markdown",
   "metadata": {},
   "source": [
    "## Prepro: change names to numbers"
   ]
  },
  {
   "cell_type": "code",
   "execution_count": 35,
   "metadata": {},
   "outputs": [],
   "source": [
    "train_feats = pd.read_csv('../../feature_eng/example_features.csv')\n",
    "\n",
    "train_feats.replace([np.inf, -np.inf], np.nan, inplace=True)\n",
    "cols = train_feats.columns\n",
    "\n",
    "counter = 0\n",
    "new_columns = {}\n",
    "for col in cols:\n",
    "    if col != 'id' and col != 'score':\n",
    "        new_columns[col] = counter\n",
    "        counter += 1\n",
    "\n",
    "train_feats.rename(columns=new_columns, inplace=True)"
   ]
  },
  {
   "cell_type": "markdown",
   "metadata": {},
   "source": [
    "## Classifier"
   ]
  },
  {
   "cell_type": "code",
   "execution_count": 74,
   "metadata": {},
   "outputs": [],
   "source": [
    "score_thresh = 2"
   ]
  },
  {
   "cell_type": "code",
   "execution_count": 75,
   "metadata": {},
   "outputs": [],
   "source": [
    "secondary_model_data = train_feats.copy()\n",
    "secondary_model_data['score'] = (secondary_model_data['score']<=score_thresh).astype(int)"
   ]
  },
  {
   "cell_type": "code",
   "execution_count": 76,
   "metadata": {},
   "outputs": [],
   "source": [
    "target_col = ['score']\n",
    "drop_cols = ['id']\n",
    "train_cols = [col for col in train_feats.columns if col not in target_col + drop_cols]\n",
    "\n",
    "for col in train_cols:\n",
    "    sk = skew(train_feats[col], axis=0)\n",
    "    if sk > 0.5 or sk < -0.5:\n",
    "        train_feats[col] = np.log(train_feats[col]+1)"
   ]
  },
  {
   "cell_type": "code",
   "execution_count": 77,
   "metadata": {},
   "outputs": [],
   "source": [
    "OOF_CLASSIFIER_PREDS = np.zeros(len(secondary_model_data))\n",
    "\n",
    "scores = []\n",
    "preds_dict = {}\n",
    "count = 0\n",
    "for _ in secondary_model_data['id'].unique():\n",
    "    preds_dict[count] = []\n",
    "    count+=1\n",
    "\n",
    "# test_predict_list = []\n",
    "n_splits = 10\n",
    "iterations = 5\n",
    "\n",
    "\n",
    "for i in range(iterations):\n",
    "    kf = model_selection.KFold(n_splits=n_splits, random_state=42 + i, shuffle=True)\n",
    "    # X_test = test_feats[train_cols]\n",
    "    for fold, (train_idx, valid_idx) in enumerate(kf.split(secondary_model_data)):\n",
    "        \n",
    "        X_train, y_train = secondary_model_data.iloc[train_idx][train_cols], secondary_model_data.iloc[train_idx][target_col]\n",
    "        X_valid, y_valid = secondary_model_data.iloc[valid_idx][train_cols], secondary_model_data.iloc[valid_idx][target_col]\n",
    "\n",
    "        best_params = {\n",
    "                \"objective\": \"binary\",\n",
    "                \"metric\": \"auc\",\n",
    "                'random_state': 42,\n",
    "                \"n_estimators\" : 1000,\n",
    "                \"verbosity\": -1,\n",
    "                \"n_jobs\": -1,\n",
    "                # \"class_weight\": \"balanced\",\n",
    "            }\n",
    "        model = lgb.LGBMClassifier(**best_params)\n",
    "        early_stopping_callback = lgb.early_stopping(5, first_metric_only=True, verbose=False)\n",
    "        \n",
    "        model.fit(X_train, y_train.values.ravel(), eval_set=[(X_valid, y_valid.values.ravel())], #verbose=False, \n",
    "                  callbacks=[early_stopping_callback],\n",
    "                  eval_metric='auc-pr'\n",
    "        )\n",
    "\n",
    "        valid_predict = model.predict_proba(X_valid)[:,1]\n",
    "\n",
    "        for count, idx in enumerate(valid_idx):\n",
    "            preds_dict[idx].append(valid_predict[count])\n",
    "\n",
    "        OOF_CLASSIFIER_PREDS[valid_idx] += valid_predict / iterations"
   ]
  },
  {
   "cell_type": "code",
   "execution_count": 78,
   "metadata": {},
   "outputs": [
    {
     "name": "stdout",
     "output_type": "stream",
     "text": [
      "OOF AUC-PR metric LGBM = 0.55009\n"
     ]
    }
   ],
   "source": [
    "class_means = []\n",
    "class_stds = []\n",
    "\n",
    "for idx in preds_dict:\n",
    "    class_means.append(np.mean(preds_dict[idx]))\n",
    "    class_stds.append(np.std(preds_dict[idx]))\n",
    "\n",
    "print('OOF AUC-PR metric LGBM = {:.5f}'.format(metrics.average_precision_score(secondary_model_data[target_col], \n",
    "                                                                   class_means)))"
   ]
  },
  {
   "cell_type": "code",
   "execution_count": 79,
   "metadata": {},
   "outputs": [],
   "source": [
    "fpr, tpr, thresholds = metrics.roc_curve(secondary_model_data[target_col], class_means)\n",
    "roc_auc = metrics.auc(fpr, tpr)"
   ]
  },
  {
   "cell_type": "code",
   "execution_count": 80,
   "metadata": {},
   "outputs": [
    {
     "data": {
      "text/plain": [
       "0.07403342075030142"
      ]
     },
     "execution_count": 80,
     "metadata": {},
     "output_type": "execute_result"
    }
   ],
   "source": [
    "thresholds[np.argmax(np.sqrt(tpr*(1-fpr)))]"
   ]
  },
  {
   "cell_type": "code",
   "execution_count": 81,
   "metadata": {},
   "outputs": [
    {
     "data": {
      "text/plain": [
       "Text(0.5, 1.0, 'AUC-PR=0.5500940265171212')"
      ]
     },
     "execution_count": 81,
     "metadata": {},
     "output_type": "execute_result"
    },
    {
     "data": {
      "image/png": "[encoded data removed]",
      "text/plain": [
       "<Figure size 600x600 with 1 Axes>"
      ]
     },
     "metadata": {},
     "output_type": "display_data"
    }
   ],
   "source": [
    "precision, recall, _ = metrics.precision_recall_curve(secondary_model_data[target_col], class_means)\n",
    "average_precision = metrics.average_precision_score(secondary_model_data[target_col], class_means)\n",
    "\n",
    "plt.figure(figsize=(6,6))\n",
    "plt.step(recall, precision, color='b', alpha=0.2,\n",
    "         where='post')\n",
    "plt.xlabel('Recall')\n",
    "plt.ylabel('Precision')\n",
    "plt.ylim([0.0, 1.05])\n",
    "plt.xlim([0.0, 1.0])\n",
    "plt.title(f'AUC-PR={average_precision}')"
   ]
  },
  {
   "cell_type": "code",
   "execution_count": 82,
   "metadata": {},
   "outputs": [
    {
     "name": "stdout",
     "output_type": "stream",
     "text": [
      "----\n",
      "1.7956464612269345\n",
      "TPR: 0.0\n",
      "FPR: 0.0\n",
      "----\n",
      "0.318975053746993\n",
      "TPR: 0.3383084577114428\n",
      "FPR: 0.018061674008810574\n",
      "----\n",
      "0.19585834734500412\n",
      "TPR: 0.572139303482587\n",
      "FPR: 0.05418502202643172\n",
      "----\n",
      "0.13366957503745577\n",
      "TPR: 0.746268656716418\n",
      "FPR: 0.0920704845814978\n",
      "----\n",
      "0.07499066218957155\n",
      "TPR: 0.9104477611940298\n",
      "FPR: 0.1748898678414097\n"
     ]
    }
   ],
   "source": [
    "for thr in thresholds[[x for x in range(len(thresholds)) if x%50==0]]:\n",
    "    print('----')\n",
    "    print(thr)\n",
    "    print(f'TPR: {tpr[thresholds==thr][0]}')\n",
    "    print(f'FPR: {fpr[thresholds==thr][0]}')"
   ]
  },
  {
   "cell_type": "code",
   "execution_count": 83,
   "metadata": {},
   "outputs": [
    {
     "data": {
      "text/plain": [
       "<matplotlib.legend.Legend at 0x21346e62b30>"
      ]
     },
     "execution_count": 83,
     "metadata": {},
     "output_type": "execute_result"
    },
    {
     "data": {
      "image/png": "[encoded data removed]",
      "text/plain": [
       "<Figure size 600x600 with 1 Axes>"
      ]
     },
     "metadata": {},
     "output_type": "display_data"
    }
   ],
   "source": [
    "# Plot number of true positives and number of false positives as a function of the decision threshold for the first 50 thresholds, not fpr, but actual false positive count\n",
    "tps = []\n",
    "fps = []\n",
    "max_ = 200\n",
    "\n",
    "for thr in thresholds[3:max_]:\n",
    "    _, fp, _, tp = metrics.confusion_matrix(secondary_model_data[target_col], class_means>=thr).ravel()\n",
    "    tps.append(tp/fp)\n",
    "    # fps.append(fp)\n",
    "\n",
    "plt.figure(figsize=(6,6))\n",
    "plt.plot(thresholds[3:max_], tps, label='TP/FP', marker='o')\n",
    "# plt.plot(thresholds[3:max_], fps, label='FP')\n",
    "plt.xlabel('Threshold')\n",
    "plt.ylabel('Count')\n",
    "plt.legend(loc=\"lower right\")"
   ]
  },
  {
   "cell_type": "code",
   "execution_count": 104,
   "metadata": {},
   "outputs": [
    {
     "data": {
      "text/plain": [
       "<sklearn.metrics._plot.confusion_matrix.ConfusionMatrixDisplay at 0x2134622eb00>"
      ]
     },
     "execution_count": 104,
     "metadata": {},
     "output_type": "execute_result"
    },
    {
     "data": {
      "image/png": "[encoded data removed]",
      "text/plain": [
       "<Figure size 640x480 with 2 Axes>"
      ]
     },
     "metadata": {},
     "output_type": "display_data"
    }
   ],
   "source": [
    "# opt_thresh = thresholds[np.argmax(np.sqrt(tpr*(1-fpr)))]\n",
    "opt_thresh = thresholds[10]\n",
    "\n",
    "y_true = secondary_model_data[target_col].values.ravel()\n",
    "y_pred = class_means>opt_thresh\n",
    "# y_pred = class_means>=opt_thresh\n",
    "\n",
    "cm = metrics.confusion_matrix(y_true, y_pred)\n",
    "disp = metrics.ConfusionMatrixDisplay(confusion_matrix=cm)\n",
    "disp.plot()"
   ]
  },
  {
   "cell_type": "markdown",
   "metadata": {},
   "source": [
    "## Regressor for low values"
   ]
  },
  {
   "cell_type": "code",
   "execution_count": 85,
   "metadata": {},
   "outputs": [],
   "source": [
    "df_high = train_feats[train_feats['score']>score_thresh].copy()\n",
    "df_low = train_feats[train_feats['score']<=score_thresh].copy()"
   ]
  },
  {
   "cell_type": "code",
   "execution_count": 86,
   "metadata": {},
   "outputs": [],
   "source": [
    "OOF_ALL = np.zeros(len(df_high))\n",
    "OOF_LOW_PREDS_HIGH = np.zeros(len(df_low))\n",
    "\n",
    "models_dict = {}\n",
    "preds_dict = {}\n",
    "count = 0\n",
    "for _ in df_low['id'].unique():\n",
    "    preds_dict[count] = []\n",
    "    count+=1\n",
    "\n",
    "iterations = 5\n",
    "n_splits = 10\n",
    "\n",
    "for i in range(iterations):\n",
    "\n",
    "    kf = model_selection.KFold(n_splits=n_splits, random_state=41 + i, shuffle=True)\n",
    "    for fold, (train_idx, valid_idx) in enumerate(kf.split(df_low)):\n",
    "        \n",
    "        X_train, y_train = df_low.iloc[train_idx][train_cols], df_low.iloc[train_idx][target_col]\n",
    "        X_valid, y_valid = df_low.iloc[valid_idx][train_cols], df_low.iloc[valid_idx][target_col]\n",
    "        best_params = {\n",
    "                \"objective\": \"rmse\",\n",
    "                \"metric\": \"rmse\",\n",
    "                'random_state': 41,\n",
    "                \"n_estimators\" : 1000,\n",
    "                \"verbosity\": -1,\n",
    "                \"n_jobs\": -1,\n",
    "            }\n",
    "        \n",
    "        model = lgb.LGBMRegressor(**best_params)\n",
    "        early_stopping_callback = lgb.early_stopping(5, first_metric_only=True, verbose=False)\n",
    "        \n",
    "        model.fit(X_train, y_train, eval_set=[(X_valid, y_valid)],\n",
    "                  callbacks=[early_stopping_callback],\n",
    "        )\n",
    "\n",
    "        valid_predict = model.predict(X_valid)\n",
    "        for count, idx in enumerate(valid_idx):\n",
    "            preds_dict[idx].append(valid_predict[count])\n",
    "\n",
    "        OOF_ALL += model.predict(df_high[train_cols]) / iterations / n_splits\n",
    "        OOF_LOW_PREDS_HIGH += model.predict(df_low[train_cols]) / iterations / n_splits\n",
    "        models_dict[f'{fold}_{i}'] = model"
   ]
  },
  {
   "cell_type": "code",
   "execution_count": 87,
   "metadata": {},
   "outputs": [
    {
     "name": "stdout",
     "output_type": "stream",
     "text": [
      "OOF metric LGBM = 0.40342\n"
     ]
    }
   ],
   "source": [
    "high_means = []\n",
    "high_stds = []\n",
    "\n",
    "for idx in preds_dict:\n",
    "    high_means.append(np.mean(preds_dict[idx]))\n",
    "    high_stds.append(np.std(preds_dict[idx]))\n",
    "\n",
    "print('OOF metric LGBM = {:.5f}'.format(metrics.mean_squared_error(df_low[target_col], \n",
    "                                                                   np.array(high_means),\n",
    "                                                                   squared=False)))"
   ]
  },
  {
   "cell_type": "code",
   "execution_count": 88,
   "metadata": {},
   "outputs": [],
   "source": [
    "df_out = pd.DataFrame()\n",
    "df_out['id'] = train_feats['id']\n",
    "df_out['clf_pred'] = y_pred.astype(int)"
   ]
  },
  {
   "cell_type": "code",
   "execution_count": 89,
   "metadata": {},
   "outputs": [],
   "source": [
    "df_low['reg pred'] = np.array(high_means)\n",
    "\n",
    "df_high = train_feats[train_feats['score']>score_thresh].copy()\n",
    "df_high['reg pred'] = OOF_ALL\n",
    "df_low = df_low.merge(df_out, on='id', how='left')\n",
    "df_high = df_high.merge(df_out, on='id', how='left')\n",
    "\n",
    "df_all = pd.concat([df_high, df_low], axis=0)"
   ]
  },
  {
   "cell_type": "code",
   "execution_count": 90,
   "metadata": {},
   "outputs": [
    {
     "name": "stdout",
     "output_type": "stream",
     "text": [
      "OOF metric LGBM = 0.58681\n"
     ]
    }
   ],
   "source": [
    "print('OOF metric LGBM = {:.5f}'.format(metrics.mean_squared_error(df_all[df_all['clf_pred']==1][target_col], \n",
    "                                                                   df_all[df_all['clf_pred']==1]['reg pred'],\n",
    "                                                                   squared=False)))"
   ]
  },
  {
   "cell_type": "code",
   "execution_count": 91,
   "metadata": {},
   "outputs": [
    {
     "data": {
      "image/png": "[encoded data removed]",
      "text/plain": [
       "<Figure size 600x600 with 1 Axes>"
      ]
     },
     "metadata": {},
     "output_type": "display_data"
    }
   ],
   "source": [
    "f, ax = plt.subplots(figsize=(6, 6))\n",
    "ax.scatter(df_all[df_all['clf_pred']==1]['reg pred'], df_all[df_all['clf_pred']==1][target_col])\n",
    "add_identity(ax, color='r', ls='--')\n",
    "# ax.scatter(stds, train_scores_df['score']-means)\n",
    "plt.ylabel('True Values')\n",
    "plt.xlabel('Predictions')\n",
    "\n",
    "plt.show()"
   ]
  },
  {
   "cell_type": "code",
   "execution_count": 96,
   "metadata": {},
   "outputs": [],
   "source": [
    "out = pd.read_csv('../lgbm_v2_features0.csv')"
   ]
  },
  {
   "cell_type": "code",
   "execution_count": 98,
   "metadata": {},
   "outputs": [],
   "source": [
    "out = out.merge(df_all, on='id', how='left')\n",
    "out.loc[out['clf_pred']==1, 'pred'] = out.loc[out['clf_pred']==1, 'reg pred']"
   ]
  },
  {
   "cell_type": "code",
   "execution_count": 99,
   "metadata": {},
   "outputs": [
    {
     "name": "stdout",
     "output_type": "stream",
     "text": [
      "OOF metric LGBM = 0.62799\n"
     ]
    }
   ],
   "source": [
    "print('OOF metric LGBM = {:.5f}'.format(metrics.mean_squared_error(out[target_col], \n",
    "                                                                   out['pred'],\n",
    "                                                                   squared=False)))"
   ]
  },
  {
   "cell_type": "code",
   "execution_count": null,
   "metadata": {},
   "outputs": [],
   "source": []
  }
 ],
 "metadata": {
  "kernelspec": {
   "display_name": "Python 3",
   "language": "python",
   "name": "python3"
  },
  "language_info": {
   "codemirror_mode": {
    "name": "ipython",
    "version": 3
   },
   "file_extension": ".py",
   "mimetype": "text/x-python",
   "name": "python",
   "nbconvert_exporter": "python",
   "pygments_lexer": "ipython3",
   "version": "3.10.5"
  }
 },
 "nbformat": 4,
 "nbformat_minor": 2
}
