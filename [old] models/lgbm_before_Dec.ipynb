{
 "cells": [
  {
   "cell_type": "code",
   "execution_count": 1,
   "metadata": {},
   "outputs": [],
   "source": [
    "import gc\n",
    "import os\n",
    "import itertools\n",
    "import pickle\n",
    "import re\n",
    "import time\n",
    "from random import choice, choices\n",
    "from functools import reduce\n",
    "from tqdm import tqdm\n",
    "from itertools import cycle\n",
    "import numpy as np\n",
    "import pandas as pd\n",
    "import seaborn as sns\n",
    "import matplotlib.pyplot as plt\n",
    "from collections import Counter\n",
    "from functools import reduce\n",
    "from itertools import cycle\n",
    "from scipy import stats\n",
    "from scipy.stats import skew, kurtosis\n",
    "from sklearn import metrics, model_selection, preprocessing, linear_model, ensemble, decomposition, tree\n",
    "import lightgbm as lgb\n",
    "import optuna\n",
    "from sklearn.metrics import mean_squared_error\n",
    "from sklearn.model_selection import train_test_split\n",
    "\n",
    "\n",
    "import sys\n",
    "sys.path.append('../')\n",
    "from utils import *"
   ]
  },
  {
   "cell_type": "code",
   "execution_count": 2,
   "metadata": {},
   "outputs": [],
   "source": [
    "is_kaggle = False\n",
    "\n",
    "if is_kaggle:\n",
    "    base_dir = '/kaggle/input'\n",
    "    data_dir = f'{base_dir}/linking-writing-processes-to-writing-quality'\n",
    "    output_dir = '/kaggle/working'\n",
    "else:\n",
    "    base_dir = '../'\n",
    "    data_dir = f'{base_dir}/data'\n",
    "    models_dir = f'{base_dir}/models'"
   ]
  },
  {
   "cell_type": "code",
   "execution_count": 3,
   "metadata": {},
   "outputs": [],
   "source": [
    "train_logs_df = pd.read_csv(f'{data_dir}/train_logs.csv')\n",
    "train_scores_df = pd.read_csv(f'{data_dir}/train_scores.csv')\n",
    "\n",
    "test_logs_df = pd.read_csv(f'{data_dir}/test_logs.csv')"
   ]
  },
  {
   "cell_type": "code",
   "execution_count": 4,
   "metadata": {},
   "outputs": [
    {
     "name": "stderr",
     "output_type": "stream",
     "text": [
      "100%|██████████| 2471/2471 [00:06<00:00, 395.38it/s]\n"
     ]
    }
   ],
   "source": [
    "essayConstructor = EssayConstructor()\n",
    "train_essays = essayConstructor.getEssays(train_logs_df)"
   ]
  },
  {
   "cell_type": "code",
   "execution_count": 5,
   "metadata": {},
   "outputs": [
    {
     "data": {
      "text/html": [
       "<div>\n",
       "<style scoped>\n",
       "    .dataframe tbody tr th:only-of-type {\n",
       "        vertical-align: middle;\n",
       "    }\n",
       "\n",
       "    .dataframe tbody tr th {\n",
       "        vertical-align: top;\n",
       "    }\n",
       "\n",
       "    .dataframe thead th {\n",
       "        text-align: right;\n",
       "    }\n",
       "</style>\n",
       "<table border=\"1\" class=\"dataframe\">\n",
       "  <thead>\n",
       "    <tr style=\"text-align: right;\">\n",
       "      <th></th>\n",
       "      <th>essay</th>\n",
       "    </tr>\n",
       "  </thead>\n",
       "  <tbody>\n",
       "    <tr>\n",
       "      <th>001519c8</th>\n",
       "      <td>qqqqqqqqq qq qqqqq qq qqqq qqqq.  qqqqqq qqq q...</td>\n",
       "    </tr>\n",
       "    <tr>\n",
       "      <th>0022f953</th>\n",
       "      <td>qqqq qq qqqqqqqqqqq ? qq qq qqq qqq qqq, qqqqq...</td>\n",
       "    </tr>\n",
       "    <tr>\n",
       "      <th>0042269b</th>\n",
       "      <td>qqqqqqqqqqq qq qqqqq qqqqqqqqq qq qqqqqqqqqqq ...</td>\n",
       "    </tr>\n",
       "    <tr>\n",
       "      <th>0059420b</th>\n",
       "      <td>qq qqqqqqq qqqqqq qqqqqqqqqqqqq qqqq q qqqq qq...</td>\n",
       "    </tr>\n",
       "    <tr>\n",
       "      <th>0075873a</th>\n",
       "      <td>qqqqqqqqqqq qq qqq qqqqq qq qqqqqqqqqq, qqq qq...</td>\n",
       "    </tr>\n",
       "  </tbody>\n",
       "</table>\n",
       "</div>"
      ],
      "text/plain": [
       "                                                      essay\n",
       "001519c8  qqqqqqqqq qq qqqqq qq qqqq qqqq.  qqqqqq qqq q...\n",
       "0022f953  qqqq qq qqqqqqqqqqq ? qq qq qqq qqq qqq, qqqqq...\n",
       "0042269b  qqqqqqqqqqq qq qqqqq qqqqqqqqq qq qqqqqqqqqqq ...\n",
       "0059420b  qq qqqqqqq qqqqqq qqqqqqqqqqqqq qqqq q qqqq qq...\n",
       "0075873a  qqqqqqqqqqq qq qqq qqqqq qq qqqqqqqqqq, qqq qq..."
      ]
     },
     "execution_count": 5,
     "metadata": {},
     "output_type": "execute_result"
    }
   ],
   "source": [
    "train_essays.index = train_essays[\"id\"]\n",
    "train_essays.index.name = None\n",
    "train_essays.drop(columns=[\"id\"], inplace=True)\n",
    "train_essays.head()"
   ]
  },
  {
   "cell_type": "code",
   "execution_count": 6,
   "metadata": {},
   "outputs": [],
   "source": [
    "# Sentence features for train dataset\n",
    "train_sent_df = split_essays_into_sentences(train_essays)\n",
    "train_sent_agg_df = compute_sentence_aggregations(train_sent_df)"
   ]
  },
  {
   "cell_type": "code",
   "execution_count": 7,
   "metadata": {},
   "outputs": [],
   "source": [
    "# Paragraph features for train dataset\n",
    "train_paragraph_df = split_essays_into_paragraphs(train_essays)\n",
    "train_paragraph_agg_df = compute_paragraph_aggregations(train_paragraph_df)"
   ]
  },
  {
   "cell_type": "code",
   "execution_count": 8,
   "metadata": {},
   "outputs": [
    {
     "name": "stderr",
     "output_type": "stream",
     "text": [
      "100%|██████████| 3/3 [00:00<00:00, 3003.80it/s]\n"
     ]
    }
   ],
   "source": [
    "test_essays = essayConstructor.getEssays(test_logs_df)\n",
    "test_sent_agg_df = compute_sentence_aggregations(split_essays_into_sentences(test_essays))\n",
    "test_paragraph_agg_df = compute_paragraph_aggregations(split_essays_into_paragraphs(test_essays))"
   ]
  },
  {
   "cell_type": "code",
   "execution_count": 9,
   "metadata": {},
   "outputs": [
    {
     "name": "stdout",
     "output_type": "stream",
     "text": [
      "Engineering time data\n",
      "Engineering cursor position data\n",
      "Engineering word count data\n",
      "Engineering statistical summaries for features\n"
     ]
    },
    {
     "name": "stderr",
     "output_type": "stream",
     "text": [
      "100%|██████████| 33/33 [01:55<00:00,  3.49s/it, column=word_count_change100, method=last]       \n"
     ]
    },
    {
     "name": "stdout",
     "output_type": "stream",
     "text": [
      "Engineering activity counts data\n"
     ]
    },
    {
     "name": "stderr",
     "output_type": "stream",
     "text": [
      "100%|██████████| 2471/2471 [00:00<00:00, 9467.35it/s] \n",
      "c:\\Users\\luis.pinto1\\AppData\\Local\\Programs\\Python\\Python310\\lib\\site-packages\\pandas\\core\\arraylike.py:402: RuntimeWarning: divide by zero encountered in log\n",
      "  result = getattr(ufunc, method)(*inputs, **kwargs)\n"
     ]
    },
    {
     "name": "stdout",
     "output_type": "stream",
     "text": [
      "Engineering event counts data\n"
     ]
    },
    {
     "name": "stderr",
     "output_type": "stream",
     "text": [
      "100%|██████████| 2471/2471 [00:00<00:00, 8609.69it/s]\n",
      "c:\\Users\\luis.pinto1\\AppData\\Local\\Programs\\Python\\Python310\\lib\\site-packages\\pandas\\core\\arraylike.py:402: RuntimeWarning: divide by zero encountered in log\n",
      "  result = getattr(ufunc, method)(*inputs, **kwargs)\n",
      "100%|██████████| 2471/2471 [00:00<00:00, 9767.00it/s]\n",
      "c:\\Users\\luis.pinto1\\AppData\\Local\\Programs\\Python\\Python310\\lib\\site-packages\\pandas\\core\\arraylike.py:402: RuntimeWarning: divide by zero encountered in log\n",
      "  result = getattr(ufunc, method)(*inputs, **kwargs)\n"
     ]
    },
    {
     "name": "stdout",
     "output_type": "stream",
     "text": [
      "Engineering text change counts data\n"
     ]
    },
    {
     "name": "stderr",
     "output_type": "stream",
     "text": [
      "100%|██████████| 2471/2471 [00:00<00:00, 10089.85it/s]\n",
      "c:\\Users\\luis.pinto1\\AppData\\Local\\Programs\\Python\\Python310\\lib\\site-packages\\pandas\\core\\arraylike.py:402: RuntimeWarning: divide by zero encountered in log\n",
      "  result = getattr(ufunc, method)(*inputs, **kwargs)\n"
     ]
    },
    {
     "name": "stdout",
     "output_type": "stream",
     "text": [
      "Engineering punctuation counts data\n"
     ]
    },
    {
     "name": "stderr",
     "output_type": "stream",
     "text": [
      "100%|██████████| 2471/2471 [00:00<00:00, 9503.92it/s]\n"
     ]
    },
    {
     "name": "stdout",
     "output_type": "stream",
     "text": [
      "Engineering input words data\n"
     ]
    },
    {
     "name": "stderr",
     "output_type": "stream",
     "text": [
      "c:\\Users\\luis.pinto1\\Documents\\GitHub\\Linking-Writing\\models\\..\\utils.py:382: PerformanceWarning: DataFrame is highly fragmented.  This is usually the result of calling `frame.insert` many times, which has poor performance.  Consider joining all columns at once using pd.concat(axis=1) instead. To get a de-fragmented frame, use `newframe = frame.copy()`\n",
      "  feats['word_time_ratio'] = feats['word_count_max'] / feats['up_time_max']\n",
      "c:\\Users\\luis.pinto1\\Documents\\GitHub\\Linking-Writing\\models\\..\\utils.py:383: PerformanceWarning: DataFrame is highly fragmented.  This is usually the result of calling `frame.insert` many times, which has poor performance.  Consider joining all columns at once using pd.concat(axis=1) instead. To get a de-fragmented frame, use `newframe = frame.copy()`\n",
      "  feats['word_event_ratio'] = feats['word_count_max'] / feats['event_id_max']\n",
      "c:\\Users\\luis.pinto1\\Documents\\GitHub\\Linking-Writing\\models\\..\\utils.py:384: PerformanceWarning: DataFrame is highly fragmented.  This is usually the result of calling `frame.insert` many times, which has poor performance.  Consider joining all columns at once using pd.concat(axis=1) instead. To get a de-fragmented frame, use `newframe = frame.copy()`\n",
      "  feats['event_time_ratio'] = feats['event_id_max']  / feats['up_time_max']\n",
      "c:\\Users\\luis.pinto1\\Documents\\GitHub\\Linking-Writing\\models\\..\\utils.py:385: PerformanceWarning: DataFrame is highly fragmented.  This is usually the result of calling `frame.insert` many times, which has poor performance.  Consider joining all columns at once using pd.concat(axis=1) instead. To get a de-fragmented frame, use `newframe = frame.copy()`\n",
      "  feats['idle_time_ratio'] = feats['action_time_gap1_sum'] / feats['up_time_max']\n"
     ]
    },
    {
     "name": "stdout",
     "output_type": "stream",
     "text": [
      "Engineering ratios data\n",
      "Engineering time data\n",
      "Engineering cursor position data\n",
      "Engineering word count data\n",
      "Engineering statistical summaries for features\n"
     ]
    },
    {
     "name": "stderr",
     "output_type": "stream",
     "text": [
      "100%|██████████| 33/33 [00:02<00:00, 15.78it/s, column=word_count_change100, method=last]       \n"
     ]
    },
    {
     "name": "stdout",
     "output_type": "stream",
     "text": [
      "Engineering activity counts data\n"
     ]
    },
    {
     "name": "stderr",
     "output_type": "stream",
     "text": [
      "100%|██████████| 3/3 [00:00<?, ?it/s]\n",
      "c:\\Users\\luis.pinto1\\AppData\\Local\\Programs\\Python\\Python310\\lib\\site-packages\\pandas\\core\\arraylike.py:402: RuntimeWarning: divide by zero encountered in log\n",
      "  result = getattr(ufunc, method)(*inputs, **kwargs)\n"
     ]
    },
    {
     "name": "stdout",
     "output_type": "stream",
     "text": [
      "Engineering event counts data\n"
     ]
    },
    {
     "name": "stderr",
     "output_type": "stream",
     "text": [
      "100%|██████████| 3/3 [00:00<?, ?it/s]\n",
      "c:\\Users\\luis.pinto1\\AppData\\Local\\Programs\\Python\\Python310\\lib\\site-packages\\pandas\\core\\arraylike.py:402: RuntimeWarning: divide by zero encountered in log\n",
      "  result = getattr(ufunc, method)(*inputs, **kwargs)\n",
      "100%|██████████| 3/3 [00:00<?, ?it/s]\n",
      "c:\\Users\\luis.pinto1\\AppData\\Local\\Programs\\Python\\Python310\\lib\\site-packages\\pandas\\core\\arraylike.py:402: RuntimeWarning: divide by zero encountered in log\n",
      "  result = getattr(ufunc, method)(*inputs, **kwargs)\n"
     ]
    },
    {
     "name": "stdout",
     "output_type": "stream",
     "text": [
      "Engineering text change counts data\n"
     ]
    },
    {
     "name": "stderr",
     "output_type": "stream",
     "text": [
      "100%|██████████| 3/3 [00:00<?, ?it/s]\n",
      "c:\\Users\\luis.pinto1\\AppData\\Local\\Programs\\Python\\Python310\\lib\\site-packages\\pandas\\core\\arraylike.py:402: RuntimeWarning: divide by zero encountered in log\n",
      "  result = getattr(ufunc, method)(*inputs, **kwargs)\n"
     ]
    },
    {
     "name": "stdout",
     "output_type": "stream",
     "text": [
      "Engineering punctuation counts data\n"
     ]
    },
    {
     "name": "stderr",
     "output_type": "stream",
     "text": [
      "100%|██████████| 3/3 [00:00<?, ?it/s]\n",
      "c:\\Users\\luis.pinto1\\Documents\\GitHub\\Linking-Writing\\models\\..\\utils.py:382: PerformanceWarning: DataFrame is highly fragmented.  This is usually the result of calling `frame.insert` many times, which has poor performance.  Consider joining all columns at once using pd.concat(axis=1) instead. To get a de-fragmented frame, use `newframe = frame.copy()`\n",
      "  feats['word_time_ratio'] = feats['word_count_max'] / feats['up_time_max']\n",
      "c:\\Users\\luis.pinto1\\Documents\\GitHub\\Linking-Writing\\models\\..\\utils.py:383: PerformanceWarning: DataFrame is highly fragmented.  This is usually the result of calling `frame.insert` many times, which has poor performance.  Consider joining all columns at once using pd.concat(axis=1) instead. To get a de-fragmented frame, use `newframe = frame.copy()`\n",
      "  feats['word_event_ratio'] = feats['word_count_max'] / feats['event_id_max']\n"
     ]
    },
    {
     "name": "stdout",
     "output_type": "stream",
     "text": [
      "Engineering input words data\n",
      "Engineering ratios data\n"
     ]
    },
    {
     "name": "stderr",
     "output_type": "stream",
     "text": [
      "c:\\Users\\luis.pinto1\\Documents\\GitHub\\Linking-Writing\\models\\..\\utils.py:384: PerformanceWarning: DataFrame is highly fragmented.  This is usually the result of calling `frame.insert` many times, which has poor performance.  Consider joining all columns at once using pd.concat(axis=1) instead. To get a de-fragmented frame, use `newframe = frame.copy()`\n",
      "  feats['event_time_ratio'] = feats['event_id_max']  / feats['up_time_max']\n",
      "c:\\Users\\luis.pinto1\\Documents\\GitHub\\Linking-Writing\\models\\..\\utils.py:385: PerformanceWarning: DataFrame is highly fragmented.  This is usually the result of calling `frame.insert` many times, which has poor performance.  Consider joining all columns at once using pd.concat(axis=1) instead. To get a de-fragmented frame, use `newframe = frame.copy()`\n",
      "  feats['idle_time_ratio'] = feats['action_time_gap1_sum'] / feats['up_time_max']\n"
     ]
    }
   ],
   "source": [
    "preprocessor = Preprocessor(seed=42)\n",
    "train_feats = preprocessor.make_feats(train_logs_df)\n",
    "test_feats = preprocessor.make_feats(test_logs_df)\n",
    "nan_cols = train_feats.columns[train_feats.isna().any()].tolist()\n",
    "train_feats = train_feats.drop(columns=nan_cols)\n",
    "test_feats = test_feats.drop(columns=nan_cols)"
   ]
  },
  {
   "cell_type": "code",
   "execution_count": 10,
   "metadata": {},
   "outputs": [],
   "source": [
    "train_agg_fe_df = train_logs_df.groupby(\"id\")[['down_time', 'up_time', 'action_time', 'cursor_position', 'word_count']].agg(\n",
    "    ['mean', 'std', 'min', 'max', 'last', 'first', 'sem', 'median', 'sum'])\n",
    "train_agg_fe_df.columns = ['_'.join(x) for x in train_agg_fe_df.columns]\n",
    "train_agg_fe_df = train_agg_fe_df.add_prefix(\"tmp_\")\n",
    "train_agg_fe_df.reset_index(inplace=True)\n",
    "\n",
    "test_agg_fe_df = test_logs_df.groupby(\"id\")[['down_time', 'up_time', 'action_time', 'cursor_position', 'word_count']].agg(\n",
    "    ['mean', 'std', 'min', 'max', 'last', 'first', 'sem', 'median', 'sum'])\n",
    "test_agg_fe_df.columns = ['_'.join(x) for x in test_agg_fe_df.columns]\n",
    "test_agg_fe_df = test_agg_fe_df.add_prefix(\"tmp_\")\n",
    "test_agg_fe_df.reset_index(inplace=True)\n",
    "\n",
    "train_feats = train_feats.merge(train_agg_fe_df, on='id', how='left')\n",
    "test_feats = test_feats.merge(test_agg_fe_df, on='id', how='left')"
   ]
  },
  {
   "cell_type": "code",
   "execution_count": 11,
   "metadata": {},
   "outputs": [],
   "source": [
    "# Idea is based on features introduced in Section 3 of this research paper: https://files.eric.ed.gov/fulltext/ED592674.pdf\n",
    "\n",
    "data = []\n",
    "\n",
    "for logs in [train_logs_df, test_logs_df]:\n",
    "    logs['up_time_lagged'] = logs.groupby('id')['up_time'].shift(1).fillna(logs['down_time'])\n",
    "    logs['time_diff'] = abs(logs['down_time'] - logs['up_time_lagged']) / 1000\n",
    "\n",
    "    group = logs.groupby('id')['time_diff']\n",
    "    largest_lantency = group.max()\n",
    "    smallest_lantency = group.min()\n",
    "    median_lantency = group.median()\n",
    "    initial_pause = logs.groupby('id')['down_time'].first() / 1000\n",
    "    pauses_half_sec = group.apply(lambda x: ((x > 0.5) & (x < 1)).sum())\n",
    "    pauses_1_sec = group.apply(lambda x: ((x > 1) & (x < 1.5)).sum())\n",
    "    pauses_1_half_sec = group.apply(lambda x: ((x > 1.5) & (x < 2)).sum())\n",
    "    pauses_2_sec = group.apply(lambda x: ((x > 2) & (x < 3)).sum())\n",
    "    pauses_3_sec = group.apply(lambda x: (x > 3).sum())\n",
    "\n",
    "    data.append(pd.DataFrame({\n",
    "        'id': logs['id'].unique(),\n",
    "        'largest_lantency': largest_lantency,\n",
    "        'smallest_lantency': smallest_lantency,\n",
    "        'median_lantency': median_lantency,\n",
    "        'initial_pause': initial_pause,\n",
    "        'pauses_half_sec': pauses_half_sec,\n",
    "        'pauses_1_sec': pauses_1_sec,\n",
    "        'pauses_1_half_sec': pauses_1_half_sec,\n",
    "        'pauses_2_sec': pauses_2_sec,\n",
    "        'pauses_3_sec': pauses_3_sec,\n",
    "    }).reset_index(drop=True))\n",
    "\n",
    "train_eD592674, test_eD592674 = data\n",
    "\n",
    "train_feats = train_feats.merge(train_eD592674, on='id', how='left')\n",
    "test_feats = test_feats.merge(test_eD592674, on='id', how='left')\n",
    "train_feats = train_feats.merge(train_scores_df, on='id', how='left')"
   ]
  },
  {
   "cell_type": "code",
   "execution_count": 12,
   "metadata": {},
   "outputs": [],
   "source": [
    "# Adding the additional features to the original feature set\n",
    "\n",
    "train_feats = train_feats.merge(train_sent_agg_df, on='id', how='left')\n",
    "train_feats = train_feats.merge(train_paragraph_agg_df, on='id', how='left')\n",
    "# test_feats = test_feats.merge(test_sent_agg_df, on='id', how='left')\n",
    "# test_feats = test_feats.merge(test_paragraph_agg_df, on='id', how='left')"
   ]
  },
  {
   "cell_type": "markdown",
   "metadata": {},
   "source": [
    "## Copy from keyboard notebook"
   ]
  },
  {
   "cell_type": "code",
   "execution_count": 13,
   "metadata": {},
   "outputs": [],
   "source": [
    "# Creates two shift variables which lag the original variable by 1 and 2 periods respectively.\n",
    "event_df = train_logs_df[['id', 'event_id', 'down_event']].copy(deep=True)\n",
    "\n",
    "event_df['down_event_shift_1'] = event_df['down_event'].shift(periods=1)\n",
    "event_df['down_event_shift_2'] = event_df['down_event'].shift(periods=2)\n",
    "\n",
    "event_df = event_df[['id', 'event_id', 'down_event_shift_2', 'down_event_shift_1', 'down_event']]\n",
    "\n",
    "ctrl_left_df = ((event_df['down_event_shift_1'] == 'Control') & (event_df['down_event'] == 'ArrowLeft')).groupby(event_df['id']).sum().reset_index(name='count')\n",
    "ctrl_right_df = ((event_df['down_event_shift_1'] == 'Control') & (event_df['down_event'] == 'ArrowRight')).groupby(event_df['id']).sum().reset_index(name='count')\n",
    "ctrl_shift_left_df = ((event_df['down_event_shift_2'] == 'Control') & (event_df['down_event_shift_1'] == 'Shift') & (event_df['down_event'] == 'ArrowLeft')).groupby(event_df['id']).sum().reset_index(name='count')\n",
    "ctrl_shift_right_df = ((event_df['down_event_shift_2'] == 'Control') & (event_df['down_event_shift_1'] == 'Shift') & (event_df['down_event'] == 'ArrowRight')).groupby(event_df['id']).sum().reset_index(name='count')\n",
    "ctrl_bksp_df = ((event_df['down_event_shift_1'] == 'Control') & (event_df['down_event'] == 'Backspace')).groupby(event_df['id']).sum().reset_index(name='count')\n",
    "ctrl_c_df = ((event_df['down_event_shift_1'] == 'Control') & (event_df['down_event'].str.lower() == 'c')).groupby(event_df['id']).sum().reset_index(name='count')\n",
    "ctrl_v_df = ((event_df['down_event_shift_1'] == 'Control') & (event_df['down_event'].str.lower() == 'v')).groupby(event_df['id']).sum().reset_index(name='count')\n",
    "ctrl_x_df = ((event_df['down_event_shift_1'] == 'Control') & (event_df['down_event'].str.lower() == 'x')).groupby(event_df['id']).sum().reset_index(name='count')\n",
    "\n",
    "# Creating a DataFrame that contains all counts at an id level.\n",
    "\n",
    "kb_shortcut_df = pd.DataFrame(event_df['id'].unique(), columns=['id'])\n",
    "\n",
    "kb_shortcut_df['ctrl_left_cnt'] = ctrl_left_df['count']\n",
    "kb_shortcut_df['ctrl_right_cnt'] = ctrl_right_df['count']\n",
    "kb_shortcut_df['ctrl_shift_left_cnt'] = ctrl_shift_left_df['count']\n",
    "kb_shortcut_df['ctrl_shift_right_cnt'] = ctrl_shift_right_df['count']\n",
    "kb_shortcut_df['ctrl_bksp_cnt'] = ctrl_bksp_df['count']\n",
    "kb_shortcut_df['ctrl_c_cnt'] = ctrl_c_df['count']\n",
    "kb_shortcut_df['ctrl_v_cnt'] = ctrl_v_df['count']\n",
    "kb_shortcut_df['ctrl_x_cnt'] = ctrl_x_df['count']\n",
    "\n",
    "mouse_event_df = pd.DataFrame(train_logs_df['id'].unique(), columns=['id'])\n",
    "\n",
    "# Calculating the proportion of mouse click events\n",
    "mouse_event_df['mouse_event_cnt'] = train_logs_df.groupby(train_logs_df['id'])['down_event'].apply(lambda x: (x.isin(['Leftclick', 'Rightclick', 'Middleclick', 'Unknownclick']).sum())).reset_index()['down_event']\n",
    "\n",
    "mouse_event_df['all_event_cnt'] = train_logs_df.groupby(train_logs_df['id'])['event_id'].max().reset_index()['event_id']\n",
    "\n",
    "mouse_event_df['mouse_event_perc'] = (mouse_event_df['mouse_event_cnt']/mouse_event_df['all_event_cnt'])*100.0\n",
    "\n",
    "# Combining both sets of features into one DataFrame\n",
    "kb_features = ['ctrl_left_cnt', 'ctrl_right_cnt', 'ctrl_shift_left_cnt', 'ctrl_shift_right_cnt', 'ctrl_bksp_cnt', \n",
    "               'ctrl_c_cnt', 'ctrl_v_cnt', 'ctrl_x_cnt']\n",
    "\n",
    "ms_features = ['mouse_event_perc']\n",
    "\n",
    "ms_kb_df = pd.DataFrame(train_logs_df['id'].unique(), columns=['id'])\n",
    "\n",
    "for col in kb_features:\n",
    "    ms_kb_df[col] = kb_shortcut_df[col]\n",
    "\n",
    "for col in ms_features:\n",
    "    ms_kb_df[col] = mouse_event_df[col]\n",
    "    \n",
    "# ms_kb_df['score'] = train_scores_df['score'] "
   ]
  },
  {
   "cell_type": "code",
   "execution_count": 14,
   "metadata": {},
   "outputs": [],
   "source": [
    "train_feats = train_feats.merge(ms_kb_df, on='id', how='left')"
   ]
  },
  {
   "cell_type": "markdown",
   "metadata": {},
   "source": [
    "#### Copy from https://www.kaggle.com/code/magnussesodia/writing-processes-feature-generation"
   ]
  },
  {
   "cell_type": "code",
   "execution_count": 15,
   "metadata": {},
   "outputs": [],
   "source": [
    "X_ = gen_features(train_logs_df)\n",
    "\n",
    "train_feats = train_feats.merge(X_, on='id', how='left')"
   ]
  },
  {
   "cell_type": "markdown",
   "metadata": {},
   "source": [
    "#### Copy from https://www.kaggle.com/code/habedi/baseline-model-with-over-2000-features#2.2-Generating-new-features"
   ]
  },
  {
   "cell_type": "code",
   "execution_count": 16,
   "metadata": {},
   "outputs": [
    {
     "name": "stdout",
     "output_type": "stream",
     "text": [
      "--- Train Logs Feature Engineering ---\n",
      "Engineering time data\n",
      "> for gap 1\n",
      "> for gap 2\n",
      "> for gap 3\n",
      "> for gap 4\n",
      "> for gap 5\n",
      "> for gap 10\n",
      "> for gap 20\n",
      "> for gap 50\n",
      "> for gap 100\n",
      "Engineering cursor position data\n",
      "> for gap 1\n",
      "> for gap 2\n",
      "> for gap 3\n",
      "> for gap 4\n",
      "> for gap 5\n",
      "> for gap 10\n",
      "> for gap 20\n",
      "> for gap 50\n",
      "> for gap 100\n",
      "Engineering word count data\n",
      "> for gap 1\n",
      "> for gap 2\n",
      "> for gap 3\n",
      "> for gap 4\n",
      "> for gap 5\n",
      "> for gap 10\n",
      "> for gap 20\n",
      "> for gap 50\n",
      "> for gap 100\n",
      "\n",
      "=== Making features from numerical features ===\n",
      "--- Making features from: event_count ---\n"
     ]
    },
    {
     "name": "stderr",
     "output_type": "stream",
     "text": [
      "c:\\Users\\luis.pinto1\\AppData\\Local\\Programs\\Python\\Python310\\lib\\site-packages\\pandas\\core\\groupby\\groupby.py:1640: RuntimeWarning: Precision loss occurred in moment calculation due to catastrophic cancellation. This occurs when the data are nearly identical. Results may be unreliable.\n",
      "  f = lambda x: func(x, *args, **kwargs)\n",
      "c:\\Users\\luis.pinto1\\Documents\\GitHub\\Linking-Writing\\models\\..\\utils.py:693: RuntimeWarning: Precision loss occurred in moment calculation due to catastrophic cancellation. This occurs when the data are nearly identical. Results may be unreliable.\n",
      "  lambda x: skew(x.dropna()),  # Skewness with NaN handling\n",
      "c:\\Users\\luis.pinto1\\Documents\\GitHub\\Linking-Writing\\models\\..\\utils.py:694: RuntimeWarning: Precision loss occurred in moment calculation due to catastrophic cancellation. This occurs when the data are nearly identical. Results may be unreliable.\n",
      "  lambda x: kurtosis(x.dropna()),  # Kurtosis with NaN handling\n",
      "c:\\Users\\luis.pinto1\\AppData\\Local\\Programs\\Python\\Python310\\lib\\site-packages\\pandas\\core\\arraylike.py:402: RuntimeWarning: overflow encountered in exp\n",
      "  result = getattr(ufunc, method)(*inputs, **kwargs)\n"
     ]
    },
    {
     "name": "stdout",
     "output_type": "stream",
     "text": [
      "--- Making features from: rolling_std_50 ---\n",
      "--- Making features from: down_time ---\n"
     ]
    },
    {
     "name": "stderr",
     "output_type": "stream",
     "text": [
      "c:\\Users\\luis.pinto1\\AppData\\Local\\Programs\\Python\\Python310\\lib\\site-packages\\pandas\\core\\arraylike.py:402: RuntimeWarning: overflow encountered in exp\n",
      "  result = getattr(ufunc, method)(*inputs, **kwargs)\n"
     ]
    },
    {
     "name": "stdout",
     "output_type": "stream",
     "text": [
      "--- Making features from: time_diff_up_2 ---\n"
     ]
    },
    {
     "name": "stderr",
     "output_type": "stream",
     "text": [
      "c:\\Users\\luis.pinto1\\AppData\\Local\\Programs\\Python\\Python310\\lib\\site-packages\\scipy\\stats\\_stats_py.py:310: RuntimeWarning: invalid value encountered in log\n",
      "  log_a = np.log(a)\n",
      "c:\\Users\\luis.pinto1\\AppData\\Local\\Programs\\Python\\Python310\\lib\\site-packages\\pandas\\core\\arraylike.py:402: RuntimeWarning: overflow encountered in exp\n",
      "  result = getattr(ufunc, method)(*inputs, **kwargs)\n"
     ]
    },
    {
     "name": "stdout",
     "output_type": "stream",
     "text": [
      "--- Making features from: time_diff_down_1 ---\n"
     ]
    },
    {
     "name": "stderr",
     "output_type": "stream",
     "text": [
      "c:\\Users\\luis.pinto1\\AppData\\Local\\Programs\\Python\\Python310\\lib\\site-packages\\scipy\\stats\\_stats_py.py:310: RuntimeWarning: invalid value encountered in log\n",
      "  log_a = np.log(a)\n",
      "c:\\Users\\luis.pinto1\\AppData\\Local\\Programs\\Python\\Python310\\lib\\site-packages\\pandas\\core\\arraylike.py:402: RuntimeWarning: overflow encountered in exp\n",
      "  result = getattr(ufunc, method)(*inputs, **kwargs)\n"
     ]
    },
    {
     "name": "stdout",
     "output_type": "stream",
     "text": [
      "--- Making features from: max_action_time ---\n"
     ]
    },
    {
     "name": "stderr",
     "output_type": "stream",
     "text": [
      "c:\\Users\\luis.pinto1\\AppData\\Local\\Programs\\Python\\Python310\\lib\\site-packages\\pandas\\core\\groupby\\groupby.py:1640: RuntimeWarning: Precision loss occurred in moment calculation due to catastrophic cancellation. This occurs when the data are nearly identical. Results may be unreliable.\n",
      "  f = lambda x: func(x, *args, **kwargs)\n",
      "c:\\Users\\luis.pinto1\\Documents\\GitHub\\Linking-Writing\\models\\..\\utils.py:693: RuntimeWarning: Precision loss occurred in moment calculation due to catastrophic cancellation. This occurs when the data are nearly identical. Results may be unreliable.\n",
      "  lambda x: skew(x.dropna()),  # Skewness with NaN handling\n",
      "c:\\Users\\luis.pinto1\\Documents\\GitHub\\Linking-Writing\\models\\..\\utils.py:694: RuntimeWarning: Precision loss occurred in moment calculation due to catastrophic cancellation. This occurs when the data are nearly identical. Results may be unreliable.\n",
      "  lambda x: kurtosis(x.dropna()),  # Kurtosis with NaN handling\n"
     ]
    },
    {
     "name": "stdout",
     "output_type": "stream",
     "text": [
      "--- Making features from: rolling_std_20 ---\n",
      "--- Making features from: rolling_std_10 ---\n",
      "--- Making features from: action_time_sec ---\n",
      "--- Making features from: rolling_std_5 ---\n",
      "--- Making features from: action_time ---\n"
     ]
    },
    {
     "name": "stderr",
     "output_type": "stream",
     "text": [
      "c:\\Users\\luis.pinto1\\AppData\\Local\\Programs\\Python\\Python310\\lib\\site-packages\\pandas\\core\\arraylike.py:402: RuntimeWarning: overflow encountered in exp\n",
      "  result = getattr(ufunc, method)(*inputs, **kwargs)\n"
     ]
    },
    {
     "name": "stdout",
     "output_type": "stream",
     "text": [
      "--- Making features from: time_diff_down_10 ---\n"
     ]
    },
    {
     "name": "stderr",
     "output_type": "stream",
     "text": [
      "c:\\Users\\luis.pinto1\\AppData\\Local\\Programs\\Python\\Python310\\lib\\site-packages\\scipy\\stats\\_stats_py.py:310: RuntimeWarning: invalid value encountered in log\n",
      "  log_a = np.log(a)\n",
      "c:\\Users\\luis.pinto1\\AppData\\Local\\Programs\\Python\\Python310\\lib\\site-packages\\numpy\\core\\fromnumeric.py:86: RuntimeWarning: overflow encountered in reduce\n",
      "  return ufunc.reduce(obj, axis, dtype, out, **passkwargs)\n",
      "c:\\Users\\luis.pinto1\\AppData\\Local\\Programs\\Python\\Python310\\lib\\site-packages\\pandas\\core\\arraylike.py:402: RuntimeWarning: overflow encountered in exp\n",
      "  result = getattr(ufunc, method)(*inputs, **kwargs)\n"
     ]
    },
    {
     "name": "stdout",
     "output_type": "stream",
     "text": [
      "--- Making features from: cumulative_action_time ---\n"
     ]
    },
    {
     "name": "stderr",
     "output_type": "stream",
     "text": [
      "c:\\Users\\luis.pinto1\\AppData\\Local\\Programs\\Python\\Python310\\lib\\site-packages\\numpy\\core\\fromnumeric.py:86: RuntimeWarning: overflow encountered in reduce\n",
      "  return ufunc.reduce(obj, axis, dtype, out, **passkwargs)\n",
      "c:\\Users\\luis.pinto1\\AppData\\Local\\Programs\\Python\\Python310\\lib\\site-packages\\pandas\\core\\arraylike.py:402: RuntimeWarning: overflow encountered in exp\n",
      "  result = getattr(ufunc, method)(*inputs, **kwargs)\n"
     ]
    },
    {
     "name": "stdout",
     "output_type": "stream",
     "text": [
      "--- Making features from: time_diff_up_5 ---\n"
     ]
    },
    {
     "name": "stderr",
     "output_type": "stream",
     "text": [
      "c:\\Users\\luis.pinto1\\AppData\\Local\\Programs\\Python\\Python310\\lib\\site-packages\\scipy\\stats\\_stats_py.py:310: RuntimeWarning: invalid value encountered in log\n",
      "  log_a = np.log(a)\n",
      "c:\\Users\\luis.pinto1\\AppData\\Local\\Programs\\Python\\Python310\\lib\\site-packages\\numpy\\core\\fromnumeric.py:86: RuntimeWarning: overflow encountered in reduce\n",
      "  return ufunc.reduce(obj, axis, dtype, out, **passkwargs)\n",
      "c:\\Users\\luis.pinto1\\AppData\\Local\\Programs\\Python\\Python310\\lib\\site-packages\\pandas\\core\\arraylike.py:402: RuntimeWarning: overflow encountered in exp\n",
      "  result = getattr(ufunc, method)(*inputs, **kwargs)\n"
     ]
    },
    {
     "name": "stdout",
     "output_type": "stream",
     "text": [
      "--- Making features from: cursor_position ---\n"
     ]
    },
    {
     "name": "stderr",
     "output_type": "stream",
     "text": [
      "c:\\Users\\luis.pinto1\\AppData\\Local\\Programs\\Python\\Python310\\lib\\site-packages\\pandas\\core\\arraylike.py:402: RuntimeWarning: overflow encountered in exp\n",
      "  result = getattr(ufunc, method)(*inputs, **kwargs)\n"
     ]
    },
    {
     "name": "stdout",
     "output_type": "stream",
     "text": [
      "--- Making features from: mean_action_time ---\n"
     ]
    },
    {
     "name": "stderr",
     "output_type": "stream",
     "text": [
      "c:\\Users\\luis.pinto1\\AppData\\Local\\Programs\\Python\\Python310\\lib\\site-packages\\pandas\\core\\groupby\\groupby.py:1640: RuntimeWarning: Precision loss occurred in moment calculation due to catastrophic cancellation. This occurs when the data are nearly identical. Results may be unreliable.\n",
      "  f = lambda x: func(x, *args, **kwargs)\n",
      "c:\\Users\\luis.pinto1\\Documents\\GitHub\\Linking-Writing\\models\\..\\utils.py:693: RuntimeWarning: Precision loss occurred in moment calculation due to catastrophic cancellation. This occurs when the data are nearly identical. Results may be unreliable.\n",
      "  lambda x: skew(x.dropna()),  # Skewness with NaN handling\n",
      "c:\\Users\\luis.pinto1\\Documents\\GitHub\\Linking-Writing\\models\\..\\utils.py:694: RuntimeWarning: Precision loss occurred in moment calculation due to catastrophic cancellation. This occurs when the data are nearly identical. Results may be unreliable.\n",
      "  lambda x: kurtosis(x.dropna()),  # Kurtosis with NaN handling\n"
     ]
    },
    {
     "name": "stdout",
     "output_type": "stream",
     "text": [
      "--- Making features from: time_diff_up_1 ---\n"
     ]
    },
    {
     "name": "stderr",
     "output_type": "stream",
     "text": [
      "c:\\Users\\luis.pinto1\\AppData\\Local\\Programs\\Python\\Python310\\lib\\site-packages\\scipy\\stats\\_stats_py.py:310: RuntimeWarning: invalid value encountered in log\n",
      "  log_a = np.log(a)\n",
      "c:\\Users\\luis.pinto1\\AppData\\Local\\Programs\\Python\\Python310\\lib\\site-packages\\pandas\\core\\arraylike.py:402: RuntimeWarning: overflow encountered in exp\n",
      "  result = getattr(ufunc, method)(*inputs, **kwargs)\n"
     ]
    },
    {
     "name": "stdout",
     "output_type": "stream",
     "text": [
      "--- Making features from: min_action_time ---\n"
     ]
    },
    {
     "name": "stderr",
     "output_type": "stream",
     "text": [
      "c:\\Users\\luis.pinto1\\AppData\\Local\\Programs\\Python\\Python310\\lib\\site-packages\\pandas\\core\\groupby\\groupby.py:1640: RuntimeWarning: Precision loss occurred in moment calculation due to catastrophic cancellation. This occurs when the data are nearly identical. Results may be unreliable.\n",
      "  f = lambda x: func(x, *args, **kwargs)\n",
      "c:\\Users\\luis.pinto1\\Documents\\GitHub\\Linking-Writing\\models\\..\\utils.py:693: RuntimeWarning: Precision loss occurred in moment calculation due to catastrophic cancellation. This occurs when the data are nearly identical. Results may be unreliable.\n",
      "  lambda x: skew(x.dropna()),  # Skewness with NaN handling\n",
      "c:\\Users\\luis.pinto1\\Documents\\GitHub\\Linking-Writing\\models\\..\\utils.py:694: RuntimeWarning: Precision loss occurred in moment calculation due to catastrophic cancellation. This occurs when the data are nearly identical. Results may be unreliable.\n",
      "  lambda x: kurtosis(x.dropna()),  # Kurtosis with NaN handling\n"
     ]
    },
    {
     "name": "stdout",
     "output_type": "stream",
     "text": [
      "--- Making features from: time_diff_down_3 ---\n"
     ]
    },
    {
     "name": "stderr",
     "output_type": "stream",
     "text": [
      "c:\\Users\\luis.pinto1\\AppData\\Local\\Programs\\Python\\Python310\\lib\\site-packages\\scipy\\stats\\_stats_py.py:310: RuntimeWarning: invalid value encountered in log\n",
      "  log_a = np.log(a)\n",
      "c:\\Users\\luis.pinto1\\AppData\\Local\\Programs\\Python\\Python310\\lib\\site-packages\\numpy\\core\\fromnumeric.py:86: RuntimeWarning: overflow encountered in reduce\n",
      "  return ufunc.reduce(obj, axis, dtype, out, **passkwargs)\n",
      "c:\\Users\\luis.pinto1\\AppData\\Local\\Programs\\Python\\Python310\\lib\\site-packages\\pandas\\core\\arraylike.py:402: RuntimeWarning: overflow encountered in exp\n",
      "  result = getattr(ufunc, method)(*inputs, **kwargs)\n"
     ]
    },
    {
     "name": "stdout",
     "output_type": "stream",
     "text": [
      "--- Making features from: word_count ---\n"
     ]
    },
    {
     "name": "stderr",
     "output_type": "stream",
     "text": [
      "c:\\Users\\luis.pinto1\\AppData\\Local\\Programs\\Python\\Python310\\lib\\site-packages\\pandas\\core\\arraylike.py:402: RuntimeWarning: overflow encountered in exp\n",
      "  result = getattr(ufunc, method)(*inputs, **kwargs)\n"
     ]
    },
    {
     "name": "stdout",
     "output_type": "stream",
     "text": [
      "--- Making features from: total_word_count ---\n"
     ]
    },
    {
     "name": "stderr",
     "output_type": "stream",
     "text": [
      "c:\\Users\\luis.pinto1\\AppData\\Local\\Programs\\Python\\Python310\\lib\\site-packages\\pandas\\core\\groupby\\groupby.py:1640: RuntimeWarning: Precision loss occurred in moment calculation due to catastrophic cancellation. This occurs when the data are nearly identical. Results may be unreliable.\n",
      "  f = lambda x: func(x, *args, **kwargs)\n",
      "c:\\Users\\luis.pinto1\\Documents\\GitHub\\Linking-Writing\\models\\..\\utils.py:693: RuntimeWarning: Precision loss occurred in moment calculation due to catastrophic cancellation. This occurs when the data are nearly identical. Results may be unreliable.\n",
      "  lambda x: skew(x.dropna()),  # Skewness with NaN handling\n",
      "c:\\Users\\luis.pinto1\\Documents\\GitHub\\Linking-Writing\\models\\..\\utils.py:694: RuntimeWarning: Precision loss occurred in moment calculation due to catastrophic cancellation. This occurs when the data are nearly identical. Results may be unreliable.\n",
      "  lambda x: kurtosis(x.dropna()),  # Kurtosis with NaN handling\n",
      "c:\\Users\\luis.pinto1\\AppData\\Local\\Programs\\Python\\Python310\\lib\\site-packages\\pandas\\core\\arraylike.py:402: RuntimeWarning: overflow encountered in exp\n",
      "  result = getattr(ufunc, method)(*inputs, **kwargs)\n"
     ]
    },
    {
     "name": "stdout",
     "output_type": "stream",
     "text": [
      "--- Making features from: event_id ---\n"
     ]
    },
    {
     "name": "stderr",
     "output_type": "stream",
     "text": [
      "c:\\Users\\luis.pinto1\\AppData\\Local\\Programs\\Python\\Python310\\lib\\site-packages\\pandas\\core\\arraylike.py:402: RuntimeWarning: overflow encountered in exp\n",
      "  result = getattr(ufunc, method)(*inputs, **kwargs)\n"
     ]
    },
    {
     "name": "stdout",
     "output_type": "stream",
     "text": [
      "--- Making features from: rolling_mean_50 ---\n",
      "--- Making features from: time_diff_down_5 ---\n"
     ]
    },
    {
     "name": "stderr",
     "output_type": "stream",
     "text": [
      "c:\\Users\\luis.pinto1\\AppData\\Local\\Programs\\Python\\Python310\\lib\\site-packages\\scipy\\stats\\_stats_py.py:310: RuntimeWarning: invalid value encountered in log\n",
      "  log_a = np.log(a)\n",
      "c:\\Users\\luis.pinto1\\AppData\\Local\\Programs\\Python\\Python310\\lib\\site-packages\\numpy\\core\\fromnumeric.py:86: RuntimeWarning: overflow encountered in reduce\n",
      "  return ufunc.reduce(obj, axis, dtype, out, **passkwargs)\n",
      "c:\\Users\\luis.pinto1\\AppData\\Local\\Programs\\Python\\Python310\\lib\\site-packages\\pandas\\core\\arraylike.py:402: RuntimeWarning: overflow encountered in exp\n",
      "  result = getattr(ufunc, method)(*inputs, **kwargs)\n"
     ]
    },
    {
     "name": "stdout",
     "output_type": "stream",
     "text": [
      "--- Making features from: rolling_mean_15 ---\n",
      "--- Making features from: rolling_mean_20 ---\n",
      "--- Making features from: time_diff_up_10 ---\n"
     ]
    },
    {
     "name": "stderr",
     "output_type": "stream",
     "text": [
      "c:\\Users\\luis.pinto1\\AppData\\Local\\Programs\\Python\\Python310\\lib\\site-packages\\scipy\\stats\\_stats_py.py:310: RuntimeWarning: invalid value encountered in log\n",
      "  log_a = np.log(a)\n",
      "c:\\Users\\luis.pinto1\\AppData\\Local\\Programs\\Python\\Python310\\lib\\site-packages\\numpy\\core\\fromnumeric.py:86: RuntimeWarning: overflow encountered in reduce\n",
      "  return ufunc.reduce(obj, axis, dtype, out, **passkwargs)\n",
      "c:\\Users\\luis.pinto1\\AppData\\Local\\Programs\\Python\\Python310\\lib\\site-packages\\pandas\\core\\arraylike.py:402: RuntimeWarning: overflow encountered in exp\n",
      "  result = getattr(ufunc, method)(*inputs, **kwargs)\n"
     ]
    },
    {
     "name": "stdout",
     "output_type": "stream",
     "text": [
      "--- Making features from: up_time ---\n"
     ]
    },
    {
     "name": "stderr",
     "output_type": "stream",
     "text": [
      "c:\\Users\\luis.pinto1\\AppData\\Local\\Programs\\Python\\Python310\\lib\\site-packages\\pandas\\core\\arraylike.py:402: RuntimeWarning: overflow encountered in exp\n",
      "  result = getattr(ufunc, method)(*inputs, **kwargs)\n"
     ]
    },
    {
     "name": "stdout",
     "output_type": "stream",
     "text": [
      "--- Making features from: rolling_std_15 ---\n",
      "--- Making features from: rolling_std_30 ---\n",
      "--- Making features from: time_since_last_event ---\n"
     ]
    },
    {
     "name": "stderr",
     "output_type": "stream",
     "text": [
      "c:\\Users\\luis.pinto1\\AppData\\Local\\Programs\\Python\\Python310\\lib\\site-packages\\scipy\\stats\\_stats_py.py:310: RuntimeWarning: invalid value encountered in log\n",
      "  log_a = np.log(a)\n",
      "c:\\Users\\luis.pinto1\\AppData\\Local\\Programs\\Python\\Python310\\lib\\site-packages\\pandas\\core\\arraylike.py:402: RuntimeWarning: overflow encountered in exp\n",
      "  result = getattr(ufunc, method)(*inputs, **kwargs)\n"
     ]
    },
    {
     "name": "stdout",
     "output_type": "stream",
     "text": [
      "--- Making features from: rolling_mean_5 ---\n",
      "--- Making features from: std_action_time ---\n"
     ]
    },
    {
     "name": "stderr",
     "output_type": "stream",
     "text": [
      "c:\\Users\\luis.pinto1\\AppData\\Local\\Programs\\Python\\Python310\\lib\\site-packages\\pandas\\core\\groupby\\groupby.py:1640: RuntimeWarning: Precision loss occurred in moment calculation due to catastrophic cancellation. This occurs when the data are nearly identical. Results may be unreliable.\n",
      "  f = lambda x: func(x, *args, **kwargs)\n",
      "c:\\Users\\luis.pinto1\\Documents\\GitHub\\Linking-Writing\\models\\..\\utils.py:693: RuntimeWarning: Precision loss occurred in moment calculation due to catastrophic cancellation. This occurs when the data are nearly identical. Results may be unreliable.\n",
      "  lambda x: skew(x.dropna()),  # Skewness with NaN handling\n",
      "c:\\Users\\luis.pinto1\\Documents\\GitHub\\Linking-Writing\\models\\..\\utils.py:694: RuntimeWarning: Precision loss occurred in moment calculation due to catastrophic cancellation. This occurs when the data are nearly identical. Results may be unreliable.\n",
      "  lambda x: kurtosis(x.dropna()),  # Kurtosis with NaN handling\n"
     ]
    },
    {
     "name": "stdout",
     "output_type": "stream",
     "text": [
      "--- Making features from: rolling_mean_10 ---\n",
      "--- Making features from: rolling_mean_30 ---\n",
      "--- Making features from: time_diff_down_2 ---\n"
     ]
    },
    {
     "name": "stderr",
     "output_type": "stream",
     "text": [
      "c:\\Users\\luis.pinto1\\AppData\\Local\\Programs\\Python\\Python310\\lib\\site-packages\\scipy\\stats\\_stats_py.py:310: RuntimeWarning: invalid value encountered in log\n",
      "  log_a = np.log(a)\n",
      "c:\\Users\\luis.pinto1\\AppData\\Local\\Programs\\Python\\Python310\\lib\\site-packages\\pandas\\core\\arraylike.py:402: RuntimeWarning: overflow encountered in exp\n",
      "  result = getattr(ufunc, method)(*inputs, **kwargs)\n"
     ]
    },
    {
     "name": "stdout",
     "output_type": "stream",
     "text": [
      "--- Making features from: time_diff_up_3 ---\n"
     ]
    },
    {
     "name": "stderr",
     "output_type": "stream",
     "text": [
      "c:\\Users\\luis.pinto1\\AppData\\Local\\Programs\\Python\\Python310\\lib\\site-packages\\scipy\\stats\\_stats_py.py:310: RuntimeWarning: invalid value encountered in log\n",
      "  log_a = np.log(a)\n",
      "c:\\Users\\luis.pinto1\\AppData\\Local\\Programs\\Python\\Python310\\lib\\site-packages\\numpy\\core\\fromnumeric.py:86: RuntimeWarning: overflow encountered in reduce\n",
      "  return ufunc.reduce(obj, axis, dtype, out, **passkwargs)\n",
      "c:\\Users\\luis.pinto1\\AppData\\Local\\Programs\\Python\\Python310\\lib\\site-packages\\pandas\\core\\arraylike.py:402: RuntimeWarning: overflow encountered in exp\n",
      "  result = getattr(ufunc, method)(*inputs, **kwargs)\n"
     ]
    },
    {
     "name": "stdout",
     "output_type": "stream",
     "text": [
      "--- Making features from: action_time_gap1 ---\n"
     ]
    },
    {
     "name": "stderr",
     "output_type": "stream",
     "text": [
      "c:\\Users\\luis.pinto1\\AppData\\Local\\Programs\\Python\\Python310\\lib\\site-packages\\scipy\\stats\\_stats_py.py:310: RuntimeWarning: invalid value encountered in log\n",
      "  log_a = np.log(a)\n",
      "c:\\Users\\luis.pinto1\\AppData\\Local\\Programs\\Python\\Python310\\lib\\site-packages\\numpy\\core\\fromnumeric.py:86: RuntimeWarning: overflow encountered in reduce\n",
      "  return ufunc.reduce(obj, axis, dtype, out, **passkwargs)\n",
      "c:\\Users\\luis.pinto1\\AppData\\Local\\Programs\\Python\\Python310\\lib\\site-packages\\numpy\\core\\fromnumeric.py:86: RuntimeWarning: invalid value encountered in reduce\n",
      "  return ufunc.reduce(obj, axis, dtype, out, **passkwargs)\n",
      "c:\\Users\\luis.pinto1\\AppData\\Local\\Programs\\Python\\Python310\\lib\\site-packages\\pandas\\core\\arraylike.py:402: RuntimeWarning: overflow encountered in exp\n",
      "  result = getattr(ufunc, method)(*inputs, **kwargs)\n"
     ]
    },
    {
     "name": "stdout",
     "output_type": "stream",
     "text": [
      "--- Making features from: action_time_gap2 ---\n"
     ]
    },
    {
     "name": "stderr",
     "output_type": "stream",
     "text": [
      "c:\\Users\\luis.pinto1\\AppData\\Local\\Programs\\Python\\Python310\\lib\\site-packages\\scipy\\stats\\_stats_py.py:310: RuntimeWarning: invalid value encountered in log\n",
      "  log_a = np.log(a)\n",
      "c:\\Users\\luis.pinto1\\AppData\\Local\\Programs\\Python\\Python310\\lib\\site-packages\\numpy\\core\\fromnumeric.py:86: RuntimeWarning: overflow encountered in reduce\n",
      "  return ufunc.reduce(obj, axis, dtype, out, **passkwargs)\n",
      "c:\\Users\\luis.pinto1\\AppData\\Local\\Programs\\Python\\Python310\\lib\\site-packages\\numpy\\core\\fromnumeric.py:86: RuntimeWarning: invalid value encountered in reduce\n",
      "  return ufunc.reduce(obj, axis, dtype, out, **passkwargs)\n",
      "c:\\Users\\luis.pinto1\\AppData\\Local\\Programs\\Python\\Python310\\lib\\site-packages\\pandas\\core\\arraylike.py:402: RuntimeWarning: overflow encountered in exp\n",
      "  result = getattr(ufunc, method)(*inputs, **kwargs)\n"
     ]
    },
    {
     "name": "stdout",
     "output_type": "stream",
     "text": [
      "--- Making features from: action_time_gap3 ---\n"
     ]
    },
    {
     "name": "stderr",
     "output_type": "stream",
     "text": [
      "c:\\Users\\luis.pinto1\\AppData\\Local\\Programs\\Python\\Python310\\lib\\site-packages\\scipy\\stats\\_stats_py.py:310: RuntimeWarning: invalid value encountered in log\n",
      "  log_a = np.log(a)\n",
      "c:\\Users\\luis.pinto1\\AppData\\Local\\Programs\\Python\\Python310\\lib\\site-packages\\numpy\\core\\fromnumeric.py:86: RuntimeWarning: overflow encountered in reduce\n",
      "  return ufunc.reduce(obj, axis, dtype, out, **passkwargs)\n",
      "c:\\Users\\luis.pinto1\\AppData\\Local\\Programs\\Python\\Python310\\lib\\site-packages\\pandas\\core\\arraylike.py:402: RuntimeWarning: overflow encountered in exp\n",
      "  result = getattr(ufunc, method)(*inputs, **kwargs)\n"
     ]
    },
    {
     "name": "stdout",
     "output_type": "stream",
     "text": [
      "--- Making features from: action_time_gap4 ---\n"
     ]
    },
    {
     "name": "stderr",
     "output_type": "stream",
     "text": [
      "c:\\Users\\luis.pinto1\\AppData\\Local\\Programs\\Python\\Python310\\lib\\site-packages\\scipy\\stats\\_stats_py.py:310: RuntimeWarning: invalid value encountered in log\n",
      "  log_a = np.log(a)\n",
      "c:\\Users\\luis.pinto1\\AppData\\Local\\Programs\\Python\\Python310\\lib\\site-packages\\numpy\\core\\fromnumeric.py:86: RuntimeWarning: overflow encountered in reduce\n",
      "  return ufunc.reduce(obj, axis, dtype, out, **passkwargs)\n",
      "c:\\Users\\luis.pinto1\\AppData\\Local\\Programs\\Python\\Python310\\lib\\site-packages\\pandas\\core\\arraylike.py:402: RuntimeWarning: overflow encountered in exp\n",
      "  result = getattr(ufunc, method)(*inputs, **kwargs)\n"
     ]
    },
    {
     "name": "stdout",
     "output_type": "stream",
     "text": [
      "--- Making features from: action_time_gap5 ---\n"
     ]
    },
    {
     "name": "stderr",
     "output_type": "stream",
     "text": [
      "c:\\Users\\luis.pinto1\\AppData\\Local\\Programs\\Python\\Python310\\lib\\site-packages\\scipy\\stats\\_stats_py.py:310: RuntimeWarning: invalid value encountered in log\n",
      "  log_a = np.log(a)\n",
      "c:\\Users\\luis.pinto1\\AppData\\Local\\Programs\\Python\\Python310\\lib\\site-packages\\numpy\\core\\fromnumeric.py:86: RuntimeWarning: overflow encountered in reduce\n",
      "  return ufunc.reduce(obj, axis, dtype, out, **passkwargs)\n",
      "c:\\Users\\luis.pinto1\\AppData\\Local\\Programs\\Python\\Python310\\lib\\site-packages\\pandas\\core\\arraylike.py:402: RuntimeWarning: overflow encountered in exp\n",
      "  result = getattr(ufunc, method)(*inputs, **kwargs)\n"
     ]
    },
    {
     "name": "stdout",
     "output_type": "stream",
     "text": [
      "--- Making features from: action_time_gap10 ---\n"
     ]
    },
    {
     "name": "stderr",
     "output_type": "stream",
     "text": [
      "c:\\Users\\luis.pinto1\\AppData\\Local\\Programs\\Python\\Python310\\lib\\site-packages\\scipy\\stats\\_stats_py.py:310: RuntimeWarning: invalid value encountered in log\n",
      "  log_a = np.log(a)\n",
      "c:\\Users\\luis.pinto1\\AppData\\Local\\Programs\\Python\\Python310\\lib\\site-packages\\numpy\\core\\fromnumeric.py:86: RuntimeWarning: overflow encountered in reduce\n",
      "  return ufunc.reduce(obj, axis, dtype, out, **passkwargs)\n",
      "c:\\Users\\luis.pinto1\\AppData\\Local\\Programs\\Python\\Python310\\lib\\site-packages\\pandas\\core\\arraylike.py:402: RuntimeWarning: overflow encountered in exp\n",
      "  result = getattr(ufunc, method)(*inputs, **kwargs)\n"
     ]
    },
    {
     "name": "stdout",
     "output_type": "stream",
     "text": [
      "--- Making features from: action_time_gap20 ---\n"
     ]
    },
    {
     "name": "stderr",
     "output_type": "stream",
     "text": [
      "c:\\Users\\luis.pinto1\\AppData\\Local\\Programs\\Python\\Python310\\lib\\site-packages\\scipy\\stats\\_stats_py.py:310: RuntimeWarning: invalid value encountered in log\n",
      "  log_a = np.log(a)\n",
      "c:\\Users\\luis.pinto1\\AppData\\Local\\Programs\\Python\\Python310\\lib\\site-packages\\numpy\\core\\fromnumeric.py:86: RuntimeWarning: overflow encountered in reduce\n",
      "  return ufunc.reduce(obj, axis, dtype, out, **passkwargs)\n",
      "c:\\Users\\luis.pinto1\\AppData\\Local\\Programs\\Python\\Python310\\lib\\site-packages\\pandas\\core\\arraylike.py:402: RuntimeWarning: overflow encountered in exp\n",
      "  result = getattr(ufunc, method)(*inputs, **kwargs)\n"
     ]
    },
    {
     "name": "stdout",
     "output_type": "stream",
     "text": [
      "--- Making features from: action_time_gap50 ---\n"
     ]
    },
    {
     "name": "stderr",
     "output_type": "stream",
     "text": [
      "c:\\Users\\luis.pinto1\\AppData\\Local\\Programs\\Python\\Python310\\lib\\site-packages\\scipy\\stats\\_stats_py.py:310: RuntimeWarning: invalid value encountered in log\n",
      "  log_a = np.log(a)\n",
      "c:\\Users\\luis.pinto1\\AppData\\Local\\Programs\\Python\\Python310\\lib\\site-packages\\numpy\\core\\fromnumeric.py:86: RuntimeWarning: overflow encountered in reduce\n",
      "  return ufunc.reduce(obj, axis, dtype, out, **passkwargs)\n",
      "c:\\Users\\luis.pinto1\\AppData\\Local\\Programs\\Python\\Python310\\lib\\site-packages\\pandas\\core\\arraylike.py:402: RuntimeWarning: overflow encountered in exp\n",
      "  result = getattr(ufunc, method)(*inputs, **kwargs)\n"
     ]
    },
    {
     "name": "stdout",
     "output_type": "stream",
     "text": [
      "--- Making features from: action_time_gap100 ---\n"
     ]
    },
    {
     "name": "stderr",
     "output_type": "stream",
     "text": [
      "c:\\Users\\luis.pinto1\\AppData\\Local\\Programs\\Python\\Python310\\lib\\site-packages\\scipy\\stats\\_stats_py.py:310: RuntimeWarning: invalid value encountered in log\n",
      "  log_a = np.log(a)\n",
      "c:\\Users\\luis.pinto1\\AppData\\Local\\Programs\\Python\\Python310\\lib\\site-packages\\numpy\\core\\fromnumeric.py:86: RuntimeWarning: overflow encountered in reduce\n",
      "  return ufunc.reduce(obj, axis, dtype, out, **passkwargs)\n",
      "c:\\Users\\luis.pinto1\\AppData\\Local\\Programs\\Python\\Python310\\lib\\site-packages\\pandas\\core\\arraylike.py:402: RuntimeWarning: overflow encountered in exp\n",
      "  result = getattr(ufunc, method)(*inputs, **kwargs)\n"
     ]
    },
    {
     "name": "stdout",
     "output_type": "stream",
     "text": [
      "--- Making features from: cursor_position_change1 ---\n"
     ]
    },
    {
     "name": "stderr",
     "output_type": "stream",
     "text": [
      "c:\\Users\\luis.pinto1\\AppData\\Local\\Programs\\Python\\Python310\\lib\\site-packages\\scipy\\stats\\_stats_py.py:310: RuntimeWarning: invalid value encountered in log\n",
      "  log_a = np.log(a)\n",
      "c:\\Users\\luis.pinto1\\AppData\\Local\\Programs\\Python\\Python310\\lib\\site-packages\\numpy\\core\\fromnumeric.py:86: RuntimeWarning: overflow encountered in reduce\n",
      "  return ufunc.reduce(obj, axis, dtype, out, **passkwargs)\n",
      "c:\\Users\\luis.pinto1\\AppData\\Local\\Programs\\Python\\Python310\\lib\\site-packages\\numpy\\core\\fromnumeric.py:86: RuntimeWarning: invalid value encountered in reduce\n",
      "  return ufunc.reduce(obj, axis, dtype, out, **passkwargs)\n",
      "c:\\Users\\luis.pinto1\\AppData\\Local\\Programs\\Python\\Python310\\lib\\site-packages\\pandas\\core\\arraylike.py:402: RuntimeWarning: overflow encountered in exp\n",
      "  result = getattr(ufunc, method)(*inputs, **kwargs)\n"
     ]
    },
    {
     "name": "stdout",
     "output_type": "stream",
     "text": [
      "--- Making features from: cursor_position_abs_change1 ---\n"
     ]
    },
    {
     "name": "stderr",
     "output_type": "stream",
     "text": [
      "c:\\Users\\luis.pinto1\\AppData\\Local\\Programs\\Python\\Python310\\lib\\site-packages\\pandas\\core\\arraylike.py:402: RuntimeWarning: overflow encountered in exp\n",
      "  result = getattr(ufunc, method)(*inputs, **kwargs)\n"
     ]
    },
    {
     "name": "stdout",
     "output_type": "stream",
     "text": [
      "--- Making features from: cursor_position_change2 ---\n"
     ]
    },
    {
     "name": "stderr",
     "output_type": "stream",
     "text": [
      "c:\\Users\\luis.pinto1\\AppData\\Local\\Programs\\Python\\Python310\\lib\\site-packages\\scipy\\stats\\_stats_py.py:310: RuntimeWarning: invalid value encountered in log\n",
      "  log_a = np.log(a)\n",
      "c:\\Users\\luis.pinto1\\AppData\\Local\\Programs\\Python\\Python310\\lib\\site-packages\\numpy\\core\\fromnumeric.py:86: RuntimeWarning: overflow encountered in reduce\n",
      "  return ufunc.reduce(obj, axis, dtype, out, **passkwargs)\n",
      "c:\\Users\\luis.pinto1\\AppData\\Local\\Programs\\Python\\Python310\\lib\\site-packages\\numpy\\core\\fromnumeric.py:86: RuntimeWarning: invalid value encountered in reduce\n",
      "  return ufunc.reduce(obj, axis, dtype, out, **passkwargs)\n",
      "c:\\Users\\luis.pinto1\\AppData\\Local\\Programs\\Python\\Python310\\lib\\site-packages\\pandas\\core\\arraylike.py:402: RuntimeWarning: overflow encountered in exp\n",
      "  result = getattr(ufunc, method)(*inputs, **kwargs)\n"
     ]
    },
    {
     "name": "stdout",
     "output_type": "stream",
     "text": [
      "--- Making features from: cursor_position_abs_change2 ---\n"
     ]
    },
    {
     "name": "stderr",
     "output_type": "stream",
     "text": [
      "c:\\Users\\luis.pinto1\\AppData\\Local\\Programs\\Python\\Python310\\lib\\site-packages\\pandas\\core\\arraylike.py:402: RuntimeWarning: overflow encountered in exp\n",
      "  result = getattr(ufunc, method)(*inputs, **kwargs)\n"
     ]
    },
    {
     "name": "stdout",
     "output_type": "stream",
     "text": [
      "--- Making features from: cursor_position_change3 ---\n"
     ]
    },
    {
     "name": "stderr",
     "output_type": "stream",
     "text": [
      "c:\\Users\\luis.pinto1\\AppData\\Local\\Programs\\Python\\Python310\\lib\\site-packages\\scipy\\stats\\_stats_py.py:310: RuntimeWarning: invalid value encountered in log\n",
      "  log_a = np.log(a)\n",
      "c:\\Users\\luis.pinto1\\AppData\\Local\\Programs\\Python\\Python310\\lib\\site-packages\\numpy\\core\\fromnumeric.py:86: RuntimeWarning: overflow encountered in reduce\n",
      "  return ufunc.reduce(obj, axis, dtype, out, **passkwargs)\n",
      "c:\\Users\\luis.pinto1\\AppData\\Local\\Programs\\Python\\Python310\\lib\\site-packages\\numpy\\core\\fromnumeric.py:86: RuntimeWarning: invalid value encountered in reduce\n",
      "  return ufunc.reduce(obj, axis, dtype, out, **passkwargs)\n",
      "c:\\Users\\luis.pinto1\\AppData\\Local\\Programs\\Python\\Python310\\lib\\site-packages\\pandas\\core\\arraylike.py:402: RuntimeWarning: overflow encountered in exp\n",
      "  result = getattr(ufunc, method)(*inputs, **kwargs)\n"
     ]
    },
    {
     "name": "stdout",
     "output_type": "stream",
     "text": [
      "--- Making features from: cursor_position_abs_change3 ---\n"
     ]
    },
    {
     "name": "stderr",
     "output_type": "stream",
     "text": [
      "c:\\Users\\luis.pinto1\\AppData\\Local\\Programs\\Python\\Python310\\lib\\site-packages\\pandas\\core\\arraylike.py:402: RuntimeWarning: overflow encountered in exp\n",
      "  result = getattr(ufunc, method)(*inputs, **kwargs)\n"
     ]
    },
    {
     "name": "stdout",
     "output_type": "stream",
     "text": [
      "--- Making features from: cursor_position_change4 ---\n"
     ]
    },
    {
     "name": "stderr",
     "output_type": "stream",
     "text": [
      "c:\\Users\\luis.pinto1\\AppData\\Local\\Programs\\Python\\Python310\\lib\\site-packages\\scipy\\stats\\_stats_py.py:310: RuntimeWarning: invalid value encountered in log\n",
      "  log_a = np.log(a)\n",
      "c:\\Users\\luis.pinto1\\AppData\\Local\\Programs\\Python\\Python310\\lib\\site-packages\\numpy\\core\\fromnumeric.py:86: RuntimeWarning: overflow encountered in reduce\n",
      "  return ufunc.reduce(obj, axis, dtype, out, **passkwargs)\n",
      "c:\\Users\\luis.pinto1\\AppData\\Local\\Programs\\Python\\Python310\\lib\\site-packages\\numpy\\core\\fromnumeric.py:86: RuntimeWarning: invalid value encountered in reduce\n",
      "  return ufunc.reduce(obj, axis, dtype, out, **passkwargs)\n",
      "c:\\Users\\luis.pinto1\\AppData\\Local\\Programs\\Python\\Python310\\lib\\site-packages\\pandas\\core\\arraylike.py:402: RuntimeWarning: overflow encountered in exp\n",
      "  result = getattr(ufunc, method)(*inputs, **kwargs)\n"
     ]
    },
    {
     "name": "stdout",
     "output_type": "stream",
     "text": [
      "--- Making features from: cursor_position_abs_change4 ---\n"
     ]
    },
    {
     "name": "stderr",
     "output_type": "stream",
     "text": [
      "c:\\Users\\luis.pinto1\\AppData\\Local\\Programs\\Python\\Python310\\lib\\site-packages\\pandas\\core\\arraylike.py:402: RuntimeWarning: overflow encountered in exp\n",
      "  result = getattr(ufunc, method)(*inputs, **kwargs)\n"
     ]
    },
    {
     "name": "stdout",
     "output_type": "stream",
     "text": [
      "--- Making features from: cursor_position_change5 ---\n"
     ]
    },
    {
     "name": "stderr",
     "output_type": "stream",
     "text": [
      "c:\\Users\\luis.pinto1\\AppData\\Local\\Programs\\Python\\Python310\\lib\\site-packages\\scipy\\stats\\_stats_py.py:310: RuntimeWarning: invalid value encountered in log\n",
      "  log_a = np.log(a)\n",
      "c:\\Users\\luis.pinto1\\AppData\\Local\\Programs\\Python\\Python310\\lib\\site-packages\\numpy\\core\\fromnumeric.py:86: RuntimeWarning: overflow encountered in reduce\n",
      "  return ufunc.reduce(obj, axis, dtype, out, **passkwargs)\n",
      "c:\\Users\\luis.pinto1\\AppData\\Local\\Programs\\Python\\Python310\\lib\\site-packages\\numpy\\core\\fromnumeric.py:86: RuntimeWarning: invalid value encountered in reduce\n",
      "  return ufunc.reduce(obj, axis, dtype, out, **passkwargs)\n",
      "c:\\Users\\luis.pinto1\\AppData\\Local\\Programs\\Python\\Python310\\lib\\site-packages\\pandas\\core\\arraylike.py:402: RuntimeWarning: overflow encountered in exp\n",
      "  result = getattr(ufunc, method)(*inputs, **kwargs)\n"
     ]
    },
    {
     "name": "stdout",
     "output_type": "stream",
     "text": [
      "--- Making features from: cursor_position_abs_change5 ---\n"
     ]
    },
    {
     "name": "stderr",
     "output_type": "stream",
     "text": [
      "c:\\Users\\luis.pinto1\\AppData\\Local\\Programs\\Python\\Python310\\lib\\site-packages\\pandas\\core\\arraylike.py:402: RuntimeWarning: overflow encountered in exp\n",
      "  result = getattr(ufunc, method)(*inputs, **kwargs)\n"
     ]
    },
    {
     "name": "stdout",
     "output_type": "stream",
     "text": [
      "--- Making features from: cursor_position_change10 ---\n"
     ]
    },
    {
     "name": "stderr",
     "output_type": "stream",
     "text": [
      "c:\\Users\\luis.pinto1\\AppData\\Local\\Programs\\Python\\Python310\\lib\\site-packages\\scipy\\stats\\_stats_py.py:310: RuntimeWarning: invalid value encountered in log\n",
      "  log_a = np.log(a)\n",
      "c:\\Users\\luis.pinto1\\AppData\\Local\\Programs\\Python\\Python310\\lib\\site-packages\\numpy\\core\\fromnumeric.py:86: RuntimeWarning: overflow encountered in reduce\n",
      "  return ufunc.reduce(obj, axis, dtype, out, **passkwargs)\n",
      "c:\\Users\\luis.pinto1\\AppData\\Local\\Programs\\Python\\Python310\\lib\\site-packages\\numpy\\core\\fromnumeric.py:86: RuntimeWarning: invalid value encountered in reduce\n",
      "  return ufunc.reduce(obj, axis, dtype, out, **passkwargs)\n",
      "c:\\Users\\luis.pinto1\\AppData\\Local\\Programs\\Python\\Python310\\lib\\site-packages\\pandas\\core\\arraylike.py:402: RuntimeWarning: overflow encountered in exp\n",
      "  result = getattr(ufunc, method)(*inputs, **kwargs)\n"
     ]
    },
    {
     "name": "stdout",
     "output_type": "stream",
     "text": [
      "--- Making features from: cursor_position_abs_change10 ---\n"
     ]
    },
    {
     "name": "stderr",
     "output_type": "stream",
     "text": [
      "c:\\Users\\luis.pinto1\\AppData\\Local\\Programs\\Python\\Python310\\lib\\site-packages\\pandas\\core\\arraylike.py:402: RuntimeWarning: overflow encountered in exp\n",
      "  result = getattr(ufunc, method)(*inputs, **kwargs)\n"
     ]
    },
    {
     "name": "stdout",
     "output_type": "stream",
     "text": [
      "--- Making features from: cursor_position_change20 ---\n"
     ]
    },
    {
     "name": "stderr",
     "output_type": "stream",
     "text": [
      "c:\\Users\\luis.pinto1\\AppData\\Local\\Programs\\Python\\Python310\\lib\\site-packages\\scipy\\stats\\_stats_py.py:310: RuntimeWarning: invalid value encountered in log\n",
      "  log_a = np.log(a)\n",
      "c:\\Users\\luis.pinto1\\AppData\\Local\\Programs\\Python\\Python310\\lib\\site-packages\\numpy\\core\\fromnumeric.py:86: RuntimeWarning: overflow encountered in reduce\n",
      "  return ufunc.reduce(obj, axis, dtype, out, **passkwargs)\n",
      "c:\\Users\\luis.pinto1\\AppData\\Local\\Programs\\Python\\Python310\\lib\\site-packages\\numpy\\core\\fromnumeric.py:86: RuntimeWarning: invalid value encountered in reduce\n",
      "  return ufunc.reduce(obj, axis, dtype, out, **passkwargs)\n",
      "c:\\Users\\luis.pinto1\\AppData\\Local\\Programs\\Python\\Python310\\lib\\site-packages\\pandas\\core\\arraylike.py:402: RuntimeWarning: overflow encountered in exp\n",
      "  result = getattr(ufunc, method)(*inputs, **kwargs)\n"
     ]
    },
    {
     "name": "stdout",
     "output_type": "stream",
     "text": [
      "--- Making features from: cursor_position_abs_change20 ---\n"
     ]
    },
    {
     "name": "stderr",
     "output_type": "stream",
     "text": [
      "c:\\Users\\luis.pinto1\\AppData\\Local\\Programs\\Python\\Python310\\lib\\site-packages\\pandas\\core\\arraylike.py:402: RuntimeWarning: overflow encountered in exp\n",
      "  result = getattr(ufunc, method)(*inputs, **kwargs)\n"
     ]
    },
    {
     "name": "stdout",
     "output_type": "stream",
     "text": [
      "--- Making features from: cursor_position_change50 ---\n"
     ]
    },
    {
     "name": "stderr",
     "output_type": "stream",
     "text": [
      "c:\\Users\\luis.pinto1\\AppData\\Local\\Programs\\Python\\Python310\\lib\\site-packages\\scipy\\stats\\_stats_py.py:310: RuntimeWarning: invalid value encountered in log\n",
      "  log_a = np.log(a)\n",
      "c:\\Users\\luis.pinto1\\AppData\\Local\\Programs\\Python\\Python310\\lib\\site-packages\\numpy\\core\\fromnumeric.py:86: RuntimeWarning: overflow encountered in reduce\n",
      "  return ufunc.reduce(obj, axis, dtype, out, **passkwargs)\n",
      "c:\\Users\\luis.pinto1\\AppData\\Local\\Programs\\Python\\Python310\\lib\\site-packages\\numpy\\core\\fromnumeric.py:86: RuntimeWarning: invalid value encountered in reduce\n",
      "  return ufunc.reduce(obj, axis, dtype, out, **passkwargs)\n",
      "c:\\Users\\luis.pinto1\\AppData\\Local\\Programs\\Python\\Python310\\lib\\site-packages\\pandas\\core\\arraylike.py:402: RuntimeWarning: overflow encountered in exp\n",
      "  result = getattr(ufunc, method)(*inputs, **kwargs)\n"
     ]
    },
    {
     "name": "stdout",
     "output_type": "stream",
     "text": [
      "--- Making features from: cursor_position_abs_change50 ---\n"
     ]
    },
    {
     "name": "stderr",
     "output_type": "stream",
     "text": [
      "c:\\Users\\luis.pinto1\\AppData\\Local\\Programs\\Python\\Python310\\lib\\site-packages\\numpy\\core\\fromnumeric.py:86: RuntimeWarning: overflow encountered in reduce\n",
      "  return ufunc.reduce(obj, axis, dtype, out, **passkwargs)\n",
      "c:\\Users\\luis.pinto1\\AppData\\Local\\Programs\\Python\\Python310\\lib\\site-packages\\pandas\\core\\arraylike.py:402: RuntimeWarning: overflow encountered in exp\n",
      "  result = getattr(ufunc, method)(*inputs, **kwargs)\n"
     ]
    },
    {
     "name": "stdout",
     "output_type": "stream",
     "text": [
      "--- Making features from: cursor_position_change100 ---\n"
     ]
    },
    {
     "name": "stderr",
     "output_type": "stream",
     "text": [
      "c:\\Users\\luis.pinto1\\AppData\\Local\\Programs\\Python\\Python310\\lib\\site-packages\\scipy\\stats\\_stats_py.py:310: RuntimeWarning: invalid value encountered in log\n",
      "  log_a = np.log(a)\n",
      "c:\\Users\\luis.pinto1\\AppData\\Local\\Programs\\Python\\Python310\\lib\\site-packages\\numpy\\core\\fromnumeric.py:86: RuntimeWarning: overflow encountered in reduce\n",
      "  return ufunc.reduce(obj, axis, dtype, out, **passkwargs)\n",
      "c:\\Users\\luis.pinto1\\AppData\\Local\\Programs\\Python\\Python310\\lib\\site-packages\\numpy\\core\\fromnumeric.py:86: RuntimeWarning: invalid value encountered in reduce\n",
      "  return ufunc.reduce(obj, axis, dtype, out, **passkwargs)\n",
      "c:\\Users\\luis.pinto1\\AppData\\Local\\Programs\\Python\\Python310\\lib\\site-packages\\pandas\\core\\arraylike.py:402: RuntimeWarning: overflow encountered in exp\n",
      "  result = getattr(ufunc, method)(*inputs, **kwargs)\n"
     ]
    },
    {
     "name": "stdout",
     "output_type": "stream",
     "text": [
      "--- Making features from: cursor_position_abs_change100 ---\n"
     ]
    },
    {
     "name": "stderr",
     "output_type": "stream",
     "text": [
      "c:\\Users\\luis.pinto1\\AppData\\Local\\Programs\\Python\\Python310\\lib\\site-packages\\numpy\\core\\fromnumeric.py:86: RuntimeWarning: overflow encountered in reduce\n",
      "  return ufunc.reduce(obj, axis, dtype, out, **passkwargs)\n",
      "c:\\Users\\luis.pinto1\\AppData\\Local\\Programs\\Python\\Python310\\lib\\site-packages\\pandas\\core\\arraylike.py:402: RuntimeWarning: overflow encountered in exp\n",
      "  result = getattr(ufunc, method)(*inputs, **kwargs)\n"
     ]
    },
    {
     "name": "stdout",
     "output_type": "stream",
     "text": [
      "--- Making features from: word_count_change1 ---\n"
     ]
    },
    {
     "name": "stderr",
     "output_type": "stream",
     "text": [
      "c:\\Users\\luis.pinto1\\AppData\\Local\\Programs\\Python\\Python310\\lib\\site-packages\\scipy\\stats\\_stats_py.py:310: RuntimeWarning: invalid value encountered in log\n",
      "  log_a = np.log(a)\n"
     ]
    },
    {
     "name": "stdout",
     "output_type": "stream",
     "text": [
      "--- Making features from: word_count_abs_change1 ---\n"
     ]
    },
    {
     "name": "stderr",
     "output_type": "stream",
     "text": [
      "c:\\Users\\luis.pinto1\\AppData\\Local\\Programs\\Python\\Python310\\lib\\site-packages\\pandas\\core\\arraylike.py:402: RuntimeWarning: overflow encountered in exp\n",
      "  result = getattr(ufunc, method)(*inputs, **kwargs)\n"
     ]
    },
    {
     "name": "stdout",
     "output_type": "stream",
     "text": [
      "--- Making features from: word_count_change2 ---\n"
     ]
    },
    {
     "name": "stderr",
     "output_type": "stream",
     "text": [
      "c:\\Users\\luis.pinto1\\AppData\\Local\\Programs\\Python\\Python310\\lib\\site-packages\\scipy\\stats\\_stats_py.py:310: RuntimeWarning: invalid value encountered in log\n",
      "  log_a = np.log(a)\n"
     ]
    },
    {
     "name": "stdout",
     "output_type": "stream",
     "text": [
      "--- Making features from: word_count_abs_change2 ---\n"
     ]
    },
    {
     "name": "stderr",
     "output_type": "stream",
     "text": [
      "c:\\Users\\luis.pinto1\\AppData\\Local\\Programs\\Python\\Python310\\lib\\site-packages\\pandas\\core\\arraylike.py:402: RuntimeWarning: overflow encountered in exp\n",
      "  result = getattr(ufunc, method)(*inputs, **kwargs)\n"
     ]
    },
    {
     "name": "stdout",
     "output_type": "stream",
     "text": [
      "--- Making features from: word_count_change3 ---\n"
     ]
    },
    {
     "name": "stderr",
     "output_type": "stream",
     "text": [
      "c:\\Users\\luis.pinto1\\AppData\\Local\\Programs\\Python\\Python310\\lib\\site-packages\\scipy\\stats\\_stats_py.py:310: RuntimeWarning: invalid value encountered in log\n",
      "  log_a = np.log(a)\n"
     ]
    },
    {
     "name": "stdout",
     "output_type": "stream",
     "text": [
      "--- Making features from: word_count_abs_change3 ---\n"
     ]
    },
    {
     "name": "stderr",
     "output_type": "stream",
     "text": [
      "c:\\Users\\luis.pinto1\\AppData\\Local\\Programs\\Python\\Python310\\lib\\site-packages\\pandas\\core\\arraylike.py:402: RuntimeWarning: overflow encountered in exp\n",
      "  result = getattr(ufunc, method)(*inputs, **kwargs)\n"
     ]
    },
    {
     "name": "stdout",
     "output_type": "stream",
     "text": [
      "--- Making features from: word_count_change4 ---\n"
     ]
    },
    {
     "name": "stderr",
     "output_type": "stream",
     "text": [
      "c:\\Users\\luis.pinto1\\AppData\\Local\\Programs\\Python\\Python310\\lib\\site-packages\\scipy\\stats\\_stats_py.py:310: RuntimeWarning: invalid value encountered in log\n",
      "  log_a = np.log(a)\n"
     ]
    },
    {
     "name": "stdout",
     "output_type": "stream",
     "text": [
      "--- Making features from: word_count_abs_change4 ---\n"
     ]
    },
    {
     "name": "stderr",
     "output_type": "stream",
     "text": [
      "c:\\Users\\luis.pinto1\\AppData\\Local\\Programs\\Python\\Python310\\lib\\site-packages\\pandas\\core\\arraylike.py:402: RuntimeWarning: overflow encountered in exp\n",
      "  result = getattr(ufunc, method)(*inputs, **kwargs)\n"
     ]
    },
    {
     "name": "stdout",
     "output_type": "stream",
     "text": [
      "--- Making features from: word_count_change5 ---\n"
     ]
    },
    {
     "name": "stderr",
     "output_type": "stream",
     "text": [
      "c:\\Users\\luis.pinto1\\AppData\\Local\\Programs\\Python\\Python310\\lib\\site-packages\\scipy\\stats\\_stats_py.py:310: RuntimeWarning: invalid value encountered in log\n",
      "  log_a = np.log(a)\n"
     ]
    },
    {
     "name": "stdout",
     "output_type": "stream",
     "text": [
      "--- Making features from: word_count_abs_change5 ---\n"
     ]
    },
    {
     "name": "stderr",
     "output_type": "stream",
     "text": [
      "c:\\Users\\luis.pinto1\\AppData\\Local\\Programs\\Python\\Python310\\lib\\site-packages\\pandas\\core\\arraylike.py:402: RuntimeWarning: overflow encountered in exp\n",
      "  result = getattr(ufunc, method)(*inputs, **kwargs)\n"
     ]
    },
    {
     "name": "stdout",
     "output_type": "stream",
     "text": [
      "--- Making features from: word_count_change10 ---\n"
     ]
    },
    {
     "name": "stderr",
     "output_type": "stream",
     "text": [
      "c:\\Users\\luis.pinto1\\AppData\\Local\\Programs\\Python\\Python310\\lib\\site-packages\\scipy\\stats\\_stats_py.py:310: RuntimeWarning: invalid value encountered in log\n",
      "  log_a = np.log(a)\n"
     ]
    },
    {
     "name": "stdout",
     "output_type": "stream",
     "text": [
      "--- Making features from: word_count_abs_change10 ---\n"
     ]
    },
    {
     "name": "stderr",
     "output_type": "stream",
     "text": [
      "c:\\Users\\luis.pinto1\\AppData\\Local\\Programs\\Python\\Python310\\lib\\site-packages\\pandas\\core\\arraylike.py:402: RuntimeWarning: overflow encountered in exp\n",
      "  result = getattr(ufunc, method)(*inputs, **kwargs)\n"
     ]
    },
    {
     "name": "stdout",
     "output_type": "stream",
     "text": [
      "--- Making features from: word_count_change20 ---\n"
     ]
    },
    {
     "name": "stderr",
     "output_type": "stream",
     "text": [
      "c:\\Users\\luis.pinto1\\AppData\\Local\\Programs\\Python\\Python310\\lib\\site-packages\\scipy\\stats\\_stats_py.py:310: RuntimeWarning: invalid value encountered in log\n",
      "  log_a = np.log(a)\n"
     ]
    },
    {
     "name": "stdout",
     "output_type": "stream",
     "text": [
      "--- Making features from: word_count_abs_change20 ---\n"
     ]
    },
    {
     "name": "stderr",
     "output_type": "stream",
     "text": [
      "c:\\Users\\luis.pinto1\\AppData\\Local\\Programs\\Python\\Python310\\lib\\site-packages\\pandas\\core\\arraylike.py:402: RuntimeWarning: overflow encountered in exp\n",
      "  result = getattr(ufunc, method)(*inputs, **kwargs)\n"
     ]
    },
    {
     "name": "stdout",
     "output_type": "stream",
     "text": [
      "--- Making features from: word_count_change50 ---\n"
     ]
    },
    {
     "name": "stderr",
     "output_type": "stream",
     "text": [
      "c:\\Users\\luis.pinto1\\AppData\\Local\\Programs\\Python\\Python310\\lib\\site-packages\\scipy\\stats\\_stats_py.py:310: RuntimeWarning: invalid value encountered in log\n",
      "  log_a = np.log(a)\n"
     ]
    },
    {
     "name": "stdout",
     "output_type": "stream",
     "text": [
      "--- Making features from: word_count_abs_change50 ---\n"
     ]
    },
    {
     "name": "stderr",
     "output_type": "stream",
     "text": [
      "c:\\Users\\luis.pinto1\\AppData\\Local\\Programs\\Python\\Python310\\lib\\site-packages\\pandas\\core\\arraylike.py:402: RuntimeWarning: overflow encountered in exp\n",
      "  result = getattr(ufunc, method)(*inputs, **kwargs)\n"
     ]
    },
    {
     "name": "stdout",
     "output_type": "stream",
     "text": [
      "--- Making features from: word_count_change100 ---\n"
     ]
    },
    {
     "name": "stderr",
     "output_type": "stream",
     "text": [
      "c:\\Users\\luis.pinto1\\AppData\\Local\\Programs\\Python\\Python310\\lib\\site-packages\\scipy\\stats\\_stats_py.py:310: RuntimeWarning: invalid value encountered in log\n",
      "  log_a = np.log(a)\n"
     ]
    },
    {
     "name": "stdout",
     "output_type": "stream",
     "text": [
      "--- Making features from: word_count_abs_change100 ---\n",
      "\n",
      "=== Making features from categorical features ===\n",
      "--- Making features from: activity ---\n",
      "--- Making features from: down_event ---\n",
      "--- Making features from: up_event ---\n",
      "--- Making features from: text_change ---\n",
      "\n",
      "=== Engineering punctuation counts data ===\n"
     ]
    },
    {
     "name": "stderr",
     "output_type": "stream",
     "text": [
      "100%|██████████| 2471/2471 [00:00<00:00, 12466.01it/s]\n"
     ]
    },
    {
     "name": "stdout",
     "output_type": "stream",
     "text": [
      "\n",
      "=== Engineering input words data ===\n",
      "\n",
      "=== Engineering TF-IDF ===\n",
      "Engineering ratio-based features\n"
     ]
    },
    {
     "name": "stderr",
     "output_type": "stream",
     "text": [
      "c:\\Users\\luis.pinto1\\Documents\\GitHub\\Linking-Writing\\models\\..\\utils.py:991: PerformanceWarning: DataFrame is highly fragmented.  This is usually the result of calling `frame.insert` many times, which has poor performance.  Consider joining all columns at once using pd.concat(axis=1) instead. To get a de-fragmented frame, use `newframe = frame.copy()`\n",
      "  feats['word_time_ratio'] = feats['word_count_max'] / feats['up_time_max']\n",
      "c:\\Users\\luis.pinto1\\Documents\\GitHub\\Linking-Writing\\models\\..\\utils.py:992: PerformanceWarning: DataFrame is highly fragmented.  This is usually the result of calling `frame.insert` many times, which has poor performance.  Consider joining all columns at once using pd.concat(axis=1) instead. To get a de-fragmented frame, use `newframe = frame.copy()`\n",
      "  feats['word_event_ratio'] = feats['word_count_max'] / feats['event_id_max']\n",
      "c:\\Users\\luis.pinto1\\Documents\\GitHub\\Linking-Writing\\models\\..\\utils.py:993: PerformanceWarning: DataFrame is highly fragmented.  This is usually the result of calling `frame.insert` many times, which has poor performance.  Consider joining all columns at once using pd.concat(axis=1) instead. To get a de-fragmented frame, use `newframe = frame.copy()`\n",
      "  feats['event_time_ratio'] = feats['event_id_max']  / feats['up_time_max']\n"
     ]
    }
   ],
   "source": [
    "feature_maker = FeatureMaker()\n",
    "created_features = feature_maker.make_features(train_logs_df, name='Train Logs')\n",
    "\n",
    "# train_feats = train_feats.merge(created_features, on='id', how='left')"
   ]
  },
  {
   "cell_type": "code",
   "execution_count": 17,
   "metadata": {},
   "outputs": [],
   "source": [
    "cols_to_drop = list(train_feats.columns.intersection(created_features.columns))\n",
    "cols_to_drop.remove('id')\n",
    "created_features.drop(cols_to_drop, axis=1, inplace=True)"
   ]
  },
  {
   "cell_type": "code",
   "execution_count": 18,
   "metadata": {},
   "outputs": [],
   "source": [
    "train_feats = train_feats.merge(created_features, on='id', how='left')"
   ]
  },
  {
   "cell_type": "code",
   "execution_count": 19,
   "metadata": {},
   "outputs": [
    {
     "data": {
      "text/plain": [
       "4435"
      ]
     },
     "execution_count": 19,
     "metadata": {},
     "output_type": "execute_result"
    }
   ],
   "source": [
    "len(train_feats.columns)"
   ]
  },
  {
   "cell_type": "markdown",
   "metadata": {},
   "source": [
    "## Replace infs"
   ]
  },
  {
   "cell_type": "code",
   "execution_count": 20,
   "metadata": {},
   "outputs": [],
   "source": [
    "train_feats.replace([np.inf, -np.inf], np.nan, inplace=True)"
   ]
  },
  {
   "cell_type": "code",
   "execution_count": 21,
   "metadata": {},
   "outputs": [
    {
     "data": {
      "text/plain": [
       "3597"
      ]
     },
     "execution_count": 21,
     "metadata": {},
     "output_type": "execute_result"
    }
   ],
   "source": [
    "for col in train_feats.columns:\n",
    "    if len(train_feats[col].unique()) == 1:\n",
    "        train_feats.drop(col,inplace=True,axis=1)\n",
    "\n",
    "len(train_feats.columns)"
   ]
  },
  {
   "cell_type": "markdown",
   "metadata": {},
   "source": [
    "## Training"
   ]
  },
  {
   "cell_type": "code",
   "execution_count": 22,
   "metadata": {},
   "outputs": [],
   "source": [
    "target_col = ['score']\n",
    "drop_cols = ['id']\n",
    "train_cols = [col for col in train_feats.columns if col not in target_col + drop_cols]"
   ]
  },
  {
   "cell_type": "code",
   "execution_count": 23,
   "metadata": {},
   "outputs": [],
   "source": [
    "def objective(trial,data=train_feats[train_cols],target=train_feats[target_col]):\n",
    "    \n",
    "    train_x, test_x, train_y, test_y = train_test_split(data, target, test_size=0.15,random_state=42)\n",
    "    params = {\n",
    "        'reg_lambda': trial.suggest_float('reg_lambda', 1e-4, 10.0, log=True),\n",
    "        'reg_alpha': trial.suggest_float('reg_alpha', 1e-4, 10.0, log=True),\n",
    "        'colsample_bytree': trial.suggest_categorical('colsample_bytree', [0.4,0.5,0.6,0.7,0.8,0.9,1.0]),\n",
    "        'colsample_bynode': trial.suggest_categorical('colsample_bynode', [0.4,0.5,0.6,0.7,0.8,0.9,1.0]),\n",
    "        'subsample': trial.suggest_categorical('subsample', [0.4,0.5,0.6,0.7,0.8,0.9,1.0]),\n",
    "        'learning_rate': trial.suggest_float('learning_rate', 1e-5, 5e-2, log=True), #trial.suggest_categorical('learning_rate', [0.008,0.01,0.012,0.014,0.016,0.018, 0.02]),\n",
    "        'max_depth': trial.suggest_categorical('max_depth', [9,11,13,15,17,20,25,30,35,40,45,50]),\n",
    "        'min_child_samples': trial.suggest_categorical('min_child_samples', [7,9,11,13,15,17,20,25,30,35,40]),\n",
    "        'num_leaves': trial.suggest_int('num_leaves', 10, 40, step=2)\n",
    "    }\n",
    "\n",
    "    all_params = {\n",
    "        \"objective\": \"rmse\",\n",
    "        \"metric\": \"rmse\",\n",
    "        'random_state': 42,\n",
    "        \"n_estimators\" : 10000,\n",
    "        \"verbosity\": -1,\n",
    "        \"n_jobs\": -1,\n",
    "        # \"device_type\": 'cuda',\n",
    "        # \"gpu_use_dp\": True,\n",
    "        **params\n",
    "    }\n",
    "\n",
    "    model = lgb.LGBMRegressor(**all_params)\n",
    "\n",
    "    early_stopping_callback = lgb.early_stopping(50, first_metric_only=True, verbose=False)\n",
    "    \n",
    "    model.fit(train_x, train_y, eval_set=[(test_x, test_y)],  \n",
    "                callbacks=[early_stopping_callback],\n",
    "    )\n",
    "    \n",
    "    preds = model.predict(test_x)\n",
    "    \n",
    "    rmse = mean_squared_error(test_y, preds,squared=False)\n",
    "    \n",
    "    return rmse"
   ]
  },
  {
   "cell_type": "code",
   "execution_count": 24,
   "metadata": {},
   "outputs": [
    {
     "name": "stderr",
     "output_type": "stream",
     "text": [
      "[I 2023-12-04 21:26:08,816] A new study created in memory with name: no-name-d931c61f-f3c0-41a2-a349-bd2082e2d320\n",
      "[I 2023-12-04 21:34:15,242] Trial 0 finished with value: 0.6017956135412816 and parameters: {'reg_lambda': 0.02111958908057137, 'reg_alpha': 0.0013602918261391868, 'colsample_bytree': 0.8, 'colsample_bynode': 0.5, 'subsample': 0.8, 'learning_rate': 0.00025320532792508655, 'max_depth': 45, 'min_child_samples': 35, 'num_leaves': 40}. Best is trial 0 with value: 0.6017956135412816.\n",
      "[I 2023-12-04 21:35:56,664] Trial 1 finished with value: 0.6569152919950033 and parameters: {'reg_lambda': 0.0004659812275556133, 'reg_alpha': 0.5318937643701909, 'colsample_bytree': 0.4, 'colsample_bynode': 0.7, 'subsample': 0.9, 'learning_rate': 0.00013212396567419785, 'max_depth': 45, 'min_child_samples': 35, 'num_leaves': 12}. Best is trial 0 with value: 0.6017956135412816.\n",
      "[I 2023-12-04 21:36:04,039] Trial 2 finished with value: 0.5885759461154889 and parameters: {'reg_lambda': 0.003708520655456966, 'reg_alpha': 0.00032602763950874094, 'colsample_bytree': 0.4, 'colsample_bynode': 0.6, 'subsample': 0.5, 'learning_rate': 0.023423786554751212, 'max_depth': 13, 'min_child_samples': 15, 'num_leaves': 28}. Best is trial 2 with value: 0.5885759461154889.\n",
      "[I 2023-12-04 21:37:36,290] Trial 3 finished with value: 0.5870291073877879 and parameters: {'reg_lambda': 0.01015290110334301, 'reg_alpha': 3.2676433767295676, 'colsample_bytree': 1.0, 'colsample_bynode': 0.7, 'subsample': 0.4, 'learning_rate': 0.002255133888654461, 'max_depth': 17, 'min_child_samples': 20, 'num_leaves': 26}. Best is trial 3 with value: 0.5870291073877879.\n",
      "[I 2023-12-04 21:37:38,678] Trial 4 finished with value: 0.5843227884676675 and parameters: {'reg_lambda': 0.419071169581121, 'reg_alpha': 0.00011090983812167776, 'colsample_bytree': 0.4, 'colsample_bynode': 1.0, 'subsample': 0.4, 'learning_rate': 0.034853693454799245, 'max_depth': 35, 'min_child_samples': 40, 'num_leaves': 14}. Best is trial 4 with value: 0.5843227884676675.\n",
      "[I 2023-12-04 21:42:00,809] Trial 5 finished with value: 0.7967428139089416 and parameters: {'reg_lambda': 3.1123432140494165, 'reg_alpha': 0.010675907395899296, 'colsample_bytree': 0.4, 'colsample_bynode': 0.7, 'subsample': 0.5, 'learning_rate': 4.815501949342064e-05, 'max_depth': 25, 'min_child_samples': 7, 'num_leaves': 38}. Best is trial 4 with value: 0.5843227884676675.\n",
      "[I 2023-12-04 21:46:55,674] Trial 6 finished with value: 0.5940734919933366 and parameters: {'reg_lambda': 0.00016688456860721596, 'reg_alpha': 0.6723485310412008, 'colsample_bytree': 0.6, 'colsample_bynode': 0.4, 'subsample': 0.5, 'learning_rate': 0.0003260390871849342, 'max_depth': 30, 'min_child_samples': 40, 'num_leaves': 38}. Best is trial 4 with value: 0.5843227884676675.\n",
      "[I 2023-12-04 21:47:06,989] Trial 7 finished with value: 0.5813290674095503 and parameters: {'reg_lambda': 0.04203147129313216, 'reg_alpha': 9.085038124103654, 'colsample_bytree': 0.5, 'colsample_bynode': 0.6, 'subsample': 0.9, 'learning_rate': 0.007811796423379498, 'max_depth': 35, 'min_child_samples': 35, 'num_leaves': 16}. Best is trial 7 with value: 0.5813290674095503.\n",
      "[I 2023-12-04 21:50:26,359] Trial 8 finished with value: 0.8984304131208343 and parameters: {'reg_lambda': 0.0007654488445545296, 'reg_alpha': 0.31497209029482004, 'colsample_bytree': 0.9, 'colsample_bynode': 0.4, 'subsample': 0.9, 'learning_rate': 2.1073621254704042e-05, 'max_depth': 40, 'min_child_samples': 30, 'num_leaves': 10}. Best is trial 7 with value: 0.5813290674095503.\n",
      "[I 2023-12-04 21:57:59,980] Trial 9 finished with value: 0.6188011954979906 and parameters: {'reg_lambda': 0.23505793637549977, 'reg_alpha': 0.00423374539802773, 'colsample_bytree': 0.7, 'colsample_bynode': 1.0, 'subsample': 0.5, 'learning_rate': 0.00018526403660713682, 'max_depth': 25, 'min_child_samples': 15, 'num_leaves': 32}. Best is trial 7 with value: 0.5813290674095503.\n",
      "[I 2023-12-04 21:58:38,240] Trial 10 finished with value: 0.5858486450206779 and parameters: {'reg_lambda': 0.085638530489768, 'reg_alpha': 9.61525921095904, 'colsample_bytree': 0.5, 'colsample_bynode': 0.6, 'subsample': 1.0, 'learning_rate': 0.0027909168150686736, 'max_depth': 35, 'min_child_samples': 9, 'num_leaves': 20}. Best is trial 7 with value: 0.5813290674095503.\n",
      "[I 2023-12-04 21:58:41,722] Trial 11 finished with value: 0.5901958532328849 and parameters: {'reg_lambda': 0.31608656150745496, 'reg_alpha': 0.00010494816808526203, 'colsample_bytree': 0.5, 'colsample_bynode': 1.0, 'subsample': 0.6, 'learning_rate': 0.03582922751978082, 'max_depth': 35, 'min_child_samples': 17, 'num_leaves': 18}. Best is trial 7 with value: 0.5813290674095503.\n",
      "[I 2023-12-04 21:58:48,799] Trial 12 finished with value: 0.5878580179758996 and parameters: {'reg_lambda': 1.4225996407658512, 'reg_alpha': 0.03438072020884042, 'colsample_bytree': 0.5, 'colsample_bynode': 0.9, 'subsample': 0.7, 'learning_rate': 0.012080382288752927, 'max_depth': 35, 'min_child_samples': 25, 'num_leaves': 16}. Best is trial 7 with value: 0.5813290674095503.\n",
      "[I 2023-12-04 21:58:59,337] Trial 13 finished with value: 0.5893150228350325 and parameters: {'reg_lambda': 0.06095982700934112, 'reg_alpha': 0.08775783651817876, 'colsample_bytree': 0.6, 'colsample_bynode': 0.6, 'subsample': 0.4, 'learning_rate': 0.009133841507875691, 'max_depth': 9, 'min_child_samples': 40, 'num_leaves': 22}. Best is trial 7 with value: 0.5813290674095503.\n",
      "[I 2023-12-04 21:59:04,178] Trial 14 finished with value: 0.5804670815639832 and parameters: {'reg_lambda': 0.6382535728154202, 'reg_alpha': 0.0017008493802119263, 'colsample_bytree': 0.7, 'colsample_bynode': 0.8, 'subsample': 0.4, 'learning_rate': 0.034578675867209654, 'max_depth': 20, 'min_child_samples': 11, 'num_leaves': 14}. Best is trial 14 with value: 0.5804670815639832.\n",
      "[I 2023-12-04 21:59:35,200] Trial 15 finished with value: 0.58909689478252 and parameters: {'reg_lambda': 1.3066515162118768, 'reg_alpha': 0.003479766995125091, 'colsample_bytree': 0.7, 'colsample_bynode': 0.8, 'subsample': 0.9, 'learning_rate': 0.005168353083315232, 'max_depth': 20, 'min_child_samples': 11, 'num_leaves': 22}. Best is trial 14 with value: 0.5804670815639832.\n",
      "[I 2023-12-04 22:00:40,169] Trial 16 finished with value: 0.5834184325026784 and parameters: {'reg_lambda': 9.935139733943137, 'reg_alpha': 0.0539950132867923, 'colsample_bytree': 0.7, 'colsample_bynode': 0.8, 'subsample': 0.8, 'learning_rate': 0.0012006783265063362, 'max_depth': 20, 'min_child_samples': 11, 'num_leaves': 10}. Best is trial 14 with value: 0.5804670815639832.\n",
      "[I 2023-12-04 22:00:44,654] Trial 17 finished with value: 0.5954807127982938 and parameters: {'reg_lambda': 0.09024759492377225, 'reg_alpha': 0.01929048139169077, 'colsample_bytree': 1.0, 'colsample_bynode': 0.8, 'subsample': 1.0, 'learning_rate': 0.04894105977286111, 'max_depth': 15, 'min_child_samples': 13, 'num_leaves': 16}. Best is trial 14 with value: 0.5804670815639832.\n",
      "[I 2023-12-04 22:00:56,376] Trial 18 finished with value: 0.5873768475204594 and parameters: {'reg_lambda': 0.015579997536998152, 'reg_alpha': 0.12207751050351662, 'colsample_bytree': 0.9, 'colsample_bynode': 0.9, 'subsample': 0.6, 'learning_rate': 0.00947206258760595, 'max_depth': 11, 'min_child_samples': 35, 'num_leaves': 14}. Best is trial 14 with value: 0.5804670815639832.\n",
      "[I 2023-12-04 22:01:08,268] Trial 19 finished with value: 0.5877285168785176 and parameters: {'reg_lambda': 0.0050609570623302525, 'reg_alpha': 4.093833754032892, 'colsample_bytree': 0.8, 'colsample_bynode': 0.5, 'subsample': 0.7, 'learning_rate': 0.015698449875239228, 'max_depth': 50, 'min_child_samples': 11, 'num_leaves': 20}. Best is trial 14 with value: 0.5804670815639832.\n",
      "[I 2023-12-04 22:01:50,777] Trial 20 finished with value: 0.5896928263839549 and parameters: {'reg_lambda': 0.03499671650091315, 'reg_alpha': 0.000983526497713911, 'colsample_bytree': 0.7, 'colsample_bynode': 0.8, 'subsample': 0.4, 'learning_rate': 0.00531995167447823, 'max_depth': 20, 'min_child_samples': 9, 'num_leaves': 32}. Best is trial 14 with value: 0.5804670815639832.\n",
      "[I 2023-12-04 22:02:57,611] Trial 21 finished with value: 0.5835865384949935 and parameters: {'reg_lambda': 5.224029766908342, 'reg_alpha': 0.03153473802613945, 'colsample_bytree': 0.7, 'colsample_bynode': 0.8, 'subsample': 0.8, 'learning_rate': 0.001083625705566288, 'max_depth': 20, 'min_child_samples': 11, 'num_leaves': 10}. Best is trial 14 with value: 0.5804670815639832.\n",
      "[I 2023-12-04 22:04:20,595] Trial 22 finished with value: 0.5815831286088604 and parameters: {'reg_lambda': 5.144134937845942, 'reg_alpha': 1.3540848381979025, 'colsample_bytree': 0.7, 'colsample_bynode': 0.8, 'subsample': 0.8, 'learning_rate': 0.0009272032039069492, 'max_depth': 20, 'min_child_samples': 11, 'num_leaves': 10}. Best is trial 14 with value: 0.5804670815639832.\n",
      "[I 2023-12-04 22:06:38,918] Trial 23 finished with value: 0.5835690161600778 and parameters: {'reg_lambda': 0.6243803987946078, 'reg_alpha': 1.7904172024883727, 'colsample_bytree': 0.5, 'colsample_bynode': 0.6, 'subsample': 0.8, 'learning_rate': 0.0005438559521112064, 'max_depth': 20, 'min_child_samples': 11, 'num_leaves': 14}. Best is trial 14 with value: 0.5804670815639832.\n",
      "[I 2023-12-04 22:06:45,356] Trial 24 finished with value: 0.585669335557893 and parameters: {'reg_lambda': 2.0311243230639118, 'reg_alpha': 1.3752239258239582, 'colsample_bytree': 0.7, 'colsample_bynode': 0.8, 'subsample': 0.9, 'learning_rate': 0.020509979060171008, 'max_depth': 15, 'min_child_samples': 20, 'num_leaves': 12}. Best is trial 14 with value: 0.5804670815639832.\n",
      "[I 2023-12-04 22:07:13,509] Trial 25 finished with value: 0.5834764611051306 and parameters: {'reg_lambda': 9.211193752566118, 'reg_alpha': 5.622844129645536, 'colsample_bytree': 0.7, 'colsample_bynode': 0.8, 'subsample': 0.9, 'learning_rate': 0.005567376391227215, 'max_depth': 40, 'min_child_samples': 30, 'num_leaves': 18}. Best is trial 14 with value: 0.5804670815639832.\n",
      "[I 2023-12-04 22:08:02,462] Trial 26 finished with value: 0.5840529396434879 and parameters: {'reg_lambda': 0.7749122529761471, 'reg_alpha': 1.7083094788471533, 'colsample_bytree': 0.5, 'colsample_bynode': 0.6, 'subsample': 0.4, 'learning_rate': 0.001734365113927247, 'max_depth': 11, 'min_child_samples': 13, 'num_leaves': 16}. Best is trial 14 with value: 0.5804670815639832.\n",
      "[I 2023-12-04 22:10:01,127] Trial 27 finished with value: 0.5846282125056514 and parameters: {'reg_lambda': 3.5752677070493144, 'reg_alpha': 9.253311676091185, 'colsample_bytree': 0.7, 'colsample_bynode': 0.8, 'subsample': 0.8, 'learning_rate': 0.0006829312790669328, 'max_depth': 17, 'min_child_samples': 17, 'num_leaves': 12}. Best is trial 14 with value: 0.5804670815639832.\n",
      "[I 2023-12-04 22:10:07,196] Trial 28 finished with value: 0.592109065603948 and parameters: {'reg_lambda': 0.14442222385516323, 'reg_alpha': 0.16402126264367248, 'colsample_bytree': 0.6, 'colsample_bynode': 0.9, 'subsample': 0.6, 'learning_rate': 0.023745491431169035, 'max_depth': 9, 'min_child_samples': 25, 'num_leaves': 24}. Best is trial 14 with value: 0.5804670815639832.\n",
      "[I 2023-12-04 22:10:43,922] Trial 29 finished with value: 0.5872279795889215 and parameters: {'reg_lambda': 0.9447183790618501, 'reg_alpha': 0.7119832706448174, 'colsample_bytree': 0.8, 'colsample_bynode': 0.5, 'subsample': 0.8, 'learning_rate': 0.0034078261030540077, 'max_depth': 30, 'min_child_samples': 35, 'num_leaves': 18}. Best is trial 14 with value: 0.5804670815639832.\n",
      "[I 2023-12-04 22:10:57,025] Trial 30 finished with value: 0.5896601507620891 and parameters: {'reg_lambda': 0.2788797244779408, 'reg_alpha': 0.28340468688820686, 'colsample_bytree': 1.0, 'colsample_bynode': 0.4, 'subsample': 0.7, 'learning_rate': 0.009363417978849486, 'max_depth': 13, 'min_child_samples': 35, 'num_leaves': 12}. Best is trial 14 with value: 0.5804670815639832.\n",
      "[I 2023-12-04 22:12:32,986] Trial 31 finished with value: 0.5812797604223068 and parameters: {'reg_lambda': 9.107459599570266, 'reg_alpha': 2.9716227393904795, 'colsample_bytree': 0.7, 'colsample_bynode': 0.8, 'subsample': 0.8, 'learning_rate': 0.0008902677286836693, 'max_depth': 20, 'min_child_samples': 11, 'num_leaves': 10}. Best is trial 14 with value: 0.5804670815639832.\n",
      "[I 2023-12-04 22:14:41,421] Trial 32 finished with value: 0.5835147209754344 and parameters: {'reg_lambda': 2.7162222682600015, 'reg_alpha': 3.2333941640040305, 'colsample_bytree': 0.7, 'colsample_bynode': 0.8, 'subsample': 0.8, 'learning_rate': 0.000427967171498542, 'max_depth': 45, 'min_child_samples': 11, 'num_leaves': 10}. Best is trial 14 with value: 0.5804670815639832.\n",
      "[I 2023-12-04 22:16:27,120] Trial 33 finished with value: 0.5822909587605201 and parameters: {'reg_lambda': 5.401647546810154, 'reg_alpha': 1.0450093245744074, 'colsample_bytree': 0.7, 'colsample_bynode': 0.8, 'subsample': 0.8, 'learning_rate': 0.0009216864626592217, 'max_depth': 20, 'min_child_samples': 11, 'num_leaves': 14}. Best is trial 14 with value: 0.5804670815639832.\n",
      "[I 2023-12-04 22:17:16,569] Trial 34 finished with value: 0.5825131213842322 and parameters: {'reg_lambda': 1.4505289697965338, 'reg_alpha': 3.7140624575375183, 'colsample_bytree': 0.7, 'colsample_bynode': 0.6, 'subsample': 0.9, 'learning_rate': 0.001720229571789777, 'max_depth': 20, 'min_child_samples': 7, 'num_leaves': 12}. Best is trial 14 with value: 0.5804670815639832.\n",
      "[I 2023-12-04 22:20:19,151] Trial 35 finished with value: 0.6094153730882643 and parameters: {'reg_lambda': 0.6977628067767598, 'reg_alpha': 0.40959006278386195, 'colsample_bytree': 0.9, 'colsample_bynode': 0.7, 'subsample': 0.4, 'learning_rate': 0.0002196943284633242, 'max_depth': 50, 'min_child_samples': 11, 'num_leaves': 10}. Best is trial 14 with value: 0.5804670815639832.\n",
      "[I 2023-12-04 22:22:48,440] Trial 36 finished with value: 0.5863424163961275 and parameters: {'reg_lambda': 5.069491721785304, 'reg_alpha': 1.7702169051032526, 'colsample_bytree': 0.8, 'colsample_bynode': 0.8, 'subsample': 0.8, 'learning_rate': 0.0006628903864171258, 'max_depth': 20, 'min_child_samples': 35, 'num_leaves': 14}. Best is trial 14 with value: 0.5804670815639832.\n",
      "[I 2023-12-04 22:23:16,394] Trial 37 finished with value: 0.5900335412095042 and parameters: {'reg_lambda': 2.012129764483649, 'reg_alpha': 9.6257751251655, 'colsample_bytree': 0.4, 'colsample_bynode': 0.5, 'subsample': 1.0, 'learning_rate': 0.003091532447938418, 'max_depth': 13, 'min_child_samples': 15, 'num_leaves': 28}. Best is trial 14 with value: 0.5804670815639832.\n",
      "[I 2023-12-04 22:25:48,182] Trial 38 finished with value: 0.6750417535091007 and parameters: {'reg_lambda': 0.4897248661028337, 'reg_alpha': 0.760151196628444, 'colsample_bytree': 0.5, 'colsample_bynode': 0.7, 'subsample': 0.4, 'learning_rate': 0.00011146732134630346, 'max_depth': 45, 'min_child_samples': 20, 'num_leaves': 16}. Best is trial 14 with value: 0.5804670815639832.\n",
      "[I 2023-12-04 22:25:53,545] Trial 39 finished with value: 0.578711669185352 and parameters: {'reg_lambda': 3.3010489504221185, 'reg_alpha': 2.9564516552629607, 'colsample_bytree': 0.7, 'colsample_bynode': 0.8, 'subsample': 0.9, 'learning_rate': 0.028586083677820565, 'max_depth': 35, 'min_child_samples': 11, 'num_leaves': 12}. Best is trial 39 with value: 0.578711669185352.\n",
      "[I 2023-12-04 22:25:57,984] Trial 40 finished with value: 0.5831821451775079 and parameters: {'reg_lambda': 0.03399694654730843, 'reg_alpha': 2.690605141933593, 'colsample_bytree': 0.4, 'colsample_bynode': 1.0, 'subsample': 0.9, 'learning_rate': 0.026062566765737986, 'max_depth': 35, 'min_child_samples': 7, 'num_leaves': 20}. Best is trial 39 with value: 0.578711669185352.\n",
      "[I 2023-12-04 22:26:07,021] Trial 41 finished with value: 0.5802405935649162 and parameters: {'reg_lambda': 3.2129203211991046, 'reg_alpha': 4.810167005043073, 'colsample_bytree': 0.7, 'colsample_bynode': 0.8, 'subsample': 0.9, 'learning_rate': 0.01664725222965983, 'max_depth': 35, 'min_child_samples': 11, 'num_leaves': 12}. Best is trial 39 with value: 0.578711669185352.\n",
      "[I 2023-12-04 22:26:11,503] Trial 42 finished with value: 0.5787594139516312 and parameters: {'reg_lambda': 3.255602119715653, 'reg_alpha': 5.581204449950491, 'colsample_bytree': 0.7, 'colsample_bynode': 0.8, 'subsample': 0.9, 'learning_rate': 0.048458782933733985, 'max_depth': 35, 'min_child_samples': 11, 'num_leaves': 12}. Best is trial 39 with value: 0.578711669185352.\n",
      "[I 2023-12-04 22:26:16,421] Trial 43 finished with value: 0.5792705502438099 and parameters: {'reg_lambda': 2.526444778992747, 'reg_alpha': 4.985798270106634, 'colsample_bytree': 0.7, 'colsample_bynode': 0.8, 'subsample': 0.9, 'learning_rate': 0.045710140260954206, 'max_depth': 35, 'min_child_samples': 11, 'num_leaves': 12}. Best is trial 39 with value: 0.578711669185352.\n",
      "[I 2023-12-04 22:26:20,069] Trial 44 finished with value: 0.577365506986913 and parameters: {'reg_lambda': 2.8675999392641445, 'reg_alpha': 4.640413164480739, 'colsample_bytree': 0.7, 'colsample_bynode': 0.8, 'subsample': 0.9, 'learning_rate': 0.046575306293526415, 'max_depth': 35, 'min_child_samples': 11, 'num_leaves': 12}. Best is trial 44 with value: 0.577365506986913.\n",
      "[I 2023-12-04 22:26:24,236] Trial 45 finished with value: 0.5774430822875265 and parameters: {'reg_lambda': 2.898467368346065, 'reg_alpha': 5.453993894235888, 'colsample_bytree': 0.7, 'colsample_bynode': 0.8, 'subsample': 0.9, 'learning_rate': 0.04949750478667148, 'max_depth': 35, 'min_child_samples': 11, 'num_leaves': 12}. Best is trial 44 with value: 0.577365506986913.\n",
      "[I 2023-12-04 22:26:29,103] Trial 46 finished with value: 0.5920607260084274 and parameters: {'reg_lambda': 1.2025610630211305, 'reg_alpha': 5.994596786394681, 'colsample_bytree': 0.7, 'colsample_bynode': 0.4, 'subsample': 0.9, 'learning_rate': 0.04942910788793337, 'max_depth': 35, 'min_child_samples': 11, 'num_leaves': 34}. Best is trial 44 with value: 0.577365506986913.\n",
      "[I 2023-12-04 22:26:33,435] Trial 47 finished with value: 0.581991822960988 and parameters: {'reg_lambda': 2.111007637772334, 'reg_alpha': 5.937210656081495, 'colsample_bytree': 0.7, 'colsample_bynode': 0.8, 'subsample': 0.9, 'learning_rate': 0.03045754714714118, 'max_depth': 35, 'min_child_samples': 30, 'num_leaves': 12}. Best is trial 44 with value: 0.577365506986913.\n",
      "[I 2023-12-04 22:26:38,953] Trial 48 finished with value: 0.5896050034105864 and parameters: {'reg_lambda': 0.3625163234094958, 'reg_alpha': 2.0048494792540335, 'colsample_bytree': 0.6, 'colsample_bynode': 0.8, 'subsample': 0.9, 'learning_rate': 0.036475764775004874, 'max_depth': 35, 'min_child_samples': 40, 'num_leaves': 40}. Best is trial 44 with value: 0.577365506986913.\n",
      "[I 2023-12-04 22:26:48,395] Trial 49 finished with value: 0.5821235822504753 and parameters: {'reg_lambda': 1.0563080070308826, 'reg_alpha': 1.0340372596482252, 'colsample_bytree': 0.7, 'colsample_bynode': 0.8, 'subsample': 0.9, 'learning_rate': 0.017659264701493083, 'max_depth': 35, 'min_child_samples': 11, 'num_leaves': 16}. Best is trial 44 with value: 0.577365506986913.\n",
      "[I 2023-12-04 22:26:53,691] Trial 50 finished with value: 0.583561835887575 and parameters: {'reg_lambda': 1.8553191815582148, 'reg_alpha': 2.524597090123849, 'colsample_bytree': 1.0, 'colsample_bynode': 1.0, 'subsample': 0.5, 'learning_rate': 0.046996480152926776, 'max_depth': 25, 'min_child_samples': 9, 'num_leaves': 14}. Best is trial 44 with value: 0.577365506986913.\n",
      "[I 2023-12-04 22:27:02,908] Trial 51 finished with value: 0.5779267366525624 and parameters: {'reg_lambda': 4.337481010431359, 'reg_alpha': 5.216684148478629, 'colsample_bytree': 0.7, 'colsample_bynode': 0.8, 'subsample': 0.9, 'learning_rate': 0.015156345620782783, 'max_depth': 35, 'min_child_samples': 11, 'num_leaves': 12}. Best is trial 44 with value: 0.577365506986913.\n",
      "[I 2023-12-04 22:27:08,791] Trial 52 finished with value: 0.5791670777321855 and parameters: {'reg_lambda': 3.2263231848311396, 'reg_alpha': 4.967309123912694, 'colsample_bytree': 0.7, 'colsample_bynode': 0.8, 'subsample': 0.9, 'learning_rate': 0.02618913943219434, 'max_depth': 35, 'min_child_samples': 11, 'num_leaves': 12}. Best is trial 44 with value: 0.577365506986913.\n",
      "[I 2023-12-04 22:27:15,441] Trial 53 finished with value: 0.580194923617732 and parameters: {'reg_lambda': 3.790142659633403, 'reg_alpha': 5.754555919172206, 'colsample_bytree': 0.7, 'colsample_bynode': 0.8, 'subsample': 0.9, 'learning_rate': 0.030760833846930985, 'max_depth': 35, 'min_child_samples': 11, 'num_leaves': 18}. Best is trial 44 with value: 0.577365506986913.\n",
      "[I 2023-12-04 22:27:25,684] Trial 54 finished with value: 0.5810409846587306 and parameters: {'reg_lambda': 6.729138057312499, 'reg_alpha': 9.729805268933767, 'colsample_bytree': 0.7, 'colsample_bynode': 0.8, 'subsample': 0.9, 'learning_rate': 0.012536362530635444, 'max_depth': 35, 'min_child_samples': 17, 'num_leaves': 12}. Best is trial 44 with value: 0.577365506986913.\n",
      "[I 2023-12-04 22:27:33,144] Trial 55 finished with value: 0.5788491210351425 and parameters: {'reg_lambda': 3.4276010955620113, 'reg_alpha': 2.653667808992111, 'colsample_bytree': 0.9, 'colsample_bynode': 0.8, 'subsample': 0.9, 'learning_rate': 0.022772150712389475, 'max_depth': 35, 'min_child_samples': 15, 'num_leaves': 14}. Best is trial 44 with value: 0.577365506986913.\n",
      "[I 2023-12-04 22:27:42,566] Trial 56 finished with value: 0.5812499049874404 and parameters: {'reg_lambda': 6.4219268697036345, 'reg_alpha': 2.8186308054607223, 'colsample_bytree': 0.9, 'colsample_bynode': 0.9, 'subsample': 0.9, 'learning_rate': 0.017752699198609202, 'max_depth': 35, 'min_child_samples': 15, 'num_leaves': 14}. Best is trial 44 with value: 0.577365506986913.\n",
      "[I 2023-12-04 22:27:51,205] Trial 57 finished with value: 0.5898428514117999 and parameters: {'reg_lambda': 1.4922862976540636, 'reg_alpha': 0.5185402002364529, 'colsample_bytree': 0.9, 'colsample_bynode': 0.8, 'subsample': 0.9, 'learning_rate': 0.022795463523160003, 'max_depth': 35, 'min_child_samples': 15, 'num_leaves': 16}. Best is trial 44 with value: 0.577365506986913.\n",
      "[I 2023-12-04 22:28:00,382] Trial 58 finished with value: 0.580861485915919 and parameters: {'reg_lambda': 3.6660600211270484, 'reg_alpha': 2.469039137230702, 'colsample_bytree': 0.9, 'colsample_bynode': 0.7, 'subsample': 0.9, 'learning_rate': 0.013542361001525097, 'max_depth': 17, 'min_child_samples': 15, 'num_leaves': 10}. Best is trial 44 with value: 0.577365506986913.\n",
      "[I 2023-12-04 22:28:06,613] Trial 59 finished with value: 0.5868967392766075 and parameters: {'reg_lambda': 0.9188142900171525, 'reg_alpha': 1.0215878744342093, 'colsample_bytree': 0.9, 'colsample_bynode': 0.8, 'subsample': 0.5, 'learning_rate': 0.036074954583315326, 'max_depth': 40, 'min_child_samples': 25, 'num_leaves': 14}. Best is trial 44 with value: 0.577365506986913.\n",
      "[I 2023-12-04 22:28:11,632] Trial 60 finished with value: 0.5858347846265728 and parameters: {'reg_lambda': 1.7612078101523307, 'reg_alpha': 6.366453284530809, 'colsample_bytree': 0.4, 'colsample_bynode': 0.4, 'subsample': 0.9, 'learning_rate': 0.018997432495117077, 'max_depth': 30, 'min_child_samples': 40, 'num_leaves': 18}. Best is trial 44 with value: 0.577365506986913.\n",
      "[I 2023-12-04 22:28:16,423] Trial 61 finished with value: 0.5798975871827553 and parameters: {'reg_lambda': 2.9739500632340037, 'reg_alpha': 3.487080612959154, 'colsample_bytree': 0.7, 'colsample_bynode': 0.8, 'subsample': 0.9, 'learning_rate': 0.02684464013329923, 'max_depth': 35, 'min_child_samples': 11, 'num_leaves': 12}. Best is trial 44 with value: 0.577365506986913.\n",
      "[I 2023-12-04 22:28:23,827] Trial 62 finished with value: 0.5748466732670883 and parameters: {'reg_lambda': 4.155434251944091, 'reg_alpha': 7.181336091353165, 'colsample_bytree': 0.7, 'colsample_bynode': 0.8, 'subsample': 0.9, 'learning_rate': 0.024310715836026096, 'max_depth': 35, 'min_child_samples': 11, 'num_leaves': 10}. Best is trial 62 with value: 0.5748466732670883.\n",
      "[I 2023-12-04 22:28:29,086] Trial 63 finished with value: 0.5782994557954044 and parameters: {'reg_lambda': 7.393618761198073, 'reg_alpha': 7.283663576890846, 'colsample_bytree': 0.7, 'colsample_bynode': 0.8, 'subsample': 0.9, 'learning_rate': 0.03854427386576107, 'max_depth': 35, 'min_child_samples': 13, 'num_leaves': 10}. Best is trial 62 with value: 0.5748466732670883.\n",
      "[I 2023-12-04 22:28:33,161] Trial 64 finished with value: 0.5833344500814086 and parameters: {'reg_lambda': 9.870584516476619, 'reg_alpha': 7.697088689203605, 'colsample_bytree': 0.7, 'colsample_bynode': 0.8, 'subsample': 0.6, 'learning_rate': 0.03705388336989741, 'max_depth': 15, 'min_child_samples': 13, 'num_leaves': 10}. Best is trial 62 with value: 0.5748466732670883.\n",
      "[I 2023-12-04 22:28:41,945] Trial 65 finished with value: 0.5811473728861806 and parameters: {'reg_lambda': 5.306062114450752, 'reg_alpha': 3.9935643156464065, 'colsample_bytree': 0.7, 'colsample_bynode': 0.5, 'subsample': 1.0, 'learning_rate': 0.01323244670913477, 'max_depth': 35, 'min_child_samples': 13, 'num_leaves': 10}. Best is trial 62 with value: 0.5748466732670883.\n",
      "[I 2023-12-04 22:28:46,808] Trial 66 finished with value: 0.579557870868981 and parameters: {'reg_lambda': 7.262842993911296, 'reg_alpha': 6.938607136964127, 'colsample_bytree': 0.7, 'colsample_bynode': 0.8, 'subsample': 0.7, 'learning_rate': 0.03886303559745372, 'max_depth': 9, 'min_child_samples': 13, 'num_leaves': 10}. Best is trial 62 with value: 0.5748466732670883.\n",
      "[I 2023-12-04 22:28:52,660] Trial 67 finished with value: 0.577628103312218 and parameters: {'reg_lambda': 4.596847565743227, 'reg_alpha': 9.72010944936754, 'colsample_bytree': 0.7, 'colsample_bynode': 0.8, 'subsample': 0.9, 'learning_rate': 0.0293670412262034, 'max_depth': 25, 'min_child_samples': 11, 'num_leaves': 12}. Best is trial 62 with value: 0.5748466732670883.\n",
      "[I 2023-12-04 22:28:57,563] Trial 68 finished with value: 0.5812040667528021 and parameters: {'reg_lambda': 5.01557980584631, 'reg_alpha': 9.991338609091136, 'colsample_bytree': 0.6, 'colsample_bynode': 0.9, 'subsample': 0.9, 'learning_rate': 0.029299513140121844, 'max_depth': 11, 'min_child_samples': 11, 'num_leaves': 10}. Best is trial 62 with value: 0.5748466732670883.\n",
      "[I 2023-12-04 22:29:07,882] Trial 69 finished with value: 0.5850157777790082 and parameters: {'reg_lambda': 7.400814480639949, 'reg_alpha': 4.307957718508211, 'colsample_bytree': 0.7, 'colsample_bynode': 0.8, 'subsample': 0.9, 'learning_rate': 0.011411111593134838, 'max_depth': 25, 'min_child_samples': 20, 'num_leaves': 14}. Best is trial 62 with value: 0.5748466732670883.\n",
      "[I 2023-12-04 22:29:17,836] Trial 70 finished with value: 0.5778836905175269 and parameters: {'reg_lambda': 2.336018649777126, 'reg_alpha': 7.346338899279373, 'colsample_bytree': 0.8, 'colsample_bynode': 0.8, 'subsample': 0.9, 'learning_rate': 0.02030009987054346, 'max_depth': 50, 'min_child_samples': 11, 'num_leaves': 12}. Best is trial 62 with value: 0.5748466732670883.\n",
      "[I 2023-12-04 22:29:25,445] Trial 71 finished with value: 0.5778650081084453 and parameters: {'reg_lambda': 2.360591491773217, 'reg_alpha': 3.8800225239046915, 'colsample_bytree': 0.8, 'colsample_bynode': 0.8, 'subsample': 0.9, 'learning_rate': 0.02058788926081325, 'max_depth': 50, 'min_child_samples': 11, 'num_leaves': 12}. Best is trial 62 with value: 0.5748466732670883.\n",
      "[I 2023-12-04 22:29:35,212] Trial 72 finished with value: 0.5782119584121883 and parameters: {'reg_lambda': 2.3000333740679753, 'reg_alpha': 7.650188179486442, 'colsample_bytree': 0.8, 'colsample_bynode': 0.8, 'subsample': 0.9, 'learning_rate': 0.02039246869093202, 'max_depth': 50, 'min_child_samples': 11, 'num_leaves': 10}. Best is trial 62 with value: 0.5748466732670883.\n",
      "[I 2023-12-04 22:29:44,155] Trial 73 finished with value: 0.5784686862827848 and parameters: {'reg_lambda': 1.2446722686844303, 'reg_alpha': 4.013606016101787, 'colsample_bytree': 0.8, 'colsample_bynode': 0.8, 'subsample': 0.9, 'learning_rate': 0.01571180184615022, 'max_depth': 50, 'min_child_samples': 11, 'num_leaves': 14}. Best is trial 62 with value: 0.5748466732670883.\n",
      "[I 2023-12-04 22:30:07,466] Trial 74 finished with value: 0.5785152270368238 and parameters: {'reg_lambda': 2.2342752344020793, 'reg_alpha': 7.679864696604301, 'colsample_bytree': 0.8, 'colsample_bynode': 1.0, 'subsample': 0.9, 'learning_rate': 0.0075168400434221854, 'max_depth': 50, 'min_child_samples': 11, 'num_leaves': 16}. Best is trial 62 with value: 0.5748466732670883.\n",
      "[I 2023-12-04 22:30:20,369] Trial 75 finished with value: 0.5837164230196348 and parameters: {'reg_lambda': 0.49575169281693854, 'reg_alpha': 2.006297657366303, 'colsample_bytree': 0.8, 'colsample_bynode': 0.8, 'subsample': 0.6, 'learning_rate': 0.010607114221966281, 'max_depth': 50, 'min_child_samples': 11, 'num_leaves': 12}. Best is trial 62 with value: 0.5748466732670883.\n",
      "[I 2023-12-04 22:30:29,674] Trial 76 finished with value: 0.5773059824801007 and parameters: {'reg_lambda': 1.4895846068631777, 'reg_alpha': 9.785021605469439, 'colsample_bytree': 0.8, 'colsample_bynode': 0.8, 'subsample': 0.9, 'learning_rate': 0.019617862288578477, 'max_depth': 50, 'min_child_samples': 11, 'num_leaves': 10}. Best is trial 62 with value: 0.5748466732670883.\n",
      "[I 2023-12-04 22:30:40,628] Trial 77 finished with value: 0.5819072223387954 and parameters: {'reg_lambda': 1.6032474599943185, 'reg_alpha': 4.06094847364862, 'colsample_bytree': 0.8, 'colsample_bynode': 0.6, 'subsample': 0.7, 'learning_rate': 0.021526372184411245, 'max_depth': 50, 'min_child_samples': 11, 'num_leaves': 26}. Best is trial 62 with value: 0.5748466732670883.\n",
      "[I 2023-12-04 22:30:52,676] Trial 78 finished with value: 0.5778931739127561 and parameters: {'reg_lambda': 4.455868426596854, 'reg_alpha': 9.963363234171048, 'colsample_bytree': 0.8, 'colsample_bynode': 0.8, 'subsample': 1.0, 'learning_rate': 0.01434714118317194, 'max_depth': 25, 'min_child_samples': 9, 'num_leaves': 12}. Best is trial 62 with value: 0.5748466732670883.\n",
      "[I 2023-12-04 22:31:13,916] Trial 79 finished with value: 0.5788440757637905 and parameters: {'reg_lambda': 1.0329961217398567, 'reg_alpha': 7.293389001273143, 'colsample_bytree': 0.8, 'colsample_bynode': 0.7, 'subsample': 1.0, 'learning_rate': 0.007781482136210999, 'max_depth': 25, 'min_child_samples': 9, 'num_leaves': 10}. Best is trial 62 with value: 0.5748466732670883.\n",
      "[I 2023-12-04 22:31:20,610] Trial 80 finished with value: 0.592165409158443 and parameters: {'reg_lambda': 0.7263112893629177, 'reg_alpha': 9.809336055128776, 'colsample_bytree': 0.8, 'colsample_bynode': 0.8, 'subsample': 1.0, 'learning_rate': 0.03169940170241438, 'max_depth': 25, 'min_child_samples': 9, 'num_leaves': 32}. Best is trial 62 with value: 0.5748466732670883.\n",
      "[I 2023-12-04 22:31:31,885] Trial 81 finished with value: 0.5798382618932797 and parameters: {'reg_lambda': 4.532191903985422, 'reg_alpha': 4.7721844875381985, 'colsample_bytree': 0.8, 'colsample_bynode': 0.8, 'subsample': 1.0, 'learning_rate': 0.014063318960171949, 'max_depth': 25, 'min_child_samples': 9, 'num_leaves': 12}. Best is trial 62 with value: 0.5748466732670883.\n",
      "[I 2023-12-04 22:31:40,408] Trial 82 finished with value: 0.583793961343414 and parameters: {'reg_lambda': 4.2385519816940285, 'reg_alpha': 3.4459733081579844, 'colsample_bytree': 0.8, 'colsample_bynode': 0.8, 'subsample': 1.0, 'learning_rate': 0.016099174389874942, 'max_depth': 50, 'min_child_samples': 30, 'num_leaves': 12}. Best is trial 62 with value: 0.5748466732670883.\n",
      "[I 2023-12-04 22:31:51,357] Trial 83 finished with value: 0.5807475845507603 and parameters: {'reg_lambda': 2.605932801541954, 'reg_alpha': 5.5661221822435625, 'colsample_bytree': 0.8, 'colsample_bynode': 0.8, 'subsample': 0.9, 'learning_rate': 0.02307779221385759, 'max_depth': 50, 'min_child_samples': 7, 'num_leaves': 12}. Best is trial 62 with value: 0.5748466732670883.\n",
      "[I 2023-12-04 22:32:11,329] Trial 84 finished with value: 0.5799481112022563 and parameters: {'reg_lambda': 1.713155986621611, 'reg_alpha': 7.785034419177526, 'colsample_bytree': 0.8, 'colsample_bynode': 0.5, 'subsample': 0.5, 'learning_rate': 0.01038479817208182, 'max_depth': 25, 'min_child_samples': 11, 'num_leaves': 14}. Best is trial 62 with value: 0.5748466732670883.\n",
      "[I 2023-12-04 22:32:17,588] Trial 85 finished with value: 0.5847359053913782 and parameters: {'reg_lambda': 4.328930293739611, 'reg_alpha': 1.5080972338760172, 'colsample_bytree': 1.0, 'colsample_bynode': 0.8, 'subsample': 0.9, 'learning_rate': 0.019057287938029615, 'max_depth': 13, 'min_child_samples': 17, 'num_leaves': 10}. Best is trial 62 with value: 0.5748466732670883.\n",
      "[I 2023-12-04 22:32:23,895] Trial 86 finished with value: 0.5861455919277844 and parameters: {'reg_lambda': 2.50042511487096, 'reg_alpha': 2.077017301305052, 'colsample_bytree': 0.8, 'colsample_bynode': 0.4, 'subsample': 0.9, 'learning_rate': 0.027464687501233223, 'max_depth': 45, 'min_child_samples': 11, 'num_leaves': 12}. Best is trial 62 with value: 0.5748466732670883.\n",
      "[I 2023-12-04 22:32:27,618] Trial 87 finished with value: 0.5895919323966551 and parameters: {'reg_lambda': 5.1183648507330615, 'reg_alpha': 3.5884423647800783, 'colsample_bytree': 0.8, 'colsample_bynode': 0.8, 'subsample': 0.9, 'learning_rate': 0.042571028494757454, 'max_depth': 50, 'min_child_samples': 25, 'num_leaves': 16}. Best is trial 62 with value: 0.5748466732670883.\n",
      "[I 2023-12-04 22:32:32,467] Trial 88 finished with value: 0.5819589254616039 and parameters: {'reg_lambda': 1.3458411856977486, 'reg_alpha': 4.972249385153042, 'colsample_bytree': 0.5, 'colsample_bynode': 0.8, 'subsample': 0.9, 'learning_rate': 0.03335723129953785, 'max_depth': 40, 'min_child_samples': 11, 'num_leaves': 14}. Best is trial 62 with value: 0.5748466732670883.\n",
      "[I 2023-12-04 22:32:43,995] Trial 89 finished with value: 0.5791552688440742 and parameters: {'reg_lambda': 6.690149605751998, 'reg_alpha': 6.353460511539541, 'colsample_bytree': 0.8, 'colsample_bynode': 0.8, 'subsample': 0.4, 'learning_rate': 0.015412794219161967, 'max_depth': 17, 'min_child_samples': 11, 'num_leaves': 12}. Best is trial 62 with value: 0.5748466732670883.\n",
      "[I 2023-12-04 22:32:48,948] Trial 90 finished with value: 0.5769527241109019 and parameters: {'reg_lambda': 2.6656996504022548, 'reg_alpha': 9.542674770664693, 'colsample_bytree': 0.4, 'colsample_bynode': 0.8, 'subsample': 0.9, 'learning_rate': 0.021966893651326744, 'max_depth': 30, 'min_child_samples': 11, 'num_leaves': 14}. Best is trial 62 with value: 0.5748466732670883.\n",
      "[I 2023-12-04 22:32:53,638] Trial 91 finished with value: 0.5835856269210941 and parameters: {'reg_lambda': 2.6781589864261948, 'reg_alpha': 9.862269057698061, 'colsample_bytree': 0.4, 'colsample_bynode': 0.8, 'subsample': 0.9, 'learning_rate': 0.02435970643344275, 'max_depth': 30, 'min_child_samples': 11, 'num_leaves': 14}. Best is trial 62 with value: 0.5748466732670883.\n",
      "[I 2023-12-04 22:32:56,453] Trial 92 finished with value: 0.5809501159103816 and parameters: {'reg_lambda': 1.956566873108946, 'reg_alpha': 7.050036593982196, 'colsample_bytree': 0.4, 'colsample_bynode': 0.8, 'subsample': 0.9, 'learning_rate': 0.04319072243796083, 'max_depth': 30, 'min_child_samples': 11, 'num_leaves': 10}. Best is trial 62 with value: 0.5748466732670883.\n",
      "[I 2023-12-04 22:33:02,479] Trial 93 finished with value: 0.5792728991133003 and parameters: {'reg_lambda': 4.224774176433904, 'reg_alpha': 5.018150686160885, 'colsample_bytree': 0.4, 'colsample_bynode': 0.8, 'subsample': 0.9, 'learning_rate': 0.018688621095264438, 'max_depth': 30, 'min_child_samples': 11, 'num_leaves': 12}. Best is trial 62 with value: 0.5748466732670883.\n",
      "[I 2023-12-04 22:33:04,771] Trial 94 finished with value: 0.5847090281492359 and parameters: {'reg_lambda': 3.780770963742557, 'reg_alpha': 3.1713104673402466, 'colsample_bytree': 0.4, 'colsample_bynode': 0.8, 'subsample': 0.9, 'learning_rate': 0.03398685324951582, 'max_depth': 25, 'min_child_samples': 9, 'num_leaves': 10}. Best is trial 62 with value: 0.5748466732670883.\n",
      "[I 2023-12-04 22:33:12,964] Trial 95 finished with value: 0.5795571606788613 and parameters: {'reg_lambda': 0.8894481163275816, 'reg_alpha': 2.385414823438384, 'colsample_bytree': 0.6, 'colsample_bynode': 0.9, 'subsample': 0.9, 'learning_rate': 0.013833340738497995, 'max_depth': 9, 'min_child_samples': 11, 'num_leaves': 12}. Best is trial 62 with value: 0.5748466732670883.\n",
      "[I 2023-12-04 22:33:21,364] Trial 96 finished with value: 0.5877306213579326 and parameters: {'reg_lambda': 9.901513912434016, 'reg_alpha': 9.878846033579137, 'colsample_bytree': 1.0, 'colsample_bynode': 1.0, 'subsample': 1.0, 'learning_rate': 0.025979689040065992, 'max_depth': 50, 'min_child_samples': 35, 'num_leaves': 14}. Best is trial 62 with value: 0.5748466732670883.\n",
      "[I 2023-12-04 22:33:32,545] Trial 97 finished with value: 0.5865356712238919 and parameters: {'reg_lambda': 2.70367944901277, 'reg_alpha': 4.518991310785652, 'colsample_bytree': 0.8, 'colsample_bynode': 0.8, 'subsample': 0.9, 'learning_rate': 0.020394561016800018, 'max_depth': 15, 'min_child_samples': 11, 'num_leaves': 24}. Best is trial 62 with value: 0.5748466732670883.\n",
      "[I 2023-12-04 22:33:35,696] Trial 98 finished with value: 0.5842044319296864 and parameters: {'reg_lambda': 1.3046846902056168, 'reg_alpha': 6.009205526394554, 'colsample_bytree': 0.7, 'colsample_bynode': 0.8, 'subsample': 0.9, 'learning_rate': 0.04190611730804117, 'max_depth': 11, 'min_child_samples': 20, 'num_leaves': 10}. Best is trial 62 with value: 0.5748466732670883.\n",
      "[I 2023-12-04 22:33:39,223] Trial 99 finished with value: 0.5889726838623865 and parameters: {'reg_lambda': 5.953148456200881, 'reg_alpha': 3.149321252924139, 'colsample_bytree': 0.7, 'colsample_bynode': 0.6, 'subsample': 0.6, 'learning_rate': 0.0498616278886485, 'max_depth': 30, 'min_child_samples': 40, 'num_leaves': 16}. Best is trial 62 with value: 0.5748466732670883.\n",
      "[I 2023-12-04 22:33:50,082] Trial 100 finished with value: 0.5802211974693245 and parameters: {'reg_lambda': 1.751907727385269, 'reg_alpha': 7.931413957028957, 'colsample_bytree': 0.4, 'colsample_bynode': 0.8, 'subsample': 0.7, 'learning_rate': 0.008988458651507734, 'max_depth': 25, 'min_child_samples': 11, 'num_leaves': 10}. Best is trial 62 with value: 0.5748466732670883.\n",
      "[I 2023-12-04 22:33:59,718] Trial 101 finished with value: 0.5778627374771476 and parameters: {'reg_lambda': 2.3444451108322317, 'reg_alpha': 8.03522046384551, 'colsample_bytree': 0.8, 'colsample_bynode': 0.8, 'subsample': 0.9, 'learning_rate': 0.02116741304035026, 'max_depth': 50, 'min_child_samples': 11, 'num_leaves': 12}. Best is trial 62 with value: 0.5748466732670883.\n",
      "[I 2023-12-04 22:34:08,425] Trial 102 finished with value: 0.5759329521641469 and parameters: {'reg_lambda': 3.3554985065771823, 'reg_alpha': 5.871411753404105, 'colsample_bytree': 0.8, 'colsample_bynode': 0.8, 'subsample': 0.9, 'learning_rate': 0.029966941464149847, 'max_depth': 50, 'min_child_samples': 11, 'num_leaves': 12}. Best is trial 62 with value: 0.5748466732670883.\n",
      "[I 2023-12-04 22:34:15,942] Trial 103 finished with value: 0.5780167262563506 and parameters: {'reg_lambda': 3.0951087651209503, 'reg_alpha': 6.397575752646597, 'colsample_bytree': 0.8, 'colsample_bynode': 0.8, 'subsample': 0.9, 'learning_rate': 0.031133428361193434, 'max_depth': 50, 'min_child_samples': 11, 'num_leaves': 14}. Best is trial 62 with value: 0.5748466732670883.\n",
      "[I 2023-12-04 22:34:26,721] Trial 104 finished with value: 0.578186775519046 and parameters: {'reg_lambda': 2.169948067567673, 'reg_alpha': 8.17025811953901, 'colsample_bytree': 0.8, 'colsample_bynode': 0.8, 'subsample': 0.9, 'learning_rate': 0.025103546446316134, 'max_depth': 50, 'min_child_samples': 11, 'num_leaves': 12}. Best is trial 62 with value: 0.5748466732670883.\n",
      "[I 2023-12-04 22:34:31,879] Trial 105 finished with value: 0.5813189631857173 and parameters: {'reg_lambda': 1.10300079002012, 'reg_alpha': 4.229786161067393, 'colsample_bytree': 0.8, 'colsample_bynode': 0.8, 'subsample': 0.9, 'learning_rate': 0.03866396726921159, 'max_depth': 50, 'min_child_samples': 11, 'num_leaves': 14}. Best is trial 62 with value: 0.5748466732670883.\n",
      "[I 2023-12-04 22:34:36,967] Trial 106 finished with value: 0.5788281313283337 and parameters: {'reg_lambda': 1.5249967096023833, 'reg_alpha': 5.901818063877485, 'colsample_bytree': 0.8, 'colsample_bynode': 0.7, 'subsample': 0.5, 'learning_rate': 0.0311506559449533, 'max_depth': 50, 'min_child_samples': 30, 'num_leaves': 12}. Best is trial 62 with value: 0.5748466732670883.\n",
      "[I 2023-12-04 22:34:45,018] Trial 107 finished with value: 0.5787508554325266 and parameters: {'reg_lambda': 3.5202798564093456, 'reg_alpha': 8.650976246821232, 'colsample_bytree': 0.8, 'colsample_bynode': 0.8, 'subsample': 0.9, 'learning_rate': 0.02176341189068122, 'max_depth': 50, 'min_child_samples': 11, 'num_leaves': 10}. Best is trial 62 with value: 0.5748466732670883.\n",
      "[I 2023-12-04 22:34:54,473] Trial 108 finished with value: 0.5811715631462474 and parameters: {'reg_lambda': 6.040658386948148, 'reg_alpha': 3.64493759965647, 'colsample_bytree': 0.8, 'colsample_bynode': 0.4, 'subsample': 0.9, 'learning_rate': 0.017683538925057234, 'max_depth': 13, 'min_child_samples': 7, 'num_leaves': 12}. Best is trial 62 with value: 0.5748466732670883.\n",
      "[I 2023-12-04 22:35:14,444] Trial 109 finished with value: 0.5873697384345986 and parameters: {'reg_lambda': 2.158361054456391, 'reg_alpha': 2.3251488121996626, 'colsample_bytree': 0.5, 'colsample_bynode': 0.5, 'subsample': 0.9, 'learning_rate': 0.01206678813128847, 'max_depth': 50, 'min_child_samples': 11, 'num_leaves': 36}. Best is trial 62 with value: 0.5748466732670883.\n",
      "[I 2023-12-04 22:35:21,144] Trial 110 finished with value: 0.5792618286101441 and parameters: {'reg_lambda': 2.812925324451125, 'reg_alpha': 6.875122639144641, 'colsample_bytree': 0.8, 'colsample_bynode': 0.8, 'subsample': 0.4, 'learning_rate': 0.028665734883154943, 'max_depth': 45, 'min_child_samples': 17, 'num_leaves': 10}. Best is trial 62 with value: 0.5748466732670883.\n",
      "[I 2023-12-04 22:35:29,413] Trial 111 finished with value: 0.5807381534251497 and parameters: {'reg_lambda': 4.073967209324666, 'reg_alpha': 5.061707574098911, 'colsample_bytree': 0.7, 'colsample_bynode': 0.8, 'subsample': 0.9, 'learning_rate': 0.015291681818697764, 'max_depth': 35, 'min_child_samples': 11, 'num_leaves': 12}. Best is trial 62 with value: 0.5748466732670883.\n",
      "[I 2023-12-04 22:35:38,384] Trial 112 finished with value: 0.5744957667438112 and parameters: {'reg_lambda': 4.716676233425217, 'reg_alpha': 8.724166238276345, 'colsample_bytree': 0.7, 'colsample_bynode': 0.8, 'subsample': 0.9, 'learning_rate': 0.022904949282606748, 'max_depth': 50, 'min_child_samples': 11, 'num_leaves': 12}. Best is trial 112 with value: 0.5744957667438112.\n",
      "[I 2023-12-04 22:35:44,557] Trial 113 finished with value: 0.5766166539462048 and parameters: {'reg_lambda': 8.042316560924721, 'reg_alpha': 7.8530209296732805, 'colsample_bytree': 0.7, 'colsample_bynode': 0.8, 'subsample': 0.9, 'learning_rate': 0.03583651263982947, 'max_depth': 50, 'min_child_samples': 11, 'num_leaves': 14}. Best is trial 112 with value: 0.5744957667438112.\n",
      "[I 2023-12-04 22:35:48,659] Trial 114 finished with value: 0.5817357354038701 and parameters: {'reg_lambda': 8.302311101259791, 'reg_alpha': 2.852506349036736, 'colsample_bytree': 0.7, 'colsample_bynode': 0.8, 'subsample': 0.9, 'learning_rate': 0.04958137143322658, 'max_depth': 50, 'min_child_samples': 11, 'num_leaves': 14}. Best is trial 112 with value: 0.5744957667438112.\n",
      "[I 2023-12-04 22:35:55,405] Trial 115 finished with value: 0.5817260416136553 and parameters: {'reg_lambda': 5.776258646679224, 'reg_alpha': 7.486976917175702, 'colsample_bytree': 0.7, 'colsample_bynode': 0.8, 'subsample': 0.9, 'learning_rate': 0.036281693092123826, 'max_depth': 50, 'min_child_samples': 11, 'num_leaves': 14}. Best is trial 112 with value: 0.5744957667438112.\n",
      "[I 2023-12-04 22:36:00,240] Trial 116 finished with value: 0.5798076757329605 and parameters: {'reg_lambda': 8.316583522214035, 'reg_alpha': 4.4330910486086745, 'colsample_bytree': 0.7, 'colsample_bynode': 0.8, 'subsample': 0.9, 'learning_rate': 0.023881463634859473, 'max_depth': 50, 'min_child_samples': 11, 'num_leaves': 10}. Best is trial 112 with value: 0.5744957667438112.\n",
      "[I 2023-12-04 22:36:06,582] Trial 117 finished with value: 0.5706251842689185 and parameters: {'reg_lambda': 3.135961435996029, 'reg_alpha': 6.264655217351431, 'colsample_bytree': 0.7, 'colsample_bynode': 0.8, 'subsample': 0.9, 'learning_rate': 0.04266954493666085, 'max_depth': 50, 'min_child_samples': 11, 'num_leaves': 14}. Best is trial 117 with value: 0.5706251842689185.\n",
      "[I 2023-12-04 22:36:12,049] Trial 118 finished with value: 0.577837593302513 and parameters: {'reg_lambda': 6.634698707905212, 'reg_alpha': 6.185755497806116, 'colsample_bytree': 0.7, 'colsample_bynode': 0.8, 'subsample': 0.9, 'learning_rate': 0.04333816623099888, 'max_depth': 50, 'min_child_samples': 11, 'num_leaves': 16}. Best is trial 117 with value: 0.5706251842689185.\n",
      "[I 2023-12-04 22:36:15,861] Trial 119 finished with value: 0.5879359657965375 and parameters: {'reg_lambda': 7.471580191037798, 'reg_alpha': 5.8482084238894245, 'colsample_bytree': 0.7, 'colsample_bynode': 0.9, 'subsample': 0.9, 'learning_rate': 0.04136550702632077, 'max_depth': 50, 'min_child_samples': 25, 'num_leaves': 16}. Best is trial 117 with value: 0.5706251842689185.\n",
      "[I 2023-12-04 22:36:20,183] Trial 120 finished with value: 0.5863226710137389 and parameters: {'reg_lambda': 6.033364719740902, 'reg_alpha': 9.965574870837582, 'colsample_bytree': 0.7, 'colsample_bynode': 0.8, 'subsample': 0.9, 'learning_rate': 0.04212904731428357, 'max_depth': 40, 'min_child_samples': 11, 'num_leaves': 18}. Best is trial 117 with value: 0.5706251842689185.\n",
      "[I 2023-12-04 22:36:26,567] Trial 121 finished with value: 0.5803511226106215 and parameters: {'reg_lambda': 3.561205075671397, 'reg_alpha': 3.559405169794056, 'colsample_bytree': 0.7, 'colsample_bynode': 0.8, 'subsample': 0.9, 'learning_rate': 0.032390998761742416, 'max_depth': 50, 'min_child_samples': 11, 'num_leaves': 14}. Best is trial 117 with value: 0.5706251842689185.\n",
      "[I 2023-12-04 22:36:30,467] Trial 122 finished with value: 0.5833234079274557 and parameters: {'reg_lambda': 4.685649577335721, 'reg_alpha': 5.837182820082049, 'colsample_bytree': 0.7, 'colsample_bynode': 0.8, 'subsample': 0.9, 'learning_rate': 0.036329642974767484, 'max_depth': 50, 'min_child_samples': 11, 'num_leaves': 16}. Best is trial 117 with value: 0.5706251842689185.\n",
      "[I 2023-12-04 22:36:35,093] Trial 123 finished with value: 0.5807470114783445 and parameters: {'reg_lambda': 2.74779012091329, 'reg_alpha': 7.824433767754236, 'colsample_bytree': 0.7, 'colsample_bynode': 0.8, 'subsample': 0.9, 'learning_rate': 0.026425462596503236, 'max_depth': 50, 'min_child_samples': 11, 'num_leaves': 14}. Best is trial 117 with value: 0.5706251842689185.\n",
      "[I 2023-12-04 22:36:39,351] Trial 124 finished with value: 0.5841723442102088 and parameters: {'reg_lambda': 5.050359531933158, 'reg_alpha': 4.314977185785391, 'colsample_bytree': 0.7, 'colsample_bynode': 0.8, 'subsample': 0.9, 'learning_rate': 0.04913644262666228, 'max_depth': 50, 'min_child_samples': 11, 'num_leaves': 22}. Best is trial 117 with value: 0.5706251842689185.\n",
      "[I 2023-12-04 22:36:45,050] Trial 125 finished with value: 0.5790896622646015 and parameters: {'reg_lambda': 9.87898177749464, 'reg_alpha': 1.948716112799192, 'colsample_bytree': 0.7, 'colsample_bynode': 1.0, 'subsample': 0.9, 'learning_rate': 0.029255668075731708, 'max_depth': 17, 'min_child_samples': 11, 'num_leaves': 12}. Best is trial 117 with value: 0.5706251842689185.\n",
      "[I 2023-12-04 22:36:49,526] Trial 126 finished with value: 0.5815214498982051 and parameters: {'reg_lambda': 3.2508790310093554, 'reg_alpha': 2.91004478981509, 'colsample_bytree': 0.7, 'colsample_bynode': 0.8, 'subsample': 0.9, 'learning_rate': 0.0347103480961533, 'max_depth': 50, 'min_child_samples': 11, 'num_leaves': 12}. Best is trial 117 with value: 0.5706251842689185.\n",
      "[I 2023-12-04 22:36:59,567] Trial 127 finished with value: 0.5817220319325123 and parameters: {'reg_lambda': 1.8294510866203892, 'reg_alpha': 5.1185754118901, 'colsample_bytree': 0.7, 'colsample_bynode': 0.6, 'subsample': 0.9, 'learning_rate': 0.022684154075162447, 'max_depth': 15, 'min_child_samples': 11, 'num_leaves': 30}. Best is trial 117 with value: 0.5706251842689185.\n",
      "[I 2023-12-04 22:37:03,230] Trial 128 finished with value: 0.5802228376874325 and parameters: {'reg_lambda': 7.065976507209814, 'reg_alpha': 8.17708410592867, 'colsample_bytree': 0.6, 'colsample_bynode': 0.8, 'subsample': 0.8, 'learning_rate': 0.04137827870497706, 'max_depth': 11, 'min_child_samples': 35, 'num_leaves': 14}. Best is trial 117 with value: 0.5706251842689185.\n",
      "[I 2023-12-04 22:37:09,678] Trial 129 finished with value: 0.5819686214633163 and parameters: {'reg_lambda': 5.637631340771428, 'reg_alpha': 1.5707933141813146, 'colsample_bytree': 0.7, 'colsample_bynode': 0.8, 'subsample': 0.9, 'learning_rate': 0.018237862554968794, 'max_depth': 9, 'min_child_samples': 11, 'num_leaves': 12}. Best is trial 117 with value: 0.5706251842689185.\n",
      "[I 2023-12-04 22:37:13,118] Trial 130 finished with value: 0.5828085175337786 and parameters: {'reg_lambda': 3.788723119392504, 'reg_alpha': 6.335254944491305, 'colsample_bytree': 0.7, 'colsample_bynode': 0.8, 'subsample': 0.6, 'learning_rate': 0.02829595688989275, 'max_depth': 50, 'min_child_samples': 40, 'num_leaves': 10}. Best is trial 117 with value: 0.5706251842689185.\n",
      "[I 2023-12-04 22:37:18,472] Trial 131 finished with value: 0.5807928450185457 and parameters: {'reg_lambda': 2.6978308576532553, 'reg_alpha': 8.203147511131137, 'colsample_bytree': 0.4, 'colsample_bynode': 0.8, 'subsample': 0.9, 'learning_rate': 0.025882599784637625, 'max_depth': 50, 'min_child_samples': 11, 'num_leaves': 12}. Best is trial 117 with value: 0.5706251842689185.\n",
      "[I 2023-12-04 22:37:28,350] Trial 132 finished with value: 0.577636738549229 and parameters: {'reg_lambda': 2.2817708612471415, 'reg_alpha': 6.726217236589084, 'colsample_bytree': 0.7, 'colsample_bynode': 0.8, 'subsample': 0.9, 'learning_rate': 0.019801374972884162, 'max_depth': 50, 'min_child_samples': 11, 'num_leaves': 14}. Best is trial 117 with value: 0.5706251842689185.\n",
      "[I 2023-12-04 22:37:34,062] Trial 133 finished with value: 0.5831054596076277 and parameters: {'reg_lambda': 1.6143121573194767, 'reg_alpha': 3.969199285133674, 'colsample_bytree': 0.7, 'colsample_bynode': 0.8, 'subsample': 0.9, 'learning_rate': 0.02132383899195363, 'max_depth': 50, 'min_child_samples': 11, 'num_leaves': 14}. Best is trial 117 with value: 0.5706251842689185.\n",
      "[I 2023-12-04 22:37:39,995] Trial 134 finished with value: 0.5802963603857628 and parameters: {'reg_lambda': 2.2031205017138715, 'reg_alpha': 6.280342663669975, 'colsample_bytree': 0.7, 'colsample_bynode': 0.8, 'subsample': 0.9, 'learning_rate': 0.033956790051109534, 'max_depth': 30, 'min_child_samples': 20, 'num_leaves': 20}. Best is trial 117 with value: 0.5706251842689185.\n",
      "[I 2023-12-04 22:37:55,476] Trial 135 finished with value: 0.5821741321576133 and parameters: {'reg_lambda': 3.281244901450433, 'reg_alpha': 4.896952609860179, 'colsample_bytree': 1.0, 'colsample_bynode': 0.8, 'subsample': 0.9, 'learning_rate': 0.017657100640232525, 'max_depth': 50, 'min_child_samples': 11, 'num_leaves': 14}. Best is trial 117 with value: 0.5706251842689185.\n",
      "[I 2023-12-04 22:37:59,969] Trial 136 finished with value: 0.5747463143496656 and parameters: {'reg_lambda': 1.249765349692631, 'reg_alpha': 9.800399962228823, 'colsample_bytree': 0.7, 'colsample_bynode': 0.7, 'subsample': 0.9, 'learning_rate': 0.04164170705084594, 'max_depth': 50, 'min_child_samples': 11, 'num_leaves': 16}. Best is trial 117 with value: 0.5706251842689185.\n",
      "[I 2023-12-04 22:38:04,591] Trial 137 finished with value: 0.5816243943937782 and parameters: {'reg_lambda': 1.1891147922388965, 'reg_alpha': 9.571903950751516, 'colsample_bytree': 0.7, 'colsample_bynode': 0.5, 'subsample': 0.7, 'learning_rate': 0.0422456306184897, 'max_depth': 50, 'min_child_samples': 11, 'num_leaves': 18}. Best is trial 117 with value: 0.5706251842689185.\n",
      "[I 2023-12-04 22:38:10,050] Trial 138 finished with value: 0.5817085788977068 and parameters: {'reg_lambda': 0.5904404758008358, 'reg_alpha': 6.756299064757692, 'colsample_bytree': 0.7, 'colsample_bynode': 0.7, 'subsample': 0.9, 'learning_rate': 0.03772695358828412, 'max_depth': 35, 'min_child_samples': 11, 'num_leaves': 14}. Best is trial 117 with value: 0.5706251842689185.\n",
      "[I 2023-12-04 22:38:13,267] Trial 139 finished with value: 0.5866455163936329 and parameters: {'reg_lambda': 0.9032166818356281, 'reg_alpha': 9.91364992782822, 'colsample_bytree': 0.7, 'colsample_bynode': 0.7, 'subsample': 0.5, 'learning_rate': 0.04847360341130478, 'max_depth': 50, 'min_child_samples': 30, 'num_leaves': 16}. Best is trial 117 with value: 0.5706251842689185.\n",
      "[I 2023-12-04 22:38:21,038] Trial 140 finished with value: 0.5816303207486334 and parameters: {'reg_lambda': 4.913445523030248, 'reg_alpha': 5.766727622897624, 'colsample_bytree': 0.7, 'colsample_bynode': 0.4, 'subsample': 0.9, 'learning_rate': 0.029353396122631017, 'max_depth': 30, 'min_child_samples': 11, 'num_leaves': 16}. Best is trial 117 with value: 0.5706251842689185.\n",
      "[I 2023-12-04 22:38:29,752] Trial 141 finished with value: 0.5746854883148865 and parameters: {'reg_lambda': 2.127977973742355, 'reg_alpha': 7.548074863631022, 'colsample_bytree': 0.7, 'colsample_bynode': 0.7, 'subsample': 0.9, 'learning_rate': 0.022560288431391094, 'max_depth': 50, 'min_child_samples': 11, 'num_leaves': 12}. Best is trial 117 with value: 0.5706251842689185.\n",
      "[I 2023-12-04 22:38:36,952] Trial 142 finished with value: 0.5797604327322639 and parameters: {'reg_lambda': 2.005484029891655, 'reg_alpha': 7.890964394490111, 'colsample_bytree': 0.7, 'colsample_bynode': 0.8, 'subsample': 0.9, 'learning_rate': 0.024678475412694204, 'max_depth': 50, 'min_child_samples': 11, 'num_leaves': 16}. Best is trial 117 with value: 0.5706251842689185.\n",
      "[I 2023-12-04 22:38:41,558] Trial 143 finished with value: 0.5797833621770306 and parameters: {'reg_lambda': 1.5678544400649628, 'reg_alpha': 6.975384123316257, 'colsample_bytree': 0.7, 'colsample_bynode': 0.7, 'subsample': 0.9, 'learning_rate': 0.03530039744434381, 'max_depth': 50, 'min_child_samples': 11, 'num_leaves': 12}. Best is trial 117 with value: 0.5706251842689185.\n",
      "[I 2023-12-04 22:38:49,191] Trial 144 finished with value: 0.5758471938450281 and parameters: {'reg_lambda': 4.1943157018075805, 'reg_alpha': 4.815183718639477, 'colsample_bytree': 0.7, 'colsample_bynode': 0.7, 'subsample': 0.9, 'learning_rate': 0.03125882422513224, 'max_depth': 50, 'min_child_samples': 11, 'num_leaves': 14}. Best is trial 117 with value: 0.5706251842689185.\n",
      "[I 2023-12-04 22:38:56,916] Trial 145 finished with value: 0.5793304046212412 and parameters: {'reg_lambda': 4.165459814480792, 'reg_alpha': 4.980002857268632, 'colsample_bytree': 0.7, 'colsample_bynode': 0.7, 'subsample': 0.9, 'learning_rate': 0.03081898135036829, 'max_depth': 13, 'min_child_samples': 7, 'num_leaves': 16}. Best is trial 117 with value: 0.5706251842689185.\n",
      "[I 2023-12-04 22:39:00,758] Trial 146 finished with value: 0.5792834340402165 and parameters: {'reg_lambda': 6.467224029730807, 'reg_alpha': 3.2700452116565724, 'colsample_bytree': 0.7, 'colsample_bynode': 0.7, 'subsample': 0.9, 'learning_rate': 0.044114853669990475, 'max_depth': 45, 'min_child_samples': 11, 'num_leaves': 14}. Best is trial 117 with value: 0.5706251842689185.\n",
      "[I 2023-12-04 22:39:04,197] Trial 147 finished with value: 0.5855216965122353 and parameters: {'reg_lambda': 3.2216150724109145, 'reg_alpha': 4.182479225645239, 'colsample_bytree': 0.7, 'colsample_bynode': 0.7, 'subsample': 0.9, 'learning_rate': 0.049355617943309366, 'max_depth': 50, 'min_child_samples': 15, 'num_leaves': 14}. Best is trial 117 with value: 0.5706251842689185.\n",
      "[I 2023-12-04 22:39:08,763] Trial 148 finished with value: 0.5829072662644397 and parameters: {'reg_lambda': 4.2748484618893965, 'reg_alpha': 5.437745475185686, 'colsample_bytree': 0.7, 'colsample_bynode': 0.7, 'subsample': 0.4, 'learning_rate': 0.038776126356939215, 'max_depth': 35, 'min_child_samples': 17, 'num_leaves': 16}. Best is trial 117 with value: 0.5706251842689185.\n",
      "[I 2023-12-04 22:39:13,989] Trial 149 finished with value: 0.5821132422100782 and parameters: {'reg_lambda': 8.159215878245307, 'reg_alpha': 0.21460361333922462, 'colsample_bytree': 0.7, 'colsample_bynode': 0.7, 'subsample': 0.9, 'learning_rate': 0.02656818016473602, 'max_depth': 20, 'min_child_samples': 11, 'num_leaves': 10}. Best is trial 117 with value: 0.5706251842689185.\n"
     ]
    },
    {
     "name": "stdout",
     "output_type": "stream",
     "text": [
      "Number of finished trials: 150\n",
      "Best trial: {'reg_lambda': 3.135961435996029, 'reg_alpha': 6.264655217351431, 'colsample_bytree': 0.7, 'colsample_bynode': 0.8, 'subsample': 0.9, 'learning_rate': 0.04266954493666085, 'max_depth': 50, 'min_child_samples': 11, 'num_leaves': 14}\n"
     ]
    }
   ],
   "source": [
    "study = optuna.create_study(direction='minimize')\n",
    "study.optimize(objective, n_trials=150)\n",
    "print('Number of finished trials:', len(study.trials))\n",
    "print('Best trial:', study.best_trial.params)"
   ]
  },
  {
   "cell_type": "code",
   "execution_count": 25,
   "metadata": {},
   "outputs": [
    {
     "data": {
      "text/html": [
       "<div>\n",
       "<style scoped>\n",
       "    .dataframe tbody tr th:only-of-type {\n",
       "        vertical-align: middle;\n",
       "    }\n",
       "\n",
       "    .dataframe tbody tr th {\n",
       "        vertical-align: top;\n",
       "    }\n",
       "\n",
       "    .dataframe thead th {\n",
       "        text-align: right;\n",
       "    }\n",
       "</style>\n",
       "<table border=\"1\" class=\"dataframe\">\n",
       "  <thead>\n",
       "    <tr style=\"text-align: right;\">\n",
       "      <th></th>\n",
       "      <th>number</th>\n",
       "      <th>value</th>\n",
       "      <th>datetime_start</th>\n",
       "      <th>datetime_complete</th>\n",
       "      <th>duration</th>\n",
       "      <th>params_colsample_bynode</th>\n",
       "      <th>params_colsample_bytree</th>\n",
       "      <th>params_learning_rate</th>\n",
       "      <th>params_max_depth</th>\n",
       "      <th>params_min_child_samples</th>\n",
       "      <th>params_num_leaves</th>\n",
       "      <th>params_reg_alpha</th>\n",
       "      <th>params_reg_lambda</th>\n",
       "      <th>params_subsample</th>\n",
       "      <th>state</th>\n",
       "    </tr>\n",
       "  </thead>\n",
       "  <tbody>\n",
       "    <tr>\n",
       "      <th>117</th>\n",
       "      <td>117</td>\n",
       "      <td>0.570625</td>\n",
       "      <td>2023-12-04 22:36:00.241444</td>\n",
       "      <td>2023-12-04 22:36:06.581685</td>\n",
       "      <td>0 days 00:00:06.340241</td>\n",
       "      <td>0.8</td>\n",
       "      <td>0.7</td>\n",
       "      <td>0.042670</td>\n",
       "      <td>50</td>\n",
       "      <td>11</td>\n",
       "      <td>14</td>\n",
       "      <td>6.264655</td>\n",
       "      <td>3.135961</td>\n",
       "      <td>0.9</td>\n",
       "      <td>COMPLETE</td>\n",
       "    </tr>\n",
       "    <tr>\n",
       "      <th>112</th>\n",
       "      <td>112</td>\n",
       "      <td>0.574496</td>\n",
       "      <td>2023-12-04 22:35:29.414379</td>\n",
       "      <td>2023-12-04 22:35:38.384415</td>\n",
       "      <td>0 days 00:00:08.970036</td>\n",
       "      <td>0.8</td>\n",
       "      <td>0.7</td>\n",
       "      <td>0.022905</td>\n",
       "      <td>50</td>\n",
       "      <td>11</td>\n",
       "      <td>12</td>\n",
       "      <td>8.724166</td>\n",
       "      <td>4.716676</td>\n",
       "      <td>0.9</td>\n",
       "      <td>COMPLETE</td>\n",
       "    </tr>\n",
       "    <tr>\n",
       "      <th>141</th>\n",
       "      <td>141</td>\n",
       "      <td>0.574685</td>\n",
       "      <td>2023-12-04 22:38:21.039761</td>\n",
       "      <td>2023-12-04 22:38:29.751419</td>\n",
       "      <td>0 days 00:00:08.711658</td>\n",
       "      <td>0.7</td>\n",
       "      <td>0.7</td>\n",
       "      <td>0.022560</td>\n",
       "      <td>50</td>\n",
       "      <td>11</td>\n",
       "      <td>12</td>\n",
       "      <td>7.548075</td>\n",
       "      <td>2.127978</td>\n",
       "      <td>0.9</td>\n",
       "      <td>COMPLETE</td>\n",
       "    </tr>\n",
       "    <tr>\n",
       "      <th>136</th>\n",
       "      <td>136</td>\n",
       "      <td>0.574746</td>\n",
       "      <td>2023-12-04 22:37:55.477494</td>\n",
       "      <td>2023-12-04 22:37:59.969581</td>\n",
       "      <td>0 days 00:00:04.492087</td>\n",
       "      <td>0.7</td>\n",
       "      <td>0.7</td>\n",
       "      <td>0.041642</td>\n",
       "      <td>50</td>\n",
       "      <td>11</td>\n",
       "      <td>16</td>\n",
       "      <td>9.800400</td>\n",
       "      <td>1.249765</td>\n",
       "      <td>0.9</td>\n",
       "      <td>COMPLETE</td>\n",
       "    </tr>\n",
       "    <tr>\n",
       "      <th>62</th>\n",
       "      <td>62</td>\n",
       "      <td>0.574847</td>\n",
       "      <td>2023-12-04 22:28:16.424961</td>\n",
       "      <td>2023-12-04 22:28:23.826637</td>\n",
       "      <td>0 days 00:00:07.401676</td>\n",
       "      <td>0.8</td>\n",
       "      <td>0.7</td>\n",
       "      <td>0.024311</td>\n",
       "      <td>35</td>\n",
       "      <td>11</td>\n",
       "      <td>10</td>\n",
       "      <td>7.181336</td>\n",
       "      <td>4.155434</td>\n",
       "      <td>0.9</td>\n",
       "      <td>COMPLETE</td>\n",
       "    </tr>\n",
       "    <tr>\n",
       "      <th>...</th>\n",
       "      <td>...</td>\n",
       "      <td>...</td>\n",
       "      <td>...</td>\n",
       "      <td>...</td>\n",
       "      <td>...</td>\n",
       "      <td>...</td>\n",
       "      <td>...</td>\n",
       "      <td>...</td>\n",
       "      <td>...</td>\n",
       "      <td>...</td>\n",
       "      <td>...</td>\n",
       "      <td>...</td>\n",
       "      <td>...</td>\n",
       "      <td>...</td>\n",
       "      <td>...</td>\n",
       "    </tr>\n",
       "    <tr>\n",
       "      <th>9</th>\n",
       "      <td>9</td>\n",
       "      <td>0.618801</td>\n",
       "      <td>2023-12-04 21:50:26.360443</td>\n",
       "      <td>2023-12-04 21:57:59.980884</td>\n",
       "      <td>0 days 00:07:33.620441</td>\n",
       "      <td>1.0</td>\n",
       "      <td>0.7</td>\n",
       "      <td>0.000185</td>\n",
       "      <td>25</td>\n",
       "      <td>15</td>\n",
       "      <td>32</td>\n",
       "      <td>0.004234</td>\n",
       "      <td>0.235058</td>\n",
       "      <td>0.5</td>\n",
       "      <td>COMPLETE</td>\n",
       "    </tr>\n",
       "    <tr>\n",
       "      <th>1</th>\n",
       "      <td>1</td>\n",
       "      <td>0.656915</td>\n",
       "      <td>2023-12-04 21:34:15.243202</td>\n",
       "      <td>2023-12-04 21:35:56.664909</td>\n",
       "      <td>0 days 00:01:41.421707</td>\n",
       "      <td>0.7</td>\n",
       "      <td>0.4</td>\n",
       "      <td>0.000132</td>\n",
       "      <td>45</td>\n",
       "      <td>35</td>\n",
       "      <td>12</td>\n",
       "      <td>0.531894</td>\n",
       "      <td>0.000466</td>\n",
       "      <td>0.9</td>\n",
       "      <td>COMPLETE</td>\n",
       "    </tr>\n",
       "    <tr>\n",
       "      <th>38</th>\n",
       "      <td>38</td>\n",
       "      <td>0.675042</td>\n",
       "      <td>2023-12-04 22:23:16.395878</td>\n",
       "      <td>2023-12-04 22:25:48.182185</td>\n",
       "      <td>0 days 00:02:31.786307</td>\n",
       "      <td>0.7</td>\n",
       "      <td>0.5</td>\n",
       "      <td>0.000111</td>\n",
       "      <td>45</td>\n",
       "      <td>20</td>\n",
       "      <td>16</td>\n",
       "      <td>0.760151</td>\n",
       "      <td>0.489725</td>\n",
       "      <td>0.4</td>\n",
       "      <td>COMPLETE</td>\n",
       "    </tr>\n",
       "    <tr>\n",
       "      <th>5</th>\n",
       "      <td>5</td>\n",
       "      <td>0.796743</td>\n",
       "      <td>2023-12-04 21:37:38.679886</td>\n",
       "      <td>2023-12-04 21:42:00.809375</td>\n",
       "      <td>0 days 00:04:22.129489</td>\n",
       "      <td>0.7</td>\n",
       "      <td>0.4</td>\n",
       "      <td>0.000048</td>\n",
       "      <td>25</td>\n",
       "      <td>7</td>\n",
       "      <td>38</td>\n",
       "      <td>0.010676</td>\n",
       "      <td>3.112343</td>\n",
       "      <td>0.5</td>\n",
       "      <td>COMPLETE</td>\n",
       "    </tr>\n",
       "    <tr>\n",
       "      <th>8</th>\n",
       "      <td>8</td>\n",
       "      <td>0.898430</td>\n",
       "      <td>2023-12-04 21:47:06.990236</td>\n",
       "      <td>2023-12-04 21:50:26.359443</td>\n",
       "      <td>0 days 00:03:19.369207</td>\n",
       "      <td>0.4</td>\n",
       "      <td>0.9</td>\n",
       "      <td>0.000021</td>\n",
       "      <td>40</td>\n",
       "      <td>30</td>\n",
       "      <td>10</td>\n",
       "      <td>0.314972</td>\n",
       "      <td>0.000765</td>\n",
       "      <td>0.9</td>\n",
       "      <td>COMPLETE</td>\n",
       "    </tr>\n",
       "  </tbody>\n",
       "</table>\n",
       "<p>150 rows × 15 columns</p>\n",
       "</div>"
      ],
      "text/plain": [
       "     number     value             datetime_start          datetime_complete  \\\n",
       "117     117  0.570625 2023-12-04 22:36:00.241444 2023-12-04 22:36:06.581685   \n",
       "112     112  0.574496 2023-12-04 22:35:29.414379 2023-12-04 22:35:38.384415   \n",
       "141     141  0.574685 2023-12-04 22:38:21.039761 2023-12-04 22:38:29.751419   \n",
       "136     136  0.574746 2023-12-04 22:37:55.477494 2023-12-04 22:37:59.969581   \n",
       "62       62  0.574847 2023-12-04 22:28:16.424961 2023-12-04 22:28:23.826637   \n",
       "..      ...       ...                        ...                        ...   \n",
       "9         9  0.618801 2023-12-04 21:50:26.360443 2023-12-04 21:57:59.980884   \n",
       "1         1  0.656915 2023-12-04 21:34:15.243202 2023-12-04 21:35:56.664909   \n",
       "38       38  0.675042 2023-12-04 22:23:16.395878 2023-12-04 22:25:48.182185   \n",
       "5         5  0.796743 2023-12-04 21:37:38.679886 2023-12-04 21:42:00.809375   \n",
       "8         8  0.898430 2023-12-04 21:47:06.990236 2023-12-04 21:50:26.359443   \n",
       "\n",
       "                  duration  params_colsample_bynode  params_colsample_bytree  \\\n",
       "117 0 days 00:00:06.340241                      0.8                      0.7   \n",
       "112 0 days 00:00:08.970036                      0.8                      0.7   \n",
       "141 0 days 00:00:08.711658                      0.7                      0.7   \n",
       "136 0 days 00:00:04.492087                      0.7                      0.7   \n",
       "62  0 days 00:00:07.401676                      0.8                      0.7   \n",
       "..                     ...                      ...                      ...   \n",
       "9   0 days 00:07:33.620441                      1.0                      0.7   \n",
       "1   0 days 00:01:41.421707                      0.7                      0.4   \n",
       "38  0 days 00:02:31.786307                      0.7                      0.5   \n",
       "5   0 days 00:04:22.129489                      0.7                      0.4   \n",
       "8   0 days 00:03:19.369207                      0.4                      0.9   \n",
       "\n",
       "     params_learning_rate  params_max_depth  params_min_child_samples  \\\n",
       "117              0.042670                50                        11   \n",
       "112              0.022905                50                        11   \n",
       "141              0.022560                50                        11   \n",
       "136              0.041642                50                        11   \n",
       "62               0.024311                35                        11   \n",
       "..                    ...               ...                       ...   \n",
       "9                0.000185                25                        15   \n",
       "1                0.000132                45                        35   \n",
       "38               0.000111                45                        20   \n",
       "5                0.000048                25                         7   \n",
       "8                0.000021                40                        30   \n",
       "\n",
       "     params_num_leaves  params_reg_alpha  params_reg_lambda  params_subsample  \\\n",
       "117                 14          6.264655           3.135961               0.9   \n",
       "112                 12          8.724166           4.716676               0.9   \n",
       "141                 12          7.548075           2.127978               0.9   \n",
       "136                 16          9.800400           1.249765               0.9   \n",
       "62                  10          7.181336           4.155434               0.9   \n",
       "..                 ...               ...                ...               ...   \n",
       "9                   32          0.004234           0.235058               0.5   \n",
       "1                   12          0.531894           0.000466               0.9   \n",
       "38                  16          0.760151           0.489725               0.4   \n",
       "5                   38          0.010676           3.112343               0.5   \n",
       "8                   10          0.314972           0.000765               0.9   \n",
       "\n",
       "        state  \n",
       "117  COMPLETE  \n",
       "112  COMPLETE  \n",
       "141  COMPLETE  \n",
       "136  COMPLETE  \n",
       "62   COMPLETE  \n",
       "..        ...  \n",
       "9    COMPLETE  \n",
       "1    COMPLETE  \n",
       "38   COMPLETE  \n",
       "5    COMPLETE  \n",
       "8    COMPLETE  \n",
       "\n",
       "[150 rows x 15 columns]"
      ]
     },
     "execution_count": 25,
     "metadata": {},
     "output_type": "execute_result"
    }
   ],
   "source": [
    "study.trials_dataframe().sort_values(by='value', ascending=True)"
   ]
  },
  {
   "cell_type": "markdown",
   "metadata": {},
   "source": [
    "## Use best params"
   ]
  },
  {
   "cell_type": "code",
   "execution_count": 26,
   "metadata": {},
   "outputs": [],
   "source": [
    "# best_trial = {'reg_lambda': 0.007610692291211848, 'reg_alpha': 0.00035884181589566146, 'colsample_bytree': 0.9, 'subsample': 0.5, 'learning_rate': 0.04940151750736715, 'max_depth': 20, 'min_child_samples': 13, 'num_leaves': 22}"
   ]
  },
  {
   "cell_type": "code",
   "execution_count": 27,
   "metadata": {},
   "outputs": [
    {
     "name": "stdout",
     "output_type": "stream",
     "text": [
      "{'reg_lambda': 3.135961435996029, 'reg_alpha': 6.264655217351431, 'colsample_bytree': 0.7, 'colsample_bynode': 0.8, 'subsample': 0.9, 'learning_rate': 0.04266954493666085, 'max_depth': 50, 'min_child_samples': 11, 'num_leaves': 14}\n"
     ]
    }
   ],
   "source": [
    "best_trial = study.best_trial.params\n",
    "print(best_trial)"
   ]
  },
  {
   "cell_type": "code",
   "execution_count": 28,
   "metadata": {},
   "outputs": [],
   "source": [
    "OOF_PREDS = np.zeros((len(train_feats), 2))\n",
    "# TEST_PREDS = np.zeros((len(test_feats), 2))\n",
    "\n",
    "models_dict = {}\n",
    "scores = []\n",
    "preds_dict = {}\n",
    "count = 0\n",
    "for _ in train_logs_df['id'].unique():\n",
    "    preds_dict[count] = []\n",
    "    count+=1\n",
    "\n",
    "# test_predict_list = []\n",
    "\n",
    "for i in range(5): \n",
    "    kf = model_selection.KFold(n_splits=10, random_state=42 + i, shuffle=True)\n",
    "    oof_valid_preds = np.zeros(train_feats.shape[0])\n",
    "    # X_test = test_feats[train_cols]\n",
    "    for fold, (train_idx, valid_idx) in enumerate(kf.split(train_feats)):\n",
    "        \n",
    "        X_train, y_train = train_feats.iloc[train_idx][train_cols], train_feats.iloc[train_idx][target_col]\n",
    "        X_valid, y_valid = train_feats.iloc[valid_idx][train_cols], train_feats.iloc[valid_idx][target_col]\n",
    "        best_params = {\n",
    "                \"objective\": \"mean_squared_error\",\n",
    "                \"metric\": \"rmse\",\n",
    "                'random_state': 42,\n",
    "                \"n_estimators\" : 10000,\n",
    "                \"verbosity\": -1,\n",
    "                \"n_jobs\": -1,\n",
    "                **best_trial\n",
    "            }\n",
    "        model = lgb.LGBMRegressor(**best_params)\n",
    "        early_stopping_callback = lgb.early_stopping(50, first_metric_only=True, verbose=False)\n",
    "        \n",
    "        model.fit(X_train, y_train, eval_set=[(X_valid, y_valid)],  \n",
    "                  callbacks=[early_stopping_callback],\n",
    "        )\n",
    "\n",
    "        valid_predict = model.predict(X_valid)\n",
    "\n",
    "        for count, idx in enumerate(valid_idx):\n",
    "            preds_dict[idx].append(valid_predict[count])\n",
    "\n",
    "        oof_valid_preds[valid_idx] = valid_predict\n",
    "        # OOF_PREDS[valid_idx, 0] += valid_predict / 5\n",
    "        OOF_PREDS[valid_idx, 0] = valid_predict \n",
    "\n",
    "\n",
    "        # test_predict = model.predict(X_test)\n",
    "        # TEST_PREDS[:, 0] += test_predict / 5 / 10\n",
    "        # test_predict_list.append(test_predict)\n",
    "        score = metrics.mean_squared_error(y_valid, valid_predict, squared=False)\n",
    "        models_dict[f'{fold}_{i}'] = model\n",
    "\n",
    "    oof_score = metrics.mean_squared_error(train_feats[target_col], oof_valid_preds, squared=False)\n",
    "    scores.append(oof_score)"
   ]
  },
  {
   "cell_type": "code",
   "execution_count": 29,
   "metadata": {},
   "outputs": [
    {
     "name": "stdout",
     "output_type": "stream",
     "text": [
      "OOF metric LGBM = 0.61469\n"
     ]
    }
   ],
   "source": [
    "means = []\n",
    "stds = []\n",
    "\n",
    "for idx in preds_dict:\n",
    "    means.append(np.mean(preds_dict[idx]))\n",
    "    stds.append(np.std(preds_dict[idx]))\n",
    "    \n",
    "print('OOF metric LGBM = {:.5f}'.format(metrics.mean_squared_error(train_feats[target_col], \n",
    "                                                                   means,\n",
    "                                                                   squared=False)))"
   ]
  },
  {
   "cell_type": "code",
   "execution_count": 30,
   "metadata": {},
   "outputs": [],
   "source": [
    "def add_identity(axes, *line_args, **line_kwargs):\n",
    "    identity, = axes.plot([], [], *line_args, **line_kwargs)\n",
    "    def callback(axes):\n",
    "        low_x, high_x = axes.get_xlim()\n",
    "        low_y, high_y = axes.get_ylim()\n",
    "        low = max(low_x, low_y)\n",
    "        high = min(high_x, high_y)\n",
    "        identity.set_data([low, high], [low, high])\n",
    "    callback(axes)\n",
    "    axes.callbacks.connect('xlim_changed', callback)\n",
    "    axes.callbacks.connect('ylim_changed', callback)\n",
    "    return axes"
   ]
  },
  {
   "cell_type": "code",
   "execution_count": 31,
   "metadata": {},
   "outputs": [],
   "source": [
    "import math\n",
    "def round_to_half(numbers, round_up=False):\n",
    "    if round_up:\n",
    "        return [round(num * 2) / 2 for num in numbers]\n",
    "    else:\n",
    "        return [math.floor(num * 2) / 2 for num in numbers]"
   ]
  },
  {
   "cell_type": "code",
   "execution_count": 32,
   "metadata": {},
   "outputs": [
    {
     "data": {
      "image/png": "[encoded data removed]",
      "text/plain": [
       "<Figure size 600x600 with 1 Axes>"
      ]
     },
     "metadata": {},
     "output_type": "display_data"
    }
   ],
   "source": [
    "f, ax = plt.subplots(figsize=(6, 6))\n",
    "ax.scatter(means, train_scores_df['score'])\n",
    "add_identity(ax, color='r', ls='--')\n",
    "# ax.scatter(stds, train_scores_df['score']-means)\n",
    "plt.ylabel('True Values')\n",
    "plt.xlabel('Predictions')\n",
    "\n",
    "plt.show()"
   ]
  },
  {
   "cell_type": "code",
   "execution_count": 33,
   "metadata": {},
   "outputs": [
    {
     "data": {
      "text/plain": [
       "(array([159., 637., 762., 492., 276., 103.,  24.,  13.,   3.,   2.]),\n",
       " array([0.00909278, 0.03205798, 0.05502317, 0.07798836, 0.10095356,\n",
       "        0.12391875, 0.14688395, 0.16984914, 0.19281434, 0.21577953,\n",
       "        0.23874472]),\n",
       " <BarContainer object of 10 artists>)"
      ]
     },
     "execution_count": 33,
     "metadata": {},
     "output_type": "execute_result"
    },
    {
     "data": {
      "image/png": "[encoded data removed]",
      "text/plain": [
       "<Figure size 640x480 with 1 Axes>"
      ]
     },
     "metadata": {},
     "output_type": "display_data"
    }
   ],
   "source": [
    "plt.hist(stds)"
   ]
  },
  {
   "cell_type": "markdown",
   "metadata": {},
   "source": [
    "## Analyze models"
   ]
  },
  {
   "cell_type": "code",
   "execution_count": 34,
   "metadata": {},
   "outputs": [],
   "source": [
    "split_importance = models_dict['0_0'].feature_importances_\n",
    "\n",
    "# Plot feature importance using Gain\n",
    "# lgb.plot_importance(models_dict['0_0'], importance_type=\"gain\", figsize=(7,6), title=\"LightGBM Feature Importance (Gain)\")\n",
    "# plt.show()"
   ]
  },
  {
   "cell_type": "code",
   "execution_count": 35,
   "metadata": {},
   "outputs": [
    {
     "name": "stdout",
     "output_type": "stream",
     "text": [
      "                                Feature  Split\n",
      "408                        sent_len_sum     59\n",
      "302                  down_event_8_count     48\n",
      "297                  down_event_3_count     31\n",
      "334                 text_change_8_count     30\n",
      "2536  cursor_position_abs_change50_last     27\n",
      "...                                 ...    ...\n",
      "1542          rolling_std_30_<lambda_7>      0\n",
      "1544         rolling_std_30_<lambda_10>      0\n",
      "1545         rolling_std_30_<lambda_11>      0\n",
      "1546         rolling_std_30_<lambda_12>      0\n",
      "3594                      pauses_20_sec      0\n",
      "\n",
      "[3595 rows x 2 columns]\n"
     ]
    }
   ],
   "source": [
    "split_importance_df = pd.DataFrame({'Feature': train_cols, 'Split': split_importance})\n",
    "print(split_importance_df.sort_values(by='Split', ascending=False))"
   ]
  },
  {
   "cell_type": "markdown",
   "metadata": {},
   "source": [
    "## Reduced feature list"
   ]
  },
  {
   "cell_type": "code",
   "execution_count": 36,
   "metadata": {},
   "outputs": [],
   "source": [
    "temp_cols = []\n",
    "for k in models_dict.keys():\n",
    "    temp = models_dict[k].feature_importances_\n",
    "    temp_df = pd.DataFrame({'Feature': train_cols, 'Split': temp})\n",
    "    temp_cols+=list(temp_df.sort_values(by='Split', ascending=False).loc[:np.ceil(temp_df.shape[0]*0.75)]['Feature'].values)\n",
    "# list(split_importance_df.sort_values(by='Split', ascending=False).loc[:np.ceil(split_importance_df.shape[0]*0.75)]['Feature'].values)\n",
    "\n",
    "new_train_cols = list(set(temp_cols))"
   ]
  },
  {
   "cell_type": "code",
   "execution_count": 37,
   "metadata": {},
   "outputs": [],
   "source": [
    "target_col = ['score']\n",
    "drop_cols = ['id']\n",
    "train_cols = [col for col in new_train_cols if col not in target_col + drop_cols]"
   ]
  },
  {
   "cell_type": "code",
   "execution_count": 38,
   "metadata": {},
   "outputs": [],
   "source": [
    "def objective(trial,data=train_feats[train_cols],target=train_feats[target_col]):\n",
    "    \n",
    "    train_x, test_x, train_y, test_y = train_test_split(data, target, test_size=0.15,random_state=42)\n",
    "    params = {\n",
    "        'reg_lambda': trial.suggest_float('reg_lambda', 1e-4, 10.0, log=True),\n",
    "        'reg_alpha': trial.suggest_float('reg_alpha', 1e-4, 10.0, log=True),\n",
    "        'colsample_bytree': trial.suggest_categorical('colsample_bytree', [0.3,0.4,0.5,0.6,0.7,0.8,0.9,1.0]),\n",
    "        'colsample_bynode': trial.suggest_categorical('colsample_bynode', [0.3,0.4,0.5,0.6,0.7,0.8,0.9,1.0]),\n",
    "        'subsample': trial.suggest_categorical('subsample', [0.4,0.5,0.6,0.7,0.8,0.9,1.0]),\n",
    "        'learning_rate': trial.suggest_float('learning_rate', 1e-5, 5e-2, log=True), #trial.suggest_categorical('learning_rate', [0.008,0.01,0.012,0.014,0.016,0.018, 0.02]),\n",
    "        'max_depth': trial.suggest_categorical('max_depth', [9,11,13,15,17,20,25,30,35,40,45,50]),\n",
    "        'min_child_samples': trial.suggest_categorical('min_child_samples', [9,11,13,15,17,20,25,30,35,40,45,50]),\n",
    "        'num_leaves': trial.suggest_int('num_leaves', 10, 40, step=2)\n",
    "    }\n",
    "\n",
    "    all_params = {\n",
    "        \"objective\": \"rmse\",\n",
    "        \"metric\": \"rmse\",\n",
    "        'random_state': 42,\n",
    "        \"n_estimators\" : 10000,\n",
    "        \"verbosity\": -1,\n",
    "        \"n_jobs\": -1,\n",
    "        # \"device_type\": 'cuda',\n",
    "        # \"gpu_use_dp\": True,\n",
    "        **params\n",
    "    }\n",
    "\n",
    "    model = lgb.LGBMRegressor(**all_params)\n",
    "\n",
    "    early_stopping_callback = lgb.early_stopping(50, first_metric_only=True, verbose=False)\n",
    "    \n",
    "    model.fit(train_x, train_y, eval_set=[(test_x, test_y)],  \n",
    "                callbacks=[early_stopping_callback],\n",
    "    )\n",
    "    \n",
    "    preds = model.predict(test_x)\n",
    "    \n",
    "    rmse = mean_squared_error(test_y, preds,squared=False)\n",
    "    \n",
    "    return rmse"
   ]
  },
  {
   "cell_type": "code",
   "execution_count": 39,
   "metadata": {},
   "outputs": [
    {
     "name": "stderr",
     "output_type": "stream",
     "text": [
      "[I 2023-12-04 22:42:44,426] A new study created in memory with name: no-name-277e7e2c-5f76-42c5-b825-11c304a3ef71\n",
      "[I 2023-12-04 22:43:04,538] Trial 0 finished with value: 0.5835678813677481 and parameters: {'reg_lambda': 1.2416310682730105, 'reg_alpha': 0.9207298246650865, 'colsample_bytree': 0.7, 'colsample_bynode': 0.4, 'subsample': 1.0, 'learning_rate': 0.004329552883749802, 'max_depth': 40, 'min_child_samples': 50, 'num_leaves': 14}. Best is trial 0 with value: 0.5835678813677481.\n",
      "[I 2023-12-04 22:43:57,942] Trial 1 finished with value: 0.5827234682003812 and parameters: {'reg_lambda': 0.03435274262778796, 'reg_alpha': 2.4275459985516226, 'colsample_bytree': 0.5, 'colsample_bynode': 0.7, 'subsample': 1.0, 'learning_rate': 0.000952795712114569, 'max_depth': 13, 'min_child_samples': 15, 'num_leaves': 10}. Best is trial 1 with value: 0.5827234682003812.\n",
      "[I 2023-12-04 22:47:27,292] Trial 2 finished with value: 0.6074392976181612 and parameters: {'reg_lambda': 0.03254739626141539, 'reg_alpha': 0.2552941121562297, 'colsample_bytree': 1.0, 'colsample_bynode': 1.0, 'subsample': 0.6, 'learning_rate': 0.0002109362471663491, 'max_depth': 9, 'min_child_samples': 40, 'num_leaves': 14}. Best is trial 1 with value: 0.5827234682003812.\n",
      "[I 2023-12-04 22:47:42,164] Trial 3 finished with value: 0.5883176552849507 and parameters: {'reg_lambda': 0.46298278907517054, 'reg_alpha': 0.00020110193940164314, 'colsample_bytree': 0.6, 'colsample_bynode': 0.9, 'subsample': 0.5, 'learning_rate': 0.005359700116301596, 'max_depth': 30, 'min_child_samples': 35, 'num_leaves': 18}. Best is trial 1 with value: 0.5827234682003812.\n",
      "[I 2023-12-04 22:51:22,048] Trial 4 finished with value: 0.6650308540475457 and parameters: {'reg_lambda': 0.00019005161003289836, 'reg_alpha': 0.00938177875296858, 'colsample_bytree': 0.8, 'colsample_bynode': 0.5, 'subsample': 1.0, 'learning_rate': 0.00011732386812551898, 'max_depth': 9, 'min_child_samples': 40, 'num_leaves': 18}. Best is trial 1 with value: 0.5827234682003812.\n",
      "[I 2023-12-04 22:53:45,253] Trial 5 finished with value: 0.9310023400252256 and parameters: {'reg_lambda': 0.14935908165675713, 'reg_alpha': 0.004726013634822275, 'colsample_bytree': 0.4, 'colsample_bynode': 1.0, 'subsample': 0.8, 'learning_rate': 1.317025494372365e-05, 'max_depth': 35, 'min_child_samples': 11, 'num_leaves': 20}. Best is trial 1 with value: 0.5827234682003812.\n",
      "[I 2023-12-04 22:57:26,263] Trial 6 finished with value: 0.590264456646877 and parameters: {'reg_lambda': 0.009444660282695546, 'reg_alpha': 0.03922329612117209, 'colsample_bytree': 0.5, 'colsample_bynode': 0.5, 'subsample': 0.4, 'learning_rate': 0.0003814776968462532, 'max_depth': 40, 'min_child_samples': 20, 'num_leaves': 24}. Best is trial 1 with value: 0.5827234682003812.\n",
      "[I 2023-12-04 22:57:36,510] Trial 7 finished with value: 0.5936127568062453 and parameters: {'reg_lambda': 0.003108206403100799, 'reg_alpha': 0.00038337008834410293, 'colsample_bytree': 0.8, 'colsample_bynode': 0.7, 'subsample': 0.6, 'learning_rate': 0.029422231187341604, 'max_depth': 11, 'min_child_samples': 25, 'num_leaves': 28}. Best is trial 1 with value: 0.5827234682003812.\n",
      "[I 2023-12-04 22:57:43,155] Trial 8 finished with value: 0.5846143552885406 and parameters: {'reg_lambda': 0.0022329945312585535, 'reg_alpha': 0.09920333914138257, 'colsample_bytree': 0.4, 'colsample_bynode': 1.0, 'subsample': 0.5, 'learning_rate': 0.04955009063893061, 'max_depth': 25, 'min_child_samples': 13, 'num_leaves': 26}. Best is trial 1 with value: 0.5827234682003812.\n",
      "[I 2023-12-04 23:05:35,025] Trial 9 finished with value: 0.6441549981405265 and parameters: {'reg_lambda': 0.005252704516075625, 'reg_alpha': 0.00011992170040568888, 'colsample_bytree': 0.7, 'colsample_bynode': 0.9, 'subsample': 1.0, 'learning_rate': 0.00013652391563179848, 'max_depth': 45, 'min_child_samples': 15, 'num_leaves': 36}. Best is trial 1 with value: 0.5827234682003812.\n",
      "[I 2023-12-04 23:06:25,128] Trial 10 finished with value: 0.5924642204807433 and parameters: {'reg_lambda': 7.361791481296977, 'reg_alpha': 6.107202432664766, 'colsample_bytree': 0.3, 'colsample_bynode': 0.8, 'subsample': 0.7, 'learning_rate': 0.0013055894033172431, 'max_depth': 20, 'min_child_samples': 15, 'num_leaves': 40}. Best is trial 1 with value: 0.5827234682003812.\n",
      "[I 2023-12-04 23:06:48,478] Trial 11 finished with value: 0.5811958552433455 and parameters: {'reg_lambda': 1.41103808564837, 'reg_alpha': 2.8871091733695278, 'colsample_bytree': 0.5, 'colsample_bynode': 0.4, 'subsample': 1.0, 'learning_rate': 0.002592831220659435, 'max_depth': 13, 'min_child_samples': 50, 'num_leaves': 10}. Best is trial 11 with value: 0.5811958552433455.\n",
      "[I 2023-12-04 23:07:30,925] Trial 12 finished with value: 0.5850433177770573 and parameters: {'reg_lambda': 0.0923328899079407, 'reg_alpha': 5.981824321582432, 'colsample_bytree': 0.5, 'colsample_bynode': 0.4, 'subsample': 1.0, 'learning_rate': 0.0013579329734578905, 'max_depth': 13, 'min_child_samples': 17, 'num_leaves': 10}. Best is trial 11 with value: 0.5811958552433455.\n",
      "[I 2023-12-04 23:07:42,825] Trial 13 finished with value: 0.5839772671658574 and parameters: {'reg_lambda': 8.904617911126673, 'reg_alpha': 1.02728069562607, 'colsample_bytree': 0.5, 'colsample_bynode': 0.7, 'subsample': 0.9, 'learning_rate': 0.004233556460002518, 'max_depth': 13, 'min_child_samples': 45, 'num_leaves': 10}. Best is trial 11 with value: 0.5811958552433455.\n",
      "[I 2023-12-04 23:09:19,956] Trial 14 finished with value: 0.5877566741010883 and parameters: {'reg_lambda': 1.1111210061753836, 'reg_alpha': 8.558462000299386, 'colsample_bytree': 0.9, 'colsample_bynode': 0.3, 'subsample': 1.0, 'learning_rate': 0.0008150403147444299, 'max_depth': 13, 'min_child_samples': 50, 'num_leaves': 14}. Best is trial 11 with value: 0.5811958552433455.\n",
      "[I 2023-12-04 23:09:33,475] Trial 15 finished with value: 0.5869639144330239 and parameters: {'reg_lambda': 0.19598792369174464, 'reg_alpha': 1.180970567814678, 'colsample_bytree': 0.5, 'colsample_bynode': 0.6, 'subsample': 0.8, 'learning_rate': 0.011133453748325552, 'max_depth': 15, 'min_child_samples': 9, 'num_leaves': 32}. Best is trial 11 with value: 0.5811958552433455.\n",
      "[I 2023-12-04 23:09:55,127] Trial 16 finished with value: 0.5880105672227487 and parameters: {'reg_lambda': 0.03928542507388106, 'reg_alpha': 0.29754224759238673, 'colsample_bytree': 0.5, 'colsample_bynode': 0.4, 'subsample': 0.7, 'learning_rate': 0.0021681527732328194, 'max_depth': 50, 'min_child_samples': 15, 'num_leaves': 10}. Best is trial 11 with value: 0.5811958552433455.\n",
      "[I 2023-12-04 23:12:16,605] Trial 17 finished with value: 0.5867655521432654 and parameters: {'reg_lambda': 1.4395116700171664, 'reg_alpha': 2.039816668385526, 'colsample_bytree': 0.6, 'colsample_bynode': 0.7, 'subsample': 0.9, 'learning_rate': 0.0005624793818849396, 'max_depth': 17, 'min_child_samples': 30, 'num_leaves': 20}. Best is trial 11 with value: 0.5811958552433455.\n",
      "[I 2023-12-04 23:12:26,072] Trial 18 finished with value: 0.5811999881155803 and parameters: {'reg_lambda': 0.02041532102434513, 'reg_alpha': 0.3113614181735492, 'colsample_bytree': 1.0, 'colsample_bynode': 0.6, 'subsample': 0.4, 'learning_rate': 0.016336093091128424, 'max_depth': 13, 'min_child_samples': 50, 'num_leaves': 14}. Best is trial 11 with value: 0.5811958552433455.\n",
      "[I 2023-12-04 23:12:35,131] Trial 19 finished with value: 0.5825161208565807 and parameters: {'reg_lambda': 0.01343834180507995, 'reg_alpha': 0.3805402287133706, 'colsample_bytree': 1.0, 'colsample_bynode': 0.6, 'subsample': 0.4, 'learning_rate': 0.016105991428616784, 'max_depth': 13, 'min_child_samples': 50, 'num_leaves': 16}. Best is trial 11 with value: 0.5811958552433455.\n",
      "[I 2023-12-04 23:12:52,819] Trial 20 finished with value: 0.5843305916293363 and parameters: {'reg_lambda': 0.29014104901454335, 'reg_alpha': 0.14819953422753712, 'colsample_bytree': 1.0, 'colsample_bynode': 0.6, 'subsample': 0.4, 'learning_rate': 0.008525753576235598, 'max_depth': 25, 'min_child_samples': 50, 'num_leaves': 14}. Best is trial 11 with value: 0.5811958552433455.\n",
      "[I 2023-12-04 23:13:03,756] Trial 21 finished with value: 0.5846518337572815 and parameters: {'reg_lambda': 0.012981239345757288, 'reg_alpha': 0.4205787441335392, 'colsample_bytree': 1.0, 'colsample_bynode': 0.6, 'subsample': 0.4, 'learning_rate': 0.02030304392545953, 'max_depth': 13, 'min_child_samples': 50, 'num_leaves': 16}. Best is trial 11 with value: 0.5811958552433455.\n",
      "[I 2023-12-04 23:13:18,396] Trial 22 finished with value: 0.5861795882009087 and parameters: {'reg_lambda': 0.0815730814717082, 'reg_alpha': 0.566894734329984, 'colsample_bytree': 1.0, 'colsample_bynode': 0.6, 'subsample': 0.4, 'learning_rate': 0.015043601781913342, 'max_depth': 13, 'min_child_samples': 50, 'num_leaves': 22}. Best is trial 11 with value: 0.5811958552433455.\n",
      "[I 2023-12-04 23:13:25,717] Trial 23 finished with value: 0.5838955556472252 and parameters: {'reg_lambda': 0.014712956130959598, 'reg_alpha': 2.6095660608384668, 'colsample_bytree': 1.0, 'colsample_bynode': 0.6, 'subsample': 0.4, 'learning_rate': 0.02668756258680323, 'max_depth': 13, 'min_child_samples': 50, 'num_leaves': 12}. Best is trial 11 with value: 0.5811958552433455.\n",
      "[I 2023-12-04 23:13:41,073] Trial 24 finished with value: 0.5850356299492043 and parameters: {'reg_lambda': 0.0016521587793222046, 'reg_alpha': 0.09550502059558198, 'colsample_bytree': 0.9, 'colsample_bynode': 0.3, 'subsample': 0.4, 'learning_rate': 0.009224335842879254, 'max_depth': 11, 'min_child_samples': 50, 'num_leaves': 16}. Best is trial 11 with value: 0.5811958552433455.\n",
      "[I 2023-12-04 23:13:44,118] Trial 25 finished with value: 0.5832363237696699 and parameters: {'reg_lambda': 0.06067671588159976, 'reg_alpha': 0.5307949025325921, 'colsample_bytree': 0.3, 'colsample_bynode': 0.8, 'subsample': 0.4, 'learning_rate': 0.037197508767048686, 'max_depth': 50, 'min_child_samples': 45, 'num_leaves': 18}. Best is trial 11 with value: 0.5811958552433455.\n",
      "[I 2023-12-04 23:13:54,349] Trial 26 finished with value: 0.5812024850060609 and parameters: {'reg_lambda': 0.020394828021804666, 'reg_alpha': 3.228619261917459, 'colsample_bytree': 1.0, 'colsample_bynode': 0.4, 'subsample': 0.4, 'learning_rate': 0.01657462271887497, 'max_depth': 17, 'min_child_samples': 25, 'num_leaves': 12}. Best is trial 11 with value: 0.5811958552433455.\n",
      "[I 2023-12-04 23:14:41,426] Trial 27 finished with value: 0.5852814635341478 and parameters: {'reg_lambda': 0.13665526590325694, 'reg_alpha': 3.3611621845618425, 'colsample_bytree': 1.0, 'colsample_bynode': 0.4, 'subsample': 0.7, 'learning_rate': 0.002731979348251853, 'max_depth': 17, 'min_child_samples': 25, 'num_leaves': 12}. Best is trial 11 with value: 0.5811958552433455.\n",
      "[I 2023-12-04 23:15:05,569] Trial 28 finished with value: 0.5861050032591202 and parameters: {'reg_lambda': 0.5311611589631975, 'reg_alpha': 1.3942686533542916, 'colsample_bytree': 1.0, 'colsample_bynode': 0.4, 'subsample': 0.6, 'learning_rate': 0.00566495562610556, 'max_depth': 17, 'min_child_samples': 25, 'num_leaves': 12}. Best is trial 11 with value: 0.5811958552433455.\n",
      "[I 2023-12-04 23:15:13,469] Trial 29 finished with value: 0.5830466617979336 and parameters: {'reg_lambda': 0.02106085077685229, 'reg_alpha': 3.6568047974385425, 'colsample_bytree': 0.7, 'colsample_bynode': 0.4, 'subsample': 0.5, 'learning_rate': 0.020051990626261812, 'max_depth': 20, 'min_child_samples': 9, 'num_leaves': 12}. Best is trial 11 with value: 0.5811958552433455.\n",
      "[I 2023-12-04 23:15:44,081] Trial 30 finished with value: 0.589026019777648 and parameters: {'reg_lambda': 0.05635122861633317, 'reg_alpha': 0.911818960935431, 'colsample_bytree': 0.8, 'colsample_bynode': 0.4, 'subsample': 0.9, 'learning_rate': 0.008500853272505077, 'max_depth': 45, 'min_child_samples': 13, 'num_leaves': 30}. Best is trial 11 with value: 0.5811958552433455.\n",
      "[I 2023-12-04 23:15:55,954] Trial 31 finished with value: 0.5849988362494144 and parameters: {'reg_lambda': 0.008347694538780938, 'reg_alpha': 0.7963842989592262, 'colsample_bytree': 1.0, 'colsample_bynode': 0.6, 'subsample': 0.4, 'learning_rate': 0.01517265223762298, 'max_depth': 35, 'min_child_samples': 50, 'num_leaves': 16}. Best is trial 11 with value: 0.5811958552433455.\n",
      "[I 2023-12-04 23:16:00,496] Trial 32 finished with value: 0.5905928109234757 and parameters: {'reg_lambda': 0.019350250781453294, 'reg_alpha': 8.797567105021336, 'colsample_bytree': 1.0, 'colsample_bynode': 0.6, 'subsample': 0.4, 'learning_rate': 0.04819975878120488, 'max_depth': 13, 'min_child_samples': 17, 'num_leaves': 16}. Best is trial 11 with value: 0.5811958552433455.\n",
      "[I 2023-12-04 23:16:14,424] Trial 33 finished with value: 0.5819375045125567 and parameters: {'reg_lambda': 0.021814464565538396, 'reg_alpha': 2.238934820467161, 'colsample_bytree': 1.0, 'colsample_bynode': 0.4, 'subsample': 0.4, 'learning_rate': 0.01433619613643599, 'max_depth': 15, 'min_child_samples': 11, 'num_leaves': 14}. Best is trial 11 with value: 0.5811958552433455.\n",
      "[I 2023-12-04 23:16:42,197] Trial 34 finished with value: 0.5844982228439884 and parameters: {'reg_lambda': 0.02726199965931088, 'reg_alpha': 1.8368002420471023, 'colsample_bytree': 0.6, 'colsample_bynode': 0.4, 'subsample': 1.0, 'learning_rate': 0.004198188543718814, 'max_depth': 15, 'min_child_samples': 11, 'num_leaves': 14}. Best is trial 11 with value: 0.5811958552433455.\n",
      "[I 2023-12-04 23:16:50,295] Trial 35 finished with value: 0.5807048770316159 and parameters: {'reg_lambda': 0.03595214430189829, 'reg_alpha': 4.125347264733599, 'colsample_bytree': 1.0, 'colsample_bynode': 0.4, 'subsample': 0.4, 'learning_rate': 0.02738620148968536, 'max_depth': 15, 'min_child_samples': 11, 'num_leaves': 10}. Best is trial 35 with value: 0.5807048770316159.\n",
      "[I 2023-12-04 23:16:54,521] Trial 36 finished with value: 0.5795461498130402 and parameters: {'reg_lambda': 0.04134227042541208, 'reg_alpha': 4.646849464536385, 'colsample_bytree': 0.4, 'colsample_bynode': 0.4, 'subsample': 0.8, 'learning_rate': 0.028960047180468546, 'max_depth': 30, 'min_child_samples': 35, 'num_leaves': 10}. Best is trial 36 with value: 0.5795461498130402.\n",
      "[I 2023-12-04 23:16:57,429] Trial 37 finished with value: 0.5835323333338412 and parameters: {'reg_lambda': 0.05566059477936951, 'reg_alpha': 5.418889912552201, 'colsample_bytree': 0.4, 'colsample_bynode': 0.5, 'subsample': 0.8, 'learning_rate': 0.034682701430077637, 'max_depth': 30, 'min_child_samples': 35, 'num_leaves': 10}. Best is trial 36 with value: 0.5795461498130402.\n",
      "[I 2023-12-04 23:17:04,029] Trial 38 finished with value: 0.5859232812468214 and parameters: {'reg_lambda': 0.11615224650820018, 'reg_alpha': 1.4700637217729537, 'colsample_bytree': 0.4, 'colsample_bynode': 0.9, 'subsample': 0.8, 'learning_rate': 0.007084246497131821, 'max_depth': 30, 'min_child_samples': 35, 'num_leaves': 10}. Best is trial 36 with value: 0.5795461498130402.\n",
      "[I 2023-12-04 23:17:06,719] Trial 39 finished with value: 0.5892228437876417 and parameters: {'reg_lambda': 0.03725596950466487, 'reg_alpha': 5.361109383509771, 'colsample_bytree': 0.4, 'colsample_bynode': 1.0, 'subsample': 0.8, 'learning_rate': 0.036651369495780635, 'max_depth': 40, 'min_child_samples': 20, 'num_leaves': 20}. Best is trial 36 with value: 0.5795461498130402.\n",
      "[I 2023-12-04 23:17:10,154] Trial 40 finished with value: 0.5862406460393368 and parameters: {'reg_lambda': 0.001083050269876339, 'reg_alpha': 0.7200884184139176, 'colsample_bytree': 0.4, 'colsample_bynode': 0.4, 'subsample': 1.0, 'learning_rate': 0.024750488485369322, 'max_depth': 9, 'min_child_samples': 40, 'num_leaves': 12}. Best is trial 36 with value: 0.5795461498130402.\n",
      "[I 2023-12-04 23:17:19,113] Trial 41 finished with value: 0.587669488477989 and parameters: {'reg_lambda': 0.005783927058264785, 'reg_alpha': 3.210420185268066, 'colsample_bytree': 0.7, 'colsample_bynode': 0.4, 'subsample': 0.6, 'learning_rate': 0.012131439206664646, 'max_depth': 30, 'min_child_samples': 35, 'num_leaves': 12}. Best is trial 36 with value: 0.5795461498130402.\n",
      "[I 2023-12-04 23:17:22,582] Trial 42 finished with value: 0.5847363542749086 and parameters: {'reg_lambda': 0.04121193361367971, 'reg_alpha': 3.656691037734014, 'colsample_bytree': 0.3, 'colsample_bynode': 0.4, 'subsample': 0.8, 'learning_rate': 0.02147791396051283, 'max_depth': 17, 'min_child_samples': 11, 'num_leaves': 10}. Best is trial 36 with value: 0.5795461498130402.\n",
      "[I 2023-12-04 23:17:31,218] Trial 43 finished with value: 0.5865959290716805 and parameters: {'reg_lambda': 0.08281768053080718, 'reg_alpha': 8.47059741433821, 'colsample_bytree': 0.8, 'colsample_bynode': 0.4, 'subsample': 0.5, 'learning_rate': 0.02630114790467821, 'max_depth': 15, 'min_child_samples': 25, 'num_leaves': 14}. Best is trial 36 with value: 0.5795461498130402.\n",
      "[I 2023-12-04 23:17:33,740] Trial 44 finished with value: 0.5842393224942348 and parameters: {'reg_lambda': 0.006489204281665016, 'reg_alpha': 1.6398205720197365, 'colsample_bytree': 0.5, 'colsample_bynode': 0.8, 'subsample': 0.4, 'learning_rate': 0.049536462350626795, 'max_depth': 30, 'min_child_samples': 35, 'num_leaves': 10}. Best is trial 36 with value: 0.5795461498130402.\n",
      "[I 2023-12-04 23:18:10,488] Trial 45 finished with value: 0.5791783527360954 and parameters: {'reg_lambda': 0.02996158559973774, 'reg_alpha': 4.373992627966124, 'colsample_bytree': 0.9, 'colsample_bynode': 0.5, 'subsample': 1.0, 'learning_rate': 0.006919762945369008, 'max_depth': 40, 'min_child_samples': 11, 'num_leaves': 18}. Best is trial 45 with value: 0.5791783527360954.\n",
      "[I 2023-12-04 23:18:43,375] Trial 46 finished with value: 0.5840599138472857 and parameters: {'reg_lambda': 0.1847155138842319, 'reg_alpha': 9.38754876494421, 'colsample_bytree': 0.9, 'colsample_bynode': 0.5, 'subsample': 1.0, 'learning_rate': 0.006148510226109654, 'max_depth': 40, 'min_child_samples': 11, 'num_leaves': 18}. Best is trial 45 with value: 0.5791783527360954.\n",
      "[I 2023-12-04 23:19:02,144] Trial 47 finished with value: 0.5835822067595233 and parameters: {'reg_lambda': 0.009745261427933976, 'reg_alpha': 1.0660283383319833, 'colsample_bytree': 0.9, 'colsample_bynode': 0.5, 'subsample': 1.0, 'learning_rate': 0.009982351519245338, 'max_depth': 40, 'min_child_samples': 11, 'num_leaves': 24}. Best is trial 45 with value: 0.5791783527360954.\n",
      "[I 2023-12-04 23:19:42,314] Trial 48 finished with value: 0.5870325295463614 and parameters: {'reg_lambda': 0.03238889198720989, 'reg_alpha': 4.519412978060133, 'colsample_bytree': 0.9, 'colsample_bynode': 0.5, 'subsample': 1.0, 'learning_rate': 0.0032416125147859427, 'max_depth': 35, 'min_child_samples': 30, 'num_leaves': 22}. Best is trial 45 with value: 0.5791783527360954.\n",
      "[I 2023-12-04 23:19:58,145] Trial 49 finished with value: 0.5840748907866883 and parameters: {'reg_lambda': 0.003738802846276186, 'reg_alpha': 0.23603765109595712, 'colsample_bytree': 0.5, 'colsample_bynode': 0.9, 'subsample': 1.0, 'learning_rate': 0.005404604583770053, 'max_depth': 40, 'min_child_samples': 11, 'num_leaves': 18}. Best is trial 45 with value: 0.5791783527360954.\n",
      "[I 2023-12-04 23:20:34,646] Trial 50 finished with value: 0.5843443744322064 and parameters: {'reg_lambda': 0.22713729445213626, 'reg_alpha': 2.075802492825515, 'colsample_bytree': 0.6, 'colsample_bynode': 0.3, 'subsample': 0.8, 'learning_rate': 0.001989632967002269, 'max_depth': 9, 'min_child_samples': 40, 'num_leaves': 14}. Best is trial 45 with value: 0.5791783527360954.\n",
      "[I 2023-12-04 23:20:46,423] Trial 51 finished with value: 0.5813466881253834 and parameters: {'reg_lambda': 0.027112623248229273, 'reg_alpha': 4.964631137076366, 'colsample_bytree': 0.9, 'colsample_bynode': 0.4, 'subsample': 0.7, 'learning_rate': 0.010995390667099793, 'max_depth': 11, 'min_child_samples': 20, 'num_leaves': 12}. Best is trial 45 with value: 0.5791783527360954.\n",
      "[I 2023-12-04 23:20:53,253] Trial 52 finished with value: 0.5855871165765673 and parameters: {'reg_lambda': 0.014857801727410936, 'reg_alpha': 3.08379797708254, 'colsample_bytree': 1.0, 'colsample_bynode': 0.5, 'subsample': 1.0, 'learning_rate': 0.018111972130673146, 'max_depth': 25, 'min_child_samples': 25, 'num_leaves': 12}. Best is trial 45 with value: 0.5791783527360954.\n",
      "[I 2023-12-04 23:21:02,651] Trial 53 finished with value: 0.5797388413597733 and parameters: {'reg_lambda': 0.12330797343914497, 'reg_alpha': 6.263565501881786, 'colsample_bytree': 0.4, 'colsample_bynode': 1.0, 'subsample': 0.4, 'learning_rate': 0.007363711792749672, 'max_depth': 45, 'min_child_samples': 17, 'num_leaves': 10}. Best is trial 45 with value: 0.5791783527360954.\n",
      "[I 2023-12-04 23:21:14,557] Trial 54 finished with value: 0.5756523810136738 and parameters: {'reg_lambda': 0.11754755684314372, 'reg_alpha': 6.917573684124382, 'colsample_bytree': 0.4, 'colsample_bynode': 1.0, 'subsample': 0.9, 'learning_rate': 0.0072301212452969485, 'max_depth': 45, 'min_child_samples': 17, 'num_leaves': 10}. Best is trial 54 with value: 0.5756523810136738.\n",
      "[I 2023-12-04 23:21:27,565] Trial 55 finished with value: 0.5780745073209697 and parameters: {'reg_lambda': 0.11171946878425258, 'reg_alpha': 6.265187550667776, 'colsample_bytree': 0.4, 'colsample_bynode': 1.0, 'subsample': 0.9, 'learning_rate': 0.0042738388307777524, 'max_depth': 45, 'min_child_samples': 17, 'num_leaves': 10}. Best is trial 54 with value: 0.5756523810136738.\n",
      "[I 2023-12-04 23:21:44,034] Trial 56 finished with value: 0.5790524383165396 and parameters: {'reg_lambda': 0.1206375313413477, 'reg_alpha': 9.884632795026938, 'colsample_bytree': 0.4, 'colsample_bynode': 1.0, 'subsample': 0.9, 'learning_rate': 0.004174242977726576, 'max_depth': 45, 'min_child_samples': 17, 'num_leaves': 10}. Best is trial 54 with value: 0.5756523810136738.\n",
      "[I 2023-12-04 23:22:02,097] Trial 57 finished with value: 0.591513032627381 and parameters: {'reg_lambda': 0.11095403372599198, 'reg_alpha': 9.915331742993661, 'colsample_bytree': 0.4, 'colsample_bynode': 1.0, 'subsample': 0.9, 'learning_rate': 0.003946131519190714, 'max_depth': 45, 'min_child_samples': 17, 'num_leaves': 36}. Best is trial 54 with value: 0.5756523810136738.\n",
      "[I 2023-12-04 23:22:13,375] Trial 58 finished with value: 0.5785669612688241 and parameters: {'reg_lambda': 0.27182229722720264, 'reg_alpha': 6.842544451876049, 'colsample_bytree': 0.4, 'colsample_bynode': 1.0, 'subsample': 0.9, 'learning_rate': 0.00634522098673594, 'max_depth': 45, 'min_child_samples': 17, 'num_leaves': 10}. Best is trial 54 with value: 0.5756523810136738.\n",
      "[I 2023-12-04 23:22:27,058] Trial 59 finished with value: 0.5787462311888163 and parameters: {'reg_lambda': 0.27620501456866897, 'reg_alpha': 6.837815748411105, 'colsample_bytree': 0.4, 'colsample_bynode': 1.0, 'subsample': 0.9, 'learning_rate': 0.0047339532923821705, 'max_depth': 45, 'min_child_samples': 17, 'num_leaves': 10}. Best is trial 54 with value: 0.5756523810136738.\n",
      "[I 2023-12-04 23:22:59,852] Trial 60 finished with value: 0.5899177434071587 and parameters: {'reg_lambda': 0.36510898223427307, 'reg_alpha': 7.4138323590925665, 'colsample_bytree': 0.4, 'colsample_bynode': 1.0, 'subsample': 0.9, 'learning_rate': 0.001774589195273286, 'max_depth': 45, 'min_child_samples': 17, 'num_leaves': 26}. Best is trial 54 with value: 0.5756523810136738.\n",
      "[I 2023-12-04 23:23:14,020] Trial 61 finished with value: 0.5814889127745181 and parameters: {'reg_lambda': 0.1697008556257228, 'reg_alpha': 5.024131390918713, 'colsample_bytree': 0.4, 'colsample_bynode': 1.0, 'subsample': 0.9, 'learning_rate': 0.003551894109074722, 'max_depth': 45, 'min_child_samples': 17, 'num_leaves': 10}. Best is trial 54 with value: 0.5756523810136738.\n",
      "[I 2023-12-04 23:23:27,786] Trial 62 finished with value: 0.5840806952730537 and parameters: {'reg_lambda': 0.07986316599169074, 'reg_alpha': 6.928132236529794, 'colsample_bytree': 0.4, 'colsample_bynode': 1.0, 'subsample': 0.9, 'learning_rate': 0.0030534768627410573, 'max_depth': 45, 'min_child_samples': 17, 'num_leaves': 12}. Best is trial 54 with value: 0.5756523810136738.\n",
      "[I 2023-12-04 23:23:37,316] Trial 63 finished with value: 0.5822295231871903 and parameters: {'reg_lambda': 0.24834064370052814, 'reg_alpha': 2.440391059714457, 'colsample_bytree': 0.4, 'colsample_bynode': 1.0, 'subsample': 0.9, 'learning_rate': 0.004847037010339653, 'max_depth': 45, 'min_child_samples': 17, 'num_leaves': 10}. Best is trial 54 with value: 0.5756523810136738.\n",
      "[I 2023-12-04 23:23:49,708] Trial 64 finished with value: 0.5789945328388586 and parameters: {'reg_lambda': 0.4379666981664633, 'reg_alpha': 9.655141830931715, 'colsample_bytree': 0.4, 'colsample_bynode': 1.0, 'subsample': 0.9, 'learning_rate': 0.007438817809091666, 'max_depth': 45, 'min_child_samples': 17, 'num_leaves': 14}. Best is trial 54 with value: 0.5756523810136738.\n",
      "[I 2023-12-04 23:24:01,122] Trial 65 finished with value: 0.5817807190177193 and parameters: {'reg_lambda': 0.6042238554290417, 'reg_alpha': 9.90319624021663, 'colsample_bytree': 0.4, 'colsample_bynode': 1.0, 'subsample': 0.9, 'learning_rate': 0.006571293029999021, 'max_depth': 45, 'min_child_samples': 17, 'num_leaves': 14}. Best is trial 54 with value: 0.5756523810136738.\n",
      "[I 2023-12-04 23:24:11,272] Trial 66 finished with value: 0.5829256660669245 and parameters: {'reg_lambda': 0.28769432053704325, 'reg_alpha': 6.378305158642177, 'colsample_bytree': 0.4, 'colsample_bynode': 1.0, 'subsample': 0.9, 'learning_rate': 0.007678732910109625, 'max_depth': 45, 'min_child_samples': 17, 'num_leaves': 16}. Best is trial 54 with value: 0.5756523810136738.\n",
      "[I 2023-12-04 23:24:22,823] Trial 67 finished with value: 0.58154045145648 and parameters: {'reg_lambda': 0.16317119525008833, 'reg_alpha': 2.4388471035797097, 'colsample_bytree': 0.4, 'colsample_bynode': 1.0, 'subsample': 0.9, 'learning_rate': 0.00502377575891237, 'max_depth': 45, 'min_child_samples': 17, 'num_leaves': 12}. Best is trial 54 with value: 0.5756523810136738.\n",
      "[I 2023-12-04 23:24:43,590] Trial 68 finished with value: 0.5865442741820587 and parameters: {'reg_lambda': 0.6470842247084047, 'reg_alpha': 6.8979003765521805, 'colsample_bytree': 0.4, 'colsample_bynode': 1.0, 'subsample': 0.9, 'learning_rate': 0.002361940542219248, 'max_depth': 45, 'min_child_samples': 17, 'num_leaves': 16}. Best is trial 54 with value: 0.5756523810136738.\n",
      "[I 2023-12-04 23:25:01,973] Trial 69 finished with value: 0.5828030348642114 and parameters: {'reg_lambda': 0.36853394873325374, 'reg_alpha': 9.868367076590568, 'colsample_bytree': 0.4, 'colsample_bynode': 0.7, 'subsample': 0.9, 'learning_rate': 0.0041630354536241615, 'max_depth': 45, 'min_child_samples': 17, 'num_leaves': 12}. Best is trial 54 with value: 0.5756523810136738.\n",
      "[I 2023-12-04 23:25:33,108] Trial 70 finished with value: 0.5840866360003075 and parameters: {'reg_lambda': 0.936504681570998, 'reg_alpha': 1.351360785157173, 'colsample_bytree': 0.4, 'colsample_bynode': 1.0, 'subsample': 0.9, 'learning_rate': 0.0015740424764256787, 'max_depth': 20, 'min_child_samples': 15, 'num_leaves': 14}. Best is trial 54 with value: 0.5756523810136738.\n",
      "[I 2023-12-04 23:25:38,012] Trial 71 finished with value: 0.5812442485158822 and parameters: {'reg_lambda': 0.20342610868573605, 'reg_alpha': 4.5154797309741035, 'colsample_bytree': 0.4, 'colsample_bynode': 1.0, 'subsample': 0.9, 'learning_rate': 0.009468165887263, 'max_depth': 45, 'min_child_samples': 45, 'num_leaves': 10}. Best is trial 54 with value: 0.5756523810136738.\n",
      "[I 2023-12-04 23:25:43,117] Trial 72 finished with value: 0.58153428304971 and parameters: {'reg_lambda': 0.05918101321437654, 'reg_alpha': 3.9845970982319407, 'colsample_bytree': 0.4, 'colsample_bynode': 1.0, 'subsample': 0.9, 'learning_rate': 0.011858355989878727, 'max_depth': 50, 'min_child_samples': 13, 'num_leaves': 10}. Best is trial 54 with value: 0.5756523810136738.\n",
      "[I 2023-12-04 23:25:57,180] Trial 73 finished with value: 0.5821836331611593 and parameters: {'reg_lambda': 0.11477665028138777, 'reg_alpha': 6.2168717766185155, 'colsample_bytree': 0.4, 'colsample_bynode': 1.0, 'subsample': 0.9, 'learning_rate': 0.0028801976031405606, 'max_depth': 45, 'min_child_samples': 9, 'num_leaves': 10}. Best is trial 54 with value: 0.5756523810136738.\n",
      "[I 2023-12-04 23:26:04,857] Trial 74 finished with value: 0.5836158366330275 and parameters: {'reg_lambda': 0.3924299007377301, 'reg_alpha': 2.869780668652922, 'colsample_bytree': 0.3, 'colsample_bynode': 1.0, 'subsample': 0.9, 'learning_rate': 0.005348005486039584, 'max_depth': 45, 'min_child_samples': 17, 'num_leaves': 12}. Best is trial 54 with value: 0.5756523810136738.\n",
      "[I 2023-12-04 23:26:48,833] Trial 75 finished with value: 0.5857112949020133 and parameters: {'reg_lambda': 0.16036223653282594, 'reg_alpha': 1.8197888158462179, 'colsample_bytree': 0.4, 'colsample_bynode': 0.8, 'subsample': 0.6, 'learning_rate': 0.0010536785394581352, 'max_depth': 30, 'min_child_samples': 17, 'num_leaves': 14}. Best is trial 54 with value: 0.5756523810136738.\n",
      "[I 2023-12-04 23:26:57,896] Trial 76 finished with value: 0.582776871667643 and parameters: {'reg_lambda': 0.08225801089630871, 'reg_alpha': 4.1490109619002995, 'colsample_bytree': 0.7, 'colsample_bynode': 1.0, 'subsample': 0.9, 'learning_rate': 0.00804779423184157, 'max_depth': 45, 'min_child_samples': 30, 'num_leaves': 10}. Best is trial 54 with value: 0.5756523810136738.\n",
      "[I 2023-12-04 23:27:09,068] Trial 77 finished with value: 0.5808009546194965 and parameters: {'reg_lambda': 0.2656489749688007, 'reg_alpha': 6.6612481222239115, 'colsample_bytree': 0.8, 'colsample_bynode': 0.3, 'subsample': 0.5, 'learning_rate': 0.01339701935047653, 'max_depth': 25, 'min_child_samples': 17, 'num_leaves': 12}. Best is trial 54 with value: 0.5756523810136738.\n",
      "[I 2023-12-04 23:27:28,703] Trial 78 finished with value: 0.5824702853508786 and parameters: {'reg_lambda': 0.04687290793121782, 'reg_alpha': 2.729472493169855, 'colsample_bytree': 0.4, 'colsample_bynode': 0.7, 'subsample': 0.9, 'learning_rate': 0.0022810212498640616, 'max_depth': 11, 'min_child_samples': 35, 'num_leaves': 10}. Best is trial 54 with value: 0.5756523810136738.\n",
      "[I 2023-12-04 23:27:36,183] Trial 79 finished with value: 0.5874781040167637 and parameters: {'reg_lambda': 0.07299791699824218, 'reg_alpha': 4.811606222764343, 'colsample_bytree': 0.4, 'colsample_bynode': 1.0, 'subsample': 0.8, 'learning_rate': 0.006344255837011607, 'max_depth': 40, 'min_child_samples': 17, 'num_leaves': 14}. Best is trial 54 with value: 0.5756523810136738.\n",
      "[I 2023-12-04 23:28:07,159] Trial 80 finished with value: 0.5865623057945685 and parameters: {'reg_lambda': 0.0955787473243217, 'reg_alpha': 7.775755886495584, 'colsample_bytree': 0.9, 'colsample_bynode': 0.9, 'subsample': 0.7, 'learning_rate': 0.0037357567800825743, 'max_depth': 45, 'min_child_samples': 17, 'num_leaves': 22}. Best is trial 54 with value: 0.5756523810136738.\n",
      "[I 2023-12-04 23:28:15,093] Trial 81 finished with value: 0.5785617455834942 and parameters: {'reg_lambda': 0.15641038390056294, 'reg_alpha': 6.037284866200325, 'colsample_bytree': 0.4, 'colsample_bynode': 1.0, 'subsample': 0.9, 'learning_rate': 0.006981228302678176, 'max_depth': 45, 'min_child_samples': 17, 'num_leaves': 10}. Best is trial 54 with value: 0.5756523810136738.\n",
      "[I 2023-12-04 23:28:20,095] Trial 82 finished with value: 0.5819757760175971 and parameters: {'reg_lambda': 0.1338814759053742, 'reg_alpha': 3.4517404173738537, 'colsample_bytree': 0.4, 'colsample_bynode': 1.0, 'subsample': 0.9, 'learning_rate': 0.00962712963363794, 'max_depth': 45, 'min_child_samples': 17, 'num_leaves': 10}. Best is trial 54 with value: 0.5756523810136738.\n",
      "[I 2023-12-04 23:28:33,136] Trial 83 finished with value: 0.5800053567068238 and parameters: {'reg_lambda': 0.049996307705400214, 'reg_alpha': 5.26233158402643, 'colsample_bytree': 0.4, 'colsample_bynode': 1.0, 'subsample': 0.9, 'learning_rate': 0.004687184594212707, 'max_depth': 45, 'min_child_samples': 17, 'num_leaves': 12}. Best is trial 54 with value: 0.5756523810136738.\n",
      "[I 2023-12-04 23:28:39,682] Trial 84 finished with value: 0.5808635309682676 and parameters: {'reg_lambda': 0.4524819766908718, 'reg_alpha': 7.286984904332561, 'colsample_bytree': 0.6, 'colsample_bynode': 1.0, 'subsample': 0.9, 'learning_rate': 0.012987446748946726, 'max_depth': 35, 'min_child_samples': 15, 'num_leaves': 10}. Best is trial 54 with value: 0.5756523810136738.\n",
      "[I 2023-12-04 23:28:47,843] Trial 85 finished with value: 0.583103263912829 and parameters: {'reg_lambda': 0.2140844496119809, 'reg_alpha': 1.9851810226886606, 'colsample_bytree': 0.4, 'colsample_bynode': 0.5, 'subsample': 0.9, 'learning_rate': 0.006475742709183286, 'max_depth': 20, 'min_child_samples': 45, 'num_leaves': 12}. Best is trial 54 with value: 0.5756523810136738.\n",
      "[I 2023-12-04 23:28:54,604] Trial 86 finished with value: 0.5770431534891536 and parameters: {'reg_lambda': 0.3099919021481454, 'reg_alpha': 3.7971613872528978, 'colsample_bytree': 0.4, 'colsample_bynode': 1.0, 'subsample': 0.9, 'learning_rate': 0.008737246706322836, 'max_depth': 30, 'min_child_samples': 13, 'num_leaves': 10}. Best is trial 54 with value: 0.5756523810136738.\n",
      "[I 2023-12-04 23:29:03,124] Trial 87 finished with value: 0.5828283852519633 and parameters: {'reg_lambda': 0.25864919150934224, 'reg_alpha': 1.1932842846408007, 'colsample_bytree': 0.4, 'colsample_bynode': 1.0, 'subsample': 0.9, 'learning_rate': 0.00781861596250588, 'max_depth': 50, 'min_child_samples': 13, 'num_leaves': 12}. Best is trial 54 with value: 0.5756523810136738.\n",
      "[I 2023-12-04 23:29:43,849] Trial 88 finished with value: 0.5798810137582054 and parameters: {'reg_lambda': 0.3035569107666488, 'reg_alpha': 9.849064528660953, 'colsample_bytree': 0.9, 'colsample_bynode': 1.0, 'subsample': 0.9, 'learning_rate': 0.003146162670651923, 'max_depth': 9, 'min_child_samples': 13, 'num_leaves': 10}. Best is trial 54 with value: 0.5756523810136738.\n",
      "[I 2023-12-04 23:29:54,041] Trial 89 finished with value: 0.5800668147881147 and parameters: {'reg_lambda': 0.14652583374133282, 'reg_alpha': 3.611147140450402, 'colsample_bytree': 0.3, 'colsample_bynode': 1.0, 'subsample': 0.9, 'learning_rate': 0.005468564641161388, 'max_depth': 45, 'min_child_samples': 13, 'num_leaves': 14}. Best is trial 54 with value: 0.5756523810136738.\n",
      "[I 2023-12-04 23:30:03,338] Trial 90 finished with value: 0.5864855965270817 and parameters: {'reg_lambda': 0.6015612727530076, 'reg_alpha': 2.628040827674448, 'colsample_bytree': 0.7, 'colsample_bynode': 1.0, 'subsample': 0.9, 'learning_rate': 0.010939280419846953, 'max_depth': 40, 'min_child_samples': 40, 'num_leaves': 20}. Best is trial 54 with value: 0.5756523810136738.\n",
      "[I 2023-12-04 23:30:15,379] Trial 91 finished with value: 0.5792666752078249 and parameters: {'reg_lambda': 0.10310560559889517, 'reg_alpha': 5.66277038610874, 'colsample_bytree': 0.4, 'colsample_bynode': 1.0, 'subsample': 0.8, 'learning_rate': 0.004237758891617051, 'max_depth': 30, 'min_child_samples': 35, 'num_leaves': 10}. Best is trial 54 with value: 0.5756523810136738.\n",
      "[I 2023-12-04 23:30:27,460] Trial 92 finished with value: 0.5805648346145992 and parameters: {'reg_lambda': 0.18103928270357988, 'reg_alpha': 5.655122184219021, 'colsample_bytree': 0.4, 'colsample_bynode': 1.0, 'subsample': 0.6, 'learning_rate': 0.004555800292184015, 'max_depth': 30, 'min_child_samples': 20, 'num_leaves': 10}. Best is trial 54 with value: 0.5756523810136738.\n",
      "[I 2023-12-04 23:30:44,045] Trial 93 finished with value: 0.5797112315373697 and parameters: {'reg_lambda': 0.10000227592810686, 'reg_alpha': 4.056730351183236, 'colsample_bytree': 0.4, 'colsample_bynode': 1.0, 'subsample': 0.9, 'learning_rate': 0.00361858726012655, 'max_depth': 30, 'min_child_samples': 9, 'num_leaves': 12}. Best is trial 54 with value: 0.5756523810136738.\n",
      "[I 2023-12-04 23:30:53,691] Trial 94 finished with value: 0.5776121471864106 and parameters: {'reg_lambda': 0.06731086182295076, 'reg_alpha': 8.075667537963575, 'colsample_bytree': 0.4, 'colsample_bynode': 1.0, 'subsample': 0.8, 'learning_rate': 0.009210353387291002, 'max_depth': 30, 'min_child_samples': 17, 'num_leaves': 12}. Best is trial 54 with value: 0.5756523810136738.\n",
      "[I 2023-12-04 23:31:02,521] Trial 95 finished with value: 0.5825923795230868 and parameters: {'reg_lambda': 0.0625266901361336, 'reg_alpha': 7.6852778865210984, 'colsample_bytree': 0.4, 'colsample_bynode': 0.5, 'subsample': 0.5, 'learning_rate': 0.008963326150556453, 'max_depth': 45, 'min_child_samples': 17, 'num_leaves': 12}. Best is trial 54 with value: 0.5756523810136738.\n",
      "[I 2023-12-04 23:31:25,026] Trial 96 finished with value: 0.5801469828815814 and parameters: {'reg_lambda': 0.12793888332812356, 'reg_alpha': 7.9039341755942045, 'colsample_bytree': 0.8, 'colsample_bynode': 0.8, 'subsample': 0.9, 'learning_rate': 0.006139427977964082, 'max_depth': 45, 'min_child_samples': 17, 'num_leaves': 12}. Best is trial 54 with value: 0.5756523810136738.\n",
      "[I 2023-12-04 23:31:29,680] Trial 97 finished with value: 0.5827489589108817 and parameters: {'reg_lambda': 0.07092072152125972, 'reg_alpha': 3.2221309913583625, 'colsample_bytree': 0.4, 'colsample_bynode': 1.0, 'subsample': 0.7, 'learning_rate': 0.015220783723052085, 'max_depth': 30, 'min_child_samples': 17, 'num_leaves': 14}. Best is trial 54 with value: 0.5756523810136738.\n",
      "[I 2023-12-04 23:31:38,973] Trial 98 finished with value: 0.5816852726044698 and parameters: {'reg_lambda': 0.21845856813352674, 'reg_alpha': 8.26814140864633, 'colsample_bytree': 0.4, 'colsample_bynode': 0.3, 'subsample': 0.9, 'learning_rate': 0.007757338730183159, 'max_depth': 45, 'min_child_samples': 17, 'num_leaves': 10}. Best is trial 54 with value: 0.5756523810136738.\n",
      "[I 2023-12-04 23:31:47,124] Trial 99 finished with value: 0.585791201394394 and parameters: {'reg_lambda': 0.43083399979793774, 'reg_alpha': 5.352888843338361, 'colsample_bytree': 0.9, 'colsample_bynode': 1.0, 'subsample': 1.0, 'learning_rate': 0.01146850686591846, 'max_depth': 40, 'min_child_samples': 17, 'num_leaves': 12}. Best is trial 54 with value: 0.5756523810136738.\n",
      "[I 2023-12-04 23:32:12,835] Trial 100 finished with value: 0.5808182609814622 and parameters: {'reg_lambda': 0.31172993665201315, 'reg_alpha': 1.7001799726131466, 'colsample_bytree': 0.6, 'colsample_bynode': 1.0, 'subsample': 0.9, 'learning_rate': 0.002508714379153999, 'max_depth': 17, 'min_child_samples': 11, 'num_leaves': 10}. Best is trial 54 with value: 0.5756523810136738.\n",
      "[I 2023-12-04 23:32:23,833] Trial 101 finished with value: 0.5808525865349413 and parameters: {'reg_lambda': 0.09718559294253434, 'reg_alpha': 6.146523583069467, 'colsample_bytree': 0.4, 'colsample_bynode': 1.0, 'subsample': 0.8, 'learning_rate': 0.004165152594123931, 'max_depth': 30, 'min_child_samples': 35, 'num_leaves': 10}. Best is trial 54 with value: 0.5756523810136738.\n",
      "[I 2023-12-04 23:32:31,823] Trial 102 finished with value: 0.5797311830527533 and parameters: {'reg_lambda': 0.16020075411406307, 'reg_alpha': 4.45472022964331, 'colsample_bytree': 0.4, 'colsample_bynode': 1.0, 'subsample': 0.8, 'learning_rate': 0.007094250874035491, 'max_depth': 30, 'min_child_samples': 30, 'num_leaves': 10}. Best is trial 54 with value: 0.5756523810136738.\n",
      "[I 2023-12-04 23:32:38,439] Trial 103 finished with value: 0.5850292827241714 and parameters: {'reg_lambda': 0.1080283660620933, 'reg_alpha': 9.801258375540359, 'colsample_bytree': 0.4, 'colsample_bynode': 1.0, 'subsample': 0.8, 'learning_rate': 0.005747382656227416, 'max_depth': 30, 'min_child_samples': 17, 'num_leaves': 10}. Best is trial 54 with value: 0.5756523810136738.\n",
      "[I 2023-12-04 23:32:45,504] Trial 104 finished with value: 0.5806773690837207 and parameters: {'reg_lambda': 0.20300159122107878, 'reg_alpha': 5.45761846425589, 'colsample_bytree': 0.4, 'colsample_bynode': 1.0, 'subsample': 0.8, 'learning_rate': 0.009163411834883648, 'max_depth': 30, 'min_child_samples': 13, 'num_leaves': 12}. Best is trial 54 with value: 0.5756523810136738.\n",
      "[I 2023-12-04 23:32:58,991] Trial 105 finished with value: 0.5840275478726703 and parameters: {'reg_lambda': 0.0676533491376954, 'reg_alpha': 2.2205765918291696, 'colsample_bytree': 0.5, 'colsample_bynode': 0.7, 'subsample': 0.8, 'learning_rate': 0.004701117271064882, 'max_depth': 45, 'min_child_samples': 17, 'num_leaves': 10}. Best is trial 54 with value: 0.5756523810136738.\n",
      "[I 2023-12-04 23:33:18,677] Trial 106 finished with value: 0.5879445492703407 and parameters: {'reg_lambda': 0.14941922134489607, 'reg_alpha': 7.419152903515525, 'colsample_bytree': 0.4, 'colsample_bynode': 1.0, 'subsample': 0.9, 'learning_rate': 0.0034843149054038223, 'max_depth': 25, 'min_child_samples': 17, 'num_leaves': 30}. Best is trial 54 with value: 0.5756523810136738.\n",
      "[I 2023-12-04 23:33:27,896] Trial 107 finished with value: 0.5811509084502346 and parameters: {'reg_lambda': 0.05035155776800441, 'reg_alpha': 3.460957662628858, 'colsample_bytree': 0.4, 'colsample_bynode': 0.9, 'subsample': 0.9, 'learning_rate': 0.006917678182038659, 'max_depth': 11, 'min_child_samples': 17, 'num_leaves': 12}. Best is trial 54 with value: 0.5756523810136738.\n",
      "[I 2023-12-04 23:33:37,316] Trial 108 finished with value: 0.5822250989825327 and parameters: {'reg_lambda': 0.33446500906560106, 'reg_alpha': 5.821083563734627, 'colsample_bytree': 0.4, 'colsample_bynode': 1.0, 'subsample': 1.0, 'learning_rate': 0.010262753468360888, 'max_depth': 35, 'min_child_samples': 11, 'num_leaves': 18}. Best is trial 54 with value: 0.5756523810136738.\n",
      "[I 2023-12-04 23:34:06,356] Trial 109 finished with value: 0.5841504249976505 and parameters: {'reg_lambda': 0.49492130964422365, 'reg_alpha': 3.9913719628426834, 'colsample_bytree': 0.4, 'colsample_bynode': 1.0, 'subsample': 0.9, 'learning_rate': 0.002747220295479833, 'max_depth': 45, 'min_child_samples': 35, 'num_leaves': 36}. Best is trial 54 with value: 0.5756523810136738.\n",
      "[I 2023-12-04 23:34:20,501] Trial 110 finished with value: 0.5841051171280645 and parameters: {'reg_lambda': 0.08633459302291933, 'reg_alpha': 2.957031912353467, 'colsample_bytree': 0.4, 'colsample_bynode': 0.5, 'subsample': 0.8, 'learning_rate': 0.005402944465982599, 'max_depth': 15, 'min_child_samples': 20, 'num_leaves': 16}. Best is trial 54 with value: 0.5756523810136738.\n",
      "[I 2023-12-04 23:34:23,912] Trial 111 finished with value: 0.580863703390596 and parameters: {'reg_lambda': 0.03139082354159504, 'reg_alpha': 4.643731941634816, 'colsample_bytree': 0.4, 'colsample_bynode': 1.0, 'subsample': 0.8, 'learning_rate': 0.017248932155210738, 'max_depth': 30, 'min_child_samples': 35, 'num_leaves': 10}. Best is trial 54 with value: 0.5756523810136738.\n",
      "[I 2023-12-04 23:34:29,887] Trial 112 finished with value: 0.5847604678158403 and parameters: {'reg_lambda': 0.04231357467652184, 'reg_alpha': 6.733769818263872, 'colsample_bytree': 0.4, 'colsample_bynode': 1.0, 'subsample': 0.8, 'learning_rate': 0.008933330809200094, 'max_depth': 30, 'min_child_samples': 35, 'num_leaves': 10}. Best is trial 54 with value: 0.5756523810136738.\n",
      "[I 2023-12-04 23:34:48,761] Trial 113 finished with value: 0.5852476007625358 and parameters: {'reg_lambda': 0.12821391021325076, 'reg_alpha': 8.319595752609677, 'colsample_bytree': 0.4, 'colsample_bynode': 0.6, 'subsample': 0.8, 'learning_rate': 0.00428810212167631, 'max_depth': 30, 'min_child_samples': 35, 'num_leaves': 40}. Best is trial 54 with value: 0.5756523810136738.\n",
      "[I 2023-12-04 23:34:54,314] Trial 114 finished with value: 0.5807428343021527 and parameters: {'reg_lambda': 0.24120303538419038, 'reg_alpha': 4.854592894981443, 'colsample_bytree': 0.9, 'colsample_bynode': 0.5, 'subsample': 0.9, 'learning_rate': 0.02295089558969439, 'max_depth': 45, 'min_child_samples': 40, 'num_leaves': 10}. Best is trial 54 with value: 0.5756523810136738.\n",
      "[I 2023-12-04 23:34:57,904] Trial 115 finished with value: 0.5820195749096697 and parameters: {'reg_lambda': 0.06498150550449232, 'reg_alpha': 2.5082829827795625, 'colsample_bytree': 0.4, 'colsample_bynode': 1.0, 'subsample': 0.8, 'learning_rate': 0.018897023243677574, 'max_depth': 30, 'min_child_samples': 17, 'num_leaves': 12}. Best is trial 54 with value: 0.5756523810136738.\n",
      "[I 2023-12-04 23:35:03,221] Trial 116 finished with value: 0.5841541801135013 and parameters: {'reg_lambda': 0.08259247513613743, 'reg_alpha': 9.812224114382966, 'colsample_bytree': 0.4, 'colsample_bynode': 0.8, 'subsample': 0.9, 'learning_rate': 0.01203900564367759, 'max_depth': 9, 'min_child_samples': 45, 'num_leaves': 10}. Best is trial 54 with value: 0.5756523810136738.\n",
      "[I 2023-12-04 23:35:13,230] Trial 117 finished with value: 0.5813202087833063 and parameters: {'reg_lambda': 0.03982208835921337, 'reg_alpha': 6.180128021318406, 'colsample_bytree': 0.3, 'colsample_bynode': 1.0, 'subsample': 0.5, 'learning_rate': 0.006768622382654824, 'max_depth': 20, 'min_child_samples': 15, 'num_leaves': 12}. Best is trial 54 with value: 0.5756523810136738.\n",
      "[I 2023-12-04 23:35:17,202] Trial 118 finished with value: 0.5843153965409611 and parameters: {'reg_lambda': 0.18082323157007782, 'reg_alpha': 3.928729648651956, 'colsample_bytree': 0.4, 'colsample_bynode': 0.3, 'subsample': 0.6, 'learning_rate': 0.014313156560121752, 'max_depth': 45, 'min_child_samples': 25, 'num_leaves': 10}. Best is trial 54 with value: 0.5756523810136738.\n",
      "[I 2023-12-04 23:35:32,950] Trial 119 finished with value: 0.5849058086658907 and parameters: {'reg_lambda': 0.05490461641004309, 'reg_alpha': 7.32931040050617, 'colsample_bytree': 0.7, 'colsample_bynode': 0.4, 'subsample': 0.9, 'learning_rate': 0.005023003882337947, 'max_depth': 50, 'min_child_samples': 17, 'num_leaves': 14}. Best is trial 54 with value: 0.5756523810136738.\n",
      "[I 2023-12-04 23:35:35,464] Trial 120 finished with value: 0.5848031311795886 and parameters: {'reg_lambda': 0.11347619504609391, 'reg_alpha': 2.992502762317659, 'colsample_bytree': 0.4, 'colsample_bynode': 1.0, 'subsample': 1.0, 'learning_rate': 0.020546532147999473, 'max_depth': 40, 'min_child_samples': 35, 'num_leaves': 12}. Best is trial 54 with value: 0.5756523810136738.\n",
      "[I 2023-12-04 23:35:51,434] Trial 121 finished with value: 0.5791390445484814 and parameters: {'reg_lambda': 0.08726023152906144, 'reg_alpha': 4.324970683359243, 'colsample_bytree': 0.4, 'colsample_bynode': 1.0, 'subsample': 0.9, 'learning_rate': 0.0032264365872798646, 'max_depth': 30, 'min_child_samples': 9, 'num_leaves': 12}. Best is trial 54 with value: 0.5756523810136738.\n",
      "[I 2023-12-04 23:36:03,901] Trial 122 finished with value: 0.5811160663039385 and parameters: {'reg_lambda': 0.09567851473277332, 'reg_alpha': 5.024535642098652, 'colsample_bytree': 0.4, 'colsample_bynode': 1.0, 'subsample': 0.9, 'learning_rate': 0.0037794953917340184, 'max_depth': 30, 'min_child_samples': 9, 'num_leaves': 10}. Best is trial 54 with value: 0.5756523810136738.\n",
      "[I 2023-12-04 23:36:16,816] Trial 123 finished with value: 0.5784967496913567 and parameters: {'reg_lambda': 0.26713833211235094, 'reg_alpha': 6.357192149601555, 'colsample_bytree': 0.4, 'colsample_bynode': 1.0, 'subsample': 0.9, 'learning_rate': 0.005881050541384292, 'max_depth': 30, 'min_child_samples': 9, 'num_leaves': 12}. Best is trial 54 with value: 0.5756523810136738.\n",
      "[I 2023-12-04 23:36:30,947] Trial 124 finished with value: 0.5759637797119515 and parameters: {'reg_lambda': 0.27648840065428354, 'reg_alpha': 9.963698546499439, 'colsample_bytree': 0.4, 'colsample_bynode': 1.0, 'subsample': 0.9, 'learning_rate': 0.005969223580287785, 'max_depth': 30, 'min_child_samples': 9, 'num_leaves': 12}. Best is trial 54 with value: 0.5756523810136738.\n",
      "[I 2023-12-04 23:36:48,522] Trial 125 finished with value: 0.5767280380871603 and parameters: {'reg_lambda': 0.34235371184652924, 'reg_alpha': 8.465590209380267, 'colsample_bytree': 0.8, 'colsample_bynode': 1.0, 'subsample': 0.9, 'learning_rate': 0.008223242974959175, 'max_depth': 13, 'min_child_samples': 9, 'num_leaves': 14}. Best is trial 54 with value: 0.5756523810136738.\n",
      "[I 2023-12-04 23:37:04,157] Trial 126 finished with value: 0.5797100261825998 and parameters: {'reg_lambda': 0.3511709345472081, 'reg_alpha': 8.626216287930584, 'colsample_bytree': 0.8, 'colsample_bynode': 1.0, 'subsample': 0.9, 'learning_rate': 0.008046399057531585, 'max_depth': 45, 'min_child_samples': 9, 'num_leaves': 14}. Best is trial 54 with value: 0.5756523810136738.\n",
      "[I 2023-12-04 23:37:34,642] Trial 127 finished with value: 0.5830204720514189 and parameters: {'reg_lambda': 0.27192302564987303, 'reg_alpha': 7.446972043521029, 'colsample_bytree': 0.8, 'colsample_bynode': 1.0, 'subsample': 0.9, 'learning_rate': 0.0031382023631600347, 'max_depth': 13, 'min_child_samples': 9, 'num_leaves': 14}. Best is trial 54 with value: 0.5756523810136738.\n",
      "[I 2023-12-04 23:37:55,504] Trial 128 finished with value: 0.5794843775974158 and parameters: {'reg_lambda': 0.4645317033879171, 'reg_alpha': 9.518844669319634, 'colsample_bytree': 0.8, 'colsample_bynode': 1.0, 'subsample': 0.9, 'learning_rate': 0.006103825055626899, 'max_depth': 13, 'min_child_samples': 9, 'num_leaves': 12}. Best is trial 54 with value: 0.5756523810136738.\n",
      "[I 2023-12-04 23:38:09,541] Trial 129 finished with value: 0.5780777572942867 and parameters: {'reg_lambda': 0.7990441582140718, 'reg_alpha': 6.440399898512314, 'colsample_bytree': 0.8, 'colsample_bynode': 1.0, 'subsample': 0.9, 'learning_rate': 0.01010749144611554, 'max_depth': 13, 'min_child_samples': 9, 'num_leaves': 12}. Best is trial 54 with value: 0.5756523810136738.\n",
      "[I 2023-12-04 23:38:21,760] Trial 130 finished with value: 0.5799062567734802 and parameters: {'reg_lambda': 0.7151933246669272, 'reg_alpha': 9.834106342392067, 'colsample_bytree': 0.8, 'colsample_bynode': 1.0, 'subsample': 0.9, 'learning_rate': 0.010990667394407674, 'max_depth': 13, 'min_child_samples': 9, 'num_leaves': 14}. Best is trial 54 with value: 0.5756523810136738.\n",
      "[I 2023-12-04 23:38:34,590] Trial 131 finished with value: 0.5832362807849286 and parameters: {'reg_lambda': 0.40770015398083426, 'reg_alpha': 6.707393672113597, 'colsample_bytree': 0.8, 'colsample_bynode': 1.0, 'subsample': 0.9, 'learning_rate': 0.008382902213509439, 'max_depth': 13, 'min_child_samples': 9, 'num_leaves': 12}. Best is trial 54 with value: 0.5756523810136738.\n",
      "[I 2023-12-04 23:38:53,915] Trial 132 finished with value: 0.5833467421334265 and parameters: {'reg_lambda': 0.7496855866666188, 'reg_alpha': 6.079009349521493, 'colsample_bytree': 0.8, 'colsample_bynode': 1.0, 'subsample': 0.9, 'learning_rate': 0.005256573266111301, 'max_depth': 13, 'min_child_samples': 9, 'num_leaves': 12}. Best is trial 54 with value: 0.5756523810136738.\n",
      "[I 2023-12-04 23:39:01,689] Trial 133 finished with value: 0.5815828141769614 and parameters: {'reg_lambda': 0.30766201404918564, 'reg_alpha': 3.6255196924564115, 'colsample_bytree': 0.4, 'colsample_bynode': 1.0, 'subsample': 0.9, 'learning_rate': 0.007419195755397669, 'max_depth': 13, 'min_child_samples': 9, 'num_leaves': 12}. Best is trial 54 with value: 0.5756523810136738.\n",
      "[I 2023-12-04 23:39:16,291] Trial 134 finished with value: 0.5820111972840072 and parameters: {'reg_lambda': 0.2067201032271361, 'reg_alpha': 7.802461475484661, 'colsample_bytree': 0.8, 'colsample_bynode': 1.0, 'subsample': 0.9, 'learning_rate': 0.006001393122833515, 'max_depth': 30, 'min_child_samples': 9, 'num_leaves': 12}. Best is trial 54 with value: 0.5756523810136738.\n",
      "[I 2023-12-04 23:39:23,975] Trial 135 finished with value: 0.5802405328744897 and parameters: {'reg_lambda': 0.5509851056563067, 'reg_alpha': 4.720619465000258, 'colsample_bytree': 0.4, 'colsample_bynode': 1.0, 'subsample': 0.9, 'learning_rate': 0.009700047716102592, 'max_depth': 45, 'min_child_samples': 9, 'num_leaves': 14}. Best is trial 54 with value: 0.5756523810136738.\n",
      "[I 2023-12-04 23:39:35,093] Trial 136 finished with value: 0.5761820738641239 and parameters: {'reg_lambda': 0.9747677962853034, 'reg_alpha': 6.314529202996097, 'colsample_bytree': 0.6, 'colsample_bynode': 1.0, 'subsample': 0.9, 'learning_rate': 0.012647287033138038, 'max_depth': 30, 'min_child_samples': 9, 'num_leaves': 10}. Best is trial 54 with value: 0.5756523810136738.\n",
      "[I 2023-12-04 23:39:40,914] Trial 137 finished with value: 0.5826584698581151 and parameters: {'reg_lambda': 1.129856711413296, 'reg_alpha': 9.984180794300178, 'colsample_bytree': 0.6, 'colsample_bynode': 1.0, 'subsample': 0.9, 'learning_rate': 0.011987673125842879, 'max_depth': 45, 'min_child_samples': 9, 'num_leaves': 10}. Best is trial 54 with value: 0.5756523810136738.\n",
      "[I 2023-12-04 23:39:47,688] Trial 138 finished with value: 0.5778658704001028 and parameters: {'reg_lambda': 0.7620821717790448, 'reg_alpha': 5.995900717384861, 'colsample_bytree': 0.6, 'colsample_bynode': 1.0, 'subsample': 0.9, 'learning_rate': 0.014438973186938462, 'max_depth': 13, 'min_child_samples': 9, 'num_leaves': 10}. Best is trial 54 with value: 0.5756523810136738.\n",
      "[I 2023-12-04 23:39:52,716] Trial 139 finished with value: 0.5815509418185763 and parameters: {'reg_lambda': 1.5553665742477816, 'reg_alpha': 6.198676365432228, 'colsample_bytree': 0.6, 'colsample_bynode': 1.0, 'subsample': 0.9, 'learning_rate': 0.013517264800805298, 'max_depth': 13, 'min_child_samples': 9, 'num_leaves': 10}. Best is trial 54 with value: 0.5756523810136738.\n",
      "[I 2023-12-04 23:40:03,670] Trial 140 finished with value: 0.581010466646141 and parameters: {'reg_lambda': 1.0002939822803136, 'reg_alpha': 7.5444827201735585, 'colsample_bytree': 0.6, 'colsample_bynode': 0.7, 'subsample': 0.9, 'learning_rate': 0.01003767205664051, 'max_depth': 13, 'min_child_samples': 9, 'num_leaves': 10}. Best is trial 54 with value: 0.5756523810136738.\n",
      "[I 2023-12-04 23:40:09,085] Trial 141 finished with value: 0.5803660013637733 and parameters: {'reg_lambda': 0.7976498590081081, 'reg_alpha': 6.0836575589756485, 'colsample_bytree': 0.6, 'colsample_bynode': 1.0, 'subsample': 0.9, 'learning_rate': 0.01544022862376442, 'max_depth': 13, 'min_child_samples': 9, 'num_leaves': 10}. Best is trial 54 with value: 0.5756523810136738.\n",
      "[I 2023-12-04 23:40:23,098] Trial 142 finished with value: 0.5789534366893291 and parameters: {'reg_lambda': 0.543500275279973, 'reg_alpha': 7.837234430794787, 'colsample_bytree': 0.6, 'colsample_bynode': 1.0, 'subsample': 0.9, 'learning_rate': 0.00816732735197541, 'max_depth': 45, 'min_child_samples': 9, 'num_leaves': 10}. Best is trial 54 with value: 0.5756523810136738.\n",
      "[I 2023-12-04 23:40:30,171] Trial 143 finished with value: 0.5830866421880645 and parameters: {'reg_lambda': 0.5492893956975742, 'reg_alpha': 5.204695183342452, 'colsample_bytree': 0.6, 'colsample_bynode': 1.0, 'subsample': 0.9, 'learning_rate': 0.008574405260335937, 'max_depth': 13, 'min_child_samples': 9, 'num_leaves': 10}. Best is trial 54 with value: 0.5756523810136738.\n",
      "[I 2023-12-04 23:40:37,222] Trial 144 finished with value: 0.5776537799094721 and parameters: {'reg_lambda': 0.3865743794348256, 'reg_alpha': 3.754235788789201, 'colsample_bytree': 0.6, 'colsample_bynode': 0.9, 'subsample': 0.9, 'learning_rate': 0.013381258304308198, 'max_depth': 30, 'min_child_samples': 9, 'num_leaves': 12}. Best is trial 54 with value: 0.5756523810136738.\n",
      "[I 2023-12-04 23:40:43,394] Trial 145 finished with value: 0.574076113192884 and parameters: {'reg_lambda': 0.3429800108155362, 'reg_alpha': 3.194364511840987, 'colsample_bytree': 0.6, 'colsample_bynode': 0.9, 'subsample': 0.9, 'learning_rate': 0.017699188262384626, 'max_depth': 30, 'min_child_samples': 9, 'num_leaves': 12}. Best is trial 145 with value: 0.574076113192884.\n",
      "[I 2023-12-04 23:40:54,647] Trial 146 finished with value: 0.5846820407008614 and parameters: {'reg_lambda': 0.3470496634863349, 'reg_alpha': 3.4840857654155295, 'colsample_bytree': 0.6, 'colsample_bynode': 0.9, 'subsample': 0.7, 'learning_rate': 0.018499042479089654, 'max_depth': 30, 'min_child_samples': 9, 'num_leaves': 34}. Best is trial 145 with value: 0.574076113192884.\n",
      "[I 2023-12-04 23:41:01,937] Trial 147 finished with value: 0.5796277379111223 and parameters: {'reg_lambda': 0.26885232274065496, 'reg_alpha': 2.393795315276598, 'colsample_bytree': 0.6, 'colsample_bynode': 0.9, 'subsample': 0.9, 'learning_rate': 0.013210019998057864, 'max_depth': 30, 'min_child_samples': 9, 'num_leaves': 12}. Best is trial 145 with value: 0.574076113192884.\n",
      "[I 2023-12-04 23:41:08,376] Trial 148 finished with value: 0.5800813937436526 and parameters: {'reg_lambda': 0.8622268445245106, 'reg_alpha': 3.1937209450144124, 'colsample_bytree': 0.6, 'colsample_bynode': 0.9, 'subsample': 0.9, 'learning_rate': 0.01629988868122683, 'max_depth': 30, 'min_child_samples': 13, 'num_leaves': 12}. Best is trial 145 with value: 0.574076113192884.\n",
      "[I 2023-12-04 23:41:16,586] Trial 149 finished with value: 0.5816091228103458 and parameters: {'reg_lambda': 0.3727057118144371, 'reg_alpha': 1.8998410390646638, 'colsample_bytree': 0.6, 'colsample_bynode': 0.9, 'subsample': 0.9, 'learning_rate': 0.01102393189660234, 'max_depth': 30, 'min_child_samples': 9, 'num_leaves': 12}. Best is trial 145 with value: 0.574076113192884.\n"
     ]
    },
    {
     "name": "stdout",
     "output_type": "stream",
     "text": [
      "Number of finished trials: 150\n",
      "Best trial: {'reg_lambda': 0.3429800108155362, 'reg_alpha': 3.194364511840987, 'colsample_bytree': 0.6, 'colsample_bynode': 0.9, 'subsample': 0.9, 'learning_rate': 0.017699188262384626, 'max_depth': 30, 'min_child_samples': 9, 'num_leaves': 12}\n"
     ]
    }
   ],
   "source": [
    "study = optuna.create_study(direction='minimize')\n",
    "study.optimize(objective, n_trials=150)\n",
    "print('Number of finished trials:', len(study.trials))\n",
    "print('Best trial:', study.best_trial.params)"
   ]
  },
  {
   "cell_type": "code",
   "execution_count": 40,
   "metadata": {},
   "outputs": [
    {
     "data": {
      "text/html": [
       "<div>\n",
       "<style scoped>\n",
       "    .dataframe tbody tr th:only-of-type {\n",
       "        vertical-align: middle;\n",
       "    }\n",
       "\n",
       "    .dataframe tbody tr th {\n",
       "        vertical-align: top;\n",
       "    }\n",
       "\n",
       "    .dataframe thead th {\n",
       "        text-align: right;\n",
       "    }\n",
       "</style>\n",
       "<table border=\"1\" class=\"dataframe\">\n",
       "  <thead>\n",
       "    <tr style=\"text-align: right;\">\n",
       "      <th></th>\n",
       "      <th>number</th>\n",
       "      <th>value</th>\n",
       "      <th>datetime_start</th>\n",
       "      <th>datetime_complete</th>\n",
       "      <th>duration</th>\n",
       "      <th>params_colsample_bynode</th>\n",
       "      <th>params_colsample_bytree</th>\n",
       "      <th>params_learning_rate</th>\n",
       "      <th>params_max_depth</th>\n",
       "      <th>params_min_child_samples</th>\n",
       "      <th>params_num_leaves</th>\n",
       "      <th>params_reg_alpha</th>\n",
       "      <th>params_reg_lambda</th>\n",
       "      <th>params_subsample</th>\n",
       "      <th>state</th>\n",
       "    </tr>\n",
       "  </thead>\n",
       "  <tbody>\n",
       "    <tr>\n",
       "      <th>145</th>\n",
       "      <td>145</td>\n",
       "      <td>0.574076</td>\n",
       "      <td>2023-12-04 23:40:37.223060</td>\n",
       "      <td>2023-12-04 23:40:43.394825</td>\n",
       "      <td>0 days 00:00:06.171765</td>\n",
       "      <td>0.9</td>\n",
       "      <td>0.6</td>\n",
       "      <td>0.017699</td>\n",
       "      <td>30</td>\n",
       "      <td>9</td>\n",
       "      <td>12</td>\n",
       "      <td>3.194365</td>\n",
       "      <td>0.342980</td>\n",
       "      <td>0.9</td>\n",
       "      <td>COMPLETE</td>\n",
       "    </tr>\n",
       "    <tr>\n",
       "      <th>54</th>\n",
       "      <td>54</td>\n",
       "      <td>0.575652</td>\n",
       "      <td>2023-12-04 23:21:02.652005</td>\n",
       "      <td>2023-12-04 23:21:14.556557</td>\n",
       "      <td>0 days 00:00:11.904552</td>\n",
       "      <td>1.0</td>\n",
       "      <td>0.4</td>\n",
       "      <td>0.007230</td>\n",
       "      <td>45</td>\n",
       "      <td>17</td>\n",
       "      <td>10</td>\n",
       "      <td>6.917574</td>\n",
       "      <td>0.117548</td>\n",
       "      <td>0.9</td>\n",
       "      <td>COMPLETE</td>\n",
       "    </tr>\n",
       "    <tr>\n",
       "      <th>124</th>\n",
       "      <td>124</td>\n",
       "      <td>0.575964</td>\n",
       "      <td>2023-12-04 23:36:16.817280</td>\n",
       "      <td>2023-12-04 23:36:30.947154</td>\n",
       "      <td>0 days 00:00:14.129874</td>\n",
       "      <td>1.0</td>\n",
       "      <td>0.4</td>\n",
       "      <td>0.005969</td>\n",
       "      <td>30</td>\n",
       "      <td>9</td>\n",
       "      <td>12</td>\n",
       "      <td>9.963699</td>\n",
       "      <td>0.276488</td>\n",
       "      <td>0.9</td>\n",
       "      <td>COMPLETE</td>\n",
       "    </tr>\n",
       "    <tr>\n",
       "      <th>136</th>\n",
       "      <td>136</td>\n",
       "      <td>0.576182</td>\n",
       "      <td>2023-12-04 23:39:23.976717</td>\n",
       "      <td>2023-12-04 23:39:35.093411</td>\n",
       "      <td>0 days 00:00:11.116694</td>\n",
       "      <td>1.0</td>\n",
       "      <td>0.6</td>\n",
       "      <td>0.012647</td>\n",
       "      <td>30</td>\n",
       "      <td>9</td>\n",
       "      <td>10</td>\n",
       "      <td>6.314529</td>\n",
       "      <td>0.974768</td>\n",
       "      <td>0.9</td>\n",
       "      <td>COMPLETE</td>\n",
       "    </tr>\n",
       "    <tr>\n",
       "      <th>125</th>\n",
       "      <td>125</td>\n",
       "      <td>0.576728</td>\n",
       "      <td>2023-12-04 23:36:30.948154</td>\n",
       "      <td>2023-12-04 23:36:48.521055</td>\n",
       "      <td>0 days 00:00:17.572901</td>\n",
       "      <td>1.0</td>\n",
       "      <td>0.8</td>\n",
       "      <td>0.008223</td>\n",
       "      <td>13</td>\n",
       "      <td>9</td>\n",
       "      <td>14</td>\n",
       "      <td>8.465590</td>\n",
       "      <td>0.342354</td>\n",
       "      <td>0.9</td>\n",
       "      <td>COMPLETE</td>\n",
       "    </tr>\n",
       "    <tr>\n",
       "      <th>...</th>\n",
       "      <td>...</td>\n",
       "      <td>...</td>\n",
       "      <td>...</td>\n",
       "      <td>...</td>\n",
       "      <td>...</td>\n",
       "      <td>...</td>\n",
       "      <td>...</td>\n",
       "      <td>...</td>\n",
       "      <td>...</td>\n",
       "      <td>...</td>\n",
       "      <td>...</td>\n",
       "      <td>...</td>\n",
       "      <td>...</td>\n",
       "      <td>...</td>\n",
       "      <td>...</td>\n",
       "    </tr>\n",
       "    <tr>\n",
       "      <th>7</th>\n",
       "      <td>7</td>\n",
       "      <td>0.593613</td>\n",
       "      <td>2023-12-04 22:57:26.264460</td>\n",
       "      <td>2023-12-04 22:57:36.510887</td>\n",
       "      <td>0 days 00:00:10.246427</td>\n",
       "      <td>0.7</td>\n",
       "      <td>0.8</td>\n",
       "      <td>0.029422</td>\n",
       "      <td>11</td>\n",
       "      <td>25</td>\n",
       "      <td>28</td>\n",
       "      <td>0.000383</td>\n",
       "      <td>0.003108</td>\n",
       "      <td>0.6</td>\n",
       "      <td>COMPLETE</td>\n",
       "    </tr>\n",
       "    <tr>\n",
       "      <th>2</th>\n",
       "      <td>2</td>\n",
       "      <td>0.607439</td>\n",
       "      <td>2023-12-04 22:43:57.943956</td>\n",
       "      <td>2023-12-04 22:47:27.291668</td>\n",
       "      <td>0 days 00:03:29.347712</td>\n",
       "      <td>1.0</td>\n",
       "      <td>1.0</td>\n",
       "      <td>0.000211</td>\n",
       "      <td>9</td>\n",
       "      <td>40</td>\n",
       "      <td>14</td>\n",
       "      <td>0.255294</td>\n",
       "      <td>0.032547</td>\n",
       "      <td>0.6</td>\n",
       "      <td>COMPLETE</td>\n",
       "    </tr>\n",
       "    <tr>\n",
       "      <th>9</th>\n",
       "      <td>9</td>\n",
       "      <td>0.644155</td>\n",
       "      <td>2023-12-04 22:57:43.159823</td>\n",
       "      <td>2023-12-04 23:05:35.025058</td>\n",
       "      <td>0 days 00:07:51.865235</td>\n",
       "      <td>0.9</td>\n",
       "      <td>0.7</td>\n",
       "      <td>0.000137</td>\n",
       "      <td>45</td>\n",
       "      <td>15</td>\n",
       "      <td>36</td>\n",
       "      <td>0.000120</td>\n",
       "      <td>0.005253</td>\n",
       "      <td>1.0</td>\n",
       "      <td>COMPLETE</td>\n",
       "    </tr>\n",
       "    <tr>\n",
       "      <th>4</th>\n",
       "      <td>4</td>\n",
       "      <td>0.665031</td>\n",
       "      <td>2023-12-04 22:47:42.165219</td>\n",
       "      <td>2023-12-04 22:51:22.048615</td>\n",
       "      <td>0 days 00:03:39.883396</td>\n",
       "      <td>0.5</td>\n",
       "      <td>0.8</td>\n",
       "      <td>0.000117</td>\n",
       "      <td>9</td>\n",
       "      <td>40</td>\n",
       "      <td>18</td>\n",
       "      <td>0.009382</td>\n",
       "      <td>0.000190</td>\n",
       "      <td>1.0</td>\n",
       "      <td>COMPLETE</td>\n",
       "    </tr>\n",
       "    <tr>\n",
       "      <th>5</th>\n",
       "      <td>5</td>\n",
       "      <td>0.931002</td>\n",
       "      <td>2023-12-04 22:51:22.050615</td>\n",
       "      <td>2023-12-04 22:53:45.253714</td>\n",
       "      <td>0 days 00:02:23.203099</td>\n",
       "      <td>1.0</td>\n",
       "      <td>0.4</td>\n",
       "      <td>0.000013</td>\n",
       "      <td>35</td>\n",
       "      <td>11</td>\n",
       "      <td>20</td>\n",
       "      <td>0.004726</td>\n",
       "      <td>0.149359</td>\n",
       "      <td>0.8</td>\n",
       "      <td>COMPLETE</td>\n",
       "    </tr>\n",
       "  </tbody>\n",
       "</table>\n",
       "<p>150 rows × 15 columns</p>\n",
       "</div>"
      ],
      "text/plain": [
       "     number     value             datetime_start          datetime_complete  \\\n",
       "145     145  0.574076 2023-12-04 23:40:37.223060 2023-12-04 23:40:43.394825   \n",
       "54       54  0.575652 2023-12-04 23:21:02.652005 2023-12-04 23:21:14.556557   \n",
       "124     124  0.575964 2023-12-04 23:36:16.817280 2023-12-04 23:36:30.947154   \n",
       "136     136  0.576182 2023-12-04 23:39:23.976717 2023-12-04 23:39:35.093411   \n",
       "125     125  0.576728 2023-12-04 23:36:30.948154 2023-12-04 23:36:48.521055   \n",
       "..      ...       ...                        ...                        ...   \n",
       "7         7  0.593613 2023-12-04 22:57:26.264460 2023-12-04 22:57:36.510887   \n",
       "2         2  0.607439 2023-12-04 22:43:57.943956 2023-12-04 22:47:27.291668   \n",
       "9         9  0.644155 2023-12-04 22:57:43.159823 2023-12-04 23:05:35.025058   \n",
       "4         4  0.665031 2023-12-04 22:47:42.165219 2023-12-04 22:51:22.048615   \n",
       "5         5  0.931002 2023-12-04 22:51:22.050615 2023-12-04 22:53:45.253714   \n",
       "\n",
       "                  duration  params_colsample_bynode  params_colsample_bytree  \\\n",
       "145 0 days 00:00:06.171765                      0.9                      0.6   \n",
       "54  0 days 00:00:11.904552                      1.0                      0.4   \n",
       "124 0 days 00:00:14.129874                      1.0                      0.4   \n",
       "136 0 days 00:00:11.116694                      1.0                      0.6   \n",
       "125 0 days 00:00:17.572901                      1.0                      0.8   \n",
       "..                     ...                      ...                      ...   \n",
       "7   0 days 00:00:10.246427                      0.7                      0.8   \n",
       "2   0 days 00:03:29.347712                      1.0                      1.0   \n",
       "9   0 days 00:07:51.865235                      0.9                      0.7   \n",
       "4   0 days 00:03:39.883396                      0.5                      0.8   \n",
       "5   0 days 00:02:23.203099                      1.0                      0.4   \n",
       "\n",
       "     params_learning_rate  params_max_depth  params_min_child_samples  \\\n",
       "145              0.017699                30                         9   \n",
       "54               0.007230                45                        17   \n",
       "124              0.005969                30                         9   \n",
       "136              0.012647                30                         9   \n",
       "125              0.008223                13                         9   \n",
       "..                    ...               ...                       ...   \n",
       "7                0.029422                11                        25   \n",
       "2                0.000211                 9                        40   \n",
       "9                0.000137                45                        15   \n",
       "4                0.000117                 9                        40   \n",
       "5                0.000013                35                        11   \n",
       "\n",
       "     params_num_leaves  params_reg_alpha  params_reg_lambda  params_subsample  \\\n",
       "145                 12          3.194365           0.342980               0.9   \n",
       "54                  10          6.917574           0.117548               0.9   \n",
       "124                 12          9.963699           0.276488               0.9   \n",
       "136                 10          6.314529           0.974768               0.9   \n",
       "125                 14          8.465590           0.342354               0.9   \n",
       "..                 ...               ...                ...               ...   \n",
       "7                   28          0.000383           0.003108               0.6   \n",
       "2                   14          0.255294           0.032547               0.6   \n",
       "9                   36          0.000120           0.005253               1.0   \n",
       "4                   18          0.009382           0.000190               1.0   \n",
       "5                   20          0.004726           0.149359               0.8   \n",
       "\n",
       "        state  \n",
       "145  COMPLETE  \n",
       "54   COMPLETE  \n",
       "124  COMPLETE  \n",
       "136  COMPLETE  \n",
       "125  COMPLETE  \n",
       "..        ...  \n",
       "7    COMPLETE  \n",
       "2    COMPLETE  \n",
       "9    COMPLETE  \n",
       "4    COMPLETE  \n",
       "5    COMPLETE  \n",
       "\n",
       "[150 rows x 15 columns]"
      ]
     },
     "execution_count": 40,
     "metadata": {},
     "output_type": "execute_result"
    }
   ],
   "source": [
    "study.trials_dataframe().sort_values(by='value', ascending=True)"
   ]
  },
  {
   "cell_type": "markdown",
   "metadata": {},
   "source": [
    "## Test best model"
   ]
  },
  {
   "cell_type": "code",
   "execution_count": 53,
   "metadata": {},
   "outputs": [
    {
     "data": {
      "text/plain": [
       "3209"
      ]
     },
     "execution_count": 53,
     "metadata": {},
     "output_type": "execute_result"
    }
   ],
   "source": [
    "len(train_cols)"
   ]
  },
  {
   "cell_type": "code",
   "execution_count": 55,
   "metadata": {},
   "outputs": [],
   "source": [
    "import pickle\n",
    "\n",
    "with open('reduced_train_cols.pkl', 'wb') as f:\n",
    "    pickle.dump(train_cols, f)"
   ]
  },
  {
   "cell_type": "code",
   "execution_count": 41,
   "metadata": {},
   "outputs": [
    {
     "name": "stdout",
     "output_type": "stream",
     "text": [
      "{'reg_lambda': 0.3429800108155362, 'reg_alpha': 3.194364511840987, 'colsample_bytree': 0.6, 'colsample_bynode': 0.9, 'subsample': 0.9, 'learning_rate': 0.017699188262384626, 'max_depth': 30, 'min_child_samples': 9, 'num_leaves': 12}\n"
     ]
    }
   ],
   "source": [
    "best_trial = study.best_trial.params\n",
    "print(best_trial)"
   ]
  },
  {
   "cell_type": "code",
   "execution_count": 42,
   "metadata": {},
   "outputs": [],
   "source": [
    "OOF_PREDS = np.zeros((len(train_feats), 2))\n",
    "# TEST_PREDS = np.zeros((len(test_feats), 2))\n",
    "\n",
    "models_dict = {}\n",
    "scores = []\n",
    "preds_dict = {}\n",
    "count = 0\n",
    "for _ in train_logs_df['id'].unique():\n",
    "    preds_dict[count] = []\n",
    "    count+=1\n",
    "\n",
    "# test_predict_list = []\n",
    "\n",
    "for i in range(5): \n",
    "    kf = model_selection.KFold(n_splits=10, random_state=42 + i, shuffle=True)\n",
    "    oof_valid_preds = np.zeros(train_feats.shape[0])\n",
    "    # X_test = test_feats[train_cols]\n",
    "    for fold, (train_idx, valid_idx) in enumerate(kf.split(train_feats)):\n",
    "        \n",
    "        X_train, y_train = train_feats.iloc[train_idx][train_cols], train_feats.iloc[train_idx][target_col]\n",
    "        X_valid, y_valid = train_feats.iloc[valid_idx][train_cols], train_feats.iloc[valid_idx][target_col]\n",
    "        best_params = {\n",
    "                \"objective\": \"rmse\",\n",
    "                \"metric\": \"rmse\",\n",
    "                'random_state': 42,\n",
    "                \"n_estimators\" : 10000,\n",
    "                \"verbosity\": -1,\n",
    "                \"n_jobs\": -1,\n",
    "                **best_trial\n",
    "            }\n",
    "        model = lgb.LGBMRegressor(**best_params)\n",
    "        early_stopping_callback = lgb.early_stopping(50, first_metric_only=True, verbose=False)\n",
    "        \n",
    "        model.fit(X_train, y_train, eval_set=[(X_valid, y_valid)],  \n",
    "                  callbacks=[early_stopping_callback],\n",
    "        )\n",
    "\n",
    "        valid_predict = model.predict(X_valid)\n",
    "\n",
    "        for count, idx in enumerate(valid_idx):\n",
    "            preds_dict[idx].append(valid_predict[count])\n",
    "\n",
    "        oof_valid_preds[valid_idx] = valid_predict\n",
    "        # OOF_PREDS[valid_idx, 0] += valid_predict / 5\n",
    "        OOF_PREDS[valid_idx, 0] = valid_predict \n",
    "\n",
    "\n",
    "        # test_predict = model.predict(X_test)\n",
    "        # TEST_PREDS[:, 0] += test_predict / 5 / 10\n",
    "        # test_predict_list.append(test_predict)\n",
    "        score = metrics.mean_squared_error(y_valid, valid_predict, squared=False)\n",
    "        models_dict[f'{fold}_{i}'] = model\n",
    "\n",
    "    oof_score = metrics.mean_squared_error(train_feats[target_col], oof_valid_preds, squared=False)\n",
    "    scores.append(oof_score)"
   ]
  },
  {
   "cell_type": "code",
   "execution_count": 43,
   "metadata": {},
   "outputs": [
    {
     "name": "stdout",
     "output_type": "stream",
     "text": [
      "OOF metric LGBM = 0.61374\n"
     ]
    }
   ],
   "source": [
    "means = []\n",
    "stds = []\n",
    "\n",
    "for idx in preds_dict:\n",
    "    means.append(np.mean(preds_dict[idx]))\n",
    "    stds.append(np.std(preds_dict[idx]))\n",
    "    \n",
    "print('OOF metric LGBM = {:.5f}'.format(metrics.mean_squared_error(train_feats[target_col], \n",
    "                                                                   means,\n",
    "                                                                   squared=False)))"
   ]
  },
  {
   "cell_type": "markdown",
   "metadata": {},
   "source": [
    "## Quantiles"
   ]
  },
  {
   "cell_type": "code",
   "execution_count": 44,
   "metadata": {},
   "outputs": [],
   "source": [
    "# OOF_PREDS1 = np.zeros((len(train_feats), 1))\n",
    "# OOF_PREDS2 = np.zeros((len(train_feats), 1))\n",
    "# OOF_PREDS3 = np.zeros((len(train_feats), 1))\n",
    "# # TEST_PREDS = np.zeros((len(test_feats), 2))\n",
    "\n",
    "# models_dict = {}\n",
    "# scores = []\n",
    "# preds_dict = {}\n",
    "# preds_dict['0.1'] = {}\n",
    "# preds_dict['0.5'] = {}\n",
    "# preds_dict['0.9'] = {}\n",
    "\n",
    "\n",
    "# for i in [0.1,0.5,0.9]:\n",
    "#     count = 0\n",
    "#     for _ in train_logs_df['id'].unique():\n",
    "#         preds_dict[str(i)][count] = []\n",
    "#         count+=1\n",
    "\n",
    "# # test_predict_list = []\n",
    "\n",
    "# for i in range(5):\n",
    "#     kf = model_selection.KFold(n_splits=10, random_state=42 + i, shuffle=True)\n",
    "#     oof_valid_preds = np.zeros(train_feats.shape[0])\n",
    "#     # X_test = test_feats[train_cols]\n",
    "#     for fold, (train_idx, valid_idx) in enumerate(kf.split(train_feats)):\n",
    "        \n",
    "#         X_train, y_train = train_feats.iloc[train_idx][train_cols], train_feats.iloc[train_idx][target_col]\n",
    "#         X_valid, y_valid = train_feats.iloc[valid_idx][train_cols], train_feats.iloc[valid_idx][target_col]\n",
    "#         best_params = {\n",
    "#                 \"objective\": \"quantile\",\n",
    "#                 \"metric\": \"rmse\",\n",
    "#                 'random_state': 42+i,\n",
    "#                 # \"n_estimators\" : 12001,\n",
    "#                 \"verbosity\": -1,\n",
    "#                 \"n_jobs\": -1,\n",
    "#                 **best_trial\n",
    "#             }\n",
    "        \n",
    "#         for alpha_, oof_ in zip([0.1, 0.5, 0.9], [OOF_PREDS1, OOF_PREDS2, OOF_PREDS3]):\n",
    "#             model = lgb.LGBMRegressor(**best_params, alpha=alpha_)\n",
    "#             early_stopping_callback = lgb.early_stopping(50, first_metric_only=True, verbose=False)\n",
    "            \n",
    "#             model.fit(X_train, y_train, eval_set=[(X_valid, y_valid)],\n",
    "#                     callbacks=[early_stopping_callback],\n",
    "#             )\n",
    "\n",
    "#             valid_predict = model.predict(X_valid)\n",
    "\n",
    "#             for count, idx in enumerate(valid_idx):\n",
    "#                 preds_dict[str(alpha_)][idx].append(valid_predict[count])\n",
    "\n",
    "#             # oof_valid_preds[valid_idx] = valid_predict\n",
    "#             # OOF_PREDS[valid_idx, 0] += valid_predict / 5\n",
    "#             oof_[valid_idx, 0] = valid_predict\n",
    "\n",
    "\n",
    "#             # test_predict = model.predict(X_test)\n",
    "#             # TEST_PREDS[:, 0] += test_predict / 5 / 10\n",
    "#             # test_predict_list.append(test_predict)\n",
    "#             # score = metrics.mean_squared_error(y_valid, valid_predict, squared=False)\n",
    "#             models_dict[f'{fold}_{i}'] = model\n",
    "\n",
    "#     # oof_score = metrics.mean_squared_error(train_feats[target_col], oof_valid_preds, squared=False)\n",
    "#     # scores.append(oof_score)"
   ]
  },
  {
   "cell_type": "code",
   "execution_count": 45,
   "metadata": {},
   "outputs": [],
   "source": [
    "# means = []\n",
    "# stds = []\n",
    "\n",
    "# for idx in preds_dict['0.9']:\n",
    "#     means.append(np.mean(preds_dict['0.9'][idx]))\n",
    "#     stds.append(np.std(preds_dict['0.9'][idx]))"
   ]
  },
  {
   "cell_type": "code",
   "execution_count": 46,
   "metadata": {},
   "outputs": [
    {
     "name": "stdout",
     "output_type": "stream",
     "text": [
      "OOF metric LGBM = 1.20673\n"
     ]
    }
   ],
   "source": [
    "# print('OOF metric LGBM = {:.5f}'.format(metrics.mean_squared_error(train_feats[target_col], \n",
    "#                                                                    means,\n",
    "#                                                                    squared=False)))"
   ]
  },
  {
   "cell_type": "markdown",
   "metadata": {},
   "source": [
    "## Analyze errors"
   ]
  },
  {
   "cell_type": "code",
   "execution_count": 47,
   "metadata": {},
   "outputs": [
    {
     "data": {
      "image/png": "[encoded data removed]",
      "text/plain": [
       "<Figure size 600x600 with 1 Axes>"
      ]
     },
     "metadata": {},
     "output_type": "display_data"
    }
   ],
   "source": [
    "f, ax = plt.subplots(figsize=(6, 6))\n",
    "ax.scatter(means, train_scores_df['score'])\n",
    "add_identity(ax, color='r', ls='--')\n",
    "# ax.scatter(stds, train_scores_df['score']-means)\n",
    "plt.ylabel('True Values')\n",
    "plt.xlabel('Predictions')\n",
    "\n",
    "plt.show()"
   ]
  },
  {
   "cell_type": "code",
   "execution_count": 48,
   "metadata": {},
   "outputs": [
    {
     "data": {
      "text/plain": [
       "(array([491., 955., 596., 248., 101.,  36.,  23.,  12.,   7.,   2.]),\n",
       " array([0.00259067, 0.01846898, 0.03434728, 0.05022559, 0.0661039 ,\n",
       "        0.0819822 , 0.09786051, 0.11373881, 0.12961712, 0.14549542,\n",
       "        0.16137373]),\n",
       " <BarContainer object of 10 artists>)"
      ]
     },
     "execution_count": 48,
     "metadata": {},
     "output_type": "execute_result"
    },
    {
     "data": {
      "image/png": "[encoded data removed]",
      "text/plain": [
       "<Figure size 640x480 with 1 Axes>"
      ]
     },
     "metadata": {},
     "output_type": "display_data"
    }
   ],
   "source": [
    "plt.hist(stds)"
   ]
  },
  {
   "cell_type": "code",
   "execution_count": 49,
   "metadata": {},
   "outputs": [],
   "source": [
    "x = pd.DataFrame()\n",
    "x['means'] = means\n",
    "x['stds'] = stds\n",
    "x['target'] = train_scores_df['score']"
   ]
  },
  {
   "cell_type": "code",
   "execution_count": 50,
   "metadata": {},
   "outputs": [],
   "source": [
    "x['residuals'] = np.abs(x['means'] - x['target'])"
   ]
  },
  {
   "cell_type": "code",
   "execution_count": 51,
   "metadata": {},
   "outputs": [],
   "source": [
    "x.sort_values(by='stds', ascending=False, inplace=True)"
   ]
  },
  {
   "cell_type": "code",
   "execution_count": 52,
   "metadata": {},
   "outputs": [
    {
     "data": {
      "image/png": "[encoded data removed]",
      "text/plain": [
       "<Figure size 600x600 with 1 Axes>"
      ]
     },
     "metadata": {},
     "output_type": "display_data"
    }
   ],
   "source": [
    "f, ax = plt.subplots(figsize=(6, 6))\n",
    "\n",
    "x_ = x['means'].tail(100)\n",
    "# x_ = round_to_half(x_, round_up=True)\n",
    "y = x['target'].tail(100)\n",
    "\n",
    "mse = metrics.mean_squared_error(x_, y, squared=False)\n",
    "\n",
    "ax.scatter(x_, y)\n",
    "plt.xlabel('mean')\n",
    "plt.title(f'RMSE: {mse:.3f}')\n",
    "add_identity(ax, color='r', ls='--')\n",
    "plt.show()"
   ]
  }
 ],
 "metadata": {
  "kernelspec": {
   "display_name": "Python 3",
   "language": "python",
   "name": "python3"
  },
  "language_info": {
   "codemirror_mode": {
    "name": "ipython",
    "version": 3
   },
   "file_extension": ".py",
   "mimetype": "text/x-python",
   "name": "python",
   "nbconvert_exporter": "python",
   "pygments_lexer": "ipython3",
   "version": "3.10.5"
  }
 },
 "nbformat": 4,
 "nbformat_minor": 2
}
